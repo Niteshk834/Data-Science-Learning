{
 "cells": [
  {
   "cell_type": "markdown",
   "id": "2c875dd4-485c-42bd-8239-60862518c932",
   "metadata": {},
   "source": [
    "# Numpy Part 3"
   ]
  },
  {
   "cell_type": "code",
   "execution_count": 1,
   "id": "b25f1ffa-79f6-4627-bb74-90c4804cafa5",
   "metadata": {},
   "outputs": [],
   "source": [
    "import numpy as np"
   ]
  },
  {
   "cell_type": "markdown",
   "id": "0d17a269-2f47-42a8-8c15-c6522a95c0a7",
   "metadata": {},
   "source": [
    "#### Array Manuplulation"
   ]
  },
  {
   "cell_type": "code",
   "execution_count": 3,
   "id": "da4c31d5-0330-47d5-867e-9a529b065e61",
   "metadata": {},
   "outputs": [],
   "source": [
    "arr=np.random.randint(1,10,(4,4))"
   ]
  },
  {
   "cell_type": "code",
   "execution_count": 4,
   "id": "b16e619e-e3b2-4cd5-a620-267c21d7daff",
   "metadata": {},
   "outputs": [
    {
     "data": {
      "text/plain": [
       "array([[8, 1, 3, 3],\n",
       "       [4, 9, 6, 7],\n",
       "       [8, 2, 4, 5],\n",
       "       [1, 4, 8, 6]])"
      ]
     },
     "execution_count": 4,
     "metadata": {},
     "output_type": "execute_result"
    }
   ],
   "source": [
    "arr"
   ]
  },
  {
   "cell_type": "code",
   "execution_count": 5,
   "id": "1291d605-041e-4fb6-8586-c8d41b01ce7f",
   "metadata": {},
   "outputs": [
    {
     "data": {
      "text/plain": [
       "array([[8, 1],\n",
       "       [3, 3],\n",
       "       [4, 9],\n",
       "       [6, 7],\n",
       "       [8, 2],\n",
       "       [4, 5],\n",
       "       [1, 4],\n",
       "       [8, 6]])"
      ]
     },
     "execution_count": 5,
     "metadata": {},
     "output_type": "execute_result"
    }
   ],
   "source": [
    "arr.reshape(8,2)"
   ]
  },
  {
   "cell_type": "code",
   "execution_count": 8,
   "id": "e253f4d0-5576-41e1-98a1-4c17649cf6b3",
   "metadata": {},
   "outputs": [
    {
     "data": {
      "text/plain": [
       "array([[8, 1, 3, 3],\n",
       "       [4, 9, 6, 7],\n",
       "       [8, 2, 4, 5],\n",
       "       [1, 4, 8, 6]])"
      ]
     },
     "execution_count": 8,
     "metadata": {},
     "output_type": "execute_result"
    }
   ],
   "source": [
    "arr"
   ]
  },
  {
   "cell_type": "code",
   "execution_count": 9,
   "id": "469b16e9-4c32-4088-9821-11f7a82f0b23",
   "metadata": {},
   "outputs": [
    {
     "data": {
      "text/plain": [
       "array([[8, 4, 8, 1],\n",
       "       [1, 9, 2, 4],\n",
       "       [3, 6, 4, 8],\n",
       "       [3, 7, 5, 6]])"
      ]
     },
     "execution_count": 9,
     "metadata": {},
     "output_type": "execute_result"
    }
   ],
   "source": [
    "arr.T"
   ]
  },
  {
   "cell_type": "code",
   "execution_count": 10,
   "id": "a3318c07-e44a-4fa1-8624-6b7139eac2f1",
   "metadata": {},
   "outputs": [
    {
     "data": {
      "text/plain": [
       "array([8, 1, 3, 3, 4, 9, 6, 7, 8, 2, 4, 5, 1, 4, 8, 6])"
      ]
     },
     "execution_count": 10,
     "metadata": {},
     "output_type": "execute_result"
    }
   ],
   "source": [
    "arr.flatten()"
   ]
  },
  {
   "cell_type": "code",
   "execution_count": 11,
   "id": "8b1e9fce-8bb0-43a6-aecb-20d8b056a550",
   "metadata": {},
   "outputs": [
    {
     "ename": "TypeError",
     "evalue": "_expand_dims_dispatcher() missing 1 required positional argument: 'axis'",
     "output_type": "error",
     "traceback": [
      "\u001b[0;31m---------------------------------------------------------------------------\u001b[0m",
      "\u001b[0;31mTypeError\u001b[0m                                 Traceback (most recent call last)",
      "Cell \u001b[0;32mIn[11], line 1\u001b[0m\n\u001b[0;32m----> 1\u001b[0m \u001b[43mnp\u001b[49m\u001b[38;5;241;43m.\u001b[39;49m\u001b[43mexpand_dims\u001b[49m\u001b[43m(\u001b[49m\u001b[43marr\u001b[49m\u001b[43m)\u001b[49m\n",
      "File \u001b[0;32m<__array_function__ internals>:179\u001b[0m, in \u001b[0;36mexpand_dims\u001b[0;34m(*args, **kwargs)\u001b[0m\n",
      "\u001b[0;31mTypeError\u001b[0m: _expand_dims_dispatcher() missing 1 required positional argument: 'axis'"
     ]
    }
   ],
   "source": [
    "np.expand_dims(arr)"
   ]
  },
  {
   "cell_type": "code",
   "execution_count": 12,
   "id": "86cbba55-f265-4a6e-bff7-fbb741081f06",
   "metadata": {},
   "outputs": [
    {
     "data": {
      "text/plain": [
       "array([[[8, 1, 3, 3]],\n",
       "\n",
       "       [[4, 9, 6, 7]],\n",
       "\n",
       "       [[8, 2, 4, 5]],\n",
       "\n",
       "       [[1, 4, 8, 6]]])"
      ]
     },
     "execution_count": 12,
     "metadata": {},
     "output_type": "execute_result"
    }
   ],
   "source": [
    "np.expand_dims(arr,axis=1)"
   ]
  },
  {
   "cell_type": "code",
   "execution_count": 13,
   "id": "94665eca-d0dc-44f8-b4ad-6f9558e4fea8",
   "metadata": {},
   "outputs": [
    {
     "data": {
      "text/plain": [
       "array([[[8, 1, 3, 3],\n",
       "        [4, 9, 6, 7],\n",
       "        [8, 2, 4, 5],\n",
       "        [1, 4, 8, 6]]])"
      ]
     },
     "execution_count": 13,
     "metadata": {},
     "output_type": "execute_result"
    }
   ],
   "source": [
    "np.expand_dims(arr,axis=0) # convert 2 dimensional to 3 dimensional at any point of time."
   ]
  },
  {
   "cell_type": "code",
   "execution_count": 14,
   "id": "de5b1437-cff5-403b-85ce-5ea5ad60cc8a",
   "metadata": {},
   "outputs": [],
   "source": [
    "data=np.array([[1],[2],[3]]) "
   ]
  },
  {
   "cell_type": "code",
   "execution_count": 15,
   "id": "e5ca2039-76ae-46ba-81b4-409a16ea9632",
   "metadata": {},
   "outputs": [
    {
     "data": {
      "text/plain": [
       "array([[1],\n",
       "       [2],\n",
       "       [3]])"
      ]
     },
     "execution_count": 15,
     "metadata": {},
     "output_type": "execute_result"
    }
   ],
   "source": [
    "data"
   ]
  },
  {
   "cell_type": "code",
   "execution_count": 16,
   "id": "e9b7f8d7-44cd-475d-9caf-2be9c1485cfd",
   "metadata": {},
   "outputs": [
    {
     "data": {
      "text/plain": [
       "array([1, 2, 3])"
      ]
     },
     "execution_count": 16,
     "metadata": {},
     "output_type": "execute_result"
    }
   ],
   "source": [
    "np.squeeze(data) #convert 2 dimensional to 1 dimensional at any point of time."
   ]
  },
  {
   "cell_type": "code",
   "execution_count": 17,
   "id": "23462b99-7a5e-4a0a-b3ba-e5bf54fd04a5",
   "metadata": {},
   "outputs": [
    {
     "data": {
      "text/plain": [
       "array([1, 1, 1, 2, 2, 2, 3, 3, 3])"
      ]
     },
     "execution_count": 17,
     "metadata": {},
     "output_type": "execute_result"
    }
   ],
   "source": [
    "np.repeat(data,3)"
   ]
  },
  {
   "cell_type": "code",
   "execution_count": 18,
   "id": "faa69aeb-9b51-44c5-beb3-b16b073a8e25",
   "metadata": {},
   "outputs": [
    {
     "data": {
      "text/plain": [
       "array([1, 1, 1, 1, 2, 2, 2, 2, 3, 3, 3, 3])"
      ]
     },
     "execution_count": 18,
     "metadata": {},
     "output_type": "execute_result"
    }
   ],
   "source": [
    "np.repeat(data,4)"
   ]
  },
  {
   "cell_type": "code",
   "execution_count": 20,
   "id": "ed2484a6-e5cf-43ad-a096-ee951fb1dc99",
   "metadata": {},
   "outputs": [
    {
     "data": {
      "text/plain": [
       "array([[2],\n",
       "       [3],\n",
       "       [1]])"
      ]
     },
     "execution_count": 20,
     "metadata": {},
     "output_type": "execute_result"
    }
   ],
   "source": [
    "np.roll(data,2)  # 0th position value add 2 and position of value changed."
   ]
  },
  {
   "cell_type": "code",
   "execution_count": 21,
   "id": "45b4e55d-5f62-4987-bef7-27b10c52e18c",
   "metadata": {},
   "outputs": [
    {
     "data": {
      "text/plain": [
       "array([[1, 0, 0],\n",
       "       [0, 2, 0],\n",
       "       [0, 0, 3]])"
      ]
     },
     "execution_count": 21,
     "metadata": {},
     "output_type": "execute_result"
    }
   ],
   "source": [
    "np.diag(np.array([1,2,3]))"
   ]
  },
  {
   "cell_type": "markdown",
   "id": "e7682053-83fd-4e0d-8b61-42c6cf799c9c",
   "metadata": {},
   "source": [
    "#### Binary operation"
   ]
  },
  {
   "cell_type": "code",
   "execution_count": 22,
   "id": "d0b1726e-3fd0-4025-895d-2867f3363bfe",
   "metadata": {},
   "outputs": [],
   "source": [
    "arr1=np.random.randint(1,10,(3,4))\n",
    "arr2=np.random.randint(1,10,(3,4))"
   ]
  },
  {
   "cell_type": "code",
   "execution_count": 23,
   "id": "766b1aca-7af9-435e-9aab-96a2c3306360",
   "metadata": {},
   "outputs": [
    {
     "data": {
      "text/plain": [
       "array([[3, 9, 5, 5],\n",
       "       [9, 9, 3, 1],\n",
       "       [8, 5, 8, 7]])"
      ]
     },
     "execution_count": 23,
     "metadata": {},
     "output_type": "execute_result"
    }
   ],
   "source": [
    "arr1"
   ]
  },
  {
   "cell_type": "code",
   "execution_count": 24,
   "id": "00f8a75b-fa91-409a-8be3-d2e1a6ccf9e4",
   "metadata": {},
   "outputs": [
    {
     "data": {
      "text/plain": [
       "array([[9, 6, 9, 2],\n",
       "       [1, 8, 1, 2],\n",
       "       [3, 7, 8, 8]])"
      ]
     },
     "execution_count": 24,
     "metadata": {},
     "output_type": "execute_result"
    }
   ],
   "source": [
    "arr2"
   ]
  },
  {
   "cell_type": "code",
   "execution_count": 25,
   "id": "25e9c979-469e-4c7c-a351-dced62c69885",
   "metadata": {},
   "outputs": [
    {
     "data": {
      "text/plain": [
       "array([[12, 15, 14,  7],\n",
       "       [10, 17,  4,  3],\n",
       "       [11, 12, 16, 15]])"
      ]
     },
     "execution_count": 25,
     "metadata": {},
     "output_type": "execute_result"
    }
   ],
   "source": [
    "arr1+arr2"
   ]
  },
  {
   "cell_type": "code",
   "execution_count": 26,
   "id": "f8821f83-e3fb-4d4c-af61-d94e43cfb931",
   "metadata": {},
   "outputs": [
    {
     "data": {
      "text/plain": [
       "array([[ -4, -10,  -6,  -6],\n",
       "       [-10, -10,  -4,  -2],\n",
       "       [ -9,  -6,  -9,  -8]])"
      ]
     },
     "execution_count": 26,
     "metadata": {},
     "output_type": "execute_result"
    }
   ],
   "source": [
    "~arr1"
   ]
  },
  {
   "cell_type": "markdown",
   "id": "5afa9c32-34bd-48e8-8c29-f4268b5f127a",
   "metadata": {},
   "source": [
    "### String operation"
   ]
  },
  {
   "cell_type": "code",
   "execution_count": 27,
   "id": "5dd63278-56fb-483f-ae19-35edb879a402",
   "metadata": {},
   "outputs": [],
   "source": [
    "arr2=np.array([\"nitesh\",\"kumar\",\"srivastava\"])"
   ]
  },
  {
   "cell_type": "code",
   "execution_count": 28,
   "id": "6aa14e88-774c-4376-b3b5-069ff9a5b136",
   "metadata": {},
   "outputs": [
    {
     "data": {
      "text/plain": [
       "array(['nitesh', 'kumar', 'srivastava'], dtype='<U10')"
      ]
     },
     "execution_count": 28,
     "metadata": {},
     "output_type": "execute_result"
    }
   ],
   "source": [
    "arr2"
   ]
  },
  {
   "cell_type": "code",
   "execution_count": 29,
   "id": "fc36e3b9-83df-4d0e-980c-53c287f2b9f1",
   "metadata": {},
   "outputs": [
    {
     "data": {
      "text/plain": [
       "array(['NITESH', 'KUMAR', 'SRIVASTAVA'], dtype='<U10')"
      ]
     },
     "execution_count": 29,
     "metadata": {},
     "output_type": "execute_result"
    }
   ],
   "source": [
    "# convert the string data into uppercase\n",
    "np.char.upper(arr2)"
   ]
  },
  {
   "cell_type": "code",
   "execution_count": 31,
   "id": "2d02a23b-8b48-4896-8874-b4799d8320dd",
   "metadata": {},
   "outputs": [
    {
     "data": {
      "text/plain": [
       "array(['Nitesh', 'Kumar', 'Srivastava'], dtype='<U10')"
      ]
     },
     "execution_count": 31,
     "metadata": {},
     "output_type": "execute_result"
    }
   ],
   "source": [
    "# convert the string data into capitalize\n",
    "np.char.capitalize(arr2)"
   ]
  },
  {
   "cell_type": "code",
   "execution_count": 32,
   "id": "b84c300b-f904-4712-9b08-65de9348cb23",
   "metadata": {},
   "outputs": [
    {
     "data": {
      "text/plain": [
       "array(['Nitesh', 'Kumar', 'Srivastava'], dtype='<U10')"
      ]
     },
     "execution_count": 32,
     "metadata": {},
     "output_type": "execute_result"
    }
   ],
   "source": [
    "np.char.title(arr2)"
   ]
  },
  {
   "cell_type": "markdown",
   "id": "a6ba5035-72b0-459b-9e2e-7650704c2009",
   "metadata": {},
   "source": [
    "### Numpy Mathematical operation"
   ]
  },
  {
   "cell_type": "code",
   "execution_count": 33,
   "id": "cf42515a-76e5-40c2-9c7e-308901453ed9",
   "metadata": {},
   "outputs": [
    {
     "data": {
      "text/plain": [
       "array([[3, 9, 5, 5],\n",
       "       [9, 9, 3, 1],\n",
       "       [8, 5, 8, 7]])"
      ]
     },
     "execution_count": 33,
     "metadata": {},
     "output_type": "execute_result"
    }
   ],
   "source": [
    "arr1"
   ]
  },
  {
   "cell_type": "code",
   "execution_count": 34,
   "id": "bb6f880d-9a02-4614-96fb-49cc4158db2b",
   "metadata": {},
   "outputs": [
    {
     "data": {
      "text/plain": [
       "array([[ 0.14112001,  0.41211849, -0.95892427, -0.95892427],\n",
       "       [ 0.41211849,  0.41211849,  0.14112001,  0.84147098],\n",
       "       [ 0.98935825, -0.95892427,  0.98935825,  0.6569866 ]])"
      ]
     },
     "execution_count": 34,
     "metadata": {},
     "output_type": "execute_result"
    }
   ],
   "source": [
    "np.sin(arr1)"
   ]
  },
  {
   "cell_type": "code",
   "execution_count": 35,
   "id": "552c26de-6598-4922-8d3b-0637c21fb024",
   "metadata": {},
   "outputs": [
    {
     "data": {
      "text/plain": [
       "array([[-0.9899925 , -0.91113026,  0.28366219,  0.28366219],\n",
       "       [-0.91113026, -0.91113026, -0.9899925 ,  0.54030231],\n",
       "       [-0.14550003,  0.28366219, -0.14550003,  0.75390225]])"
      ]
     },
     "execution_count": 35,
     "metadata": {},
     "output_type": "execute_result"
    }
   ],
   "source": [
    "np.cos(arr1)"
   ]
  },
  {
   "cell_type": "code",
   "execution_count": 36,
   "id": "c49601c3-7bc9-4e70-bdf7-88c870ec253b",
   "metadata": {},
   "outputs": [
    {
     "data": {
      "text/plain": [
       "array([[ 9, 81, 25, 25],\n",
       "       [81, 81,  9,  1],\n",
       "       [64, 25, 64, 49]])"
      ]
     },
     "execution_count": 36,
     "metadata": {},
     "output_type": "execute_result"
    }
   ],
   "source": [
    "np.power(arr1,2)"
   ]
  },
  {
   "cell_type": "code",
   "execution_count": 48,
   "id": "bfd978bd-1c91-4831-83c0-d39e57ea3dfe",
   "metadata": {},
   "outputs": [
    {
     "data": {
      "text/plain": [
       "6.0"
      ]
     },
     "execution_count": 48,
     "metadata": {},
     "output_type": "execute_result"
    }
   ],
   "source": [
    "np.median(arr1)"
   ]
  },
  {
   "cell_type": "code",
   "execution_count": 49,
   "id": "65d3dd7f-c04a-4669-9c57-b73151cace45",
   "metadata": {},
   "outputs": [
    {
     "ename": "TypeError",
     "evalue": "remainder() takes from 2 to 3 positional arguments but 1 were given",
     "output_type": "error",
     "traceback": [
      "\u001b[0;31m---------------------------------------------------------------------------\u001b[0m",
      "\u001b[0;31mTypeError\u001b[0m                                 Traceback (most recent call last)",
      "Cell \u001b[0;32mIn[49], line 1\u001b[0m\n\u001b[0;32m----> 1\u001b[0m \u001b[43mnp\u001b[49m\u001b[38;5;241;43m.\u001b[39;49m\u001b[43mmod\u001b[49m\u001b[43m(\u001b[49m\u001b[43marr1\u001b[49m\u001b[43m)\u001b[49m\n",
      "\u001b[0;31mTypeError\u001b[0m: remainder() takes from 2 to 3 positional arguments but 1 were given"
     ]
    }
   ],
   "source": [
    "np.mod(arr1)"
   ]
  },
  {
   "cell_type": "markdown",
   "id": "8bb9c166-9b9c-4f5e-bb39-0f1226baa47f",
   "metadata": {},
   "source": [
    "### Arithmetic operation"
   ]
  },
  {
   "cell_type": "code",
   "execution_count": 38,
   "id": "12229598-72c9-4e00-99a5-3d9858022fa8",
   "metadata": {},
   "outputs": [
    {
     "data": {
      "text/plain": [
       "array([[3, 9, 5, 5],\n",
       "       [9, 9, 3, 1],\n",
       "       [8, 5, 8, 7]])"
      ]
     },
     "execution_count": 38,
     "metadata": {},
     "output_type": "execute_result"
    }
   ],
   "source": [
    "arr1"
   ]
  },
  {
   "cell_type": "code",
   "execution_count": 40,
   "id": "b79e0261-0ede-4f27-a2af-4b5b16bc75db",
   "metadata": {},
   "outputs": [],
   "source": [
    "arr3=np.random.randint(1,10,(3,4))"
   ]
  },
  {
   "cell_type": "code",
   "execution_count": 41,
   "id": "b044d0c5-4484-4ade-aeca-db4d35be8daf",
   "metadata": {},
   "outputs": [
    {
     "data": {
      "text/plain": [
       "array([[5, 9, 4, 2],\n",
       "       [6, 9, 3, 5],\n",
       "       [8, 6, 1, 8]])"
      ]
     },
     "execution_count": 41,
     "metadata": {},
     "output_type": "execute_result"
    }
   ],
   "source": [
    "arr3"
   ]
  },
  {
   "cell_type": "code",
   "execution_count": 42,
   "id": "480f7d23-6042-4609-8636-218d2ddf7cd9",
   "metadata": {},
   "outputs": [
    {
     "data": {
      "text/plain": [
       "array([[-2,  0,  1,  3],\n",
       "       [ 3,  0,  0, -4],\n",
       "       [ 0, -1,  7, -1]])"
      ]
     },
     "execution_count": 42,
     "metadata": {},
     "output_type": "execute_result"
    }
   ],
   "source": [
    "arr1-arr3"
   ]
  },
  {
   "cell_type": "code",
   "execution_count": 43,
   "id": "971d31d5-73d2-4fb8-b189-f4e8d8da96b3",
   "metadata": {},
   "outputs": [
    {
     "data": {
      "text/plain": [
       "array([[-2,  0,  1,  3],\n",
       "       [ 3,  0,  0, -4],\n",
       "       [ 0, -1,  7, -1]])"
      ]
     },
     "execution_count": 43,
     "metadata": {},
     "output_type": "execute_result"
    }
   ],
   "source": [
    "# numpy method\n",
    "np.subtract(arr1,arr3)"
   ]
  },
  {
   "cell_type": "code",
   "execution_count": 54,
   "id": "50557b84-5acb-4d82-8a9f-615dd103a1fc",
   "metadata": {},
   "outputs": [
    {
     "data": {
      "text/plain": [
       "array([[3, 0, 1, 1],\n",
       "       [3, 0, 0, 1],\n",
       "       [0, 5, 0, 7]])"
      ]
     },
     "execution_count": 54,
     "metadata": {},
     "output_type": "execute_result"
    }
   ],
   "source": [
    "np.mod(arr1,arr3)"
   ]
  },
  {
   "cell_type": "code",
   "execution_count": null,
   "id": "1ba27c80-2e53-46a8-9b45-e87fa25a7db4",
   "metadata": {},
   "outputs": [],
   "source": []
  }
 ],
 "metadata": {
  "kernelspec": {
   "display_name": "Python 3 (ipykernel)",
   "language": "python",
   "name": "python3"
  },
  "language_info": {
   "codemirror_mode": {
    "name": "ipython",
    "version": 3
   },
   "file_extension": ".py",
   "mimetype": "text/x-python",
   "name": "python",
   "nbconvert_exporter": "python",
   "pygments_lexer": "ipython3",
   "version": "3.10.8"
  }
 },
 "nbformat": 4,
 "nbformat_minor": 5
}
