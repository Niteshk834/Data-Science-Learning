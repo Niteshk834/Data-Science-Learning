{
 "cells": [
  {
   "cell_type": "markdown",
   "id": "694674f6-c070-413c-9567-7b4350f76a08",
   "metadata": {},
   "source": [
    "# Numpy Part 1"
   ]
  },
  {
   "cell_type": "code",
   "execution_count": 1,
   "id": "714e14d1-5741-47dd-9a35-7cdd93458983",
   "metadata": {},
   "outputs": [],
   "source": [
    "import numpy as np"
   ]
  },
  {
   "cell_type": "code",
   "execution_count": 2,
   "id": "bd9ae8b4-6901-4e95-95ea-1114b66687b7",
   "metadata": {},
   "outputs": [],
   "source": [
    "l=[1,2,3,4,5]"
   ]
  },
  {
   "cell_type": "code",
   "execution_count": 4,
   "id": "1700c83e-3e2b-42a8-a506-b8d100b5d376",
   "metadata": {},
   "outputs": [],
   "source": [
    "arr=np.array(l)"
   ]
  },
  {
   "cell_type": "code",
   "execution_count": 5,
   "id": "8fb4f535-65cb-4db9-972e-427a0726aedd",
   "metadata": {},
   "outputs": [
    {
     "data": {
      "text/plain": [
       "array([1, 2, 3, 4, 5])"
      ]
     },
     "execution_count": 5,
     "metadata": {},
     "output_type": "execute_result"
    }
   ],
   "source": [
    "arr"
   ]
  },
  {
   "cell_type": "code",
   "execution_count": 6,
   "id": "151a2714-61d9-4a84-8889-5a9829e646f5",
   "metadata": {},
   "outputs": [
    {
     "data": {
      "text/plain": [
       "numpy.ndarray"
      ]
     },
     "execution_count": 6,
     "metadata": {},
     "output_type": "execute_result"
    }
   ],
   "source": [
    "type(arr)"
   ]
  },
  {
   "cell_type": "code",
   "execution_count": 7,
   "id": "82a15eda-f49d-4d88-a970-02abe5d65b28",
   "metadata": {},
   "outputs": [
    {
     "data": {
      "text/plain": [
       "array([1, 2, 3, 4, 5])"
      ]
     },
     "execution_count": 7,
     "metadata": {},
     "output_type": "execute_result"
    }
   ],
   "source": [
    "# another way\n",
    "np.asarray(l)"
   ]
  },
  {
   "cell_type": "code",
   "execution_count": 9,
   "id": "e2e3df75-6a59-4c41-b257-79adfed8bdb8",
   "metadata": {},
   "outputs": [],
   "source": [
    "arr1=np.array([[1,2,3],[4,5,6]]) # 2 brackets means 2 dimension in nature"
   ]
  },
  {
   "cell_type": "code",
   "execution_count": 10,
   "id": "d5908c9a-5115-4269-aa6f-09caa2de5027",
   "metadata": {},
   "outputs": [
    {
     "data": {
      "text/plain": [
       "array([[1, 2, 3],\n",
       "       [4, 5, 6]])"
      ]
     },
     "execution_count": 10,
     "metadata": {},
     "output_type": "execute_result"
    }
   ],
   "source": [
    "arr1"
   ]
  },
  {
   "cell_type": "code",
   "execution_count": 14,
   "id": "8a7bd2a7-a88e-40b1-b42b-6e21c0119778",
   "metadata": {},
   "outputs": [
    {
     "data": {
      "text/plain": [
       "2"
      ]
     },
     "execution_count": 14,
     "metadata": {},
     "output_type": "execute_result"
    }
   ],
   "source": [
    "arr1.ndim"
   ]
  },
  {
   "cell_type": "code",
   "execution_count": 12,
   "id": "fe7e8095-4de9-4dee-a776-4ae750b336ac",
   "metadata": {},
   "outputs": [
    {
     "data": {
      "text/plain": [
       "1"
      ]
     },
     "execution_count": 12,
     "metadata": {},
     "output_type": "execute_result"
    }
   ],
   "source": [
    "arr.ndim"
   ]
  },
  {
   "cell_type": "code",
   "execution_count": 16,
   "id": "1c5d5f4f-dd71-4627-8d29-d73a1913f8e6",
   "metadata": {},
   "outputs": [],
   "source": [
    "mat=np.matrix(l) # array can 1 dimensional but matrix always have a 2 dimensional."
   ]
  },
  {
   "cell_type": "code",
   "execution_count": 17,
   "id": "badd3364-3ce1-40a1-b4f3-78d30364e262",
   "metadata": {},
   "outputs": [
    {
     "data": {
      "text/plain": [
       "matrix([[1, 2, 3, 4, 5]])"
      ]
     },
     "execution_count": 17,
     "metadata": {},
     "output_type": "execute_result"
    }
   ],
   "source": [
    "mat"
   ]
  },
  {
   "cell_type": "code",
   "execution_count": 19,
   "id": "496362bf-ada0-4943-b3f3-05a901f0984c",
   "metadata": {},
   "outputs": [
    {
     "data": {
      "text/plain": [
       "array([1, 2, 3, 4, 5])"
      ]
     },
     "execution_count": 19,
     "metadata": {},
     "output_type": "execute_result"
    }
   ],
   "source": [
    "np.asanyarray(l) # l is a list so it will convert in array"
   ]
  },
  {
   "cell_type": "code",
   "execution_count": 20,
   "id": "5ad97fbe-cdab-46aa-887e-02072007ad00",
   "metadata": {},
   "outputs": [
    {
     "data": {
      "text/plain": [
       "matrix([[1, 2, 3, 4, 5]])"
      ]
     },
     "execution_count": 20,
     "metadata": {},
     "output_type": "execute_result"
    }
   ],
   "source": [
    "np.asanyarray(mat) # matrix is a subclass of array inside a Numpy so result will be as it is."
   ]
  },
  {
   "cell_type": "code",
   "execution_count": 21,
   "id": "f6b64239-ae68-4ca8-873e-7a5117e4fc44",
   "metadata": {},
   "outputs": [
    {
     "data": {
      "text/plain": [
       "array([1, 2, 3, 4, 5])"
      ]
     },
     "execution_count": 21,
     "metadata": {},
     "output_type": "execute_result"
    }
   ],
   "source": [
    "arr"
   ]
  },
  {
   "cell_type": "code",
   "execution_count": 22,
   "id": "45411564-dbee-4dc5-a568-083915fa9df2",
   "metadata": {},
   "outputs": [],
   "source": [
    "a=arr"
   ]
  },
  {
   "cell_type": "code",
   "execution_count": 23,
   "id": "01df99ef-b91a-4ef7-93e5-6cbfee017661",
   "metadata": {},
   "outputs": [
    {
     "data": {
      "text/plain": [
       "array([1, 2, 3, 4, 5])"
      ]
     },
     "execution_count": 23,
     "metadata": {},
     "output_type": "execute_result"
    }
   ],
   "source": [
    "a"
   ]
  },
  {
   "cell_type": "code",
   "execution_count": 24,
   "id": "3d24e532-dcf2-4216-bcb2-61a2076872cb",
   "metadata": {},
   "outputs": [],
   "source": [
    "arr[2]=45"
   ]
  },
  {
   "cell_type": "code",
   "execution_count": 25,
   "id": "b179234e-91e7-4672-9ca4-f3b3b2b40b8d",
   "metadata": {},
   "outputs": [
    {
     "data": {
      "text/plain": [
       "array([ 1,  2, 45,  4,  5])"
      ]
     },
     "execution_count": 25,
     "metadata": {},
     "output_type": "execute_result"
    }
   ],
   "source": [
    "arr"
   ]
  },
  {
   "cell_type": "code",
   "execution_count": 26,
   "id": "7ed1b386-b7a6-4619-badd-51c320606614",
   "metadata": {},
   "outputs": [
    {
     "data": {
      "text/plain": [
       "array([ 1,  2, 45,  4,  5])"
      ]
     },
     "execution_count": 26,
     "metadata": {},
     "output_type": "execute_result"
    }
   ],
   "source": [
    "a # this kind of operation is a solo copy operation"
   ]
  },
  {
   "cell_type": "code",
   "execution_count": 27,
   "id": "3882eebc-46b9-4ce3-8f65-35c89eedbbc2",
   "metadata": {},
   "outputs": [],
   "source": [
    "b=np.copy(arr)"
   ]
  },
  {
   "cell_type": "code",
   "execution_count": 28,
   "id": "3200f59c-77b0-4188-937a-b53207147e1f",
   "metadata": {},
   "outputs": [
    {
     "data": {
      "text/plain": [
       "array([ 1,  2, 45,  4,  5])"
      ]
     },
     "execution_count": 28,
     "metadata": {},
     "output_type": "execute_result"
    }
   ],
   "source": [
    "b"
   ]
  },
  {
   "cell_type": "code",
   "execution_count": 29,
   "id": "c4d4c4fe-f046-492b-81fe-015fe1a4b9d1",
   "metadata": {},
   "outputs": [],
   "source": [
    "b[0]=236"
   ]
  },
  {
   "cell_type": "code",
   "execution_count": 30,
   "id": "4efe9f06-2cbf-4c8d-be84-1559bf2765e1",
   "metadata": {},
   "outputs": [
    {
     "data": {
      "text/plain": [
       "array([236,   2,  45,   4,   5])"
      ]
     },
     "execution_count": 30,
     "metadata": {},
     "output_type": "execute_result"
    }
   ],
   "source": [
    "b"
   ]
  },
  {
   "cell_type": "code",
   "execution_count": 31,
   "id": "a8b3bdaf-0e00-4b7f-9f50-047a27719ceb",
   "metadata": {},
   "outputs": [
    {
     "data": {
      "text/plain": [
       "array([ 1,  2, 45,  4,  5])"
      ]
     },
     "execution_count": 31,
     "metadata": {},
     "output_type": "execute_result"
    }
   ],
   "source": [
    "arr # not changed in data becuase b work as a reference in another memory"
   ]
  },
  {
   "cell_type": "code",
   "execution_count": 32,
   "id": "fcc4126e-61da-444a-9dd6-514a80c977fe",
   "metadata": {},
   "outputs": [
    {
     "data": {
      "text/plain": [
       "array([[ True, False, False],\n",
       "       [False,  True, False],\n",
       "       [False, False,  True]])"
      ]
     },
     "execution_count": 32,
     "metadata": {},
     "output_type": "execute_result"
    }
   ],
   "source": [
    "np.fromfunction(lambda i,j:i==j,(3,3))"
   ]
  },
  {
   "cell_type": "code",
   "execution_count": 33,
   "id": "87b35c45-fe24-4263-82f9-06e7a713bbd3",
   "metadata": {},
   "outputs": [
    {
     "data": {
      "text/plain": [
       "array([[ True, False, False],\n",
       "       [False,  True, False]])"
      ]
     },
     "execution_count": 33,
     "metadata": {},
     "output_type": "execute_result"
    }
   ],
   "source": [
    "np.fromfunction(lambda i,j:i==j,(2,3))"
   ]
  },
  {
   "cell_type": "code",
   "execution_count": 34,
   "id": "3cc62e28-d4a3-412a-8495-b72bb32e7f1c",
   "metadata": {},
   "outputs": [
    {
     "data": {
      "text/plain": [
       "array([[0., 0., 0.],\n",
       "       [0., 1., 2.]])"
      ]
     },
     "execution_count": 34,
     "metadata": {},
     "output_type": "execute_result"
    }
   ],
   "source": [
    "np.fromfunction(lambda i,j:i*j,(2,3))"
   ]
  },
  {
   "cell_type": "code",
   "execution_count": 35,
   "id": "d627252c-ad76-4296-95e6-d2d38284d3ec",
   "metadata": {},
   "outputs": [
    {
     "data": {
      "text/plain": [
       "[0, 1, 4, 9, 16]"
      ]
     },
     "execution_count": 35,
     "metadata": {},
     "output_type": "execute_result"
    }
   ],
   "source": [
    "list(i*i for i in range(5))"
   ]
  },
  {
   "cell_type": "code",
   "execution_count": 36,
   "id": "d84c1ecd-fb6b-4ff9-94a1-3f79e0845910",
   "metadata": {},
   "outputs": [],
   "source": [
    "iterable=(i*i for i in range(5))"
   ]
  },
  {
   "cell_type": "code",
   "execution_count": 38,
   "id": "269c56d7-2cb8-45c4-93a9-5014a21509dc",
   "metadata": {},
   "outputs": [
    {
     "data": {
      "text/plain": [
       "array([ 0,  1,  4,  9, 16])"
      ]
     },
     "execution_count": 38,
     "metadata": {},
     "output_type": "execute_result"
    }
   ],
   "source": [
    "np.fromiter(iterable,int)"
   ]
  },
  {
   "cell_type": "code",
   "execution_count": 41,
   "id": "f4687097-ed8a-4ae1-a495-c77fda6092a2",
   "metadata": {},
   "outputs": [
    {
     "data": {
      "text/plain": [
       "array([23, 45, 56])"
      ]
     },
     "execution_count": 41,
     "metadata": {},
     "output_type": "execute_result"
    }
   ],
   "source": [
    "np.fromstring(\"23 45 56\",sep=\" \",dtype=int)"
   ]
  },
  {
   "cell_type": "code",
   "execution_count": 44,
   "id": "ab21b752-2043-4b2b-a465-58fb6009c789",
   "metadata": {},
   "outputs": [
    {
     "data": {
      "text/plain": [
       "array([[1, 2, 3],\n",
       "       [4, 5, 6]])"
      ]
     },
     "execution_count": 44,
     "metadata": {},
     "output_type": "execute_result"
    }
   ],
   "source": [
    "arr1"
   ]
  },
  {
   "cell_type": "code",
   "execution_count": 43,
   "id": "edcd5ab6-987c-49f5-b5de-ae59fe20ac6c",
   "metadata": {},
   "outputs": [
    {
     "data": {
      "text/plain": [
       "array([23, 45, 56])"
      ]
     },
     "execution_count": 43,
     "metadata": {},
     "output_type": "execute_result"
    }
   ],
   "source": [
    "np.fromstring(\"23,45,56\",sep=\",\",dtype=int)"
   ]
  },
  {
   "cell_type": "code",
   "execution_count": 45,
   "id": "950dab4a-d246-4da3-83a1-051c9c433f0d",
   "metadata": {},
   "outputs": [
    {
     "data": {
      "text/plain": [
       "array([ 1,  2, 45,  4,  5])"
      ]
     },
     "execution_count": 45,
     "metadata": {},
     "output_type": "execute_result"
    }
   ],
   "source": [
    "arr"
   ]
  },
  {
   "cell_type": "code",
   "execution_count": 46,
   "id": "183d15e0-1ed0-4552-bc71-a53c29238baf",
   "metadata": {},
   "outputs": [
    {
     "data": {
      "text/plain": [
       "5"
      ]
     },
     "execution_count": 46,
     "metadata": {},
     "output_type": "execute_result"
    }
   ],
   "source": [
    "arr.size"
   ]
  },
  {
   "cell_type": "code",
   "execution_count": 47,
   "id": "7e76ceb7-0408-41e2-bc8a-34db459f001b",
   "metadata": {},
   "outputs": [
    {
     "data": {
      "text/plain": [
       "6"
      ]
     },
     "execution_count": 47,
     "metadata": {},
     "output_type": "execute_result"
    }
   ],
   "source": [
    "arr1.size"
   ]
  },
  {
   "cell_type": "code",
   "execution_count": 48,
   "id": "5d69cfda-189f-4c57-8ef6-c2784e243b0f",
   "metadata": {},
   "outputs": [
    {
     "data": {
      "text/plain": [
       "(5,)"
      ]
     },
     "execution_count": 48,
     "metadata": {},
     "output_type": "execute_result"
    }
   ],
   "source": [
    "arr.shape"
   ]
  },
  {
   "cell_type": "code",
   "execution_count": 49,
   "id": "e3cfe34d-0da6-4191-9a1a-e34c6928c0b9",
   "metadata": {},
   "outputs": [
    {
     "data": {
      "text/plain": [
       "(2, 3)"
      ]
     },
     "execution_count": 49,
     "metadata": {},
     "output_type": "execute_result"
    }
   ],
   "source": [
    "arr1.shape"
   ]
  },
  {
   "cell_type": "code",
   "execution_count": 50,
   "id": "0b7bcc91-a6bb-45d2-b6a9-ff974ce0c04b",
   "metadata": {},
   "outputs": [
    {
     "data": {
      "text/plain": [
       "dtype('int64')"
      ]
     },
     "execution_count": 50,
     "metadata": {},
     "output_type": "execute_result"
    }
   ],
   "source": [
    "arr.dtype"
   ]
  },
  {
   "cell_type": "code",
   "execution_count": 51,
   "id": "9178cd15-f558-4000-834c-7325ab794c41",
   "metadata": {},
   "outputs": [
    {
     "data": {
      "text/plain": [
       "dtype('int64')"
      ]
     },
     "execution_count": 51,
     "metadata": {},
     "output_type": "execute_result"
    }
   ],
   "source": [
    "arr1.dtype"
   ]
  },
  {
   "cell_type": "code",
   "execution_count": null,
   "id": "638f3ed8-1e6b-4533-be71-3810caa9848c",
   "metadata": {},
   "outputs": [],
   "source": []
  }
 ],
 "metadata": {
  "kernelspec": {
   "display_name": "Python 3 (ipykernel)",
   "language": "python",
   "name": "python3"
  },
  "language_info": {
   "codemirror_mode": {
    "name": "ipython",
    "version": 3
   },
   "file_extension": ".py",
   "mimetype": "text/x-python",
   "name": "python",
   "nbconvert_exporter": "python",
   "pygments_lexer": "ipython3",
   "version": "3.10.8"
  }
 },
 "nbformat": 4,
 "nbformat_minor": 5
}
