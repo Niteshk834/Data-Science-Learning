{
 "cells": [
  {
   "cell_type": "markdown",
   "id": "820989f9-dddf-4c5b-a755-6d2a0a8cebbf",
   "metadata": {},
   "source": [
    "# Numpy Part 4"
   ]
  },
  {
   "cell_type": "markdown",
   "id": "4931fff5-17eb-4aa9-ac5f-f2b42f6b49f0",
   "metadata": {},
   "source": [
    "### Short, Search and counting function"
   ]
  },
  {
   "cell_type": "code",
   "execution_count": 1,
   "id": "1605fbdb-7918-4bcc-8e02-7a286d35cb7a",
   "metadata": {},
   "outputs": [],
   "source": [
    "import numpy as np"
   ]
  },
  {
   "cell_type": "markdown",
   "id": "69ffefe8-2b96-4ddd-8279-42c605b5f50c",
   "metadata": {},
   "source": [
    "# sort"
   ]
  },
  {
   "cell_type": "code",
   "execution_count": 34,
   "id": "6ad2173a-5154-4b0a-a27d-c540032662d0",
   "metadata": {},
   "outputs": [],
   "source": [
    "arr=np.array([2,3,5,8,4])"
   ]
  },
  {
   "cell_type": "code",
   "execution_count": 35,
   "id": "78384901-55e1-4003-9a34-2c4c234fb4fd",
   "metadata": {},
   "outputs": [
    {
     "data": {
      "text/plain": [
       "array([2, 3, 5, 8, 4])"
      ]
     },
     "execution_count": 35,
     "metadata": {},
     "output_type": "execute_result"
    }
   ],
   "source": [
    "arr"
   ]
  },
  {
   "cell_type": "code",
   "execution_count": 36,
   "id": "5af434ab-b184-488d-9d97-f75da0b23e11",
   "metadata": {},
   "outputs": [
    {
     "data": {
      "text/plain": [
       "array([2, 3, 4, 5, 8])"
      ]
     },
     "execution_count": 36,
     "metadata": {},
     "output_type": "execute_result"
    }
   ],
   "source": [
    "np.sort(arr) # output sort in ascending order"
   ]
  },
  {
   "cell_type": "code",
   "execution_count": 37,
   "id": "11fbfd95-b1c1-458b-91ed-e0a868026868",
   "metadata": {},
   "outputs": [
    {
     "data": {
      "text/plain": [
       "array([8, 5, 4, 3, 2])"
      ]
     },
     "execution_count": 37,
     "metadata": {},
     "output_type": "execute_result"
    }
   ],
   "source": [
    "# sort in descending order\n",
    "np.sort(arr)[::-1]"
   ]
  },
  {
   "cell_type": "markdown",
   "id": "573436d1-b9dd-4121-8f68-ce67b53301c2",
   "metadata": {},
   "source": [
    "# search"
   ]
  },
  {
   "cell_type": "code",
   "execution_count": 46,
   "id": "0e2a3405-d48e-46cb-864c-a10bc325da78",
   "metadata": {},
   "outputs": [
    {
     "data": {
      "text/plain": [
       "array([2, 3, 5, 8, 4])"
      ]
     },
     "execution_count": 46,
     "metadata": {},
     "output_type": "execute_result"
    }
   ],
   "source": [
    "arr"
   ]
  },
  {
   "cell_type": "code",
   "execution_count": 50,
   "id": "d187841c-4cc1-4ecb-8b6a-dc1f256a0b43",
   "metadata": {},
   "outputs": [],
   "source": [
    "arr1=np.sort(arr)"
   ]
  },
  {
   "cell_type": "code",
   "execution_count": 51,
   "id": "692f5bfd-4ecc-4e53-b417-a37a780df301",
   "metadata": {},
   "outputs": [
    {
     "data": {
      "text/plain": [
       "array([2, 3, 4, 5, 8])"
      ]
     },
     "execution_count": 51,
     "metadata": {},
     "output_type": "execute_result"
    }
   ],
   "source": [
    "arr1"
   ]
  },
  {
   "cell_type": "code",
   "execution_count": 52,
   "id": "86e5a4cf-de27-4fff-9732-80d18359c29c",
   "metadata": {},
   "outputs": [
    {
     "data": {
      "text/plain": [
       "4"
      ]
     },
     "execution_count": 52,
     "metadata": {},
     "output_type": "execute_result"
    }
   ],
   "source": [
    "# Find index to maintain sorting order\n",
    "\n",
    "np.searchsorted(arr1,6)\n",
    "\n",
    "# The line np.searchsorted(arr1, 6) uses the searchsorted() function to find the index where the\n",
    "# value 6 should be inserted into arr1 to maintain its sorted order. This function takes \n",
    "# two arguments: the array to search in (arr1), and the value to search for (6)."
   ]
  },
  {
   "cell_type": "markdown",
   "id": "7725d093-301a-4ba8-af82-8e1a0faa801a",
   "metadata": {},
   "source": [
    "# count"
   ]
  },
  {
   "cell_type": "code",
   "execution_count": 53,
   "id": "fc127fd2-2fd3-4b0f-b124-0146fca15fbd",
   "metadata": {},
   "outputs": [],
   "source": [
    "arr2=np.array([3,4,7,0,2,0,4,0,8,0,3,4,0])"
   ]
  },
  {
   "cell_type": "code",
   "execution_count": 54,
   "id": "a7e63591-e335-44ab-8e69-194e98299369",
   "metadata": {},
   "outputs": [
    {
     "data": {
      "text/plain": [
       "8"
      ]
     },
     "execution_count": 54,
     "metadata": {},
     "output_type": "execute_result"
    }
   ],
   "source": [
    "np.count_nonzero(arr2)"
   ]
  },
  {
   "cell_type": "code",
   "execution_count": 55,
   "id": "214e76c4-aedd-4456-b0bd-77925b754892",
   "metadata": {},
   "outputs": [
    {
     "data": {
      "text/plain": [
       "(array([ 0,  1,  2,  4,  6,  8, 10, 11]),)"
      ]
     },
     "execution_count": 55,
     "metadata": {},
     "output_type": "execute_result"
    }
   ],
   "source": [
    "np.where(arr2>0) # give indexes where data greater than 0"
   ]
  },
  {
   "cell_type": "code",
   "execution_count": 60,
   "id": "ab05c391-304e-4369-98be-338130a63147",
   "metadata": {},
   "outputs": [
    {
     "data": {
      "text/plain": [
       "array([3, 4, 7, 2, 4, 8, 3, 4])"
      ]
     },
     "execution_count": 60,
     "metadata": {},
     "output_type": "execute_result"
    }
   ],
   "source": [
    "np.extract(arr2>0,arr2) # give value of index position"
   ]
  },
  {
   "cell_type": "code",
   "execution_count": 58,
   "id": "75c4554c-c43a-470b-b2ff-6e252175534e",
   "metadata": {},
   "outputs": [
    {
     "data": {
      "text/plain": [
       "array([4, 7, 4, 8, 4])"
      ]
     },
     "execution_count": 58,
     "metadata": {},
     "output_type": "execute_result"
    }
   ],
   "source": [
    "np.extract(arr2>3,arr2)"
   ]
  },
  {
   "cell_type": "markdown",
   "id": "06647729-e74a-4fc6-a63a-879cd1e7f3a4",
   "metadata": {},
   "source": [
    "###  Byte swapping"
   ]
  },
  {
   "cell_type": "code",
   "execution_count": 61,
   "id": "c0727945-6e8f-4085-848d-35ba3d938d99",
   "metadata": {},
   "outputs": [
    {
     "data": {
      "text/plain": [
       "array([3, 4, 7, 0, 2, 0, 4, 0, 8, 0, 3, 4, 0])"
      ]
     },
     "execution_count": 61,
     "metadata": {},
     "output_type": "execute_result"
    }
   ],
   "source": [
    "arr2"
   ]
  },
  {
   "cell_type": "code",
   "execution_count": 62,
   "id": "b1c112aa-5c38-4179-bedf-1e66c0ede3a8",
   "metadata": {},
   "outputs": [
    {
     "data": {
      "text/plain": [
       "array([216172782113783808, 288230376151711744, 504403158265495552,\n",
       "                        0, 144115188075855872,                  0,\n",
       "       288230376151711744,                  0, 576460752303423488,\n",
       "                        0, 216172782113783808, 288230376151711744,\n",
       "                        0])"
      ]
     },
     "execution_count": 62,
     "metadata": {},
     "output_type": "execute_result"
    }
   ],
   "source": [
    "arr2.byteswap(inplace=True)"
   ]
  },
  {
   "cell_type": "code",
   "execution_count": 63,
   "id": "edc4b6e0-67ee-41a3-aab3-2fe6ff352bd9",
   "metadata": {},
   "outputs": [
    {
     "data": {
      "text/plain": [
       "array([216172782113783808, 288230376151711744, 504403158265495552,\n",
       "                        0, 144115188075855872,                  0,\n",
       "       288230376151711744,                  0, 576460752303423488,\n",
       "                        0, 216172782113783808, 288230376151711744,\n",
       "                        0])"
      ]
     },
     "execution_count": 63,
     "metadata": {},
     "output_type": "execute_result"
    }
   ],
   "source": [
    "arr2"
   ]
  },
  {
   "cell_type": "markdown",
   "id": "b0321981-dbb6-46d0-bedb-3f90553174e9",
   "metadata": {},
   "source": [
    "### copy and views"
   ]
  },
  {
   "cell_type": "code",
   "execution_count": 64,
   "id": "fadb831e-1dc4-4335-9d74-ed9187ff5fc6",
   "metadata": {},
   "outputs": [
    {
     "data": {
      "text/plain": [
       "array([2, 3, 4, 5, 8])"
      ]
     },
     "execution_count": 64,
     "metadata": {},
     "output_type": "execute_result"
    }
   ],
   "source": [
    "arr1"
   ]
  },
  {
   "cell_type": "code",
   "execution_count": 65,
   "id": "4d24265c-3f63-45ec-a9a9-0ba7ad08728e",
   "metadata": {},
   "outputs": [],
   "source": [
    "a=np.copy(arr1)"
   ]
  },
  {
   "cell_type": "code",
   "execution_count": 66,
   "id": "d5982a52-8390-4c2e-b119-85dcf0da069c",
   "metadata": {},
   "outputs": [
    {
     "data": {
      "text/plain": [
       "array([2, 3, 4, 5, 8])"
      ]
     },
     "execution_count": 66,
     "metadata": {},
     "output_type": "execute_result"
    }
   ],
   "source": [
    "a"
   ]
  },
  {
   "cell_type": "code",
   "execution_count": 67,
   "id": "7ad51394-a0f6-4bd7-acab-9765a2851cfe",
   "metadata": {},
   "outputs": [],
   "source": [
    "b=arr1.view() # shallow copy\n",
    "\n",
    "# In Shallow copy, a copy of the original object is stored and only the reference address is finallycopied. \n",
    "# In Deep copy, the copy of the original object and the repetitive copies both are stored."
   ]
  },
  {
   "cell_type": "code",
   "execution_count": 68,
   "id": "e1f3a27a-d211-4993-ae36-949bb9d16dc8",
   "metadata": {},
   "outputs": [
    {
     "data": {
      "text/plain": [
       "array([2, 3, 4, 5, 8])"
      ]
     },
     "execution_count": 68,
     "metadata": {},
     "output_type": "execute_result"
    }
   ],
   "source": [
    "b"
   ]
  },
  {
   "cell_type": "code",
   "execution_count": 69,
   "id": "1002e863-2187-4e6b-8ce0-acc4af0143c3",
   "metadata": {},
   "outputs": [],
   "source": [
    "b[1]=45"
   ]
  },
  {
   "cell_type": "code",
   "execution_count": 70,
   "id": "f74f757e-fba6-4599-a0e7-624d0f30ecba",
   "metadata": {},
   "outputs": [
    {
     "data": {
      "text/plain": [
       "array([ 2, 45,  4,  5,  8])"
      ]
     },
     "execution_count": 70,
     "metadata": {},
     "output_type": "execute_result"
    }
   ],
   "source": [
    "b"
   ]
  },
  {
   "cell_type": "code",
   "execution_count": 71,
   "id": "5e14d495-cd30-4c13-9ebc-fe5f40584cab",
   "metadata": {},
   "outputs": [
    {
     "data": {
      "text/plain": [
       "array([ 2, 45,  4,  5,  8])"
      ]
     },
     "execution_count": 71,
     "metadata": {},
     "output_type": "execute_result"
    }
   ],
   "source": [
    "arr1"
   ]
  },
  {
   "cell_type": "markdown",
   "id": "ffbeea8c-fa1b-416a-829a-164c20be4918",
   "metadata": {},
   "source": [
    "### matrix library"
   ]
  },
  {
   "cell_type": "code",
   "execution_count": 72,
   "id": "fcf1309f-69db-41af-b695-ad75903347b0",
   "metadata": {},
   "outputs": [],
   "source": [
    "import numpy.matlib as nm"
   ]
  },
  {
   "cell_type": "code",
   "execution_count": 73,
   "id": "4e7d716f-bc2d-4182-8f29-5b38ec4ee805",
   "metadata": {},
   "outputs": [
    {
     "data": {
      "text/plain": [
       "matrix([[0., 0., 0., 0., 0.]])"
      ]
     },
     "execution_count": 73,
     "metadata": {},
     "output_type": "execute_result"
    }
   ],
   "source": [
    "nm.zeros(5)"
   ]
  },
  {
   "cell_type": "code",
   "execution_count": 75,
   "id": "2499150c-a043-4607-a81a-4712f7a40566",
   "metadata": {},
   "outputs": [
    {
     "data": {
      "text/plain": [
       "matrix([[1., 1., 1., 1.],\n",
       "        [1., 1., 1., 1.],\n",
       "        [1., 1., 1., 1.]])"
      ]
     },
     "execution_count": 75,
     "metadata": {},
     "output_type": "execute_result"
    }
   ],
   "source": [
    "nm.ones((3,4))"
   ]
  },
  {
   "cell_type": "code",
   "execution_count": 76,
   "id": "bd30fc9f-ead6-4c92-9a82-000383285eec",
   "metadata": {},
   "outputs": [
    {
     "data": {
      "text/plain": [
       "matrix([[1., 0., 0., 0.],\n",
       "        [0., 1., 0., 0.],\n",
       "        [0., 0., 1., 0.],\n",
       "        [0., 0., 0., 1.]])"
      ]
     },
     "execution_count": 76,
     "metadata": {},
     "output_type": "execute_result"
    }
   ],
   "source": [
    "nm.eye(4)"
   ]
  },
  {
   "cell_type": "markdown",
   "id": "c41e367d-3f03-480e-8bf4-24207f5060f4",
   "metadata": {},
   "source": [
    "### linear algebra"
   ]
  },
  {
   "cell_type": "code",
   "execution_count": 79,
   "id": "913ffa97-3fb3-4a10-8079-20a841f06850",
   "metadata": {},
   "outputs": [],
   "source": [
    "arr3=np.random.randint([[2,3],[4,5]])"
   ]
  },
  {
   "cell_type": "code",
   "execution_count": 80,
   "id": "575184eb-7119-4c09-90d4-8f7f0f90459f",
   "metadata": {},
   "outputs": [
    {
     "data": {
      "text/plain": [
       "array([[0, 1],\n",
       "       [2, 3]])"
      ]
     },
     "execution_count": 80,
     "metadata": {},
     "output_type": "execute_result"
    }
   ],
   "source": [
    "arr3"
   ]
  },
  {
   "cell_type": "code",
   "execution_count": 83,
   "id": "a06bd5b2-3df8-43e7-9b22-8d5eb38b15ee",
   "metadata": {},
   "outputs": [],
   "source": [
    "arr4=np.random.randint([[5,3],[2,5]])"
   ]
  },
  {
   "cell_type": "code",
   "execution_count": 84,
   "id": "4324fda2-cfa7-4ea9-9765-5a271df7242a",
   "metadata": {},
   "outputs": [
    {
     "data": {
      "text/plain": [
       "array([[2, 0],\n",
       "       [0, 3]])"
      ]
     },
     "execution_count": 84,
     "metadata": {},
     "output_type": "execute_result"
    }
   ],
   "source": [
    "arr4"
   ]
  },
  {
   "cell_type": "code",
   "execution_count": 85,
   "id": "82151f67-3749-47f1-bfdb-01e3881b327e",
   "metadata": {},
   "outputs": [
    {
     "data": {
      "text/plain": [
       "array([[0, 3],\n",
       "       [4, 9]])"
      ]
     },
     "execution_count": 85,
     "metadata": {},
     "output_type": "execute_result"
    }
   ],
   "source": [
    "# dot product\n",
    "np.dot(arr3,arr4)"
   ]
  },
  {
   "cell_type": "code",
   "execution_count": 87,
   "id": "6bd534e1-d97d-4997-bb30-8a3c0f957240",
   "metadata": {},
   "outputs": [
    {
     "data": {
      "text/plain": [
       "array([[0, 3],\n",
       "       [4, 9]])"
      ]
     },
     "execution_count": 87,
     "metadata": {},
     "output_type": "execute_result"
    }
   ],
   "source": [
    "# Another method of dot product\n",
    "arr3 @ arr4"
   ]
  },
  {
   "cell_type": "code",
   "execution_count": null,
   "id": "02157486-304d-4f68-9c8c-1ac914b3b2bf",
   "metadata": {},
   "outputs": [],
   "source": []
  }
 ],
 "metadata": {
  "kernelspec": {
   "display_name": "Python 3 (ipykernel)",
   "language": "python",
   "name": "python3"
  },
  "language_info": {
   "codemirror_mode": {
    "name": "ipython",
    "version": 3
   },
   "file_extension": ".py",
   "mimetype": "text/x-python",
   "name": "python",
   "nbconvert_exporter": "python",
   "pygments_lexer": "ipython3",
   "version": "3.10.8"
  }
 },
 "nbformat": 4,
 "nbformat_minor": 5
}
