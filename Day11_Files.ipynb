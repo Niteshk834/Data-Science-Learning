{
 "cells": [
  {
   "cell_type": "markdown",
   "id": "38a6ca2b-e297-4418-b77c-e7c70cd327da",
   "metadata": {},
   "source": [
    "# Date 11 feb 2023"
   ]
  },
  {
   "cell_type": "markdown",
   "id": "655e1468-0d1b-4aac-8ba2-9273d649a9d1",
   "metadata": {},
   "source": [
    "# Working with file"
   ]
  },
  {
   "cell_type": "code",
   "execution_count": 134,
   "id": "0d55f355-fbfb-424e-9527-39448231c37f",
   "metadata": {},
   "outputs": [
    {
     "ename": "SyntaxError",
     "evalue": "invalid syntax (1282787408.py, line 1)",
     "output_type": "error",
     "traceback": [
      "\u001b[0;36m  Cell \u001b[0;32mIn[134], line 1\u001b[0;36m\u001b[0m\n\u001b[0;31m    f= open(\"test.txt\", )           \"\"\" press shift+tab button if i want to open the file in specific mode.\u001b[0m\n\u001b[0m                                    ^\u001b[0m\n\u001b[0;31mSyntaxError\u001b[0m\u001b[0;31m:\u001b[0m invalid syntax\n"
     ]
    }
   ],
   "source": [
    "f= open(\"test.txt\", )           \"\"\" press shift+tab button if i want to open the file in specific mode. \n",
    "                                There are different kind of mode are available for open the file\"\"\"\n"
   ]
  },
  {
   "cell_type": "code",
   "execution_count": 135,
   "id": "7fb2d991-83ec-4e0e-8a6b-9af2a87955cd",
   "metadata": {},
   "outputs": [],
   "source": [
    "f= open(\"test.txt\",\"w\" )  # Here we want to open the file in write mode. After execution we get a txt file create in file browser ctrl+shift+F."
   ]
  },
  {
   "cell_type": "code",
   "execution_count": 3,
   "id": "13971b60-6004-43f7-a1d3-fd0be6cd23b7",
   "metadata": {},
   "outputs": [
    {
     "data": {
      "text/plain": [
       "'/home/jovyan/work'"
      ]
     },
     "execution_count": 3,
     "metadata": {},
     "output_type": "execute_result"
    }
   ],
   "source": [
    "pwd # To know about present working directory"
   ]
  },
  {
   "cell_type": "code",
   "execution_count": 4,
   "id": "21c79cba-b989-46d5-bfd4-09306dfcce81",
   "metadata": {},
   "outputs": [
    {
     "name": "stdout",
     "output_type": "stream",
     "text": [
      " \u001b[0m\u001b[01;34mAssignment\u001b[0m/\n",
      "'Day10_Decorators,class,static and special method,.ipynb'\n",
      " Day11_Files.ipynb\n",
      "'Day2_29 Jan23.ipynb'\n",
      "'Day3_Class String_manipulation_and_methods ,Expressions,_Operators,_and_Precedence.ipynb'\n",
      "'Day4- String List.ipynb'\n",
      "'Day5_Tuple, Set & Dictionary.ipynb'\n",
      " Day6_Functions.ipynb\n",
      "'Day7_lambda,Map,reduce & Filter function.ipynb'\n",
      " Day8_OOPS.ipynb\n",
      "'Day9_polymorphism encapsulation and inheritence.ipynb'\n",
      " Nitesh.ipynb\n",
      " practice.ipynb\n",
      " Quiz.ipynb\n",
      " README.md\n",
      "\u001b[01;34m'Resources PW'\u001b[0m/\n",
      " sample-code.ipynb\n",
      " test.txt\n"
     ]
    }
   ],
   "source": [
    "ls # ls give us all the file present in the present working directory"
   ]
  },
  {
   "cell_type": "code",
   "execution_count": 136,
   "id": "e76fccd1-118d-4c67-be89-2d826086dc2e",
   "metadata": {},
   "outputs": [
    {
     "data": {
      "text/plain": [
       "39"
      ]
     },
     "execution_count": 136,
     "metadata": {},
     "output_type": "execute_result"
    }
   ],
   "source": [
    "f.write(\"This is the testing of file operation. \") # Output showing the binary number for memory used for data. \n",
    "                                                 # After execution there will not showing anything in test.txt"
   ]
  },
  {
   "cell_type": "code",
   "execution_count": 137,
   "id": "6dcba239-022c-447a-8fa3-0c2ef6cfa090",
   "metadata": {},
   "outputs": [],
   "source": [
    "f.close() # For showing the writable thing in test.txt file"
   ]
  },
  {
   "cell_type": "code",
   "execution_count": 15,
   "id": "55f5b703-371c-4d96-9915-3d1f2289b093",
   "metadata": {},
   "outputs": [],
   "source": [
    "f= open(\"test.txt\",\"a\" ) # In append operation the previous file will be not delete from test.txt file"
   ]
  },
  {
   "cell_type": "code",
   "execution_count": 16,
   "id": "455011a9-dc25-4580-9cee-73048992c84e",
   "metadata": {},
   "outputs": [
    {
     "data": {
      "text/plain": [
       "42"
      ]
     },
     "execution_count": 16,
     "metadata": {},
     "output_type": "execute_result"
    }
   ],
   "source": [
    "f.write(\"Now we are learning about append operation\")"
   ]
  },
  {
   "cell_type": "code",
   "execution_count": 17,
   "id": "3da18a87-ea86-41a6-97bb-f89f1599504c",
   "metadata": {},
   "outputs": [],
   "source": [
    "f.close()"
   ]
  },
  {
   "cell_type": "code",
   "execution_count": 18,
   "id": "3b14791e-827a-48cf-855f-6dba3e1fbe54",
   "metadata": {},
   "outputs": [],
   "source": [
    "# Now I have to perform read operation"
   ]
  },
  {
   "cell_type": "code",
   "execution_count": 22,
   "id": "18c9ef5a-e6e7-4f65-8e50-035046aab8fc",
   "metadata": {},
   "outputs": [],
   "source": [
    "f=open(\"test.txt\",\"r\")"
   ]
  },
  {
   "cell_type": "code",
   "execution_count": 23,
   "id": "1a00d01c-e06f-41e6-aa63-9db7cebf075d",
   "metadata": {},
   "outputs": [
    {
     "data": {
      "text/plain": [
       "'This is the testing of file operation. Now we are learning about append operation'"
      ]
     },
     "execution_count": 23,
     "metadata": {},
     "output_type": "execute_result"
    }
   ],
   "source": [
    "f.read()"
   ]
  },
  {
   "cell_type": "code",
   "execution_count": 24,
   "id": "27f491bc-5c7c-4989-9b74-d3e7d49bf2b2",
   "metadata": {},
   "outputs": [
    {
     "data": {
      "text/plain": [
       "''"
      ]
     },
     "execution_count": 24,
     "metadata": {},
     "output_type": "execute_result"
    }
   ],
   "source": [
    "f.read() # output we get blank becuase in 2nd time of execution the cursor was avaialble in last."
   ]
  },
  {
   "cell_type": "code",
   "execution_count": 25,
   "id": "6feec4bf-6293-4e7f-a301-483a5777e89e",
   "metadata": {},
   "outputs": [],
   "source": [
    "# Now we have a target to reset the cursor for read the data again."
   ]
  },
  {
   "cell_type": "code",
   "execution_count": 26,
   "id": "e97ca552-e122-4f24-bcd1-800711dac0ea",
   "metadata": {},
   "outputs": [
    {
     "data": {
      "text/plain": [
       "0"
      ]
     },
     "execution_count": 26,
     "metadata": {},
     "output_type": "execute_result"
    }
   ],
   "source": [
    "f.seek(0) # From help of this, corsor come in start position and we are able to read data again."
   ]
  },
  {
   "cell_type": "code",
   "execution_count": 27,
   "id": "9e6b69f5-8910-47b4-86ae-e26bd895b94f",
   "metadata": {},
   "outputs": [
    {
     "data": {
      "text/plain": [
       "'This is the testing of file operation. Now we are learning about append operation'"
      ]
     },
     "execution_count": 27,
     "metadata": {},
     "output_type": "execute_result"
    }
   ],
   "source": [
    "f.read()"
   ]
  },
  {
   "cell_type": "code",
   "execution_count": 28,
   "id": "4cab1051-2e6e-4e6c-9221-5aafcbd3c44f",
   "metadata": {},
   "outputs": [],
   "source": [
    "# Now we have to set the cursor in any place"
   ]
  },
  {
   "cell_type": "code",
   "execution_count": 33,
   "id": "83b69311-de01-4c64-95d2-5a82407821b7",
   "metadata": {},
   "outputs": [
    {
     "data": {
      "text/plain": [
       "10"
      ]
     },
     "execution_count": 33,
     "metadata": {},
     "output_type": "execute_result"
    }
   ],
   "source": [
    "f.seek(10)"
   ]
  },
  {
   "cell_type": "code",
   "execution_count": 34,
   "id": "126a5334-3205-4fd1-82ff-8f21ffbdc706",
   "metadata": {},
   "outputs": [
    {
     "data": {
      "text/plain": [
       "'e testing of file operation. Now we are learning about append operation'"
      ]
     },
     "execution_count": 34,
     "metadata": {},
     "output_type": "execute_result"
    }
   ],
   "source": [
    "f.read()"
   ]
  },
  {
   "cell_type": "code",
   "execution_count": 35,
   "id": "98b305b2-adc1-4c25-99ad-79722199685c",
   "metadata": {},
   "outputs": [],
   "source": [
    "# Now another way to read the data"
   ]
  },
  {
   "cell_type": "code",
   "execution_count": 38,
   "id": "0a890331-65d4-4202-9321-9795ed1ced78",
   "metadata": {},
   "outputs": [],
   "source": [
    "data=open(\"test.txt\",\"r\")"
   ]
  },
  {
   "cell_type": "code",
   "execution_count": 39,
   "id": "c909737e-9704-4ef0-9d97-2c80808ffbff",
   "metadata": {},
   "outputs": [
    {
     "name": "stdout",
     "output_type": "stream",
     "text": [
      "This is the testing of file operation. Now we are learning about append operation\n"
     ]
    }
   ],
   "source": [
    "for i in data:\n",
    "    print(i)"
   ]
  },
  {
   "cell_type": "code",
   "execution_count": 40,
   "id": "760c4fd0-1c9e-4662-8cd5-8ddd5ae01bf5",
   "metadata": {},
   "outputs": [],
   "source": [
    "# Now we will know to the file size"
   ]
  },
  {
   "cell_type": "code",
   "execution_count": 41,
   "id": "59517642-3995-41af-935d-54baa5369985",
   "metadata": {},
   "outputs": [],
   "source": [
    "import os"
   ]
  },
  {
   "cell_type": "code",
   "execution_count": 42,
   "id": "207d4f9b-0c51-4cf8-a0ea-7bdf12423cba",
   "metadata": {},
   "outputs": [
    {
     "data": {
      "text/plain": [
       "81"
      ]
     },
     "execution_count": 42,
     "metadata": {},
     "output_type": "execute_result"
    }
   ],
   "source": [
    "os.path.getsize(\"test.txt\")"
   ]
  },
  {
   "cell_type": "code",
   "execution_count": 43,
   "id": "f5536e3f-bc65-4e72-82ba-c3eb0372d866",
   "metadata": {},
   "outputs": [],
   "source": [
    "# Now to create the copy of the file "
   ]
  },
  {
   "cell_type": "code",
   "execution_count": 48,
   "id": "88a5cc0f-78bb-4326-9a8a-973d7c2cfc0e",
   "metadata": {},
   "outputs": [],
   "source": [
    "import shutil"
   ]
  },
  {
   "cell_type": "code",
   "execution_count": 49,
   "id": "0847bf10-3316-45fc-a69b-180f434d82f7",
   "metadata": {},
   "outputs": [
    {
     "data": {
      "text/plain": [
       "'test1.txt'"
      ]
     },
     "execution_count": 49,
     "metadata": {},
     "output_type": "execute_result"
    }
   ],
   "source": [
    "shutil.copy(\"test.txt\",\"\" \"test1.txt\")"
   ]
  },
  {
   "cell_type": "code",
   "execution_count": 50,
   "id": "a4a76889-12d6-4930-9598-9133772d2702",
   "metadata": {},
   "outputs": [
    {
     "data": {
      "text/plain": [
       "''"
      ]
     },
     "execution_count": 50,
     "metadata": {},
     "output_type": "execute_result"
    }
   ],
   "source": [
    "data.read()"
   ]
  },
  {
   "cell_type": "code",
   "execution_count": 52,
   "id": "2cf878ea-1606-4def-a0dd-e167c1370972",
   "metadata": {},
   "outputs": [
    {
     "data": {
      "text/plain": [
       "0"
      ]
     },
     "execution_count": 52,
     "metadata": {},
     "output_type": "execute_result"
    }
   ],
   "source": [
    "data.seek(0)"
   ]
  },
  {
   "cell_type": "code",
   "execution_count": 53,
   "id": "b2d379fb-2606-44bb-9ef1-d5dc77907e63",
   "metadata": {},
   "outputs": [
    {
     "data": {
      "text/plain": [
       "'This is the testing of file operation. Now we are learning about append operation'"
      ]
     },
     "execution_count": 53,
     "metadata": {},
     "output_type": "execute_result"
    }
   ],
   "source": [
    "data.read()"
   ]
  },
  {
   "cell_type": "code",
   "execution_count": 54,
   "id": "7db53ea1-275d-4ca9-a266-6042a6bc32b7",
   "metadata": {},
   "outputs": [],
   "source": [
    "# Now I would like to delete some of the file"
   ]
  },
  {
   "cell_type": "code",
   "execution_count": 55,
   "id": "e114e151-ac7d-445f-9360-f1e67141778b",
   "metadata": {},
   "outputs": [],
   "source": [
    "os.remove(\"test.txt\")"
   ]
  },
  {
   "cell_type": "code",
   "execution_count": 56,
   "id": "0da44c96-2aa1-4ae5-85ec-08c2965cd6cd",
   "metadata": {},
   "outputs": [],
   "source": [
    "# Now we have to open the file in different way"
   ]
  },
  {
   "cell_type": "code",
   "execution_count": 59,
   "id": "e197af2c-a4c3-410f-ae93-e2f80d0cea58",
   "metadata": {},
   "outputs": [
    {
     "name": "stdout",
     "output_type": "stream",
     "text": [
      "This is the testing of file operation. Now we are learning about append operation\n"
     ]
    }
   ],
   "source": [
    "with open(\"test1.txt\",\"r\") as f:\n",
    "    print(f.read())\n",
    "    "
   ]
  },
  {
   "cell_type": "code",
   "execution_count": 60,
   "id": "f72f3dc1-440c-4541-a0f3-03f0d5b2553f",
   "metadata": {},
   "outputs": [],
   "source": [
    "# Now we will rename the available text file"
   ]
  },
  {
   "cell_type": "code",
   "execution_count": 62,
   "id": "97c22cf9-ccc0-4492-9a8b-78ae0e21a65b",
   "metadata": {},
   "outputs": [],
   "source": [
    "os.rename(\"test2.txt\",\"te\")"
   ]
  },
  {
   "cell_type": "code",
   "execution_count": 63,
   "id": "564e0dc7-d3b5-497a-807f-0873ee17e628",
   "metadata": {},
   "outputs": [],
   "source": [
    "os.remove(\"te\") # Now we removed the created file"
   ]
  },
  {
   "cell_type": "markdown",
   "id": "3ed0a4ce-72a8-4d96-84da-3857b1398049",
   "metadata": {},
   "source": [
    "# Reading and Writing file"
   ]
  },
  {
   "cell_type": "code",
   "execution_count": null,
   "id": "0c396405-3607-4c53-ba76-81d0c471e853",
   "metadata": {},
   "outputs": [],
   "source": [
    " # Here we will understand how the read and write operation perform  for the diifferent file system."
   ]
  },
  {
   "cell_type": "code",
   "execution_count": null,
   "id": "e37dcd8e-5b86-4b24-b437-898c07453983",
   "metadata": {},
   "outputs": [],
   "source": [
    " # Here we will use dictionary kind of object"
   ]
  },
  {
   "cell_type": "code",
   "execution_count": 100,
   "id": "5d96f12e-96f3-49a1-9154-421e6a506072",
   "metadata": {},
   "outputs": [],
   "source": [
    "data = {\"name\": \"Nitesh\",\"email\": \"nk@gmail.com\",\"phone\": 1234567, \"subject\": [\"Data science\",\"Big data\",\"webdev\"]} # This data is equivalent to\n",
    "                                                                                                                    # the JASON Data\n",
    "    "
   ]
  },
  {
   "cell_type": "code",
   "execution_count": 101,
   "id": "73d45842-ecbf-44ab-8ac8-5c1e5ce93d47",
   "metadata": {},
   "outputs": [],
   "source": [
    "import json"
   ]
  },
  {
   "cell_type": "code",
   "execution_count": 102,
   "id": "9e8ae09d-f73b-4f6b-b5b7-d7201e9773e9",
   "metadata": {},
   "outputs": [],
   "source": [
    "with open(\"test1.json\",\"w\") as f: # After execution file with the name of test1.json created\n",
    "    json.dump(data,f)   # dump used for write operation"
   ]
  },
  {
   "cell_type": "code",
   "execution_count": 87,
   "id": "f3da9f50-0418-43cb-a018-8c9e90f6da0d",
   "metadata": {},
   "outputs": [],
   "source": [
    "# Now how to read the data"
   ]
  },
  {
   "cell_type": "code",
   "execution_count": 105,
   "id": "826f4724-2d56-489a-9e2e-8fde2a9ef903",
   "metadata": {},
   "outputs": [],
   "source": [
    "with open(\"test1.json\", \"r\") as f :\n",
    "    data1 = json.load(f)  # load used for read operation\n"
   ]
  },
  {
   "cell_type": "code",
   "execution_count": 106,
   "id": "f824d12f-f55e-43e1-8071-1978b76a266c",
   "metadata": {},
   "outputs": [
    {
     "data": {
      "text/plain": [
       "{'name': 'Nitesh',\n",
       " 'email': 'nk@gmail.com',\n",
       " 'phone': 1234567,\n",
       " 'subject': ['Data science', 'Big data', 'webdev']}"
      ]
     },
     "execution_count": 106,
     "metadata": {},
     "output_type": "execute_result"
    }
   ],
   "source": [
    "data1"
   ]
  },
  {
   "cell_type": "code",
   "execution_count": 107,
   "id": "715d413b-7b95-4bd1-9b2e-7238c342374d",
   "metadata": {},
   "outputs": [],
   "source": [
    "# Now we perform to extract the \"Big data\""
   ]
  },
  {
   "cell_type": "code",
   "execution_count": 109,
   "id": "e371a813-4d10-4ec6-9299-050f946e81a0",
   "metadata": {},
   "outputs": [
    {
     "data": {
      "text/plain": [
       "['Data science', 'Big data', 'webdev']"
      ]
     },
     "execution_count": 109,
     "metadata": {},
     "output_type": "execute_result"
    }
   ],
   "source": [
    "data1[\"subject\"]"
   ]
  },
  {
   "cell_type": "code",
   "execution_count": 110,
   "id": "173bce51-4ece-412e-883e-fdd405d183e1",
   "metadata": {},
   "outputs": [
    {
     "data": {
      "text/plain": [
       "'Big data'"
      ]
     },
     "execution_count": 110,
     "metadata": {},
     "output_type": "execute_result"
    }
   ],
   "source": [
    "data1[\"subject\"][1]"
   ]
  },
  {
   "cell_type": "code",
   "execution_count": 111,
   "id": "422a82be-ea14-43dd-8345-84b3f196282b",
   "metadata": {},
   "outputs": [],
   "source": [
    "# Let's we perform for comma seperated data"
   ]
  },
  {
   "cell_type": "code",
   "execution_count": 113,
   "id": "74ed0b06-9a11-4140-9fc0-180cad4c1136",
   "metadata": {},
   "outputs": [],
   "source": [
    "data= [[\"name\",\"email\",\"number\"],[\"nitesh\",\"nk@gmail.com\",1234567],[\"rahul\",\"rk@gmail.com\",123456789]] # data is list under list"
   ]
  },
  {
   "cell_type": "code",
   "execution_count": 114,
   "id": "ddf3c22a-2b42-4d27-bda9-71bc3242395c",
   "metadata": {},
   "outputs": [],
   "source": [
    "# comma seperated data is always stored in the csv file format"
   ]
  },
  {
   "cell_type": "code",
   "execution_count": 115,
   "id": "e4d36695-3199-43b3-9bc7-259651fd3e0c",
   "metadata": {},
   "outputs": [],
   "source": [
    "import csv"
   ]
  },
  {
   "cell_type": "code",
   "execution_count": 125,
   "id": "6a210005-4425-4dd3-95d9-6bb7a99c59ea",
   "metadata": {},
   "outputs": [],
   "source": [
    "with open (\"test2.csv\",\"w\") as f:\n",
    "    obj_w=csv.writer(f)\n",
    "    for i in data:\n",
    "        obj_w.writerow(i)"
   ]
  },
  {
   "cell_type": "code",
   "execution_count": 121,
   "id": "7b044ef3-abd7-4d09-b66c-cd214dcf310b",
   "metadata": {},
   "outputs": [],
   "source": [
    "# Now how to perform the data read operation"
   ]
  },
  {
   "cell_type": "code",
   "execution_count": 123,
   "id": "f36e55e5-92b7-4d96-969d-2d1d66d1bbff",
   "metadata": {},
   "outputs": [
    {
     "name": "stdout",
     "output_type": "stream",
     "text": [
      "['name', 'email', 'number']\n",
      "['nitesh', 'nk@gmail.com', '1234567']\n",
      "['rahul', 'rk@gmail.com', '123456789']\n"
     ]
    }
   ],
   "source": [
    "with open(\"test2.csv\",\"r\") as f:\n",
    "    obj_read= csv.reader(f)\n",
    "    for i in obj_read:\n",
    "        print(i)"
   ]
  },
  {
   "cell_type": "code",
   "execution_count": 126,
   "id": "cbd66492-8555-4871-8468-720edabafb84",
   "metadata": {},
   "outputs": [],
   "source": [
    "# Now we will be read and write of Binary kind of data"
   ]
  },
  {
   "cell_type": "code",
   "execution_count": 130,
   "id": "eac9631e-6985-4704-821f-50bf0d994e54",
   "metadata": {},
   "outputs": [],
   "source": [
    "with open (\"test3.bin\",\"wb\") as f:   # \"wb\" stands for write binary\n",
    "    f.write(b\"\\x01\\x02\\x03\\x04\\x05\")\n",
    "    "
   ]
  },
  {
   "cell_type": "code",
   "execution_count": 131,
   "id": "e9c295a8-a403-4fdc-bbc0-253e8efd7c47",
   "metadata": {},
   "outputs": [],
   "source": [
    "# Now try to perform a read operation of binary file"
   ]
  },
  {
   "cell_type": "code",
   "execution_count": 132,
   "id": "11fed739-5345-4873-ab73-137714e1b796",
   "metadata": {},
   "outputs": [
    {
     "name": "stdout",
     "output_type": "stream",
     "text": [
      "b'\\x01\\x02\\x03\\x04\\x05'\n"
     ]
    }
   ],
   "source": [
    "with open (\"test3.bin\",\"rb\") as f:\n",
    "    print(f.read())"
   ]
  },
  {
   "cell_type": "markdown",
   "id": "96a55bff-9bad-4079-a624-6dbd829e9902",
   "metadata": {},
   "source": [
    "# Buffered Read And Write Other File Methods"
   ]
  },
  {
   "cell_type": "code",
   "execution_count": 3,
   "id": "24a4ff45-a464-4293-bcf6-e756f1107989",
   "metadata": {},
   "outputs": [],
   "source": [
    "# If we have a very very big file size and still we have to perform read and write operation then \"Buffered operation\"\n",
    "#is come into the picture"
   ]
  },
  {
   "cell_type": "code",
   "execution_count": 4,
   "id": "ea108251-9ee1-42f9-876f-ca5bd09093b3",
   "metadata": {},
   "outputs": [],
   "source": [
    "import io    # io is inout output"
   ]
  },
  {
   "cell_type": "code",
   "execution_count": 11,
   "id": "b110ad8e-2768-420d-be25-291dc6412b4a",
   "metadata": {},
   "outputs": [],
   "source": [
    "with open(\"test4.txt\",\"wb\") as f :\n",
    "    file=io.BufferedWriter(f)  # Bufferedwriter have the size of 8192 byte\n",
    "    file.write(b\"This is my buffered write\\n\")\n",
    "    file.write(b\"This is my second line whic i am trying to write\")\n",
    "    file.flush()\n",
    " # After execution the file created of the name of test4.txt but not showing any data when open it.\n",
    " # For showing the data we will use flush operation."
   ]
  },
  {
   "cell_type": "code",
   "execution_count": 12,
   "id": "84d9d537-a71a-475a-9c6d-0d06524952ca",
   "metadata": {},
   "outputs": [],
   "source": [
    "# Now I have to perform the read operation"
   ]
  },
  {
   "cell_type": "code",
   "execution_count": 15,
   "id": "1db8d0b5-3e53-41a5-b9e2-b88578e0a4ab",
   "metadata": {},
   "outputs": [
    {
     "name": "stdout",
     "output_type": "stream",
     "text": [
      "b'This is my buffered write\\nThis is my second line whic i am trying to write'\n"
     ]
    }
   ],
   "source": [
    "with open(\"test4.txt\", \"rb\") as f:\n",
    "    file= io.BufferedReader(f)\n",
    "    print(file.read())\n",
    "    \n",
    "    "
   ]
  },
  {
   "cell_type": "code",
   "execution_count": 22,
   "id": "387524cb-6a51-4416-b4fa-e4d237ead352",
   "metadata": {},
   "outputs": [
    {
     "name": "stdout",
     "output_type": "stream",
     "text": [
      "b'This is my buffered'\n"
     ]
    }
   ],
   "source": [
    "with open(\"test4.txt\", \"rb\") as f:\n",
    "    file= io.BufferedReader(f)\n",
    "    print(file.read(19))"
   ]
  },
  {
   "cell_type": "code",
   "execution_count": 23,
   "id": "82c98040-f74b-415d-9d17-8f43819776e5",
   "metadata": {},
   "outputs": [
    {
     "name": "stdout",
     "output_type": "stream",
     "text": [
      "b'This is my buffered write\\nThis is my second line whic i am trying to write'\n"
     ]
    }
   ],
   "source": [
    "with open(\"test4.txt\", \"rb\") as f:\n",
    "    file= io.BufferedReader(f)\n",
    "    print(file.read(100000)) # If we put 100000 yet it read the data which will available. It will not give any error."
   ]
  },
  {
   "cell_type": "code",
   "execution_count": 30,
   "id": "69c77e6e-d45c-46c7-ad9d-5d9e70781610",
   "metadata": {},
   "outputs": [
    {
     "name": "stdout",
     "output_type": "stream",
     "text": [
      "b'This is my buffered write\\nThis is my second line whic i am trying to write'\n"
     ]
    }
   ],
   "source": [
    "with open(\"test4.txt\", \"rb\") as f:\n",
    "    file= io.BufferedReader(f)\n",
    "    print(file.read(-1))# Except -1 it will give error and showing only non negative number allowed."
   ]
  },
  {
   "cell_type": "markdown",
   "id": "2e6f368b-6b6d-477f-995b-e477d777db01",
   "metadata": {},
   "source": [
    "# Logging & Debugger"
   ]
  },
  {
   "cell_type": "code",
   "execution_count": 31,
   "id": "8e742116-15af-4952-9db1-11f6e1094057",
   "metadata": {},
   "outputs": [],
   "source": [
    "# Whenever execution of any code and get an error at any point of time then for fixing those error Logging concept come into the picture."
   ]
  },
  {
   "cell_type": "code",
   "execution_count": null,
   "id": "7a230f53-9f51-4584-94db-9a45d0911d60",
   "metadata": {},
   "outputs": [],
   "source": [
    "\"\"\" In general production grade code, print statement are generally not used becuase \n",
    "it always give something output and whenever system goes shutdown then print operation permanent lossed.\n",
    "\n",
    "So, I need a permanent storage where each and every information logged into it. So looging concept introduced.\n"
   ]
  },
  {
   "cell_type": "code",
   "execution_count": 58,
   "id": "4037f4af-a1df-440f-97bb-3484fee890da",
   "metadata": {},
   "outputs": [
    {
     "name": "stdout",
     "output_type": "stream",
     "text": [
      "This is my print\n"
     ]
    }
   ],
   "source": [
    "print(\"This is my print\")"
   ]
  },
  {
   "cell_type": "code",
   "execution_count": 1,
   "id": "1f865c38-ffad-484b-9e98-b97e4dbf98b4",
   "metadata": {},
   "outputs": [],
   "source": [
    "import logging"
   ]
  },
  {
   "cell_type": "code",
   "execution_count": 2,
   "id": "19927730-ba6c-44f7-bc2c-1e781022d41a",
   "metadata": {},
   "outputs": [],
   "source": [
    "logging.basicConfig(filename= \"test.log\", level=logging.INFO) # After execution log file generate but no data will showing"
   ]
  },
  {
   "cell_type": "code",
   "execution_count": 9,
   "id": "71708cf4-a24f-4c16-a194-3cd5057f36c9",
   "metadata": {},
   "outputs": [],
   "source": [
    "# For showing the data in log file we do as below:"
   ]
  },
  {
   "cell_type": "code",
   "execution_count": 3,
   "id": "a1e981d7-22b4-4c03-99b5-779397cf3c29",
   "metadata": {},
   "outputs": [],
   "source": [
    "logging.info(\"This is my first line of execution\")"
   ]
  },
  {
   "cell_type": "code",
   "execution_count": 4,
   "id": "70de8b74-3088-40b1-8e8c-ec7164187283",
   "metadata": {},
   "outputs": [],
   "source": [
    "logging.error(\"This is my error\")"
   ]
  },
  {
   "cell_type": "code",
   "execution_count": 5,
   "id": "cad17fbd-3d3a-4584-b2b0-42f6f4044788",
   "metadata": {},
   "outputs": [],
   "source": [
    "logging.critical(\"This is my critical\")"
   ]
  },
  {
   "cell_type": "code",
   "execution_count": 6,
   "id": "00c54a19-81b5-45ab-a959-f763707f9f6d",
   "metadata": {},
   "outputs": [],
   "source": [
    "logging.warning(\"This is my warning\")"
   ]
  },
  {
   "cell_type": "code",
   "execution_count": 13,
   "id": "f5d45fe6-e2b6-4fdf-91b6-0ff63af9f827",
   "metadata": {},
   "outputs": [],
   "source": [
    "# In logging operation how the system works as per Hierarcy "
   ]
  },
  {
   "cell_type": "code",
   "execution_count": null,
   "id": "d3ffef33-fbe2-4427-97ad-ec4335f7ba88",
   "metadata": {},
   "outputs": [],
   "source": [
    "1. NOSET\n",
    "2. DEBUG\n",
    "3. INFO\n",
    "4. WARNING\n",
    "5. ERROR\n",
    "6. CRITICAL"
   ]
  },
  {
   "cell_type": "code",
   "execution_count": 19,
   "id": "87e826b9-e0e9-4a33-9870-367382f69758",
   "metadata": {},
   "outputs": [],
   "source": [
    "logging.debug(\"This is my Debug\") # we didn't get any output because we use INFO in a level. So as per hierarcy we didn't get output."
   ]
  },
  {
   "cell_type": "code",
   "execution_count": 20,
   "id": "9abbf4f0-e6c8-467f-9434-5242bdd71779",
   "metadata": {},
   "outputs": [
    {
     "ename": "AttributeError",
     "evalue": "module 'logging' has no attribute 'noset'",
     "output_type": "error",
     "traceback": [
      "\u001b[0;31m---------------------------------------------------------------------------\u001b[0m",
      "\u001b[0;31mAttributeError\u001b[0m                            Traceback (most recent call last)",
      "Cell \u001b[0;32mIn[20], line 1\u001b[0m\n\u001b[0;32m----> 1\u001b[0m \u001b[43mlogging\u001b[49m\u001b[38;5;241;43m.\u001b[39;49m\u001b[43mnoset\u001b[49m(\u001b[38;5;124m\"\u001b[39m\u001b[38;5;124mThis is my Noset\u001b[39m\u001b[38;5;124m\"\u001b[39m)\n",
      "\u001b[0;31mAttributeError\u001b[0m: module 'logging' has no attribute 'noset'"
     ]
    }
   ],
   "source": [
    "logging.noset(\"This is my Noset\") # noset are not available in current version of python but it was in previous version."
   ]
  },
  {
   "cell_type": "code",
   "execution_count": 17,
   "id": "ff7ecaeb-b8d5-4bd3-bc30-4f0ccac4162a",
   "metadata": {},
   "outputs": [],
   "source": [
    "logging.shutdown() # From this we are able to shutdown the log"
   ]
  },
  {
   "cell_type": "code",
   "execution_count": 22,
   "id": "804e22aa-68b1-46b2-b043-fe38e7bdf863",
   "metadata": {},
   "outputs": [],
   "source": [
    "# Now we will try to create a new logging information"
   ]
  },
  {
   "cell_type": "code",
   "execution_count": 1,
   "id": "9b9efccf-9caf-4343-b876-41d0865275c6",
   "metadata": {},
   "outputs": [],
   "source": [
    "import logging"
   ]
  },
  {
   "cell_type": "code",
   "execution_count": 2,
   "id": "d91d277d-5c3c-40fb-a10f-2f095d2a3d57",
   "metadata": {},
   "outputs": [],
   "source": [
    "logging.basicConfig(filename=\"test1.log\", level= logging.DEBUG, format= \"%(asctime)s %(message)s\")"
   ]
  },
  {
   "cell_type": "code",
   "execution_count": 6,
   "id": "484836a6-b9e7-43b2-8993-65dd67d3cfc9",
   "metadata": {},
   "outputs": [],
   "source": [
    "logging.info(\"This is my info\\n\")"
   ]
  },
  {
   "cell_type": "code",
   "execution_count": 4,
   "id": "9b55920a-2866-43fb-b619-104d1b8b316a",
   "metadata": {},
   "outputs": [],
   "source": [
    "logging.debug(\"This is my debug\")"
   ]
  },
  {
   "cell_type": "code",
   "execution_count": 5,
   "id": "0fc8c9bf-47c9-4f29-b595-dedeb3d06743",
   "metadata": {},
   "outputs": [],
   "source": [
    "logging.error(\"This is my error\")"
   ]
  },
  {
   "cell_type": "code",
   "execution_count": 7,
   "id": "b9d4dadb-b0f3-423b-8565-5258e9fc520f",
   "metadata": {},
   "outputs": [],
   "source": [
    "logging.shutdown()"
   ]
  },
  {
   "cell_type": "code",
   "execution_count": 6,
   "id": "a137f21b-3695-471a-b785-99074bd35f22",
   "metadata": {},
   "outputs": [],
   "source": [
    "import logging"
   ]
  },
  {
   "cell_type": "code",
   "execution_count": 7,
   "id": "2dd6ff77-66a2-4269-a563-e388bd62ca77",
   "metadata": {},
   "outputs": [],
   "source": [
    "logging.basicConfig(filename=\"test2.log\", level=logging.DEBUG, format= \"%(asctime)s %(name)s %(levelname)s %(message)s\")"
   ]
  },
  {
   "cell_type": "code",
   "execution_count": 8,
   "id": "dcbd4af5-5d42-4fec-80a8-1b814dbd9975",
   "metadata": {},
   "outputs": [],
   "source": [
    "logging.info(\"This is my info\")"
   ]
  },
  {
   "cell_type": "code",
   "execution_count": 9,
   "id": "16bc9496-7637-449c-b1ca-ac662c2dc0bf",
   "metadata": {},
   "outputs": [],
   "source": [
    "# Lets try to implement this logging in some of the python coding"
   ]
  },
  {
   "cell_type": "code",
   "execution_count": 10,
   "id": "0e5a7463-3ce6-4813-8748-4fe6ca156efc",
   "metadata": {},
   "outputs": [],
   "source": [
    "l=[1,2,3,4,[5,6,7],\"nitesh\",\"kumar\"]"
   ]
  },
  {
   "cell_type": "code",
   "execution_count": 18,
   "id": "c0aef9aa-c39b-44ca-96df-4dc41f19562a",
   "metadata": {},
   "outputs": [],
   "source": [
    "l1_int=[]\n",
    "l2_str=[]\n",
    "for i in l:\n",
    "    logging.info(\"This is my start of for loop {}\".format(l)) # By the using of log operation we can find out where our progrmame crashed\n",
    "    logging.info(\"This is value of i and I am logging {}\".format(i))\n",
    "    if type(i)== list:\n",
    "        for j in i:\n",
    "            logging.info(\"logging my j {j} and i is {i} \".format(i=i , j=j))\n",
    "            if type(j)== int:\n",
    "                l1_int.append(j)\n",
    "    elif type(i)== int:\n",
    "        l1_int.append(i)\n",
    "        \n",
    "    else:\n",
    "        type(i)== str\n",
    "        l2_str.append(i)  \n",
    "        \n",
    "logging.info(\"This is my final result with all int {l1}, with al str {l2}\". format(l1=l1_int, l2=l2_str))        "
   ]
  },
  {
   "cell_type": "code",
   "execution_count": 13,
   "id": "f8d13b5c-9780-4a4c-b752-3a1bfb420672",
   "metadata": {},
   "outputs": [
    {
     "data": {
      "text/plain": [
       "[1, 2, 3, 4, 5, 6, 7]"
      ]
     },
     "execution_count": 13,
     "metadata": {},
     "output_type": "execute_result"
    }
   ],
   "source": [
    "l1_int"
   ]
  },
  {
   "cell_type": "code",
   "execution_count": 14,
   "id": "28b8f73f-f756-4953-a9c6-bb2afde23ae7",
   "metadata": {},
   "outputs": [
    {
     "data": {
      "text/plain": [
       "['nitesh', 'kumar']"
      ]
     },
     "execution_count": 14,
     "metadata": {},
     "output_type": "execute_result"
    }
   ],
   "source": [
    "l2_str"
   ]
  },
  {
   "cell_type": "markdown",
   "id": "9babb47d-313b-4f4c-b2b8-b7992cebfe83",
   "metadata": {},
   "source": [
    "# Modules And Import Statements"
   ]
  },
  {
   "cell_type": "code",
   "execution_count": null,
   "id": "99646d79-02e7-48e4-aae1-6bfa99270f2d",
   "metadata": {},
   "outputs": [],
   "source": [
    "# For understand this we are run a code in python programme. So launched a python lab"
   ]
  }
 ],
 "metadata": {
  "kernelspec": {
   "display_name": "Python 3 (ipykernel)",
   "language": "python",
   "name": "python3"
  },
  "language_info": {
   "codemirror_mode": {
    "name": "ipython",
    "version": 3
   },
   "file_extension": ".py",
   "mimetype": "text/x-python",
   "name": "python",
   "nbconvert_exporter": "python",
   "pygments_lexer": "ipython3",
   "version": "3.10.8"
  }
 },
 "nbformat": 4,
 "nbformat_minor": 5
}
