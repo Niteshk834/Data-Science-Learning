{
 "cells": [
  {
   "cell_type": "markdown",
   "id": "7ac97ee9-3551-4455-af67-7c90b0880dc0",
   "metadata": {},
   "source": [
    "## Q1. Create a function which will take a list as an argument and return the product of all the numbers after creating a flat list.\n",
    "\n",
    "### Use the below-given list as an argument for your function.\n",
    "\n",
    "\n",
    "#### list1 = [1,2,3,4, [44,55,66, True], False, (34,56,78,89,34), {1,2,3,3,2,1}, {1:34, \"key2\": [55, 67, 78, 89], 4: (45,22, 61, 34)}, [56, 'data science'], 'Machine Learning']\n",
    "\n",
    "\n",
    "##### Note: you must extract numeric keys and values of the dictionary also.\n"
   ]
  },
  {
   "cell_type": "markdown",
   "id": "65456320-7307-484c-9f76-7939bbbbe569",
   "metadata": {},
   "source": [
    "### Answer:-"
   ]
  },
  {
   "cell_type": "code",
   "execution_count": 43,
   "id": "1e2aa948-7d5b-42c1-9f27-77831517a06d",
   "metadata": {},
   "outputs": [],
   "source": [
    "list1 = [1,2,3,4, [44,55,66, True], False, (34,56,78,89,34), {1,2,3,3,2,1}, {1:34, \"key2\": [55, 67, 78, 89], 4: (45, 22, 61, 34)}, [56, 'data science'], 'Machine Learning']"
   ]
  },
  {
   "cell_type": "code",
   "execution_count": 46,
   "id": "e17752dc-701b-4359-a9ce-12e2c9504f71",
   "metadata": {},
   "outputs": [],
   "source": [
    "def flat(list1):\n",
    "    flat_list=[]\n",
    "    for i in list1:\n",
    "        if type(i)==list or type(i)==tuple or type(i)==set:\n",
    "            for j in i:\n",
    "                if type(j)==int:\n",
    "                    flat_list.append(j)\n",
    "        elif type(i)==dict:\n",
    "            for k in i.keys():\n",
    "                if type(k)==int:\n",
    "                    flat_list.append(k)\n",
    "            for l in i.values():\n",
    "                if type(l)==list or type(l)==tuple:\n",
    "                    for m in l:\n",
    "                        if type(m)==int:\n",
    "                            flat_list.append(m)                   \n",
    "                elif type(l)==int:\n",
    "                    flat_list.append(l)\n",
    "                \n",
    "        elif type(i)==int:\n",
    "            flat_list.append(i)           \n",
    "    return flat_list        \n",
    "            "
   ]
  },
  {
   "cell_type": "code",
   "execution_count": 48,
   "id": "4d488dbc-cfc0-47d7-ae93-0631e56855f9",
   "metadata": {},
   "outputs": [],
   "source": [
    "flat_list=flat(list1)"
   ]
  },
  {
   "cell_type": "code",
   "execution_count": 50,
   "id": "0c879ecb-7737-49e2-85c3-2cae3348492d",
   "metadata": {},
   "outputs": [
    {
     "name": "stdout",
     "output_type": "stream",
     "text": [
      "[1, 2, 3, 4, 44, 55, 66, 34, 56, 78, 89, 34, 1, 2, 3, 1, 4, 34, 55, 67, 78, 89, 45, 22, 61, 34, 56] "
     ]
    }
   ],
   "source": [
    "print(flat_list,end=\" \")"
   ]
  },
  {
   "cell_type": "code",
   "execution_count": 52,
   "id": "ee9b1dfd-f1b2-47a9-8655-9b2724e31105",
   "metadata": {},
   "outputs": [],
   "source": [
    "from functools import reduce"
   ]
  },
  {
   "cell_type": "code",
   "execution_count": 53,
   "id": "9bdd7b31-6fbe-4ac4-b8a6-6a97ad92914f",
   "metadata": {},
   "outputs": [],
   "source": [
    "\n",
    "product_all_number=reduce(lambda x,y:x*y,flat_list)"
   ]
  },
  {
   "cell_type": "code",
   "execution_count": 54,
   "id": "560d841d-4d18-4253-8f92-92665b81ab13",
   "metadata": {},
   "outputs": [
    {
     "data": {
      "text/plain": [
       "4134711838987085478833841242112000"
      ]
     },
     "execution_count": 54,
     "metadata": {},
     "output_type": "execute_result"
    }
   ],
   "source": [
    "product_all_number"
   ]
  },
  {
   "cell_type": "code",
   "execution_count": null,
   "id": "fef7b07f-ec8f-48dd-b193-266b8cfa6ab1",
   "metadata": {},
   "outputs": [],
   "source": []
  },
  {
   "cell_type": "markdown",
   "id": "10522135-a537-4496-8ffa-7b63e53c32fa",
   "metadata": {},
   "source": [
    "## Q2. Write a python program for encrypting a message sent to you by your friend. The logic of encryption should be such that, for a, the output should be z. For b, the output should be y. For c, the output should be x respectively. Also, the whitespace should be replaced with a dollar sign. Keep the punctuation marks unchanged.\n",
    "\n",
    "\n",
    "### Input Sentence: I want to become a Data Scientist!.\n",
    "\n",
    "\n",
    "#### Encrypt the above input sentence using the program you just created.\n",
    "\n",
    "\n",
    "##### Note: Convert the given input sentence into lowercase before encrypting. The final output should be lowercase."
   ]
  },
  {
   "cell_type": "markdown",
   "id": "ddd0a4ff-2fb1-4a87-8e77-df67dc5c1fd2",
   "metadata": {},
   "source": [
    "### Answer:-"
   ]
  },
  {
   "cell_type": "code",
   "execution_count": 81,
   "id": "23da4672-f648-4078-86fd-069577ea154b",
   "metadata": {},
   "outputs": [],
   "source": [
    "input_sentence=\"I want to become a Data Scientist!\""
   ]
  },
  {
   "cell_type": "code",
   "execution_count": 82,
   "id": "6673590a-e77e-47fc-9eb6-11d165ff0bc5",
   "metadata": {},
   "outputs": [
    {
     "data": {
      "text/plain": [
       "'I want to become a Data Scientist!'"
      ]
     },
     "execution_count": 82,
     "metadata": {},
     "output_type": "execute_result"
    }
   ],
   "source": [
    "input_sentence"
   ]
  },
  {
   "cell_type": "code",
   "execution_count": 83,
   "id": "fe5cd74a-a5f1-4652-a36b-d787f0705598",
   "metadata": {},
   "outputs": [
    {
     "data": {
      "text/plain": [
       "'i want to become a data scientist!'"
      ]
     },
     "execution_count": 83,
     "metadata": {},
     "output_type": "execute_result"
    }
   ],
   "source": [
    "input_sentence.lower()"
   ]
  },
  {
   "cell_type": "code",
   "execution_count": 84,
   "id": "a7516e71-d2d3-4957-b30e-a0065675f039",
   "metadata": {},
   "outputs": [
    {
     "name": "stdout",
     "output_type": "stream",
     "text": [
      "encrypted_input_sentence is: i$want$to$become$a$data$scientist!\n"
     ]
    }
   ],
   "source": [
    "input_sentence = \"I want to become a Data Scientist!\"\n",
    "\n",
    "# We will create a dictionary to store keys and values\n",
    "\n",
    "dict = {\"a\": \"z\", \"b\": \"y\",\"c\": \"x\", \" \": \"$\"}\n",
    "\n",
    "# lowercase the string\n",
    "final_input_sentence = input_sentence.lower()\n",
    "\n",
    "# Replace input sentence with dictionary keys and values using loops\n",
    "for i in dict:\n",
    "\tencrypt_final_input_sentence = final_input_sentence.replace(i, dict[i])\n",
    "\n",
    "# f- strings which improves readability\n",
    "print(\"encrypted_input_sentence is:\",encrypt_final_input_sentence)\n"
   ]
  },
  {
   "cell_type": "code",
   "execution_count": null,
   "id": "3519cb1f-ddbb-4b31-9993-98f214669628",
   "metadata": {},
   "outputs": [],
   "source": []
  }
 ],
 "metadata": {
  "kernelspec": {
   "display_name": "Python 3 (ipykernel)",
   "language": "python",
   "name": "python3"
  },
  "language_info": {
   "codemirror_mode": {
    "name": "ipython",
    "version": 3
   },
   "file_extension": ".py",
   "mimetype": "text/x-python",
   "name": "python",
   "nbconvert_exporter": "python",
   "pygments_lexer": "ipython3",
   "version": "3.10.8"
  }
 },
 "nbformat": 4,
 "nbformat_minor": 5
}
