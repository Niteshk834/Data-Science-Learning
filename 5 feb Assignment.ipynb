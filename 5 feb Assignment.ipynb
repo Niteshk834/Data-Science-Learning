{
 "cells": [
  {
   "cell_type": "markdown",
   "id": "5e5f91af-d769-4983-b140-8b31a2d42437",
   "metadata": {},
   "source": [
    "# 5 Feb 2023 Assignment"
   ]
  },
  {
   "cell_type": "markdown",
   "id": "7c9346df-5039-4773-b0a1-56bf1953a9db",
   "metadata": {},
   "source": [
    "## Q1. Explain Class and Object with respect to Object-Oriented Programming. Give a suitable example.\n"
   ]
  },
  {
   "cell_type": "markdown",
   "id": "e48cac82-e57b-4f0f-8a0a-51a715853774",
   "metadata": {},
   "source": [
    "### Answer:-"
   ]
  },
  {
   "cell_type": "markdown",
   "id": "12841402-f8ac-4fb9-afe7-174be1a257ce",
   "metadata": {},
   "source": [
    "An object is called an instance of a class. \n",
    "For example, suppose student is a class then we can create objects like student1, student2 etc from the class.\n",
    "\n",
    "Here's the syntax to create an object."
   ]
  },
  {
   "cell_type": "code",
   "execution_count": 3,
   "id": "17129ff9-4b7d-40c3-b1aa-5027219d2985",
   "metadata": {},
   "outputs": [],
   "source": [
    "# create class\n",
    "class student:\n",
    "    name=\"nitesh\"\n",
    "    email_id=\"niteshk834@gmail.com\"\n",
    "    phone_no= 7014532218\n",
    "    \n",
    "#create object of class   \n",
    "student1=student()"
   ]
  },
  {
   "cell_type": "code",
   "execution_count": 4,
   "id": "d66c7f9d-85c7-4c9a-a0d6-edac7fc5665f",
   "metadata": {},
   "outputs": [
    {
     "data": {
      "text/plain": [
       "'nitesh'"
      ]
     },
     "execution_count": 4,
     "metadata": {},
     "output_type": "execute_result"
    }
   ],
   "source": [
    "student1.name"
   ]
  },
  {
   "cell_type": "code",
   "execution_count": 5,
   "id": "e274f94a-9fc5-45f6-841f-cac48f861578",
   "metadata": {},
   "outputs": [
    {
     "data": {
      "text/plain": [
       "'niteshk834@gmail.com'"
      ]
     },
     "execution_count": 5,
     "metadata": {},
     "output_type": "execute_result"
    }
   ],
   "source": [
    "student1.email_id"
   ]
  },
  {
   "cell_type": "code",
   "execution_count": 6,
   "id": "968d6079-2cbe-4cf7-9dec-cfca9c6e99c7",
   "metadata": {},
   "outputs": [
    {
     "data": {
      "text/plain": [
       "7014532218"
      ]
     },
     "execution_count": 6,
     "metadata": {},
     "output_type": "execute_result"
    }
   ],
   "source": [
    "student1.phone_no"
   ]
  },
  {
   "cell_type": "code",
   "execution_count": 8,
   "id": "02d3040a-8a53-4104-adfd-156d28c8274c",
   "metadata": {},
   "outputs": [],
   "source": [
    "# acces attributes and assign new value\n",
    "student1.name=\"kumar\"\n",
    "student1.phone_no=123456345"
   ]
  },
  {
   "cell_type": "code",
   "execution_count": 9,
   "id": "a7fe7b77-60a0-4778-8fbd-596ccb8cca5b",
   "metadata": {},
   "outputs": [
    {
     "data": {
      "text/plain": [
       "'kumar'"
      ]
     },
     "execution_count": 9,
     "metadata": {},
     "output_type": "execute_result"
    }
   ],
   "source": [
    "student1.name"
   ]
  },
  {
   "cell_type": "code",
   "execution_count": 11,
   "id": "570065f0-786c-4c66-b92b-8fa89f332f46",
   "metadata": {},
   "outputs": [
    {
     "data": {
      "text/plain": [
       "123456345"
      ]
     },
     "execution_count": 11,
     "metadata": {},
     "output_type": "execute_result"
    }
   ],
   "source": [
    "student1.phone_no"
   ]
  },
  {
   "cell_type": "code",
   "execution_count": 10,
   "id": "df448b3b-13c4-49d8-bb19-13cc557f6564",
   "metadata": {},
   "outputs": [
    {
     "name": "stdout",
     "output_type": "stream",
     "text": [
      "name:kumar,email_id: niteshk834@gmail.com,phone_no:123456345\n"
     ]
    }
   ],
   "source": [
    "print(f\"name:{student1.name},email_id: {student1.email_id},phone_no:{student1.phone_no}\")"
   ]
  },
  {
   "cell_type": "markdown",
   "id": "8ebdee3a-528e-4271-a817-1a01a496a377",
   "metadata": {},
   "source": [
    "## Q2. Name the four pillars of OOPs.\n"
   ]
  },
  {
   "cell_type": "markdown",
   "id": "9a6bea56-b8f6-40dd-8d34-ef7d523fff56",
   "metadata": {},
   "source": [
    "## Answer-\n",
    "#### Four pillar of OOPs are Inheritance, Polymorphism, Encapsulation and Abstraction."
   ]
  },
  {
   "cell_type": "markdown",
   "id": "eb052f0e-dca6-479f-8d7b-d7ac41c3d4fe",
   "metadata": {},
   "source": [
    "## Q3. Explain why the __init__() function is used. Give a suitable example.\n"
   ]
  },
  {
   "cell_type": "markdown",
   "id": "6d3a6da2-8986-4c31-82fa-74770d99582b",
   "metadata": {},
   "source": [
    "#### Answer-"
   ]
  },
  {
   "cell_type": "markdown",
   "id": "12e717d0-e9df-4e8c-b3b5-67c766ecc8c9",
   "metadata": {},
   "source": [
    "All classes have a function called __init__(), which is always executed when the class is being initiated.\n",
    "\n",
    "Use the __init__() function to assign values to object properties, or other operations that are necessary to do when the object is being created.\n",
    "The __init__() function is called automatically every time the class is being used to create a new object."
   ]
  },
  {
   "cell_type": "markdown",
   "id": "f9b88775-f251-4d1e-816c-6a0073aa377d",
   "metadata": {},
   "source": [
    "##### For Ex-"
   ]
  },
  {
   "cell_type": "code",
   "execution_count": 12,
   "id": "9f0a948a-00fd-4ee5-a5b3-a1eb810e31fe",
   "metadata": {},
   "outputs": [],
   "source": [
    "class student:\n",
    "    def __init__(self,name,email_id,phone_no):\n",
    "        self.name=name\n",
    "        self.email_id=email_id\n",
    "        self.phone_no=phone_no        "
   ]
  },
  {
   "cell_type": "code",
   "execution_count": 14,
   "id": "f67baca6-064d-4942-b0a4-1a70cf5ba4d8",
   "metadata": {},
   "outputs": [],
   "source": [
    "student1=student(\"nitesh\",\"niteshk834@gmail.com\",7014532218)"
   ]
  },
  {
   "cell_type": "code",
   "execution_count": 15,
   "id": "ac5c29d7-403b-492a-a535-2210ee51afe9",
   "metadata": {},
   "outputs": [
    {
     "data": {
      "text/plain": [
       "'niteshk834@gmail.com'"
      ]
     },
     "execution_count": 15,
     "metadata": {},
     "output_type": "execute_result"
    }
   ],
   "source": [
    "student1.email_id"
   ]
  },
  {
   "cell_type": "markdown",
   "id": "1a672dbf-68af-4954-8a12-918366bc8130",
   "metadata": {},
   "source": [
    "## Q4. Why self is used in OOPs?\n"
   ]
  },
  {
   "cell_type": "markdown",
   "id": "f11bc451-936b-4c80-bbe9-e06d032cf362",
   "metadata": {},
   "source": [
    "### Answer"
   ]
  },
  {
   "cell_type": "markdown",
   "id": "d87ead87-6422-45ba-9f53-1a3219b67bcd",
   "metadata": {},
   "source": [
    "#### The self parameter is a reference to the current instance of the class, and is used to access variables that belongs to the class."
   ]
  },
  {
   "cell_type": "markdown",
   "id": "b5e72561-8cff-4f42-814a-63145ad58941",
   "metadata": {},
   "source": [
    "## Q5. What is inheritance? Give an example for each type of inheritance."
   ]
  },
  {
   "cell_type": "markdown",
   "id": "08218523-7ed9-4cda-8b77-cb329108400a",
   "metadata": {},
   "source": [
    "### Answer:-"
   ]
  },
  {
   "cell_type": "markdown",
   "id": "96ca4f6e-f7ab-4363-be98-97b28e36e659",
   "metadata": {},
   "source": [
    "Inheritance is a process of obtaining properties and characteristics(variables and methods) of another class. In this hierarchical order, the class which inherits another class is called subclass or child class, and the other class is the parent class.\n",
    "\n",
    "Inheritance is categorized based on the hierarchy followed and the number of parent classes and subclasses involved.\n",
    "\n",
    "There are Three types of inheritances:\n",
    "\n",
    "1. Single Inheritance\n",
    "2. Multiple Inheritance\n",
    "3. Multilevel Inheritance"
   ]
  },
  {
   "cell_type": "markdown",
   "id": "8b9439db-c492-4274-8596-5519ce337369",
   "metadata": {},
   "source": [
    "### 1. single inheritence"
   ]
  },
  {
   "cell_type": "code",
   "execution_count": 16,
   "id": "3212be02-a60c-45e9-accf-47619211e667",
   "metadata": {},
   "outputs": [],
   "source": [
    "class parent:\n",
    "    def test_parent(self):\n",
    "        print(\"I belong to parent class\")\n",
    "class child(parent):\n",
    "    pass"
   ]
  },
  {
   "cell_type": "code",
   "execution_count": 17,
   "id": "dfb90fa7-3e65-41ae-9040-43298c8b582b",
   "metadata": {},
   "outputs": [],
   "source": [
    "obj_child=child()"
   ]
  },
  {
   "cell_type": "code",
   "execution_count": 19,
   "id": "501a3cea-cda7-470c-be57-5fd1504b7ef2",
   "metadata": {},
   "outputs": [
    {
     "name": "stdout",
     "output_type": "stream",
     "text": [
      "I belong to parent class\n"
     ]
    }
   ],
   "source": [
    "obj_child.test_parent()"
   ]
  },
  {
   "cell_type": "markdown",
   "id": "6f0817b9-1672-478e-a7e1-cf983fb8cab3",
   "metadata": {},
   "source": [
    "### 2. Multiple inheritence\n",
    "In this inheritence we can access all the class from one class."
   ]
  },
  {
   "cell_type": "code",
   "execution_count": 20,
   "id": "adac963c-fb9a-46fc-827f-9bcc364449f5",
   "metadata": {},
   "outputs": [],
   "source": [
    "class class1:\n",
    "    def test_class1(self):\n",
    "        print(\"I belong to class1\")\n",
    "        \n",
    "class class2:\n",
    "    def test_class2(self):\n",
    "        print(\"I belong to class2\")\n",
    "        \n",
    "class class3(class1,class2):\n",
    "    pass\n",
    "        "
   ]
  },
  {
   "cell_type": "code",
   "execution_count": 21,
   "id": "a88f37bf-9c1e-47dd-9d4f-6bceeb1f072d",
   "metadata": {},
   "outputs": [],
   "source": [
    "obj_class3=class3() # from this object we can access both class1 and class2"
   ]
  },
  {
   "cell_type": "code",
   "execution_count": 23,
   "id": "98898102-9eb3-4ebb-9fe4-7d16fc5bb15e",
   "metadata": {},
   "outputs": [
    {
     "name": "stdout",
     "output_type": "stream",
     "text": [
      "I belong to class1\n"
     ]
    }
   ],
   "source": [
    "obj_class3.test_class1()"
   ]
  },
  {
   "cell_type": "code",
   "execution_count": 24,
   "id": "f011d539-bb77-4746-b16f-81c884cf422c",
   "metadata": {},
   "outputs": [
    {
     "name": "stdout",
     "output_type": "stream",
     "text": [
      "I belong to class2\n"
     ]
    }
   ],
   "source": [
    "obj_class3.test_class2()"
   ]
  },
  {
   "cell_type": "markdown",
   "id": "62985e58-f544-48ee-aa64-2f78ca9fb950",
   "metadata": {},
   "source": [
    "### 3. Multilevel Inheritence"
   ]
  },
  {
   "cell_type": "markdown",
   "id": "edbba791-45d9-4905-a6d9-5da4026d38f9",
   "metadata": {},
   "source": [
    "In this inheritence we can access one class from more than one class."
   ]
  },
  {
   "cell_type": "code",
   "execution_count": 28,
   "id": "0595204a-e965-48da-9547-67c4a06c29ec",
   "metadata": {},
   "outputs": [],
   "source": [
    "class class_grandfather:\n",
    "    def test_class_grandfather(self):\n",
    "        print(\"I belong to granfather class\")\n",
    "        \n",
    "class class_parent(class_grandfather):\n",
    "    def test_class_parent(self):\n",
    "        print(\"I belong to parent class\")\n",
    "        \n",
    "class class_child(class_parent):\n",
    "    def test_class_child(self):\n",
    "        print(\"I belong to child class\")\n",
    "        \n",
    "    \n",
    "    "
   ]
  },
  {
   "cell_type": "code",
   "execution_count": 29,
   "id": "9b3ce4a3-f954-4815-a787-3938bb9cd2c5",
   "metadata": {},
   "outputs": [],
   "source": [
    "obj_class_child=class_child() # from child object, we can access grandfather, parent and child class itself"
   ]
  },
  {
   "cell_type": "code",
   "execution_count": 30,
   "id": "dd588ffc-9c07-43c6-9629-1dc7fee46018",
   "metadata": {},
   "outputs": [
    {
     "name": "stdout",
     "output_type": "stream",
     "text": [
      "I belong to granfather class\n"
     ]
    }
   ],
   "source": [
    "obj_class_child.test_class_grandfather()"
   ]
  },
  {
   "cell_type": "code",
   "execution_count": 31,
   "id": "a93e5e7b-89d1-4cdc-be80-b00a9d8df0e7",
   "metadata": {},
   "outputs": [
    {
     "name": "stdout",
     "output_type": "stream",
     "text": [
      "I belong to parent class\n"
     ]
    }
   ],
   "source": [
    "obj_class_child.test_class_parent()"
   ]
  },
  {
   "cell_type": "code",
   "execution_count": 32,
   "id": "109eff5c-8152-4272-b96f-01caabf8f61f",
   "metadata": {},
   "outputs": [
    {
     "name": "stdout",
     "output_type": "stream",
     "text": [
      "I belong to child class\n"
     ]
    }
   ],
   "source": [
    "obj_class_child.test_class_child()"
   ]
  },
  {
   "cell_type": "code",
   "execution_count": 33,
   "id": "7e9906df-9fb8-4768-b2e3-687ba8279090",
   "metadata": {},
   "outputs": [],
   "source": [
    "obj_class_parent=class_parent() # from parent object, we can access only grandfather and parent itself"
   ]
  },
  {
   "cell_type": "code",
   "execution_count": 34,
   "id": "672664f2-4cf9-4689-b735-0f9eb4533039",
   "metadata": {},
   "outputs": [
    {
     "name": "stdout",
     "output_type": "stream",
     "text": [
      "I belong to granfather class\n"
     ]
    }
   ],
   "source": [
    "obj_class_parent.test_class_grandfather()"
   ]
  },
  {
   "cell_type": "code",
   "execution_count": 35,
   "id": "35dcdec5-970d-4258-a00c-4b64f592b7ef",
   "metadata": {},
   "outputs": [
    {
     "name": "stdout",
     "output_type": "stream",
     "text": [
      "I belong to parent class\n"
     ]
    }
   ],
   "source": [
    "obj_class_parent.test_class_parent()"
   ]
  },
  {
   "cell_type": "code",
   "execution_count": 36,
   "id": "3ab7d8c6-5456-455c-b856-c61e80e188be",
   "metadata": {},
   "outputs": [],
   "source": [
    "obj_class_grandfather=class_grandfather() #from grandfather object, we can only access grandfather itself"
   ]
  },
  {
   "cell_type": "code",
   "execution_count": 37,
   "id": "089633ef-0396-4998-bed8-23db5038a514",
   "metadata": {},
   "outputs": [
    {
     "name": "stdout",
     "output_type": "stream",
     "text": [
      "I belong to granfather class\n"
     ]
    }
   ],
   "source": [
    "obj_class_grandfather.test_class_grandfather()"
   ]
  },
  {
   "cell_type": "code",
   "execution_count": null,
   "id": "1b0e9996-252f-445a-b0fd-486ec0302323",
   "metadata": {},
   "outputs": [],
   "source": []
  }
 ],
 "metadata": {
  "kernelspec": {
   "display_name": "Python 3 (ipykernel)",
   "language": "python",
   "name": "python3"
  },
  "language_info": {
   "codemirror_mode": {
    "name": "ipython",
    "version": 3
   },
   "file_extension": ".py",
   "mimetype": "text/x-python",
   "name": "python",
   "nbconvert_exporter": "python",
   "pygments_lexer": "ipython3",
   "version": "3.10.8"
  }
 },
 "nbformat": 4,
 "nbformat_minor": 5
}
