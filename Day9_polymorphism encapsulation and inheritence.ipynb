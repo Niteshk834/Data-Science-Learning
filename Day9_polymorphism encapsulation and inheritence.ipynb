{
 "cells": [
  {
   "cell_type": "markdown",
   "id": "a92c1fb7-b210-4f18-ab08-468e9d53f362",
   "metadata": {},
   "source": [
    "# Date 08 feb 2023"
   ]
  },
  {
   "cell_type": "markdown",
   "id": "bc24b3c9-a68d-47ee-b98b-a04fd767b52c",
   "metadata": {},
   "source": [
    "## Polymorphism"
   ]
  },
  {
   "cell_type": "code",
   "execution_count": 3,
   "id": "4610f53c-d2f9-4c47-887f-6f0f53092c0f",
   "metadata": {},
   "outputs": [],
   "source": [
    "def test(a,b):\n",
    "    return a+b"
   ]
  },
  {
   "cell_type": "code",
   "execution_count": 4,
   "id": "509cbce8-d258-4b1f-b028-79514d9cab75",
   "metadata": {},
   "outputs": [
    {
     "data": {
      "text/plain": [
       "8"
      ]
     },
     "execution_count": 4,
     "metadata": {},
     "output_type": "execute_result"
    }
   ],
   "source": [
    "test(5,3)"
   ]
  },
  {
   "cell_type": "code",
   "execution_count": 6,
   "id": "bd3f792d-c520-4579-b4ef-49c9276df829",
   "metadata": {},
   "outputs": [
    {
     "data": {
      "text/plain": [
       "'nitesh kumar'"
      ]
     },
     "execution_count": 6,
     "metadata": {},
     "output_type": "execute_result"
    }
   ],
   "source": [
    "test (\"nitesh\", \" kumar\")"
   ]
  },
  {
   "cell_type": "code",
   "execution_count": 7,
   "id": "8c0d3934-a916-4096-9b5a-7b43f32c2f9c",
   "metadata": {},
   "outputs": [
    {
     "data": {
      "text/plain": [
       "[1, 2, 3, 4, 5, 'nitesh']"
      ]
     },
     "execution_count": 7,
     "metadata": {},
     "output_type": "execute_result"
    }
   ],
   "source": [
    "test([1,2,3,4,5],[\"nitesh\"])"
   ]
  },
  {
   "cell_type": "code",
   "execution_count": 13,
   "id": "c5d269d3-74ab-46dc-ad0b-00924fcebc92",
   "metadata": {},
   "outputs": [],
   "source": [
    "class data_science:\n",
    "    def syllabus(self):\n",
    "        print(\"This is my method of learning data science as per syllabus\")"
   ]
  },
  {
   "cell_type": "code",
   "execution_count": 14,
   "id": "25dc8594-ee2c-49e6-a3ca-32db4e6853cb",
   "metadata": {},
   "outputs": [],
   "source": [
    "class web_dev:\n",
    "    def syllabus(self):\n",
    "        print (\"This is my method of learning web dev as per syllabus\")"
   ]
  },
  {
   "cell_type": "code",
   "execution_count": 15,
   "id": "8df7a858-fd0d-40f7-aabe-8db1790fdaf5",
   "metadata": {},
   "outputs": [],
   "source": [
    "def class_parcer(class_obj):\n",
    "    for i in class_obj:\n",
    "        i.syllabus()\n",
    "    "
   ]
  },
  {
   "cell_type": "code",
   "execution_count": 16,
   "id": "0a2842af-b948-4f81-8702-369d360c3836",
   "metadata": {},
   "outputs": [],
   "source": [
    "obj_data_science= data_science()\n"
   ]
  },
  {
   "cell_type": "code",
   "execution_count": 17,
   "id": "039013df-f33b-449e-96d4-a3b5d6e134c1",
   "metadata": {},
   "outputs": [],
   "source": [
    "obj_web_dev= web_dev()"
   ]
  },
  {
   "cell_type": "code",
   "execution_count": 18,
   "id": "2252484c-0dd7-416c-a72b-74c381da72a5",
   "metadata": {},
   "outputs": [],
   "source": [
    "class_obj=[obj_data_science, obj_web_dev]"
   ]
  },
  {
   "cell_type": "code",
   "execution_count": 19,
   "id": "1d20924d-0527-41fa-82c4-eaad6886e53b",
   "metadata": {},
   "outputs": [
    {
     "name": "stdout",
     "output_type": "stream",
     "text": [
      "This is my method of learning data science as per syllabus\n",
      "This is my method of learning web dev as per syllabus\n"
     ]
    }
   ],
   "source": [
    "class_parcer(class_obj)"
   ]
  },
  {
   "cell_type": "markdown",
   "id": "c54ccae4-fd98-4fdc-adc3-451c47f15765",
   "metadata": {},
   "source": [
    "# Encapsulation"
   ]
  },
  {
   "cell_type": "code",
   "execution_count": 22,
   "id": "9a15becb-483a-44fc-a60f-aeb8cd4dea2d",
   "metadata": {},
   "outputs": [],
   "source": [
    "class test:\n",
    "    def __init__(self,a,b):\n",
    "        self.a=a\n",
    "        self.b=b"
   ]
  },
  {
   "cell_type": "code",
   "execution_count": 23,
   "id": "472d7884-06bd-47ad-9ae2-77a5dc69bb38",
   "metadata": {},
   "outputs": [],
   "source": [
    "t=test(35,40)"
   ]
  },
  {
   "cell_type": "code",
   "execution_count": 26,
   "id": "1c487feb-b093-4f86-b901-8d3762f56486",
   "metadata": {},
   "outputs": [
    {
     "data": {
      "text/plain": [
       "35"
      ]
     },
     "execution_count": 26,
     "metadata": {},
     "output_type": "execute_result"
    }
   ],
   "source": [
    "t.a # Access operation, whenever press tab button then anyone can see the assigned variale becuase it is public."
   ]
  },
  {
   "cell_type": "code",
   "execution_count": 27,
   "id": "1b979aaf-d455-40e6-a7b1-71d2f1743438",
   "metadata": {},
   "outputs": [
    {
     "data": {
      "text/plain": [
       "40"
      ]
     },
     "execution_count": 27,
     "metadata": {},
     "output_type": "execute_result"
    }
   ],
   "source": [
    "t.b"
   ]
  },
  {
   "cell_type": "code",
   "execution_count": 28,
   "id": "f10ce489-21f6-4c04-a226-88bfb8ed45b3",
   "metadata": {},
   "outputs": [],
   "source": [
    "t.a=4589 # Assignment operation"
   ]
  },
  {
   "cell_type": "code",
   "execution_count": 29,
   "id": "4e60948e-2e9e-49c0-b079-141a67b5acee",
   "metadata": {},
   "outputs": [
    {
     "data": {
      "text/plain": [
       "4589"
      ]
     },
     "execution_count": 29,
     "metadata": {},
     "output_type": "execute_result"
    }
   ],
   "source": [
    "t.a"
   ]
  },
  {
   "cell_type": "code",
   "execution_count": null,
   "id": "00dd6082-5c40-41af-8556-377e4a1e8ec8",
   "metadata": {},
   "outputs": [],
   "source": [
    "# In the above method, anyone can directly access my data and manupulate"
   ]
  },
  {
   "cell_type": "code",
   "execution_count": null,
   "id": "f9334108-b1dc-4c71-a73a-bebca16e81da",
   "metadata": {},
   "outputs": [],
   "source": [
    "# So, the encapsulation concept introduce to prevent the directly access my data and prevent data manupulation."
   ]
  },
  {
   "cell_type": "code",
   "execution_count": 1,
   "id": "d7536d00-c463-469c-8199-53db8a97cef7",
   "metadata": {},
   "outputs": [],
   "source": [
    "class car:\n",
    "    def __init__(self, year,make, model,speed):\n",
    "        self.__year=year # we used double under score before the variable for private it. \n",
    "        self.__make=make # so that no one can access these variable after pressing tab button\n",
    "        self.__model=model\n",
    "        self.__speed=speed\n",
    "        "
   ]
  },
  {
   "cell_type": "code",
   "execution_count": 3,
   "id": "d8cde196-861e-4db3-a47a-9f486c2f8c7d",
   "metadata": {},
   "outputs": [],
   "source": [
    "obj_car= car(2023,\"BMW\",\"BMW23\",200)"
   ]
  },
  {
   "cell_type": "code",
   "execution_count": 4,
   "id": "847cdeaa-370f-4cc8-ae54-26f90205b2e8",
   "metadata": {},
   "outputs": [
    {
     "ename": "AttributeError",
     "evalue": "'car' object has no attribute '__year'",
     "output_type": "error",
     "traceback": [
      "\u001b[0;31m---------------------------------------------------------------------------\u001b[0m",
      "\u001b[0;31mAttributeError\u001b[0m                            Traceback (most recent call last)",
      "Cell \u001b[0;32mIn[4], line 1\u001b[0m\n\u001b[0;32m----> 1\u001b[0m \u001b[43mobj_car\u001b[49m\u001b[38;5;241;43m.\u001b[39;49m\u001b[43m__year\u001b[49m\n",
      "\u001b[0;31mAttributeError\u001b[0m: 'car' object has no attribute '__year'"
     ]
    }
   ],
   "source": [
    "obj_car.__year"
   ]
  },
  {
   "cell_type": "code",
   "execution_count": 5,
   "id": "7fe33f16-46e2-4be2-bdd4-b998f28b31a7",
   "metadata": {},
   "outputs": [
    {
     "data": {
      "text/plain": [
       "2023"
      ]
     },
     "execution_count": 5,
     "metadata": {},
     "output_type": "execute_result"
    }
   ],
   "source": [
    "obj_car._car__year"
   ]
  },
  {
   "cell_type": "code",
   "execution_count": 7,
   "id": "af892755-b626-4a8e-8248-e3337e600849",
   "metadata": {},
   "outputs": [
    {
     "data": {
      "text/plain": [
       "'BMW23'"
      ]
     },
     "execution_count": 7,
     "metadata": {},
     "output_type": "execute_result"
    }
   ],
   "source": [
    "obj_car._car__model"
   ]
  },
  {
   "cell_type": "code",
   "execution_count": 8,
   "id": "379fb1fa-67e9-442a-849c-d7b3517eec06",
   "metadata": {},
   "outputs": [],
   "source": [
    "obj_car._car__year=2020 # Becuase we are creater so we can change the data value"
   ]
  },
  {
   "cell_type": "code",
   "execution_count": 9,
   "id": "39dc3ff4-1d00-4d09-b2a9-6a303ae35fb7",
   "metadata": {},
   "outputs": [
    {
     "data": {
      "text/plain": [
       "2020"
      ]
     },
     "execution_count": 9,
     "metadata": {},
     "output_type": "execute_result"
    }
   ],
   "source": [
    "obj_car._car__year"
   ]
  },
  {
   "cell_type": "code",
   "execution_count": null,
   "id": "9d2bc5a6-ecb7-4af6-ac7c-b3929be7a359",
   "metadata": {},
   "outputs": [],
   "source": [
    "# For the public or external use we can create a function or method "
   ]
  },
  {
   "cell_type": "code",
   "execution_count": 63,
   "id": "93b1f3c5-4515-46d5-9554-b676e8b0fc6e",
   "metadata": {},
   "outputs": [],
   "source": [
    "class car:\n",
    "    def __init__(self, year,make, model,speed):\n",
    "        self.__year=year # we used double under score before the variable for private it. \n",
    "        self.__make=make # so that no one can access these variable after pressing tab button\n",
    "        self.__model=model\n",
    "        self.__speed= speed\n",
    "        \n",
    "    def set_speed(self,speed): # user can set the speed \n",
    "        self.__speed= 0 if speed<0 else speed # But user can not see the speed\n",
    "        \n",
    "    "
   ]
  },
  {
   "cell_type": "code",
   "execution_count": 64,
   "id": "024d0292-c48b-4bdb-96bf-8e0205495f62",
   "metadata": {},
   "outputs": [],
   "source": [
    "obj_car.set_speed(-230)"
   ]
  },
  {
   "cell_type": "code",
   "execution_count": 61,
   "id": "f9974f23-ab78-4d42-ad9b-cde0f8535f25",
   "metadata": {},
   "outputs": [],
   "source": [
    "obj_car.set_speed(220)"
   ]
  },
  {
   "cell_type": "code",
   "execution_count": 62,
   "id": "c030acc6-015c-40bd-a774-db40cdcf4eff",
   "metadata": {},
   "outputs": [
    {
     "data": {
      "text/plain": [
       "220"
      ]
     },
     "execution_count": 62,
     "metadata": {},
     "output_type": "execute_result"
    }
   ],
   "source": [
    "obj_car._car__speed # if we execute speed of +ve value i.e. 220 then output will be 220"
   ]
  },
  {
   "cell_type": "code",
   "execution_count": 65,
   "id": "3aaf121c-cb22-43cf-80ff-a077a48e6c41",
   "metadata": {},
   "outputs": [
    {
     "data": {
      "text/plain": [
       "0"
      ]
     },
     "execution_count": 65,
     "metadata": {},
     "output_type": "execute_result"
    }
   ],
   "source": [
    "obj_car._car__speed # if we execute speed of -ve value i.e. -230 then output will be 0"
   ]
  },
  {
   "cell_type": "code",
   "execution_count": 72,
   "id": "319c5a16-ad25-4719-9b1a-908be4efca53",
   "metadata": {},
   "outputs": [],
   "source": [
    "class car:\n",
    "    def __init__(self, year,make, model,speed):\n",
    "        self.__year=year # we used double under score before the variable for private it. \n",
    "        self.__make=make # so that no one can access these variable after pressing tab button\n",
    "        self.__model=model\n",
    "        self.__speed= speed\n",
    "        \n",
    "    def set_speed(self,speed): # user can set the speed \n",
    "        self.__speed= 0 if speed<0 else speed # But user can not see the speed\n",
    "        \n",
    "    def get_speed(self): # we used this function for access the data by external too\n",
    "        return self.__speed"
   ]
  },
  {
   "cell_type": "code",
   "execution_count": 73,
   "id": "97652f88-d88e-4686-8f59-1994a6e9a8c3",
   "metadata": {},
   "outputs": [],
   "source": [
    "obj_car= car(2023,\"BMW\",\"BMW23\",200)"
   ]
  },
  {
   "cell_type": "code",
   "execution_count": 74,
   "id": "4331525d-b6fe-4e08-a8f7-a236edff6ac7",
   "metadata": {},
   "outputs": [
    {
     "data": {
      "text/plain": [
       "200"
      ]
     },
     "execution_count": 74,
     "metadata": {},
     "output_type": "execute_result"
    }
   ],
   "source": [
    "obj_car.get_speed() # after pressing the tab button, external user can access two function i.e get and set both."
   ]
  },
  {
   "cell_type": "code",
   "execution_count": 70,
   "id": "943ccba2-0f86-4932-9e16-24eccf3e933e",
   "metadata": {},
   "outputs": [],
   "source": [
    "# Anither Example"
   ]
  },
  {
   "cell_type": "code",
   "execution_count": 75,
   "id": "b7abb35c-740a-40eb-a29a-40e266b0d135",
   "metadata": {},
   "outputs": [],
   "source": [
    "class bank_account:\n",
    "    def __init__(self, balance):\n",
    "        self.__balance=balance\n",
    "        \n",
    "    def deposit(self,amount):\n",
    "        self.__balance= self.__balance+amount\n",
    "        \n",
    "    def withdraw(self,amount):\n",
    "        if self.__balance>=amount:\n",
    "            self.__balance=self.__balance- amount\n",
    "            return True\n",
    "        \n",
    "        else:\n",
    "            False\n",
    "            \n",
    "    def get_balance(self) :  # This function is used for external user \n",
    "        return self.__balance\n",
    "    \n",
    "            "
   ]
  },
  {
   "cell_type": "code",
   "execution_count": 76,
   "id": "cd9a07b4-bb69-4051-9afa-afa19e6c4b99",
   "metadata": {},
   "outputs": [],
   "source": [
    "obj_bank_account= bank_account(1000)"
   ]
  },
  {
   "cell_type": "code",
   "execution_count": 77,
   "id": "8f5d41f3-ab0d-487c-8983-69223e685750",
   "metadata": {},
   "outputs": [
    {
     "data": {
      "text/plain": [
       "1000"
      ]
     },
     "execution_count": 77,
     "metadata": {},
     "output_type": "execute_result"
    }
   ],
   "source": [
    "obj_bank_account.get_balance()      # After pressing the tab button, only can get access of deposit, get balance and withdraw"
   ]
  },
  {
   "cell_type": "code",
   "execution_count": 78,
   "id": "09b0930d-0a8c-4e12-b88a-a5199444b161",
   "metadata": {},
   "outputs": [],
   "source": [
    "obj_bank_account.deposit(8000)"
   ]
  },
  {
   "cell_type": "code",
   "execution_count": 80,
   "id": "852f38f7-95ab-4010-adee-b5618844e887",
   "metadata": {},
   "outputs": [
    {
     "data": {
      "text/plain": [
       "9000"
      ]
     },
     "execution_count": 80,
     "metadata": {},
     "output_type": "execute_result"
    }
   ],
   "source": [
    "obj_bank_account.get_balance()"
   ]
  },
  {
   "cell_type": "code",
   "execution_count": 81,
   "id": "1fddac72-0ac5-485e-b81c-686f6ea5ebd4",
   "metadata": {},
   "outputs": [
    {
     "data": {
      "text/plain": [
       "True"
      ]
     },
     "execution_count": 81,
     "metadata": {},
     "output_type": "execute_result"
    }
   ],
   "source": [
    "obj_bank_account.withdraw(2000)"
   ]
  },
  {
   "cell_type": "code",
   "execution_count": 83,
   "id": "dd61d568-b398-468c-bd02-35e636986348",
   "metadata": {},
   "outputs": [
    {
     "data": {
      "text/plain": [
       "7000"
      ]
     },
     "execution_count": 83,
     "metadata": {},
     "output_type": "execute_result"
    }
   ],
   "source": [
    "obj_bank_account.get_balance()"
   ]
  },
  {
   "cell_type": "markdown",
   "id": "2be28704-774b-4262-95ab-e256e4662b31",
   "metadata": {},
   "source": [
    "# Inheritance in loop"
   ]
  },
  {
   "cell_type": "code",
   "execution_count": 87,
   "id": "55eebb15-9464-4936-9387-67e4831440f8",
   "metadata": {},
   "outputs": [],
   "source": [
    "class parent:\n",
    "    def test_parent(self):\n",
    "        print(\"This is my parent class\")\n",
    "        \n",
    "class child(parent):\n",
    "    pass  \n",
    "    "
   ]
  },
  {
   "cell_type": "code",
   "execution_count": 89,
   "id": "97b10a0e-8b68-414e-87ee-e8c94ec73783",
   "metadata": {},
   "outputs": [],
   "source": [
    "child_obj=child()"
   ]
  },
  {
   "cell_type": "code",
   "execution_count": 92,
   "id": "4aed5414-446d-499b-a15e-35dab2e77cce",
   "metadata": {},
   "outputs": [
    {
     "name": "stdout",
     "output_type": "stream",
     "text": [
      "This is my parent class\n"
     ]
    }
   ],
   "source": [
    "child_obj.test_parent()"
   ]
  },
  {
   "cell_type": "code",
   "execution_count": null,
   "id": "ba16cfaf-9ce1-46b0-91e6-e54e51845882",
   "metadata": {},
   "outputs": [],
   "source": [
    "# Multilevel Inheritence"
   ]
  },
  {
   "cell_type": "code",
   "execution_count": 95,
   "id": "bb174bc1-2e90-4f0f-ad1a-a915082e1c3a",
   "metadata": {},
   "outputs": [],
   "source": [
    "class class1:\n",
    "    def test_class1(self):\n",
    "        print (\"This is my class1\")        "
   ]
  },
  {
   "cell_type": "code",
   "execution_count": 96,
   "id": "0f4fb5cf-8a21-4a01-af23-2a13a5b352c9",
   "metadata": {},
   "outputs": [],
   "source": [
    "class class2(class1):\n",
    "    def test_class2(self):\n",
    "        print(\"This is my class2\")"
   ]
  },
  {
   "cell_type": "code",
   "execution_count": 97,
   "id": "b25bf090-1d99-4bfe-8049-79cbfb6428bf",
   "metadata": {},
   "outputs": [],
   "source": [
    "class class3(class2):\n",
    "    def test_class3(self):\n",
    "        print(\"This is my class3\")"
   ]
  },
  {
   "cell_type": "code",
   "execution_count": 98,
   "id": "8d2ed125-1914-49d0-9180-253ccf739668",
   "metadata": {},
   "outputs": [],
   "source": [
    "obj_class3=class3()"
   ]
  },
  {
   "cell_type": "code",
   "execution_count": 100,
   "id": "a1ca5b7a-1b12-4a44-970f-5bfcb72b3206",
   "metadata": {},
   "outputs": [
    {
     "name": "stdout",
     "output_type": "stream",
     "text": [
      "This is my class2\n"
     ]
    }
   ],
   "source": [
    "obj_class3.test_class2()"
   ]
  },
  {
   "cell_type": "code",
   "execution_count": 101,
   "id": "b6952dfe-0f2b-4d66-aeb7-22b20401b71a",
   "metadata": {},
   "outputs": [
    {
     "name": "stdout",
     "output_type": "stream",
     "text": [
      "This is my class1\n"
     ]
    }
   ],
   "source": [
    "obj_class3.test_class1()"
   ]
  },
  {
   "cell_type": "code",
   "execution_count": 102,
   "id": "15ab2855-7e1e-4808-8284-8ba72e8ffa0f",
   "metadata": {},
   "outputs": [
    {
     "name": "stdout",
     "output_type": "stream",
     "text": [
      "This is my class3\n"
     ]
    }
   ],
   "source": [
    "obj_class3.test_class3()"
   ]
  },
  {
   "cell_type": "code",
   "execution_count": 103,
   "id": "6e56e629-01d5-494c-9ec6-d5777aefec88",
   "metadata": {},
   "outputs": [],
   "source": [
    "obj_class1= class1()"
   ]
  },
  {
   "cell_type": "code",
   "execution_count": 104,
   "id": "bef5f0e8-d8c2-4b62-8d18-636f3f939ea0",
   "metadata": {},
   "outputs": [
    {
     "name": "stdout",
     "output_type": "stream",
     "text": [
      "This is my class1\n"
     ]
    }
   ],
   "source": [
    "obj_class1.test_class1()"
   ]
  },
  {
   "cell_type": "code",
   "execution_count": 105,
   "id": "cb5903fb-c019-4d6e-b263-1baf24620f44",
   "metadata": {},
   "outputs": [],
   "source": [
    "obj_class2=class2()"
   ]
  },
  {
   "cell_type": "code",
   "execution_count": 106,
   "id": "7147eecb-943f-4069-843e-0b1af0f86761",
   "metadata": {},
   "outputs": [
    {
     "name": "stdout",
     "output_type": "stream",
     "text": [
      "This is my class1\n"
     ]
    }
   ],
   "source": [
    "obj_class2.test_class1()"
   ]
  },
  {
   "cell_type": "code",
   "execution_count": 107,
   "id": "6b1bf846-7b33-41dd-bb26-132e6fd4988d",
   "metadata": {},
   "outputs": [
    {
     "name": "stdout",
     "output_type": "stream",
     "text": [
      "This is my class2\n"
     ]
    }
   ],
   "source": [
    "obj_class2.test_class2()"
   ]
  },
  {
   "cell_type": "code",
   "execution_count": null,
   "id": "9a164240-c858-4128-ba8b-123f45c82a1d",
   "metadata": {},
   "outputs": [],
   "source": [
    "# Multiple Inheritence - It means that we can access all the class from one class."
   ]
  },
  {
   "cell_type": "code",
   "execution_count": 108,
   "id": "e0f98560-07ec-4824-bb9c-2fec31a3c7f8",
   "metadata": {},
   "outputs": [],
   "source": [
    "class class1:\n",
    "    def test_class1(self):\n",
    "        print (\"This is my class1\")"
   ]
  },
  {
   "cell_type": "code",
   "execution_count": 109,
   "id": "ba81532b-e4d5-4dd7-b657-c3e32bca65c8",
   "metadata": {},
   "outputs": [],
   "source": [
    "class class2:\n",
    "    def test_class2(self):\n",
    "        print(\"This is my class2\")\n",
    "    "
   ]
  },
  {
   "cell_type": "code",
   "execution_count": 110,
   "id": "9ee48956-a432-4702-be3f-d1dde870b2d8",
   "metadata": {},
   "outputs": [],
   "source": [
    "class class3(class1, class2):\n",
    "    pass"
   ]
  },
  {
   "cell_type": "code",
   "execution_count": 111,
   "id": "35ca36cb-a8a6-41f2-ad8e-56d0d629e2fe",
   "metadata": {},
   "outputs": [],
   "source": [
    "obj_class3=class3()"
   ]
  },
  {
   "cell_type": "code",
   "execution_count": 112,
   "id": "39170bef-dc23-417a-b03a-ece47dbebb71",
   "metadata": {},
   "outputs": [
    {
     "name": "stdout",
     "output_type": "stream",
     "text": [
      "This is my class1\n"
     ]
    }
   ],
   "source": [
    "obj_class3.test_class1()"
   ]
  },
  {
   "cell_type": "code",
   "execution_count": 113,
   "id": "cc19de37-6ee3-416f-bc20-a7f8cbd0e827",
   "metadata": {},
   "outputs": [
    {
     "name": "stdout",
     "output_type": "stream",
     "text": [
      "This is my class2\n"
     ]
    }
   ],
   "source": [
    "obj_class3.test_class2()"
   ]
  },
  {
   "cell_type": "code",
   "execution_count": null,
   "id": "0dfd0510-730d-4bc8-a432-4e6437f74985",
   "metadata": {},
   "outputs": [],
   "source": []
  }
 ],
 "metadata": {
  "kernelspec": {
   "display_name": "Python 3 (ipykernel)",
   "language": "python",
   "name": "python3"
  },
  "language_info": {
   "codemirror_mode": {
    "name": "ipython",
    "version": 3
   },
   "file_extension": ".py",
   "mimetype": "text/x-python",
   "name": "python",
   "nbconvert_exporter": "python",
   "pygments_lexer": "ipython3",
   "version": "3.10.8"
  }
 },
 "nbformat": 4,
 "nbformat_minor": 5
}
