{
 "cells": [
  {
   "cell_type": "markdown",
   "id": "ef5bcedf-1c7a-4dea-9daa-fc094bc2f360",
   "metadata": {},
   "source": [
    "# Date 13 feb 2023"
   ]
  },
  {
   "cell_type": "markdown",
   "id": "1ee4e35c-093d-4251-ab6c-55b895cf0c86",
   "metadata": {},
   "source": [
    "## List of general use exceptions"
   ]
  },
  {
   "cell_type": "code",
   "execution_count": 1,
   "id": "173ad9e5-5a85-4231-ad49-7e3d04e19226",
   "metadata": {},
   "outputs": [],
   "source": [
    "a=10"
   ]
  },
  {
   "cell_type": "code",
   "execution_count": 2,
   "id": "b758a275-672f-46f9-86ed-737d031ffda2",
   "metadata": {},
   "outputs": [
    {
     "ename": "ZeroDivisionError",
     "evalue": "division by zero",
     "output_type": "error",
     "traceback": [
      "\u001b[0;31m---------------------------------------------------------------------------\u001b[0m",
      "\u001b[0;31mZeroDivisionError\u001b[0m                         Traceback (most recent call last)",
      "Cell \u001b[0;32mIn[2], line 1\u001b[0m\n\u001b[0;32m----> 1\u001b[0m \u001b[43ma\u001b[49m\u001b[38;5;241;43m/\u001b[39;49m\u001b[38;5;241;43m0\u001b[39;49m\n",
      "\u001b[0;31mZeroDivisionError\u001b[0m: division by zero"
     ]
    }
   ],
   "source": [
    "a/0"
   ]
  },
  {
   "cell_type": "code",
   "execution_count": 3,
   "id": "b99d7557-58dc-429f-b995-223c3ad281b0",
   "metadata": {},
   "outputs": [
    {
     "name": "stdout",
     "output_type": "stream",
     "text": [
      "division by zero\n"
     ]
    }
   ],
   "source": [
    "try:\n",
    "    a=10\n",
    "    a/0\n",
    "except ZeroDivisionError as e:\n",
    "    print(e)\n",
    "    "
   ]
  },
  {
   "cell_type": "code",
   "execution_count": 4,
   "id": "5b0e308d-8c3a-4908-ae63-4970bc07eca7",
   "metadata": {},
   "outputs": [],
   "source": [
    "# Another type of error is value error or type error. Let's understand by the example"
   ]
  },
  {
   "cell_type": "code",
   "execution_count": 5,
   "id": "fccda700-ac58-4fa0-8f23-48c1a0b3cfda",
   "metadata": {},
   "outputs": [
    {
     "name": "stdout",
     "output_type": "stream",
     "text": [
      "invalid literal for int() with base 10: 'nitesh'\n"
     ]
    }
   ],
   "source": [
    "try:\n",
    "    int(\"nitesh\")\n",
    "except (ValueError, TypeError) as e:\n",
    "    print(e)"
   ]
  },
  {
   "cell_type": "code",
   "execution_count": 6,
   "id": "bf7fe289-e694-4dfd-8142-438afb7fa4aa",
   "metadata": {},
   "outputs": [
    {
     "name": "stdout",
     "output_type": "stream",
     "text": [
      "This will catch an error\n"
     ]
    }
   ],
   "source": [
    "# If we not aware about the error type\n",
    "try:\n",
    "    int(\"nitesh\")\n",
    "except :\n",
    "    print(\"This will catch an error\")\n",
    "    \n",
    "# But this will a good practice at all    "
   ]
  },
  {
   "cell_type": "code",
   "execution_count": 7,
   "id": "ed68d309-d605-43bd-8b89-2b98340fc45f",
   "metadata": {},
   "outputs": [
    {
     "name": "stdout",
     "output_type": "stream",
     "text": [
      "No module named 'nitesh'\n"
     ]
    }
   ],
   "source": [
    "# Import error\n",
    "try:\n",
    "    import nitesh\n",
    "except ImportError as e:\n",
    "    print(e)"
   ]
  },
  {
   "cell_type": "code",
   "execution_count": 9,
   "id": "41de8ea5-622b-432c-8098-97ddae31a37f",
   "metadata": {},
   "outputs": [
    {
     "name": "stdout",
     "output_type": "stream",
     "text": [
      "'Key10'\n"
     ]
    }
   ],
   "source": [
    "# Key error\n",
    "try:\n",
    "    d={1: [4,5,6],\"key\":\"nitesh\"}\n",
    "    d[\"Key10\"]\n",
    "    \n",
    "except KeyError as e:\n",
    "    print(e)\n",
    "    "
   ]
  },
  {
   "cell_type": "code",
   "execution_count": 10,
   "id": "ccb7a0a9-c252-4f52-a434-0ff6e70b60d9",
   "metadata": {},
   "outputs": [
    {
     "name": "stdout",
     "output_type": "stream",
     "text": [
      "'str' object has no attribute 'test'\n"
     ]
    }
   ],
   "source": [
    "# Attribute Error\n",
    "try:\n",
    "    \"nitesh\".test()\n",
    "except AttributeError as e:\n",
    "    print(e)\n",
    "    "
   ]
  },
  {
   "cell_type": "code",
   "execution_count": 11,
   "id": "30141089-fb1a-4ffb-92c8-d059da0210c7",
   "metadata": {},
   "outputs": [
    {
     "name": "stdout",
     "output_type": "stream",
     "text": [
      "list index out of range\n"
     ]
    }
   ],
   "source": [
    "# Index Error\n",
    "try:\n",
    "    l=[1,2,3,4]\n",
    "    l[10]\n",
    "except IndexError as e:\n",
    "    print(e)"
   ]
  },
  {
   "cell_type": "code",
   "execution_count": 13,
   "id": "18c3e23a-6736-4a1a-987e-673f8b30e69e",
   "metadata": {},
   "outputs": [
    {
     "name": "stdout",
     "output_type": "stream",
     "text": [
      "unsupported operand type(s) for +: 'int' and 'str'\n"
     ]
    }
   ],
   "source": [
    "# Type error\n",
    "try:\n",
    "    123+\"nitesh\"\n",
    "except TypeError as e:\n",
    "    print(e)"
   ]
  },
  {
   "cell_type": "code",
   "execution_count": 16,
   "id": "91c84725-2315-4836-8c95-ff4bc2c5e588",
   "metadata": {},
   "outputs": [
    {
     "name": "stdout",
     "output_type": "stream",
     "text": [
      "[Errno 2] No such file or directory: 'test7.txt'\n"
     ]
    }
   ],
   "source": [
    "# File not found error\n",
    "try:\n",
    "    with open (\"test7.txt\",\"r\") as f:\n",
    "        f.read()\n",
    "        \n",
    "except FileNotFoundError as e:\n",
    "    print(e)"
   ]
  },
  {
   "cell_type": "code",
   "execution_count": 18,
   "id": "19dbadc6-cf83-46c4-87b6-97fad17fbbe2",
   "metadata": {},
   "outputs": [
    {
     "name": "stdout",
     "output_type": "stream",
     "text": [
      "[Errno 2] No such file or directory: 'test7.txt'\n"
     ]
    }
   ],
   "source": [
    "try:\n",
    "    with open (\"test7.txt\",\"r\") as f:\n",
    "        f.read()\n",
    "        \n",
    "except Exception as e: # Exception is the super class.\n",
    "    print(\"test\",e)\n",
    "        \n",
    "except FileNotFoundError as e:\n",
    "    print(\"This is my file not found type eror\",e)"
   ]
  },
  {
   "cell_type": "code",
   "execution_count": null,
   "id": "0d738a81-fd32-457d-bd3e-92e47e577d22",
   "metadata": {},
   "outputs": [],
   "source": [
    "#  Code wise it is fine but ethics wise it will not ok"
   ]
  },
  {
   "cell_type": "markdown",
   "id": "2ff7d4a1-9136-49bf-94bf-7d80a8a951b3",
   "metadata": {},
   "source": [
    "# Best Practice in Exception Handling"
   ]
  },
  {
   "cell_type": "markdown",
   "id": "adccedf3-162e-4802-8ad5-8895abfbcf87",
   "metadata": {},
   "source": [
    "#### 1. Use always a specific exception"
   ]
  },
  {
   "cell_type": "code",
   "execution_count": 4,
   "id": "bbe9ae34-fb25-47ab-a5e7-910b6e9edc45",
   "metadata": {},
   "outputs": [],
   "source": [
    "# Exmaple of general exception"
   ]
  },
  {
   "cell_type": "code",
   "execution_count": 5,
   "id": "aadc36cd-eb16-44c2-8f62-0630d78c63df",
   "metadata": {},
   "outputs": [
    {
     "name": "stdout",
     "output_type": "stream",
     "text": [
      "division by zero\n"
     ]
    }
   ],
   "source": [
    "try:\n",
    "    10/0\n",
    "except Exception as e:\n",
    "    print(e)"
   ]
  },
  {
   "cell_type": "code",
   "execution_count": 6,
   "id": "7ea6c9c7-779e-48c1-8860-bac8b89549d9",
   "metadata": {},
   "outputs": [],
   "source": [
    "# Example of Specific exception"
   ]
  },
  {
   "cell_type": "code",
   "execution_count": 7,
   "id": "774aa5c0-afc9-438a-878a-64af04d9ecea",
   "metadata": {},
   "outputs": [
    {
     "name": "stdout",
     "output_type": "stream",
     "text": [
      "division by zero\n"
     ]
    }
   ],
   "source": [
    "try:\n",
    "    10/0\n",
    "except ZeroDivisionError as e:\n",
    "    print(e)"
   ]
  },
  {
   "cell_type": "markdown",
   "id": "05b4a146-2082-4aa6-a95b-7d18a5cc1735",
   "metadata": {},
   "source": [
    "#### 2. Print always a valid msg"
   ]
  },
  {
   "cell_type": "code",
   "execution_count": 10,
   "id": "307bcf11-db72-4ab0-a087-f58c6ad59f11",
   "metadata": {},
   "outputs": [
    {
     "name": "stdout",
     "output_type": "stream",
     "text": [
      "This is my Zerodivisional Error and I am handling division by zero\n"
     ]
    }
   ],
   "source": [
    "try:\n",
    "    10/0\n",
    "except ZeroDivisionError as e:\n",
    "    print(\"This is my Zerodivisional Error and I am handling\",e)"
   ]
  },
  {
   "cell_type": "markdown",
   "id": "3492614d-e9c1-47be-bf08-2ea99ffa831f",
   "metadata": {},
   "source": [
    "#### 3. Always try to log and instead of print, used log."
   ]
  },
  {
   "cell_type": "code",
   "execution_count": 13,
   "id": "c11c8c0d-8fc9-4215-8f37-2ab8cf920743",
   "metadata": {},
   "outputs": [],
   "source": [
    "import logging\n",
    "logging.basicConfig(filename=\"error.log\", level=logging.ERROR)\n",
    "try:\n",
    "    10/0\n",
    "except ZeroDivisionError as e:\n",
    "    logging.error(\"This is my Zerodivisional Error and I am handling {}\".format(e))"
   ]
  },
  {
   "cell_type": "markdown",
   "id": "e2a3b0b8-1c83-4b8c-9f6c-5b16d13c4d08",
   "metadata": {},
   "source": [
    "#### 4. Always avoid to write a multiple exceptional handling"
   ]
  },
  {
   "cell_type": "code",
   "execution_count": null,
   "id": "4a912488-e23f-4908-89c6-43a8aa2a3078",
   "metadata": {},
   "outputs": [],
   "source": [
    "try:\n",
    "    10/0 \n",
    "except FileNotFoundError as e:  # Unnecessary\n",
    "    logging.error(\"This is my file not found Error and I am handling {}\".format(e))\n",
    "    \n",
    "except AttributeError as e: # Unnecessary\n",
    "    logging.error(\"This is myAttribute Error and I am handling {}\".format(e))\n",
    "    \n",
    "except ZeroDivisionError as e:\n",
    "    logging.error(\"This is my Zerodivisional Error and I am handling {}\".format(e))"
   ]
  },
  {
   "cell_type": "markdown",
   "id": "04fd080b-dae7-4d57-99e9-f858050da751",
   "metadata": {},
   "source": [
    "#### 5. Always Try to prepare a proper documentation"
   ]
  },
  {
   "cell_type": "markdown",
   "id": "bafcc49d-47b3-4789-b9bf-ef2f35728536",
   "metadata": {},
   "source": [
    "#### 6. Clean up All the resources"
   ]
  },
  {
   "cell_type": "code",
   "execution_count": null,
   "id": "32c7d450-ac85-48cb-a36d-afa80f0719bf",
   "metadata": {},
   "outputs": [],
   "source": [
    "\n",
    "try:\n",
    "    with open(\"test7.txt\",\"w\") as f:\n",
    "        f.write(\"This is my msg to file\")\n",
    "        \n",
    "except FileNotFoundError as e:\n",
    "     logging.error(\"This is my file not found Error and I am handling {}\".format(e))\n",
    "        \n",
    "finally:\n",
    "    f.close() # need to cleanup all time for prevent to occupying the bandwidth.\n",
    "    \n",
    "        \n",
    "    "
   ]
  }
 ],
 "metadata": {
  "kernelspec": {
   "display_name": "Python 3 (ipykernel)",
   "language": "python",
   "name": "python3"
  },
  "language_info": {
   "codemirror_mode": {
    "name": "ipython",
    "version": 3
   },
   "file_extension": ".py",
   "mimetype": "text/x-python",
   "name": "python",
   "nbconvert_exporter": "python",
   "pygments_lexer": "ipython3",
   "version": "3.10.8"
  }
 },
 "nbformat": 4,
 "nbformat_minor": 5
}
