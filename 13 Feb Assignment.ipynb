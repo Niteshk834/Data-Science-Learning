{
 "cells": [
  {
   "cell_type": "markdown",
   "id": "81885619-7e60-4208-a3f6-151ecb0480a0",
   "metadata": {},
   "source": [
    "# Assignment 13 Feb-2023\n",
    "## Date- 13.02.2023"
   ]
  },
  {
   "cell_type": "markdown",
   "id": "ca038936-5fd9-40ab-bdb2-f3a954a4a57a",
   "metadata": {},
   "source": [
    "## Q1. Explain why we have to use the Exception class while creating a Custom Exception.\n",
    "\n",
    "### Note: Here Exception class refers to the base class for all the exceptions."
   ]
  },
  {
   "cell_type": "markdown",
   "id": "4c9e0388-db23-4b24-afed-ad694ae34cdc",
   "metadata": {},
   "source": [
    "## Answer:-"
   ]
  },
  {
   "cell_type": "markdown",
   "id": "f7c18d10-f7c6-497d-86a7-e95f43c93356",
   "metadata": {},
   "source": [
    "Base class-ZeroDivisionError, AssertionError etc.\n",
    "The code can run built in exceptions, or we can also raise these exceptions in the code.\n",
    "we can derive our own exception from the Exception class, or from any other child class of Exception class.\n",
    "\n",
    "The BaseException is the base class of all other exceptions. User defined classes cannot be directly derived from this class, to derive user defined class, we need to use Exception class."
   ]
  },
  {
   "cell_type": "markdown",
   "id": "4df2cc15-58f8-4828-ade9-30c4437f90f1",
   "metadata": {},
   "source": [
    "### for example"
   ]
  },
  {
   "cell_type": "markdown",
   "id": "57bebde6-cca2-4373-b9cf-fb4ad133b5de",
   "metadata": {},
   "source": [
    "Let's consider a class of employees. The condition is, the age of person must be greater than and equal to 18 for voting right.\n",
    "\n",
    "We will create one user defined exception class, which is a child class of the Exception class."
   ]
  },
  {
   "cell_type": "code",
   "execution_count": 22,
   "id": "63521ec9-6a4d-4d7c-ae9d-220dd22031af",
   "metadata": {},
   "outputs": [],
   "source": [
    "class Error(Exception): # parent class\n",
    "    pass\n",
    "class LowAgeError(Error): # child class inherited by parent class\n",
    "    pass\n",
    "def age(x):\n",
    "    print(\"The age is:\",x)\n",
    "    try:\n",
    "        if x<18:\n",
    "            raise LowAgeError\n",
    "        else:\n",
    "            print(\"Eligible for vote\") \n",
    "    except LowAgeError:\n",
    "        print(\"LowAge error-Not eligible for vote, age should must be greater than 18\")   "
   ]
  },
  {
   "cell_type": "code",
   "execution_count": 23,
   "id": "a45ea232-cb60-414a-b552-eac60150c118",
   "metadata": {},
   "outputs": [
    {
     "name": "stdout",
     "output_type": "stream",
     "text": [
      "The age is: 13\n",
      "LowAge error-Not eligible for vote, age should must be greater than 18\n"
     ]
    }
   ],
   "source": [
    "# call the function\n",
    "age(13)"
   ]
  },
  {
   "cell_type": "code",
   "execution_count": 24,
   "id": "47099217-4d4b-4a74-a3f7-a05c4dc90cb8",
   "metadata": {},
   "outputs": [
    {
     "name": "stdout",
     "output_type": "stream",
     "text": [
      "The age is: 19\n",
      "Eligible for vote\n"
     ]
    }
   ],
   "source": [
    "age(19)"
   ]
  },
  {
   "cell_type": "markdown",
   "id": "3540e5b3-d506-40e1-8d17-75136b0b1caf",
   "metadata": {},
   "source": [
    "## Q2. Write a python program to print Python Exception Hierarchy."
   ]
  },
  {
   "cell_type": "code",
   "execution_count": 35,
   "id": "f6d0d377-2108-4518-ba0b-da5e9c115cc1",
   "metadata": {},
   "outputs": [
    {
     "name": "stdout",
     "output_type": "stream",
     "text": [
      "Hierarchy for Built-in exceptions is : \n",
      " BaseException\n",
      "--- Exception\n",
      "------ TypeError\n",
      "--------- FloatOperation\n",
      "--------- MultipartConversionError\n",
      "------ StopAsyncIteration\n",
      "------ StopIteration\n",
      "------ ImportError\n",
      "--------- ModuleNotFoundError\n",
      "--------- ZipImportError\n",
      "------ OSError\n",
      "--------- ConnectionError\n",
      "------------ BrokenPipeError\n",
      "------------ ConnectionAbortedError\n",
      "------------ ConnectionRefusedError\n",
      "------------ ConnectionResetError\n",
      "--------------- RemoteDisconnected\n",
      "--------- BlockingIOError\n",
      "--------- ChildProcessError\n",
      "--------- FileExistsError\n",
      "--------- FileNotFoundError\n",
      "--------- IsADirectoryError\n",
      "--------- NotADirectoryError\n",
      "--------- InterruptedError\n",
      "------------ InterruptedSystemCall\n",
      "--------- PermissionError\n",
      "--------- ProcessLookupError\n",
      "--------- TimeoutError\n",
      "--------- UnsupportedOperation\n",
      "--------- itimer_error\n",
      "--------- herror\n",
      "--------- gaierror\n",
      "--------- SSLError\n",
      "------------ SSLCertVerificationError\n",
      "------------ SSLZeroReturnError\n",
      "------------ SSLWantWriteError\n",
      "------------ SSLWantReadError\n",
      "------------ SSLSyscallError\n",
      "------------ SSLEOFError\n",
      "--------- Error\n",
      "------------ SameFileError\n",
      "--------- SpecialFileError\n",
      "--------- ExecError\n",
      "--------- ReadError\n",
      "--------- URLError\n",
      "------------ HTTPError\n",
      "------------ ContentTooShortError\n",
      "--------- BadGzipFile\n",
      "------ EOFError\n",
      "--------- IncompleteReadError\n",
      "------ RuntimeError\n",
      "--------- RecursionError\n",
      "--------- NotImplementedError\n",
      "------------ ZMQVersionError\n",
      "------------ StdinNotImplementedError\n",
      "--------- _DeadlockError\n",
      "--------- BrokenBarrierError\n",
      "--------- BrokenExecutor\n",
      "------------ BrokenThreadPool\n",
      "--------- SendfileNotAvailableError\n",
      "--------- ExtractionError\n",
      "--------- VariableError\n",
      "------ NameError\n",
      "--------- UnboundLocalError\n",
      "------ AttributeError\n",
      "--------- FrozenInstanceError\n",
      "------ SyntaxError\n",
      "--------- IndentationError\n",
      "------------ TabError\n",
      "------ LookupError\n",
      "--------- IndexError\n",
      "--------- KeyError\n",
      "------------ NoSuchKernel\n",
      "------------ UnknownBackend\n",
      "--------- CodecRegistryError\n",
      "------ ValueError\n",
      "--------- UnicodeError\n",
      "------------ UnicodeEncodeError\n",
      "------------ UnicodeDecodeError\n",
      "------------ UnicodeTranslateError\n",
      "--------- UnsupportedOperation\n",
      "--------- JSONDecodeError\n",
      "--------- SSLCertVerificationError\n",
      "--------- Error\n",
      "--------- UnsupportedDigestmodError\n",
      "--------- IllegalMonthError\n",
      "--------- IllegalWeekdayError\n",
      "--------- ParserError\n",
      "--------- ClassNotFound\n",
      "--------- ClipboardEmpty\n",
      "--------- MessageDefect\n",
      "------------ NoBoundaryInMultipartDefect\n",
      "------------ StartBoundaryNotFoundDefect\n",
      "------------ CloseBoundaryNotFoundDefect\n",
      "------------ FirstHeaderLineIsContinuationDefect\n",
      "------------ MisplacedEnvelopeHeaderDefect\n",
      "------------ MissingHeaderBodySeparatorDefect\n",
      "------------ MultipartInvariantViolationDefect\n",
      "------------ InvalidMultipartContentTransferEncodingDefect\n",
      "------------ UndecodableBytesDefect\n",
      "------------ InvalidBase64PaddingDefect\n",
      "------------ InvalidBase64CharactersDefect\n",
      "------------ InvalidBase64LengthDefect\n",
      "------------ HeaderDefect\n",
      "--------------- InvalidHeaderDefect\n",
      "--------------- HeaderMissingRequiredValue\n",
      "--------------- NonPrintableDefect\n",
      "--------------- ObsoleteHeaderDefect\n",
      "--------------- NonASCIILocalPartDefect\n",
      "--------------- InvalidDateDefect\n",
      "--------- MacroToEdit\n",
      "--------- InvalidFileException\n",
      "--------- UnequalIterablesError\n",
      "--------- InvalidVersion\n",
      "--------- _InvalidELFFileHeader\n",
      "--------- InvalidWheelFilename\n",
      "--------- InvalidSdistFilename\n",
      "--------- InvalidSpecifier\n",
      "--------- InvalidMarker\n",
      "--------- UndefinedComparison\n",
      "--------- UndefinedEnvironmentName\n",
      "--------- InvalidRequirement\n",
      "------------ RequirementParseError\n",
      "--------- InvalidVersion\n",
      "------ AssertionError\n",
      "------ ArithmeticError\n",
      "--------- FloatingPointError\n",
      "--------- OverflowError\n",
      "--------- ZeroDivisionError\n",
      "------------ DivisionByZero\n",
      "------------ DivisionUndefined\n",
      "--------- DecimalException\n",
      "------------ Clamped\n",
      "------------ Rounded\n",
      "--------------- Underflow\n",
      "--------------- Overflow\n",
      "------------ Inexact\n",
      "--------------- Underflow\n",
      "--------------- Overflow\n",
      "------------ Subnormal\n",
      "--------------- Underflow\n",
      "------------ DivisionByZero\n",
      "------------ FloatOperation\n",
      "------------ InvalidOperation\n",
      "--------------- ConversionSyntax\n",
      "--------------- DivisionImpossible\n",
      "--------------- DivisionUndefined\n",
      "--------------- InvalidContext\n",
      "------ SystemError\n",
      "--------- CodecRegistryError\n",
      "------ ReferenceError\n",
      "------ MemoryError\n",
      "------ BufferError\n",
      "------ Warning\n",
      "--------- UserWarning\n",
      "------------ GetPassWarning\n",
      "------------ FormatterWarning\n",
      "--------- EncodingWarning\n",
      "--------- DeprecationWarning\n",
      "------------ ProvisionalWarning\n",
      "--------- PendingDeprecationWarning\n",
      "--------- SyntaxWarning\n",
      "--------- RuntimeWarning\n",
      "------------ ProactorSelectorThreadWarning\n",
      "------------ UnknownTimezoneWarning\n",
      "------------ PEP440Warning\n",
      "--------- FutureWarning\n",
      "------------ ProvisionalCompleterWarning\n",
      "--------- ImportWarning\n",
      "--------- UnicodeWarning\n",
      "--------- BytesWarning\n",
      "--------- ResourceWarning\n",
      "--------- DeprecatedTzFormatWarning\n",
      "--------- PkgResourcesDeprecationWarning\n",
      "------ _OptionError\n",
      "------ _Error\n",
      "------ error\n",
      "------ Verbose\n",
      "------ Error\n",
      "------ SubprocessError\n",
      "--------- CalledProcessError\n",
      "--------- TimeoutExpired\n",
      "------ TokenError\n",
      "------ StopTokenizing\n",
      "------ ClassFoundException\n",
      "------ EndOfBlock\n",
      "------ TraitError\n",
      "------ Error\n",
      "------ Error\n",
      "--------- CancelledError\n",
      "--------- TimeoutError\n",
      "--------- InvalidStateError\n",
      "------ _GiveupOnSendfile\n",
      "------ error\n",
      "------ Incomplete\n",
      "------ TimeoutError\n",
      "------ InvalidStateError\n",
      "------ LimitOverrunError\n",
      "------ QueueEmpty\n",
      "------ QueueFull\n",
      "------ Empty\n",
      "------ Full\n",
      "------ ArgumentError\n",
      "------ ZMQBaseError\n",
      "--------- ZMQError\n",
      "------------ ContextTerminated\n",
      "------------ Again\n",
      "------------ InterruptedSystemCall\n",
      "--------- ZMQBindError\n",
      "--------- NotDone\n",
      "------ PickleError\n",
      "--------- PicklingError\n",
      "--------- UnpicklingError\n",
      "------ _Stop\n",
      "------ ArgumentError\n",
      "------ ArgumentTypeError\n",
      "------ ConfigError\n",
      "--------- ConfigLoaderError\n",
      "------------ ArgumentError\n",
      "--------- ConfigFileNotFound\n",
      "------ ConfigurableError\n",
      "--------- MultipleInstanceError\n",
      "------ ApplicationError\n",
      "------ error\n",
      "------ TimeoutError\n",
      "------ error\n",
      "------ ReturnValueIgnoredError\n",
      "------ KeyReuseError\n",
      "------ UnknownKeyError\n",
      "------ LeakedCallbackError\n",
      "------ BadYieldError\n",
      "------ ReturnValueIgnoredError\n",
      "------ Return\n",
      "------ InvalidPortNumber\n",
      "------ error\n",
      "------ LZMAError\n",
      "------ RegistryError\n",
      "------ _GiveupOnFastCopy\n",
      "------ Error\n",
      "--------- NoSectionError\n",
      "--------- DuplicateSectionError\n",
      "--------- DuplicateOptionError\n",
      "--------- NoOptionError\n",
      "--------- InterpolationError\n",
      "------------ InterpolationMissingOptionError\n",
      "------------ InterpolationSyntaxError\n",
      "------------ InterpolationDepthError\n",
      "--------- ParsingError\n",
      "------------ MissingSectionHeaderError\n",
      "------ NoIPAddresses\n",
      "------ BadZipFile\n",
      "------ LargeZipFile\n",
      "------ BadEntryPoint\n",
      "------ NoSuchEntryPoint\n",
      "------ DuplicateKernelError\n",
      "------ ErrorDuringImport\n",
      "------ NotOneValueFound\n",
      "------ CannotEval\n",
      "------ OptionError\n",
      "------ BdbQuit\n",
      "------ Restart\n",
      "------ ExceptionPexpect\n",
      "--------- EOF\n",
      "--------- TIMEOUT\n",
      "------ PtyProcessError\n",
      "------ FindCmdError\n",
      "------ HomeDirError\n",
      "------ ProfileDirError\n",
      "------ IPythonCoreError\n",
      "--------- TryNext\n",
      "--------- UsageError\n",
      "--------- StdinNotImplementedError\n",
      "------ InputRejected\n",
      "------ GetoptError\n",
      "------ ErrorToken\n",
      "------ PrefilterError\n",
      "------ AliasError\n",
      "--------- InvalidAliasError\n",
      "------ Error\n",
      "--------- InterfaceError\n",
      "--------- DatabaseError\n",
      "------------ InternalError\n",
      "------------ OperationalError\n",
      "------------ ProgrammingError\n",
      "------------ IntegrityError\n",
      "------------ DataError\n",
      "------------ NotSupportedError\n",
      "------ Warning\n",
      "------ SpaceInInput\n",
      "------ DOMException\n",
      "--------- IndexSizeErr\n",
      "--------- DomstringSizeErr\n",
      "--------- HierarchyRequestErr\n",
      "--------- WrongDocumentErr\n",
      "--------- InvalidCharacterErr\n",
      "--------- NoDataAllowedErr\n",
      "--------- NoModificationAllowedErr\n",
      "--------- NotFoundErr\n",
      "--------- NotSupportedErr\n",
      "--------- InuseAttributeErr\n",
      "--------- InvalidStateErr\n",
      "--------- SyntaxErr\n",
      "--------- InvalidModificationErr\n",
      "--------- NamespaceErr\n",
      "--------- InvalidAccessErr\n",
      "--------- ValidationErr\n",
      "------ ValidationError\n",
      "------ EditReadOnlyBuffer\n",
      "------ _Retry\n",
      "------ InvalidLayoutError\n",
      "------ HeightIsUnknownError\n",
      "------ ParserSyntaxError\n",
      "------ InternalParseError\n",
      "------ _PositionUpdatingFinished\n",
      "------ SimpleGetItemNotFound\n",
      "------ UncaughtAttributeError\n",
      "------ HasNoContext\n",
      "------ ParamIssue\n",
      "------ _JediError\n",
      "--------- InternalError\n",
      "--------- WrongVersion\n",
      "--------- RefactoringError\n",
      "------ OnErrorLeaf\n",
      "------ InvalidPythonEnvironment\n",
      "------ MessageError\n",
      "--------- MessageParseError\n",
      "------------ HeaderParseError\n",
      "------------ BoundaryError\n",
      "--------- MultipartConversionError\n",
      "--------- CharsetError\n",
      "------ Error\n",
      "------ HTTPException\n",
      "--------- NotConnected\n",
      "--------- InvalidURL\n",
      "--------- UnknownProtocol\n",
      "--------- UnknownTransferEncoding\n",
      "--------- UnimplementedFileMode\n",
      "--------- IncompleteRead\n",
      "--------- ImproperConnectionState\n",
      "------------ CannotSendRequest\n",
      "------------ CannotSendHeader\n",
      "------------ ResponseNotReady\n",
      "--------- BadStatusLine\n",
      "------------ RemoteDisconnected\n",
      "--------- LineTooLong\n",
      "------ InteractivelyDefined\n",
      "------ KillEmbedded\n",
      "------ Error\n",
      "--------- NoSuchProcess\n",
      "------------ ZombieProcess\n",
      "--------- AccessDenied\n",
      "--------- TimeoutExpired\n",
      "------ _Ipv6UnsupportedError\n",
      "------ QueueEmpty\n",
      "------ QueueFull\n",
      "------ DebuggerInitializationError\n",
      "------ ExpatError\n",
      "------ Error\n",
      "--------- ProtocolError\n",
      "--------- ResponseError\n",
      "--------- Fault\n",
      "------ ParseBaseException\n",
      "--------- ParseException\n",
      "--------- ParseFatalException\n",
      "------------ ParseSyntaxException\n",
      "------ RecursiveGrammarException\n",
      "------ ResolutionError\n",
      "--------- VersionConflict\n",
      "------------ ContextualVersionConflict\n",
      "--------- DistributionNotFound\n",
      "--------- UnknownExtra\n",
      "------ _Error\n",
      "------ UnableToResolveVariableException\n",
      "------ InvalidTypeInArgsException\n",
      "------ Error\n",
      "--------- LowAgeError\n",
      "------ Error\n",
      "--------- LowAgeError\n",
      "------ Error\n",
      "--------- LowAgeError\n",
      "------ Error\n",
      "--------- LowAgeError\n",
      "--- GeneratorExit\n",
      "--- SystemExit\n",
      "--- KeyboardInterrupt\n",
      "--- CancelledError\n",
      "--- AbortThread\n"
     ]
    }
   ],
   "source": [
    "# import inspect module\n",
    "import inspect\n",
    "# for building a tree hierarchy we will use-\n",
    "inspect.getclasstree(inspect.getmro(BaseException)) # inspect.getmro() Return a tuple of class cls’s base classes.\n",
    "\n",
    "# Now we will define treeClass function\n",
    "def treeClass(cls, ind = 0):\n",
    "\t\n",
    "\t# print name of the class\n",
    "\tprint ('-' * ind, cls.__name__)\n",
    "\t\n",
    "\t# iterating through subclasses\n",
    "\tfor i in cls.__subclasses__():\n",
    "\t\ttreeClass(i, ind + 3)\n",
    "\n",
    "print(\"Hierarchy for Built-in exceptions is : \")\n",
    "# function call\n",
    "treeClass(BaseException)\n"
   ]
  },
  {
   "cell_type": "code",
   "execution_count": null,
   "id": "7c12ff95-217a-4579-98f6-39b5fbc82211",
   "metadata": {},
   "outputs": [],
   "source": []
  },
  {
   "cell_type": "markdown",
   "id": "60e21032-f00a-4b2b-ae7c-9a25d7e3ebef",
   "metadata": {},
   "source": [
    "## Q3. What errors are defined in the ArithmeticError class? Explain any two with an example."
   ]
  },
  {
   "cell_type": "markdown",
   "id": "08fb3f3d-c260-4c00-acef-d72b5d7a5922",
   "metadata": {},
   "source": [
    "ArithmeticError is simply an error that occurs during numeric calculations.\n",
    "\n",
    "ArithmeticError types in Python include:\n",
    "\n",
    "OverFlowError\n",
    "ZeroDivisionError\n",
    "FloatingPointError\n",
    "\n",
    "These errors are all capable of crashing a code in Python. It is essential to catch an error because we do not want our code to crash as a result of incorrect input from us or a user."
   ]
  },
  {
   "cell_type": "markdown",
   "id": "ae64eb5c-99c0-4408-9041-7f761c633cbc",
   "metadata": {},
   "source": [
    "### for example"
   ]
  },
  {
   "cell_type": "markdown",
   "id": "5ef534d7-abb4-4863-8d52-84266ba7872b",
   "metadata": {},
   "source": [
    "1. ZeroDivisionError"
   ]
  },
  {
   "cell_type": "code",
   "execution_count": 38,
   "id": "145cb76f-5698-46f8-a90e-fd1c49ef5c5e",
   "metadata": {},
   "outputs": [
    {
     "ename": "ZeroDivisionError",
     "evalue": "division by zero",
     "output_type": "error",
     "traceback": [
      "\u001b[0;31m---------------------------------------------------------------------------\u001b[0m",
      "\u001b[0;31mZeroDivisionError\u001b[0m                         Traceback (most recent call last)",
      "Cell \u001b[0;32mIn[38], line 1\u001b[0m\n\u001b[0;32m----> 1\u001b[0m Arithmtic\u001b[38;5;241m=\u001b[39m\u001b[38;5;241;43m4\u001b[39;49m\u001b[38;5;241;43m/\u001b[39;49m\u001b[38;5;241;43m0\u001b[39;49m\n\u001b[1;32m      2\u001b[0m \u001b[38;5;28mprint\u001b[39m(Arithmetic)\n",
      "\u001b[0;31mZeroDivisionError\u001b[0m: division by zero"
     ]
    }
   ],
   "source": [
    "Arithmtic=4/0\n",
    "print(Arithmetic)"
   ]
  },
  {
   "cell_type": "code",
   "execution_count": 44,
   "id": "bb59ef1d-8596-4a55-a772-4e277bf2330c",
   "metadata": {},
   "outputs": [
    {
     "name": "stdout",
     "output_type": "stream",
     "text": [
      "This is the Arithmetic Error i.e. division by zero,<class 'ZeroDivisionError'>\n"
     ]
    }
   ],
   "source": [
    "# we we will catch this error and handled it so that our other code besides of this error can execute\n",
    "try:\n",
    "    Arithmtic=4/0\n",
    "    print(Arithmetic)\n",
    "except ArithmeticError as e:\n",
    "    print(f\"This is the Arithmetic Error i.e. {e},{e.__class__}\")   "
   ]
  },
  {
   "cell_type": "markdown",
   "id": "ac94fdaf-6da6-45fb-87f8-a2b69e86b075",
   "metadata": {},
   "source": [
    "2. OverFlowError"
   ]
  },
  {
   "cell_type": "code",
   "execution_count": 59,
   "id": "85df16d7-d88b-462b-85af-afa4b9987524",
   "metadata": {},
   "outputs": [
    {
     "name": "stdout",
     "output_type": "stream",
     "text": [
      "3.0\n",
      "9.0\n",
      "729.0\n",
      "282429536481.0\n",
      "1.797010299914431e+57\n"
     ]
    },
    {
     "ename": "OverflowError",
     "evalue": "(34, 'Numerical result out of range')",
     "output_type": "error",
     "traceback": [
      "\u001b[0;31m---------------------------------------------------------------------------\u001b[0m",
      "\u001b[0;31mOverflowError\u001b[0m                             Traceback (most recent call last)",
      "Cell \u001b[0;32mIn[59], line 3\u001b[0m\n\u001b[1;32m      1\u001b[0m x\u001b[38;5;241m=\u001b[39m\u001b[38;5;241m3.0\u001b[39m\n\u001b[1;32m      2\u001b[0m \u001b[38;5;28;01mfor\u001b[39;00m i \u001b[38;5;129;01min\u001b[39;00m \u001b[38;5;28mrange\u001b[39m(\u001b[38;5;241m1\u001b[39m,\u001b[38;5;241m1000\u001b[39m):\n\u001b[0;32m----> 3\u001b[0m     x\u001b[38;5;241m=\u001b[39m\u001b[43mx\u001b[49m\u001b[38;5;241;43m*\u001b[39;49m\u001b[38;5;241;43m*\u001b[39;49m\u001b[43mi\u001b[49m\n\u001b[1;32m      4\u001b[0m     \u001b[38;5;28mprint\u001b[39m(x)\n\u001b[1;32m      6\u001b[0m \u001b[38;5;66;03m# Output we will get overflow and kernel takes lots of time to execute\u001b[39;00m\n\u001b[1;32m      7\u001b[0m \u001b[38;5;66;03m# Here we need to be handle these error\u001b[39;00m\n",
      "\u001b[0;31mOverflowError\u001b[0m: (34, 'Numerical result out of range')"
     ]
    }
   ],
   "source": [
    "x=3.0\n",
    "for i in range(1,1000):\n",
    "    x=x**i\n",
    "    print(x)\n",
    "    \n",
    "# Output we will get overflow\n",
    "# Here we need to be handle these error"
   ]
  },
  {
   "cell_type": "code",
   "execution_count": 60,
   "id": "082f81b7-1d79-4bd3-9c0c-31fd09381001",
   "metadata": {},
   "outputs": [
    {
     "name": "stdout",
     "output_type": "stream",
     "text": [
      "3.0\n",
      "9.0\n",
      "729.0\n",
      "282429536481.0\n",
      "1.797010299914431e+57\n",
      "This is the ArithmeticError i.e. (34, 'Numerical result out of range'),<class 'OverflowError'>\n"
     ]
    }
   ],
   "source": [
    "x=3.0\n",
    "try:\n",
    "    for i in range(1,1000):\n",
    "        x=x**i\n",
    "        print(x)\n",
    "except ArithmeticError as e:\n",
    "    print(f\"This is the ArithmeticError i.e. {e},{e.__class__}\")  "
   ]
  },
  {
   "cell_type": "markdown",
   "id": "fe168e81-31f5-431f-b32a-727fefa04e50",
   "metadata": {},
   "source": [
    "## Q4. Why LookupError class is used? Explain with an example KeyError and IndexError."
   ]
  },
  {
   "cell_type": "markdown",
   "id": "1676ec68-bd6e-4f02-86cc-987cad6372ef",
   "metadata": {},
   "source": [
    "LookupError Exception is the Base class for errors raised when something can’t be found. The base class for the exceptions that are raised when a key or index used on a mapping or sequence is invalid: IndexError, KeyError."
   ]
  },
  {
   "cell_type": "markdown",
   "id": "8563b885-843e-4600-9ea4-2233bfab5721",
   "metadata": {},
   "source": [
    "#### KeyError"
   ]
  },
  {
   "cell_type": "markdown",
   "id": "53d05520-c374-4ed0-9ff7-57f46ae16037",
   "metadata": {},
   "source": [
    "A KeyError is raised when a value is not found as a key of a dictionary. The given code is rewritten as follows to catch the exception and find its type."
   ]
  },
  {
   "cell_type": "code",
   "execution_count": null,
   "id": "8a007c52-f24b-4a04-b411-323209518803",
   "metadata": {},
   "outputs": [],
   "source": [
    "# For Example"
   ]
  },
  {
   "cell_type": "code",
   "execution_count": 8,
   "id": "47a5100c-4450-40a4-8da7-2a7a88df472e",
   "metadata": {},
   "outputs": [],
   "source": [
    "ages = {\"nitesh\": 30, \"aditya\": 28, \"ashish\": 33}\n"
   ]
  },
  {
   "cell_type": "code",
   "execution_count": 9,
   "id": "6d643b34-5961-4c08-bf88-4696eb370a5e",
   "metadata": {},
   "outputs": [
    {
     "data": {
      "text/plain": [
       "33"
      ]
     },
     "execution_count": 9,
     "metadata": {},
     "output_type": "execute_result"
    }
   ],
   "source": [
    "ages [\"ashish\"]"
   ]
  },
  {
   "cell_type": "code",
   "execution_count": 10,
   "id": "f568b0cf-bb71-41f9-89c8-a0bdde376141",
   "metadata": {},
   "outputs": [
    {
     "ename": "KeyError",
     "evalue": "'rahul'",
     "output_type": "error",
     "traceback": [
      "\u001b[0;31m---------------------------------------------------------------------------\u001b[0m",
      "\u001b[0;31mKeyError\u001b[0m                                  Traceback (most recent call last)",
      "Cell \u001b[0;32mIn[10], line 1\u001b[0m\n\u001b[0;32m----> 1\u001b[0m \u001b[43mages\u001b[49m\u001b[43m[\u001b[49m\u001b[38;5;124;43m\"\u001b[39;49m\u001b[38;5;124;43mrahul\u001b[39;49m\u001b[38;5;124;43m\"\u001b[39;49m\u001b[43m]\u001b[49m\n",
      "\u001b[0;31mKeyError\u001b[0m: 'rahul'"
     ]
    }
   ],
   "source": [
    "ages[\"rahul\"] # output will give keyError "
   ]
  },
  {
   "cell_type": "markdown",
   "id": "97866985-a1f3-4277-84ab-bb27422aafa3",
   "metadata": {},
   "source": [
    "## IndexError"
   ]
  },
  {
   "cell_type": "markdown",
   "id": "371fd5e3-e4c4-482f-8feb-cfc74e1857f9",
   "metadata": {},
   "source": [
    "An IndexError is raised when a sequence reference is out of range."
   ]
  },
  {
   "cell_type": "code",
   "execution_count": 11,
   "id": "9dd97763-a818-4320-829f-fc5cbd617305",
   "metadata": {},
   "outputs": [],
   "source": [
    "a=[\"nitesh\",2.5,\"kumar\",[1,2,5,7,9]]"
   ]
  },
  {
   "cell_type": "code",
   "execution_count": 13,
   "id": "5b0f2903-82a4-4beb-a574-b49186eff47f",
   "metadata": {},
   "outputs": [
    {
     "data": {
      "text/plain": [
       "'kumar'"
      ]
     },
     "execution_count": 13,
     "metadata": {},
     "output_type": "execute_result"
    }
   ],
   "source": [
    "a[2]"
   ]
  },
  {
   "cell_type": "code",
   "execution_count": 14,
   "id": "31bc178c-c2ca-4a9e-b8e2-05f45e8de2ea",
   "metadata": {},
   "outputs": [
    {
     "ename": "IndexError",
     "evalue": "list index out of range",
     "output_type": "error",
     "traceback": [
      "\u001b[0;31m---------------------------------------------------------------------------\u001b[0m",
      "\u001b[0;31mIndexError\u001b[0m                                Traceback (most recent call last)",
      "Cell \u001b[0;32mIn[14], line 1\u001b[0m\n\u001b[0;32m----> 1\u001b[0m \u001b[43ma\u001b[49m\u001b[43m[\u001b[49m\u001b[38;5;241;43m7\u001b[39;49m\u001b[43m]\u001b[49m\n",
      "\u001b[0;31mIndexError\u001b[0m: list index out of range"
     ]
    }
   ],
   "source": [
    "a[7] # Output will give indexError becuase index no. 7 is out of range"
   ]
  },
  {
   "cell_type": "markdown",
   "id": "530c6804-591f-4f99-b9b9-477560847898",
   "metadata": {},
   "source": [
    "## Q5. Explain ImportError. What is ModuleNotFoundError?"
   ]
  },
  {
   "cell_type": "markdown",
   "id": "be233bbc-a41b-424b-a905-46d57da7a075",
   "metadata": {},
   "source": [
    "## Answer:-"
   ]
  },
  {
   "cell_type": "markdown",
   "id": "b55c7e61-313c-43e7-a244-28c5ce9ffcd9",
   "metadata": {},
   "source": [
    "ImportError generally occurs when a class cannot be imported due to one of the following reasons:\n",
    "\n",
    "1. The imported class is in a circular dependency.\n",
    "2. The imported class is unavailable or was not created.\n",
    "3. The imported class name is misspelled.\n",
    "4. The imported class from a module is misplaced.\n",
    "5. The imported class is unavailable in the Python library."
   ]
  },
  {
   "cell_type": "markdown",
   "id": "45ef04d2-7485-43c0-9aa5-292a473c0263",
   "metadata": {},
   "source": [
    "#### ModuleNotFoundError"
   ]
  },
  {
   "cell_type": "markdown",
   "id": "c40451c6-269b-4e77-a00e-97cf5a7989c8",
   "metadata": {},
   "source": [
    "Now suppose we are trying to import module “nitesh” which is not present or saved in Python drive where we need to download it. "
   ]
  },
  {
   "cell_type": "code",
   "execution_count": 15,
   "id": "cddf8c4b-5a46-43e6-a215-cb3671cd178d",
   "metadata": {},
   "outputs": [
    {
     "ename": "ModuleNotFoundError",
     "evalue": "No module named 'nitesh'",
     "output_type": "error",
     "traceback": [
      "\u001b[0;31m---------------------------------------------------------------------------\u001b[0m",
      "\u001b[0;31mModuleNotFoundError\u001b[0m                       Traceback (most recent call last)",
      "Cell \u001b[0;32mIn[15], line 2\u001b[0m\n\u001b[1;32m      1\u001b[0m \u001b[38;5;66;03m# Let us see a small example below:\u001b[39;00m\n\u001b[0;32m----> 2\u001b[0m \u001b[38;5;28;01mimport\u001b[39;00m \u001b[38;5;21;01mnitesh\u001b[39;00m\n",
      "\u001b[0;31mModuleNotFoundError\u001b[0m: No module named 'nitesh'"
     ]
    }
   ],
   "source": [
    "# Let us see a small example below:\n",
    "import nitesh"
   ]
  },
  {
   "cell_type": "markdown",
   "id": "b2bbbaa0-312a-4f65-bc7b-58676bb5d285",
   "metadata": {},
   "source": [
    "#### The ModuleNotFoundError: No module name can be fixed using the following approaches, depending on the cause of the error:\n",
    "\n",
    "1. If the error occurs due to a circular dependency, it can be resolved by moving the imported classes to a third file and importing them from this file\n",
    ".\n",
    "2. If the error occurs due to a misspelled name, the name of the class in the Python file should be verified and corrected. \n",
    "\n",
    "3. If the imported class is unavailable or not created, the file should be checked to ensure that the imported class exists in the file. If not, it should be created.\n",
    "\n",
    "4. If the imported class from a module is misplaced, it should be ensured that the class is imported from the correct module."
   ]
  },
  {
   "cell_type": "markdown",
   "id": "9092cdab-fc8f-4e21-8c92-cfa64b11b0ce",
   "metadata": {},
   "source": [
    "#### Example"
   ]
  },
  {
   "cell_type": "code",
   "execution_count": 25,
   "id": "bd86736d-edb8-4c8b-ac0d-fbbe3bd99707",
   "metadata": {},
   "outputs": [
    {
     "name": "stdout",
     "output_type": "stream",
     "text": [
      "Error occured i.e.- No module named 'nitesh',<class 'ModuleNotFoundError'>\n"
     ]
    }
   ],
   "source": [
    "# Now here we learn how to handle ModuleNotFoundError\n",
    "try:\n",
    "    import nitesh\n",
    "except Exception as e:\n",
    "    print(f\"Error occured i.e.- {e},{e.__class__}\")"
   ]
  },
  {
   "cell_type": "markdown",
   "id": "f1b7c965-d204-4ad8-aa32-493082ebca11",
   "metadata": {},
   "source": [
    "## Q6. List down some best practices for exception handling in python."
   ]
  },
  {
   "cell_type": "markdown",
   "id": "d2c7933b-5bc2-45bc-9a08-24da97b1af93",
   "metadata": {},
   "source": [
    "## Answer:-"
   ]
  },
  {
   "cell_type": "markdown",
   "id": "5f5d44da-339d-4352-b1d1-6f7e46ed089a",
   "metadata": {},
   "source": [
    "### Best practices for exception handling in python are following\n",
    "\n",
    "##### 1. Use always a specific exception\n",
    "##### 2. Print always a valid msg\n",
    "##### 3. Always try to log and instead of print, used log.\n",
    "##### 4. Always avoid to write a multiple exceptional handling\n",
    "##### 5. Always Try to prepare a proper documentation\n",
    "##### 6. Clean up All the resources"
   ]
  },
  {
   "cell_type": "code",
   "execution_count": null,
   "id": "2c54609b-4a97-4a8c-86d9-b42c6f01a6e6",
   "metadata": {},
   "outputs": [],
   "source": []
  }
 ],
 "metadata": {
  "kernelspec": {
   "display_name": "Python 3 (ipykernel)",
   "language": "python",
   "name": "python3"
  },
  "language_info": {
   "codemirror_mode": {
    "name": "ipython",
    "version": 3
   },
   "file_extension": ".py",
   "mimetype": "text/x-python",
   "name": "python",
   "nbconvert_exporter": "python",
   "pygments_lexer": "ipython3",
   "version": "3.10.8"
  }
 },
 "nbformat": 4,
 "nbformat_minor": 5
}
