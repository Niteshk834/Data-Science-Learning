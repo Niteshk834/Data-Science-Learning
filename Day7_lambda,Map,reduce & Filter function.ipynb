{
 "cells": [
  {
   "cell_type": "markdown",
   "id": "17b32694-f002-4481-81bf-3641ed177b61",
   "metadata": {},
   "source": [
    "# lambda function"
   ]
  },
  {
   "cell_type": "code",
   "execution_count": null,
   "id": "103283b7-8cdc-4ba1-aaaa-38e546903d59",
   "metadata": {},
   "outputs": [],
   "source": [
    "n=3\n",
    "p=2"
   ]
  },
  {
   "cell_type": "code",
   "execution_count": null,
   "id": "436e6d02-b7b7-4528-b570-d616aa36c7ec",
   "metadata": {},
   "outputs": [],
   "source": [
    "def test(n,p):\n",
    "    return n**p"
   ]
  },
  {
   "cell_type": "code",
   "execution_count": 5,
   "id": "558c21d8-6e52-4876-98f4-2385e4ffe120",
   "metadata": {},
   "outputs": [
    {
     "data": {
      "text/plain": [
       "243"
      ]
     },
     "execution_count": 5,
     "metadata": {},
     "output_type": "execute_result"
    }
   ],
   "source": [
    "test(3,5)"
   ]
  },
  {
   "cell_type": "code",
   "execution_count": null,
   "id": "fe702a62-f458-45a9-8f8f-ef6c12d5be5b",
   "metadata": {},
   "outputs": [],
   "source": [
    "# Now same result we get from lambda function as below:"
   ]
  },
  {
   "cell_type": "code",
   "execution_count": 7,
   "id": "6d577567-afde-4a36-bf8e-73a5b61d51d8",
   "metadata": {},
   "outputs": [],
   "source": [
    "test1=lambda n,p:n**p"
   ]
  },
  {
   "cell_type": "code",
   "execution_count": 8,
   "id": "271c1096-feae-4e65-91f6-8b2426d3a1e4",
   "metadata": {},
   "outputs": [
    {
     "data": {
      "text/plain": [
       "<function __main__.<lambda>(n, p)>"
      ]
     },
     "execution_count": 8,
     "metadata": {},
     "output_type": "execute_result"
    }
   ],
   "source": [
    "test1"
   ]
  },
  {
   "cell_type": "code",
   "execution_count": 9,
   "id": "f2191f4b-679b-4b88-b546-e8d279a2d3f3",
   "metadata": {},
   "outputs": [
    {
     "data": {
      "text/plain": [
       "243"
      ]
     },
     "execution_count": 9,
     "metadata": {},
     "output_type": "execute_result"
    }
   ],
   "source": [
    "test1(3,5)"
   ]
  },
  {
   "cell_type": "code",
   "execution_count": 10,
   "id": "e422ac51-0336-42a5-b21f-248b3a0963bc",
   "metadata": {},
   "outputs": [],
   "source": [
    "b=lambda a,b :a+b"
   ]
  },
  {
   "cell_type": "code",
   "execution_count": 11,
   "id": "adad6aed-5b4a-472b-9d2d-5c4cfc5d9995",
   "metadata": {},
   "outputs": [
    {
     "data": {
      "text/plain": [
       "9"
      ]
     },
     "execution_count": 11,
     "metadata": {},
     "output_type": "execute_result"
    }
   ],
   "source": [
    "b(4,5)"
   ]
  },
  {
   "cell_type": "code",
   "execution_count": null,
   "id": "eea8d0b4-18e5-4a79-8c64-6ea2836301ae",
   "metadata": {},
   "outputs": [],
   "source": [
    "# celcius into Farenhite"
   ]
  },
  {
   "cell_type": "code",
   "execution_count": 18,
   "id": "4da7f541-b7e7-44d0-9587-4ddbe6678f92",
   "metadata": {},
   "outputs": [],
   "source": [
    "c_to_f=lambda c: (9/5)*c+32"
   ]
  },
  {
   "cell_type": "code",
   "execution_count": 14,
   "id": "95739616-e47a-4ebe-bcdb-e9449205c355",
   "metadata": {},
   "outputs": [
    {
     "data": {
      "text/plain": [
       "50.0"
      ]
     },
     "execution_count": 14,
     "metadata": {},
     "output_type": "execute_result"
    }
   ],
   "source": [
    "c_to_f(10)"
   ]
  },
  {
   "cell_type": "code",
   "execution_count": 24,
   "id": "7892adb8-6450-43ec-8ca5-55354095f647",
   "metadata": {},
   "outputs": [
    {
     "data": {
      "text/plain": [
       "100.4"
      ]
     },
     "execution_count": 24,
     "metadata": {},
     "output_type": "execute_result"
    }
   ],
   "source": [
    "c_to_f(38)"
   ]
  },
  {
   "cell_type": "code",
   "execution_count": null,
   "id": "df8c8eea-b705-405d-a0f6-9a79fc92b38b",
   "metadata": {},
   "outputs": [],
   "source": [
    "# maximum in two number"
   ]
  },
  {
   "cell_type": "code",
   "execution_count": 27,
   "id": "6aa887a2-32a3-42ee-a98c-a4799ad9f2cb",
   "metadata": {},
   "outputs": [],
   "source": [
    "max_two= lambda x,y: x if x>y else y"
   ]
  },
  {
   "cell_type": "code",
   "execution_count": 28,
   "id": "3ce4e041-eb67-463b-b18d-1df02004c76c",
   "metadata": {},
   "outputs": [
    {
     "data": {
      "text/plain": [
       "67"
      ]
     },
     "execution_count": 28,
     "metadata": {},
     "output_type": "execute_result"
    }
   ],
   "source": [
    "max_two(12,67)"
   ]
  },
  {
   "cell_type": "code",
   "execution_count": null,
   "id": "cd34d65d-5662-4f1d-a074-8eb3d6ede142",
   "metadata": {},
   "outputs": [],
   "source": [
    "# Another ordinary way"
   ]
  },
  {
   "cell_type": "code",
   "execution_count": 30,
   "id": "b485af23-f058-4802-8543-01813191f560",
   "metadata": {},
   "outputs": [],
   "source": [
    "def max_two(x,y):\n",
    "    if x>y:\n",
    "        print(x)\n",
    "    else:\n",
    "            print(y)"
   ]
  },
  {
   "cell_type": "code",
   "execution_count": 35,
   "id": "2be5452f-d5b2-470f-8868-39da58d3d321",
   "metadata": {},
   "outputs": [
    {
     "name": "stdout",
     "output_type": "stream",
     "text": [
      "67\n"
     ]
    }
   ],
   "source": [
    "max_two(67,12)"
   ]
  },
  {
   "cell_type": "code",
   "execution_count": 36,
   "id": "4aa61b9b-472a-4701-8995-e21db3a02789",
   "metadata": {},
   "outputs": [],
   "source": [
    "name=\"Nitesh\""
   ]
  },
  {
   "cell_type": "code",
   "execution_count": 37,
   "id": "b65a0fbb-75e2-4a4c-8b4c-3d73966495d0",
   "metadata": {},
   "outputs": [
    {
     "data": {
      "text/plain": [
       "6"
      ]
     },
     "execution_count": 37,
     "metadata": {},
     "output_type": "execute_result"
    }
   ],
   "source": [
    "len(name)"
   ]
  },
  {
   "cell_type": "code",
   "execution_count": null,
   "id": "fec0d6fb-08b0-4c68-bcac-31713c1e95ea",
   "metadata": {},
   "outputs": [],
   "source": [
    "#By using lambda function"
   ]
  },
  {
   "cell_type": "code",
   "execution_count": 38,
   "id": "8a2017d7-7a7a-4e3f-b7ee-2358510d6f1e",
   "metadata": {},
   "outputs": [],
   "source": [
    "len_str= lambda name : len(name)"
   ]
  },
  {
   "cell_type": "code",
   "execution_count": 39,
   "id": "de52d7be-b4f0-4e36-ae5c-ec1500208072",
   "metadata": {},
   "outputs": [
    {
     "data": {
      "text/plain": [
       "6"
      ]
     },
     "execution_count": 39,
     "metadata": {},
     "output_type": "execute_result"
    }
   ],
   "source": [
    "len_str(name)"
   ]
  },
  {
   "cell_type": "markdown",
   "id": "a01d2323-3cc5-4ce5-bca9-3a83a06a9e3e",
   "metadata": {},
   "source": [
    "# Map Function"
   ]
  },
  {
   "cell_type": "code",
   "execution_count": 1,
   "id": "680e67af-e8e2-4d30-86fe-0499b9374dde",
   "metadata": {},
   "outputs": [],
   "source": [
    "n=\"njhbjhh\""
   ]
  },
  {
   "cell_type": "code",
   "execution_count": 2,
   "id": "625e0dc6-2a34-438d-b609-84be9c8fb5b7",
   "metadata": {},
   "outputs": [
    {
     "data": {
      "text/plain": [
       "'njhbjhh'"
      ]
     },
     "execution_count": 2,
     "metadata": {},
     "output_type": "execute_result"
    }
   ],
   "source": [
    "n"
   ]
  },
  {
   "cell_type": "code",
   "execution_count": 2,
   "id": "a9449dc6-c944-4005-983a-d927ff285e08",
   "metadata": {},
   "outputs": [],
   "source": [
    "l=[1,2,3,4,5,6]"
   ]
  },
  {
   "cell_type": "code",
   "execution_count": 3,
   "id": "1033c959-f395-40c7-8e29-91d646c9977e",
   "metadata": {},
   "outputs": [],
   "source": [
    "def test(l):\n",
    "    lst=[]\n",
    "    for i in l:\n",
    "        lst.append(i**2)\n",
    "    return lst   \n",
    "        \n",
    "        "
   ]
  },
  {
   "cell_type": "code",
   "execution_count": 4,
   "id": "ccd68f66-3766-4708-9323-222c0ffbab29",
   "metadata": {},
   "outputs": [
    {
     "data": {
      "text/plain": [
       "[1, 4, 9, 16, 25, 36]"
      ]
     },
     "execution_count": 4,
     "metadata": {},
     "output_type": "execute_result"
    }
   ],
   "source": [
    "test(l)"
   ]
  },
  {
   "cell_type": "code",
   "execution_count": null,
   "id": "656e08e0-7bca-4bc5-bd76-ad00ea1c9769",
   "metadata": {},
   "outputs": [],
   "source": [
    "# By using Map method"
   ]
  },
  {
   "cell_type": "code",
   "execution_count": 5,
   "id": "3443c656-a596-4760-b658-cc1948d84141",
   "metadata": {},
   "outputs": [],
   "source": [
    "def sq(x):\n",
    "    return x**2"
   ]
  },
  {
   "cell_type": "code",
   "execution_count": 6,
   "id": "c5c4b225-f287-4653-8380-91bbfdddd31c",
   "metadata": {},
   "outputs": [
    {
     "data": {
      "text/plain": [
       "[1, 4, 9, 16, 25, 36]"
      ]
     },
     "execution_count": 6,
     "metadata": {},
     "output_type": "execute_result"
    }
   ],
   "source": [
    "list(map(sq,l))"
   ]
  },
  {
   "cell_type": "code",
   "execution_count": null,
   "id": "37c51575-8f34-4f8d-bd51-309c947b1984",
   "metadata": {
    "tags": []
   },
   "outputs": [],
   "source": [
    "# By using lambda function"
   ]
  },
  {
   "cell_type": "code",
   "execution_count": 7,
   "id": "ead32c7a-4154-412d-9501-6f30e671ae2e",
   "metadata": {},
   "outputs": [
    {
     "data": {
      "text/plain": [
       "[1, 4, 9, 16, 25, 36]"
      ]
     },
     "execution_count": 7,
     "metadata": {},
     "output_type": "execute_result"
    }
   ],
   "source": [
    "list(map(lambda x: x**2,l))"
   ]
  },
  {
   "cell_type": "code",
   "execution_count": 8,
   "id": "11738725-e11c-46ea-ac80-cc3ff9e9be39",
   "metadata": {},
   "outputs": [
    {
     "data": {
      "text/plain": [
       "[11, 12, 13, 14, 15, 16]"
      ]
     },
     "execution_count": 8,
     "metadata": {},
     "output_type": "execute_result"
    }
   ],
   "source": [
    "list(map(lambda x: x+10,l))"
   ]
  },
  {
   "cell_type": "code",
   "execution_count": 9,
   "id": "dee45dbc-72d9-4084-840b-5b5e5c41c783",
   "metadata": {},
   "outputs": [
    {
     "data": {
      "text/plain": [
       "['1', '2', '3', '4', '5', '6']"
      ]
     },
     "execution_count": 9,
     "metadata": {},
     "output_type": "execute_result"
    }
   ],
   "source": [
    "list(map(lambda x: str(x),l))"
   ]
  },
  {
   "cell_type": "code",
   "execution_count": 20,
   "id": "d272eff6-24a6-43c8-a692-829eff9edf4b",
   "metadata": {},
   "outputs": [],
   "source": [
    "l1=[1,2,3,4]\n",
    "l2=[5,6,7,8]"
   ]
  },
  {
   "cell_type": "code",
   "execution_count": 18,
   "id": "f58b244b-3ff8-48ad-898c-36d3e7cb5296",
   "metadata": {},
   "outputs": [
    {
     "data": {
      "text/plain": [
       "[6, 8, 10, 12]"
      ]
     },
     "execution_count": 18,
     "metadata": {},
     "output_type": "execute_result"
    }
   ],
   "source": [
    "list(map(lambda x,y:x+y, l1,l2))"
   ]
  },
  {
   "cell_type": "code",
   "execution_count": null,
   "id": "a1cfcd0b-8d06-4cc2-9291-98494f87f844",
   "metadata": {},
   "outputs": [],
   "source": [
    "# Another way"
   ]
  },
  {
   "cell_type": "code",
   "execution_count": 27,
   "id": "d6af98a3-ed40-4c9b-bebf-6cef405cbe08",
   "metadata": {},
   "outputs": [],
   "source": [
    "f= lambda x,y:x+y # lambda function can used outside too"
   ]
  },
  {
   "cell_type": "code",
   "execution_count": 29,
   "id": "cfb220a3-c253-43a4-b9fa-72350d2b7bec",
   "metadata": {},
   "outputs": [
    {
     "data": {
      "text/plain": [
       "[6, 8, 10, 12]"
      ]
     },
     "execution_count": 29,
     "metadata": {},
     "output_type": "execute_result"
    }
   ],
   "source": [
    "list(map(f,l1,l2))"
   ]
  },
  {
   "cell_type": "code",
   "execution_count": null,
   "id": "89acc144-41e2-4e7b-8476-dbb8a0498e10",
   "metadata": {},
   "outputs": [],
   "source": [
    "# when someone tell me that we have to prepare list where in every element in string should be in uppercase."
   ]
  },
  {
   "cell_type": "code",
   "execution_count": 30,
   "id": "d00d0465-f94b-48de-831b-451ee61ed6e9",
   "metadata": {},
   "outputs": [],
   "source": [
    "s=\"nitesh\""
   ]
  },
  {
   "cell_type": "code",
   "execution_count": 31,
   "id": "458fdca6-843d-4589-877e-0ff94ae487fc",
   "metadata": {},
   "outputs": [
    {
     "data": {
      "text/plain": [
       "['N', 'I', 'T', 'E', 'S', 'H']"
      ]
     },
     "execution_count": 31,
     "metadata": {},
     "output_type": "execute_result"
    }
   ],
   "source": [
    "list(map(lambda x:x.upper(),s))"
   ]
  },
  {
   "cell_type": "markdown",
   "id": "1a7b89ba-794a-474e-99be-2960652240b4",
   "metadata": {},
   "source": [
    "# reduce function"
   ]
  },
  {
   "cell_type": "code",
   "execution_count": 32,
   "id": "7271234a-7fd5-4370-be6e-4ba8778d98ad",
   "metadata": {},
   "outputs": [],
   "source": [
    "# reduce function by default not available in python core but it available in library package."
   ]
  },
  {
   "cell_type": "code",
   "execution_count": 34,
   "id": "63798e2d-2b43-41f6-9e74-6a46d7e2f13b",
   "metadata": {},
   "outputs": [],
   "source": [
    "from functools import reduce"
   ]
  },
  {
   "cell_type": "code",
   "execution_count": 35,
   "id": "f5ebd1b6-4b84-4259-9c7d-2f4fca36975c",
   "metadata": {},
   "outputs": [],
   "source": [
    "l=[1,2,3,4,5]"
   ]
  },
  {
   "cell_type": "code",
   "execution_count": 36,
   "id": "dfcf7903-c84c-405e-ac80-e65d9f8f422f",
   "metadata": {},
   "outputs": [
    {
     "data": {
      "text/plain": [
       "15"
      ]
     },
     "execution_count": 36,
     "metadata": {},
     "output_type": "execute_result"
    }
   ],
   "source": [
    "reduce(lambda x,y:x+y,l)"
   ]
  },
  {
   "cell_type": "code",
   "execution_count": 37,
   "id": "bfec5537-91d9-491e-ab9e-41c228b59055",
   "metadata": {},
   "outputs": [],
   "source": [
    "# Another way"
   ]
  },
  {
   "cell_type": "code",
   "execution_count": 38,
   "id": "ea910412-20d3-46b5-952b-a83cc39344c4",
   "metadata": {},
   "outputs": [],
   "source": [
    "def add(x,y):\n",
    "    return x+y"
   ]
  },
  {
   "cell_type": "code",
   "execution_count": 39,
   "id": "02fe1a89-e342-4dae-b9f8-e95ea6bf370f",
   "metadata": {},
   "outputs": [
    {
     "data": {
      "text/plain": [
       "15"
      ]
     },
     "execution_count": 39,
     "metadata": {},
     "output_type": "execute_result"
    }
   ],
   "source": [
    "reduce(add,l)"
   ]
  },
  {
   "cell_type": "code",
   "execution_count": 42,
   "id": "b55aacac-81fd-418c-9747-ff145a4e2873",
   "metadata": {},
   "outputs": [
    {
     "ename": "TypeError",
     "evalue": "<lambda>() missing 1 required positional argument: 'z'",
     "output_type": "error",
     "traceback": [
      "\u001b[0;31m---------------------------------------------------------------------------\u001b[0m",
      "\u001b[0;31mTypeError\u001b[0m                                 Traceback (most recent call last)",
      "Cell \u001b[0;32mIn[42], line 1\u001b[0m\n\u001b[0;32m----> 1\u001b[0m \u001b[43mreduce\u001b[49m\u001b[43m(\u001b[49m\u001b[38;5;28;43;01mlambda\u001b[39;49;00m\u001b[43m \u001b[49m\u001b[43mx\u001b[49m\u001b[43m,\u001b[49m\u001b[43my\u001b[49m\u001b[43m,\u001b[49m\u001b[43mz\u001b[49m\u001b[43m:\u001b[49m\u001b[43mx\u001b[49m\u001b[38;5;241;43m+\u001b[39;49m\u001b[43my\u001b[49m\u001b[38;5;241;43m+\u001b[39;49m\u001b[43mz\u001b[49m\u001b[43m,\u001b[49m\u001b[43ml\u001b[49m\u001b[43m)\u001b[49m\n",
      "\u001b[0;31mTypeError\u001b[0m: <lambda>() missing 1 required positional argument: 'z'"
     ]
    }
   ],
   "source": [
    "reduce(lambda x,y,z:x+y+z,l) # output not worked. so always try to take two parameter"
   ]
  },
  {
   "cell_type": "code",
   "execution_count": 43,
   "id": "c3a6b0b0-9bd6-45df-a3d5-762cb858a43f",
   "metadata": {},
   "outputs": [
    {
     "ename": "TypeError",
     "evalue": "reduce() of empty iterable with no initial value",
     "output_type": "error",
     "traceback": [
      "\u001b[0;31m---------------------------------------------------------------------------\u001b[0m",
      "\u001b[0;31mTypeError\u001b[0m                                 Traceback (most recent call last)",
      "Cell \u001b[0;32mIn[43], line 1\u001b[0m\n\u001b[0;32m----> 1\u001b[0m \u001b[43mreduce\u001b[49m\u001b[43m(\u001b[49m\u001b[38;5;28;43;01mlambda\u001b[39;49;00m\u001b[43m \u001b[49m\u001b[43mx\u001b[49m\u001b[43m,\u001b[49m\u001b[43my\u001b[49m\u001b[43m:\u001b[49m\u001b[43mx\u001b[49m\u001b[38;5;241;43m+\u001b[39;49m\u001b[43my\u001b[49m\u001b[43m,\u001b[49m\u001b[43m[\u001b[49m\u001b[43m]\u001b[49m\u001b[43m)\u001b[49m\n",
      "\u001b[0;31mTypeError\u001b[0m: reduce() of empty iterable with no initial value"
     ]
    }
   ],
   "source": [
    "reduce(lambda x,y:x+y,[]) # Empty list will not work"
   ]
  },
  {
   "cell_type": "code",
   "execution_count": 44,
   "id": "3e6bb792-34f5-4468-a69c-988ef135007b",
   "metadata": {},
   "outputs": [
    {
     "data": {
      "text/plain": [
       "1"
      ]
     },
     "execution_count": 44,
     "metadata": {},
     "output_type": "execute_result"
    }
   ],
   "source": [
    "reduce(lambda x,y:x+y,[1]) # This is the exceptional case where y is missing and still we get output."
   ]
  },
  {
   "cell_type": "code",
   "execution_count": 45,
   "id": "e524d2d8-48e7-47e3-ab85-4ca3397f2d07",
   "metadata": {},
   "outputs": [
    {
     "data": {
      "text/plain": [
       "1"
      ]
     },
     "execution_count": 45,
     "metadata": {},
     "output_type": "execute_result"
    }
   ],
   "source": [
    "reduce(lambda x,y:x*y,[1])  # This is the exceptional case where y is missing and still we get output."
   ]
  },
  {
   "cell_type": "code",
   "execution_count": null,
   "id": "95a84584-60fa-4176-9ed6-99a59de40165",
   "metadata": {},
   "outputs": [],
   "source": [
    "# Now performing maximum number in list"
   ]
  },
  {
   "cell_type": "code",
   "execution_count": 46,
   "id": "8ea71329-e72c-40d9-97ff-afcf47851624",
   "metadata": {},
   "outputs": [],
   "source": [
    "l=[2,3,45,5,6]"
   ]
  },
  {
   "cell_type": "code",
   "execution_count": 48,
   "id": "ae6cb471-d7c5-4043-9b29-28517ae17974",
   "metadata": {},
   "outputs": [
    {
     "data": {
      "text/plain": [
       "45"
      ]
     },
     "execution_count": 48,
     "metadata": {},
     "output_type": "execute_result"
    }
   ],
   "source": [
    "reduce(lambda x,y : x if x>y else y,l)"
   ]
  },
  {
   "cell_type": "markdown",
   "id": "224884ab-8067-4cd0-94c0-56222bb8ceb0",
   "metadata": {},
   "source": [
    "# filter function"
   ]
  },
  {
   "cell_type": "code",
   "execution_count": 49,
   "id": "d4e33ca0-93ad-4c0c-8359-4d6c56be45ad",
   "metadata": {},
   "outputs": [],
   "source": [
    "l=[1,4,6,3,8,2] # we have to filter only even number and prepare list"
   ]
  },
  {
   "cell_type": "code",
   "execution_count": 51,
   "id": "487dae6c-09b9-494f-a328-394ea935090d",
   "metadata": {},
   "outputs": [
    {
     "data": {
      "text/plain": [
       "[4, 6, 8, 2]"
      ]
     },
     "execution_count": 51,
     "metadata": {},
     "output_type": "execute_result"
    }
   ],
   "source": [
    "list(filter(lambda x:x%2==0,l))"
   ]
  },
  {
   "cell_type": "code",
   "execution_count": 52,
   "id": "bd7840b0-82b5-47eb-a761-5dd0e2556219",
   "metadata": {},
   "outputs": [],
   "source": [
    "l1=[1,-2,-4,6,7,-8,2,-1]"
   ]
  },
  {
   "cell_type": "code",
   "execution_count": 55,
   "id": "c472c142-cc5f-4b38-8cfe-b4953240071c",
   "metadata": {},
   "outputs": [
    {
     "data": {
      "text/plain": [
       "[-2, -4, -8, -1]"
      ]
     },
     "execution_count": 55,
     "metadata": {},
     "output_type": "execute_result"
    }
   ],
   "source": [
    "list (filter(lambda x:x<0,l1))"
   ]
  },
  {
   "cell_type": "code",
   "execution_count": 56,
   "id": "4728e5ca-708f-4f27-a6c8-f05c09b38106",
   "metadata": {},
   "outputs": [
    {
     "data": {
      "text/plain": [
       "[1, 6, 7, 2]"
      ]
     },
     "execution_count": 56,
     "metadata": {},
     "output_type": "execute_result"
    }
   ],
   "source": [
    "list (filter(lambda x:x>0,l1))"
   ]
  },
  {
   "cell_type": "code",
   "execution_count": 62,
   "id": "61f68f6b-d16d-4832-aae3-d1b3f4662b77",
   "metadata": {},
   "outputs": [],
   "source": [
    "l2=[\"nitesh\",\"kumar\",\"srivastava\"]"
   ]
  },
  {
   "cell_type": "code",
   "execution_count": 68,
   "id": "18f7f946-f492-45e9-b036-b1b00dbe7f64",
   "metadata": {},
   "outputs": [
    {
     "data": {
      "text/plain": [
       "['nitesh', 'srivastava']"
      ]
     },
     "execution_count": 68,
     "metadata": {},
     "output_type": "execute_result"
    }
   ],
   "source": [
    "list(filter(lambda x: len(x) >= 6,l2))"
   ]
  },
  {
   "cell_type": "code",
   "execution_count": null,
   "id": "94d66ebb-31c8-46e9-a312-61bf730a79c4",
   "metadata": {},
   "outputs": [],
   "source": []
  }
 ],
 "metadata": {
  "kernelspec": {
   "display_name": "Python 3 (ipykernel)",
   "language": "python",
   "name": "python3"
  },
  "language_info": {
   "codemirror_mode": {
    "name": "ipython",
    "version": 3
   },
   "file_extension": ".py",
   "mimetype": "text/x-python",
   "name": "python",
   "nbconvert_exporter": "python",
   "pygments_lexer": "ipython3",
   "version": "3.10.8"
  }
 },
 "nbformat": 4,
 "nbformat_minor": 5
}
