{
 "cells": [
  {
   "cell_type": "markdown",
   "id": "645cff66-7ecd-431c-91f5-e686aebc241a",
   "metadata": {
    "tags": []
   },
   "source": [
    "## 25 Feb Assignment- Pandas Advance-2\n",
    "\n",
    "### Date:- 25 Feb 2023"
   ]
  },
  {
   "cell_type": "code",
   "execution_count": null,
   "id": "12f90089-9987-4837-abd6-6720aee4fada",
   "metadata": {},
   "outputs": [],
   "source": [
    "Consider following code to answer further questions:"
   ]
  },
  {
   "cell_type": "code",
   "execution_count": 6,
   "id": "f28e5c06-3ec2-4396-bf5e-a901fdacb4cd",
   "metadata": {},
   "outputs": [],
   "source": [
    "import pandas as pd\n",
    "\n",
    "course_name = [\"Data Science\", \"Machine Learning\", \"Big Data\", \"Data Engineer\"]\n",
    "\n",
    "duration = [2,3,6,4]\n",
    "\n",
    "df = pd.DataFrame(data = {\"course_name\" : course_name, \"duration\" : duration})\n"
   ]
  },
  {
   "cell_type": "markdown",
   "id": "b64344b9-2cbe-41cc-9011-7b06c1d404b7",
   "metadata": {},
   "source": [
    "# Q1. Write a code to print the data present in the second row of the dataframe, df."
   ]
  },
  {
   "cell_type": "markdown",
   "id": "0c0a010b-4cbb-4f3c-8286-85be3a19cce8",
   "metadata": {},
   "source": [
    "### Answer:-"
   ]
  },
  {
   "cell_type": "code",
   "execution_count": 4,
   "id": "23223ae5-10c6-4beb-a0f5-686bdda1ac79",
   "metadata": {},
   "outputs": [
    {
     "data": {
      "text/html": [
       "<div>\n",
       "<style scoped>\n",
       "    .dataframe tbody tr th:only-of-type {\n",
       "        vertical-align: middle;\n",
       "    }\n",
       "\n",
       "    .dataframe tbody tr th {\n",
       "        vertical-align: top;\n",
       "    }\n",
       "\n",
       "    .dataframe thead th {\n",
       "        text-align: right;\n",
       "    }\n",
       "</style>\n",
       "<table border=\"1\" class=\"dataframe\">\n",
       "  <thead>\n",
       "    <tr style=\"text-align: right;\">\n",
       "      <th></th>\n",
       "      <th>course_name</th>\n",
       "      <th>duration</th>\n",
       "    </tr>\n",
       "  </thead>\n",
       "  <tbody>\n",
       "    <tr>\n",
       "      <th>0</th>\n",
       "      <td>Data Science</td>\n",
       "      <td>2</td>\n",
       "    </tr>\n",
       "    <tr>\n",
       "      <th>1</th>\n",
       "      <td>Machine Learning</td>\n",
       "      <td>3</td>\n",
       "    </tr>\n",
       "    <tr>\n",
       "      <th>2</th>\n",
       "      <td>Big Data</td>\n",
       "      <td>6</td>\n",
       "    </tr>\n",
       "    <tr>\n",
       "      <th>3</th>\n",
       "      <td>Data Engineer</td>\n",
       "      <td>4</td>\n",
       "    </tr>\n",
       "  </tbody>\n",
       "</table>\n",
       "</div>"
      ],
      "text/plain": [
       "        course_name  duration\n",
       "0      Data Science         2\n",
       "1  Machine Learning         3\n",
       "2          Big Data         6\n",
       "3     Data Engineer         4"
      ]
     },
     "execution_count": 4,
     "metadata": {},
     "output_type": "execute_result"
    }
   ],
   "source": [
    "df"
   ]
  },
  {
   "cell_type": "code",
   "execution_count": 11,
   "id": "de4ef46c-6913-42ab-971b-5daa74f968d5",
   "metadata": {},
   "outputs": [
    {
     "name": "stdout",
     "output_type": "stream",
     "text": [
      "course_name    Machine Learning\n",
      "duration                      3\n",
      "Name: 1, dtype: object\n"
     ]
    }
   ],
   "source": [
    "# select 2nd row\n",
    "print(df.iloc[1])"
   ]
  },
  {
   "cell_type": "markdown",
   "id": "42847a2c-6075-4471-88e3-2787e89ee221",
   "metadata": {},
   "source": [
    "# Q2. What is the difference between the functions loc and iloc in pandas.DataFrame?\n",
    "\n"
   ]
  },
  {
   "cell_type": "markdown",
   "id": "5d342cc7-eb99-48a0-a617-b4a80f8b3a3f",
   "metadata": {},
   "source": [
    "In Pandas, loc and iloc are used to access rows and columns of a DataFrame. The main difference between loc and iloc is the way they handle indexing.\n",
    "\n",
    "loc is label-based, which means it uses labels or names to access rows or columns. \n",
    "\n",
    "iloc, on the other hand, is integer-based, which means it uses integer indices to access rows or columns."
   ]
  },
  {
   "cell_type": "markdown",
   "id": "27952636-4312-4193-a82d-277ce7872901",
   "metadata": {},
   "source": [
    "## Answer:-"
   ]
  },
  {
   "cell_type": "code",
   "execution_count": 1,
   "id": "3f6d8aca-54e4-401b-a7c0-a91aecb32b61",
   "metadata": {},
   "outputs": [],
   "source": [
    "# for example\n",
    "import pandas as pd\n",
    "df=pd.read_csv(\"plazaPassList2.csv\")"
   ]
  },
  {
   "cell_type": "code",
   "execution_count": 2,
   "id": "fd4edde1-a35f-472a-a63e-b22291a6707d",
   "metadata": {},
   "outputs": [
    {
     "data": {
      "text/html": [
       "<div>\n",
       "<style scoped>\n",
       "    .dataframe tbody tr th:only-of-type {\n",
       "        vertical-align: middle;\n",
       "    }\n",
       "\n",
       "    .dataframe tbody tr th {\n",
       "        vertical-align: top;\n",
       "    }\n",
       "\n",
       "    .dataframe thead th {\n",
       "        text-align: right;\n",
       "    }\n",
       "</style>\n",
       "<table border=\"1\" class=\"dataframe\">\n",
       "  <thead>\n",
       "    <tr style=\"text-align: right;\">\n",
       "      <th></th>\n",
       "      <th>Sr. No.</th>\n",
       "      <th>Tag ID</th>\n",
       "      <th>Chassis/ Vehicle No</th>\n",
       "      <th>NPCI Vehicle Class</th>\n",
       "      <th>Vehicle Class Desc</th>\n",
       "      <th>Plaza Name</th>\n",
       "      <th>Pass Id</th>\n",
       "      <th>Pass Scheme</th>\n",
       "      <th>Pass Type</th>\n",
       "      <th>Pass Name</th>\n",
       "      <th>...</th>\n",
       "      <th>Stlmnt Amt (Rs.)</th>\n",
       "      <th>Stlmnt Status</th>\n",
       "      <th>Current Status</th>\n",
       "      <th>Issued By</th>\n",
       "      <th>NPCI Plaza Id</th>\n",
       "      <th>AutoRenewal</th>\n",
       "      <th>Old Pass Id</th>\n",
       "      <th>New Pass Id</th>\n",
       "      <th>A</th>\n",
       "      <th>B</th>\n",
       "    </tr>\n",
       "  </thead>\n",
       "  <tbody>\n",
       "    <tr>\n",
       "      <th>0</th>\n",
       "      <td>1</td>\n",
       "      <td>34161FA82033E6EE04FFF900</td>\n",
       "      <td>MP10CB0412</td>\n",
       "      <td>VC4</td>\n",
       "      <td>Car / Jeep / Van</td>\n",
       "      <td>Kurana Toll Plaza</td>\n",
       "      <td>14540747</td>\n",
       "      <td>Monthly Pass Non Comm</td>\n",
       "      <td>MP</td>\n",
       "      <td>Monthly Pass Non Comm</td>\n",
       "      <td>...</td>\n",
       "      <td>NaN</td>\n",
       "      <td>NaN</td>\n",
       "      <td>EXPIRED</td>\n",
       "      <td>139773.KUR2</td>\n",
       "      <td>320077</td>\n",
       "      <td>NO</td>\n",
       "      <td>NaN</td>\n",
       "      <td>NaN</td>\n",
       "      <td>NaN</td>\n",
       "      <td>NaN</td>\n",
       "    </tr>\n",
       "    <tr>\n",
       "      <th>1</th>\n",
       "      <td>2</td>\n",
       "      <td>34161FA82033E6EE04FFF900</td>\n",
       "      <td>MP10CB0412</td>\n",
       "      <td>VC4</td>\n",
       "      <td>Car / Jeep / Van</td>\n",
       "      <td>Kurana Toll Plaza</td>\n",
       "      <td>14104436</td>\n",
       "      <td>Monthly Pass Non Comm</td>\n",
       "      <td>MP</td>\n",
       "      <td>Monthly Pass Non Comm</td>\n",
       "      <td>...</td>\n",
       "      <td>NaN</td>\n",
       "      <td>NaN</td>\n",
       "      <td>EXPIRED</td>\n",
       "      <td>139773.KUR2</td>\n",
       "      <td>320077</td>\n",
       "      <td>NO</td>\n",
       "      <td>NaN</td>\n",
       "      <td>NaN</td>\n",
       "      <td>NaN</td>\n",
       "      <td>NaN</td>\n",
       "    </tr>\n",
       "    <tr>\n",
       "      <th>2</th>\n",
       "      <td>3</td>\n",
       "      <td>34161FA82033E6EE0488C6C0</td>\n",
       "      <td>UP32EF9515</td>\n",
       "      <td>VC4</td>\n",
       "      <td>Car / Jeep / Van</td>\n",
       "      <td>Kurana Toll Plaza</td>\n",
       "      <td>14226402</td>\n",
       "      <td>Monthly Pass Non Comm</td>\n",
       "      <td>MP</td>\n",
       "      <td>Monthly Pass Non Comm</td>\n",
       "      <td>...</td>\n",
       "      <td>NaN</td>\n",
       "      <td>NaN</td>\n",
       "      <td>EXPIRED</td>\n",
       "      <td>139773.KUR2</td>\n",
       "      <td>320077</td>\n",
       "      <td>NO</td>\n",
       "      <td>NaN</td>\n",
       "      <td>NaN</td>\n",
       "      <td>NaN</td>\n",
       "      <td>NaN</td>\n",
       "    </tr>\n",
       "    <tr>\n",
       "      <th>3</th>\n",
       "      <td>4</td>\n",
       "      <td>34161FA82033E6EE04738A60</td>\n",
       "      <td>MA3EADE1S00444637</td>\n",
       "      <td>VC4</td>\n",
       "      <td>Car / Jeep / Van</td>\n",
       "      <td>Kurana Toll Plaza</td>\n",
       "      <td>14042146</td>\n",
       "      <td>Monthly Pass Non Comm</td>\n",
       "      <td>MP</td>\n",
       "      <td>Monthly Pass Non Comm</td>\n",
       "      <td>...</td>\n",
       "      <td>NaN</td>\n",
       "      <td>NaN</td>\n",
       "      <td>EXPIRED</td>\n",
       "      <td>139773.KUR2</td>\n",
       "      <td>320077</td>\n",
       "      <td>NO</td>\n",
       "      <td>NaN</td>\n",
       "      <td>NaN</td>\n",
       "      <td>NaN</td>\n",
       "      <td>NaN</td>\n",
       "    </tr>\n",
       "    <tr>\n",
       "      <th>4</th>\n",
       "      <td>5</td>\n",
       "      <td>34161FA82033E6EE02109740</td>\n",
       "      <td>UP37H8899</td>\n",
       "      <td>VC4</td>\n",
       "      <td>Car / Jeep / Van</td>\n",
       "      <td>Kurana Toll Plaza</td>\n",
       "      <td>14241813</td>\n",
       "      <td>Monthly Pass Non Comm</td>\n",
       "      <td>MP</td>\n",
       "      <td>Monthly Pass Non Comm</td>\n",
       "      <td>...</td>\n",
       "      <td>NaN</td>\n",
       "      <td>NaN</td>\n",
       "      <td>EXPIRED</td>\n",
       "      <td>139773.KUR2</td>\n",
       "      <td>320077</td>\n",
       "      <td>NO</td>\n",
       "      <td>NaN</td>\n",
       "      <td>NaN</td>\n",
       "      <td>NaN</td>\n",
       "      <td>NaN</td>\n",
       "    </tr>\n",
       "    <tr>\n",
       "      <th>...</th>\n",
       "      <td>...</td>\n",
       "      <td>...</td>\n",
       "      <td>...</td>\n",
       "      <td>...</td>\n",
       "      <td>...</td>\n",
       "      <td>...</td>\n",
       "      <td>...</td>\n",
       "      <td>...</td>\n",
       "      <td>...</td>\n",
       "      <td>...</td>\n",
       "      <td>...</td>\n",
       "      <td>...</td>\n",
       "      <td>...</td>\n",
       "      <td>...</td>\n",
       "      <td>...</td>\n",
       "      <td>...</td>\n",
       "      <td>...</td>\n",
       "      <td>...</td>\n",
       "      <td>...</td>\n",
       "      <td>...</td>\n",
       "      <td>...</td>\n",
       "    </tr>\n",
       "    <tr>\n",
       "      <th>1007</th>\n",
       "      <td>1008</td>\n",
       "      <td>34161FA82026C81C02D645C0</td>\n",
       "      <td>UP13AB1115</td>\n",
       "      <td>VC4</td>\n",
       "      <td>Car / Jeep / Van</td>\n",
       "      <td>Kurana Toll Plaza</td>\n",
       "      <td>14289576</td>\n",
       "      <td>Monthly Pass Non Comm</td>\n",
       "      <td>MP</td>\n",
       "      <td>Monthly Pass Non Comm</td>\n",
       "      <td>...</td>\n",
       "      <td>NaN</td>\n",
       "      <td>NaN</td>\n",
       "      <td>EXPIRED</td>\n",
       "      <td>139773.KUR2</td>\n",
       "      <td>320077</td>\n",
       "      <td>NO</td>\n",
       "      <td>NaN</td>\n",
       "      <td>NaN</td>\n",
       "      <td>NaN</td>\n",
       "      <td>NaN</td>\n",
       "    </tr>\n",
       "    <tr>\n",
       "      <th>1008</th>\n",
       "      <td>1009</td>\n",
       "      <td>34161FA82026C81C028F52C0</td>\n",
       "      <td>UP37E9859</td>\n",
       "      <td>VC4</td>\n",
       "      <td>Car / Jeep / Van</td>\n",
       "      <td>Kurana Toll Plaza</td>\n",
       "      <td>13978900</td>\n",
       "      <td>Monthly Pass Non Comm</td>\n",
       "      <td>MP</td>\n",
       "      <td>Monthly Pass Non Comm</td>\n",
       "      <td>...</td>\n",
       "      <td>NaN</td>\n",
       "      <td>NaN</td>\n",
       "      <td>EXPIRED</td>\n",
       "      <td>139773.KUR2</td>\n",
       "      <td>320077</td>\n",
       "      <td>NO</td>\n",
       "      <td>NaN</td>\n",
       "      <td>NaN</td>\n",
       "      <td>NaN</td>\n",
       "      <td>NaN</td>\n",
       "    </tr>\n",
       "    <tr>\n",
       "      <th>1009</th>\n",
       "      <td>1010</td>\n",
       "      <td>34161FA82026C81C020878C0</td>\n",
       "      <td>UP13AR3555</td>\n",
       "      <td>VC4</td>\n",
       "      <td>Car / Jeep / Van</td>\n",
       "      <td>Kurana Toll Plaza</td>\n",
       "      <td>14586345</td>\n",
       "      <td>Monthly Pass Non Comm</td>\n",
       "      <td>MP</td>\n",
       "      <td>Monthly Pass Non Comm</td>\n",
       "      <td>...</td>\n",
       "      <td>NaN</td>\n",
       "      <td>NaN</td>\n",
       "      <td>EXPIRED</td>\n",
       "      <td>139773.KUR2</td>\n",
       "      <td>320077</td>\n",
       "      <td>NO</td>\n",
       "      <td>NaN</td>\n",
       "      <td>NaN</td>\n",
       "      <td>NaN</td>\n",
       "      <td>NaN</td>\n",
       "    </tr>\n",
       "    <tr>\n",
       "      <th>1010</th>\n",
       "      <td>1011</td>\n",
       "      <td>34161FA82026C81C020878C0</td>\n",
       "      <td>UP13AR3555</td>\n",
       "      <td>VC4</td>\n",
       "      <td>Car / Jeep / Van</td>\n",
       "      <td>Kurana Toll Plaza</td>\n",
       "      <td>13997053</td>\n",
       "      <td>Monthly Pass Non Comm</td>\n",
       "      <td>MP</td>\n",
       "      <td>Monthly Pass Non Comm</td>\n",
       "      <td>...</td>\n",
       "      <td>NaN</td>\n",
       "      <td>NaN</td>\n",
       "      <td>EXPIRED</td>\n",
       "      <td>139773.KUR2</td>\n",
       "      <td>320077</td>\n",
       "      <td>NO</td>\n",
       "      <td>NaN</td>\n",
       "      <td>NaN</td>\n",
       "      <td>NaN</td>\n",
       "      <td>NaN</td>\n",
       "    </tr>\n",
       "    <tr>\n",
       "      <th>1011</th>\n",
       "      <td>1012</td>\n",
       "      <td>34161FA82026C81C0203A620</td>\n",
       "      <td>UP32KA3357</td>\n",
       "      <td>VC4</td>\n",
       "      <td>Car / Jeep / Van</td>\n",
       "      <td>Kurana Toll Plaza</td>\n",
       "      <td>13987106</td>\n",
       "      <td>Monthly Pass Non Comm</td>\n",
       "      <td>MP</td>\n",
       "      <td>Monthly Pass Non Comm</td>\n",
       "      <td>...</td>\n",
       "      <td>NaN</td>\n",
       "      <td>NaN</td>\n",
       "      <td>EXPIRED</td>\n",
       "      <td>139773.KUR2</td>\n",
       "      <td>320077</td>\n",
       "      <td>NO</td>\n",
       "      <td>NaN</td>\n",
       "      <td>NaN</td>\n",
       "      <td>NaN</td>\n",
       "      <td>NaN</td>\n",
       "    </tr>\n",
       "  </tbody>\n",
       "</table>\n",
       "<p>1012 rows × 31 columns</p>\n",
       "</div>"
      ],
      "text/plain": [
       "      Sr. No.                    Tag ID Chassis/ Vehicle No  \\\n",
       "0           1  34161FA82033E6EE04FFF900          MP10CB0412   \n",
       "1           2  34161FA82033E6EE04FFF900          MP10CB0412   \n",
       "2           3  34161FA82033E6EE0488C6C0          UP32EF9515   \n",
       "3           4  34161FA82033E6EE04738A60   MA3EADE1S00444637   \n",
       "4           5  34161FA82033E6EE02109740           UP37H8899   \n",
       "...       ...                       ...                 ...   \n",
       "1007     1008  34161FA82026C81C02D645C0          UP13AB1115   \n",
       "1008     1009  34161FA82026C81C028F52C0           UP37E9859   \n",
       "1009     1010  34161FA82026C81C020878C0          UP13AR3555   \n",
       "1010     1011  34161FA82026C81C020878C0          UP13AR3555   \n",
       "1011     1012  34161FA82026C81C0203A620          UP32KA3357   \n",
       "\n",
       "     NPCI Vehicle Class Vehicle Class Desc         Plaza Name   Pass Id  \\\n",
       "0                   VC4   Car / Jeep / Van  Kurana Toll Plaza  14540747   \n",
       "1                   VC4   Car / Jeep / Van  Kurana Toll Plaza  14104436   \n",
       "2                   VC4   Car / Jeep / Van  Kurana Toll Plaza  14226402   \n",
       "3                   VC4   Car / Jeep / Van  Kurana Toll Plaza  14042146   \n",
       "4                   VC4   Car / Jeep / Van  Kurana Toll Plaza  14241813   \n",
       "...                 ...                ...                ...       ...   \n",
       "1007                VC4   Car / Jeep / Van  Kurana Toll Plaza  14289576   \n",
       "1008                VC4   Car / Jeep / Van  Kurana Toll Plaza  13978900   \n",
       "1009                VC4   Car / Jeep / Van  Kurana Toll Plaza  14586345   \n",
       "1010                VC4   Car / Jeep / Van  Kurana Toll Plaza  13997053   \n",
       "1011                VC4   Car / Jeep / Van  Kurana Toll Plaza  13987106   \n",
       "\n",
       "                Pass Scheme Pass Type              Pass Name  ...  \\\n",
       "0     Monthly Pass Non Comm        MP  Monthly Pass Non Comm  ...   \n",
       "1     Monthly Pass Non Comm        MP  Monthly Pass Non Comm  ...   \n",
       "2     Monthly Pass Non Comm        MP  Monthly Pass Non Comm  ...   \n",
       "3     Monthly Pass Non Comm        MP  Monthly Pass Non Comm  ...   \n",
       "4     Monthly Pass Non Comm        MP  Monthly Pass Non Comm  ...   \n",
       "...                     ...       ...                    ...  ...   \n",
       "1007  Monthly Pass Non Comm        MP  Monthly Pass Non Comm  ...   \n",
       "1008  Monthly Pass Non Comm        MP  Monthly Pass Non Comm  ...   \n",
       "1009  Monthly Pass Non Comm        MP  Monthly Pass Non Comm  ...   \n",
       "1010  Monthly Pass Non Comm        MP  Monthly Pass Non Comm  ...   \n",
       "1011  Monthly Pass Non Comm        MP  Monthly Pass Non Comm  ...   \n",
       "\n",
       "     Stlmnt Amt (Rs.) Stlmnt Status  Current Status    Issued By  \\\n",
       "0                 NaN           NaN         EXPIRED  139773.KUR2   \n",
       "1                 NaN           NaN         EXPIRED  139773.KUR2   \n",
       "2                 NaN           NaN         EXPIRED  139773.KUR2   \n",
       "3                 NaN           NaN         EXPIRED  139773.KUR2   \n",
       "4                 NaN           NaN         EXPIRED  139773.KUR2   \n",
       "...               ...           ...             ...          ...   \n",
       "1007              NaN           NaN         EXPIRED  139773.KUR2   \n",
       "1008              NaN           NaN         EXPIRED  139773.KUR2   \n",
       "1009              NaN           NaN         EXPIRED  139773.KUR2   \n",
       "1010              NaN           NaN         EXPIRED  139773.KUR2   \n",
       "1011              NaN           NaN         EXPIRED  139773.KUR2   \n",
       "\n",
       "     NPCI Plaza Id AutoRenewal  Old Pass Id  New Pass Id   A   B  \n",
       "0           320077          NO          NaN          NaN NaN NaN  \n",
       "1           320077          NO          NaN          NaN NaN NaN  \n",
       "2           320077          NO          NaN          NaN NaN NaN  \n",
       "3           320077          NO          NaN          NaN NaN NaN  \n",
       "4           320077          NO          NaN          NaN NaN NaN  \n",
       "...            ...         ...          ...          ...  ..  ..  \n",
       "1007        320077          NO          NaN          NaN NaN NaN  \n",
       "1008        320077          NO          NaN          NaN NaN NaN  \n",
       "1009        320077          NO          NaN          NaN NaN NaN  \n",
       "1010        320077          NO          NaN          NaN NaN NaN  \n",
       "1011        320077          NO          NaN          NaN NaN NaN  \n",
       "\n",
       "[1012 rows x 31 columns]"
      ]
     },
     "execution_count": 2,
     "metadata": {},
     "output_type": "execute_result"
    }
   ],
   "source": [
    "df"
   ]
  },
  {
   "cell_type": "markdown",
   "id": "2eec31e9-7757-4c34-bace-627e0f941dd0",
   "metadata": {},
   "source": [
    "### iloc"
   ]
  },
  {
   "cell_type": "code",
   "execution_count": 3,
   "id": "d923c34b-8c9d-469b-b738-99f4143acd96",
   "metadata": {},
   "outputs": [
    {
     "data": {
      "text/html": [
       "<div>\n",
       "<style scoped>\n",
       "    .dataframe tbody tr th:only-of-type {\n",
       "        vertical-align: middle;\n",
       "    }\n",
       "\n",
       "    .dataframe tbody tr th {\n",
       "        vertical-align: top;\n",
       "    }\n",
       "\n",
       "    .dataframe thead th {\n",
       "        text-align: right;\n",
       "    }\n",
       "</style>\n",
       "<table border=\"1\" class=\"dataframe\">\n",
       "  <thead>\n",
       "    <tr style=\"text-align: right;\">\n",
       "      <th></th>\n",
       "      <th>Sr. No.</th>\n",
       "      <th>Tag ID</th>\n",
       "      <th>Chassis/ Vehicle No</th>\n",
       "      <th>NPCI Vehicle Class</th>\n",
       "      <th>Vehicle Class Desc</th>\n",
       "      <th>Plaza Name</th>\n",
       "      <th>Pass Id</th>\n",
       "      <th>Pass Scheme</th>\n",
       "      <th>Pass Type</th>\n",
       "      <th>Pass Name</th>\n",
       "      <th>...</th>\n",
       "      <th>Stlmnt Amt (Rs.)</th>\n",
       "      <th>Stlmnt Status</th>\n",
       "      <th>Current Status</th>\n",
       "      <th>Issued By</th>\n",
       "      <th>NPCI Plaza Id</th>\n",
       "      <th>AutoRenewal</th>\n",
       "      <th>Old Pass Id</th>\n",
       "      <th>New Pass Id</th>\n",
       "      <th>A</th>\n",
       "      <th>B</th>\n",
       "    </tr>\n",
       "  </thead>\n",
       "  <tbody>\n",
       "    <tr>\n",
       "      <th>2</th>\n",
       "      <td>3</td>\n",
       "      <td>34161FA82033E6EE0488C6C0</td>\n",
       "      <td>UP32EF9515</td>\n",
       "      <td>VC4</td>\n",
       "      <td>Car / Jeep / Van</td>\n",
       "      <td>Kurana Toll Plaza</td>\n",
       "      <td>14226402</td>\n",
       "      <td>Monthly Pass Non Comm</td>\n",
       "      <td>MP</td>\n",
       "      <td>Monthly Pass Non Comm</td>\n",
       "      <td>...</td>\n",
       "      <td>NaN</td>\n",
       "      <td>NaN</td>\n",
       "      <td>EXPIRED</td>\n",
       "      <td>139773.KUR2</td>\n",
       "      <td>320077</td>\n",
       "      <td>NO</td>\n",
       "      <td>NaN</td>\n",
       "      <td>NaN</td>\n",
       "      <td>NaN</td>\n",
       "      <td>NaN</td>\n",
       "    </tr>\n",
       "    <tr>\n",
       "      <th>3</th>\n",
       "      <td>4</td>\n",
       "      <td>34161FA82033E6EE04738A60</td>\n",
       "      <td>MA3EADE1S00444637</td>\n",
       "      <td>VC4</td>\n",
       "      <td>Car / Jeep / Van</td>\n",
       "      <td>Kurana Toll Plaza</td>\n",
       "      <td>14042146</td>\n",
       "      <td>Monthly Pass Non Comm</td>\n",
       "      <td>MP</td>\n",
       "      <td>Monthly Pass Non Comm</td>\n",
       "      <td>...</td>\n",
       "      <td>NaN</td>\n",
       "      <td>NaN</td>\n",
       "      <td>EXPIRED</td>\n",
       "      <td>139773.KUR2</td>\n",
       "      <td>320077</td>\n",
       "      <td>NO</td>\n",
       "      <td>NaN</td>\n",
       "      <td>NaN</td>\n",
       "      <td>NaN</td>\n",
       "      <td>NaN</td>\n",
       "    </tr>\n",
       "    <tr>\n",
       "      <th>4</th>\n",
       "      <td>5</td>\n",
       "      <td>34161FA82033E6EE02109740</td>\n",
       "      <td>UP37H8899</td>\n",
       "      <td>VC4</td>\n",
       "      <td>Car / Jeep / Van</td>\n",
       "      <td>Kurana Toll Plaza</td>\n",
       "      <td>14241813</td>\n",
       "      <td>Monthly Pass Non Comm</td>\n",
       "      <td>MP</td>\n",
       "      <td>Monthly Pass Non Comm</td>\n",
       "      <td>...</td>\n",
       "      <td>NaN</td>\n",
       "      <td>NaN</td>\n",
       "      <td>EXPIRED</td>\n",
       "      <td>139773.KUR2</td>\n",
       "      <td>320077</td>\n",
       "      <td>NO</td>\n",
       "      <td>NaN</td>\n",
       "      <td>NaN</td>\n",
       "      <td>NaN</td>\n",
       "      <td>NaN</td>\n",
       "    </tr>\n",
       "  </tbody>\n",
       "</table>\n",
       "<p>3 rows × 31 columns</p>\n",
       "</div>"
      ],
      "text/plain": [
       "   Sr. No.                    Tag ID Chassis/ Vehicle No NPCI Vehicle Class  \\\n",
       "2        3  34161FA82033E6EE0488C6C0          UP32EF9515                VC4   \n",
       "3        4  34161FA82033E6EE04738A60   MA3EADE1S00444637                VC4   \n",
       "4        5  34161FA82033E6EE02109740           UP37H8899                VC4   \n",
       "\n",
       "  Vehicle Class Desc         Plaza Name   Pass Id            Pass Scheme  \\\n",
       "2   Car / Jeep / Van  Kurana Toll Plaza  14226402  Monthly Pass Non Comm   \n",
       "3   Car / Jeep / Van  Kurana Toll Plaza  14042146  Monthly Pass Non Comm   \n",
       "4   Car / Jeep / Van  Kurana Toll Plaza  14241813  Monthly Pass Non Comm   \n",
       "\n",
       "  Pass Type              Pass Name  ... Stlmnt Amt (Rs.) Stlmnt Status  \\\n",
       "2        MP  Monthly Pass Non Comm  ...              NaN           NaN   \n",
       "3        MP  Monthly Pass Non Comm  ...              NaN           NaN   \n",
       "4        MP  Monthly Pass Non Comm  ...              NaN           NaN   \n",
       "\n",
       "   Current Status    Issued By NPCI Plaza Id AutoRenewal  Old Pass Id  \\\n",
       "2         EXPIRED  139773.KUR2        320077          NO          NaN   \n",
       "3         EXPIRED  139773.KUR2        320077          NO          NaN   \n",
       "4         EXPIRED  139773.KUR2        320077          NO          NaN   \n",
       "\n",
       "   New Pass Id   A   B  \n",
       "2          NaN NaN NaN  \n",
       "3          NaN NaN NaN  \n",
       "4          NaN NaN NaN  \n",
       "\n",
       "[3 rows x 31 columns]"
      ]
     },
     "execution_count": 3,
     "metadata": {},
     "output_type": "execute_result"
    }
   ],
   "source": [
    "df.iloc[2:5] # iloc excluded 5 because iloc understand the numeric or internal built index in column"
   ]
  },
  {
   "cell_type": "markdown",
   "id": "78534bd0-7262-4b72-909a-7d9a70d87c24",
   "metadata": {},
   "source": [
    "### loc"
   ]
  },
  {
   "cell_type": "code",
   "execution_count": 4,
   "id": "010d813b-4c8d-4bb3-b0ee-ad55cf8ed2d1",
   "metadata": {},
   "outputs": [
    {
     "data": {
      "text/html": [
       "<div>\n",
       "<style scoped>\n",
       "    .dataframe tbody tr th:only-of-type {\n",
       "        vertical-align: middle;\n",
       "    }\n",
       "\n",
       "    .dataframe tbody tr th {\n",
       "        vertical-align: top;\n",
       "    }\n",
       "\n",
       "    .dataframe thead th {\n",
       "        text-align: right;\n",
       "    }\n",
       "</style>\n",
       "<table border=\"1\" class=\"dataframe\">\n",
       "  <thead>\n",
       "    <tr style=\"text-align: right;\">\n",
       "      <th></th>\n",
       "      <th>Sr. No.</th>\n",
       "      <th>Tag ID</th>\n",
       "      <th>Chassis/ Vehicle No</th>\n",
       "      <th>NPCI Vehicle Class</th>\n",
       "      <th>Vehicle Class Desc</th>\n",
       "      <th>Plaza Name</th>\n",
       "      <th>Pass Id</th>\n",
       "      <th>Pass Scheme</th>\n",
       "      <th>Pass Type</th>\n",
       "      <th>Pass Name</th>\n",
       "      <th>...</th>\n",
       "      <th>Stlmnt Amt (Rs.)</th>\n",
       "      <th>Stlmnt Status</th>\n",
       "      <th>Current Status</th>\n",
       "      <th>Issued By</th>\n",
       "      <th>NPCI Plaza Id</th>\n",
       "      <th>AutoRenewal</th>\n",
       "      <th>Old Pass Id</th>\n",
       "      <th>New Pass Id</th>\n",
       "      <th>A</th>\n",
       "      <th>B</th>\n",
       "    </tr>\n",
       "  </thead>\n",
       "  <tbody>\n",
       "    <tr>\n",
       "      <th>2</th>\n",
       "      <td>3</td>\n",
       "      <td>34161FA82033E6EE0488C6C0</td>\n",
       "      <td>UP32EF9515</td>\n",
       "      <td>VC4</td>\n",
       "      <td>Car / Jeep / Van</td>\n",
       "      <td>Kurana Toll Plaza</td>\n",
       "      <td>14226402</td>\n",
       "      <td>Monthly Pass Non Comm</td>\n",
       "      <td>MP</td>\n",
       "      <td>Monthly Pass Non Comm</td>\n",
       "      <td>...</td>\n",
       "      <td>NaN</td>\n",
       "      <td>NaN</td>\n",
       "      <td>EXPIRED</td>\n",
       "      <td>139773.KUR2</td>\n",
       "      <td>320077</td>\n",
       "      <td>NO</td>\n",
       "      <td>NaN</td>\n",
       "      <td>NaN</td>\n",
       "      <td>NaN</td>\n",
       "      <td>NaN</td>\n",
       "    </tr>\n",
       "    <tr>\n",
       "      <th>3</th>\n",
       "      <td>4</td>\n",
       "      <td>34161FA82033E6EE04738A60</td>\n",
       "      <td>MA3EADE1S00444637</td>\n",
       "      <td>VC4</td>\n",
       "      <td>Car / Jeep / Van</td>\n",
       "      <td>Kurana Toll Plaza</td>\n",
       "      <td>14042146</td>\n",
       "      <td>Monthly Pass Non Comm</td>\n",
       "      <td>MP</td>\n",
       "      <td>Monthly Pass Non Comm</td>\n",
       "      <td>...</td>\n",
       "      <td>NaN</td>\n",
       "      <td>NaN</td>\n",
       "      <td>EXPIRED</td>\n",
       "      <td>139773.KUR2</td>\n",
       "      <td>320077</td>\n",
       "      <td>NO</td>\n",
       "      <td>NaN</td>\n",
       "      <td>NaN</td>\n",
       "      <td>NaN</td>\n",
       "      <td>NaN</td>\n",
       "    </tr>\n",
       "    <tr>\n",
       "      <th>4</th>\n",
       "      <td>5</td>\n",
       "      <td>34161FA82033E6EE02109740</td>\n",
       "      <td>UP37H8899</td>\n",
       "      <td>VC4</td>\n",
       "      <td>Car / Jeep / Van</td>\n",
       "      <td>Kurana Toll Plaza</td>\n",
       "      <td>14241813</td>\n",
       "      <td>Monthly Pass Non Comm</td>\n",
       "      <td>MP</td>\n",
       "      <td>Monthly Pass Non Comm</td>\n",
       "      <td>...</td>\n",
       "      <td>NaN</td>\n",
       "      <td>NaN</td>\n",
       "      <td>EXPIRED</td>\n",
       "      <td>139773.KUR2</td>\n",
       "      <td>320077</td>\n",
       "      <td>NO</td>\n",
       "      <td>NaN</td>\n",
       "      <td>NaN</td>\n",
       "      <td>NaN</td>\n",
       "      <td>NaN</td>\n",
       "    </tr>\n",
       "    <tr>\n",
       "      <th>5</th>\n",
       "      <td>6</td>\n",
       "      <td>34161FA820328EE8257B0640</td>\n",
       "      <td>UP37AT5373</td>\n",
       "      <td>VC4</td>\n",
       "      <td>Car / Jeep / Van</td>\n",
       "      <td>Kurana Toll Plaza</td>\n",
       "      <td>14371151</td>\n",
       "      <td>Monthly Pass Comm</td>\n",
       "      <td>MP</td>\n",
       "      <td>Monthly Pass Comm</td>\n",
       "      <td>...</td>\n",
       "      <td>NaN</td>\n",
       "      <td>NaN</td>\n",
       "      <td>EXPIRED</td>\n",
       "      <td>139773.KUR2</td>\n",
       "      <td>320077</td>\n",
       "      <td>NO</td>\n",
       "      <td>NaN</td>\n",
       "      <td>NaN</td>\n",
       "      <td>NaN</td>\n",
       "      <td>NaN</td>\n",
       "    </tr>\n",
       "  </tbody>\n",
       "</table>\n",
       "<p>4 rows × 31 columns</p>\n",
       "</div>"
      ],
      "text/plain": [
       "   Sr. No.                    Tag ID Chassis/ Vehicle No NPCI Vehicle Class  \\\n",
       "2        3  34161FA82033E6EE0488C6C0          UP32EF9515                VC4   \n",
       "3        4  34161FA82033E6EE04738A60   MA3EADE1S00444637                VC4   \n",
       "4        5  34161FA82033E6EE02109740           UP37H8899                VC4   \n",
       "5        6  34161FA820328EE8257B0640          UP37AT5373                VC4   \n",
       "\n",
       "  Vehicle Class Desc         Plaza Name   Pass Id            Pass Scheme  \\\n",
       "2   Car / Jeep / Van  Kurana Toll Plaza  14226402  Monthly Pass Non Comm   \n",
       "3   Car / Jeep / Van  Kurana Toll Plaza  14042146  Monthly Pass Non Comm   \n",
       "4   Car / Jeep / Van  Kurana Toll Plaza  14241813  Monthly Pass Non Comm   \n",
       "5   Car / Jeep / Van  Kurana Toll Plaza  14371151      Monthly Pass Comm   \n",
       "\n",
       "  Pass Type              Pass Name  ... Stlmnt Amt (Rs.) Stlmnt Status  \\\n",
       "2        MP  Monthly Pass Non Comm  ...              NaN           NaN   \n",
       "3        MP  Monthly Pass Non Comm  ...              NaN           NaN   \n",
       "4        MP  Monthly Pass Non Comm  ...              NaN           NaN   \n",
       "5        MP      Monthly Pass Comm  ...              NaN           NaN   \n",
       "\n",
       "   Current Status    Issued By NPCI Plaza Id AutoRenewal  Old Pass Id  \\\n",
       "2         EXPIRED  139773.KUR2        320077          NO          NaN   \n",
       "3         EXPIRED  139773.KUR2        320077          NO          NaN   \n",
       "4         EXPIRED  139773.KUR2        320077          NO          NaN   \n",
       "5         EXPIRED  139773.KUR2        320077          NO          NaN   \n",
       "\n",
       "   New Pass Id   A   B  \n",
       "2          NaN NaN NaN  \n",
       "3          NaN NaN NaN  \n",
       "4          NaN NaN NaN  \n",
       "5          NaN NaN NaN  \n",
       "\n",
       "[4 rows x 31 columns]"
      ]
     },
     "execution_count": 4,
     "metadata": {},
     "output_type": "execute_result"
    }
   ],
   "source": [
    "df.loc[2:5] # iloc not excluded 5 because loc understand the name index in column"
   ]
  },
  {
   "cell_type": "code",
   "execution_count": null,
   "id": "3e40e5b4-1002-4311-badf-a7cca8a8a913",
   "metadata": {},
   "outputs": [],
   "source": [
    "# Let's explore more for understand the concept of iloc and loc"
   ]
  },
  {
   "cell_type": "code",
   "execution_count": 5,
   "id": "1e7e8bf6-92b8-4ab0-b365-f336e70cb84d",
   "metadata": {},
   "outputs": [
    {
     "ename": "IndexError",
     "evalue": ".iloc requires numeric indexers, got ['Chassis/ Vehicle No' 'NPCI Vehicle Class' 'Vehicle Class Desc']",
     "output_type": "error",
     "traceback": [
      "\u001b[0;31m---------------------------------------------------------------------------\u001b[0m",
      "\u001b[0;31mIndexError\u001b[0m                                Traceback (most recent call last)",
      "Cell \u001b[0;32mIn[5], line 1\u001b[0m\n\u001b[0;32m----> 1\u001b[0m \u001b[43mdf\u001b[49m\u001b[38;5;241;43m.\u001b[39;49m\u001b[43miloc\u001b[49m\u001b[43m[\u001b[49m\u001b[38;5;241;43m2\u001b[39;49m\u001b[43m:\u001b[49m\u001b[38;5;241;43m5\u001b[39;49m\u001b[43m,\u001b[49m\u001b[43m[\u001b[49m\u001b[38;5;124;43m\"\u001b[39;49m\u001b[38;5;124;43mChassis/ Vehicle No\u001b[39;49m\u001b[38;5;124;43m\"\u001b[39;49m\u001b[43m,\u001b[49m\u001b[43m\t\u001b[49m\u001b[38;5;124;43m\"\u001b[39;49m\u001b[38;5;124;43mNPCI Vehicle Class\u001b[39;49m\u001b[38;5;124;43m\"\u001b[39;49m\u001b[43m,\u001b[49m\u001b[43m\t\u001b[49m\u001b[38;5;124;43m\"\u001b[39;49m\u001b[38;5;124;43mVehicle Class Desc\u001b[39;49m\u001b[38;5;124;43m\"\u001b[39;49m\u001b[43m]\u001b[49m\u001b[43m]\u001b[49m\n\u001b[1;32m      2\u001b[0m \u001b[38;5;66;03m# iloc understand the numeric or internal built index in column\u001b[39;00m\n",
      "File \u001b[0;32m/opt/conda/lib/python3.10/site-packages/pandas/core/indexing.py:1067\u001b[0m, in \u001b[0;36m_LocationIndexer.__getitem__\u001b[0;34m(self, key)\u001b[0m\n\u001b[1;32m   1065\u001b[0m     \u001b[38;5;28;01mif\u001b[39;00m \u001b[38;5;28mself\u001b[39m\u001b[38;5;241m.\u001b[39m_is_scalar_access(key):\n\u001b[1;32m   1066\u001b[0m         \u001b[38;5;28;01mreturn\u001b[39;00m \u001b[38;5;28mself\u001b[39m\u001b[38;5;241m.\u001b[39mobj\u001b[38;5;241m.\u001b[39m_get_value(\u001b[38;5;241m*\u001b[39mkey, takeable\u001b[38;5;241m=\u001b[39m\u001b[38;5;28mself\u001b[39m\u001b[38;5;241m.\u001b[39m_takeable)\n\u001b[0;32m-> 1067\u001b[0m     \u001b[38;5;28;01mreturn\u001b[39;00m \u001b[38;5;28;43mself\u001b[39;49m\u001b[38;5;241;43m.\u001b[39;49m\u001b[43m_getitem_tuple\u001b[49m\u001b[43m(\u001b[49m\u001b[43mkey\u001b[49m\u001b[43m)\u001b[49m\n\u001b[1;32m   1068\u001b[0m \u001b[38;5;28;01melse\u001b[39;00m:\n\u001b[1;32m   1069\u001b[0m     \u001b[38;5;66;03m# we by definition only have the 0th axis\u001b[39;00m\n\u001b[1;32m   1070\u001b[0m     axis \u001b[38;5;241m=\u001b[39m \u001b[38;5;28mself\u001b[39m\u001b[38;5;241m.\u001b[39maxis \u001b[38;5;129;01mor\u001b[39;00m \u001b[38;5;241m0\u001b[39m\n",
      "File \u001b[0;32m/opt/conda/lib/python3.10/site-packages/pandas/core/indexing.py:1563\u001b[0m, in \u001b[0;36m_iLocIndexer._getitem_tuple\u001b[0;34m(self, tup)\u001b[0m\n\u001b[1;32m   1561\u001b[0m \u001b[38;5;28;01mdef\u001b[39;00m \u001b[38;5;21m_getitem_tuple\u001b[39m(\u001b[38;5;28mself\u001b[39m, tup: \u001b[38;5;28mtuple\u001b[39m):\n\u001b[0;32m-> 1563\u001b[0m     tup \u001b[38;5;241m=\u001b[39m \u001b[38;5;28;43mself\u001b[39;49m\u001b[38;5;241;43m.\u001b[39;49m\u001b[43m_validate_tuple_indexer\u001b[49m\u001b[43m(\u001b[49m\u001b[43mtup\u001b[49m\u001b[43m)\u001b[49m\n\u001b[1;32m   1564\u001b[0m     \u001b[38;5;28;01mwith\u001b[39;00m suppress(IndexingError):\n\u001b[1;32m   1565\u001b[0m         \u001b[38;5;28;01mreturn\u001b[39;00m \u001b[38;5;28mself\u001b[39m\u001b[38;5;241m.\u001b[39m_getitem_lowerdim(tup)\n",
      "File \u001b[0;32m/opt/conda/lib/python3.10/site-packages/pandas/core/indexing.py:873\u001b[0m, in \u001b[0;36m_LocationIndexer._validate_tuple_indexer\u001b[0;34m(self, key)\u001b[0m\n\u001b[1;32m    871\u001b[0m \u001b[38;5;28;01mfor\u001b[39;00m i, k \u001b[38;5;129;01min\u001b[39;00m \u001b[38;5;28menumerate\u001b[39m(key):\n\u001b[1;32m    872\u001b[0m     \u001b[38;5;28;01mtry\u001b[39;00m:\n\u001b[0;32m--> 873\u001b[0m         \u001b[38;5;28;43mself\u001b[39;49m\u001b[38;5;241;43m.\u001b[39;49m\u001b[43m_validate_key\u001b[49m\u001b[43m(\u001b[49m\u001b[43mk\u001b[49m\u001b[43m,\u001b[49m\u001b[43m \u001b[49m\u001b[43mi\u001b[49m\u001b[43m)\u001b[49m\n\u001b[1;32m    874\u001b[0m     \u001b[38;5;28;01mexcept\u001b[39;00m \u001b[38;5;167;01mValueError\u001b[39;00m \u001b[38;5;28;01mas\u001b[39;00m err:\n\u001b[1;32m    875\u001b[0m         \u001b[38;5;28;01mraise\u001b[39;00m \u001b[38;5;167;01mValueError\u001b[39;00m(\n\u001b[1;32m    876\u001b[0m             \u001b[38;5;124m\"\u001b[39m\u001b[38;5;124mLocation based indexing can only have \u001b[39m\u001b[38;5;124m\"\u001b[39m\n\u001b[1;32m    877\u001b[0m             \u001b[38;5;124mf\u001b[39m\u001b[38;5;124m\"\u001b[39m\u001b[38;5;124m[\u001b[39m\u001b[38;5;132;01m{\u001b[39;00m\u001b[38;5;28mself\u001b[39m\u001b[38;5;241m.\u001b[39m_valid_types\u001b[38;5;132;01m}\u001b[39;00m\u001b[38;5;124m] types\u001b[39m\u001b[38;5;124m\"\u001b[39m\n\u001b[1;32m    878\u001b[0m         ) \u001b[38;5;28;01mfrom\u001b[39;00m \u001b[38;5;21;01merr\u001b[39;00m\n",
      "File \u001b[0;32m/opt/conda/lib/python3.10/site-packages/pandas/core/indexing.py:1477\u001b[0m, in \u001b[0;36m_iLocIndexer._validate_key\u001b[0;34m(self, key, axis)\u001b[0m\n\u001b[1;32m   1475\u001b[0m \u001b[38;5;66;03m# check that the key has a numeric dtype\u001b[39;00m\n\u001b[1;32m   1476\u001b[0m \u001b[38;5;28;01mif\u001b[39;00m \u001b[38;5;129;01mnot\u001b[39;00m is_numeric_dtype(arr\u001b[38;5;241m.\u001b[39mdtype):\n\u001b[0;32m-> 1477\u001b[0m     \u001b[38;5;28;01mraise\u001b[39;00m \u001b[38;5;167;01mIndexError\u001b[39;00m(\u001b[38;5;124mf\u001b[39m\u001b[38;5;124m\"\u001b[39m\u001b[38;5;124m.iloc requires numeric indexers, got \u001b[39m\u001b[38;5;132;01m{\u001b[39;00marr\u001b[38;5;132;01m}\u001b[39;00m\u001b[38;5;124m\"\u001b[39m)\n\u001b[1;32m   1479\u001b[0m \u001b[38;5;66;03m# check that the key does not exceed the maximum size of the index\u001b[39;00m\n\u001b[1;32m   1480\u001b[0m \u001b[38;5;28;01mif\u001b[39;00m \u001b[38;5;28mlen\u001b[39m(arr) \u001b[38;5;129;01mand\u001b[39;00m (arr\u001b[38;5;241m.\u001b[39mmax() \u001b[38;5;241m>\u001b[39m\u001b[38;5;241m=\u001b[39m len_axis \u001b[38;5;129;01mor\u001b[39;00m arr\u001b[38;5;241m.\u001b[39mmin() \u001b[38;5;241m<\u001b[39m \u001b[38;5;241m-\u001b[39mlen_axis):\n",
      "\u001b[0;31mIndexError\u001b[0m: .iloc requires numeric indexers, got ['Chassis/ Vehicle No' 'NPCI Vehicle Class' 'Vehicle Class Desc']"
     ]
    }
   ],
   "source": [
    "df.iloc[2:5,[\"Chassis/ Vehicle No\",\t\"NPCI Vehicle Class\",\t\"Vehicle Class Desc\"]]\n",
    "#  Output will give error because iloc understand the numeric or internal built index in column"
   ]
  },
  {
   "cell_type": "code",
   "execution_count": 9,
   "id": "2c6bdb82-64ac-4f70-8818-7d07d74aa47f",
   "metadata": {},
   "outputs": [
    {
     "data": {
      "text/html": [
       "<div>\n",
       "<style scoped>\n",
       "    .dataframe tbody tr th:only-of-type {\n",
       "        vertical-align: middle;\n",
       "    }\n",
       "\n",
       "    .dataframe tbody tr th {\n",
       "        vertical-align: top;\n",
       "    }\n",
       "\n",
       "    .dataframe thead th {\n",
       "        text-align: right;\n",
       "    }\n",
       "</style>\n",
       "<table border=\"1\" class=\"dataframe\">\n",
       "  <thead>\n",
       "    <tr style=\"text-align: right;\">\n",
       "      <th></th>\n",
       "      <th>Chassis/ Vehicle No</th>\n",
       "      <th>NPCI Vehicle Class</th>\n",
       "      <th>Vehicle Class Desc</th>\n",
       "    </tr>\n",
       "  </thead>\n",
       "  <tbody>\n",
       "    <tr>\n",
       "      <th>2</th>\n",
       "      <td>UP32EF9515</td>\n",
       "      <td>VC4</td>\n",
       "      <td>Car / Jeep / Van</td>\n",
       "    </tr>\n",
       "    <tr>\n",
       "      <th>3</th>\n",
       "      <td>MA3EADE1S00444637</td>\n",
       "      <td>VC4</td>\n",
       "      <td>Car / Jeep / Van</td>\n",
       "    </tr>\n",
       "    <tr>\n",
       "      <th>4</th>\n",
       "      <td>UP37H8899</td>\n",
       "      <td>VC4</td>\n",
       "      <td>Car / Jeep / Van</td>\n",
       "    </tr>\n",
       "  </tbody>\n",
       "</table>\n",
       "</div>"
      ],
      "text/plain": [
       "  Chassis/ Vehicle No NPCI Vehicle Class Vehicle Class Desc\n",
       "2          UP32EF9515                VC4   Car / Jeep / Van\n",
       "3   MA3EADE1S00444637                VC4   Car / Jeep / Van\n",
       "4           UP37H8899                VC4   Car / Jeep / Van"
      ]
     },
     "execution_count": 9,
     "metadata": {},
     "output_type": "execute_result"
    }
   ],
   "source": [
    "# for remove error\n",
    "df.iloc[2:5,[2,3,4]]"
   ]
  },
  {
   "cell_type": "code",
   "execution_count": 11,
   "id": "8e97ad7e-f2e9-4613-912a-d85514ddb24c",
   "metadata": {},
   "outputs": [
    {
     "data": {
      "text/html": [
       "<div>\n",
       "<style scoped>\n",
       "    .dataframe tbody tr th:only-of-type {\n",
       "        vertical-align: middle;\n",
       "    }\n",
       "\n",
       "    .dataframe tbody tr th {\n",
       "        vertical-align: top;\n",
       "    }\n",
       "\n",
       "    .dataframe thead th {\n",
       "        text-align: right;\n",
       "    }\n",
       "</style>\n",
       "<table border=\"1\" class=\"dataframe\">\n",
       "  <thead>\n",
       "    <tr style=\"text-align: right;\">\n",
       "      <th></th>\n",
       "      <th>Chassis/ Vehicle No</th>\n",
       "      <th>NPCI Vehicle Class</th>\n",
       "      <th>Vehicle Class Desc</th>\n",
       "    </tr>\n",
       "  </thead>\n",
       "  <tbody>\n",
       "    <tr>\n",
       "      <th>2</th>\n",
       "      <td>UP32EF9515</td>\n",
       "      <td>VC4</td>\n",
       "      <td>Car / Jeep / Van</td>\n",
       "    </tr>\n",
       "    <tr>\n",
       "      <th>3</th>\n",
       "      <td>MA3EADE1S00444637</td>\n",
       "      <td>VC4</td>\n",
       "      <td>Car / Jeep / Van</td>\n",
       "    </tr>\n",
       "    <tr>\n",
       "      <th>4</th>\n",
       "      <td>UP37H8899</td>\n",
       "      <td>VC4</td>\n",
       "      <td>Car / Jeep / Van</td>\n",
       "    </tr>\n",
       "    <tr>\n",
       "      <th>5</th>\n",
       "      <td>UP37AT5373</td>\n",
       "      <td>VC4</td>\n",
       "      <td>Car / Jeep / Van</td>\n",
       "    </tr>\n",
       "  </tbody>\n",
       "</table>\n",
       "</div>"
      ],
      "text/plain": [
       "  Chassis/ Vehicle No NPCI Vehicle Class Vehicle Class Desc\n",
       "2          UP32EF9515                VC4   Car / Jeep / Van\n",
       "3   MA3EADE1S00444637                VC4   Car / Jeep / Van\n",
       "4           UP37H8899                VC4   Car / Jeep / Van\n",
       "5          UP37AT5373                VC4   Car / Jeep / Van"
      ]
     },
     "execution_count": 11,
     "metadata": {},
     "output_type": "execute_result"
    }
   ],
   "source": [
    "# In the case of loc we get result without an error because loc understand the name index in column\n",
    "df.loc[2:5,[\"Chassis/ Vehicle No\",\t\"NPCI Vehicle Class\",\t\"Vehicle Class Desc\"]]\n"
   ]
  },
  {
   "cell_type": "code",
   "execution_count": null,
   "id": "2eca501e-fb1b-4d9b-b07f-e2628cfa8171",
   "metadata": {},
   "outputs": [],
   "source": []
  },
  {
   "cell_type": "markdown",
   "id": "9e8f1231-d43c-48b3-9177-043e2e2865e3",
   "metadata": {},
   "source": [
    "# Q3. Reindex the given dataframe using a variable, reindex = [3,0,1,2] and store it in the variable, new_df then find the output for both new_df.loc[2] and new_df.iloc[2].\n",
    "\n",
    "## Did you observe any difference in both the outputs? If so then explain it.\n",
    "\n"
   ]
  },
  {
   "cell_type": "markdown",
   "id": "cad5f562-605b-4061-86ae-6cd6b33c84d9",
   "metadata": {},
   "source": [
    "## Answer:-"
   ]
  },
  {
   "cell_type": "code",
   "execution_count": 2,
   "id": "1aa209d0-1650-447a-b112-a1ac7678d0dc",
   "metadata": {},
   "outputs": [],
   "source": [
    "import pandas as pd\n",
    "df1=pd.DataFrame([\"nitesh\",2,\"kumar\",4])"
   ]
  },
  {
   "cell_type": "code",
   "execution_count": 3,
   "id": "9cee23da-1e19-48f3-b6b5-d997faf1924a",
   "metadata": {},
   "outputs": [
    {
     "data": {
      "text/html": [
       "<div>\n",
       "<style scoped>\n",
       "    .dataframe tbody tr th:only-of-type {\n",
       "        vertical-align: middle;\n",
       "    }\n",
       "\n",
       "    .dataframe tbody tr th {\n",
       "        vertical-align: top;\n",
       "    }\n",
       "\n",
       "    .dataframe thead th {\n",
       "        text-align: right;\n",
       "    }\n",
       "</style>\n",
       "<table border=\"1\" class=\"dataframe\">\n",
       "  <thead>\n",
       "    <tr style=\"text-align: right;\">\n",
       "      <th></th>\n",
       "      <th>0</th>\n",
       "    </tr>\n",
       "  </thead>\n",
       "  <tbody>\n",
       "    <tr>\n",
       "      <th>0</th>\n",
       "      <td>nitesh</td>\n",
       "    </tr>\n",
       "    <tr>\n",
       "      <th>1</th>\n",
       "      <td>2</td>\n",
       "    </tr>\n",
       "    <tr>\n",
       "      <th>2</th>\n",
       "      <td>kumar</td>\n",
       "    </tr>\n",
       "    <tr>\n",
       "      <th>3</th>\n",
       "      <td>4</td>\n",
       "    </tr>\n",
       "  </tbody>\n",
       "</table>\n",
       "</div>"
      ],
      "text/plain": [
       "        0\n",
       "0  nitesh\n",
       "1       2\n",
       "2   kumar\n",
       "3       4"
      ]
     },
     "execution_count": 3,
     "metadata": {},
     "output_type": "execute_result"
    }
   ],
   "source": [
    "df1"
   ]
  },
  {
   "cell_type": "code",
   "execution_count": 6,
   "id": "45f510a3-107c-44eb-b466-3cbb53654aeb",
   "metadata": {},
   "outputs": [],
   "source": [
    "new_df=df1.reindex([3,0,1,2])"
   ]
  },
  {
   "cell_type": "code",
   "execution_count": 7,
   "id": "a0892569-afb2-42a2-aafe-79fac4ae8985",
   "metadata": {},
   "outputs": [
    {
     "data": {
      "text/html": [
       "<div>\n",
       "<style scoped>\n",
       "    .dataframe tbody tr th:only-of-type {\n",
       "        vertical-align: middle;\n",
       "    }\n",
       "\n",
       "    .dataframe tbody tr th {\n",
       "        vertical-align: top;\n",
       "    }\n",
       "\n",
       "    .dataframe thead th {\n",
       "        text-align: right;\n",
       "    }\n",
       "</style>\n",
       "<table border=\"1\" class=\"dataframe\">\n",
       "  <thead>\n",
       "    <tr style=\"text-align: right;\">\n",
       "      <th></th>\n",
       "      <th>0</th>\n",
       "    </tr>\n",
       "  </thead>\n",
       "  <tbody>\n",
       "    <tr>\n",
       "      <th>3</th>\n",
       "      <td>4</td>\n",
       "    </tr>\n",
       "    <tr>\n",
       "      <th>0</th>\n",
       "      <td>nitesh</td>\n",
       "    </tr>\n",
       "    <tr>\n",
       "      <th>1</th>\n",
       "      <td>2</td>\n",
       "    </tr>\n",
       "    <tr>\n",
       "      <th>2</th>\n",
       "      <td>kumar</td>\n",
       "    </tr>\n",
       "  </tbody>\n",
       "</table>\n",
       "</div>"
      ],
      "text/plain": [
       "        0\n",
       "3       4\n",
       "0  nitesh\n",
       "1       2\n",
       "2   kumar"
      ]
     },
     "execution_count": 7,
     "metadata": {},
     "output_type": "execute_result"
    }
   ],
   "source": [
    "new_df"
   ]
  },
  {
   "cell_type": "code",
   "execution_count": 8,
   "id": "665938f0-12bc-499e-9ed4-87ee783b9359",
   "metadata": {},
   "outputs": [
    {
     "data": {
      "text/plain": [
       "0    kumar\n",
       "Name: 2, dtype: object"
      ]
     },
     "execution_count": 8,
     "metadata": {},
     "output_type": "execute_result"
    }
   ],
   "source": [
    "new_df.loc[2]\n",
    "#  will return a pandas Series object containing the values from the row\n",
    "# in new_df with index label 2."
   ]
  },
  {
   "cell_type": "code",
   "execution_count": 9,
   "id": "bdc17a67-0b79-4662-8e4e-6655418fd1b8",
   "metadata": {},
   "outputs": [
    {
     "data": {
      "text/plain": [
       "0    2\n",
       "Name: 1, dtype: object"
      ]
     },
     "execution_count": 9,
     "metadata": {},
     "output_type": "execute_result"
    }
   ],
   "source": [
    "new_df.iloc[2]\n",
    "# will return a pandas Series object containing the values from the third row in new_df."
   ]
  },
  {
   "cell_type": "code",
   "execution_count": null,
   "id": "39e9a1b9-2699-4c58-b94a-e2654585f54e",
   "metadata": {},
   "outputs": [],
   "source": []
  },
  {
   "cell_type": "markdown",
   "id": "a918c8a0-674d-4e26-818f-faabbaed7320",
   "metadata": {},
   "source": [
    "\n",
    "\n",
    "# Q4. Write a code to find the following statistical measurements for the above dataframe df1:\n",
    "\n",
    "### (i) mean of each and every column present in the dataframe.\n",
    "\n",
    "### (ii) standard deviation of column, ‘column_2’\n",
    "\n",
    "\n"
   ]
  },
  {
   "cell_type": "markdown",
   "id": "f305df27-65da-46f8-82df-0adeb2c2b6f9",
   "metadata": {},
   "source": [
    "## Answer:-"
   ]
  },
  {
   "cell_type": "code",
   "execution_count": 1,
   "id": "f22a9b99-82dc-48da-81ed-b5ee62237ca7",
   "metadata": {},
   "outputs": [],
   "source": [
    "import pandas as pd\n",
    "\n",
    "import numpy as np\n",
    "\n",
    "columns = ['column_1', 'column_2', 'column_3', 'column_4', 'column_5', 'column_6']\n",
    "\n",
    "indices = [1,2,3,4,5,6]\n",
    "\n",
    "#Creating a dataframe:\n",
    "np.random.seed(42) # we add this code here because to fix the value in every code execution\n",
    "df1 = pd.DataFrame(np.random.rand(6,6), columns = columns, index = indices)"
   ]
  },
  {
   "cell_type": "code",
   "execution_count": 2,
   "id": "55c6b285-5070-4096-8fd3-fda9fe1e136b",
   "metadata": {},
   "outputs": [
    {
     "data": {
      "text/html": [
       "<div>\n",
       "<style scoped>\n",
       "    .dataframe tbody tr th:only-of-type {\n",
       "        vertical-align: middle;\n",
       "    }\n",
       "\n",
       "    .dataframe tbody tr th {\n",
       "        vertical-align: top;\n",
       "    }\n",
       "\n",
       "    .dataframe thead th {\n",
       "        text-align: right;\n",
       "    }\n",
       "</style>\n",
       "<table border=\"1\" class=\"dataframe\">\n",
       "  <thead>\n",
       "    <tr style=\"text-align: right;\">\n",
       "      <th></th>\n",
       "      <th>column_1</th>\n",
       "      <th>column_2</th>\n",
       "      <th>column_3</th>\n",
       "      <th>column_4</th>\n",
       "      <th>column_5</th>\n",
       "      <th>column_6</th>\n",
       "    </tr>\n",
       "  </thead>\n",
       "  <tbody>\n",
       "    <tr>\n",
       "      <th>1</th>\n",
       "      <td>0.374540</td>\n",
       "      <td>0.950714</td>\n",
       "      <td>0.731994</td>\n",
       "      <td>0.598658</td>\n",
       "      <td>0.156019</td>\n",
       "      <td>0.155995</td>\n",
       "    </tr>\n",
       "    <tr>\n",
       "      <th>2</th>\n",
       "      <td>0.058084</td>\n",
       "      <td>0.866176</td>\n",
       "      <td>0.601115</td>\n",
       "      <td>0.708073</td>\n",
       "      <td>0.020584</td>\n",
       "      <td>0.969910</td>\n",
       "    </tr>\n",
       "    <tr>\n",
       "      <th>3</th>\n",
       "      <td>0.832443</td>\n",
       "      <td>0.212339</td>\n",
       "      <td>0.181825</td>\n",
       "      <td>0.183405</td>\n",
       "      <td>0.304242</td>\n",
       "      <td>0.524756</td>\n",
       "    </tr>\n",
       "    <tr>\n",
       "      <th>4</th>\n",
       "      <td>0.431945</td>\n",
       "      <td>0.291229</td>\n",
       "      <td>0.611853</td>\n",
       "      <td>0.139494</td>\n",
       "      <td>0.292145</td>\n",
       "      <td>0.366362</td>\n",
       "    </tr>\n",
       "    <tr>\n",
       "      <th>5</th>\n",
       "      <td>0.456070</td>\n",
       "      <td>0.785176</td>\n",
       "      <td>0.199674</td>\n",
       "      <td>0.514234</td>\n",
       "      <td>0.592415</td>\n",
       "      <td>0.046450</td>\n",
       "    </tr>\n",
       "    <tr>\n",
       "      <th>6</th>\n",
       "      <td>0.607545</td>\n",
       "      <td>0.170524</td>\n",
       "      <td>0.065052</td>\n",
       "      <td>0.948886</td>\n",
       "      <td>0.965632</td>\n",
       "      <td>0.808397</td>\n",
       "    </tr>\n",
       "  </tbody>\n",
       "</table>\n",
       "</div>"
      ],
      "text/plain": [
       "   column_1  column_2  column_3  column_4  column_5  column_6\n",
       "1  0.374540  0.950714  0.731994  0.598658  0.156019  0.155995\n",
       "2  0.058084  0.866176  0.601115  0.708073  0.020584  0.969910\n",
       "3  0.832443  0.212339  0.181825  0.183405  0.304242  0.524756\n",
       "4  0.431945  0.291229  0.611853  0.139494  0.292145  0.366362\n",
       "5  0.456070  0.785176  0.199674  0.514234  0.592415  0.046450\n",
       "6  0.607545  0.170524  0.065052  0.948886  0.965632  0.808397"
      ]
     },
     "execution_count": 2,
     "metadata": {},
     "output_type": "execute_result"
    }
   ],
   "source": [
    "df1"
   ]
  },
  {
   "cell_type": "markdown",
   "id": "20024fa1-2287-474a-bcda-53893d2a1fcb",
   "metadata": {},
   "source": [
    "#### (i) mean of each and every column present in the dataframe."
   ]
  },
  {
   "cell_type": "code",
   "execution_count": 3,
   "id": "3e077042-1c8d-4aac-99c8-e2486755c390",
   "metadata": {},
   "outputs": [
    {
     "data": {
      "text/plain": [
       "column_1    0.460104\n",
       "column_2    0.546026\n",
       "column_3    0.398585\n",
       "column_4    0.515458\n",
       "column_5    0.388506\n",
       "column_6    0.478645\n",
       "dtype: float64"
      ]
     },
     "execution_count": 3,
     "metadata": {},
     "output_type": "execute_result"
    }
   ],
   "source": [
    "df1.mean()"
   ]
  },
  {
   "cell_type": "markdown",
   "id": "f4bccd56-eb71-4859-a1b3-86f8555a2017",
   "metadata": {},
   "source": [
    "#### (ii) standard deviation of column, ‘column_2’"
   ]
  },
  {
   "cell_type": "code",
   "execution_count": 4,
   "id": "a9d625b1-2ffe-4a89-9c13-db364ce9590f",
   "metadata": {},
   "outputs": [
    {
     "data": {
      "text/plain": [
       "0.3579752740629259"
      ]
     },
     "execution_count": 4,
     "metadata": {},
     "output_type": "execute_result"
    }
   ],
   "source": [
    "df1[\"column_2\"].std()"
   ]
  },
  {
   "cell_type": "code",
   "execution_count": null,
   "id": "2152d643-0b0b-42ce-810c-b967e4481203",
   "metadata": {},
   "outputs": [],
   "source": []
  },
  {
   "cell_type": "markdown",
   "id": "732a58bc-0b7c-4d83-b3d6-3623cbe98cca",
   "metadata": {},
   "source": [
    "# Q5. Replace the data present in the second row of column, ‘column_2’ by a string variable then find the mean of column, column_2.\n",
    "\n",
    "If you are getting errors in executing it then explain why.\n",
    "\n",
    "[Hint: To replace the data use df1.loc[] and equate this to string data of your choice.]\n",
    "\n",
    "\n"
   ]
  },
  {
   "cell_type": "markdown",
   "id": "6e4d32ee-ca0a-4db9-a4da-bb1e81f1fdf1",
   "metadata": {},
   "source": [
    "## Answer:-"
   ]
  },
  {
   "cell_type": "code",
   "execution_count": 9,
   "id": "d512ebfb-c767-4ca6-b678-00d4ebf23035",
   "metadata": {},
   "outputs": [
    {
     "data": {
      "text/plain": [
       "1    0.950714\n",
       "2    0.866176\n",
       "3    0.212339\n",
       "4    0.291229\n",
       "5    0.785176\n",
       "6    0.170524\n",
       "Name: column_2, dtype: float64"
      ]
     },
     "execution_count": 9,
     "metadata": {},
     "output_type": "execute_result"
    }
   ],
   "source": [
    "df1[\"column_2\"]"
   ]
  },
  {
   "cell_type": "markdown",
   "id": "fa4f0f4f-1049-4d73-99bc-6bc6def746da",
   "metadata": {},
   "source": [
    "#### By using iloc function"
   ]
  },
  {
   "cell_type": "code",
   "execution_count": 4,
   "id": "9587beb5-2a51-478b-8ca8-d8aedb95f828",
   "metadata": {},
   "outputs": [
    {
     "data": {
      "text/plain": [
       "2    0.866176\n",
       "Name: column_2, dtype: float64"
      ]
     },
     "execution_count": 4,
     "metadata": {},
     "output_type": "execute_result"
    }
   ],
   "source": [
    "# select second row of column_2\n",
    "df1.iloc[1:2,1]"
   ]
  },
  {
   "cell_type": "code",
   "execution_count": 11,
   "id": "f61e457a-a810-4e6f-a25e-2a4f4fde164b",
   "metadata": {},
   "outputs": [],
   "source": [
    "df1.iloc[1:2,1]=\"nitesh\""
   ]
  },
  {
   "cell_type": "code",
   "execution_count": 12,
   "id": "691e7bc1-1f6a-4c22-96c0-78180f897da2",
   "metadata": {},
   "outputs": [
    {
     "data": {
      "text/html": [
       "<div>\n",
       "<style scoped>\n",
       "    .dataframe tbody tr th:only-of-type {\n",
       "        vertical-align: middle;\n",
       "    }\n",
       "\n",
       "    .dataframe tbody tr th {\n",
       "        vertical-align: top;\n",
       "    }\n",
       "\n",
       "    .dataframe thead th {\n",
       "        text-align: right;\n",
       "    }\n",
       "</style>\n",
       "<table border=\"1\" class=\"dataframe\">\n",
       "  <thead>\n",
       "    <tr style=\"text-align: right;\">\n",
       "      <th></th>\n",
       "      <th>column_1</th>\n",
       "      <th>column_2</th>\n",
       "      <th>column_3</th>\n",
       "      <th>column_4</th>\n",
       "      <th>column_5</th>\n",
       "      <th>column_6</th>\n",
       "    </tr>\n",
       "  </thead>\n",
       "  <tbody>\n",
       "    <tr>\n",
       "      <th>1</th>\n",
       "      <td>0.374540</td>\n",
       "      <td>0.950714</td>\n",
       "      <td>0.731994</td>\n",
       "      <td>0.598658</td>\n",
       "      <td>0.156019</td>\n",
       "      <td>0.155995</td>\n",
       "    </tr>\n",
       "    <tr>\n",
       "      <th>2</th>\n",
       "      <td>0.058084</td>\n",
       "      <td>nitesh</td>\n",
       "      <td>0.601115</td>\n",
       "      <td>0.708073</td>\n",
       "      <td>0.020584</td>\n",
       "      <td>0.969910</td>\n",
       "    </tr>\n",
       "    <tr>\n",
       "      <th>3</th>\n",
       "      <td>0.832443</td>\n",
       "      <td>0.212339</td>\n",
       "      <td>0.181825</td>\n",
       "      <td>0.183405</td>\n",
       "      <td>0.304242</td>\n",
       "      <td>0.524756</td>\n",
       "    </tr>\n",
       "    <tr>\n",
       "      <th>4</th>\n",
       "      <td>0.431945</td>\n",
       "      <td>0.291229</td>\n",
       "      <td>0.611853</td>\n",
       "      <td>0.139494</td>\n",
       "      <td>0.292145</td>\n",
       "      <td>0.366362</td>\n",
       "    </tr>\n",
       "    <tr>\n",
       "      <th>5</th>\n",
       "      <td>0.456070</td>\n",
       "      <td>0.785176</td>\n",
       "      <td>0.199674</td>\n",
       "      <td>0.514234</td>\n",
       "      <td>0.592415</td>\n",
       "      <td>0.046450</td>\n",
       "    </tr>\n",
       "    <tr>\n",
       "      <th>6</th>\n",
       "      <td>0.607545</td>\n",
       "      <td>0.170524</td>\n",
       "      <td>0.065052</td>\n",
       "      <td>0.948886</td>\n",
       "      <td>0.965632</td>\n",
       "      <td>0.808397</td>\n",
       "    </tr>\n",
       "  </tbody>\n",
       "</table>\n",
       "</div>"
      ],
      "text/plain": [
       "   column_1  column_2  column_3  column_4  column_5  column_6\n",
       "1  0.374540  0.950714  0.731994  0.598658  0.156019  0.155995\n",
       "2  0.058084    nitesh  0.601115  0.708073  0.020584  0.969910\n",
       "3  0.832443  0.212339  0.181825  0.183405  0.304242  0.524756\n",
       "4  0.431945  0.291229  0.611853  0.139494  0.292145  0.366362\n",
       "5  0.456070  0.785176  0.199674  0.514234  0.592415  0.046450\n",
       "6  0.607545  0.170524  0.065052  0.948886  0.965632  0.808397"
      ]
     },
     "execution_count": 12,
     "metadata": {},
     "output_type": "execute_result"
    }
   ],
   "source": [
    "df1"
   ]
  },
  {
   "cell_type": "code",
   "execution_count": 18,
   "id": "9b0a35b6-4fe9-48a9-a65b-dd2d195d23bf",
   "metadata": {},
   "outputs": [
    {
     "ename": "TypeError",
     "evalue": "unsupported operand type(s) for +: 'float' and 'str'",
     "output_type": "error",
     "traceback": [
      "\u001b[0;31m---------------------------------------------------------------------------\u001b[0m",
      "\u001b[0;31mTypeError\u001b[0m                                 Traceback (most recent call last)",
      "Cell \u001b[0;32mIn[18], line 2\u001b[0m\n\u001b[1;32m      1\u001b[0m \u001b[38;5;66;03m# find out mean\u001b[39;00m\n\u001b[0;32m----> 2\u001b[0m \u001b[43mdf1\u001b[49m\u001b[43m[\u001b[49m\u001b[38;5;124;43m\"\u001b[39;49m\u001b[38;5;124;43mcolumn_2\u001b[39;49m\u001b[38;5;124;43m\"\u001b[39;49m\u001b[43m]\u001b[49m\u001b[38;5;241;43m.\u001b[39;49m\u001b[43mmean\u001b[49m\u001b[43m(\u001b[49m\u001b[43m)\u001b[49m\n",
      "File \u001b[0;32m/opt/conda/lib/python3.10/site-packages/pandas/core/generic.py:11847\u001b[0m, in \u001b[0;36mNDFrame._add_numeric_operations.<locals>.mean\u001b[0;34m(self, axis, skipna, level, numeric_only, **kwargs)\u001b[0m\n\u001b[1;32m  11829\u001b[0m \u001b[38;5;129m@doc\u001b[39m(\n\u001b[1;32m  11830\u001b[0m     _num_doc,\n\u001b[1;32m  11831\u001b[0m     desc\u001b[38;5;241m=\u001b[39m\u001b[38;5;124m\"\u001b[39m\u001b[38;5;124mReturn the mean of the values over the requested axis.\u001b[39m\u001b[38;5;124m\"\u001b[39m,\n\u001b[0;32m   (...)\u001b[0m\n\u001b[1;32m  11845\u001b[0m     \u001b[38;5;241m*\u001b[39m\u001b[38;5;241m*\u001b[39mkwargs,\n\u001b[1;32m  11846\u001b[0m ):\n\u001b[0;32m> 11847\u001b[0m     \u001b[38;5;28;01mreturn\u001b[39;00m \u001b[43mNDFrame\u001b[49m\u001b[38;5;241;43m.\u001b[39;49m\u001b[43mmean\u001b[49m\u001b[43m(\u001b[49m\u001b[38;5;28;43mself\u001b[39;49m\u001b[43m,\u001b[49m\u001b[43m \u001b[49m\u001b[43maxis\u001b[49m\u001b[43m,\u001b[49m\u001b[43m \u001b[49m\u001b[43mskipna\u001b[49m\u001b[43m,\u001b[49m\u001b[43m \u001b[49m\u001b[43mlevel\u001b[49m\u001b[43m,\u001b[49m\u001b[43m \u001b[49m\u001b[43mnumeric_only\u001b[49m\u001b[43m,\u001b[49m\u001b[43m \u001b[49m\u001b[38;5;241;43m*\u001b[39;49m\u001b[38;5;241;43m*\u001b[39;49m\u001b[43mkwargs\u001b[49m\u001b[43m)\u001b[49m\n",
      "File \u001b[0;32m/opt/conda/lib/python3.10/site-packages/pandas/core/generic.py:11401\u001b[0m, in \u001b[0;36mNDFrame.mean\u001b[0;34m(self, axis, skipna, level, numeric_only, **kwargs)\u001b[0m\n\u001b[1;32m  11393\u001b[0m \u001b[38;5;28;01mdef\u001b[39;00m \u001b[38;5;21mmean\u001b[39m(\n\u001b[1;32m  11394\u001b[0m     \u001b[38;5;28mself\u001b[39m,\n\u001b[1;32m  11395\u001b[0m     axis: Axis \u001b[38;5;241m|\u001b[39m \u001b[38;5;28;01mNone\u001b[39;00m \u001b[38;5;241m|\u001b[39m lib\u001b[38;5;241m.\u001b[39mNoDefault \u001b[38;5;241m=\u001b[39m lib\u001b[38;5;241m.\u001b[39mno_default,\n\u001b[0;32m   (...)\u001b[0m\n\u001b[1;32m  11399\u001b[0m     \u001b[38;5;241m*\u001b[39m\u001b[38;5;241m*\u001b[39mkwargs,\n\u001b[1;32m  11400\u001b[0m ) \u001b[38;5;241m-\u001b[39m\u001b[38;5;241m>\u001b[39m Series \u001b[38;5;241m|\u001b[39m \u001b[38;5;28mfloat\u001b[39m:\n\u001b[0;32m> 11401\u001b[0m     \u001b[38;5;28;01mreturn\u001b[39;00m \u001b[38;5;28;43mself\u001b[39;49m\u001b[38;5;241;43m.\u001b[39;49m\u001b[43m_stat_function\u001b[49m\u001b[43m(\u001b[49m\n\u001b[1;32m  11402\u001b[0m \u001b[43m        \u001b[49m\u001b[38;5;124;43m\"\u001b[39;49m\u001b[38;5;124;43mmean\u001b[39;49m\u001b[38;5;124;43m\"\u001b[39;49m\u001b[43m,\u001b[49m\u001b[43m \u001b[49m\u001b[43mnanops\u001b[49m\u001b[38;5;241;43m.\u001b[39;49m\u001b[43mnanmean\u001b[49m\u001b[43m,\u001b[49m\u001b[43m \u001b[49m\u001b[43maxis\u001b[49m\u001b[43m,\u001b[49m\u001b[43m \u001b[49m\u001b[43mskipna\u001b[49m\u001b[43m,\u001b[49m\u001b[43m \u001b[49m\u001b[43mlevel\u001b[49m\u001b[43m,\u001b[49m\u001b[43m \u001b[49m\u001b[43mnumeric_only\u001b[49m\u001b[43m,\u001b[49m\u001b[43m \u001b[49m\u001b[38;5;241;43m*\u001b[39;49m\u001b[38;5;241;43m*\u001b[39;49m\u001b[43mkwargs\u001b[49m\n\u001b[1;32m  11403\u001b[0m \u001b[43m    \u001b[49m\u001b[43m)\u001b[49m\n",
      "File \u001b[0;32m/opt/conda/lib/python3.10/site-packages/pandas/core/generic.py:11353\u001b[0m, in \u001b[0;36mNDFrame._stat_function\u001b[0;34m(self, name, func, axis, skipna, level, numeric_only, **kwargs)\u001b[0m\n\u001b[1;32m  11343\u001b[0m     warnings\u001b[38;5;241m.\u001b[39mwarn(\n\u001b[1;32m  11344\u001b[0m         \u001b[38;5;124m\"\u001b[39m\u001b[38;5;124mUsing the level keyword in DataFrame and Series aggregations is \u001b[39m\u001b[38;5;124m\"\u001b[39m\n\u001b[1;32m  11345\u001b[0m         \u001b[38;5;124m\"\u001b[39m\u001b[38;5;124mdeprecated and will be removed in a future version. Use groupby \u001b[39m\u001b[38;5;124m\"\u001b[39m\n\u001b[0;32m   (...)\u001b[0m\n\u001b[1;32m  11348\u001b[0m         stacklevel\u001b[38;5;241m=\u001b[39mfind_stack_level(),\n\u001b[1;32m  11349\u001b[0m     )\n\u001b[1;32m  11350\u001b[0m     \u001b[38;5;28;01mreturn\u001b[39;00m \u001b[38;5;28mself\u001b[39m\u001b[38;5;241m.\u001b[39m_agg_by_level(\n\u001b[1;32m  11351\u001b[0m         name, axis\u001b[38;5;241m=\u001b[39maxis, level\u001b[38;5;241m=\u001b[39mlevel, skipna\u001b[38;5;241m=\u001b[39mskipna, numeric_only\u001b[38;5;241m=\u001b[39mnumeric_only\n\u001b[1;32m  11352\u001b[0m     )\n\u001b[0;32m> 11353\u001b[0m \u001b[38;5;28;01mreturn\u001b[39;00m \u001b[38;5;28;43mself\u001b[39;49m\u001b[38;5;241;43m.\u001b[39;49m\u001b[43m_reduce\u001b[49m\u001b[43m(\u001b[49m\n\u001b[1;32m  11354\u001b[0m \u001b[43m    \u001b[49m\u001b[43mfunc\u001b[49m\u001b[43m,\u001b[49m\u001b[43m \u001b[49m\u001b[43mname\u001b[49m\u001b[38;5;241;43m=\u001b[39;49m\u001b[43mname\u001b[49m\u001b[43m,\u001b[49m\u001b[43m \u001b[49m\u001b[43maxis\u001b[49m\u001b[38;5;241;43m=\u001b[39;49m\u001b[43maxis\u001b[49m\u001b[43m,\u001b[49m\u001b[43m \u001b[49m\u001b[43mskipna\u001b[49m\u001b[38;5;241;43m=\u001b[39;49m\u001b[43mskipna\u001b[49m\u001b[43m,\u001b[49m\u001b[43m \u001b[49m\u001b[43mnumeric_only\u001b[49m\u001b[38;5;241;43m=\u001b[39;49m\u001b[43mnumeric_only\u001b[49m\n\u001b[1;32m  11355\u001b[0m \u001b[43m\u001b[49m\u001b[43m)\u001b[49m\n",
      "File \u001b[0;32m/opt/conda/lib/python3.10/site-packages/pandas/core/series.py:4816\u001b[0m, in \u001b[0;36mSeries._reduce\u001b[0;34m(self, op, name, axis, skipna, numeric_only, filter_type, **kwds)\u001b[0m\n\u001b[1;32m   4812\u001b[0m     \u001b[38;5;28;01mraise\u001b[39;00m \u001b[38;5;167;01mNotImplementedError\u001b[39;00m(\n\u001b[1;32m   4813\u001b[0m         \u001b[38;5;124mf\u001b[39m\u001b[38;5;124m\"\u001b[39m\u001b[38;5;124mSeries.\u001b[39m\u001b[38;5;132;01m{\u001b[39;00mname\u001b[38;5;132;01m}\u001b[39;00m\u001b[38;5;124m does not implement \u001b[39m\u001b[38;5;132;01m{\u001b[39;00mkwd_name\u001b[38;5;132;01m}\u001b[39;00m\u001b[38;5;124m.\u001b[39m\u001b[38;5;124m\"\u001b[39m\n\u001b[1;32m   4814\u001b[0m     )\n\u001b[1;32m   4815\u001b[0m \u001b[38;5;28;01mwith\u001b[39;00m np\u001b[38;5;241m.\u001b[39merrstate(\u001b[38;5;28mall\u001b[39m\u001b[38;5;241m=\u001b[39m\u001b[38;5;124m\"\u001b[39m\u001b[38;5;124mignore\u001b[39m\u001b[38;5;124m\"\u001b[39m):\n\u001b[0;32m-> 4816\u001b[0m     \u001b[38;5;28;01mreturn\u001b[39;00m \u001b[43mop\u001b[49m\u001b[43m(\u001b[49m\u001b[43mdelegate\u001b[49m\u001b[43m,\u001b[49m\u001b[43m \u001b[49m\u001b[43mskipna\u001b[49m\u001b[38;5;241;43m=\u001b[39;49m\u001b[43mskipna\u001b[49m\u001b[43m,\u001b[49m\u001b[43m \u001b[49m\u001b[38;5;241;43m*\u001b[39;49m\u001b[38;5;241;43m*\u001b[39;49m\u001b[43mkwds\u001b[49m\u001b[43m)\u001b[49m\n",
      "File \u001b[0;32m/opt/conda/lib/python3.10/site-packages/pandas/core/nanops.py:93\u001b[0m, in \u001b[0;36mdisallow.__call__.<locals>._f\u001b[0;34m(*args, **kwargs)\u001b[0m\n\u001b[1;32m     91\u001b[0m \u001b[38;5;28;01mtry\u001b[39;00m:\n\u001b[1;32m     92\u001b[0m     \u001b[38;5;28;01mwith\u001b[39;00m np\u001b[38;5;241m.\u001b[39merrstate(invalid\u001b[38;5;241m=\u001b[39m\u001b[38;5;124m\"\u001b[39m\u001b[38;5;124mignore\u001b[39m\u001b[38;5;124m\"\u001b[39m):\n\u001b[0;32m---> 93\u001b[0m         \u001b[38;5;28;01mreturn\u001b[39;00m \u001b[43mf\u001b[49m\u001b[43m(\u001b[49m\u001b[38;5;241;43m*\u001b[39;49m\u001b[43margs\u001b[49m\u001b[43m,\u001b[49m\u001b[43m \u001b[49m\u001b[38;5;241;43m*\u001b[39;49m\u001b[38;5;241;43m*\u001b[39;49m\u001b[43mkwargs\u001b[49m\u001b[43m)\u001b[49m\n\u001b[1;32m     94\u001b[0m \u001b[38;5;28;01mexcept\u001b[39;00m \u001b[38;5;167;01mValueError\u001b[39;00m \u001b[38;5;28;01mas\u001b[39;00m e:\n\u001b[1;32m     95\u001b[0m     \u001b[38;5;66;03m# we want to transform an object array\u001b[39;00m\n\u001b[1;32m     96\u001b[0m     \u001b[38;5;66;03m# ValueError message to the more typical TypeError\u001b[39;00m\n\u001b[1;32m     97\u001b[0m     \u001b[38;5;66;03m# e.g. this is normally a disallowed function on\u001b[39;00m\n\u001b[1;32m     98\u001b[0m     \u001b[38;5;66;03m# object arrays that contain strings\u001b[39;00m\n\u001b[1;32m     99\u001b[0m     \u001b[38;5;28;01mif\u001b[39;00m is_object_dtype(args[\u001b[38;5;241m0\u001b[39m]):\n",
      "File \u001b[0;32m/opt/conda/lib/python3.10/site-packages/pandas/core/nanops.py:155\u001b[0m, in \u001b[0;36mbottleneck_switch.__call__.<locals>.f\u001b[0;34m(values, axis, skipna, **kwds)\u001b[0m\n\u001b[1;32m    153\u001b[0m         result \u001b[38;5;241m=\u001b[39m alt(values, axis\u001b[38;5;241m=\u001b[39maxis, skipna\u001b[38;5;241m=\u001b[39mskipna, \u001b[38;5;241m*\u001b[39m\u001b[38;5;241m*\u001b[39mkwds)\n\u001b[1;32m    154\u001b[0m \u001b[38;5;28;01melse\u001b[39;00m:\n\u001b[0;32m--> 155\u001b[0m     result \u001b[38;5;241m=\u001b[39m \u001b[43malt\u001b[49m\u001b[43m(\u001b[49m\u001b[43mvalues\u001b[49m\u001b[43m,\u001b[49m\u001b[43m \u001b[49m\u001b[43maxis\u001b[49m\u001b[38;5;241;43m=\u001b[39;49m\u001b[43maxis\u001b[49m\u001b[43m,\u001b[49m\u001b[43m \u001b[49m\u001b[43mskipna\u001b[49m\u001b[38;5;241;43m=\u001b[39;49m\u001b[43mskipna\u001b[49m\u001b[43m,\u001b[49m\u001b[43m \u001b[49m\u001b[38;5;241;43m*\u001b[39;49m\u001b[38;5;241;43m*\u001b[39;49m\u001b[43mkwds\u001b[49m\u001b[43m)\u001b[49m\n\u001b[1;32m    157\u001b[0m \u001b[38;5;28;01mreturn\u001b[39;00m result\n",
      "File \u001b[0;32m/opt/conda/lib/python3.10/site-packages/pandas/core/nanops.py:418\u001b[0m, in \u001b[0;36m_datetimelike_compat.<locals>.new_func\u001b[0;34m(values, axis, skipna, mask, **kwargs)\u001b[0m\n\u001b[1;32m    415\u001b[0m \u001b[38;5;28;01mif\u001b[39;00m datetimelike \u001b[38;5;129;01mand\u001b[39;00m mask \u001b[38;5;129;01mis\u001b[39;00m \u001b[38;5;28;01mNone\u001b[39;00m:\n\u001b[1;32m    416\u001b[0m     mask \u001b[38;5;241m=\u001b[39m isna(values)\n\u001b[0;32m--> 418\u001b[0m result \u001b[38;5;241m=\u001b[39m \u001b[43mfunc\u001b[49m\u001b[43m(\u001b[49m\u001b[43mvalues\u001b[49m\u001b[43m,\u001b[49m\u001b[43m \u001b[49m\u001b[43maxis\u001b[49m\u001b[38;5;241;43m=\u001b[39;49m\u001b[43maxis\u001b[49m\u001b[43m,\u001b[49m\u001b[43m \u001b[49m\u001b[43mskipna\u001b[49m\u001b[38;5;241;43m=\u001b[39;49m\u001b[43mskipna\u001b[49m\u001b[43m,\u001b[49m\u001b[43m \u001b[49m\u001b[43mmask\u001b[49m\u001b[38;5;241;43m=\u001b[39;49m\u001b[43mmask\u001b[49m\u001b[43m,\u001b[49m\u001b[43m \u001b[49m\u001b[38;5;241;43m*\u001b[39;49m\u001b[38;5;241;43m*\u001b[39;49m\u001b[43mkwargs\u001b[49m\u001b[43m)\u001b[49m\n\u001b[1;32m    420\u001b[0m \u001b[38;5;28;01mif\u001b[39;00m datetimelike:\n\u001b[1;32m    421\u001b[0m     result \u001b[38;5;241m=\u001b[39m _wrap_results(result, orig_values\u001b[38;5;241m.\u001b[39mdtype, fill_value\u001b[38;5;241m=\u001b[39miNaT)\n",
      "File \u001b[0;32m/opt/conda/lib/python3.10/site-packages/pandas/core/nanops.py:706\u001b[0m, in \u001b[0;36mnanmean\u001b[0;34m(values, axis, skipna, mask)\u001b[0m\n\u001b[1;32m    703\u001b[0m     dtype_count \u001b[38;5;241m=\u001b[39m dtype\n\u001b[1;32m    705\u001b[0m count \u001b[38;5;241m=\u001b[39m _get_counts(values\u001b[38;5;241m.\u001b[39mshape, mask, axis, dtype\u001b[38;5;241m=\u001b[39mdtype_count)\n\u001b[0;32m--> 706\u001b[0m the_sum \u001b[38;5;241m=\u001b[39m _ensure_numeric(\u001b[43mvalues\u001b[49m\u001b[38;5;241;43m.\u001b[39;49m\u001b[43msum\u001b[49m\u001b[43m(\u001b[49m\u001b[43maxis\u001b[49m\u001b[43m,\u001b[49m\u001b[43m \u001b[49m\u001b[43mdtype\u001b[49m\u001b[38;5;241;43m=\u001b[39;49m\u001b[43mdtype_sum\u001b[49m\u001b[43m)\u001b[49m)\n\u001b[1;32m    708\u001b[0m \u001b[38;5;28;01mif\u001b[39;00m axis \u001b[38;5;129;01mis\u001b[39;00m \u001b[38;5;129;01mnot\u001b[39;00m \u001b[38;5;28;01mNone\u001b[39;00m \u001b[38;5;129;01mand\u001b[39;00m \u001b[38;5;28mgetattr\u001b[39m(the_sum, \u001b[38;5;124m\"\u001b[39m\u001b[38;5;124mndim\u001b[39m\u001b[38;5;124m\"\u001b[39m, \u001b[38;5;28;01mFalse\u001b[39;00m):\n\u001b[1;32m    709\u001b[0m     count \u001b[38;5;241m=\u001b[39m cast(np\u001b[38;5;241m.\u001b[39mndarray, count)\n",
      "File \u001b[0;32m/opt/conda/lib/python3.10/site-packages/numpy/core/_methods.py:48\u001b[0m, in \u001b[0;36m_sum\u001b[0;34m(a, axis, dtype, out, keepdims, initial, where)\u001b[0m\n\u001b[1;32m     46\u001b[0m \u001b[38;5;28;01mdef\u001b[39;00m \u001b[38;5;21m_sum\u001b[39m(a, axis\u001b[38;5;241m=\u001b[39m\u001b[38;5;28;01mNone\u001b[39;00m, dtype\u001b[38;5;241m=\u001b[39m\u001b[38;5;28;01mNone\u001b[39;00m, out\u001b[38;5;241m=\u001b[39m\u001b[38;5;28;01mNone\u001b[39;00m, keepdims\u001b[38;5;241m=\u001b[39m\u001b[38;5;28;01mFalse\u001b[39;00m,\n\u001b[1;32m     47\u001b[0m          initial\u001b[38;5;241m=\u001b[39m_NoValue, where\u001b[38;5;241m=\u001b[39m\u001b[38;5;28;01mTrue\u001b[39;00m):\n\u001b[0;32m---> 48\u001b[0m     \u001b[38;5;28;01mreturn\u001b[39;00m \u001b[43mumr_sum\u001b[49m\u001b[43m(\u001b[49m\u001b[43ma\u001b[49m\u001b[43m,\u001b[49m\u001b[43m \u001b[49m\u001b[43maxis\u001b[49m\u001b[43m,\u001b[49m\u001b[43m \u001b[49m\u001b[43mdtype\u001b[49m\u001b[43m,\u001b[49m\u001b[43m \u001b[49m\u001b[43mout\u001b[49m\u001b[43m,\u001b[49m\u001b[43m \u001b[49m\u001b[43mkeepdims\u001b[49m\u001b[43m,\u001b[49m\u001b[43m \u001b[49m\u001b[43minitial\u001b[49m\u001b[43m,\u001b[49m\u001b[43m \u001b[49m\u001b[43mwhere\u001b[49m\u001b[43m)\u001b[49m\n",
      "\u001b[0;31mTypeError\u001b[0m: unsupported operand type(s) for +: 'float' and 'str'"
     ]
    }
   ],
   "source": [
    "# find out mean\n",
    "df1[\"column_2\"].mean() # After run this code it will give error"
   ]
  },
  {
   "cell_type": "markdown",
   "id": "46f0ffae-e852-4b17-a4ef-1c817094d98c",
   "metadata": {},
   "source": [
    "### Reason for error"
   ]
  },
  {
   "cell_type": "markdown",
   "id": "38f3a9b4-19d9-4860-84eb-f91b0a255938",
   "metadata": {},
   "source": [
    "The mean value of a column in a Pandas DataFrame is calculated by taking the sum of all the values in the column and dividing by the total number of values in the column.\n",
    "\n",
    "However, if a non-numeric value is present in the column, such as the string value 'nitesh' that we inserted in the second row of column 'column_2', then the mean cannot be calculated because the string value cannot be added to the sum of the numeric values.\n",
    "\n",
    "When we call the .mean() method on column 'column_2', Pandas ignores the string value and only calculates the mean of the numeric values in the column. As a result, the mean value is calculated based on the five remaining numeric values in the column.\n",
    "\n",
    "If we want to include the string value in the mean calculation, we would need to convert it to a numeric value first, such as a float or an integer. Otherwise, we would need to remove the string value from the column before calculating the mean."
   ]
  },
  {
   "cell_type": "markdown",
   "id": "d7bc7f5e-1b9d-4c8b-80e3-18b3855956de",
   "metadata": {},
   "source": [
    "#### By using loc function"
   ]
  },
  {
   "cell_type": "code",
   "execution_count": 15,
   "id": "e84a5878-e3fe-42d9-8f96-5c7af0a72d72",
   "metadata": {},
   "outputs": [
    {
     "data": {
      "text/html": [
       "<div>\n",
       "<style scoped>\n",
       "    .dataframe tbody tr th:only-of-type {\n",
       "        vertical-align: middle;\n",
       "    }\n",
       "\n",
       "    .dataframe tbody tr th {\n",
       "        vertical-align: top;\n",
       "    }\n",
       "\n",
       "    .dataframe thead th {\n",
       "        text-align: right;\n",
       "    }\n",
       "</style>\n",
       "<table border=\"1\" class=\"dataframe\">\n",
       "  <thead>\n",
       "    <tr style=\"text-align: right;\">\n",
       "      <th></th>\n",
       "      <th>column_1</th>\n",
       "      <th>column_2</th>\n",
       "      <th>column_3</th>\n",
       "      <th>column_4</th>\n",
       "      <th>column_5</th>\n",
       "      <th>column_6</th>\n",
       "    </tr>\n",
       "  </thead>\n",
       "  <tbody>\n",
       "    <tr>\n",
       "      <th>1</th>\n",
       "      <td>0.374540</td>\n",
       "      <td>0.950714</td>\n",
       "      <td>0.731994</td>\n",
       "      <td>0.598658</td>\n",
       "      <td>0.156019</td>\n",
       "      <td>0.155995</td>\n",
       "    </tr>\n",
       "    <tr>\n",
       "      <th>2</th>\n",
       "      <td>0.058084</td>\n",
       "      <td>nitesh</td>\n",
       "      <td>0.601115</td>\n",
       "      <td>0.708073</td>\n",
       "      <td>0.020584</td>\n",
       "      <td>0.969910</td>\n",
       "    </tr>\n",
       "    <tr>\n",
       "      <th>3</th>\n",
       "      <td>0.832443</td>\n",
       "      <td>0.212339</td>\n",
       "      <td>0.181825</td>\n",
       "      <td>0.183405</td>\n",
       "      <td>0.304242</td>\n",
       "      <td>0.524756</td>\n",
       "    </tr>\n",
       "    <tr>\n",
       "      <th>4</th>\n",
       "      <td>0.431945</td>\n",
       "      <td>0.291229</td>\n",
       "      <td>0.611853</td>\n",
       "      <td>0.139494</td>\n",
       "      <td>0.292145</td>\n",
       "      <td>0.366362</td>\n",
       "    </tr>\n",
       "    <tr>\n",
       "      <th>5</th>\n",
       "      <td>0.456070</td>\n",
       "      <td>0.785176</td>\n",
       "      <td>0.199674</td>\n",
       "      <td>0.514234</td>\n",
       "      <td>0.592415</td>\n",
       "      <td>0.046450</td>\n",
       "    </tr>\n",
       "    <tr>\n",
       "      <th>6</th>\n",
       "      <td>0.607545</td>\n",
       "      <td>0.170524</td>\n",
       "      <td>0.065052</td>\n",
       "      <td>0.948886</td>\n",
       "      <td>0.965632</td>\n",
       "      <td>0.808397</td>\n",
       "    </tr>\n",
       "  </tbody>\n",
       "</table>\n",
       "</div>"
      ],
      "text/plain": [
       "   column_1  column_2  column_3  column_4  column_5  column_6\n",
       "1  0.374540  0.950714  0.731994  0.598658  0.156019  0.155995\n",
       "2  0.058084    nitesh  0.601115  0.708073  0.020584  0.969910\n",
       "3  0.832443  0.212339  0.181825  0.183405  0.304242  0.524756\n",
       "4  0.431945  0.291229  0.611853  0.139494  0.292145  0.366362\n",
       "5  0.456070  0.785176  0.199674  0.514234  0.592415  0.046450\n",
       "6  0.607545  0.170524  0.065052  0.948886  0.965632  0.808397"
      ]
     },
     "execution_count": 15,
     "metadata": {},
     "output_type": "execute_result"
    }
   ],
   "source": [
    "df1"
   ]
  },
  {
   "cell_type": "code",
   "execution_count": 16,
   "id": "8e6d2aea-4d3b-4763-af01-eb775a0c91f4",
   "metadata": {},
   "outputs": [],
   "source": [
    "df1.loc[2,\"column_2\"]=\"kumar\""
   ]
  },
  {
   "cell_type": "code",
   "execution_count": 17,
   "id": "75f20463-74d3-4053-9700-790eebd5b4a8",
   "metadata": {},
   "outputs": [
    {
     "data": {
      "text/html": [
       "<div>\n",
       "<style scoped>\n",
       "    .dataframe tbody tr th:only-of-type {\n",
       "        vertical-align: middle;\n",
       "    }\n",
       "\n",
       "    .dataframe tbody tr th {\n",
       "        vertical-align: top;\n",
       "    }\n",
       "\n",
       "    .dataframe thead th {\n",
       "        text-align: right;\n",
       "    }\n",
       "</style>\n",
       "<table border=\"1\" class=\"dataframe\">\n",
       "  <thead>\n",
       "    <tr style=\"text-align: right;\">\n",
       "      <th></th>\n",
       "      <th>column_1</th>\n",
       "      <th>column_2</th>\n",
       "      <th>column_3</th>\n",
       "      <th>column_4</th>\n",
       "      <th>column_5</th>\n",
       "      <th>column_6</th>\n",
       "    </tr>\n",
       "  </thead>\n",
       "  <tbody>\n",
       "    <tr>\n",
       "      <th>1</th>\n",
       "      <td>0.374540</td>\n",
       "      <td>0.950714</td>\n",
       "      <td>0.731994</td>\n",
       "      <td>0.598658</td>\n",
       "      <td>0.156019</td>\n",
       "      <td>0.155995</td>\n",
       "    </tr>\n",
       "    <tr>\n",
       "      <th>2</th>\n",
       "      <td>0.058084</td>\n",
       "      <td>kumar</td>\n",
       "      <td>0.601115</td>\n",
       "      <td>0.708073</td>\n",
       "      <td>0.020584</td>\n",
       "      <td>0.969910</td>\n",
       "    </tr>\n",
       "    <tr>\n",
       "      <th>3</th>\n",
       "      <td>0.832443</td>\n",
       "      <td>0.212339</td>\n",
       "      <td>0.181825</td>\n",
       "      <td>0.183405</td>\n",
       "      <td>0.304242</td>\n",
       "      <td>0.524756</td>\n",
       "    </tr>\n",
       "    <tr>\n",
       "      <th>4</th>\n",
       "      <td>0.431945</td>\n",
       "      <td>0.291229</td>\n",
       "      <td>0.611853</td>\n",
       "      <td>0.139494</td>\n",
       "      <td>0.292145</td>\n",
       "      <td>0.366362</td>\n",
       "    </tr>\n",
       "    <tr>\n",
       "      <th>5</th>\n",
       "      <td>0.456070</td>\n",
       "      <td>0.785176</td>\n",
       "      <td>0.199674</td>\n",
       "      <td>0.514234</td>\n",
       "      <td>0.592415</td>\n",
       "      <td>0.046450</td>\n",
       "    </tr>\n",
       "    <tr>\n",
       "      <th>6</th>\n",
       "      <td>0.607545</td>\n",
       "      <td>0.170524</td>\n",
       "      <td>0.065052</td>\n",
       "      <td>0.948886</td>\n",
       "      <td>0.965632</td>\n",
       "      <td>0.808397</td>\n",
       "    </tr>\n",
       "  </tbody>\n",
       "</table>\n",
       "</div>"
      ],
      "text/plain": [
       "   column_1  column_2  column_3  column_4  column_5  column_6\n",
       "1  0.374540  0.950714  0.731994  0.598658  0.156019  0.155995\n",
       "2  0.058084     kumar  0.601115  0.708073  0.020584  0.969910\n",
       "3  0.832443  0.212339  0.181825  0.183405  0.304242  0.524756\n",
       "4  0.431945  0.291229  0.611853  0.139494  0.292145  0.366362\n",
       "5  0.456070  0.785176  0.199674  0.514234  0.592415  0.046450\n",
       "6  0.607545  0.170524  0.065052  0.948886  0.965632  0.808397"
      ]
     },
     "execution_count": 17,
     "metadata": {},
     "output_type": "execute_result"
    }
   ],
   "source": [
    "df1"
   ]
  },
  {
   "cell_type": "code",
   "execution_count": 19,
   "id": "c5450341-668b-4676-be12-e413a4ddc4fc",
   "metadata": {},
   "outputs": [
    {
     "ename": "TypeError",
     "evalue": "unsupported operand type(s) for +: 'float' and 'str'",
     "output_type": "error",
     "traceback": [
      "\u001b[0;31m---------------------------------------------------------------------------\u001b[0m",
      "\u001b[0;31mTypeError\u001b[0m                                 Traceback (most recent call last)",
      "Cell \u001b[0;32mIn[19], line 1\u001b[0m\n\u001b[0;32m----> 1\u001b[0m \u001b[43mdf1\u001b[49m\u001b[43m[\u001b[49m\u001b[38;5;124;43m\"\u001b[39;49m\u001b[38;5;124;43mcolumn_2\u001b[39;49m\u001b[38;5;124;43m\"\u001b[39;49m\u001b[43m]\u001b[49m\u001b[38;5;241;43m.\u001b[39;49m\u001b[43mmean\u001b[49m\u001b[43m(\u001b[49m\u001b[43m)\u001b[49m\n",
      "File \u001b[0;32m/opt/conda/lib/python3.10/site-packages/pandas/core/generic.py:11847\u001b[0m, in \u001b[0;36mNDFrame._add_numeric_operations.<locals>.mean\u001b[0;34m(self, axis, skipna, level, numeric_only, **kwargs)\u001b[0m\n\u001b[1;32m  11829\u001b[0m \u001b[38;5;129m@doc\u001b[39m(\n\u001b[1;32m  11830\u001b[0m     _num_doc,\n\u001b[1;32m  11831\u001b[0m     desc\u001b[38;5;241m=\u001b[39m\u001b[38;5;124m\"\u001b[39m\u001b[38;5;124mReturn the mean of the values over the requested axis.\u001b[39m\u001b[38;5;124m\"\u001b[39m,\n\u001b[0;32m   (...)\u001b[0m\n\u001b[1;32m  11845\u001b[0m     \u001b[38;5;241m*\u001b[39m\u001b[38;5;241m*\u001b[39mkwargs,\n\u001b[1;32m  11846\u001b[0m ):\n\u001b[0;32m> 11847\u001b[0m     \u001b[38;5;28;01mreturn\u001b[39;00m \u001b[43mNDFrame\u001b[49m\u001b[38;5;241;43m.\u001b[39;49m\u001b[43mmean\u001b[49m\u001b[43m(\u001b[49m\u001b[38;5;28;43mself\u001b[39;49m\u001b[43m,\u001b[49m\u001b[43m \u001b[49m\u001b[43maxis\u001b[49m\u001b[43m,\u001b[49m\u001b[43m \u001b[49m\u001b[43mskipna\u001b[49m\u001b[43m,\u001b[49m\u001b[43m \u001b[49m\u001b[43mlevel\u001b[49m\u001b[43m,\u001b[49m\u001b[43m \u001b[49m\u001b[43mnumeric_only\u001b[49m\u001b[43m,\u001b[49m\u001b[43m \u001b[49m\u001b[38;5;241;43m*\u001b[39;49m\u001b[38;5;241;43m*\u001b[39;49m\u001b[43mkwargs\u001b[49m\u001b[43m)\u001b[49m\n",
      "File \u001b[0;32m/opt/conda/lib/python3.10/site-packages/pandas/core/generic.py:11401\u001b[0m, in \u001b[0;36mNDFrame.mean\u001b[0;34m(self, axis, skipna, level, numeric_only, **kwargs)\u001b[0m\n\u001b[1;32m  11393\u001b[0m \u001b[38;5;28;01mdef\u001b[39;00m \u001b[38;5;21mmean\u001b[39m(\n\u001b[1;32m  11394\u001b[0m     \u001b[38;5;28mself\u001b[39m,\n\u001b[1;32m  11395\u001b[0m     axis: Axis \u001b[38;5;241m|\u001b[39m \u001b[38;5;28;01mNone\u001b[39;00m \u001b[38;5;241m|\u001b[39m lib\u001b[38;5;241m.\u001b[39mNoDefault \u001b[38;5;241m=\u001b[39m lib\u001b[38;5;241m.\u001b[39mno_default,\n\u001b[0;32m   (...)\u001b[0m\n\u001b[1;32m  11399\u001b[0m     \u001b[38;5;241m*\u001b[39m\u001b[38;5;241m*\u001b[39mkwargs,\n\u001b[1;32m  11400\u001b[0m ) \u001b[38;5;241m-\u001b[39m\u001b[38;5;241m>\u001b[39m Series \u001b[38;5;241m|\u001b[39m \u001b[38;5;28mfloat\u001b[39m:\n\u001b[0;32m> 11401\u001b[0m     \u001b[38;5;28;01mreturn\u001b[39;00m \u001b[38;5;28;43mself\u001b[39;49m\u001b[38;5;241;43m.\u001b[39;49m\u001b[43m_stat_function\u001b[49m\u001b[43m(\u001b[49m\n\u001b[1;32m  11402\u001b[0m \u001b[43m        \u001b[49m\u001b[38;5;124;43m\"\u001b[39;49m\u001b[38;5;124;43mmean\u001b[39;49m\u001b[38;5;124;43m\"\u001b[39;49m\u001b[43m,\u001b[49m\u001b[43m \u001b[49m\u001b[43mnanops\u001b[49m\u001b[38;5;241;43m.\u001b[39;49m\u001b[43mnanmean\u001b[49m\u001b[43m,\u001b[49m\u001b[43m \u001b[49m\u001b[43maxis\u001b[49m\u001b[43m,\u001b[49m\u001b[43m \u001b[49m\u001b[43mskipna\u001b[49m\u001b[43m,\u001b[49m\u001b[43m \u001b[49m\u001b[43mlevel\u001b[49m\u001b[43m,\u001b[49m\u001b[43m \u001b[49m\u001b[43mnumeric_only\u001b[49m\u001b[43m,\u001b[49m\u001b[43m \u001b[49m\u001b[38;5;241;43m*\u001b[39;49m\u001b[38;5;241;43m*\u001b[39;49m\u001b[43mkwargs\u001b[49m\n\u001b[1;32m  11403\u001b[0m \u001b[43m    \u001b[49m\u001b[43m)\u001b[49m\n",
      "File \u001b[0;32m/opt/conda/lib/python3.10/site-packages/pandas/core/generic.py:11353\u001b[0m, in \u001b[0;36mNDFrame._stat_function\u001b[0;34m(self, name, func, axis, skipna, level, numeric_only, **kwargs)\u001b[0m\n\u001b[1;32m  11343\u001b[0m     warnings\u001b[38;5;241m.\u001b[39mwarn(\n\u001b[1;32m  11344\u001b[0m         \u001b[38;5;124m\"\u001b[39m\u001b[38;5;124mUsing the level keyword in DataFrame and Series aggregations is \u001b[39m\u001b[38;5;124m\"\u001b[39m\n\u001b[1;32m  11345\u001b[0m         \u001b[38;5;124m\"\u001b[39m\u001b[38;5;124mdeprecated and will be removed in a future version. Use groupby \u001b[39m\u001b[38;5;124m\"\u001b[39m\n\u001b[0;32m   (...)\u001b[0m\n\u001b[1;32m  11348\u001b[0m         stacklevel\u001b[38;5;241m=\u001b[39mfind_stack_level(),\n\u001b[1;32m  11349\u001b[0m     )\n\u001b[1;32m  11350\u001b[0m     \u001b[38;5;28;01mreturn\u001b[39;00m \u001b[38;5;28mself\u001b[39m\u001b[38;5;241m.\u001b[39m_agg_by_level(\n\u001b[1;32m  11351\u001b[0m         name, axis\u001b[38;5;241m=\u001b[39maxis, level\u001b[38;5;241m=\u001b[39mlevel, skipna\u001b[38;5;241m=\u001b[39mskipna, numeric_only\u001b[38;5;241m=\u001b[39mnumeric_only\n\u001b[1;32m  11352\u001b[0m     )\n\u001b[0;32m> 11353\u001b[0m \u001b[38;5;28;01mreturn\u001b[39;00m \u001b[38;5;28;43mself\u001b[39;49m\u001b[38;5;241;43m.\u001b[39;49m\u001b[43m_reduce\u001b[49m\u001b[43m(\u001b[49m\n\u001b[1;32m  11354\u001b[0m \u001b[43m    \u001b[49m\u001b[43mfunc\u001b[49m\u001b[43m,\u001b[49m\u001b[43m \u001b[49m\u001b[43mname\u001b[49m\u001b[38;5;241;43m=\u001b[39;49m\u001b[43mname\u001b[49m\u001b[43m,\u001b[49m\u001b[43m \u001b[49m\u001b[43maxis\u001b[49m\u001b[38;5;241;43m=\u001b[39;49m\u001b[43maxis\u001b[49m\u001b[43m,\u001b[49m\u001b[43m \u001b[49m\u001b[43mskipna\u001b[49m\u001b[38;5;241;43m=\u001b[39;49m\u001b[43mskipna\u001b[49m\u001b[43m,\u001b[49m\u001b[43m \u001b[49m\u001b[43mnumeric_only\u001b[49m\u001b[38;5;241;43m=\u001b[39;49m\u001b[43mnumeric_only\u001b[49m\n\u001b[1;32m  11355\u001b[0m \u001b[43m\u001b[49m\u001b[43m)\u001b[49m\n",
      "File \u001b[0;32m/opt/conda/lib/python3.10/site-packages/pandas/core/series.py:4816\u001b[0m, in \u001b[0;36mSeries._reduce\u001b[0;34m(self, op, name, axis, skipna, numeric_only, filter_type, **kwds)\u001b[0m\n\u001b[1;32m   4812\u001b[0m     \u001b[38;5;28;01mraise\u001b[39;00m \u001b[38;5;167;01mNotImplementedError\u001b[39;00m(\n\u001b[1;32m   4813\u001b[0m         \u001b[38;5;124mf\u001b[39m\u001b[38;5;124m\"\u001b[39m\u001b[38;5;124mSeries.\u001b[39m\u001b[38;5;132;01m{\u001b[39;00mname\u001b[38;5;132;01m}\u001b[39;00m\u001b[38;5;124m does not implement \u001b[39m\u001b[38;5;132;01m{\u001b[39;00mkwd_name\u001b[38;5;132;01m}\u001b[39;00m\u001b[38;5;124m.\u001b[39m\u001b[38;5;124m\"\u001b[39m\n\u001b[1;32m   4814\u001b[0m     )\n\u001b[1;32m   4815\u001b[0m \u001b[38;5;28;01mwith\u001b[39;00m np\u001b[38;5;241m.\u001b[39merrstate(\u001b[38;5;28mall\u001b[39m\u001b[38;5;241m=\u001b[39m\u001b[38;5;124m\"\u001b[39m\u001b[38;5;124mignore\u001b[39m\u001b[38;5;124m\"\u001b[39m):\n\u001b[0;32m-> 4816\u001b[0m     \u001b[38;5;28;01mreturn\u001b[39;00m \u001b[43mop\u001b[49m\u001b[43m(\u001b[49m\u001b[43mdelegate\u001b[49m\u001b[43m,\u001b[49m\u001b[43m \u001b[49m\u001b[43mskipna\u001b[49m\u001b[38;5;241;43m=\u001b[39;49m\u001b[43mskipna\u001b[49m\u001b[43m,\u001b[49m\u001b[43m \u001b[49m\u001b[38;5;241;43m*\u001b[39;49m\u001b[38;5;241;43m*\u001b[39;49m\u001b[43mkwds\u001b[49m\u001b[43m)\u001b[49m\n",
      "File \u001b[0;32m/opt/conda/lib/python3.10/site-packages/pandas/core/nanops.py:93\u001b[0m, in \u001b[0;36mdisallow.__call__.<locals>._f\u001b[0;34m(*args, **kwargs)\u001b[0m\n\u001b[1;32m     91\u001b[0m \u001b[38;5;28;01mtry\u001b[39;00m:\n\u001b[1;32m     92\u001b[0m     \u001b[38;5;28;01mwith\u001b[39;00m np\u001b[38;5;241m.\u001b[39merrstate(invalid\u001b[38;5;241m=\u001b[39m\u001b[38;5;124m\"\u001b[39m\u001b[38;5;124mignore\u001b[39m\u001b[38;5;124m\"\u001b[39m):\n\u001b[0;32m---> 93\u001b[0m         \u001b[38;5;28;01mreturn\u001b[39;00m \u001b[43mf\u001b[49m\u001b[43m(\u001b[49m\u001b[38;5;241;43m*\u001b[39;49m\u001b[43margs\u001b[49m\u001b[43m,\u001b[49m\u001b[43m \u001b[49m\u001b[38;5;241;43m*\u001b[39;49m\u001b[38;5;241;43m*\u001b[39;49m\u001b[43mkwargs\u001b[49m\u001b[43m)\u001b[49m\n\u001b[1;32m     94\u001b[0m \u001b[38;5;28;01mexcept\u001b[39;00m \u001b[38;5;167;01mValueError\u001b[39;00m \u001b[38;5;28;01mas\u001b[39;00m e:\n\u001b[1;32m     95\u001b[0m     \u001b[38;5;66;03m# we want to transform an object array\u001b[39;00m\n\u001b[1;32m     96\u001b[0m     \u001b[38;5;66;03m# ValueError message to the more typical TypeError\u001b[39;00m\n\u001b[1;32m     97\u001b[0m     \u001b[38;5;66;03m# e.g. this is normally a disallowed function on\u001b[39;00m\n\u001b[1;32m     98\u001b[0m     \u001b[38;5;66;03m# object arrays that contain strings\u001b[39;00m\n\u001b[1;32m     99\u001b[0m     \u001b[38;5;28;01mif\u001b[39;00m is_object_dtype(args[\u001b[38;5;241m0\u001b[39m]):\n",
      "File \u001b[0;32m/opt/conda/lib/python3.10/site-packages/pandas/core/nanops.py:155\u001b[0m, in \u001b[0;36mbottleneck_switch.__call__.<locals>.f\u001b[0;34m(values, axis, skipna, **kwds)\u001b[0m\n\u001b[1;32m    153\u001b[0m         result \u001b[38;5;241m=\u001b[39m alt(values, axis\u001b[38;5;241m=\u001b[39maxis, skipna\u001b[38;5;241m=\u001b[39mskipna, \u001b[38;5;241m*\u001b[39m\u001b[38;5;241m*\u001b[39mkwds)\n\u001b[1;32m    154\u001b[0m \u001b[38;5;28;01melse\u001b[39;00m:\n\u001b[0;32m--> 155\u001b[0m     result \u001b[38;5;241m=\u001b[39m \u001b[43malt\u001b[49m\u001b[43m(\u001b[49m\u001b[43mvalues\u001b[49m\u001b[43m,\u001b[49m\u001b[43m \u001b[49m\u001b[43maxis\u001b[49m\u001b[38;5;241;43m=\u001b[39;49m\u001b[43maxis\u001b[49m\u001b[43m,\u001b[49m\u001b[43m \u001b[49m\u001b[43mskipna\u001b[49m\u001b[38;5;241;43m=\u001b[39;49m\u001b[43mskipna\u001b[49m\u001b[43m,\u001b[49m\u001b[43m \u001b[49m\u001b[38;5;241;43m*\u001b[39;49m\u001b[38;5;241;43m*\u001b[39;49m\u001b[43mkwds\u001b[49m\u001b[43m)\u001b[49m\n\u001b[1;32m    157\u001b[0m \u001b[38;5;28;01mreturn\u001b[39;00m result\n",
      "File \u001b[0;32m/opt/conda/lib/python3.10/site-packages/pandas/core/nanops.py:418\u001b[0m, in \u001b[0;36m_datetimelike_compat.<locals>.new_func\u001b[0;34m(values, axis, skipna, mask, **kwargs)\u001b[0m\n\u001b[1;32m    415\u001b[0m \u001b[38;5;28;01mif\u001b[39;00m datetimelike \u001b[38;5;129;01mand\u001b[39;00m mask \u001b[38;5;129;01mis\u001b[39;00m \u001b[38;5;28;01mNone\u001b[39;00m:\n\u001b[1;32m    416\u001b[0m     mask \u001b[38;5;241m=\u001b[39m isna(values)\n\u001b[0;32m--> 418\u001b[0m result \u001b[38;5;241m=\u001b[39m \u001b[43mfunc\u001b[49m\u001b[43m(\u001b[49m\u001b[43mvalues\u001b[49m\u001b[43m,\u001b[49m\u001b[43m \u001b[49m\u001b[43maxis\u001b[49m\u001b[38;5;241;43m=\u001b[39;49m\u001b[43maxis\u001b[49m\u001b[43m,\u001b[49m\u001b[43m \u001b[49m\u001b[43mskipna\u001b[49m\u001b[38;5;241;43m=\u001b[39;49m\u001b[43mskipna\u001b[49m\u001b[43m,\u001b[49m\u001b[43m \u001b[49m\u001b[43mmask\u001b[49m\u001b[38;5;241;43m=\u001b[39;49m\u001b[43mmask\u001b[49m\u001b[43m,\u001b[49m\u001b[43m \u001b[49m\u001b[38;5;241;43m*\u001b[39;49m\u001b[38;5;241;43m*\u001b[39;49m\u001b[43mkwargs\u001b[49m\u001b[43m)\u001b[49m\n\u001b[1;32m    420\u001b[0m \u001b[38;5;28;01mif\u001b[39;00m datetimelike:\n\u001b[1;32m    421\u001b[0m     result \u001b[38;5;241m=\u001b[39m _wrap_results(result, orig_values\u001b[38;5;241m.\u001b[39mdtype, fill_value\u001b[38;5;241m=\u001b[39miNaT)\n",
      "File \u001b[0;32m/opt/conda/lib/python3.10/site-packages/pandas/core/nanops.py:706\u001b[0m, in \u001b[0;36mnanmean\u001b[0;34m(values, axis, skipna, mask)\u001b[0m\n\u001b[1;32m    703\u001b[0m     dtype_count \u001b[38;5;241m=\u001b[39m dtype\n\u001b[1;32m    705\u001b[0m count \u001b[38;5;241m=\u001b[39m _get_counts(values\u001b[38;5;241m.\u001b[39mshape, mask, axis, dtype\u001b[38;5;241m=\u001b[39mdtype_count)\n\u001b[0;32m--> 706\u001b[0m the_sum \u001b[38;5;241m=\u001b[39m _ensure_numeric(\u001b[43mvalues\u001b[49m\u001b[38;5;241;43m.\u001b[39;49m\u001b[43msum\u001b[49m\u001b[43m(\u001b[49m\u001b[43maxis\u001b[49m\u001b[43m,\u001b[49m\u001b[43m \u001b[49m\u001b[43mdtype\u001b[49m\u001b[38;5;241;43m=\u001b[39;49m\u001b[43mdtype_sum\u001b[49m\u001b[43m)\u001b[49m)\n\u001b[1;32m    708\u001b[0m \u001b[38;5;28;01mif\u001b[39;00m axis \u001b[38;5;129;01mis\u001b[39;00m \u001b[38;5;129;01mnot\u001b[39;00m \u001b[38;5;28;01mNone\u001b[39;00m \u001b[38;5;129;01mand\u001b[39;00m \u001b[38;5;28mgetattr\u001b[39m(the_sum, \u001b[38;5;124m\"\u001b[39m\u001b[38;5;124mndim\u001b[39m\u001b[38;5;124m\"\u001b[39m, \u001b[38;5;28;01mFalse\u001b[39;00m):\n\u001b[1;32m    709\u001b[0m     count \u001b[38;5;241m=\u001b[39m cast(np\u001b[38;5;241m.\u001b[39mndarray, count)\n",
      "File \u001b[0;32m/opt/conda/lib/python3.10/site-packages/numpy/core/_methods.py:48\u001b[0m, in \u001b[0;36m_sum\u001b[0;34m(a, axis, dtype, out, keepdims, initial, where)\u001b[0m\n\u001b[1;32m     46\u001b[0m \u001b[38;5;28;01mdef\u001b[39;00m \u001b[38;5;21m_sum\u001b[39m(a, axis\u001b[38;5;241m=\u001b[39m\u001b[38;5;28;01mNone\u001b[39;00m, dtype\u001b[38;5;241m=\u001b[39m\u001b[38;5;28;01mNone\u001b[39;00m, out\u001b[38;5;241m=\u001b[39m\u001b[38;5;28;01mNone\u001b[39;00m, keepdims\u001b[38;5;241m=\u001b[39m\u001b[38;5;28;01mFalse\u001b[39;00m,\n\u001b[1;32m     47\u001b[0m          initial\u001b[38;5;241m=\u001b[39m_NoValue, where\u001b[38;5;241m=\u001b[39m\u001b[38;5;28;01mTrue\u001b[39;00m):\n\u001b[0;32m---> 48\u001b[0m     \u001b[38;5;28;01mreturn\u001b[39;00m \u001b[43mumr_sum\u001b[49m\u001b[43m(\u001b[49m\u001b[43ma\u001b[49m\u001b[43m,\u001b[49m\u001b[43m \u001b[49m\u001b[43maxis\u001b[49m\u001b[43m,\u001b[49m\u001b[43m \u001b[49m\u001b[43mdtype\u001b[49m\u001b[43m,\u001b[49m\u001b[43m \u001b[49m\u001b[43mout\u001b[49m\u001b[43m,\u001b[49m\u001b[43m \u001b[49m\u001b[43mkeepdims\u001b[49m\u001b[43m,\u001b[49m\u001b[43m \u001b[49m\u001b[43minitial\u001b[49m\u001b[43m,\u001b[49m\u001b[43m \u001b[49m\u001b[43mwhere\u001b[49m\u001b[43m)\u001b[49m\n",
      "\u001b[0;31mTypeError\u001b[0m: unsupported operand type(s) for +: 'float' and 'str'"
     ]
    }
   ],
   "source": [
    "df1[\"column_2\"].mean() #  After run this code it will give error same as we used above in iloc function."
   ]
  },
  {
   "cell_type": "markdown",
   "id": "de1c7b09-68e5-4ccc-bfb6-cee4846a3ff8",
   "metadata": {},
   "source": [
    "# Q6. What do you understand about the windows function in pandas and list the types of windows functions?"
   ]
  },
  {
   "cell_type": "markdown",
   "id": "3f9f1dcd-ccca-4bea-8932-dd676fd7e1f8",
   "metadata": {},
   "source": [
    "### Answer:-"
   ]
  },
  {
   "cell_type": "markdown",
   "id": "ab943d5c-c179-4795-9d42-80e2c4791eab",
   "metadata": {},
   "source": [
    "In pandas, the rolling function is used to perform window calculations on a pandas Series or DataFrame. Window calculations involve computing a function over a sliding window of values. \n",
    "\n"
   ]
  },
  {
   "cell_type": "markdown",
   "id": "edaf42c9-fd73-4a72-8ceb-92a03bed1f43",
   "metadata": {},
   "source": [
    "### Types of window function rolling :"
   ]
  },
  {
   "cell_type": "code",
   "execution_count": 5,
   "id": "f1c2454e-f84d-4570-87e0-bd2c9161651c",
   "metadata": {},
   "outputs": [],
   "source": [
    "# We will understand here with example\n",
    "import pandas as pd\n",
    "# create a series data\n",
    "data=pd.Series([3,4,6,8,9,2])"
   ]
  },
  {
   "cell_type": "code",
   "execution_count": 6,
   "id": "656782e6-b510-4fe2-a877-f1852ce5c70a",
   "metadata": {},
   "outputs": [
    {
     "data": {
      "text/plain": [
       "0    3\n",
       "1    4\n",
       "2    6\n",
       "3    8\n",
       "4    9\n",
       "5    2\n",
       "dtype: int64"
      ]
     },
     "execution_count": 6,
     "metadata": {},
     "output_type": "execute_result"
    }
   ],
   "source": [
    "data"
   ]
  },
  {
   "cell_type": "code",
   "execution_count": 2,
   "id": "0b4099ff-f4e6-41d0-8d23-99f889d18558",
   "metadata": {},
   "outputs": [
    {
     "data": {
      "text/plain": [
       "0    NaN\n",
       "1    3.5\n",
       "2    5.0\n",
       "3    7.0\n",
       "4    8.5\n",
       "5    5.5\n",
       "dtype: float64"
      ]
     },
     "execution_count": 2,
     "metadata": {},
     "output_type": "execute_result"
    }
   ],
   "source": [
    "data.rolling(window=2).mean() # Calculates the moving average over the window.\n"
   ]
  },
  {
   "cell_type": "code",
   "execution_count": 3,
   "id": "37628b8f-106c-4df5-86a6-75df38405d00",
   "metadata": {},
   "outputs": [
    {
     "data": {
      "text/plain": [
       "0     NaN\n",
       "1     7.0\n",
       "2    10.0\n",
       "3    14.0\n",
       "4    17.0\n",
       "5    11.0\n",
       "dtype: float64"
      ]
     },
     "execution_count": 3,
     "metadata": {},
     "output_type": "execute_result"
    }
   ],
   "source": [
    "data.rolling(window=2).sum() # Calculates the moving sum over the window.\n"
   ]
  },
  {
   "cell_type": "code",
   "execution_count": 4,
   "id": "54f08ca4-7c5e-4d55-87fa-837efa7fb0fe",
   "metadata": {},
   "outputs": [
    {
     "data": {
      "text/plain": [
       "0    NaN\n",
       "1    3.0\n",
       "2    4.0\n",
       "3    6.0\n",
       "4    8.0\n",
       "5    2.0\n",
       "dtype: float64"
      ]
     },
     "execution_count": 4,
     "metadata": {},
     "output_type": "execute_result"
    }
   ],
   "source": [
    "data.rolling(window=2).min() # Calculates the minimum value in the window.\n"
   ]
  },
  {
   "cell_type": "code",
   "execution_count": 5,
   "id": "aa5b15d5-238b-445e-9213-fa1a18dd1e2b",
   "metadata": {},
   "outputs": [
    {
     "data": {
      "text/plain": [
       "0    NaN\n",
       "1    4.0\n",
       "2    6.0\n",
       "3    8.0\n",
       "4    9.0\n",
       "5    9.0\n",
       "dtype: float64"
      ]
     },
     "execution_count": 5,
     "metadata": {},
     "output_type": "execute_result"
    }
   ],
   "source": [
    "data.rolling(window=2).max() # Calculates the maximum value in the window.\n"
   ]
  },
  {
   "cell_type": "code",
   "execution_count": 6,
   "id": "5ba92101-d3a7-4744-b350-839aff00136e",
   "metadata": {},
   "outputs": [
    {
     "data": {
      "text/plain": [
       "0    NaN\n",
       "1    3.5\n",
       "2    5.0\n",
       "3    7.0\n",
       "4    8.5\n",
       "5    5.5\n",
       "dtype: float64"
      ]
     },
     "execution_count": 6,
     "metadata": {},
     "output_type": "execute_result"
    }
   ],
   "source": [
    "data.rolling(window=2).median() # Calculates the median value in the window.\n"
   ]
  },
  {
   "cell_type": "code",
   "execution_count": 7,
   "id": "efdfe919-0721-4d72-af2e-e6f1fa12046d",
   "metadata": {},
   "outputs": [
    {
     "data": {
      "text/plain": [
       "0     NaN\n",
       "1     0.5\n",
       "2     2.0\n",
       "3     2.0\n",
       "4     0.5\n",
       "5    24.5\n",
       "dtype: float64"
      ]
     },
     "execution_count": 7,
     "metadata": {},
     "output_type": "execute_result"
    }
   ],
   "source": [
    "data.rolling(window=2).var() # Calculates the variance of the values in the window.\n"
   ]
  },
  {
   "cell_type": "code",
   "execution_count": 8,
   "id": "55a0200e-3e75-4ee3-ae6b-1142b3d71273",
   "metadata": {},
   "outputs": [
    {
     "data": {
      "text/plain": [
       "0         NaN\n",
       "1    0.707107\n",
       "2    1.414214\n",
       "3    1.414214\n",
       "4    0.707107\n",
       "5    4.949747\n",
       "dtype: float64"
      ]
     },
     "execution_count": 8,
     "metadata": {},
     "output_type": "execute_result"
    }
   ],
   "source": [
    "data.rolling(window=2).std() # Calculates the standard deviation of the values in the window.\n"
   ]
  },
  {
   "cell_type": "code",
   "execution_count": 9,
   "id": "ef1d3063-50dd-4973-bca6-88da559574f3",
   "metadata": {},
   "outputs": [
    {
     "data": {
      "text/plain": [
       "0    NaN\n",
       "1    1.0\n",
       "2    1.0\n",
       "3    1.0\n",
       "4    1.0\n",
       "5    1.0\n",
       "dtype: float64"
      ]
     },
     "execution_count": 9,
     "metadata": {},
     "output_type": "execute_result"
    }
   ],
   "source": [
    "data.rolling(window=2).corr() # Calculates the correlation between two windows.\n"
   ]
  },
  {
   "cell_type": "code",
   "execution_count": 10,
   "id": "d44e7960-e286-409b-a642-235fd6ee06c9",
   "metadata": {},
   "outputs": [
    {
     "data": {
      "text/plain": [
       "0     NaN\n",
       "1     0.5\n",
       "2     2.0\n",
       "3     2.0\n",
       "4     0.5\n",
       "5    24.5\n",
       "dtype: float64"
      ]
     },
     "execution_count": 10,
     "metadata": {},
     "output_type": "execute_result"
    }
   ],
   "source": [
    "data.rolling(window=2).cov() # Calculates the covariance between two windows.\n"
   ]
  },
  {
   "cell_type": "code",
   "execution_count": null,
   "id": "72fc1339-75b5-4d80-b7b7-d45eabfea5e0",
   "metadata": {},
   "outputs": [],
   "source": []
  },
  {
   "cell_type": "markdown",
   "id": "4399f865-5ef5-48ae-9f85-a81ff5b44ec7",
   "metadata": {},
   "source": [
    "# Q7. Write a code to print only the current month and year at the time of answering this question.\n",
    "\n",
    "[Hint: Use pandas.datetime function]\n",
    "\n",
    "\n"
   ]
  },
  {
   "cell_type": "markdown",
   "id": "14142199-0c27-4e74-ad90-57e53767ecaf",
   "metadata": {},
   "source": [
    "## Answer:-"
   ]
  },
  {
   "cell_type": "code",
   "execution_count": 16,
   "id": "6c6436a0-9d5f-4f48-8328-f04f901ec387",
   "metadata": {},
   "outputs": [],
   "source": [
    "import pandas as pd"
   ]
  },
  {
   "cell_type": "code",
   "execution_count": 17,
   "id": "503fffa9-1fb5-4800-9207-08c97fb79d26",
   "metadata": {},
   "outputs": [
    {
     "name": "stderr",
     "output_type": "stream",
     "text": [
      "/tmp/ipykernel_77/3384966058.py:1: FutureWarning: The pandas.datetime class is deprecated and will be removed from pandas in a future version. Import from datetime module instead.\n",
      "  current_time_now=pd.datetime.now()\n"
     ]
    }
   ],
   "source": [
    "current_time_now=pd.datetime.now() \n",
    "\n",
    "# now() function uses the strftime() method to format the datetime object into a string with the \n",
    "# current date, month and year."
   ]
  },
  {
   "cell_type": "code",
   "execution_count": 19,
   "id": "826cee0d-3917-47e7-8d68-9a547b4aa2c4",
   "metadata": {},
   "outputs": [],
   "source": [
    "current_month=current_time_now.strftime(\"%B\") # %B: Full month name (e.g., \"January\", \"February\", etc.)"
   ]
  },
  {
   "cell_type": "code",
   "execution_count": 20,
   "id": "82aa2377-9596-42b4-a856-e1fcd98daa9c",
   "metadata": {},
   "outputs": [
    {
     "data": {
      "text/plain": [
       "'April'"
      ]
     },
     "execution_count": 20,
     "metadata": {},
     "output_type": "execute_result"
    }
   ],
   "source": [
    "current_month"
   ]
  },
  {
   "cell_type": "code",
   "execution_count": 23,
   "id": "e3ea7917-1609-45c0-8de2-c2307c187ec1",
   "metadata": {},
   "outputs": [],
   "source": [
    "current_year=current_time_now.strftime(\"%Y\") # %Y: Year with century as a decimal number (e.g., \"2023\")"
   ]
  },
  {
   "cell_type": "code",
   "execution_count": 24,
   "id": "0c0f970d-f3df-4edd-8dad-1c8c91f8b1ad",
   "metadata": {},
   "outputs": [
    {
     "data": {
      "text/plain": [
       "'2023'"
      ]
     },
     "execution_count": 24,
     "metadata": {},
     "output_type": "execute_result"
    }
   ],
   "source": [
    "current_year"
   ]
  },
  {
   "cell_type": "code",
   "execution_count": 27,
   "id": "8270fabd-31f8-4c78-853f-15f7528c99d2",
   "metadata": {},
   "outputs": [],
   "source": [
    "current_date_time=current_time_now.strftime(\"%c\") # %c: Date and time representation\n",
    "                                                  # (e.g.\"Tue April 18 16:21:35 2023\")"
   ]
  },
  {
   "cell_type": "code",
   "execution_count": 29,
   "id": "9c8a42dd-da8b-43c9-9b60-106ea27daeca",
   "metadata": {},
   "outputs": [
    {
     "data": {
      "text/plain": [
       "'Tue Apr 18 16:21:35 2023'"
      ]
     },
     "execution_count": 29,
     "metadata": {},
     "output_type": "execute_result"
    }
   ],
   "source": [
    "current_date_time"
   ]
  },
  {
   "cell_type": "code",
   "execution_count": null,
   "id": "71b8a715-de76-413d-8291-993df83ca7da",
   "metadata": {},
   "outputs": [],
   "source": [
    "# For reference:"
   ]
  },
  {
   "cell_type": "markdown",
   "id": "fa680995-db9c-4b40-b706-81c12c825fb5",
   "metadata": {},
   "source": [
    "###  list of the most commonly used format codes in the strftime() method in python"
   ]
  },
  {
   "cell_type": "markdown",
   "id": "f1242c52-f5fb-461c-8e0d-a617c0291706",
   "metadata": {},
   "source": [
    "\n",
    "%a: Abbreviated weekday name (e.g., \"Mon\", \"Tue\", etc.)\n",
    "\n",
    "%A: Full weekday name (e.g., \"Monday\", \"Tuesday\", etc.)\n",
    "\n",
    "%b: Abbreviated month name (e.g., \"Jan\", \"Feb\", etc.)\n",
    "\n",
    "%B: Full month name (e.g., \"January\", \"February\", etc.)\n",
    "\n",
    "%c: Date and time representation (e.g., \"Tue Aug 16 21:30:00 1988\")\n",
    "\n",
    "%d: Day of the month as a zero-padded decimal number (e.g., \"01\", \"02\", etc.)\n",
    "\n",
    "%H: Hour (24-hour clock) as a zero-padded decimal number (e.g., \"00\", \"01\", etc.)\n",
    "\n",
    "%I: Hour (12-hour clock) as a zero-padded decimal number (e.g., \"01\", \"02\", etc.)\n",
    "\n",
    "%j: Day of the year as a zero-padded decimal number (e.g., \"001\", \"002\", etc.)\n",
    "\n",
    "%m: Month as a zero-padded decimal number (e.g., \"01\", \"02\", etc.)\n",
    "\n",
    "%M: Minute as a zero-padded decimal number (e.g., \"00\", \"01\", etc.)\n",
    "\n",
    "%p: Locale's equivalent of either AM or PM (e.g., \"AM\", \"PM\")\n",
    "\n",
    "%S: Second as a zero-padded decimal number (e.g., \"00\", \"01\", etc.)\n",
    "\n",
    "%U: Week number of the year (Sunday as the first day of the week) as a zero-padded decimal number (e.g., \n",
    "\"00\", \"01\", etc.)\n",
    "\n",
    "%w: Weekday as a decimal number (0 is Sunday, 1 is Monday, etc.)\n",
    "\n",
    "%W: Week number of the year (Monday as the first day of the week) as a zero-padded decimal number (e.g., \"00\", \"01\", etc.)\n",
    "\n",
    "%x: Date representation (e.g., \"08/16/88\" for August 16, 1988)\n",
    "\n",
    "%X: Time representation (e.g., \"21:30:00\" for 9:30 PM)\n",
    "\n",
    "%y: Year without century as a zero-padded decimal number (e.g., \"88\" for 1988)\n",
    "\n",
    "%Y: Year with century as a decimal number (e.g., \"1988\")\n",
    "\n",
    "%z: UTC offset in the form +HHMM or -HHMM (e.g., \"+0100\" for Central European Time)\n",
    "\n",
    "%Z: Time zone name (e.g., \"UTC\" for Coordinated Universal Time)"
   ]
  },
  {
   "cell_type": "code",
   "execution_count": null,
   "id": "8c691ed3-da41-4832-afe6-5b7003bf5ea1",
   "metadata": {},
   "outputs": [],
   "source": []
  },
  {
   "cell_type": "markdown",
   "id": "3e45a656-1d17-47e6-bf26-4fed53981bef",
   "metadata": {},
   "source": [
    "# Q8. Write a Python program that takes in two dates as input (in the format YYYY-MM-DD) and calculates the difference between them in days, hours, and minutes using Pandas time delta. The program should prompt the user to enter the dates and display the result.\n",
    "\n"
   ]
  },
  {
   "cell_type": "markdown",
   "id": "b44ff2da-c472-4b7e-9a8c-5aa0e31feffd",
   "metadata": {},
   "source": [
    "### Answer:-"
   ]
  },
  {
   "cell_type": "code",
   "execution_count": 55,
   "id": "1efcc532-6151-4e33-b3d0-ac9dcda04ac4",
   "metadata": {},
   "outputs": [
    {
     "name": "stdin",
     "output_type": "stream",
     "text": [
      "Enter the first date (YYYY-MM-DD) :  2023-04-16\n"
     ]
    }
   ],
   "source": [
    "date=pd.to_datetime(input(\"Enter the first date (YYYY-MM-DD) : \"))"
   ]
  },
  {
   "cell_type": "code",
   "execution_count": 56,
   "id": "9215b55a-3e8e-4931-b30c-3bf4eec55d72",
   "metadata": {},
   "outputs": [],
   "source": [
    "time=pd.Timedelta(days=0,hours=4,minutes=30,seconds=0)"
   ]
  },
  {
   "cell_type": "code",
   "execution_count": 59,
   "id": "c0fab155-8ec1-4f0a-b858-a2fd89ad5514",
   "metadata": {},
   "outputs": [
    {
     "data": {
      "text/plain": [
       "Timedelta('0 days 04:30:00')"
      ]
     },
     "execution_count": 59,
     "metadata": {},
     "output_type": "execute_result"
    }
   ],
   "source": [
    "time"
   ]
  },
  {
   "cell_type": "code",
   "execution_count": 57,
   "id": "b0f50ed0-76d3-4132-b5c4-2c31679e1ad9",
   "metadata": {},
   "outputs": [],
   "source": [
    "date_1= date+time"
   ]
  },
  {
   "cell_type": "code",
   "execution_count": 60,
   "id": "77ed3980-7239-4724-9420-6c1f0129c0e4",
   "metadata": {},
   "outputs": [
    {
     "data": {
      "text/plain": [
       "Timestamp('2023-04-16 04:30:00')"
      ]
     },
     "execution_count": 60,
     "metadata": {},
     "output_type": "execute_result"
    }
   ],
   "source": [
    "date_1"
   ]
  },
  {
   "cell_type": "code",
   "execution_count": 38,
   "id": "6f43c6bd-a9b9-4eb7-91ae-976475da75c8",
   "metadata": {},
   "outputs": [
    {
     "name": "stdin",
     "output_type": "stream",
     "text": [
      "Enter the Second date (YYYY-MM-DD) :  2023-04-18\n"
     ]
    }
   ],
   "source": [
    "date_2=pd.to_datetime(input(\"Enter the Second date (YYYY-MM-DD) : \"))"
   ]
  },
  {
   "cell_type": "code",
   "execution_count": 39,
   "id": "be8b3ff4-1495-4930-87f2-f288e038a007",
   "metadata": {},
   "outputs": [
    {
     "data": {
      "text/plain": [
       "Timestamp('2023-04-18 00:00:00')"
      ]
     },
     "execution_count": 39,
     "metadata": {},
     "output_type": "execute_result"
    }
   ],
   "source": [
    "date_2"
   ]
  },
  {
   "cell_type": "code",
   "execution_count": 61,
   "id": "9f47d3cf-9338-4a91-ae92-ae3f3fb4e9c5",
   "metadata": {},
   "outputs": [],
   "source": [
    "time_diff=date_2-date_1"
   ]
  },
  {
   "cell_type": "code",
   "execution_count": 62,
   "id": "890bac0c-336e-4194-8233-0cc5ac1e0e05",
   "metadata": {},
   "outputs": [
    {
     "data": {
      "text/plain": [
       "Timedelta('1 days 19:30:00')"
      ]
     },
     "execution_count": 62,
     "metadata": {},
     "output_type": "execute_result"
    }
   ],
   "source": [
    "time_diff"
   ]
  },
  {
   "cell_type": "code",
   "execution_count": 63,
   "id": "f1514987-9eb9-4897-82da-56430b57fe21",
   "metadata": {},
   "outputs": [],
   "source": [
    "days=time_diff.days"
   ]
  },
  {
   "cell_type": "code",
   "execution_count": 64,
   "id": "94786ef4-d975-49c1-b300-48ffb723613d",
   "metadata": {},
   "outputs": [
    {
     "data": {
      "text/plain": [
       "1"
      ]
     },
     "execution_count": 64,
     "metadata": {},
     "output_type": "execute_result"
    }
   ],
   "source": [
    "days"
   ]
  },
  {
   "cell_type": "code",
   "execution_count": 65,
   "id": "e7b74edd-4ef0-4c88-b4cc-aa3c4945e27f",
   "metadata": {},
   "outputs": [],
   "source": [
    "hours=time_diff.seconds//3600"
   ]
  },
  {
   "cell_type": "code",
   "execution_count": 66,
   "id": "3386cf50-83ba-4722-b949-2a2f8a52d9ad",
   "metadata": {},
   "outputs": [
    {
     "data": {
      "text/plain": [
       "19"
      ]
     },
     "execution_count": 66,
     "metadata": {},
     "output_type": "execute_result"
    }
   ],
   "source": [
    "hours"
   ]
  },
  {
   "cell_type": "code",
   "execution_count": 69,
   "id": "5eb1793b-4e12-4e83-bedc-3a5b8e096877",
   "metadata": {},
   "outputs": [],
   "source": [
    "minutes=(time_diff.seconds//60)%60 # %60 used to calculates the number of minutes \n",
    "                                   # that don't add up to a whole hour. "
   ]
  },
  {
   "cell_type": "code",
   "execution_count": 70,
   "id": "d6d9f9ab-73d3-4b04-a4e2-0e417bea8b05",
   "metadata": {},
   "outputs": [
    {
     "data": {
      "text/plain": [
       "30"
      ]
     },
     "execution_count": 70,
     "metadata": {},
     "output_type": "execute_result"
    }
   ],
   "source": [
    "minutes"
   ]
  },
  {
   "cell_type": "code",
   "execution_count": 71,
   "id": "ad9c38b9-8e25-4683-a504-9cd08273d841",
   "metadata": {},
   "outputs": [
    {
     "name": "stdout",
     "output_type": "stream",
     "text": [
      "The difference between 2023-04-16 and 2023-04-18 is : 1 days 19 hours 30 minutes\n"
     ]
    }
   ],
   "source": [
    "print(f\"The difference between {date_1.date()} and {date_2.date()} is : {days} days {hours} hours {minutes} minutes\")\n"
   ]
  },
  {
   "cell_type": "code",
   "execution_count": null,
   "id": "3a6c75aa-4c97-48c1-a9f3-b28bf92b2256",
   "metadata": {},
   "outputs": [],
   "source": []
  },
  {
   "cell_type": "markdown",
   "id": "a67c0527-e970-4497-8e78-ca4fee072c78",
   "metadata": {},
   "source": [
    "# Q9. Write a Python program that reads a CSV file containing categorical data and converts a specified  column to a categorical data type. The program should prompt the user to enter the file path, column  name, and category order, and then display the sorted data. \n"
   ]
  },
  {
   "cell_type": "markdown",
   "id": "43811b51-be7e-4e53-91a5-6bebe53417e7",
   "metadata": {},
   "source": [
    "### Answer:-"
   ]
  },
  {
   "cell_type": "code",
   "execution_count": 28,
   "id": "c259a2fe-364d-438c-a98b-c072563e35df",
   "metadata": {},
   "outputs": [],
   "source": [
    "import pandas as pd"
   ]
  },
  {
   "cell_type": "code",
   "execution_count": 29,
   "id": "58e02d51-901b-41e9-94bf-48d89d8c9277",
   "metadata": {},
   "outputs": [
    {
     "name": "stdin",
     "output_type": "stream",
     "text": [
      "Enter the file path Titanic.csv\n"
     ]
    }
   ],
   "source": [
    "file_path= input(\"Enter the file path\")"
   ]
  },
  {
   "cell_type": "code",
   "execution_count": null,
   "id": "da68d48f-5bfb-4745-b144-7de462bbf784",
   "metadata": {},
   "outputs": [],
   "source": [
    "# read csv file and store in data  frame df"
   ]
  },
  {
   "cell_type": "code",
   "execution_count": 30,
   "id": "4760541d-6881-4bd0-b5c0-2f7cef330c02",
   "metadata": {},
   "outputs": [],
   "source": [
    "df=pd.read_csv(file_path)"
   ]
  },
  {
   "cell_type": "code",
   "execution_count": 31,
   "id": "21ba2eb5-6b0c-4ae7-9768-12b5b4fb6b94",
   "metadata": {},
   "outputs": [
    {
     "data": {
      "text/html": [
       "<div>\n",
       "<style scoped>\n",
       "    .dataframe tbody tr th:only-of-type {\n",
       "        vertical-align: middle;\n",
       "    }\n",
       "\n",
       "    .dataframe tbody tr th {\n",
       "        vertical-align: top;\n",
       "    }\n",
       "\n",
       "    .dataframe thead th {\n",
       "        text-align: right;\n",
       "    }\n",
       "</style>\n",
       "<table border=\"1\" class=\"dataframe\">\n",
       "  <thead>\n",
       "    <tr style=\"text-align: right;\">\n",
       "      <th></th>\n",
       "      <th>PassengerId</th>\n",
       "      <th>Survived</th>\n",
       "      <th>Pclass</th>\n",
       "      <th>Name</th>\n",
       "      <th>Sex</th>\n",
       "      <th>Age</th>\n",
       "      <th>SibSp</th>\n",
       "      <th>Parch</th>\n",
       "      <th>Ticket</th>\n",
       "      <th>Fare</th>\n",
       "      <th>Cabin</th>\n",
       "      <th>Embarked</th>\n",
       "    </tr>\n",
       "  </thead>\n",
       "  <tbody>\n",
       "    <tr>\n",
       "      <th>0</th>\n",
       "      <td>1</td>\n",
       "      <td>0</td>\n",
       "      <td>3</td>\n",
       "      <td>Braund, Mr. Owen Harris</td>\n",
       "      <td>male</td>\n",
       "      <td>22.0</td>\n",
       "      <td>1</td>\n",
       "      <td>0</td>\n",
       "      <td>A/5 21171</td>\n",
       "      <td>7.2500</td>\n",
       "      <td>NaN</td>\n",
       "      <td>S</td>\n",
       "    </tr>\n",
       "    <tr>\n",
       "      <th>1</th>\n",
       "      <td>2</td>\n",
       "      <td>1</td>\n",
       "      <td>1</td>\n",
       "      <td>Cumings, Mrs. John Bradley (Florence Briggs Th...</td>\n",
       "      <td>female</td>\n",
       "      <td>38.0</td>\n",
       "      <td>1</td>\n",
       "      <td>0</td>\n",
       "      <td>PC 17599</td>\n",
       "      <td>71.2833</td>\n",
       "      <td>C85</td>\n",
       "      <td>C</td>\n",
       "    </tr>\n",
       "    <tr>\n",
       "      <th>2</th>\n",
       "      <td>3</td>\n",
       "      <td>1</td>\n",
       "      <td>3</td>\n",
       "      <td>Heikkinen, Miss. Laina</td>\n",
       "      <td>female</td>\n",
       "      <td>26.0</td>\n",
       "      <td>0</td>\n",
       "      <td>0</td>\n",
       "      <td>STON/O2. 3101282</td>\n",
       "      <td>7.9250</td>\n",
       "      <td>NaN</td>\n",
       "      <td>S</td>\n",
       "    </tr>\n",
       "    <tr>\n",
       "      <th>3</th>\n",
       "      <td>4</td>\n",
       "      <td>1</td>\n",
       "      <td>1</td>\n",
       "      <td>Futrelle, Mrs. Jacques Heath (Lily May Peel)</td>\n",
       "      <td>female</td>\n",
       "      <td>35.0</td>\n",
       "      <td>1</td>\n",
       "      <td>0</td>\n",
       "      <td>113803</td>\n",
       "      <td>53.1000</td>\n",
       "      <td>C123</td>\n",
       "      <td>S</td>\n",
       "    </tr>\n",
       "    <tr>\n",
       "      <th>4</th>\n",
       "      <td>5</td>\n",
       "      <td>0</td>\n",
       "      <td>3</td>\n",
       "      <td>Allen, Mr. William Henry</td>\n",
       "      <td>male</td>\n",
       "      <td>35.0</td>\n",
       "      <td>0</td>\n",
       "      <td>0</td>\n",
       "      <td>373450</td>\n",
       "      <td>8.0500</td>\n",
       "      <td>NaN</td>\n",
       "      <td>S</td>\n",
       "    </tr>\n",
       "    <tr>\n",
       "      <th>...</th>\n",
       "      <td>...</td>\n",
       "      <td>...</td>\n",
       "      <td>...</td>\n",
       "      <td>...</td>\n",
       "      <td>...</td>\n",
       "      <td>...</td>\n",
       "      <td>...</td>\n",
       "      <td>...</td>\n",
       "      <td>...</td>\n",
       "      <td>...</td>\n",
       "      <td>...</td>\n",
       "      <td>...</td>\n",
       "    </tr>\n",
       "    <tr>\n",
       "      <th>886</th>\n",
       "      <td>887</td>\n",
       "      <td>0</td>\n",
       "      <td>2</td>\n",
       "      <td>Montvila, Rev. Juozas</td>\n",
       "      <td>male</td>\n",
       "      <td>27.0</td>\n",
       "      <td>0</td>\n",
       "      <td>0</td>\n",
       "      <td>211536</td>\n",
       "      <td>13.0000</td>\n",
       "      <td>NaN</td>\n",
       "      <td>S</td>\n",
       "    </tr>\n",
       "    <tr>\n",
       "      <th>887</th>\n",
       "      <td>888</td>\n",
       "      <td>1</td>\n",
       "      <td>1</td>\n",
       "      <td>Graham, Miss. Margaret Edith</td>\n",
       "      <td>female</td>\n",
       "      <td>19.0</td>\n",
       "      <td>0</td>\n",
       "      <td>0</td>\n",
       "      <td>112053</td>\n",
       "      <td>30.0000</td>\n",
       "      <td>B42</td>\n",
       "      <td>S</td>\n",
       "    </tr>\n",
       "    <tr>\n",
       "      <th>888</th>\n",
       "      <td>889</td>\n",
       "      <td>0</td>\n",
       "      <td>3</td>\n",
       "      <td>Johnston, Miss. Catherine Helen \"Carrie\"</td>\n",
       "      <td>female</td>\n",
       "      <td>NaN</td>\n",
       "      <td>1</td>\n",
       "      <td>2</td>\n",
       "      <td>W./C. 6607</td>\n",
       "      <td>23.4500</td>\n",
       "      <td>NaN</td>\n",
       "      <td>S</td>\n",
       "    </tr>\n",
       "    <tr>\n",
       "      <th>889</th>\n",
       "      <td>890</td>\n",
       "      <td>1</td>\n",
       "      <td>1</td>\n",
       "      <td>Behr, Mr. Karl Howell</td>\n",
       "      <td>male</td>\n",
       "      <td>26.0</td>\n",
       "      <td>0</td>\n",
       "      <td>0</td>\n",
       "      <td>111369</td>\n",
       "      <td>30.0000</td>\n",
       "      <td>C148</td>\n",
       "      <td>C</td>\n",
       "    </tr>\n",
       "    <tr>\n",
       "      <th>890</th>\n",
       "      <td>891</td>\n",
       "      <td>0</td>\n",
       "      <td>3</td>\n",
       "      <td>Dooley, Mr. Patrick</td>\n",
       "      <td>male</td>\n",
       "      <td>32.0</td>\n",
       "      <td>0</td>\n",
       "      <td>0</td>\n",
       "      <td>370376</td>\n",
       "      <td>7.7500</td>\n",
       "      <td>NaN</td>\n",
       "      <td>Q</td>\n",
       "    </tr>\n",
       "  </tbody>\n",
       "</table>\n",
       "<p>891 rows × 12 columns</p>\n",
       "</div>"
      ],
      "text/plain": [
       "     PassengerId  Survived  Pclass  \\\n",
       "0              1         0       3   \n",
       "1              2         1       1   \n",
       "2              3         1       3   \n",
       "3              4         1       1   \n",
       "4              5         0       3   \n",
       "..           ...       ...     ...   \n",
       "886          887         0       2   \n",
       "887          888         1       1   \n",
       "888          889         0       3   \n",
       "889          890         1       1   \n",
       "890          891         0       3   \n",
       "\n",
       "                                                  Name     Sex   Age  SibSp  \\\n",
       "0                              Braund, Mr. Owen Harris    male  22.0      1   \n",
       "1    Cumings, Mrs. John Bradley (Florence Briggs Th...  female  38.0      1   \n",
       "2                               Heikkinen, Miss. Laina  female  26.0      0   \n",
       "3         Futrelle, Mrs. Jacques Heath (Lily May Peel)  female  35.0      1   \n",
       "4                             Allen, Mr. William Henry    male  35.0      0   \n",
       "..                                                 ...     ...   ...    ...   \n",
       "886                              Montvila, Rev. Juozas    male  27.0      0   \n",
       "887                       Graham, Miss. Margaret Edith  female  19.0      0   \n",
       "888           Johnston, Miss. Catherine Helen \"Carrie\"  female   NaN      1   \n",
       "889                              Behr, Mr. Karl Howell    male  26.0      0   \n",
       "890                                Dooley, Mr. Patrick    male  32.0      0   \n",
       "\n",
       "     Parch            Ticket     Fare Cabin Embarked  \n",
       "0        0         A/5 21171   7.2500   NaN        S  \n",
       "1        0          PC 17599  71.2833   C85        C  \n",
       "2        0  STON/O2. 3101282   7.9250   NaN        S  \n",
       "3        0            113803  53.1000  C123        S  \n",
       "4        0            373450   8.0500   NaN        S  \n",
       "..     ...               ...      ...   ...      ...  \n",
       "886      0            211536  13.0000   NaN        S  \n",
       "887      0            112053  30.0000   B42        S  \n",
       "888      2        W./C. 6607  23.4500   NaN        S  \n",
       "889      0            111369  30.0000  C148        C  \n",
       "890      0            370376   7.7500   NaN        Q  \n",
       "\n",
       "[891 rows x 12 columns]"
      ]
     },
     "execution_count": 31,
     "metadata": {},
     "output_type": "execute_result"
    }
   ],
   "source": [
    "df"
   ]
  },
  {
   "cell_type": "code",
   "execution_count": 32,
   "id": "ae7622d6-33de-4690-84ec-1220d6b87538",
   "metadata": {},
   "outputs": [
    {
     "data": {
      "text/plain": [
       "Index(['PassengerId', 'Survived', 'Pclass', 'Name', 'Sex', 'Age', 'SibSp',\n",
       "       'Parch', 'Ticket', 'Fare', 'Cabin', 'Embarked'],\n",
       "      dtype='object')"
      ]
     },
     "execution_count": 32,
     "metadata": {},
     "output_type": "execute_result"
    }
   ],
   "source": [
    "# To know the list of column available in data frame\n",
    "df.columns\n"
   ]
  },
  {
   "cell_type": "code",
   "execution_count": 33,
   "id": "9987606d-c6bf-4385-8277-defa04a3ab93",
   "metadata": {},
   "outputs": [
    {
     "name": "stdin",
     "output_type": "stream",
     "text": [
      "Enter column name Sex\n"
     ]
    }
   ],
   "source": [
    "column_name= input(\"Enter column name\")"
   ]
  },
  {
   "cell_type": "code",
   "execution_count": 34,
   "id": "af09e210-252c-4458-957a-4d70c55f1729",
   "metadata": {},
   "outputs": [],
   "source": [
    "data=df[column_name]"
   ]
  },
  {
   "cell_type": "code",
   "execution_count": 35,
   "id": "0818264d-5e09-4332-82a1-01249d242b38",
   "metadata": {},
   "outputs": [
    {
     "data": {
      "text/plain": [
       "0        male\n",
       "1      female\n",
       "2      female\n",
       "3      female\n",
       "4        male\n",
       "        ...  \n",
       "886      male\n",
       "887    female\n",
       "888    female\n",
       "889      male\n",
       "890      male\n",
       "Name: Sex, Length: 891, dtype: object"
      ]
     },
     "execution_count": 35,
     "metadata": {},
     "output_type": "execute_result"
    }
   ],
   "source": [
    "data"
   ]
  },
  {
   "cell_type": "code",
   "execution_count": 36,
   "id": "4ebd69d1-61f7-43eb-9225-d47cfad98e89",
   "metadata": {},
   "outputs": [
    {
     "data": {
      "text/plain": [
       "['male', 'female', 'female', 'female', 'male', ..., 'male', 'female', 'female', 'male', 'male']\n",
       "Length: 891\n",
       "Categories (2, object): ['female', 'male']"
      ]
     },
     "execution_count": 36,
     "metadata": {},
     "output_type": "execute_result"
    }
   ],
   "source": [
    "# To know the category available in selected column\n",
    "pd.Categorical(data)"
   ]
  },
  {
   "cell_type": "code",
   "execution_count": 37,
   "id": "a920a979-e2a2-4c21-adc3-bbc782ab0d50",
   "metadata": {},
   "outputs": [
    {
     "name": "stdin",
     "output_type": "stream",
     "text": [
      "Enter the category order seperated by comma female,male\n"
     ]
    }
   ],
   "source": [
    "# define category order\n",
    "category_order=input(\"Enter the category order seperated by comma\").split(\",\")"
   ]
  },
  {
   "cell_type": "code",
   "execution_count": 38,
   "id": "e69f5ac3-e69d-4fb5-a454-800103b18028",
   "metadata": {},
   "outputs": [],
   "source": [
    "# convert specified column in categorical data type\n",
    "cat_data=pd.Categorical(data,categories=category_order,ordered= True)"
   ]
  },
  {
   "cell_type": "code",
   "execution_count": 39,
   "id": "f0574973-be9a-4acd-9b67-327be7cfe091",
   "metadata": {},
   "outputs": [
    {
     "data": {
      "text/plain": [
       "['male', 'female', 'female', 'female', 'male', ..., 'male', 'female', 'female', 'male', 'male']\n",
       "Length: 891\n",
       "Categories (2, object): ['female' < 'male']"
      ]
     },
     "execution_count": 39,
     "metadata": {},
     "output_type": "execute_result"
    }
   ],
   "source": [
    "cat_data"
   ]
  },
  {
   "cell_type": "code",
   "execution_count": 42,
   "id": "000b8cca-ce80-4960-925e-a9b4fdf658f2",
   "metadata": {},
   "outputs": [
    {
     "data": {
      "text/html": [
       "<div>\n",
       "<style scoped>\n",
       "    .dataframe tbody tr th:only-of-type {\n",
       "        vertical-align: middle;\n",
       "    }\n",
       "\n",
       "    .dataframe tbody tr th {\n",
       "        vertical-align: top;\n",
       "    }\n",
       "\n",
       "    .dataframe thead th {\n",
       "        text-align: right;\n",
       "    }\n",
       "</style>\n",
       "<table border=\"1\" class=\"dataframe\">\n",
       "  <thead>\n",
       "    <tr style=\"text-align: right;\">\n",
       "      <th></th>\n",
       "      <th>PassengerId</th>\n",
       "      <th>Survived</th>\n",
       "      <th>Pclass</th>\n",
       "      <th>Name</th>\n",
       "      <th>Sex</th>\n",
       "      <th>Age</th>\n",
       "      <th>SibSp</th>\n",
       "      <th>Parch</th>\n",
       "      <th>Ticket</th>\n",
       "      <th>Fare</th>\n",
       "      <th>Cabin</th>\n",
       "      <th>Embarked</th>\n",
       "    </tr>\n",
       "  </thead>\n",
       "  <tbody>\n",
       "    <tr>\n",
       "      <th>383</th>\n",
       "      <td>384</td>\n",
       "      <td>1</td>\n",
       "      <td>1</td>\n",
       "      <td>Holverson, Mrs. Alexander Oskar (Mary Aline To...</td>\n",
       "      <td>female</td>\n",
       "      <td>35.0</td>\n",
       "      <td>1</td>\n",
       "      <td>0</td>\n",
       "      <td>113789</td>\n",
       "      <td>52.0000</td>\n",
       "      <td>NaN</td>\n",
       "      <td>S</td>\n",
       "    </tr>\n",
       "    <tr>\n",
       "      <th>218</th>\n",
       "      <td>219</td>\n",
       "      <td>1</td>\n",
       "      <td>1</td>\n",
       "      <td>Bazzani, Miss. Albina</td>\n",
       "      <td>female</td>\n",
       "      <td>32.0</td>\n",
       "      <td>0</td>\n",
       "      <td>0</td>\n",
       "      <td>11813</td>\n",
       "      <td>76.2917</td>\n",
       "      <td>D15</td>\n",
       "      <td>C</td>\n",
       "    </tr>\n",
       "    <tr>\n",
       "      <th>609</th>\n",
       "      <td>610</td>\n",
       "      <td>1</td>\n",
       "      <td>1</td>\n",
       "      <td>Shutes, Miss. Elizabeth W</td>\n",
       "      <td>female</td>\n",
       "      <td>40.0</td>\n",
       "      <td>0</td>\n",
       "      <td>0</td>\n",
       "      <td>PC 17582</td>\n",
       "      <td>153.4625</td>\n",
       "      <td>C125</td>\n",
       "      <td>S</td>\n",
       "    </tr>\n",
       "    <tr>\n",
       "      <th>216</th>\n",
       "      <td>217</td>\n",
       "      <td>1</td>\n",
       "      <td>3</td>\n",
       "      <td>Honkanen, Miss. Eliina</td>\n",
       "      <td>female</td>\n",
       "      <td>27.0</td>\n",
       "      <td>0</td>\n",
       "      <td>0</td>\n",
       "      <td>STON/O2. 3101283</td>\n",
       "      <td>7.9250</td>\n",
       "      <td>NaN</td>\n",
       "      <td>S</td>\n",
       "    </tr>\n",
       "    <tr>\n",
       "      <th>215</th>\n",
       "      <td>216</td>\n",
       "      <td>1</td>\n",
       "      <td>1</td>\n",
       "      <td>Newell, Miss. Madeleine</td>\n",
       "      <td>female</td>\n",
       "      <td>31.0</td>\n",
       "      <td>1</td>\n",
       "      <td>0</td>\n",
       "      <td>35273</td>\n",
       "      <td>113.2750</td>\n",
       "      <td>D36</td>\n",
       "      <td>C</td>\n",
       "    </tr>\n",
       "    <tr>\n",
       "      <th>...</th>\n",
       "      <td>...</td>\n",
       "      <td>...</td>\n",
       "      <td>...</td>\n",
       "      <td>...</td>\n",
       "      <td>...</td>\n",
       "      <td>...</td>\n",
       "      <td>...</td>\n",
       "      <td>...</td>\n",
       "      <td>...</td>\n",
       "      <td>...</td>\n",
       "      <td>...</td>\n",
       "      <td>...</td>\n",
       "    </tr>\n",
       "    <tr>\n",
       "      <th>371</th>\n",
       "      <td>372</td>\n",
       "      <td>0</td>\n",
       "      <td>3</td>\n",
       "      <td>Wiklund, Mr. Jakob Alfred</td>\n",
       "      <td>male</td>\n",
       "      <td>18.0</td>\n",
       "      <td>1</td>\n",
       "      <td>0</td>\n",
       "      <td>3101267</td>\n",
       "      <td>6.4958</td>\n",
       "      <td>NaN</td>\n",
       "      <td>S</td>\n",
       "    </tr>\n",
       "    <tr>\n",
       "      <th>372</th>\n",
       "      <td>373</td>\n",
       "      <td>0</td>\n",
       "      <td>3</td>\n",
       "      <td>Beavan, Mr. William Thomas</td>\n",
       "      <td>male</td>\n",
       "      <td>19.0</td>\n",
       "      <td>0</td>\n",
       "      <td>0</td>\n",
       "      <td>323951</td>\n",
       "      <td>8.0500</td>\n",
       "      <td>NaN</td>\n",
       "      <td>S</td>\n",
       "    </tr>\n",
       "    <tr>\n",
       "      <th>373</th>\n",
       "      <td>374</td>\n",
       "      <td>0</td>\n",
       "      <td>1</td>\n",
       "      <td>Ringhini, Mr. Sante</td>\n",
       "      <td>male</td>\n",
       "      <td>22.0</td>\n",
       "      <td>0</td>\n",
       "      <td>0</td>\n",
       "      <td>PC 17760</td>\n",
       "      <td>135.6333</td>\n",
       "      <td>NaN</td>\n",
       "      <td>C</td>\n",
       "    </tr>\n",
       "    <tr>\n",
       "      <th>360</th>\n",
       "      <td>361</td>\n",
       "      <td>0</td>\n",
       "      <td>3</td>\n",
       "      <td>Skoog, Mr. Wilhelm</td>\n",
       "      <td>male</td>\n",
       "      <td>40.0</td>\n",
       "      <td>1</td>\n",
       "      <td>4</td>\n",
       "      <td>347088</td>\n",
       "      <td>27.9000</td>\n",
       "      <td>NaN</td>\n",
       "      <td>S</td>\n",
       "    </tr>\n",
       "    <tr>\n",
       "      <th>890</th>\n",
       "      <td>891</td>\n",
       "      <td>0</td>\n",
       "      <td>3</td>\n",
       "      <td>Dooley, Mr. Patrick</td>\n",
       "      <td>male</td>\n",
       "      <td>32.0</td>\n",
       "      <td>0</td>\n",
       "      <td>0</td>\n",
       "      <td>370376</td>\n",
       "      <td>7.7500</td>\n",
       "      <td>NaN</td>\n",
       "      <td>Q</td>\n",
       "    </tr>\n",
       "  </tbody>\n",
       "</table>\n",
       "<p>891 rows × 12 columns</p>\n",
       "</div>"
      ],
      "text/plain": [
       "     PassengerId  Survived  Pclass  \\\n",
       "383          384         1       1   \n",
       "218          219         1       1   \n",
       "609          610         1       1   \n",
       "216          217         1       3   \n",
       "215          216         1       1   \n",
       "..           ...       ...     ...   \n",
       "371          372         0       3   \n",
       "372          373         0       3   \n",
       "373          374         0       1   \n",
       "360          361         0       3   \n",
       "890          891         0       3   \n",
       "\n",
       "                                                  Name     Sex   Age  SibSp  \\\n",
       "383  Holverson, Mrs. Alexander Oskar (Mary Aline To...  female  35.0      1   \n",
       "218                              Bazzani, Miss. Albina  female  32.0      0   \n",
       "609                          Shutes, Miss. Elizabeth W  female  40.0      0   \n",
       "216                             Honkanen, Miss. Eliina  female  27.0      0   \n",
       "215                            Newell, Miss. Madeleine  female  31.0      1   \n",
       "..                                                 ...     ...   ...    ...   \n",
       "371                          Wiklund, Mr. Jakob Alfred    male  18.0      1   \n",
       "372                         Beavan, Mr. William Thomas    male  19.0      0   \n",
       "373                                Ringhini, Mr. Sante    male  22.0      0   \n",
       "360                                 Skoog, Mr. Wilhelm    male  40.0      1   \n",
       "890                                Dooley, Mr. Patrick    male  32.0      0   \n",
       "\n",
       "     Parch            Ticket      Fare Cabin Embarked  \n",
       "383      0            113789   52.0000   NaN        S  \n",
       "218      0             11813   76.2917   D15        C  \n",
       "609      0          PC 17582  153.4625  C125        S  \n",
       "216      0  STON/O2. 3101283    7.9250   NaN        S  \n",
       "215      0             35273  113.2750   D36        C  \n",
       "..     ...               ...       ...   ...      ...  \n",
       "371      0           3101267    6.4958   NaN        S  \n",
       "372      0            323951    8.0500   NaN        S  \n",
       "373      0          PC 17760  135.6333   NaN        C  \n",
       "360      4            347088   27.9000   NaN        S  \n",
       "890      0            370376    7.7500   NaN        Q  \n",
       "\n",
       "[891 rows x 12 columns]"
      ]
     },
     "execution_count": 42,
     "metadata": {},
     "output_type": "execute_result"
    }
   ],
   "source": [
    "df.sort_values(by=column_name)"
   ]
  },
  {
   "cell_type": "code",
   "execution_count": null,
   "id": "edf914d2-4303-4259-bb5d-cf0103434abb",
   "metadata": {},
   "outputs": [],
   "source": []
  },
  {
   "cell_type": "markdown",
   "id": "f0c2f05f-2e52-4065-a92a-7e9ee9442a5c",
   "metadata": {},
   "source": [
    "# Q10. Write a Python program that reads a CSV file containing sales data for different products and  visualizes the data using a stacked bar chart to show the sales of each product category over time. The  program should prompt the user to enter the file path and display the chart. \n"
   ]
  },
  {
   "cell_type": "markdown",
   "id": "2562d8cd-149f-4f09-91e7-c40e72183c94",
   "metadata": {},
   "source": [
    "### Answer:-"
   ]
  },
  {
   "cell_type": "code",
   "execution_count": 43,
   "id": "0aa09d0d-4c0c-433a-b6fc-299e82498099",
   "metadata": {},
   "outputs": [],
   "source": [
    "import pandas as pd"
   ]
  },
  {
   "cell_type": "code",
   "execution_count": 66,
   "id": "2ef09303-6cac-43f6-86ba-f7e75e6bddfe",
   "metadata": {},
   "outputs": [
    {
     "name": "stdin",
     "output_type": "stream",
     "text": [
      "Enter the file path sales_datasheet.csv\n"
     ]
    },
    {
     "data": {
      "text/html": [
       "<div>\n",
       "<style scoped>\n",
       "    .dataframe tbody tr th:only-of-type {\n",
       "        vertical-align: middle;\n",
       "    }\n",
       "\n",
       "    .dataframe tbody tr th {\n",
       "        vertical-align: top;\n",
       "    }\n",
       "\n",
       "    .dataframe thead th {\n",
       "        text-align: right;\n",
       "    }\n",
       "</style>\n",
       "<table border=\"1\" class=\"dataframe\">\n",
       "  <thead>\n",
       "    <tr style=\"text-align: right;\">\n",
       "      <th></th>\n",
       "      <th>month_number</th>\n",
       "      <th>facecream</th>\n",
       "      <th>facewash</th>\n",
       "      <th>toothpaste</th>\n",
       "      <th>bathingsoap</th>\n",
       "      <th>shampoo</th>\n",
       "      <th>moisturizer</th>\n",
       "      <th>total_units</th>\n",
       "      <th>total_sales</th>\n",
       "    </tr>\n",
       "  </thead>\n",
       "  <tbody>\n",
       "    <tr>\n",
       "      <th>0</th>\n",
       "      <td>Jan-22</td>\n",
       "      <td>2500</td>\n",
       "      <td>1500</td>\n",
       "      <td>5200</td>\n",
       "      <td>9200</td>\n",
       "      <td>1200</td>\n",
       "      <td>1500</td>\n",
       "      <td>21100</td>\n",
       "      <td>211000</td>\n",
       "    </tr>\n",
       "    <tr>\n",
       "      <th>1</th>\n",
       "      <td>Feb-22</td>\n",
       "      <td>2630</td>\n",
       "      <td>1200</td>\n",
       "      <td>5100</td>\n",
       "      <td>6100</td>\n",
       "      <td>2100</td>\n",
       "      <td>1200</td>\n",
       "      <td>18330</td>\n",
       "      <td>183300</td>\n",
       "    </tr>\n",
       "    <tr>\n",
       "      <th>2</th>\n",
       "      <td>Mar-22</td>\n",
       "      <td>2140</td>\n",
       "      <td>1340</td>\n",
       "      <td>4550</td>\n",
       "      <td>9550</td>\n",
       "      <td>3550</td>\n",
       "      <td>1340</td>\n",
       "      <td>22470</td>\n",
       "      <td>224700</td>\n",
       "    </tr>\n",
       "    <tr>\n",
       "      <th>3</th>\n",
       "      <td>Apr-22</td>\n",
       "      <td>3400</td>\n",
       "      <td>1130</td>\n",
       "      <td>5870</td>\n",
       "      <td>8870</td>\n",
       "      <td>1870</td>\n",
       "      <td>1130</td>\n",
       "      <td>22270</td>\n",
       "      <td>222700</td>\n",
       "    </tr>\n",
       "    <tr>\n",
       "      <th>4</th>\n",
       "      <td>May-22</td>\n",
       "      <td>3600</td>\n",
       "      <td>1740</td>\n",
       "      <td>4560</td>\n",
       "      <td>7760</td>\n",
       "      <td>1560</td>\n",
       "      <td>1740</td>\n",
       "      <td>20960</td>\n",
       "      <td>209600</td>\n",
       "    </tr>\n",
       "    <tr>\n",
       "      <th>5</th>\n",
       "      <td>Jun-22</td>\n",
       "      <td>2760</td>\n",
       "      <td>1555</td>\n",
       "      <td>4890</td>\n",
       "      <td>7490</td>\n",
       "      <td>1890</td>\n",
       "      <td>1555</td>\n",
       "      <td>20140</td>\n",
       "      <td>201400</td>\n",
       "    </tr>\n",
       "    <tr>\n",
       "      <th>6</th>\n",
       "      <td>Jul-22</td>\n",
       "      <td>2980</td>\n",
       "      <td>1120</td>\n",
       "      <td>4780</td>\n",
       "      <td>8980</td>\n",
       "      <td>1780</td>\n",
       "      <td>1120</td>\n",
       "      <td>29550</td>\n",
       "      <td>295500</td>\n",
       "    </tr>\n",
       "    <tr>\n",
       "      <th>7</th>\n",
       "      <td>Aug-22</td>\n",
       "      <td>3700</td>\n",
       "      <td>1400</td>\n",
       "      <td>5860</td>\n",
       "      <td>9960</td>\n",
       "      <td>2860</td>\n",
       "      <td>1400</td>\n",
       "      <td>36140</td>\n",
       "      <td>361400</td>\n",
       "    </tr>\n",
       "    <tr>\n",
       "      <th>8</th>\n",
       "      <td>Sep-22</td>\n",
       "      <td>3540</td>\n",
       "      <td>1780</td>\n",
       "      <td>6100</td>\n",
       "      <td>8100</td>\n",
       "      <td>2100</td>\n",
       "      <td>1780</td>\n",
       "      <td>23400</td>\n",
       "      <td>234000</td>\n",
       "    </tr>\n",
       "    <tr>\n",
       "      <th>9</th>\n",
       "      <td>Oct-22</td>\n",
       "      <td>1990</td>\n",
       "      <td>1890</td>\n",
       "      <td>8300</td>\n",
       "      <td>10300</td>\n",
       "      <td>2300</td>\n",
       "      <td>1890</td>\n",
       "      <td>26670</td>\n",
       "      <td>266700</td>\n",
       "    </tr>\n",
       "    <tr>\n",
       "      <th>10</th>\n",
       "      <td>Nov-22</td>\n",
       "      <td>2340</td>\n",
       "      <td>2100</td>\n",
       "      <td>7300</td>\n",
       "      <td>13300</td>\n",
       "      <td>2400</td>\n",
       "      <td>2100</td>\n",
       "      <td>41280</td>\n",
       "      <td>412800</td>\n",
       "    </tr>\n",
       "    <tr>\n",
       "      <th>11</th>\n",
       "      <td>Dec-22</td>\n",
       "      <td>2900</td>\n",
       "      <td>1760</td>\n",
       "      <td>7400</td>\n",
       "      <td>14400</td>\n",
       "      <td>1800</td>\n",
       "      <td>1760</td>\n",
       "      <td>30020</td>\n",
       "      <td>300200</td>\n",
       "    </tr>\n",
       "  </tbody>\n",
       "</table>\n",
       "</div>"
      ],
      "text/plain": [
       "   month_number  facecream  facewash  toothpaste  bathingsoap  shampoo  \\\n",
       "0        Jan-22       2500      1500        5200         9200     1200   \n",
       "1        Feb-22       2630      1200        5100         6100     2100   \n",
       "2        Mar-22       2140      1340        4550         9550     3550   \n",
       "3        Apr-22       3400      1130        5870         8870     1870   \n",
       "4        May-22       3600      1740        4560         7760     1560   \n",
       "5        Jun-22       2760      1555        4890         7490     1890   \n",
       "6        Jul-22       2980      1120        4780         8980     1780   \n",
       "7        Aug-22       3700      1400        5860         9960     2860   \n",
       "8        Sep-22       3540      1780        6100         8100     2100   \n",
       "9        Oct-22       1990      1890        8300        10300     2300   \n",
       "10       Nov-22       2340      2100        7300        13300     2400   \n",
       "11       Dec-22       2900      1760        7400        14400     1800   \n",
       "\n",
       "    moisturizer  total_units  total_sales  \n",
       "0          1500        21100       211000  \n",
       "1          1200        18330       183300  \n",
       "2          1340        22470       224700  \n",
       "3          1130        22270       222700  \n",
       "4          1740        20960       209600  \n",
       "5          1555        20140       201400  \n",
       "6          1120        29550       295500  \n",
       "7          1400        36140       361400  \n",
       "8          1780        23400       234000  \n",
       "9          1890        26670       266700  \n",
       "10         2100        41280       412800  \n",
       "11         1760        30020       300200  "
      ]
     },
     "execution_count": 66,
     "metadata": {},
     "output_type": "execute_result"
    }
   ],
   "source": [
    "df=pd.read_csv(input(\"Enter the file path\"),encoding=\"Windows-1252\")\n",
    "\n",
    "# We used the file encode in Windows-1252 format here because: \n",
    "\n",
    "# During read csv file we get an unicode error in output i.e. \"UnicodeDecodeError: 'utf-8' codec \n",
    "# can't decode byte 0x84 in position 5327: invalid start byte. \n",
    "\n",
    "df"
   ]
  },
  {
   "cell_type": "code",
   "execution_count": 67,
   "id": "f1ca54f4-d894-43e3-bf40-b54c7f846b33",
   "metadata": {},
   "outputs": [
    {
     "data": {
      "text/plain": [
       "Index(['month_number', 'facecream', 'facewash', 'toothpaste', 'bathingsoap',\n",
       "       'shampoo', 'moisturizer', 'total_units', 'total_sales'],\n",
       "      dtype='object')"
      ]
     },
     "execution_count": 67,
     "metadata": {},
     "output_type": "execute_result"
    }
   ],
   "source": [
    "df.columns"
   ]
  },
  {
   "cell_type": "code",
   "execution_count": 75,
   "id": "2d9a4d51-eb41-4d11-87b0-60d8f000c7ac",
   "metadata": {},
   "outputs": [],
   "source": [
    "# pivot the data to get total sales by product category and date\n",
    "df1=df.pivot(index=\"month_number\",columns=[\"facecream\", \"facewash\", \"toothpaste\",\n",
    "                                           \"bathingsoap\",\"shampoo\", \"moisturizer\"],values=\"total_sales\")"
   ]
  },
  {
   "cell_type": "code",
   "execution_count": 76,
   "id": "7e551f48-b7c2-48aa-a1ca-ba3adbe4657f",
   "metadata": {},
   "outputs": [
    {
     "data": {
      "text/html": [
       "<div>\n",
       "<style scoped>\n",
       "    .dataframe tbody tr th:only-of-type {\n",
       "        vertical-align: middle;\n",
       "    }\n",
       "\n",
       "    .dataframe tbody tr th {\n",
       "        vertical-align: top;\n",
       "    }\n",
       "\n",
       "    .dataframe thead tr th {\n",
       "        text-align: left;\n",
       "    }\n",
       "\n",
       "    .dataframe thead tr:last-of-type th {\n",
       "        text-align: right;\n",
       "    }\n",
       "</style>\n",
       "<table border=\"1\" class=\"dataframe\">\n",
       "  <thead>\n",
       "    <tr>\n",
       "      <th>facecream</th>\n",
       "      <th>2500</th>\n",
       "      <th>2630</th>\n",
       "      <th>2140</th>\n",
       "      <th>3400</th>\n",
       "      <th>3600</th>\n",
       "      <th>2760</th>\n",
       "      <th>2980</th>\n",
       "      <th>3700</th>\n",
       "      <th>3540</th>\n",
       "      <th>1990</th>\n",
       "      <th>2340</th>\n",
       "      <th>2900</th>\n",
       "    </tr>\n",
       "    <tr>\n",
       "      <th>facewash</th>\n",
       "      <th>1500</th>\n",
       "      <th>1200</th>\n",
       "      <th>1340</th>\n",
       "      <th>1130</th>\n",
       "      <th>1740</th>\n",
       "      <th>1555</th>\n",
       "      <th>1120</th>\n",
       "      <th>1400</th>\n",
       "      <th>1780</th>\n",
       "      <th>1890</th>\n",
       "      <th>2100</th>\n",
       "      <th>1760</th>\n",
       "    </tr>\n",
       "    <tr>\n",
       "      <th>toothpaste</th>\n",
       "      <th>5200</th>\n",
       "      <th>5100</th>\n",
       "      <th>4550</th>\n",
       "      <th>5870</th>\n",
       "      <th>4560</th>\n",
       "      <th>4890</th>\n",
       "      <th>4780</th>\n",
       "      <th>5860</th>\n",
       "      <th>6100</th>\n",
       "      <th>8300</th>\n",
       "      <th>7300</th>\n",
       "      <th>7400</th>\n",
       "    </tr>\n",
       "    <tr>\n",
       "      <th>bathingsoap</th>\n",
       "      <th>9200</th>\n",
       "      <th>6100</th>\n",
       "      <th>9550</th>\n",
       "      <th>8870</th>\n",
       "      <th>7760</th>\n",
       "      <th>7490</th>\n",
       "      <th>8980</th>\n",
       "      <th>9960</th>\n",
       "      <th>8100</th>\n",
       "      <th>10300</th>\n",
       "      <th>13300</th>\n",
       "      <th>14400</th>\n",
       "    </tr>\n",
       "    <tr>\n",
       "      <th>shampoo</th>\n",
       "      <th>1200</th>\n",
       "      <th>2100</th>\n",
       "      <th>3550</th>\n",
       "      <th>1870</th>\n",
       "      <th>1560</th>\n",
       "      <th>1890</th>\n",
       "      <th>1780</th>\n",
       "      <th>2860</th>\n",
       "      <th>2100</th>\n",
       "      <th>2300</th>\n",
       "      <th>2400</th>\n",
       "      <th>1800</th>\n",
       "    </tr>\n",
       "    <tr>\n",
       "      <th>moisturizer</th>\n",
       "      <th>1500</th>\n",
       "      <th>1200</th>\n",
       "      <th>1340</th>\n",
       "      <th>1130</th>\n",
       "      <th>1740</th>\n",
       "      <th>1555</th>\n",
       "      <th>1120</th>\n",
       "      <th>1400</th>\n",
       "      <th>1780</th>\n",
       "      <th>1890</th>\n",
       "      <th>2100</th>\n",
       "      <th>1760</th>\n",
       "    </tr>\n",
       "    <tr>\n",
       "      <th>month_number</th>\n",
       "      <th></th>\n",
       "      <th></th>\n",
       "      <th></th>\n",
       "      <th></th>\n",
       "      <th></th>\n",
       "      <th></th>\n",
       "      <th></th>\n",
       "      <th></th>\n",
       "      <th></th>\n",
       "      <th></th>\n",
       "      <th></th>\n",
       "      <th></th>\n",
       "    </tr>\n",
       "  </thead>\n",
       "  <tbody>\n",
       "    <tr>\n",
       "      <th>Apr-22</th>\n",
       "      <td>NaN</td>\n",
       "      <td>NaN</td>\n",
       "      <td>NaN</td>\n",
       "      <td>222700.0</td>\n",
       "      <td>NaN</td>\n",
       "      <td>NaN</td>\n",
       "      <td>NaN</td>\n",
       "      <td>NaN</td>\n",
       "      <td>NaN</td>\n",
       "      <td>NaN</td>\n",
       "      <td>NaN</td>\n",
       "      <td>NaN</td>\n",
       "    </tr>\n",
       "    <tr>\n",
       "      <th>Aug-22</th>\n",
       "      <td>NaN</td>\n",
       "      <td>NaN</td>\n",
       "      <td>NaN</td>\n",
       "      <td>NaN</td>\n",
       "      <td>NaN</td>\n",
       "      <td>NaN</td>\n",
       "      <td>NaN</td>\n",
       "      <td>361400.0</td>\n",
       "      <td>NaN</td>\n",
       "      <td>NaN</td>\n",
       "      <td>NaN</td>\n",
       "      <td>NaN</td>\n",
       "    </tr>\n",
       "    <tr>\n",
       "      <th>Dec-22</th>\n",
       "      <td>NaN</td>\n",
       "      <td>NaN</td>\n",
       "      <td>NaN</td>\n",
       "      <td>NaN</td>\n",
       "      <td>NaN</td>\n",
       "      <td>NaN</td>\n",
       "      <td>NaN</td>\n",
       "      <td>NaN</td>\n",
       "      <td>NaN</td>\n",
       "      <td>NaN</td>\n",
       "      <td>NaN</td>\n",
       "      <td>300200.0</td>\n",
       "    </tr>\n",
       "    <tr>\n",
       "      <th>Feb-22</th>\n",
       "      <td>NaN</td>\n",
       "      <td>183300.0</td>\n",
       "      <td>NaN</td>\n",
       "      <td>NaN</td>\n",
       "      <td>NaN</td>\n",
       "      <td>NaN</td>\n",
       "      <td>NaN</td>\n",
       "      <td>NaN</td>\n",
       "      <td>NaN</td>\n",
       "      <td>NaN</td>\n",
       "      <td>NaN</td>\n",
       "      <td>NaN</td>\n",
       "    </tr>\n",
       "    <tr>\n",
       "      <th>Jan-22</th>\n",
       "      <td>211000.0</td>\n",
       "      <td>NaN</td>\n",
       "      <td>NaN</td>\n",
       "      <td>NaN</td>\n",
       "      <td>NaN</td>\n",
       "      <td>NaN</td>\n",
       "      <td>NaN</td>\n",
       "      <td>NaN</td>\n",
       "      <td>NaN</td>\n",
       "      <td>NaN</td>\n",
       "      <td>NaN</td>\n",
       "      <td>NaN</td>\n",
       "    </tr>\n",
       "    <tr>\n",
       "      <th>Jul-22</th>\n",
       "      <td>NaN</td>\n",
       "      <td>NaN</td>\n",
       "      <td>NaN</td>\n",
       "      <td>NaN</td>\n",
       "      <td>NaN</td>\n",
       "      <td>NaN</td>\n",
       "      <td>295500.0</td>\n",
       "      <td>NaN</td>\n",
       "      <td>NaN</td>\n",
       "      <td>NaN</td>\n",
       "      <td>NaN</td>\n",
       "      <td>NaN</td>\n",
       "    </tr>\n",
       "    <tr>\n",
       "      <th>Jun-22</th>\n",
       "      <td>NaN</td>\n",
       "      <td>NaN</td>\n",
       "      <td>NaN</td>\n",
       "      <td>NaN</td>\n",
       "      <td>NaN</td>\n",
       "      <td>201400.0</td>\n",
       "      <td>NaN</td>\n",
       "      <td>NaN</td>\n",
       "      <td>NaN</td>\n",
       "      <td>NaN</td>\n",
       "      <td>NaN</td>\n",
       "      <td>NaN</td>\n",
       "    </tr>\n",
       "    <tr>\n",
       "      <th>Mar-22</th>\n",
       "      <td>NaN</td>\n",
       "      <td>NaN</td>\n",
       "      <td>224700.0</td>\n",
       "      <td>NaN</td>\n",
       "      <td>NaN</td>\n",
       "      <td>NaN</td>\n",
       "      <td>NaN</td>\n",
       "      <td>NaN</td>\n",
       "      <td>NaN</td>\n",
       "      <td>NaN</td>\n",
       "      <td>NaN</td>\n",
       "      <td>NaN</td>\n",
       "    </tr>\n",
       "    <tr>\n",
       "      <th>May-22</th>\n",
       "      <td>NaN</td>\n",
       "      <td>NaN</td>\n",
       "      <td>NaN</td>\n",
       "      <td>NaN</td>\n",
       "      <td>209600.0</td>\n",
       "      <td>NaN</td>\n",
       "      <td>NaN</td>\n",
       "      <td>NaN</td>\n",
       "      <td>NaN</td>\n",
       "      <td>NaN</td>\n",
       "      <td>NaN</td>\n",
       "      <td>NaN</td>\n",
       "    </tr>\n",
       "    <tr>\n",
       "      <th>Nov-22</th>\n",
       "      <td>NaN</td>\n",
       "      <td>NaN</td>\n",
       "      <td>NaN</td>\n",
       "      <td>NaN</td>\n",
       "      <td>NaN</td>\n",
       "      <td>NaN</td>\n",
       "      <td>NaN</td>\n",
       "      <td>NaN</td>\n",
       "      <td>NaN</td>\n",
       "      <td>NaN</td>\n",
       "      <td>412800.0</td>\n",
       "      <td>NaN</td>\n",
       "    </tr>\n",
       "    <tr>\n",
       "      <th>Oct-22</th>\n",
       "      <td>NaN</td>\n",
       "      <td>NaN</td>\n",
       "      <td>NaN</td>\n",
       "      <td>NaN</td>\n",
       "      <td>NaN</td>\n",
       "      <td>NaN</td>\n",
       "      <td>NaN</td>\n",
       "      <td>NaN</td>\n",
       "      <td>NaN</td>\n",
       "      <td>266700.0</td>\n",
       "      <td>NaN</td>\n",
       "      <td>NaN</td>\n",
       "    </tr>\n",
       "    <tr>\n",
       "      <th>Sep-22</th>\n",
       "      <td>NaN</td>\n",
       "      <td>NaN</td>\n",
       "      <td>NaN</td>\n",
       "      <td>NaN</td>\n",
       "      <td>NaN</td>\n",
       "      <td>NaN</td>\n",
       "      <td>NaN</td>\n",
       "      <td>NaN</td>\n",
       "      <td>234000.0</td>\n",
       "      <td>NaN</td>\n",
       "      <td>NaN</td>\n",
       "      <td>NaN</td>\n",
       "    </tr>\n",
       "  </tbody>\n",
       "</table>\n",
       "</div>"
      ],
      "text/plain": [
       "facecream         2500      2630      2140      3400      3600      2760  \\\n",
       "facewash          1500      1200      1340      1130      1740      1555   \n",
       "toothpaste        5200      5100      4550      5870      4560      4890   \n",
       "bathingsoap      9200      6100      9550      8870      7760      7490    \n",
       "shampoo           1200      2100      3550      1870      1560      1890   \n",
       "moisturizer       1500      1200      1340      1130      1740      1555   \n",
       "month_number                                                               \n",
       "Apr-22             NaN       NaN       NaN  222700.0       NaN       NaN   \n",
       "Aug-22             NaN       NaN       NaN       NaN       NaN       NaN   \n",
       "Dec-22             NaN       NaN       NaN       NaN       NaN       NaN   \n",
       "Feb-22             NaN  183300.0       NaN       NaN       NaN       NaN   \n",
       "Jan-22        211000.0       NaN       NaN       NaN       NaN       NaN   \n",
       "Jul-22             NaN       NaN       NaN       NaN       NaN       NaN   \n",
       "Jun-22             NaN       NaN       NaN       NaN       NaN  201400.0   \n",
       "Mar-22             NaN       NaN  224700.0       NaN       NaN       NaN   \n",
       "May-22             NaN       NaN       NaN       NaN  209600.0       NaN   \n",
       "Nov-22             NaN       NaN       NaN       NaN       NaN       NaN   \n",
       "Oct-22             NaN       NaN       NaN       NaN       NaN       NaN   \n",
       "Sep-22             NaN       NaN       NaN       NaN       NaN       NaN   \n",
       "\n",
       "facecream         2980      3700      3540      1990      2340      2900  \n",
       "facewash          1120      1400      1780      1890      2100      1760  \n",
       "toothpaste        4780      5860      6100      8300      7300      7400  \n",
       "bathingsoap      8980      9960      8100      10300     13300     14400  \n",
       "shampoo           1780      2860      2100      2300      2400      1800  \n",
       "moisturizer       1120      1400      1780      1890      2100      1760  \n",
       "month_number                                                              \n",
       "Apr-22             NaN       NaN       NaN       NaN       NaN       NaN  \n",
       "Aug-22             NaN  361400.0       NaN       NaN       NaN       NaN  \n",
       "Dec-22             NaN       NaN       NaN       NaN       NaN  300200.0  \n",
       "Feb-22             NaN       NaN       NaN       NaN       NaN       NaN  \n",
       "Jan-22             NaN       NaN       NaN       NaN       NaN       NaN  \n",
       "Jul-22        295500.0       NaN       NaN       NaN       NaN       NaN  \n",
       "Jun-22             NaN       NaN       NaN       NaN       NaN       NaN  \n",
       "Mar-22             NaN       NaN       NaN       NaN       NaN       NaN  \n",
       "May-22             NaN       NaN       NaN       NaN       NaN       NaN  \n",
       "Nov-22             NaN       NaN       NaN       NaN  412800.0       NaN  \n",
       "Oct-22             NaN       NaN       NaN  266700.0       NaN       NaN  \n",
       "Sep-22             NaN       NaN  234000.0       NaN       NaN       NaN  "
      ]
     },
     "execution_count": 76,
     "metadata": {},
     "output_type": "execute_result"
    }
   ],
   "source": [
    "df1"
   ]
  },
  {
   "cell_type": "code",
   "execution_count": 77,
   "id": "8286f2d4-7c87-424d-9bc9-c620cc0e5d65",
   "metadata": {},
   "outputs": [
    {
     "data": {
      "text/plain": [
       "<AxesSubplot: xlabel='month_number'>"
      ]
     },
     "execution_count": 77,
     "metadata": {},
     "output_type": "execute_result"
    },
    {
     "data": {
      "image/png": "[encoded data removed]",
      "text/plain": [
       "<Figure size 640x480 with 1 Axes>"
      ]
     },
     "metadata": {},
     "output_type": "display_data"
    }
   ],
   "source": [
    "# plot stacked bar chart\n",
    "df1.plot(kind=\"bar\",stacked=True)"
   ]
  },
  {
   "cell_type": "code",
   "execution_count": null,
   "id": "c12b84ae-0186-40d6-84ff-7433233235cd",
   "metadata": {},
   "outputs": [],
   "source": []
  },
  {
   "cell_type": "markdown",
   "id": "6471fc12-1481-49ee-96ae-c9b79cf61100",
   "metadata": {},
   "source": [
    "# Q11. You are given a CSV file containing student data that includes the student ID and their test score. Write  a Python program that reads the CSV file, calculates the mean, median, and mode of the test scores, and  displays the results in a table. \n",
    "\n",
    "### The program should do the following: \n",
    "Prompt the user to enter the file path of the CSV file containing the student data\n",
    "\n",
    "Read the CSV file into a Pandas DataFrame \n",
    "\n",
    "Calculate the mean, median, and mode of the test scores using Pandas tools\n",
    "\n",
    "Display the mean, median, and mode in a table. \n",
    "\n",
    "### Assume the CSV file contains the following columns:\n",
    "\n",
    "Student ID: The ID of the student \n",
    "\n",
    "Test Score: The score of the student's test. \n",
    "\n",
    "#### Example usage of the program: \n",
    "Enter the file path of the CSV file containing the student data: student_data.csv \n",
    "\n",
    "\n",
    "+-----------+--------+ \n",
    "\n",
    "| Statistic | Value  | \n",
    "\n",
    "+-----------+--------+ \n",
    "\n",
    "| Mean      | 79.6   | \n",
    "\n",
    "| Median    | 82     |\n",
    "\n",
    "| Mode      | 85, 90 | \n",
    "\n",
    "+-----------+--------+ \n",
    "\n",
    "Assume that the CSV file student_data.csv contains the following data: \n",
    "\n",
    "Student ID,Test Score\n",
    "\n",
    "1,85 \n",
    "\n",
    "2,90\n",
    "\n",
    "3,80\n",
    "\n",
    "4,75\n",
    "\n",
    "5,85\n",
    "\n",
    "6,82\n",
    "\n",
    "7,78\n",
    "\n",
    "8,85\n",
    "\n",
    "9,90 \n",
    "\n",
    "10,85 \n",
    "\n",
    "The program should calculate the mean, median, and mode of the test scores and display the results  in a table. \n"
   ]
  },
  {
   "cell_type": "markdown",
   "id": "b597a380-de52-4198-a6e9-25332dfdbf6e",
   "metadata": {},
   "source": [
    "## Answer:-"
   ]
  },
  {
   "cell_type": "code",
   "execution_count": 43,
   "id": "3866075d-98b3-4d6d-bf73-39985d394bfa",
   "metadata": {},
   "outputs": [
    {
     "name": "stdin",
     "output_type": "stream",
     "text": [
      "Enter the file path Students_Datas.csv\n"
     ]
    }
   ],
   "source": [
    "import pandas as pd\n",
    "# Prompt user to enter file path of CSV file containing student data\n",
    "file_path=input(\"Enter the file path\")\n",
    "# Read the csv file into pandas data frame\n",
    "df=pd.read_csv(file_path)"
   ]
  },
  {
   "cell_type": "code",
   "execution_count": 44,
   "id": "2517dfd1-e4f3-43a8-8dcc-b83654a363be",
   "metadata": {},
   "outputs": [
    {
     "data": {
      "text/html": [
       "<div>\n",
       "<style scoped>\n",
       "    .dataframe tbody tr th:only-of-type {\n",
       "        vertical-align: middle;\n",
       "    }\n",
       "\n",
       "    .dataframe tbody tr th {\n",
       "        vertical-align: top;\n",
       "    }\n",
       "\n",
       "    .dataframe thead th {\n",
       "        text-align: right;\n",
       "    }\n",
       "</style>\n",
       "<table border=\"1\" class=\"dataframe\">\n",
       "  <thead>\n",
       "    <tr style=\"text-align: right;\">\n",
       "      <th></th>\n",
       "      <th>StudentID</th>\n",
       "      <th>Test Score</th>\n",
       "    </tr>\n",
       "  </thead>\n",
       "  <tbody>\n",
       "    <tr>\n",
       "      <th>0</th>\n",
       "      <td>1</td>\n",
       "      <td>85</td>\n",
       "    </tr>\n",
       "    <tr>\n",
       "      <th>1</th>\n",
       "      <td>2</td>\n",
       "      <td>90</td>\n",
       "    </tr>\n",
       "    <tr>\n",
       "      <th>2</th>\n",
       "      <td>3</td>\n",
       "      <td>80</td>\n",
       "    </tr>\n",
       "    <tr>\n",
       "      <th>3</th>\n",
       "      <td>4</td>\n",
       "      <td>75</td>\n",
       "    </tr>\n",
       "    <tr>\n",
       "      <th>4</th>\n",
       "      <td>5</td>\n",
       "      <td>85</td>\n",
       "    </tr>\n",
       "    <tr>\n",
       "      <th>5</th>\n",
       "      <td>6</td>\n",
       "      <td>82</td>\n",
       "    </tr>\n",
       "    <tr>\n",
       "      <th>6</th>\n",
       "      <td>7</td>\n",
       "      <td>78</td>\n",
       "    </tr>\n",
       "    <tr>\n",
       "      <th>7</th>\n",
       "      <td>8</td>\n",
       "      <td>85</td>\n",
       "    </tr>\n",
       "    <tr>\n",
       "      <th>8</th>\n",
       "      <td>9</td>\n",
       "      <td>90</td>\n",
       "    </tr>\n",
       "    <tr>\n",
       "      <th>9</th>\n",
       "      <td>10</td>\n",
       "      <td>85</td>\n",
       "    </tr>\n",
       "  </tbody>\n",
       "</table>\n",
       "</div>"
      ],
      "text/plain": [
       "   StudentID  Test Score\n",
       "0          1          85\n",
       "1          2          90\n",
       "2          3          80\n",
       "3          4          75\n",
       "4          5          85\n",
       "5          6          82\n",
       "6          7          78\n",
       "7          8          85\n",
       "8          9          90\n",
       "9         10          85"
      ]
     },
     "execution_count": 44,
     "metadata": {},
     "output_type": "execute_result"
    }
   ],
   "source": [
    "df"
   ]
  },
  {
   "cell_type": "code",
   "execution_count": 45,
   "id": "2af9d8cd-dd48-44d5-8514-345ade60b654",
   "metadata": {},
   "outputs": [],
   "source": [
    "# calculate mean, median and mode of the test score\n",
    "mean_score=df[\"Test Score\"].mean()\n",
    "median_score=df[\"Test Score\"].median()\n",
    "mode_score=df[\"Test Score\"].mode()"
   ]
  },
  {
   "cell_type": "code",
   "execution_count": 46,
   "id": "36ac57a3-0472-450e-85f8-5448a8bd1ee3",
   "metadata": {},
   "outputs": [],
   "source": [
    "# Display result in a table\n",
    "stat_val=pd.DataFrame({\"statistics\":[\"mean\",\"median\",\"mode\"],\n",
    "                       \"Value\":[mean_score,median_score,mode_score]})"
   ]
  },
  {
   "cell_type": "code",
   "execution_count": 48,
   "id": "a47f23ac-8a89-4da5-9a7e-f3d860d2fc95",
   "metadata": {},
   "outputs": [
    {
     "name": "stdout",
     "output_type": "stream",
     "text": [
      "statistics                                  Value\n",
      "      mean                                   83.5\n",
      "    median                                   85.0\n",
      "      mode 0    85\n",
      "Name: Test Score, dtype: int64\n"
     ]
    }
   ],
   "source": [
    "# to_string() method is used to convert the Pandas DataFrame to a string.\n",
    "\n",
    "print(stat_val.to_string(index=False)) # to_string() method removes the row headers "
   ]
  },
  {
   "cell_type": "code",
   "execution_count": 51,
   "id": "1e44f8be-a05c-4949-a471-e3ce29743c10",
   "metadata": {},
   "outputs": [
    {
     "name": "stdout",
     "output_type": "stream",
     "text": [
      "  statistics                                   Value\n",
      "0       mean                                    83.5\n",
      "1     median                                    85.0\n",
      "2       mode  0    85\n",
      "Name: Test Score, dtype: int64\n"
     ]
    }
   ],
   "source": [
    "# without to_string()\n",
    "print(stat_val)"
   ]
  },
  {
   "cell_type": "code",
   "execution_count": null,
   "id": "7addb387-dc40-465b-9e35-dd7e06b2dd28",
   "metadata": {},
   "outputs": [],
   "source": []
  }
 ],
 "metadata": {
  "kernelspec": {
   "display_name": "Python 3 (ipykernel)",
   "language": "python",
   "name": "python3"
  },
  "language_info": {
   "codemirror_mode": {
    "name": "ipython",
    "version": 3
   },
   "file_extension": ".py",
   "mimetype": "text/x-python",
   "name": "python",
   "nbconvert_exporter": "python",
   "pygments_lexer": "ipython3",
   "version": "3.10.8"
  }
 },
 "nbformat": 4,
 "nbformat_minor": 5
}
