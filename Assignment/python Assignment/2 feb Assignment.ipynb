{
 "cells": [
  {
   "cell_type": "markdown",
   "id": "97a900e6-9105-4eaf-b411-656723ee609f",
   "metadata": {},
   "source": [
    "# Assignment 2 feb-2023"
   ]
  },
  {
   "cell_type": "markdown",
   "id": "4babfe39-773b-47ba-8299-da2b8eb6e1a9",
   "metadata": {},
   "source": [
    "# Q1. What are the characteristics of the tuples? Is tuple immutable? \n",
    "\n"
   ]
  },
  {
   "cell_type": "markdown",
   "id": "b58fd8e6-71ed-4d83-ba4e-cf1624e465aa",
   "metadata": {},
   "source": [
    "# Answer-\n",
    "## Characteristics of Tuples are as below:"
   ]
  },
  {
   "cell_type": "markdown",
   "id": "4a33094b-438e-4876-b505-f55e60a7b5dd",
   "metadata": {},
   "source": [
    "### 1.Tuples are written with round brackets."
   ]
  },
  {
   "cell_type": "code",
   "execution_count": 1,
   "id": "5f5ac7f5-316f-4074-b824-f524ace57a36",
   "metadata": {},
   "outputs": [],
   "source": [
    "t=()"
   ]
  },
  {
   "cell_type": "code",
   "execution_count": 2,
   "id": "2d23ca91-26ba-497f-98da-a99614e62a01",
   "metadata": {},
   "outputs": [
    {
     "data": {
      "text/plain": [
       "tuple"
      ]
     },
     "execution_count": 2,
     "metadata": {},
     "output_type": "execute_result"
    }
   ],
   "source": [
    "type(t)"
   ]
  },
  {
   "cell_type": "markdown",
   "id": "649de7c8-2494-4fa9-bf7b-95c8d56ec71c",
   "metadata": {},
   "source": [
    "### 2.Tuples are used to store multiple items in a single variable."
   ]
  },
  {
   "cell_type": "code",
   "execution_count": 3,
   "id": "c2422277-0f73-4aec-b32c-c519ba736677",
   "metadata": {},
   "outputs": [],
   "source": [
    "t=(1,2.3,\"nitesh\",(1,2,3),[4,5,6],{7,8,9},{\"name\":\"nitesh\"})"
   ]
  },
  {
   "cell_type": "code",
   "execution_count": 4,
   "id": "ce67ae05-4a81-4513-93a4-a45568f262d1",
   "metadata": {},
   "outputs": [
    {
     "data": {
      "text/plain": [
       "(1, 2.3, 'nitesh', (1, 2, 3), [4, 5, 6], {7, 8, 9}, {'name': 'nitesh'})"
      ]
     },
     "execution_count": 4,
     "metadata": {},
     "output_type": "execute_result"
    }
   ],
   "source": [
    "t"
   ]
  },
  {
   "cell_type": "markdown",
   "id": "6e3a6b5d-5821-4138-8f28-c947a033e320",
   "metadata": {},
   "source": [
    "### 3. Tuple items are indexed, the first item has index [0], the second item has index [1] etc."
   ]
  },
  {
   "cell_type": "code",
   "execution_count": 11,
   "id": "516a8b9e-60f4-4e7d-b6d0-792f51844a0e",
   "metadata": {},
   "outputs": [
    {
     "data": {
      "text/plain": [
       "1"
      ]
     },
     "execution_count": 11,
     "metadata": {},
     "output_type": "execute_result"
    }
   ],
   "source": [
    "t[0]"
   ]
  },
  {
   "cell_type": "code",
   "execution_count": 12,
   "id": "a2b86ab3-8e64-4b10-9e07-70a0075f510f",
   "metadata": {},
   "outputs": [
    {
     "data": {
      "text/plain": [
       "(1, 2, 3)"
      ]
     },
     "execution_count": 12,
     "metadata": {},
     "output_type": "execute_result"
    }
   ],
   "source": [
    "t[3]"
   ]
  },
  {
   "cell_type": "markdown",
   "id": "31132d52-3887-404b-94d8-f09caf0df9f4",
   "metadata": {},
   "source": [
    "### 4. Tuple is a collection which is ordered and immutable and allow duplicate value"
   ]
  },
  {
   "cell_type": "code",
   "execution_count": 19,
   "id": "47413c13-8727-4cc1-b009-565110b3c63d",
   "metadata": {},
   "outputs": [],
   "source": [
    "t1=(1,4,2.3,4,True,\"nitesh\",(1,2,3),[4,5,6],{7,8,9},{\"name\":\"nitesh\"})\n",
    "# Here tuple is a collection of int, float, string, tuple, list,set,dictionary"
   ]
  },
  {
   "cell_type": "code",
   "execution_count": 20,
   "id": "4070e424-0020-41a2-80d2-81bb9a20166f",
   "metadata": {},
   "outputs": [
    {
     "data": {
      "text/plain": [
       "(1,\n",
       " 4,\n",
       " 2.3,\n",
       " 4,\n",
       " True,\n",
       " 'nitesh',\n",
       " (1, 2, 3),\n",
       " [4, 5, 6],\n",
       " {7, 8, 9},\n",
       " {'name': 'nitesh'})"
      ]
     },
     "execution_count": 20,
     "metadata": {},
     "output_type": "execute_result"
    }
   ],
   "source": [
    "t1"
   ]
  },
  {
   "cell_type": "code",
   "execution_count": 22,
   "id": "5929274f-d404-47d2-a181-46997f86ea3c",
   "metadata": {},
   "outputs": [
    {
     "data": {
      "text/plain": [
       "'nitesh'"
      ]
     },
     "execution_count": 22,
     "metadata": {},
     "output_type": "execute_result"
    }
   ],
   "source": [
    "t1[5]"
   ]
  },
  {
   "cell_type": "markdown",
   "id": "b7cf00b1-2ed3-464a-a970-f2d3a31cedc9",
   "metadata": {},
   "source": [
    "##### Tuples are immutable"
   ]
  },
  {
   "cell_type": "code",
   "execution_count": 23,
   "id": "f90b799a-008d-4b36-a334-9f44f32a30a2",
   "metadata": {},
   "outputs": [
    {
     "ename": "TypeError",
     "evalue": "'tuple' object does not support item assignment",
     "output_type": "error",
     "traceback": [
      "\u001b[0;31m---------------------------------------------------------------------------\u001b[0m",
      "\u001b[0;31mTypeError\u001b[0m                                 Traceback (most recent call last)",
      "Cell \u001b[0;32mIn[23], line 1\u001b[0m\n\u001b[0;32m----> 1\u001b[0m \u001b[43mt1\u001b[49m\u001b[43m[\u001b[49m\u001b[38;5;241;43m5\u001b[39;49m\u001b[43m]\u001b[49m\u001b[38;5;241m=\u001b[39m\u001b[38;5;124m\"\u001b[39m\u001b[38;5;124mkumar\u001b[39m\u001b[38;5;124m\"\u001b[39m \n",
      "\u001b[0;31mTypeError\u001b[0m: 'tuple' object does not support item assignment"
     ]
    }
   ],
   "source": [
    "t1[5]=\"kumar\" "
   ]
  },
  {
   "cell_type": "markdown",
   "id": "ec1b5313-3572-45a1-963e-903561648604",
   "metadata": {},
   "source": [
    "# Q2. What are the two tuple methods in python? Give an example of each method. Give a reason why tuples have only two in-built methods as compared to Lists. "
   ]
  },
  {
   "cell_type": "markdown",
   "id": "644554fa-9ecf-43be-852c-019dc90c4652",
   "metadata": {},
   "source": [
    "## Answer:"
   ]
  },
  {
   "cell_type": "markdown",
   "id": "e16c2883-eb79-4071-9de5-83709ac0d975",
   "metadata": {},
   "source": [
    "#### There are two tuple method in python:-\n",
    "\n"
   ]
  },
  {
   "cell_type": "markdown",
   "id": "013a72a9-d163-4641-a7c4-fdb7883b9f5c",
   "metadata": {},
   "source": [
    "#### 1. count()- Returns the number of times a specified value occurs in a tuple.\n",
    "#### For Example-"
   ]
  },
  {
   "cell_type": "code",
   "execution_count": 25,
   "id": "3b1b76c4-f72d-4034-abfc-2905734c8b23",
   "metadata": {},
   "outputs": [
    {
     "data": {
      "text/plain": [
       "(1,\n",
       " 4,\n",
       " 2.3,\n",
       " 4,\n",
       " True,\n",
       " 'nitesh',\n",
       " (1, 2, 3),\n",
       " [4, 5, 6],\n",
       " {7, 8, 9},\n",
       " {'name': 'nitesh'})"
      ]
     },
     "execution_count": 25,
     "metadata": {},
     "output_type": "execute_result"
    }
   ],
   "source": [
    "t1"
   ]
  },
  {
   "cell_type": "code",
   "execution_count": 18,
   "id": "7877f16e-ef63-413b-a71c-f14971219fdb",
   "metadata": {},
   "outputs": [
    {
     "data": {
      "text/plain": [
       "2"
      ]
     },
     "execution_count": 18,
     "metadata": {},
     "output_type": "execute_result"
    }
   ],
   "source": [
    "t1.count(4)"
   ]
  },
  {
   "cell_type": "markdown",
   "id": "e3e98d19-cc10-4515-8cee-0d1441a6de7e",
   "metadata": {},
   "source": [
    "#### 2. index()-Searches the tuple for a specified value and returns the position of where it was found"
   ]
  },
  {
   "cell_type": "code",
   "execution_count": 27,
   "id": "3819bdd3-03eb-4a14-b0b3-794900ed769d",
   "metadata": {},
   "outputs": [
    {
     "data": {
      "text/plain": [
       "(1, 2, 3)"
      ]
     },
     "execution_count": 27,
     "metadata": {},
     "output_type": "execute_result"
    }
   ],
   "source": [
    "t1[6]"
   ]
  },
  {
   "cell_type": "code",
   "execution_count": 28,
   "id": "85863c3e-3f4b-4569-94f3-f184679c4a9d",
   "metadata": {},
   "outputs": [
    {
     "data": {
      "text/plain": [
       "4"
      ]
     },
     "execution_count": 28,
     "metadata": {},
     "output_type": "execute_result"
    }
   ],
   "source": [
    "t1[3]"
   ]
  },
  {
   "cell_type": "markdown",
   "id": "417f6a1d-cafc-480f-b43d-04922cb83773",
   "metadata": {},
   "source": [
    "##### The reason behind tuples have only two in-built methods as compared to Lists because of its immutability(means it can not be changed) "
   ]
  },
  {
   "cell_type": "markdown",
   "id": "52ee5b84-5547-4243-87c4-4f4cfb2f3e3d",
   "metadata": {},
   "source": [
    "# Q3.  Which collection datatypes in python do not allow duplicate items? Write a code using a set to remove duplicates from the given list. List = [1, 1, 1, 2, 1, 3, 1, 4, 2, 1, 2, 2, 2, 3, 2, 4, 3, 1, 3, 2, 3, 3, 3, 4, 4, 1, 4, 2, 4, 3, 4, 4] "
   ]
  },
  {
   "cell_type": "markdown",
   "id": "09690fc3-8632-43f0-b65e-cdffc5649713",
   "metadata": {},
   "source": [
    "#### The set collection datatype in python do not allow duplicate items."
   ]
  },
  {
   "cell_type": "code",
   "execution_count": 9,
   "id": "99a20943-6c2e-44ad-993e-5d404452feac",
   "metadata": {},
   "outputs": [],
   "source": [
    "List = [1, 1, 1, 2, 1, 3, 1, 4, 2, 1, 2, 2, 2, 3, 2, 4, 3, 1, 3, 2, 3, 3, 3, 4, 4, 1, 4, 2, 4, 3, 4, 4]"
   ]
  },
  {
   "cell_type": "code",
   "execution_count": 10,
   "id": "6d77c51b-a57d-404e-b2c8-aab78a4163b9",
   "metadata": {},
   "outputs": [],
   "source": [
    "List=list(set(List))"
   ]
  },
  {
   "cell_type": "code",
   "execution_count": 11,
   "id": "735ceaaf-a726-49fb-b3c3-f7a0ef4c0ab5",
   "metadata": {},
   "outputs": [
    {
     "data": {
      "text/plain": [
       "[1, 2, 3, 4]"
      ]
     },
     "execution_count": 11,
     "metadata": {},
     "output_type": "execute_result"
    }
   ],
   "source": [
    "List"
   ]
  },
  {
   "cell_type": "markdown",
   "id": "5f899b4d-990d-46bc-930a-7482bf7114df",
   "metadata": {},
   "source": [
    "# Q4. Explain the difference between the union() and update() methods for a set. Give an example of each method. "
   ]
  },
  {
   "cell_type": "markdown",
   "id": "e914c2d8-7867-4e38-9d25-b27efe18fa67",
   "metadata": {},
   "source": [
    "##### 1. Union method- This method is used to return the union of a set and the set of elements from one or more iterable like string, list, set. This method takes arbitrary number of iterable objects as argument, which means one or more iterable can be passed. If iterable other than set is passed, it first converts the iterable object to set object and then perform the union operation. It returns a newly created set, which contains all the elements ( distinct ) present in all the iterables."
   ]
  },
  {
   "cell_type": "code",
   "execution_count": 27,
   "id": "e60d3cc8-c499-4d41-9dce-79247aab7218",
   "metadata": {},
   "outputs": [],
   "source": [
    "a= {1,2,3,4}"
   ]
  },
  {
   "cell_type": "code",
   "execution_count": 28,
   "id": "a33310d6-e81a-4580-bb2a-0a7d803955c8",
   "metadata": {},
   "outputs": [],
   "source": [
    "b={5,6,7,8}"
   ]
  },
  {
   "cell_type": "code",
   "execution_count": 36,
   "id": "0a6c4aeb-4a59-4695-87b4-781d80dc8f72",
   "metadata": {},
   "outputs": [],
   "source": [
    "c=[3,4,6,9]"
   ]
  },
  {
   "cell_type": "code",
   "execution_count": 30,
   "id": "582ca44b-f10d-4a41-99b1-102367e15068",
   "metadata": {},
   "outputs": [],
   "source": [
    "d= a.union(b)"
   ]
  },
  {
   "cell_type": "code",
   "execution_count": 31,
   "id": "8bc742a2-f953-435e-9026-7671dd0e5fdc",
   "metadata": {},
   "outputs": [
    {
     "data": {
      "text/plain": [
       "{1, 2, 3, 4, 5, 6, 7, 8}"
      ]
     },
     "execution_count": 31,
     "metadata": {},
     "output_type": "execute_result"
    }
   ],
   "source": [
    "d"
   ]
  },
  {
   "cell_type": "code",
   "execution_count": 37,
   "id": "fc1f1bed-c6cd-41ba-b5e5-5af5a0e25e0f",
   "metadata": {},
   "outputs": [],
   "source": [
    "d=a.union(c)"
   ]
  },
  {
   "cell_type": "code",
   "execution_count": 38,
   "id": "fd551feb-c267-4df2-ba5a-4384b77983a5",
   "metadata": {},
   "outputs": [
    {
     "data": {
      "text/plain": [
       "{1, 2, 3, 4, 6, 9}"
      ]
     },
     "execution_count": 38,
     "metadata": {},
     "output_type": "execute_result"
    }
   ],
   "source": [
    "d"
   ]
  },
  {
   "cell_type": "code",
   "execution_count": 39,
   "id": "10ed9703-93fe-4275-860e-12b589288268",
   "metadata": {},
   "outputs": [],
   "source": [
    "d=a.union(b,c)"
   ]
  },
  {
   "cell_type": "code",
   "execution_count": 40,
   "id": "1e06526f-d422-40e4-b2b6-a40d970a1f93",
   "metadata": {},
   "outputs": [
    {
     "data": {
      "text/plain": [
       "{1, 2, 3, 4, 5, 6, 7, 8, 9}"
      ]
     },
     "execution_count": 40,
     "metadata": {},
     "output_type": "execute_result"
    }
   ],
   "source": [
    "d"
   ]
  },
  {
   "cell_type": "markdown",
   "id": "18aabeb6-0044-4be1-a226-d8eb50ac29cc",
   "metadata": {},
   "source": [
    "##### 2. update method-  It is very similar to union() method, with difference is that where union() method create and return a new set, containing all the elements ( distinct ) present in all the iterables, update() method updates the set on which this method is called with all the distinct elements present in all the iterables."
   ]
  },
  {
   "cell_type": "code",
   "execution_count": 41,
   "id": "9070d01a-2214-46c9-8e3d-8c15543758bf",
   "metadata": {},
   "outputs": [],
   "source": [
    "a= {1,2,3,4}"
   ]
  },
  {
   "cell_type": "code",
   "execution_count": 42,
   "id": "7a9ec052-211d-4634-9081-900c74d6ff4a",
   "metadata": {},
   "outputs": [],
   "source": [
    "b={5,6,7,8,9}"
   ]
  },
  {
   "cell_type": "code",
   "execution_count": 43,
   "id": "9488debe-c03d-42fa-b3fa-734f9edf6b84",
   "metadata": {},
   "outputs": [],
   "source": [
    "a.update(b)"
   ]
  },
  {
   "cell_type": "code",
   "execution_count": 44,
   "id": "61c9435c-275b-4aef-8bc4-abe2646836f7",
   "metadata": {},
   "outputs": [
    {
     "data": {
      "text/plain": [
       "{1, 2, 3, 4, 5, 6, 7, 8, 9}"
      ]
     },
     "execution_count": 44,
     "metadata": {},
     "output_type": "execute_result"
    }
   ],
   "source": [
    "a"
   ]
  },
  {
   "cell_type": "code",
   "execution_count": 45,
   "id": "7ed0784f-3e67-42a8-9d50-3b3b6c725dad",
   "metadata": {},
   "outputs": [
    {
     "data": {
      "text/plain": [
       "{5, 6, 7, 8, 9}"
      ]
     },
     "execution_count": 45,
     "metadata": {},
     "output_type": "execute_result"
    }
   ],
   "source": [
    "b"
   ]
  },
  {
   "cell_type": "code",
   "execution_count": 46,
   "id": "322d643d-9272-4413-9bc8-d248eaa694ee",
   "metadata": {},
   "outputs": [],
   "source": [
    "b.update(a)"
   ]
  },
  {
   "cell_type": "code",
   "execution_count": 47,
   "id": "18cc74b3-3756-467f-9315-ca97d146dbac",
   "metadata": {},
   "outputs": [
    {
     "data": {
      "text/plain": [
       "{1, 2, 3, 4, 5, 6, 7, 8, 9}"
      ]
     },
     "execution_count": 47,
     "metadata": {},
     "output_type": "execute_result"
    }
   ],
   "source": [
    "b"
   ]
  },
  {
   "cell_type": "markdown",
   "id": "f1900aa2-559f-4a61-bb5f-c4c70214dc57",
   "metadata": {},
   "source": [
    "# Q5. What is a dictionary? Give an example. Also, state whether a dictionary is ordered or unordered. "
   ]
  },
  {
   "cell_type": "markdown",
   "id": "10ab5953-8bd3-4012-8dcc-5c049676c23a",
   "metadata": {},
   "source": [
    "#### The dictionary is an unordered collection that contains key:value pairs separated by commas inside curly brackets. Dictionaries are optimized to retrieve values when the key is known."
   ]
  },
  {
   "cell_type": "code",
   "execution_count": 1,
   "id": "47585011-c25c-4764-a05f-984e89ade590",
   "metadata": {},
   "outputs": [],
   "source": [
    "d={}"
   ]
  },
  {
   "cell_type": "code",
   "execution_count": 2,
   "id": "cb0bd388-95f5-446f-9c0e-a609fd37dc6e",
   "metadata": {},
   "outputs": [
    {
     "data": {
      "text/plain": [
       "dict"
      ]
     },
     "execution_count": 2,
     "metadata": {},
     "output_type": "execute_result"
    }
   ],
   "source": [
    "type(d)"
   ]
  },
  {
   "cell_type": "code",
   "execution_count": 3,
   "id": "d5d8ca41-e234-46f0-ab29-31b283d154f9",
   "metadata": {},
   "outputs": [],
   "source": [
    "d={\"name\":\"nitesh\",\"course\":\"datascience\",\"number\":\"123456789\"} # where name is behave as a key and nitesh behave as a value"
   ]
  },
  {
   "cell_type": "code",
   "execution_count": 4,
   "id": "c5ea40fe-aaa9-4332-8e64-051c3287c86f",
   "metadata": {},
   "outputs": [
    {
     "data": {
      "text/plain": [
       "{'name': 'nitesh', 'course': 'datascience', 'number': '123456789'}"
      ]
     },
     "execution_count": 4,
     "metadata": {},
     "output_type": "execute_result"
    }
   ],
   "source": [
    "d"
   ]
  },
  {
   "cell_type": "markdown",
   "id": "247792e0-3c53-442e-830b-1be81c82e1c7",
   "metadata": {},
   "source": [
    "# Q6. Can we create a nested dictionary? If so, please give an example by creating a simple one-level nested dictionary. "
   ]
  },
  {
   "cell_type": "markdown",
   "id": "58606966-0cf3-4779-9ee6-8b3f6e5e884a",
   "metadata": {},
   "source": [
    "#### Answer- Yes we create a nested dictionary"
   ]
  },
  {
   "cell_type": "code",
   "execution_count": 17,
   "id": "3a6b63ee-6f5f-4499-a9f9-81b013ac52df",
   "metadata": {},
   "outputs": [],
   "source": [
    "d1={\"student_details\": {\"name\":\"nitesh\",\"course\":\"datascience\",\"number\":123456789}} # Dictionary can be used as a value not as a key"
   ]
  },
  {
   "cell_type": "code",
   "execution_count": 18,
   "id": "16be436c-657b-477e-bb1f-86dda4889f6e",
   "metadata": {},
   "outputs": [
    {
     "data": {
      "text/plain": [
       "{'student_details': {'name': 'nitesh',\n",
       "  'course': 'datascience',\n",
       "  'number': 123456789}}"
      ]
     },
     "execution_count": 18,
     "metadata": {},
     "output_type": "execute_result"
    }
   ],
   "source": [
    "d1"
   ]
  },
  {
   "cell_type": "code",
   "execution_count": 25,
   "id": "453f1e13-62e7-4221-bb47-565c14705a6a",
   "metadata": {},
   "outputs": [],
   "source": [
    "d2={\"empl1\":{ \"name\":\"nitesh\",\"course\":\"datascience\",\"number\":123456789},\"empl2\": {\"name\":\"rahul\",\"course\":\"web\",\"number\":444444445678}}"
   ]
  },
  {
   "cell_type": "code",
   "execution_count": 26,
   "id": "7e271419-d2ba-40e7-8ba0-ca7cf956c4b7",
   "metadata": {},
   "outputs": [
    {
     "data": {
      "text/plain": [
       "{'empl1': {'name': 'nitesh', 'course': 'datascience', 'number': 123456789},\n",
       " 'empl2': {'name': 'rahul', 'course': 'web', 'number': 444444445678}}"
      ]
     },
     "execution_count": 26,
     "metadata": {},
     "output_type": "execute_result"
    }
   ],
   "source": [
    "d2"
   ]
  },
  {
   "cell_type": "markdown",
   "id": "1a8001c4-e085-499e-aa36-51a3b4e8159a",
   "metadata": {},
   "source": [
    "# Q7. Using setdefault() method, create key named topics in the given dictionary and also add the value of the key as this list ['Python', 'Machine Learning’, 'Deep Learning'] dict1 = {'language' : 'Python', 'course': 'Data Science Masters'} "
   ]
  },
  {
   "cell_type": "code",
   "execution_count": 46,
   "id": "3db47f9a-e6bb-43ad-ba65-adfb8b0549b4",
   "metadata": {},
   "outputs": [],
   "source": [
    "dictionary={\"topics\":[\"python\",\"Machine Learning\",\"Deep Learning\",{\"language\":\"python\",\"course\":\"Data Science Master\"}]}"
   ]
  },
  {
   "cell_type": "code",
   "execution_count": 47,
   "id": "bf692da3-9101-4fa0-ab5a-131fd5682646",
   "metadata": {},
   "outputs": [
    {
     "data": {
      "text/plain": [
       "{'topics': ['python',\n",
       "  'Machine Learning',\n",
       "  'Deep Learning',\n",
       "  {'language': 'python', 'course': 'Data Science Master'}]}"
      ]
     },
     "execution_count": 47,
     "metadata": {},
     "output_type": "execute_result"
    }
   ],
   "source": [
    "dictionary\n"
   ]
  },
  {
   "cell_type": "markdown",
   "id": "333ae84a-d4e0-450a-90c2-a183652d641f",
   "metadata": {},
   "source": [
    "# Q8. What are the three view objects in dictionaries? Use the three in-built methods in python to display these three view objects for the given dictionary. dict1 = {'Sport': 'Cricket' , 'Teams': ['India', 'Australia', 'England', 'South Africa', 'Sri Lanka', 'New Zealand']} "
   ]
  },
  {
   "cell_type": "markdown",
   "id": "e4d41ea9-7d40-4a27-9574-7461feee4aa6",
   "metadata": {},
   "source": [
    "#### Answer"
   ]
  },
  {
   "cell_type": "markdown",
   "id": "3fe4aad2-1276-47bb-8277-c6b741d3dab1",
   "metadata": {},
   "source": [
    "#### The main view objects of dictionary in python are keys, values and items. They provide a non-constant view of the dictionary’s entries.\n",
    "\n",
    "#### Keys holds all the keys of the dictionary, the values objects holds all the values, whereas the items holds the key-value pairs."
   ]
  },
  {
   "cell_type": "code",
   "execution_count": 2,
   "id": "598680a2-7889-4447-a968-922fc999ba0c",
   "metadata": {},
   "outputs": [],
   "source": [
    "dict1 = {'Sport': 'Cricket' , 'Teams': ['India', 'Australia', 'England', 'South Africa', 'Sri Lanka', 'New Zealand']}"
   ]
  },
  {
   "cell_type": "code",
   "execution_count": 3,
   "id": "932c45cd-2410-4b45-8fc9-a3b560430f98",
   "metadata": {},
   "outputs": [
    {
     "data": {
      "text/plain": [
       "{'Sport': 'Cricket',\n",
       " 'Teams': ['India',\n",
       "  'Australia',\n",
       "  'England',\n",
       "  'South Africa',\n",
       "  'Sri Lanka',\n",
       "  'New Zealand']}"
      ]
     },
     "execution_count": 3,
     "metadata": {},
     "output_type": "execute_result"
    }
   ],
   "source": [
    "dict1"
   ]
  },
  {
   "cell_type": "code",
   "execution_count": 4,
   "id": "36ea0498-fe03-4a58-b3ea-799015eafbaf",
   "metadata": {},
   "outputs": [
    {
     "data": {
      "text/plain": [
       "dict_keys(['Sport', 'Teams'])"
      ]
     },
     "execution_count": 4,
     "metadata": {},
     "output_type": "execute_result"
    }
   ],
   "source": [
    "dict1.keys() # keys holds all the key"
   ]
  },
  {
   "cell_type": "code",
   "execution_count": 5,
   "id": "a94717d1-c546-4f0d-8346-67ef29a4adaa",
   "metadata": {},
   "outputs": [
    {
     "data": {
      "text/plain": [
       "dict_values(['Cricket', ['India', 'Australia', 'England', 'South Africa', 'Sri Lanka', 'New Zealand']])"
      ]
     },
     "execution_count": 5,
     "metadata": {},
     "output_type": "execute_result"
    }
   ],
   "source": [
    "dict1.values() # values holds all the values"
   ]
  },
  {
   "cell_type": "code",
   "execution_count": 6,
   "id": "6ad90d00-19b4-4de1-8766-f9082e32f98e",
   "metadata": {},
   "outputs": [
    {
     "data": {
      "text/plain": [
       "dict_items([('Sport', 'Cricket'), ('Teams', ['India', 'Australia', 'England', 'South Africa', 'Sri Lanka', 'New Zealand'])])"
      ]
     },
     "execution_count": 6,
     "metadata": {},
     "output_type": "execute_result"
    }
   ],
   "source": [
    "dict1.items() # items holds the key and value pair."
   ]
  },
  {
   "cell_type": "code",
   "execution_count": null,
   "id": "d7b78dce-2714-4840-bd0f-c4123c2229bc",
   "metadata": {},
   "outputs": [],
   "source": []
  }
 ],
 "metadata": {
  "kernelspec": {
   "display_name": "Python 3 (ipykernel)",
   "language": "python",
   "name": "python3"
  },
  "language_info": {
   "codemirror_mode": {
    "name": "ipython",
    "version": 3
   },
   "file_extension": ".py",
   "mimetype": "text/x-python",
   "name": "python",
   "nbconvert_exporter": "python",
   "pygments_lexer": "ipython3",
   "version": "3.10.8"
  }
 },
 "nbformat": 4,
 "nbformat_minor": 5
}
