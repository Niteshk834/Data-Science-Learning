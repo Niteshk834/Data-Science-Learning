{
 "cells": [
  {
   "cell_type": "markdown",
   "id": "e0d4cee6-21b1-4d4b-9455-378ccd1a807c",
   "metadata": {},
   "source": [
    "# Assignment"
   ]
  },
  {
   "cell_type": "markdown",
   "id": "4d909475-1108-4a7e-9155-9112b6fe1958",
   "metadata": {},
   "source": [
    "### Print Equilateral Triange"
   ]
  },
  {
   "cell_type": "code",
   "execution_count": 1,
   "id": "69f539cd-1eaf-42ed-8e98-df62a340a069",
   "metadata": {},
   "outputs": [
    {
     "name": "stdout",
     "output_type": "stream",
     "text": [
      "      * \n",
      "     * * \n",
      "    * * * \n",
      "   * * * * \n",
      "  * * * * * \n",
      " * * * * * * \n",
      "* * * * * * * \n"
     ]
    }
   ],
   "source": [
    "n=7\n",
    "for i in range (1,n+1):\n",
    "    print(\" \"*(n-1), end=\"\")\n",
    "    print(\"* \"*i)\n",
    "    n=n-1"
   ]
  },
  {
   "cell_type": "code",
   "execution_count": null,
   "id": "e66afec8-20ac-4957-bcae-b9a644031828",
   "metadata": {},
   "outputs": [],
   "source": []
  }
 ],
 "metadata": {
  "kernelspec": {
   "display_name": "Python 3 (ipykernel)",
   "language": "python",
   "name": "python3"
  },
  "language_info": {
   "codemirror_mode": {
    "name": "ipython",
    "version": 3
   },
   "file_extension": ".py",
   "mimetype": "text/x-python",
   "name": "python",
   "nbconvert_exporter": "python",
   "pygments_lexer": "ipython3",
   "version": "3.10.8"
  }
 },
 "nbformat": 4,
 "nbformat_minor": 5
}
