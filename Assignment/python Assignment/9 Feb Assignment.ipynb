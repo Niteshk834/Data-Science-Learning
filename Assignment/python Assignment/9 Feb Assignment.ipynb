{
 "cells": [
  {
   "cell_type": "markdown",
   "id": "7f20af76-87fd-4a38-8fd7-80bf480f2965",
   "metadata": {},
   "source": [
    "## 9 Feb Assignment"
   ]
  },
  {
   "cell_type": "markdown",
   "id": "6cccf9c4-7277-4c39-8dd8-49ef6981534d",
   "metadata": {},
   "source": [
    "### Date:- 09.02.2023"
   ]
  },
  {
   "cell_type": "markdown",
   "id": "63dbb8e7-77de-449a-8941-f9ad488cb706",
   "metadata": {},
   "source": [
    "### Q1 Create a vehicle class with an init method having instance variables as name_of_vehicle, max_speed and average_of_vehicle.\n"
   ]
  },
  {
   "cell_type": "markdown",
   "id": "e34f7965-43a3-4105-9830-8f6367c88809",
   "metadata": {},
   "source": [
    "#### Answer:-"
   ]
  },
  {
   "cell_type": "code",
   "execution_count": 1,
   "id": "770aeae7-f88e-4f36-ac51-541fa460d757",
   "metadata": {},
   "outputs": [],
   "source": [
    "# defining parent class\n",
    "class vehicle:\n",
    "    # create constructor\n",
    "    def __init__(self,name_of_vehicle,max_speed,average_of_vehicle):\n",
    "        self.name_of_vehicle=name_of_vehicle\n",
    "        self.max_speed=max_speed\n",
    "        self.average_of_vehicle=average_of_vehicle"
   ]
  },
  {
   "cell_type": "code",
   "execution_count": 2,
   "id": "98366242-da36-405d-92ca-3b1d9b589490",
   "metadata": {},
   "outputs": [],
   "source": [
    "obj_vehicle=vehicle(\"BMW\",250,30)"
   ]
  },
  {
   "cell_type": "code",
   "execution_count": 3,
   "id": "b311acaf-9e90-44bf-9218-e32d62b9e791",
   "metadata": {},
   "outputs": [
    {
     "data": {
      "text/plain": [
       "'BMW'"
      ]
     },
     "execution_count": 3,
     "metadata": {},
     "output_type": "execute_result"
    }
   ],
   "source": [
    "obj_vehicle.name_of_vehicle"
   ]
  },
  {
   "cell_type": "code",
   "execution_count": 4,
   "id": "7d7d6e5b-46ca-4156-8bbd-c30bff6039b7",
   "metadata": {},
   "outputs": [
    {
     "data": {
      "text/plain": [
       "250"
      ]
     },
     "execution_count": 4,
     "metadata": {},
     "output_type": "execute_result"
    }
   ],
   "source": [
    "obj_vehicle.max_speed"
   ]
  },
  {
   "cell_type": "code",
   "execution_count": 5,
   "id": "eb21dce3-3008-4b3a-a386-c14de81b97d3",
   "metadata": {},
   "outputs": [
    {
     "data": {
      "text/plain": [
       "30"
      ]
     },
     "execution_count": 5,
     "metadata": {},
     "output_type": "execute_result"
    }
   ],
   "source": [
    "obj_vehicle.average_of_vehicle"
   ]
  },
  {
   "cell_type": "code",
   "execution_count": null,
   "id": "fa517cb4-fe85-4744-b93b-4bff29fc0653",
   "metadata": {},
   "outputs": [],
   "source": []
  },
  {
   "cell_type": "markdown",
   "id": "c6e16d14-f8b7-4032-a36e-5168170d531a",
   "metadata": {},
   "source": [
    "### Q2. Create a child class car from the vehicle class created in Que 1, which will inherit the vehicle class. Create a method named seating_capacity which takes capacity as an argument and returns the name of the vehicle and its seating capacity.\n",
    "\n"
   ]
  },
  {
   "cell_type": "markdown",
   "id": "31e58c6e-8305-4df3-8b2e-ce18c0cce412",
   "metadata": {},
   "source": [
    "#### Answer:-"
   ]
  },
  {
   "cell_type": "code",
   "execution_count": 10,
   "id": "5f1d913d-d83b-4c9a-b9d0-bcfbe29bf719",
   "metadata": {},
   "outputs": [],
   "source": [
    "class vehicle:\n",
    "    def __init__(self,name_of_vehicle,max_speed,average_of_vehicle):\n",
    "        self.name_of_vehicle=name_of_vehicle\n",
    "        self.max_speed=max_speed\n",
    "        self.average_of_vehicle=average_of_vehicle\n",
    "        \n",
    "    def seating_capacity(self,capacity):\n",
    "        return f\" The seating capacity of a {self.name_of_vehicle} is {capacity} passengers\"\n",
    "        \n",
    "class car(vehicle):\n",
    "    def seating_capacity(self,capacity=5): # Assigned default capacity of car is 5 passenger\n",
    "        return super().seating_capacity(capacity=5)\n",
    "        \n",
    "        \n",
    "    "
   ]
  },
  {
   "cell_type": "code",
   "execution_count": 11,
   "id": "44ee1d20-c185-4147-ab8b-3baf1c0b5982",
   "metadata": {},
   "outputs": [],
   "source": [
    "obj_car=car(\"BMW\",230,30)"
   ]
  },
  {
   "cell_type": "code",
   "execution_count": 12,
   "id": "def16723-ae35-45b4-b9df-c21201b5f1a3",
   "metadata": {},
   "outputs": [
    {
     "data": {
      "text/plain": [
       "' The seating capacity of a BMW is 5 passengers'"
      ]
     },
     "execution_count": 12,
     "metadata": {},
     "output_type": "execute_result"
    }
   ],
   "source": [
    "obj_car.seating_capacity()"
   ]
  },
  {
   "cell_type": "markdown",
   "id": "8d044043-79d3-4410-ba5d-a30804ff4b81",
   "metadata": {},
   "source": [
    "### Q3. What is multiple inheritance? Write a python code to demonstrate multiple inheritance."
   ]
  },
  {
   "cell_type": "markdown",
   "id": "2b2ba7c9-4b10-40a6-aa72-be2bb17ef4d0",
   "metadata": {},
   "source": [
    "#### Answer:-"
   ]
  },
  {
   "cell_type": "markdown",
   "id": "5263e829-a3e4-482e-b18e-2c72385075bb",
   "metadata": {},
   "source": [
    "In the multiple inheritence we can access all the class from one class."
   ]
  },
  {
   "cell_type": "code",
   "execution_count": 34,
   "id": "0661e47e-3562-4ec6-ad1d-8c207ba022dc",
   "metadata": {},
   "outputs": [],
   "source": [
    "class class1:\n",
    "    def test_class1(self):\n",
    "        print(\"I belong to class1\")\n",
    "        \n",
    "class class2:\n",
    "    def test_class2(self):\n",
    "        print(\"I belong to class2\")\n",
    "        \n",
    "class class3(class1,class2):\n",
    "    pass\n",
    "        "
   ]
  },
  {
   "cell_type": "code",
   "execution_count": 36,
   "id": "7f7300c9-ce78-4162-a027-bf2e0c26e3f4",
   "metadata": {},
   "outputs": [],
   "source": [
    "obj_class3=class3()"
   ]
  },
  {
   "cell_type": "code",
   "execution_count": 38,
   "id": "60536084-4ace-4017-ac9c-4cc181cec3af",
   "metadata": {},
   "outputs": [
    {
     "name": "stdout",
     "output_type": "stream",
     "text": [
      "I belong to class1\n"
     ]
    }
   ],
   "source": [
    "obj_class3.test_class1()"
   ]
  },
  {
   "cell_type": "code",
   "execution_count": 39,
   "id": "197882c7-2363-42d3-8beb-9341d6104cab",
   "metadata": {},
   "outputs": [
    {
     "name": "stdout",
     "output_type": "stream",
     "text": [
      "I belong to class2\n"
     ]
    }
   ],
   "source": [
    "obj_class3.test_class2()"
   ]
  },
  {
   "cell_type": "markdown",
   "id": "f29dbf46-ffc8-4423-a171-afe0484d63f5",
   "metadata": {},
   "source": [
    "### Q4. What are getter and setter in python? Create a class and create a getter and a setter method in this class."
   ]
  },
  {
   "cell_type": "markdown",
   "id": "5cf2e8e2-fa5d-428e-b255-771ab8e8a17a",
   "metadata": {},
   "source": [
    "#### Answer:-"
   ]
  },
  {
   "cell_type": "markdown",
   "id": "314e49fc-df9a-41b1-8e82-096ea56faf04",
   "metadata": {},
   "source": [
    "Getter: A method that allows you to access an attribute in a given class\n",
    "Setter: A method that allows you to set or mutate the value of an attribute in a class\n",
    "\n",
    "Implementing the getter and setter pattern requires:\n",
    "\n",
    "1. Making your attributes non-public\n",
    "2. Writing getter and setter methods for each attribute"
   ]
  },
  {
   "cell_type": "markdown",
   "id": "a441e73b-7006-49e7-a4bb-609f0081b889",
   "metadata": {},
   "source": [
    "getter methods return the target attribute’s value, while setter methods take a new value and assign it to the underlying attribute."
   ]
  },
  {
   "cell_type": "code",
   "execution_count": 56,
   "id": "4a4fd853-bb44-406e-8b69-794e410d7576",
   "metadata": {},
   "outputs": [],
   "source": [
    "class vehicle:\n",
    "    def __init__(self,name,speed):\n",
    "        self.__name=name # double underscore used for private access the value\n",
    "        self.__speed=speed\n",
    "        \n",
    "    def get_speed(self): # use the get function for access the data by external user directly.\n",
    "        return self.__speed\n",
    "    \n",
    "    def set_speed(self,speed): # external user allow to set the speed but they can see the speed only by get function.\n",
    "        self.__speed=0 if speed<0 else speed\n",
    "        \n",
    "    \n",
    "        "
   ]
  },
  {
   "cell_type": "code",
   "execution_count": 57,
   "id": "e9086fa2-ab12-4244-98fe-91e711690cae",
   "metadata": {},
   "outputs": [],
   "source": [
    "obj_vehicle=vehicle(\"ford\",350)"
   ]
  },
  {
   "cell_type": "code",
   "execution_count": 50,
   "id": "e2eb0883-323b-4ead-989b-6df7fc499c79",
   "metadata": {},
   "outputs": [
    {
     "ename": "AttributeError",
     "evalue": "'vehicle' object has no attribute '__name'",
     "output_type": "error",
     "traceback": [
      "\u001b[0;31m---------------------------------------------------------------------------\u001b[0m",
      "\u001b[0;31mAttributeError\u001b[0m                            Traceback (most recent call last)",
      "Cell \u001b[0;32mIn[50], line 1\u001b[0m\n\u001b[0;32m----> 1\u001b[0m \u001b[43mobj_vehicle\u001b[49m\u001b[38;5;241;43m.\u001b[39;49m\u001b[43m__name\u001b[49m \u001b[38;5;66;03m# output give error because instance is private\u001b[39;00m\n",
      "\u001b[0;31mAttributeError\u001b[0m: 'vehicle' object has no attribute '__name'"
     ]
    }
   ],
   "source": [
    "obj_vehicle.__name # if tab button pressed then no instance show and output give error because instance is private"
   ]
  },
  {
   "cell_type": "code",
   "execution_count": 51,
   "id": "292f417b-1075-45b8-8f8e-c6b3664f502c",
   "metadata": {},
   "outputs": [
    {
     "data": {
      "text/plain": [
       "'ford'"
      ]
     },
     "execution_count": 51,
     "metadata": {},
     "output_type": "execute_result"
    }
   ],
   "source": [
    "# for access the attributes\n",
    "obj_vehicle._vehicle__name"
   ]
  },
  {
   "cell_type": "code",
   "execution_count": 55,
   "id": "efee2f16-5ed0-4b13-aa99-b6b9138d02b4",
   "metadata": {},
   "outputs": [
    {
     "data": {
      "text/plain": [
       "350"
      ]
     },
     "execution_count": 55,
     "metadata": {},
     "output_type": "execute_result"
    }
   ],
   "source": [
    "obj_vehicle.get_speed()"
   ]
  },
  {
   "cell_type": "code",
   "execution_count": 58,
   "id": "a2a8b906-d9b9-4cce-ae09-f4b8c3781fc3",
   "metadata": {},
   "outputs": [],
   "source": [
    "obj_vehicle.set_speed(300)"
   ]
  },
  {
   "cell_type": "code",
   "execution_count": 59,
   "id": "95c8345e-61a2-4411-8c87-b784c8f65b53",
   "metadata": {},
   "outputs": [
    {
     "data": {
      "text/plain": [
       "300"
      ]
     },
     "execution_count": 59,
     "metadata": {},
     "output_type": "execute_result"
    }
   ],
   "source": [
    "obj_vehicle.get_speed()"
   ]
  },
  {
   "cell_type": "markdown",
   "id": "704c594b-e604-49d4-922f-37a9b143b4de",
   "metadata": {},
   "source": [
    "### Q5.What is method overriding in python? Write a python code to demonstrate method overriding."
   ]
  },
  {
   "cell_type": "markdown",
   "id": "4f5f7d26-dfa1-4353-812d-467548c2adb3",
   "metadata": {},
   "source": [
    "#### Answer:-"
   ]
  },
  {
   "cell_type": "markdown",
   "id": "855391f3-6161-46ab-b630-605660b40355",
   "metadata": {},
   "source": [
    "When the same returns, parameters, or name is input in the subclass as in the parent class, then the method of implementation in the subclass overrides the method as mentioned in the parent class. This is known as method overriding.\n",
    "Method overriding comes into the picture when the child class offers the exact implementation of the method provided by the parent class. "
   ]
  },
  {
   "cell_type": "markdown",
   "id": "a0be0353-0ae9-47d2-a88f-91d4c5a1b071",
   "metadata": {},
   "source": [
    "##### Condition:"
   ]
  },
  {
   "cell_type": "markdown",
   "id": "3ca8db89-5ab9-4732-880d-56a656a57a73",
   "metadata": {},
   "source": [
    "1. Overriding a method in the same class is not allowed. So, you need to do that in the child class by implementing the Inheritance concept.\n",
    "2. If I want to override the Parent Class method, create a function in the Child with the same name and number of parameters. This is called function overriding in Python."
   ]
  },
  {
   "cell_type": "code",
   "execution_count": 2,
   "id": "22b279a1-91cd-4fed-b134-665a5077bbb1",
   "metadata": {},
   "outputs": [],
   "source": [
    "# defining parent class\n",
    "class vehicle():\n",
    "    # constructor\n",
    "    def __init__(self):\n",
    "        self.belong=\"I belong to vehicle class \"\n",
    "    \n",
    "    # parent's show method\n",
    "    def show(self):\n",
    "        print(self.belong)\n",
    "        \n",
    "# defining child class\n",
    "class car(vehicle):\n",
    "    # constructor\n",
    "    def __init__(self):\n",
    "        self.belong=\"I belong to child class\"\n",
    "        \n",
    "    # child show method\n",
    "    def show(self):\n",
    "        print(self.belong)"
   ]
  },
  {
   "cell_type": "code",
   "execution_count": 3,
   "id": "a29690ed-e661-4984-b1d1-db6ef4062c48",
   "metadata": {},
   "outputs": [],
   "source": [
    "obj_vehicle=vehicle()"
   ]
  },
  {
   "cell_type": "code",
   "execution_count": 4,
   "id": "d4f29158-d97f-42db-a2f7-7fad26514a50",
   "metadata": {},
   "outputs": [
    {
     "data": {
      "text/plain": [
       "'I belong to vehicle class '"
      ]
     },
     "execution_count": 4,
     "metadata": {},
     "output_type": "execute_result"
    }
   ],
   "source": [
    "obj_vehicle.belong"
   ]
  },
  {
   "cell_type": "code",
   "execution_count": 6,
   "id": "0b5de4e5-cb0f-44a7-962d-cfec19b0a822",
   "metadata": {},
   "outputs": [
    {
     "name": "stdout",
     "output_type": "stream",
     "text": [
      "I belong to vehicle class \n"
     ]
    }
   ],
   "source": [
    "obj_vehicle.show()"
   ]
  },
  {
   "cell_type": "code",
   "execution_count": 7,
   "id": "12ec338e-7d0f-44ab-87b1-96e82d7a3fa8",
   "metadata": {},
   "outputs": [],
   "source": [
    "obj_car=car()"
   ]
  },
  {
   "cell_type": "code",
   "execution_count": 8,
   "id": "dcf9fdd4-d80e-46f3-97f3-59f788c9e469",
   "metadata": {},
   "outputs": [
    {
     "data": {
      "text/plain": [
       "'I belong to child class'"
      ]
     },
     "execution_count": 8,
     "metadata": {},
     "output_type": "execute_result"
    }
   ],
   "source": [
    "obj_car.belong"
   ]
  },
  {
   "cell_type": "code",
   "execution_count": 9,
   "id": "d1ce10fa-d0c8-435d-bf86-4b2622032eaa",
   "metadata": {},
   "outputs": [
    {
     "name": "stdout",
     "output_type": "stream",
     "text": [
      "I belong to child class\n"
     ]
    }
   ],
   "source": [
    "obj_car.show()"
   ]
  },
  {
   "cell_type": "code",
   "execution_count": null,
   "id": "eec3baf0-5ece-4801-801e-2ee006c2b942",
   "metadata": {},
   "outputs": [],
   "source": []
  },
  {
   "cell_type": "code",
   "execution_count": null,
   "id": "00a40be0-838c-42a4-b44b-26d5e2c37120",
   "metadata": {},
   "outputs": [],
   "source": []
  }
 ],
 "metadata": {
  "kernelspec": {
   "display_name": "Python 3 (ipykernel)",
   "language": "python",
   "name": "python3"
  },
  "language_info": {
   "codemirror_mode": {
    "name": "ipython",
    "version": 3
   },
   "file_extension": ".py",
   "mimetype": "text/x-python",
   "name": "python",
   "nbconvert_exporter": "python",
   "pygments_lexer": "ipython3",
   "version": "3.10.8"
  }
 },
 "nbformat": 4,
 "nbformat_minor": 5
}
