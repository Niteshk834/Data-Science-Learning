{
 "cells": [
  {
   "cell_type": "markdown",
   "id": "fe82589d-e20b-4ec8-957e-a55f83d5021d",
   "metadata": {},
   "source": [
    "# 10th Feb 2023 Assignment"
   ]
  },
  {
   "cell_type": "markdown",
   "id": "b7253134-c270-4526-acf2-6acda4e31176",
   "metadata": {},
   "source": [
    "## Date- 10.02.2023"
   ]
  },
  {
   "cell_type": "markdown",
   "id": "e4df1e15-30b6-467d-8743-67525dea2365",
   "metadata": {},
   "source": [
    "## Q1. Which function is used to open a file? What are the different modes of opening a file? Explain each mode of file opening.\n",
    "\n"
   ]
  },
  {
   "cell_type": "markdown",
   "id": "870eee9e-6cf2-4d77-9758-64c13effd7b4",
   "metadata": {},
   "source": [
    "#### Answer"
   ]
  },
  {
   "cell_type": "markdown",
   "id": "6d710b72-54ea-4fc2-91f8-de60ad7ce1ba",
   "metadata": {},
   "source": [
    "open() function are used to open a file."
   ]
  },
  {
   "cell_type": "code",
   "execution_count": null,
   "id": "f036b8f1-cbd4-40ee-9ab1-bcb96f4678aa",
   "metadata": {},
   "outputs": [],
   "source": [
    "# syntax\n",
    "f=open(\"test.txt\")"
   ]
  },
  {
   "cell_type": "markdown",
   "id": "e4cbb102-f5a2-4330-8e1f-5a0c5972e664",
   "metadata": {},
   "source": [
    "Following are the different modes of opening a file:-\n",
    "1. \"x\" - Create - Creates the specified file, returns an error if the file exists\n",
    "\n",
    "2. \"w\" - Write - Opens a file for writing, creates the file if it does not exist\n",
    "\n",
    "3. \"r\" - Read - Default value. Opens a file for reading, error if the file does not exist\n",
    "\n",
    "4. \"a\" - Append - Opens a file for appending, creates the file if it does not exist\n",
    "\n",
    "5. \"b\" - Binary - Binary mode (e.g. images)"
   ]
  },
  {
   "cell_type": "markdown",
   "id": "739122b3-625f-42ef-be74-f8146b895b7e",
   "metadata": {},
   "source": [
    "### 1. \"x\" - Create - Creates the specified file, returns an error if the file exists"
   ]
  },
  {
   "cell_type": "code",
   "execution_count": 1,
   "id": "e71205ad-f007-45b0-97de-13bb6d59e6f4",
   "metadata": {},
   "outputs": [],
   "source": [
    "f=open(\"myfiles.txt\",\"x\") # file created in name of myfiles"
   ]
  },
  {
   "cell_type": "markdown",
   "id": "d4d6335e-b4aa-4c34-abed-aa2b603d4411",
   "metadata": {},
   "source": [
    "### 2. \"w\" - Write - Opens a file for writing, creates the file if it does not exist"
   ]
  },
  {
   "cell_type": "code",
   "execution_count": 2,
   "id": "1eba5ecf-93b7-444c-a590-7d79ed57be1a",
   "metadata": {},
   "outputs": [],
   "source": [
    "f=open(\"myfiles.txt\",\"w\") # Here we try to open the file in write mode "
   ]
  },
  {
   "cell_type": "code",
   "execution_count": 3,
   "id": "5cfdeac6-2750-4e45-b885-963734613a07",
   "metadata": {},
   "outputs": [
    {
     "data": {
      "text/plain": [
       "39"
      ]
     },
     "execution_count": 3,
     "metadata": {},
     "output_type": "execute_result"
    }
   ],
   "source": [
    "f.write(\"This is the method of writing something\") # we write something in myfile.txt\n",
    "# output get only show memory "
   ]
  },
  {
   "cell_type": "code",
   "execution_count": 4,
   "id": "9d9594e1-20ba-4735-ad50-43e779d8f740",
   "metadata": {},
   "outputs": [],
   "source": [
    "# for showing the writable thing in myfile we used:\n",
    "f.close()"
   ]
  },
  {
   "cell_type": "markdown",
   "id": "b6ef3649-2dda-40df-9b03-bf72839f1be8",
   "metadata": {},
   "source": [
    "### 3. \"r\" - Read - Default value. Opens a file for reading, error if the file does not exist"
   ]
  },
  {
   "cell_type": "code",
   "execution_count": null,
   "id": "b9ae068d-09c9-4016-8ed0-71fb80d9c756",
   "metadata": {},
   "outputs": [],
   "source": [
    "# Now we want to open the file here for reading the writable thing"
   ]
  },
  {
   "cell_type": "code",
   "execution_count": 8,
   "id": "111cecd2-0a76-4134-a290-543eaf4db59f",
   "metadata": {},
   "outputs": [
    {
     "data": {
      "text/plain": [
       "'This is the method of writing something'"
      ]
     },
     "execution_count": 8,
     "metadata": {},
     "output_type": "execute_result"
    }
   ],
   "source": [
    "f= open(\"myfiles.txt\",\"r\")\n",
    "f.read()"
   ]
  },
  {
   "cell_type": "markdown",
   "id": "7d6fae17-7713-477e-bebc-ec460950539a",
   "metadata": {},
   "source": [
    "### 4. \"a\" - Append - Opens a file for appending, creates the file if it does not exist"
   ]
  },
  {
   "cell_type": "code",
   "execution_count": null,
   "id": "f15af774-69ca-4f6f-bedd-9ac9a0486656",
   "metadata": {},
   "outputs": [],
   "source": [
    "# Now we want to add something new text then we will used append method"
   ]
  },
  {
   "cell_type": "code",
   "execution_count": 10,
   "id": "f9cfb6ac-0b64-4593-b11e-56abba906be4",
   "metadata": {},
   "outputs": [
    {
     "data": {
      "text/plain": [
       "50"
      ]
     },
     "execution_count": 10,
     "metadata": {},
     "output_type": "execute_result"
    }
   ],
   "source": [
    "f=open(\"myfiles.txt\",\"a\")\n",
    "f.write(\"This is append method for write more thing in file\")"
   ]
  },
  {
   "cell_type": "code",
   "execution_count": 11,
   "id": "1f633ad1-4ce3-4122-8b33-21c45e2bec70",
   "metadata": {},
   "outputs": [],
   "source": [
    "# for showing the writable thing firstly close the file\n",
    "f.close()"
   ]
  },
  {
   "cell_type": "code",
   "execution_count": 14,
   "id": "8510799c-7331-4559-a9ad-af6da4377a4f",
   "metadata": {},
   "outputs": [
    {
     "data": {
      "text/plain": [
       "'This is the method of writing somethingThis is append method for write more thing in file'"
      ]
     },
     "execution_count": 14,
     "metadata": {},
     "output_type": "execute_result"
    }
   ],
   "source": [
    "# if we want to read all the writable thing here\n",
    "f=open(\"myfiles.txt\",\"r\")\n",
    "f.read()"
   ]
  },
  {
   "cell_type": "markdown",
   "id": "e66d1159-d65e-4c15-9df8-9176b33de0b4",
   "metadata": {},
   "source": [
    "### 5. \"b\" - Binary - Binary mode"
   ]
  },
  {
   "cell_type": "code",
   "execution_count": 20,
   "id": "1a80f5ff-80d8-409d-883c-bd0b30715d47",
   "metadata": {},
   "outputs": [],
   "source": [
    "# firstly we have to write something in binary\n",
    "# Here we used another way to open file\n",
    "\n",
    "with open(\"myfiles.txt\",\"wb\") as f: # wb stand for write binary\n",
    "    f.write(b\"\\y01\\z02\\c03\\d04\")\n",
    "    "
   ]
  },
  {
   "cell_type": "code",
   "execution_count": 21,
   "id": "681c10bb-e31d-482d-8f39-f691e80ac606",
   "metadata": {},
   "outputs": [],
   "source": [
    "f.close()"
   ]
  },
  {
   "cell_type": "code",
   "execution_count": 24,
   "id": "72e969dc-0e43-4918-9d5b-9842318dad9f",
   "metadata": {},
   "outputs": [
    {
     "name": "stdout",
     "output_type": "stream",
     "text": [
      "b'\\\\y01\\\\z02\\\\c03\\\\d04'\n"
     ]
    }
   ],
   "source": [
    "# now we perform here for read the binary data\n",
    "with open (\"myfiles.txt\",\"rb\") as f:\n",
    "    print(f.read())"
   ]
  },
  {
   "cell_type": "markdown",
   "id": "a8dae9c3-c494-4d92-9fb2-92e27e1e9cfb",
   "metadata": {},
   "source": [
    "## Q2. Why close() function is used? Why is it important to close a file?"
   ]
  },
  {
   "cell_type": "markdown",
   "id": "3e4714a1-1cc7-4871-8b07-502dec62f57a",
   "metadata": {},
   "source": [
    "#### Answer:-"
   ]
  },
  {
   "cell_type": "markdown",
   "id": "626bd855-1fbf-4138-922a-21e5a30f4598",
   "metadata": {},
   "source": [
    "##### file.close() is the method to closes an open file.\n",
    "\n",
    "##### we should always close our files becuase in some cases, due to buffering, changes made to a file may not show until we close the file."
   ]
  },
  {
   "cell_type": "markdown",
   "id": "8db7e2d7-f5e7-4b50-a87a-2b1e573b53bc",
   "metadata": {},
   "source": [
    "## Q3. Write a python program to create a text file. Write ‘I want to become a Data Scientist’ in that file. Then close the file. Open this file and read the content of the file.\n"
   ]
  },
  {
   "cell_type": "markdown",
   "id": "e3ec4705-c52e-4fdd-a4eb-4486ff4fed5d",
   "metadata": {},
   "source": [
    "#### Answer:-"
   ]
  },
  {
   "cell_type": "code",
   "execution_count": 25,
   "id": "7aa1a80a-6c9a-418e-8e65-f606b065fa38",
   "metadata": {},
   "outputs": [],
   "source": [
    "# create a text file\n",
    "f=open(\"nkfiles.txt\",\"x\")"
   ]
  },
  {
   "cell_type": "code",
   "execution_count": 31,
   "id": "0bcc335e-bb79-44a2-9e7a-7fde29502263",
   "metadata": {},
   "outputs": [
    {
     "data": {
      "text/plain": [
       "33"
      ]
     },
     "execution_count": 31,
     "metadata": {},
     "output_type": "execute_result"
    }
   ],
   "source": [
    "# write something in file\n",
    "f=open(\"nkfiles.txt\",\"w\")\n",
    "f.write(\"I want to become a Data Scientist\")"
   ]
  },
  {
   "cell_type": "code",
   "execution_count": 32,
   "id": "7f364609-e07a-467e-9783-9bb14a03180c",
   "metadata": {},
   "outputs": [],
   "source": [
    "# close the file\n",
    "f.close()"
   ]
  },
  {
   "cell_type": "code",
   "execution_count": 37,
   "id": "3c8d8fba-fd4b-4c35-83a2-25ad7bb5cef0",
   "metadata": {},
   "outputs": [
    {
     "data": {
      "text/plain": [
       "'I want to become a Data Scientist'"
      ]
     },
     "execution_count": 37,
     "metadata": {},
     "output_type": "execute_result"
    }
   ],
   "source": [
    "# open and read the content of file\n",
    "f=open(\"nkfiles.txt\",\"r\")\n",
    "f.read()"
   ]
  },
  {
   "cell_type": "code",
   "execution_count": 38,
   "id": "754e27ec-8213-4cb9-950c-14d4651171ab",
   "metadata": {},
   "outputs": [],
   "source": [
    "f.close()"
   ]
  },
  {
   "cell_type": "markdown",
   "id": "63f92100-e1d8-4386-b950-9303cfab4f01",
   "metadata": {},
   "source": [
    "## Q4. Explain the following with python code: read(), readline() and readlines()."
   ]
  },
  {
   "cell_type": "markdown",
   "id": "28495ca7-ece0-467c-90a7-09d520b14c7e",
   "metadata": {},
   "source": [
    "#### Answer:-"
   ]
  },
  {
   "cell_type": "code",
   "execution_count": 39,
   "id": "a04bdaf3-9fa4-4668-bfda-bfa0371a8d68",
   "metadata": {},
   "outputs": [],
   "source": [
    "# create a file\n",
    "f=open(\"readfile.txt\",\"x\")"
   ]
  },
  {
   "cell_type": "code",
   "execution_count": 52,
   "id": "6af07507-8fa0-463e-b5a9-2b028c67b92f",
   "metadata": {},
   "outputs": [],
   "source": [
    "# write something in file\n",
    "f=open(\"readfile.txt\",\"w\")\n",
    "f.write(\"\"\" Explain the following with python\n",
    "code : read(),readline() \n",
    "and readlines()\"\"\")\n",
    "f.close()"
   ]
  },
  {
   "cell_type": "code",
   "execution_count": 53,
   "id": "fe227546-750e-4bf0-a375-d569d2656f8c",
   "metadata": {},
   "outputs": [
    {
     "data": {
      "text/plain": [
       "' Explain the following with python\\ncode : read(),readline() \\nand readlines()'"
      ]
     },
     "execution_count": 53,
     "metadata": {},
     "output_type": "execute_result"
    }
   ],
   "source": [
    "# read operation\n",
    "f=open(\"readfile.txt\",\"r\")\n",
    "f.read()"
   ]
  },
  {
   "cell_type": "code",
   "execution_count": 55,
   "id": "5cfc6d86-644a-40d6-989a-2bcb3cdde2ad",
   "metadata": {},
   "outputs": [
    {
     "data": {
      "text/plain": [
       "0"
      ]
     },
     "execution_count": 55,
     "metadata": {},
     "output_type": "execute_result"
    }
   ],
   "source": [
    "# for readline operation firstly need to move cursor in starting position\n",
    "f.seek(0)"
   ]
  },
  {
   "cell_type": "code",
   "execution_count": 56,
   "id": "7c58ca51-508a-48bb-b7cb-f83345304acc",
   "metadata": {},
   "outputs": [
    {
     "data": {
      "text/plain": [
       "' Explain the following with python\\n'"
      ]
     },
     "execution_count": 56,
     "metadata": {},
     "output_type": "execute_result"
    }
   ],
   "source": [
    "# readline operation read the first line of text\n",
    "f.readline()"
   ]
  },
  {
   "cell_type": "code",
   "execution_count": 57,
   "id": "50634045-639d-4e8c-9a06-45ae820d8e73",
   "metadata": {},
   "outputs": [
    {
     "data": {
      "text/plain": [
       "0"
      ]
     },
     "execution_count": 57,
     "metadata": {},
     "output_type": "execute_result"
    }
   ],
   "source": [
    "# readlines operation read the more than one lines of text\n",
    "f.seek(0)"
   ]
  },
  {
   "cell_type": "code",
   "execution_count": 58,
   "id": "cd2757e7-9f79-4b9f-bd0d-1d560eefd7b5",
   "metadata": {},
   "outputs": [
    {
     "data": {
      "text/plain": [
       "[' Explain the following with python\\n',\n",
       " 'code : read(),readline() \\n',\n",
       " 'and readlines()']"
      ]
     },
     "execution_count": 58,
     "metadata": {},
     "output_type": "execute_result"
    }
   ],
   "source": [
    "f.readlines()"
   ]
  },
  {
   "cell_type": "markdown",
   "id": "96e17cbd-10bd-4d96-8f40-9484f7a2bcd1",
   "metadata": {},
   "source": [
    "## Q5. Explain why with statement is used with open(). What is the advantage of using with statement and open() together?\n",
    "\n"
   ]
  },
  {
   "cell_type": "markdown",
   "id": "de363fed-d87b-4aa4-8f6c-52a0d56cee74",
   "metadata": {},
   "source": [
    "#### Answer:-"
   ]
  },
  {
   "cell_type": "markdown",
   "id": "932e418f-b490-4ce4-9c99-6cf18bd63a70",
   "metadata": {},
   "source": [
    "The with statement works with the open() function to open a file.\n",
    "Unlike open() where we have to close the file with the close() method, the with statement closes the file for us automatically or by default.\n",
    "\n",
    "This is because the with statement calls 2 built-in methods behind the scene : __enter()__ and __exit()__.\n",
    "\n",
    "The __exit()__ method closes the file when the operation we specify is done."
   ]
  },
  {
   "cell_type": "code",
   "execution_count": 68,
   "id": "49045891-62a7-4068-a214-1e81fc09a328",
   "metadata": {},
   "outputs": [
    {
     "name": "stdout",
     "output_type": "stream",
     "text": [
      " Explain the following with python\n",
      "code : read(),readline() \n",
      "and readlines()\n"
     ]
    }
   ],
   "source": [
    "# perform read operation\n",
    "with open(\"readfile.txt\",\"r\") as f:\n",
    "    print(f.read())"
   ]
  },
  {
   "cell_type": "code",
   "execution_count": 71,
   "id": "12ff2419-72ce-4165-93ff-e505756aedbe",
   "metadata": {},
   "outputs": [
    {
     "name": "stdout",
     "output_type": "stream",
     "text": [
      "40\n"
     ]
    }
   ],
   "source": [
    "# We can also used for write operation\n",
    "with open(\"readfile.txt\",\"w\") as f:\n",
    "    print(f.write(\"we are using with and open function here\"))\n",
    "    "
   ]
  },
  {
   "cell_type": "code",
   "execution_count": 72,
   "id": "17936720-6010-4675-9dd8-870ad2e45333",
   "metadata": {},
   "outputs": [
    {
     "name": "stdout",
     "output_type": "stream",
     "text": [
      "we are using with and open function here\n"
     ]
    }
   ],
   "source": [
    "# for read the writable thing we dont need to close the file\n",
    "with open(\"readfile.txt\",\"r\") as f:\n",
    "    print(f.read())"
   ]
  },
  {
   "cell_type": "markdown",
   "id": "8da0dce5-68c1-4269-9448-c05c04f800bb",
   "metadata": {},
   "source": [
    "## Q6. Explain the write() and writelines() functions. Give a suitable example."
   ]
  },
  {
   "cell_type": "markdown",
   "id": "503b4d35-4e82-4f81-83da-3b32a86037d8",
   "metadata": {},
   "source": [
    "#### Answer:-"
   ]
  },
  {
   "cell_type": "markdown",
   "id": "c67cf33e-d521-4d85-8341-c4f7108ba071",
   "metadata": {},
   "source": [
    "The write() function will write the content(string) in the file without adding any extra characters."
   ]
  },
  {
   "cell_type": "code",
   "execution_count": 85,
   "id": "c00f0a77-264a-4a70-b0fd-02f354b67cc0",
   "metadata": {},
   "outputs": [],
   "source": [
    "# create a file\n",
    "f=open(\"write_thing.text\",\"x\")"
   ]
  },
  {
   "cell_type": "code",
   "execution_count": 86,
   "id": "4f8947ff-cbe1-469c-adfe-decd6f1306b5",
   "metadata": {},
   "outputs": [
    {
     "name": "stdout",
     "output_type": "stream",
     "text": [
      "40\n"
     ]
    }
   ],
   "source": [
    "# for example\n",
    "with open(\"write_thing.text\",\"w\") as f:\n",
    "    print(f.write(\"we are explain here about write function\"))"
   ]
  },
  {
   "cell_type": "code",
   "execution_count": 88,
   "id": "28df2edb-456e-41a0-85e1-6a0062a98f4f",
   "metadata": {},
   "outputs": [
    {
     "name": "stdout",
     "output_type": "stream",
     "text": [
      "we are explain here about write function\n"
     ]
    }
   ],
   "source": [
    "# read operation\n",
    "with open(\"write_thing.text\",\"r\") as f:\n",
    "    print(f.read())"
   ]
  },
  {
   "cell_type": "markdown",
   "id": "b7941a5d-c092-4356-b95b-b9cd6252b8c3",
   "metadata": {},
   "source": [
    "The writelines() function will write the content(list of string) in the file."
   ]
  },
  {
   "cell_type": "code",
   "execution_count": 89,
   "id": "ff3504e5-7cd5-4795-8c06-b9893af960d8",
   "metadata": {},
   "outputs": [
    {
     "name": "stdin",
     "output_type": "stream",
     "text": [
      "Enter the name of course available: Data science\n",
      "Enter the name of course available: we dev\n",
      "Enter the name of course available: java\n"
     ]
    },
    {
     "name": "stdout",
     "output_type": "stream",
     "text": [
      "Finally here is end and Data is wriiten in file\n"
     ]
    }
   ],
   "source": [
    "# writelines operation\n",
    "f=open(\"write_thing.text\",\"w\")\n",
    "lst=[]\n",
    "for i in range(3): # range 3 means we can write 3 line of text\n",
    "        write_thing=input(\"Enter the name of course available:\")       \n",
    "        lst.append(write_thing+\"\\n\")\n",
    "f.writelines(lst)\n",
    "f.close()\n",
    "print(\"Finally here is end and Data is wriiten in file\")    "
   ]
  },
  {
   "cell_type": "markdown",
   "id": "b1d24591-fd9e-4d22-b434-7ba544dac14c",
   "metadata": {},
   "source": [
    "The only difference between the write() and writelines() is that write() is used to write a string to an already opened file while writelines() method is used to write a list of strings in an opened file."
   ]
  },
  {
   "cell_type": "code",
   "execution_count": null,
   "id": "d2142d3a-9214-419e-8dee-0ef39b3a8aae",
   "metadata": {},
   "outputs": [],
   "source": []
  }
 ],
 "metadata": {
  "kernelspec": {
   "display_name": "Python 3 (ipykernel)",
   "language": "python",
   "name": "python3"
  },
  "language_info": {
   "codemirror_mode": {
    "name": "ipython",
    "version": 3
   },
   "file_extension": ".py",
   "mimetype": "text/x-python",
   "name": "python",
   "nbconvert_exporter": "python",
   "pygments_lexer": "ipython3",
   "version": "3.10.8"
  }
 },
 "nbformat": 4,
 "nbformat_minor": 5
}
