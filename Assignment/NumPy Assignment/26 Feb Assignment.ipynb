{
 "cells": [
  {
   "cell_type": "markdown",
   "id": "6a92acb8-a43a-4735-8989-109b5d9d90b9",
   "metadata": {},
   "source": [
    "## 26 Feb Assignment- NumPy\n",
    "\n",
    "### Date:- 26 Feb 2023"
   ]
  },
  {
   "cell_type": "code",
   "execution_count": null,
   "id": "7ca2dc04-d453-4f4d-b9c0-995e82853038",
   "metadata": {},
   "outputs": [],
   "source": [
    "Consider the below code to answer further questions: "
   ]
  },
  {
   "cell_type": "code",
   "execution_count": 11,
   "id": "5293f33c-92eb-4e97-8cfa-338da7ee3979",
   "metadata": {},
   "outputs": [],
   "source": [
    "import numpy as np \n",
    "list_ = [ \"1\" , \"2\" , \"3\" , \"4\" , \"5\" ] \n",
    "array_list = np.array(object = list_)  "
   ]
  },
  {
   "cell_type": "markdown",
   "id": "c27330da-5387-4c45-aa2d-5507a881333c",
   "metadata": {},
   "source": [
    "# Q1. Is there any difference in the data type of variables list_ and array_list? If there is then write a code  to print the data types of both the variables. \n"
   ]
  },
  {
   "cell_type": "markdown",
   "id": "e942e66e-65aa-407e-9404-760cfdbcc80a",
   "metadata": {},
   "source": [
    "## Answer:-"
   ]
  },
  {
   "cell_type": "code",
   "execution_count": 3,
   "id": "99122375-7cbc-448a-9a9f-5e649f13ed88",
   "metadata": {},
   "outputs": [
    {
     "data": {
      "text/plain": [
       "['1', '2', '3', '4', '5']"
      ]
     },
     "execution_count": 3,
     "metadata": {},
     "output_type": "execute_result"
    }
   ],
   "source": [
    "list_"
   ]
  },
  {
   "cell_type": "code",
   "execution_count": 4,
   "id": "6619fb96-903d-458a-be4c-7ece516ac9b5",
   "metadata": {},
   "outputs": [
    {
     "data": {
      "text/plain": [
       "array(['1', '2', '3', '4', '5'], dtype='<U1')"
      ]
     },
     "execution_count": 4,
     "metadata": {},
     "output_type": "execute_result"
    }
   ],
   "source": [
    "array_list"
   ]
  },
  {
   "cell_type": "code",
   "execution_count": 7,
   "id": "cb459fe4-424e-45aa-bf50-d8a46c70861d",
   "metadata": {},
   "outputs": [
    {
     "data": {
      "text/plain": [
       "list"
      ]
     },
     "execution_count": 7,
     "metadata": {},
     "output_type": "execute_result"
    }
   ],
   "source": [
    "type(list_)"
   ]
  },
  {
   "cell_type": "code",
   "execution_count": 8,
   "id": "63bad7bb-255f-4ded-adcf-96a224024e33",
   "metadata": {},
   "outputs": [
    {
     "data": {
      "text/plain": [
       "numpy.ndarray"
      ]
     },
     "execution_count": 8,
     "metadata": {},
     "output_type": "execute_result"
    }
   ],
   "source": [
    "type(array_list)"
   ]
  },
  {
   "cell_type": "markdown",
   "id": "726ef2c3-43e7-4b45-b84c-d11913d7a4ee",
   "metadata": {},
   "source": [
    "# Q2. Write a code to print the data type of each and every element of both the variables list_ and  arra_list. \n"
   ]
  },
  {
   "cell_type": "markdown",
   "id": "087e3e3d-69d3-48c2-8a52-469bc28d0bb8",
   "metadata": {},
   "source": [
    "## Answer:-"
   ]
  },
  {
   "cell_type": "code",
   "execution_count": 13,
   "id": "c05ada13-2506-4b5a-99b0-aab69b504ec2",
   "metadata": {},
   "outputs": [
    {
     "name": "stdout",
     "output_type": "stream",
     "text": [
      "type of 1 is : <class 'str'>\n",
      "type of 2 is : <class 'str'>\n",
      "type of 3 is : <class 'str'>\n",
      "type of 4 is : <class 'str'>\n",
      "type of 5 is : <class 'str'>\n"
     ]
    }
   ],
   "source": [
    "# print element present in variable list_\n",
    "for i in list_:\n",
    "    ty=type(i)\n",
    "    print(f\"type of {i} is :\",ty)"
   ]
  },
  {
   "cell_type": "code",
   "execution_count": 12,
   "id": "3124fea0-601d-4b3c-b5ae-0c762a825ec5",
   "metadata": {},
   "outputs": [
    {
     "name": "stdout",
     "output_type": "stream",
     "text": [
      "type of 1 is: <class 'numpy.str_'>\n",
      "type of 2 is: <class 'numpy.str_'>\n",
      "type of 3 is: <class 'numpy.str_'>\n",
      "type of 4 is: <class 'numpy.str_'>\n",
      "type of 5 is: <class 'numpy.str_'>\n"
     ]
    }
   ],
   "source": [
    "# print element present in variable array_list\n",
    "for i in array_list:\n",
    "    ty=type(i)\n",
    "    print(f\"type of {i} is:\",ty)"
   ]
  },
  {
   "cell_type": "code",
   "execution_count": null,
   "id": "d6bbeaec-21c4-4086-b60d-b0a45c172d11",
   "metadata": {},
   "outputs": [],
   "source": []
  },
  {
   "cell_type": "markdown",
   "id": "225af3e6-70fb-49d6-9624-015f77812047",
   "metadata": {},
   "source": [
    "# Q3. Considering the following changes in the variable, array_list: \n",
    "array_list = np.array(object = list_, dtype = int) \n",
    "\n",
    "Will there be any difference in the data type of the elements present in both the variables, list_ and  arra_list? If so then print the data types of each and every element present in both the variables, list_  and arra_list."
   ]
  },
  {
   "cell_type": "markdown",
   "id": "d3146dcb-a009-4d57-bfc7-2644214afed3",
   "metadata": {},
   "source": [
    "## Answer:-"
   ]
  },
  {
   "cell_type": "code",
   "execution_count": 16,
   "id": "d879752f-5d4d-4d0e-a9e4-385a38cb8d93",
   "metadata": {},
   "outputs": [],
   "source": [
    "import numpy as np \n",
    "list_ = [ \"1\" , \"2\" , \"3\" , \"4\" , \"5\" ] \n",
    "# new array\n",
    "array_list = np.array(object = list_, dtype = int)"
   ]
  },
  {
   "cell_type": "code",
   "execution_count": 17,
   "id": "d020f7a5-9992-4b76-85af-14a8b79644a9",
   "metadata": {},
   "outputs": [
    {
     "data": {
      "text/plain": [
       "['1', '2', '3', '4', '5']"
      ]
     },
     "execution_count": 17,
     "metadata": {},
     "output_type": "execute_result"
    }
   ],
   "source": [
    "list_"
   ]
  },
  {
   "cell_type": "code",
   "execution_count": 18,
   "id": "dafdf65c-645e-4306-bcf0-0fc181be6dfd",
   "metadata": {},
   "outputs": [
    {
     "data": {
      "text/plain": [
       "list"
      ]
     },
     "execution_count": 18,
     "metadata": {},
     "output_type": "execute_result"
    }
   ],
   "source": [
    "type(list_)"
   ]
  },
  {
   "cell_type": "code",
   "execution_count": 19,
   "id": "15e553fc-35bc-4325-ba29-07737a3c1493",
   "metadata": {},
   "outputs": [
    {
     "data": {
      "text/plain": [
       "array([1, 2, 3, 4, 5])"
      ]
     },
     "execution_count": 19,
     "metadata": {},
     "output_type": "execute_result"
    }
   ],
   "source": [
    "array_list"
   ]
  },
  {
   "cell_type": "code",
   "execution_count": 20,
   "id": "90255dbc-32f6-4aa5-ad5c-7a69df9faa41",
   "metadata": {},
   "outputs": [
    {
     "data": {
      "text/plain": [
       "numpy.ndarray"
      ]
     },
     "execution_count": 20,
     "metadata": {},
     "output_type": "execute_result"
    }
   ],
   "source": [
    "type(array_list)"
   ]
  },
  {
   "cell_type": "markdown",
   "id": "90b36941-97e5-4f05-a65f-6271c1366a59",
   "metadata": {},
   "source": [
    " Data type of element present in both the variable are changed as shown in output.\n",
    " \n",
    " Now we will print the elements in both variable:\n",
    " "
   ]
  },
  {
   "cell_type": "code",
   "execution_count": 21,
   "id": "45921a54-6bb4-443a-b679-bf7873bb0292",
   "metadata": {},
   "outputs": [
    {
     "name": "stdout",
     "output_type": "stream",
     "text": [
      "type of 1 is: <class 'str'>\n",
      "type of 2 is: <class 'str'>\n",
      "type of 3 is: <class 'str'>\n",
      "type of 4 is: <class 'str'>\n",
      "type of 5 is: <class 'str'>\n"
     ]
    }
   ],
   "source": [
    "# print element present in variable list_\n",
    "for i in list_:\n",
    "    ty=type(i)\n",
    "    print(f\"type of {i} is:\",ty)"
   ]
  },
  {
   "cell_type": "code",
   "execution_count": 22,
   "id": "ace9d069-0e79-49e9-8d0e-db264b426648",
   "metadata": {},
   "outputs": [
    {
     "name": "stdout",
     "output_type": "stream",
     "text": [
      "Type of 1 is : <class 'numpy.int64'>\n",
      "Type of 2 is : <class 'numpy.int64'>\n",
      "Type of 3 is : <class 'numpy.int64'>\n",
      "Type of 4 is : <class 'numpy.int64'>\n",
      "Type of 5 is : <class 'numpy.int64'>\n"
     ]
    }
   ],
   "source": [
    "# print element present in variable array_list\n",
    "for i in array_list:\n",
    "    ty=type(i)\n",
    "    print(f\"Type of {i} is :\",ty)# datatype of element in output is numpy.int64. previously it was numpy.str"
   ]
  },
  {
   "cell_type": "code",
   "execution_count": null,
   "id": "db941833-1138-42bc-973a-8e9605ddca14",
   "metadata": {},
   "outputs": [],
   "source": []
  },
  {
   "cell_type": "markdown",
   "id": "64c44bc5-30cb-4f7a-8550-6007ced3658a",
   "metadata": {},
   "source": [
    "\n",
    "Consider the below code to answer further questions: \n",
    "\n",
    "import numpy as np \n",
    "\n",
    "num_list = [ [ 1 , 2 , 3 ] , [ 4 , 5 , 6 ] ] \n",
    "\n",
    "num_array = np.array(object = num_list) "
   ]
  },
  {
   "cell_type": "markdown",
   "id": "14f9056a-ff7f-41c2-a67b-29e12038be02",
   "metadata": {},
   "source": [
    "# Q4. Write a code to find the following characteristics of variable, num_array: \n",
    "## (i)  shape \n",
    "## (ii) size \n"
   ]
  },
  {
   "cell_type": "markdown",
   "id": "ea11700e-3766-4065-a646-b38b870bf737",
   "metadata": {},
   "source": [
    "## Answer:-"
   ]
  },
  {
   "cell_type": "code",
   "execution_count": 23,
   "id": "7b9545b7-0afb-467c-956a-40dab09b4a73",
   "metadata": {},
   "outputs": [],
   "source": [
    "import numpy as np\n",
    "\n",
    "num_list = [ [ 1 , 2 , 3 ] , [ 4 , 5 , 6 ] ]\n",
    "\n",
    "num_array = np.array(object = num_list)"
   ]
  },
  {
   "cell_type": "code",
   "execution_count": 24,
   "id": "73055b74-9cbc-447f-8efa-7cfd7dddfc25",
   "metadata": {},
   "outputs": [
    {
     "data": {
      "text/plain": [
       "[[1, 2, 3], [4, 5, 6]]"
      ]
     },
     "execution_count": 24,
     "metadata": {},
     "output_type": "execute_result"
    }
   ],
   "source": [
    "num_list"
   ]
  },
  {
   "cell_type": "code",
   "execution_count": 25,
   "id": "9dc353ac-b293-4011-91b7-ffc4aa493c41",
   "metadata": {},
   "outputs": [
    {
     "data": {
      "text/plain": [
       "array([[1, 2, 3],\n",
       "       [4, 5, 6]])"
      ]
     },
     "execution_count": 25,
     "metadata": {},
     "output_type": "execute_result"
    }
   ],
   "source": [
    "num_array"
   ]
  },
  {
   "cell_type": "markdown",
   "id": "27b95389-5ffb-481b-96f3-99cfaaee0a2b",
   "metadata": {},
   "source": [
    "#### (i) shape"
   ]
  },
  {
   "cell_type": "code",
   "execution_count": 26,
   "id": "91bd0aa0-a450-48eb-97cb-f209cdc3e619",
   "metadata": {},
   "outputs": [
    {
     "data": {
      "text/plain": [
       "(2, 3)"
      ]
     },
     "execution_count": 26,
     "metadata": {},
     "output_type": "execute_result"
    }
   ],
   "source": [
    "num_array.shape"
   ]
  },
  {
   "cell_type": "markdown",
   "id": "48ac542d-115d-4068-8999-5c46914490f8",
   "metadata": {},
   "source": [
    "#### (ii) size"
   ]
  },
  {
   "cell_type": "code",
   "execution_count": 27,
   "id": "2afb445b-8f73-4fe3-8f63-2bbfe3cb87d8",
   "metadata": {},
   "outputs": [
    {
     "data": {
      "text/plain": [
       "6"
      ]
     },
     "execution_count": 27,
     "metadata": {},
     "output_type": "execute_result"
    }
   ],
   "source": [
    "num_array.size"
   ]
  },
  {
   "cell_type": "code",
   "execution_count": null,
   "id": "996954a4-38a4-49fb-a146-b4801e7e4ff0",
   "metadata": {},
   "outputs": [],
   "source": []
  },
  {
   "cell_type": "markdown",
   "id": "d306ea85-91d2-4511-965f-73b2983ae551",
   "metadata": {},
   "source": [
    "# Q5. Write a code to create numpy array of 3*3 matrix containing zeros only, using a numpy array  creation function. \n",
    "[Hint: The size of the array will be 9 and the shape will be (3,3).] \n"
   ]
  },
  {
   "cell_type": "markdown",
   "id": "dbbb75d1-66b6-45ce-98f2-ebc478227e19",
   "metadata": {},
   "source": [
    "## Answer:-"
   ]
  },
  {
   "cell_type": "code",
   "execution_count": 38,
   "id": "d5bc8f9b-e761-4ef5-a13d-d775cc04ff9e",
   "metadata": {},
   "outputs": [],
   "source": [
    "shape_=(3,3)"
   ]
  },
  {
   "cell_type": "code",
   "execution_count": 39,
   "id": "eb0626fe-d41f-41c1-934a-7882b9c2d16d",
   "metadata": {},
   "outputs": [],
   "source": [
    "numpy_array=np.zeros(shape_)"
   ]
  },
  {
   "cell_type": "code",
   "execution_count": 40,
   "id": "374650bd-1fec-498a-9c16-0f7215c8bbfb",
   "metadata": {},
   "outputs": [
    {
     "data": {
      "text/plain": [
       "array([[0., 0., 0.],\n",
       "       [0., 0., 0.],\n",
       "       [0., 0., 0.]])"
      ]
     },
     "execution_count": 40,
     "metadata": {},
     "output_type": "execute_result"
    }
   ],
   "source": [
    "numpy_array"
   ]
  },
  {
   "cell_type": "code",
   "execution_count": 42,
   "id": "df9aa042-cabb-403b-ac0a-886ce9138d03",
   "metadata": {},
   "outputs": [
    {
     "data": {
      "text/plain": [
       "9"
      ]
     },
     "execution_count": 42,
     "metadata": {},
     "output_type": "execute_result"
    }
   ],
   "source": [
    "numpy_array.size"
   ]
  },
  {
   "cell_type": "code",
   "execution_count": 41,
   "id": "71d8c9b0-d9a2-43ff-a5c8-e6f7ad26f326",
   "metadata": {},
   "outputs": [
    {
     "data": {
      "text/plain": [
       "(3, 3)"
      ]
     },
     "execution_count": 41,
     "metadata": {},
     "output_type": "execute_result"
    }
   ],
   "source": [
    "numpy_array.shape"
   ]
  },
  {
   "cell_type": "code",
   "execution_count": null,
   "id": "ea9ff4ad-7e91-494e-b8bb-6181eea1407c",
   "metadata": {},
   "outputs": [],
   "source": []
  },
  {
   "cell_type": "markdown",
   "id": "0d6d2a1e-8b7f-45d9-b8f8-d93fedc00c68",
   "metadata": {},
   "source": [
    "# Q6. Create an identity matrix of shape (5,5) using numpy functions? \n",
    "[Hint: An identity matrix is a matrix containing 1 diagonally and other elements will be 0.]"
   ]
  },
  {
   "cell_type": "markdown",
   "id": "54255cd8-a619-41d0-ac8b-97c139eee8af",
   "metadata": {},
   "source": [
    "## Answer:-"
   ]
  },
  {
   "cell_type": "code",
   "execution_count": null,
   "id": "c4a5c549-7e94-4a58-937c-1d6734bec228",
   "metadata": {},
   "outputs": [],
   "source": [
    "# 1. using diag function"
   ]
  },
  {
   "cell_type": "code",
   "execution_count": 51,
   "id": "68d6ea19-390b-447c-8380-815ffaa5c99a",
   "metadata": {},
   "outputs": [],
   "source": [
    "num_mat=np.array([1,1,1,1,1])"
   ]
  },
  {
   "cell_type": "code",
   "execution_count": 52,
   "id": "a332ad30-dda0-4314-9fae-906b5d3657b0",
   "metadata": {},
   "outputs": [
    {
     "data": {
      "text/plain": [
       "array([1, 1, 1, 1, 1])"
      ]
     },
     "execution_count": 52,
     "metadata": {},
     "output_type": "execute_result"
    }
   ],
   "source": [
    "num_mat"
   ]
  },
  {
   "cell_type": "code",
   "execution_count": 53,
   "id": "ddb94245-870d-4cb4-9622-71624003520c",
   "metadata": {},
   "outputs": [
    {
     "data": {
      "text/plain": [
       "array([[1, 0, 0, 0, 0],\n",
       "       [0, 1, 0, 0, 0],\n",
       "       [0, 0, 1, 0, 0],\n",
       "       [0, 0, 0, 1, 0],\n",
       "       [0, 0, 0, 0, 1]])"
      ]
     },
     "execution_count": 53,
     "metadata": {},
     "output_type": "execute_result"
    }
   ],
   "source": [
    "np.diag(num_mat)"
   ]
  },
  {
   "cell_type": "code",
   "execution_count": null,
   "id": "43e1be30-6233-4157-8d18-994d7778c351",
   "metadata": {},
   "outputs": [],
   "source": [
    "# 2. using eye function"
   ]
  },
  {
   "cell_type": "code",
   "execution_count": 55,
   "id": "ef3db4ba-1b16-4b8a-b443-24a3de150a2c",
   "metadata": {},
   "outputs": [],
   "source": [
    "num_eye=np.eye(5)"
   ]
  },
  {
   "cell_type": "code",
   "execution_count": 56,
   "id": "544fdb46-02f7-4759-a825-cdb46fe6caf9",
   "metadata": {},
   "outputs": [
    {
     "data": {
      "text/plain": [
       "array([[1., 0., 0., 0., 0.],\n",
       "       [0., 1., 0., 0., 0.],\n",
       "       [0., 0., 1., 0., 0.],\n",
       "       [0., 0., 0., 1., 0.],\n",
       "       [0., 0., 0., 0., 1.]])"
      ]
     },
     "execution_count": 56,
     "metadata": {},
     "output_type": "execute_result"
    }
   ],
   "source": [
    "num_eye"
   ]
  },
  {
   "cell_type": "code",
   "execution_count": 57,
   "id": "51d9d8eb-344d-4327-b0a9-5d57fbb3131b",
   "metadata": {},
   "outputs": [
    {
     "data": {
      "text/plain": [
       "(5, 5)"
      ]
     },
     "execution_count": 57,
     "metadata": {},
     "output_type": "execute_result"
    }
   ],
   "source": [
    "num_eye.shape"
   ]
  },
  {
   "cell_type": "code",
   "execution_count": null,
   "id": "02d617ed-0b72-45cf-a5a4-22b991894180",
   "metadata": {},
   "outputs": [],
   "source": []
  }
 ],
 "metadata": {
  "kernelspec": {
   "display_name": "Python 3 (ipykernel)",
   "language": "python",
   "name": "python3"
  },
  "language_info": {
   "codemirror_mode": {
    "name": "ipython",
    "version": 3
   },
   "file_extension": ".py",
   "mimetype": "text/x-python",
   "name": "python",
   "nbconvert_exporter": "python",
   "pygments_lexer": "ipython3",
   "version": "3.10.8"
  }
 },
 "nbformat": 4,
 "nbformat_minor": 5
}
