{
 "cells": [
  {
   "cell_type": "markdown",
   "id": "2beb68f1-5bb8-450a-8f9e-ee625c9e299c",
   "metadata": {},
   "source": [
    "# Assignment-2\n",
    "## Name- NITESH KUMAR"
   ]
  },
  {
   "cell_type": "markdown",
   "id": "4706bca7-20d0-4aea-98b0-8ab5981b1137",
   "metadata": {},
   "source": [
    "# 1. Create the NumPy array with values (1,2,3).  Create a second Numpy array with values (4,5,6). Perform simple arithmetic operations on these two  Numpy arrays: \n",
    "### a. Addition \n",
    "### b. Subtraction \n",
    "### c. Multiplication \n",
    "### d. Division \n",
    "\n"
   ]
  },
  {
   "cell_type": "markdown",
   "id": "eadfaec6-e905-4885-a8c7-2e7d09c15607",
   "metadata": {},
   "source": [
    "# Answer:-"
   ]
  },
  {
   "cell_type": "code",
   "execution_count": 1,
   "id": "38324609-2f56-478d-ab4f-259fc8cac5a2",
   "metadata": {},
   "outputs": [],
   "source": [
    "# firstly we will import the NumPy library\n",
    "import numpy as np"
   ]
  },
  {
   "cell_type": "code",
   "execution_count": 13,
   "id": "826e398a-9450-456a-902d-5a6fa40e0170",
   "metadata": {},
   "outputs": [],
   "source": [
    "# create 1st NumPy array named arr1 using array function\n",
    "arr1=np.array((1,2,3))"
   ]
  },
  {
   "cell_type": "code",
   "execution_count": 14,
   "id": "c1778fc0-9ce6-4f7d-b470-73eaa1a6a0cc",
   "metadata": {},
   "outputs": [],
   "source": [
    "# create 2nd NumPy array named arr2 using array function\n",
    "arr2=np.array((4,5,6))"
   ]
  },
  {
   "cell_type": "code",
   "execution_count": 15,
   "id": "010a16ab-8ed1-4529-a17d-45c23711d777",
   "metadata": {},
   "outputs": [
    {
     "data": {
      "text/plain": [
       "array([1, 2, 3])"
      ]
     },
     "execution_count": 15,
     "metadata": {},
     "output_type": "execute_result"
    }
   ],
   "source": [
    "arr1"
   ]
  },
  {
   "cell_type": "code",
   "execution_count": 16,
   "id": "1d96bff2-2f0a-45fa-9a6a-00120acbeb5a",
   "metadata": {},
   "outputs": [
    {
     "data": {
      "text/plain": [
       "array([4, 5, 6])"
      ]
     },
     "execution_count": 16,
     "metadata": {},
     "output_type": "execute_result"
    }
   ],
   "source": [
    "arr2"
   ]
  },
  {
   "cell_type": "markdown",
   "id": "909fba2e-ef81-46ad-a204-af7aca7de336",
   "metadata": {},
   "source": [
    "#### a. Adition"
   ]
  },
  {
   "cell_type": "code",
   "execution_count": 18,
   "id": "55fb8c25-a790-42e3-9da0-f2d9af86ffb6",
   "metadata": {},
   "outputs": [
    {
     "name": "stdout",
     "output_type": "stream",
     "text": [
      "Adition of arr1 and arr2 is : [5 7 9]\n"
     ]
    }
   ],
   "source": [
    "print(\"Adition of arr1 and arr2 is :\",arr1+arr2)"
   ]
  },
  {
   "cell_type": "markdown",
   "id": "d7a59c9d-8394-4d45-9703-e3f7b05c5363",
   "metadata": {},
   "source": [
    "#### b. Subtraction"
   ]
  },
  {
   "cell_type": "code",
   "execution_count": 19,
   "id": "17bf1a8e-467f-4be6-a37e-3a6c2479c03d",
   "metadata": {},
   "outputs": [
    {
     "name": "stdout",
     "output_type": "stream",
     "text": [
      "Subtraction of arr1 and arr2 is : [-3 -3 -3]\n"
     ]
    }
   ],
   "source": [
    "print(\"Subtraction of arr1 and arr2 is :\",arr1-arr2)"
   ]
  },
  {
   "cell_type": "markdown",
   "id": "3cc49da0-6288-441c-8398-e4f5dd6d1eb0",
   "metadata": {},
   "source": [
    "#### c. Multiplication"
   ]
  },
  {
   "cell_type": "code",
   "execution_count": 20,
   "id": "31764847-0a75-4e43-8001-23bdbc9ef879",
   "metadata": {},
   "outputs": [
    {
     "name": "stdout",
     "output_type": "stream",
     "text": [
      "Multiplication of arr1 and arr2 is : [ 4 10 18]\n"
     ]
    }
   ],
   "source": [
    "print(\"Multiplication of arr1 and arr2 is :\",arr1*arr2)"
   ]
  },
  {
   "cell_type": "markdown",
   "id": "82df3903-a99e-4368-8d66-d67bab2dec5c",
   "metadata": {},
   "source": [
    "#### d. Divison"
   ]
  },
  {
   "cell_type": "code",
   "execution_count": 21,
   "id": "4c00e00c-d067-417a-a914-8349337f6bb0",
   "metadata": {},
   "outputs": [
    {
     "name": "stdout",
     "output_type": "stream",
     "text": [
      "Divison of arr1 and arr2 is : [0.25 0.4  0.5 ]\n"
     ]
    }
   ],
   "source": [
    "print(\"Divison of arr1 and arr2 is :\",arr1/arr2)"
   ]
  },
  {
   "cell_type": "code",
   "execution_count": null,
   "id": "a9e5e758-b428-465d-b440-22ccd3a5e28d",
   "metadata": {},
   "outputs": [],
   "source": []
  },
  {
   "cell_type": "markdown",
   "id": "aadd778c-6ef7-4996-9520-ebd3ef9b8f54",
   "metadata": {},
   "source": [
    "# 2. Create a Numpy array between values 10-90 and  set the shape to be 3*3 \n",
    "\n",
    "### a. Extract only the 3rd column from the Numpy array. \n",
    "### b. Extract only the 2nd row from the Numpy array \n",
    "### c. Extract those cells at the intersection of first two  rows and first two columns. \n",
    "\n"
   ]
  },
  {
   "cell_type": "markdown",
   "id": "0be7948f-7ded-4f56-a0fa-1ff7604e6389",
   "metadata": {},
   "source": [
    "## Answer:-"
   ]
  },
  {
   "cell_type": "code",
   "execution_count": 37,
   "id": "b27b9a62-9529-4ad0-af4c-8337808ddb7d",
   "metadata": {},
   "outputs": [],
   "source": [
    "# seed is a value used to initialize the pseudorandom number generator. The same seed value will result\n",
    "# in the same sequence of random numbers being generated each time the program is run.\n",
    "\n",
    "np.random.seed(53) # we can write any number instead of 53.\n",
    "\n",
    "# Creating a 3x3 array between 10 and 90\n",
    "arr=np.random.randint(10,90,(3,3))"
   ]
  },
  {
   "cell_type": "code",
   "execution_count": 40,
   "id": "95af682f-01c3-4143-a3d1-9be36994fe9b",
   "metadata": {},
   "outputs": [
    {
     "data": {
      "text/plain": [
       "array([[35, 39, 47],\n",
       "       [71, 32, 73],\n",
       "       [58, 68, 22]])"
      ]
     },
     "execution_count": 40,
     "metadata": {},
     "output_type": "execute_result"
    }
   ],
   "source": [
    "arr"
   ]
  },
  {
   "cell_type": "markdown",
   "id": "8b90a2cb-f1a4-4055-9c6e-3ef55b2f4573",
   "metadata": {},
   "source": [
    "#### a. Extract only the 3rd column from the Numpy array."
   ]
  },
  {
   "cell_type": "code",
   "execution_count": 41,
   "id": "aad14a5f-c627-4a44-a3b5-7934901bb653",
   "metadata": {},
   "outputs": [
    {
     "data": {
      "text/plain": [
       "array([47, 73, 22])"
      ]
     },
     "execution_count": 41,
     "metadata": {},
     "output_type": "execute_result"
    }
   ],
   "source": [
    "arr[0:3,2] # before comma perform row operation and after comma perform column operation."
   ]
  },
  {
   "cell_type": "markdown",
   "id": "95a9fa08-3974-472f-a3b5-d0967d83f958",
   "metadata": {},
   "source": [
    "#### b. Extract only the 2nd row from the Numpy array"
   ]
  },
  {
   "cell_type": "code",
   "execution_count": 42,
   "id": "16613952-c511-4741-aaf1-48fad4c4f9df",
   "metadata": {},
   "outputs": [
    {
     "data": {
      "text/plain": [
       "array([71, 32, 73])"
      ]
     },
     "execution_count": 42,
     "metadata": {},
     "output_type": "execute_result"
    }
   ],
   "source": [
    "arr[1]"
   ]
  },
  {
   "cell_type": "markdown",
   "id": "206cb535-ab67-4d6e-ac9b-e9cf687d6349",
   "metadata": {},
   "source": [
    "#### c. Extract those cells at the intersection of first two  rows and first two columns. "
   ]
  },
  {
   "cell_type": "code",
   "execution_count": 44,
   "id": "87be3840-2c78-49fb-9514-72fdf6bad8a5",
   "metadata": {},
   "outputs": [
    {
     "data": {
      "text/plain": [
       "array([[35, 39],\n",
       "       [71, 32]])"
      ]
     },
     "execution_count": 44,
     "metadata": {},
     "output_type": "execute_result"
    }
   ],
   "source": [
    "arr[0:2,0:2]"
   ]
  },
  {
   "cell_type": "code",
   "execution_count": null,
   "id": "18f7f69d-df17-4eee-ab9f-b167e2af4020",
   "metadata": {},
   "outputs": [],
   "source": []
  },
  {
   "cell_type": "markdown",
   "id": "451f0929-6da6-403d-98ac-55b01eb7d0dc",
   "metadata": {},
   "source": [
    "# 3. Create a dictionary with 4 items and convert  it into panda’s series. Create Dictionary of Pandas series Convert above dictionary into  data frame Slice last 2 rows from the data frame Slice a column from the data frame  Create dictionary of tuples. Convert it into  dataframe.\\ \n"
   ]
  },
  {
   "cell_type": "markdown",
   "id": "2bbcbcb6-f872-4d44-b4df-0df3bae1bcf7",
   "metadata": {},
   "source": [
    "### Answer:-"
   ]
  },
  {
   "cell_type": "markdown",
   "id": "16d7678f-4520-4435-86c8-fa7ec47d1c96",
   "metadata": {},
   "source": [
    "#### Create a dictionary with 4 items and convert it into panda’s series."
   ]
  },
  {
   "cell_type": "code",
   "execution_count": 56,
   "id": "c7fec03b-4cfa-46fb-bcb8-e6e91387fa29",
   "metadata": {},
   "outputs": [],
   "source": [
    "data={\"Vehicle\":\"Truck\",\"Vehicle_class\":\"4-Axle\",\"Speed\":50,\"Fare\":260}"
   ]
  },
  {
   "cell_type": "code",
   "execution_count": 57,
   "id": "866c0f1b-9a50-48bf-82fd-aaa26786b5d9",
   "metadata": {},
   "outputs": [
    {
     "data": {
      "text/plain": [
       "{'Vehicle': 'Truck', 'Vehicle_class': '4-Axle', 'Speed': 50, 'Fare': 260}"
      ]
     },
     "execution_count": 57,
     "metadata": {},
     "output_type": "execute_result"
    }
   ],
   "source": [
    "data"
   ]
  },
  {
   "cell_type": "code",
   "execution_count": 47,
   "id": "53b2c229-1732-48cc-9375-85d493922a71",
   "metadata": {},
   "outputs": [],
   "source": [
    "import pandas as pd"
   ]
  },
  {
   "cell_type": "code",
   "execution_count": 58,
   "id": "8c90f5b1-12b2-4ede-b276-22ac490fca59",
   "metadata": {},
   "outputs": [],
   "source": [
    "df=pd.Series(data)"
   ]
  },
  {
   "cell_type": "code",
   "execution_count": 59,
   "id": "dbbab05b-ebe1-4464-a214-77441b3c481a",
   "metadata": {},
   "outputs": [
    {
     "data": {
      "text/plain": [
       "Vehicle           Truck\n",
       "Vehicle_class    4-Axle\n",
       "Speed                50\n",
       "Fare                260\n",
       "dtype: object"
      ]
     },
     "execution_count": 59,
     "metadata": {},
     "output_type": "execute_result"
    }
   ],
   "source": [
    "df"
   ]
  },
  {
   "cell_type": "markdown",
   "id": "2c4fafb4-7333-4858-b980-be3b13be41a3",
   "metadata": {},
   "source": [
    "#### Create Dictionary of Pandas series Convert above dictionary into data frame"
   ]
  },
  {
   "cell_type": "code",
   "execution_count": 61,
   "id": "81785aee-9cbb-4e76-9b62-c0b8395c43e3",
   "metadata": {},
   "outputs": [],
   "source": [
    "Vehicle_type=pd.Series([\"car\",\"bus\",\"truck\"])"
   ]
  },
  {
   "cell_type": "code",
   "execution_count": 63,
   "id": "94ef1df0-b8c1-464d-8017-f864772a7c22",
   "metadata": {},
   "outputs": [],
   "source": [
    "Vehicle_class=pd.Series([\"2-Axle\",\"3-Axle\",\"4-Axle\"])"
   ]
  },
  {
   "cell_type": "code",
   "execution_count": 65,
   "id": "a180e928-1397-4948-9e02-ed06aa18cb98",
   "metadata": {},
   "outputs": [],
   "source": [
    "Vehicle_Fare=pd.Series([105,180.260])"
   ]
  },
  {
   "cell_type": "code",
   "execution_count": 67,
   "id": "5a790137-1aef-4f61-aaea-7326863c6f88",
   "metadata": {},
   "outputs": [],
   "source": [
    "dict_data={\"Vehicle_type\":Vehicle_type,\"Vehicle_class\": Vehicle_class,\"Vehicle_Fare\":Vehicle_Fare}"
   ]
  },
  {
   "cell_type": "code",
   "execution_count": 68,
   "id": "c707af3e-c2f9-4e46-977c-1f8534cd2288",
   "metadata": {},
   "outputs": [],
   "source": [
    "df1=pd.DataFrame(dict_data)"
   ]
  },
  {
   "cell_type": "code",
   "execution_count": 69,
   "id": "80b67a57-96dd-4888-9416-9839c71e678d",
   "metadata": {},
   "outputs": [
    {
     "data": {
      "text/html": [
       "<div>\n",
       "<style scoped>\n",
       "    .dataframe tbody tr th:only-of-type {\n",
       "        vertical-align: middle;\n",
       "    }\n",
       "\n",
       "    .dataframe tbody tr th {\n",
       "        vertical-align: top;\n",
       "    }\n",
       "\n",
       "    .dataframe thead th {\n",
       "        text-align: right;\n",
       "    }\n",
       "</style>\n",
       "<table border=\"1\" class=\"dataframe\">\n",
       "  <thead>\n",
       "    <tr style=\"text-align: right;\">\n",
       "      <th></th>\n",
       "      <th>Vehicle_type</th>\n",
       "      <th>Vehicle_class</th>\n",
       "      <th>Vehicle_Fare</th>\n",
       "    </tr>\n",
       "  </thead>\n",
       "  <tbody>\n",
       "    <tr>\n",
       "      <th>0</th>\n",
       "      <td>car</td>\n",
       "      <td>2-Axle</td>\n",
       "      <td>105.00</td>\n",
       "    </tr>\n",
       "    <tr>\n",
       "      <th>1</th>\n",
       "      <td>bus</td>\n",
       "      <td>3-Axle</td>\n",
       "      <td>180.26</td>\n",
       "    </tr>\n",
       "    <tr>\n",
       "      <th>2</th>\n",
       "      <td>truck</td>\n",
       "      <td>4-Axle</td>\n",
       "      <td>NaN</td>\n",
       "    </tr>\n",
       "  </tbody>\n",
       "</table>\n",
       "</div>"
      ],
      "text/plain": [
       "  Vehicle_type Vehicle_class  Vehicle_Fare\n",
       "0          car        2-Axle        105.00\n",
       "1          bus        3-Axle        180.26\n",
       "2        truck        4-Axle           NaN"
      ]
     },
     "execution_count": 69,
     "metadata": {},
     "output_type": "execute_result"
    }
   ],
   "source": [
    "df1"
   ]
  },
  {
   "cell_type": "code",
   "execution_count": null,
   "id": "0e4cc0db-48da-4f90-9ea2-b817125d40e0",
   "metadata": {},
   "outputs": [],
   "source": []
  },
  {
   "cell_type": "markdown",
   "id": "d76a472c-62e2-47e9-8fad-99850a748653",
   "metadata": {},
   "source": [
    "# 4. Explain the use of NumPy library along with  the Data structures in NumPy. \n"
   ]
  },
  {
   "cell_type": "markdown",
   "id": "be9fdffa-10ac-40df-847e-2e8b0ebf27d5",
   "metadata": {},
   "source": [
    "## Answer:-"
   ]
  },
  {
   "cell_type": "markdown",
   "id": "78fbda1e-e940-453e-b2c0-564fcdbadc6b",
   "metadata": {},
   "source": [
    "#### Following are the use of Numpy Library along with the data structure:-"
   ]
  },
  {
   "cell_type": "markdown",
   "id": "562dbb4c-b316-4b25-9ec6-18fd52b6a989",
   "metadata": {},
   "source": [
    "### 1. Creating arrays:\n",
    "\n",
    "NumPy provides a way to create arrays with a fixed size, which makes them more efficient to work with than traditional Python lists. You can create arrays with a specific shape and data type, and also initialize them with certain values.\n",
    "\n"
   ]
  },
  {
   "cell_type": "code",
   "execution_count": 74,
   "id": "5ddc05a2-378d-4d0d-8374-5e4f37f6a80e",
   "metadata": {},
   "outputs": [],
   "source": [
    "import numpy as np\n",
    "\n",
    "# Creating a 1D ndarray\n",
    "arr1 = np.array([1, 2, 3, 4, 5])\n",
    "\n",
    "# Creating a 2D ndarray\n",
    "arr2 = np.array([[1, 2, 3], [4, 5, 6], [7, 8, 9],[10,11,12]])"
   ]
  },
  {
   "cell_type": "code",
   "execution_count": 75,
   "id": "8db17746-b0df-4e43-9cd4-c74242695be3",
   "metadata": {},
   "outputs": [
    {
     "data": {
      "text/plain": [
       "array([1, 2, 3, 4, 5])"
      ]
     },
     "execution_count": 75,
     "metadata": {},
     "output_type": "execute_result"
    }
   ],
   "source": [
    "arr1"
   ]
  },
  {
   "cell_type": "code",
   "execution_count": 76,
   "id": "6eb48b79-acdd-438e-a1d3-d3d93cde84cb",
   "metadata": {},
   "outputs": [
    {
     "data": {
      "text/plain": [
       "array([[ 1,  2,  3],\n",
       "       [ 4,  5,  6],\n",
       "       [ 7,  8,  9],\n",
       "       [10, 11, 12]])"
      ]
     },
     "execution_count": 76,
     "metadata": {},
     "output_type": "execute_result"
    }
   ],
   "source": [
    "arr2"
   ]
  },
  {
   "cell_type": "markdown",
   "id": "347e0396-cc4b-4286-ba80-74536ea86bed",
   "metadata": {},
   "source": [
    "### 2. Manipulating arrays: \n",
    "\n",
    "NumPy provides a wide range of functions for manipulating arrays, such as reshaping, slicing, indexing, and joining arrays. These functions make it easy to work with arrays of different shapes and sizes.\n",
    "\n"
   ]
  },
  {
   "cell_type": "code",
   "execution_count": 77,
   "id": "843c56ac-9cca-431f-8b95-2e6443a1aa12",
   "metadata": {},
   "outputs": [
    {
     "data": {
      "text/plain": [
       "(4, 3)"
      ]
     },
     "execution_count": 77,
     "metadata": {},
     "output_type": "execute_result"
    }
   ],
   "source": [
    "arr2.shape"
   ]
  },
  {
   "cell_type": "code",
   "execution_count": 79,
   "id": "91a93301-b9b4-4322-85cf-5222c004ddf7",
   "metadata": {},
   "outputs": [
    {
     "data": {
      "text/plain": [
       "array([[ 1,  2],\n",
       "       [ 3,  4],\n",
       "       [ 5,  6],\n",
       "       [ 7,  8],\n",
       "       [ 9, 10],\n",
       "       [11, 12]])"
      ]
     },
     "execution_count": 79,
     "metadata": {},
     "output_type": "execute_result"
    }
   ],
   "source": [
    "arr2.reshape(6,2)"
   ]
  },
  {
   "cell_type": "code",
   "execution_count": 83,
   "id": "7880fd90-5d84-47b8-ba84-07ed61748427",
   "metadata": {},
   "outputs": [
    {
     "data": {
      "text/plain": [
       "array([[ 4,  5,  6],\n",
       "       [ 7,  8,  9],\n",
       "       [10, 11, 12]])"
      ]
     },
     "execution_count": 83,
     "metadata": {},
     "output_type": "execute_result"
    }
   ],
   "source": [
    "arr2[1:4] # select rows 1 to 3 using slice"
   ]
  },
  {
   "cell_type": "code",
   "execution_count": 101,
   "id": "548fc894-4a05-424b-9f4c-5edb35c2171e",
   "metadata": {},
   "outputs": [],
   "source": [
    "arr2[3]=43"
   ]
  },
  {
   "cell_type": "code",
   "execution_count": 102,
   "id": "856ad1d5-f42c-4cc3-99bd-1ede71af2945",
   "metadata": {},
   "outputs": [
    {
     "data": {
      "text/plain": [
       "array([[ 1,  2,  3],\n",
       "       [ 4,  5,  6],\n",
       "       [ 7,  8,  9],\n",
       "       [43, 43, 43]])"
      ]
     },
     "execution_count": 102,
     "metadata": {},
     "output_type": "execute_result"
    }
   ],
   "source": [
    "arr2"
   ]
  },
  {
   "cell_type": "code",
   "execution_count": 103,
   "id": "a9f11e59-1bbd-402d-8f6d-6521088dee95",
   "metadata": {},
   "outputs": [
    {
     "data": {
      "text/plain": [
       "array([[43]])"
      ]
     },
     "execution_count": 103,
     "metadata": {},
     "output_type": "execute_result"
    }
   ],
   "source": [
    "arr2[3:,:1] # select index value"
   ]
  },
  {
   "cell_type": "markdown",
   "id": "59f497e5-6e79-4e0b-b302-6562b7875ba8",
   "metadata": {},
   "source": [
    "### 3. Mathematical operations: \n",
    "\n",
    "NumPy provides a range of mathematical functions for performing operations on arrays, such as addition, subtraction, multiplication, and division. These functions are optimized for working with large arrays, and they can be used to perform complex calculations efficiently.\n",
    "\n"
   ]
  },
  {
   "cell_type": "code",
   "execution_count": 104,
   "id": "230d5e46-ec6e-4206-94be-744141cf9912",
   "metadata": {},
   "outputs": [],
   "source": [
    "arr1=np.array([1,2,3,4])\n",
    "arr2=np.array([5,6,8,3])"
   ]
  },
  {
   "cell_type": "code",
   "execution_count": 105,
   "id": "aac0a84e-6f4a-474c-978f-fd90faa288ea",
   "metadata": {},
   "outputs": [
    {
     "data": {
      "text/plain": [
       "array([ 6,  8, 11,  7])"
      ]
     },
     "execution_count": 105,
     "metadata": {},
     "output_type": "execute_result"
    }
   ],
   "source": [
    "# adition\n",
    "arr1+arr2"
   ]
  },
  {
   "cell_type": "code",
   "execution_count": 106,
   "id": "6fd0e23d-6729-4839-a6f7-6f2fa5a81830",
   "metadata": {},
   "outputs": [
    {
     "data": {
      "text/plain": [
       "array([-4, -4, -5,  1])"
      ]
     },
     "execution_count": 106,
     "metadata": {},
     "output_type": "execute_result"
    }
   ],
   "source": [
    "# subtraction\n",
    "arr1-arr2"
   ]
  },
  {
   "cell_type": "code",
   "execution_count": 107,
   "id": "0e31072b-5b19-4f68-835d-ea0c428d1183",
   "metadata": {},
   "outputs": [
    {
     "data": {
      "text/plain": [
       "array([ 5, 12, 24, 12])"
      ]
     },
     "execution_count": 107,
     "metadata": {},
     "output_type": "execute_result"
    }
   ],
   "source": [
    "# Multiplication\n",
    "arr1*arr2"
   ]
  },
  {
   "cell_type": "code",
   "execution_count": 108,
   "id": "baf4d023-b754-4eb6-8e0d-71abf5aac9f2",
   "metadata": {},
   "outputs": [
    {
     "data": {
      "text/plain": [
       "array([0.2       , 0.33333333, 0.375     , 1.33333333])"
      ]
     },
     "execution_count": 108,
     "metadata": {},
     "output_type": "execute_result"
    }
   ],
   "source": [
    "# division\n",
    "arr1/arr2"
   ]
  },
  {
   "cell_type": "markdown",
   "id": "c5efff9b-3296-40a2-b1a7-401bd469375a",
   "metadata": {},
   "source": [
    "### 4. Linear algebra: \n",
    "\n",
    "NumPy provides functions for performing linear algebra operations, such as matrix multiplication, matrix inversion, and eigenvalue computation. These functions are essential for many scientific and engineering applications.\n",
    "\n"
   ]
  },
  {
   "cell_type": "code",
   "execution_count": 115,
   "id": "833d1db7-1b80-429f-90ca-a95454f36396",
   "metadata": {},
   "outputs": [],
   "source": [
    "import numpy as np\n",
    "arr1=np.array([[1,2],[4,5]])\n",
    "arr2=np.array([[7,8],[2,4]])"
   ]
  },
  {
   "cell_type": "code",
   "execution_count": 116,
   "id": "ad7d085b-bd9c-407a-97f5-728abfe28b91",
   "metadata": {},
   "outputs": [
    {
     "data": {
      "text/plain": [
       "array([[1, 2],\n",
       "       [4, 5]])"
      ]
     },
     "execution_count": 116,
     "metadata": {},
     "output_type": "execute_result"
    }
   ],
   "source": [
    "arr1"
   ]
  },
  {
   "cell_type": "code",
   "execution_count": 117,
   "id": "b961296a-9e8e-4356-a441-a99d40e2c670",
   "metadata": {},
   "outputs": [
    {
     "data": {
      "text/plain": [
       "array([[7, 8],\n",
       "       [2, 4]])"
      ]
     },
     "execution_count": 117,
     "metadata": {},
     "output_type": "execute_result"
    }
   ],
   "source": [
    "arr2"
   ]
  },
  {
   "cell_type": "code",
   "execution_count": 118,
   "id": "49637f02-b76f-4584-96c1-d04ad0fcbabb",
   "metadata": {},
   "outputs": [
    {
     "data": {
      "text/plain": [
       "array([[11, 16],\n",
       "       [38, 52]])"
      ]
     },
     "execution_count": 118,
     "metadata": {},
     "output_type": "execute_result"
    }
   ],
   "source": [
    "# matrix multiplication\n",
    "np.dot(arr1,arr2)"
   ]
  },
  {
   "cell_type": "code",
   "execution_count": 119,
   "id": "d0580813-08f2-46c9-bcb4-8147f77c8ef8",
   "metadata": {},
   "outputs": [
    {
     "data": {
      "text/plain": [
       "array([[-1.66666667,  0.66666667],\n",
       "       [ 1.33333333, -0.33333333]])"
      ]
     },
     "execution_count": 119,
     "metadata": {},
     "output_type": "execute_result"
    }
   ],
   "source": [
    "# matrix inversion\n",
    "np.linalg.inv(arr1)"
   ]
  },
  {
   "cell_type": "code",
   "execution_count": 120,
   "id": "6a116813-99e9-4c00-a1d6-e51585c023b8",
   "metadata": {},
   "outputs": [
    {
     "data": {
      "text/plain": [
       "(array([9.77200187, 1.22799813]),\n",
       " array([[ 0.94488486, -0.81095704],\n",
       "        [ 0.32740282,  0.5851057 ]]))"
      ]
     },
     "execution_count": 120,
     "metadata": {},
     "output_type": "execute_result"
    }
   ],
   "source": [
    "# matrix eigenvalue\n",
    "np.linalg.eig(arr2)"
   ]
  },
  {
   "cell_type": "markdown",
   "id": "1e8ce815-bf2c-4916-a3c6-cfbf20cf2666",
   "metadata": {},
   "source": [
    "#### 5. Statistics: \n",
    "\n",
    "NumPy provides a range of statistical functions for analyzing data, such as mean, median, standard deviation, and variance. These functions can be used to analyze large datasets and extract meaningful insights.\n",
    "\n"
   ]
  },
  {
   "cell_type": "code",
   "execution_count": 121,
   "id": "539bee39-445f-4781-a49d-21171ff153ef",
   "metadata": {},
   "outputs": [],
   "source": [
    "arr3=np.array([1,2,3,4,5])"
   ]
  },
  {
   "cell_type": "code",
   "execution_count": 122,
   "id": "648bbf7b-654f-4cca-b189-1b41c80ce40c",
   "metadata": {},
   "outputs": [
    {
     "data": {
      "text/plain": [
       "array([1, 2, 3, 4, 5])"
      ]
     },
     "execution_count": 122,
     "metadata": {},
     "output_type": "execute_result"
    }
   ],
   "source": [
    "arr3"
   ]
  },
  {
   "cell_type": "code",
   "execution_count": 124,
   "id": "17bcc3f4-1eef-4401-a672-1b0e399a70e4",
   "metadata": {},
   "outputs": [
    {
     "data": {
      "text/plain": [
       "3.0"
      ]
     },
     "execution_count": 124,
     "metadata": {},
     "output_type": "execute_result"
    }
   ],
   "source": [
    "arr3.mean()"
   ]
  },
  {
   "cell_type": "code",
   "execution_count": 128,
   "id": "707c48a4-ec24-4d05-a54e-68af41aa3680",
   "metadata": {},
   "outputs": [
    {
     "data": {
      "text/plain": [
       "1.4142135623730951"
      ]
     },
     "execution_count": 128,
     "metadata": {},
     "output_type": "execute_result"
    }
   ],
   "source": [
    "arr3.std()"
   ]
  },
  {
   "cell_type": "code",
   "execution_count": 129,
   "id": "918ab599-932a-4e10-8244-0545c8f5236a",
   "metadata": {},
   "outputs": [
    {
     "data": {
      "text/plain": [
       "2.0"
      ]
     },
     "execution_count": 129,
     "metadata": {},
     "output_type": "execute_result"
    }
   ],
   "source": [
    "arr3.var()"
   ]
  },
  {
   "cell_type": "markdown",
   "id": "96f479af-6633-41e3-b4dc-58f74557de2c",
   "metadata": {},
   "source": [
    "#### 6. Broadcasting:\n",
    "\n",
    "Broadcasting is a powerful mechanism in NumPy that allows you to perform operations on arrays of different shapes and sizes. It works by automatically expanding the smaller array to match the shape of the larger array, and then performing the operation element-wise.\n",
    "\n"
   ]
  },
  {
   "cell_type": "code",
   "execution_count": 130,
   "id": "e81cde00-d2cf-4a5e-8176-b380b0793156",
   "metadata": {},
   "outputs": [
    {
     "data": {
      "text/plain": [
       "array([0., 0., 0., 0., 0.])"
      ]
     },
     "execution_count": 130,
     "metadata": {},
     "output_type": "execute_result"
    }
   ],
   "source": [
    "np.zeros(5)"
   ]
  },
  {
   "cell_type": "code",
   "execution_count": 131,
   "id": "981542bd-7209-4197-8c63-62c25fd2f207",
   "metadata": {},
   "outputs": [
    {
     "data": {
      "text/plain": [
       "array([[2, 3, 2],\n",
       "       [3, 3, 2]])"
      ]
     },
     "execution_count": 131,
     "metadata": {},
     "output_type": "execute_result"
    }
   ],
   "source": [
    "np.random.randint(1,5,(2,3))"
   ]
  },
  {
   "cell_type": "markdown",
   "id": "dff89a4c-19ae-4523-9cc4-4a4873b7c1d0",
   "metadata": {},
   "source": [
    "#### 7. Random number generation:\n",
    "\n",
    "NumPy provides a suite of functions for generating random numbers and arrays with different distributions, such as normal, uniform, and poisson. These functions are useful for simulations and statistical analysis.\n",
    "\n"
   ]
  },
  {
   "cell_type": "code",
   "execution_count": 133,
   "id": "78fdd03d-81df-4651-843f-276ec289601f",
   "metadata": {},
   "outputs": [
    {
     "data": {
      "text/plain": [
       "array([[4, 2, 4],\n",
       "       [2, 2, 3]])"
      ]
     },
     "execution_count": 133,
     "metadata": {},
     "output_type": "execute_result"
    }
   ],
   "source": [
    "np.random.randint(1,5,(2,3)) # random generate number between 1 to 5 and 2 row and 3 column"
   ]
  },
  {
   "cell_type": "markdown",
   "id": "52087228-3521-4ab5-8622-22d26fe19590",
   "metadata": {},
   "source": [
    "#### 8.File I/O:\n",
    "\n",
    "NumPy provides functions for reading and writing arrays to and from files, in various formats such as text, CSV, and binary. This makes it easy to save and load data for later use."
   ]
  },
  {
   "cell_type": "code",
   "execution_count": 136,
   "id": "dce35330-7505-4b28-ae28-c07428f5f797",
   "metadata": {},
   "outputs": [],
   "source": [
    "# save the array\n",
    "arr4=np.array([1,2,3,5])\n",
    "np.save(\"my_array_data.npy\",arr4)"
   ]
  },
  {
   "cell_type": "code",
   "execution_count": 137,
   "id": "d08428c1-e019-4dc9-a2c7-9a238c450b3a",
   "metadata": {},
   "outputs": [
    {
     "data": {
      "text/plain": [
       "array([1, 2, 3, 5])"
      ]
     },
     "execution_count": 137,
     "metadata": {},
     "output_type": "execute_result"
    }
   ],
   "source": [
    "# load the array from file\n",
    "np.load(\"my_array_data.npy\")\n"
   ]
  },
  {
   "cell_type": "code",
   "execution_count": null,
   "id": "6393f800-c8e6-4c28-bd0a-99134f013c51",
   "metadata": {},
   "outputs": [],
   "source": []
  },
  {
   "cell_type": "markdown",
   "id": "0a9ce7a5-5d01-4061-b4dd-52b5dbd746e4",
   "metadata": {},
   "source": [
    "# 5. Explain the use of Pandas library along with  the Data structures in Pandas.  "
   ]
  },
  {
   "cell_type": "markdown",
   "id": "dd7c83ba-dae3-42b8-b1fd-f9865c51c151",
   "metadata": {},
   "source": [
    "### Answer:-"
   ]
  },
  {
   "cell_type": "markdown",
   "id": "14399d01-7fd4-49a7-96eb-ad2051dae54f",
   "metadata": {},
   "source": [
    "Pandas is a powerful open-source data manipulation library for Python. It is built on top of the NumPy library and provides easy-to-use data structures and data analysis tools for efficient data manipulation and analysis. Pandas is widely used in data science, machine learning, and scientific computing due to its ability to handle and manipulate large datasets with ease.\n",
    "\n"
   ]
  },
  {
   "cell_type": "markdown",
   "id": "f47e2fdf-0e84-46f2-8484-56887c67b6b9",
   "metadata": {},
   "source": [
    "#### Here are some of the main use of the Pandas library along with it's data structure:-"
   ]
  },
  {
   "cell_type": "markdown",
   "id": "a75a2b57-dd60-4ba2-af14-5b2125195627",
   "metadata": {},
   "source": [
    "#### 1. Data Import and Export: \n",
    "\n",
    "Pandas provides various functions to import data from different file formats like CSV, Excel, SQL databases, etc. into a DataFrame. It also allows exporting data back into these formats after manipulation.\n",
    "\n"
   ]
  },
  {
   "cell_type": "code",
   "execution_count": 159,
   "id": "abf083e8-f47e-47c6-9860-560e3cd417b6",
   "metadata": {},
   "outputs": [],
   "source": [
    "import pandas as pd\n",
    "\n",
    "# import data \n",
    "df=pd.read_csv(\"Titanic.csv\")"
   ]
  },
  {
   "cell_type": "code",
   "execution_count": 160,
   "id": "36025ca9-2a08-4dee-a642-e2f0e071f721",
   "metadata": {},
   "outputs": [
    {
     "data": {
      "text/html": [
       "<div>\n",
       "<style scoped>\n",
       "    .dataframe tbody tr th:only-of-type {\n",
       "        vertical-align: middle;\n",
       "    }\n",
       "\n",
       "    .dataframe tbody tr th {\n",
       "        vertical-align: top;\n",
       "    }\n",
       "\n",
       "    .dataframe thead th {\n",
       "        text-align: right;\n",
       "    }\n",
       "</style>\n",
       "<table border=\"1\" class=\"dataframe\">\n",
       "  <thead>\n",
       "    <tr style=\"text-align: right;\">\n",
       "      <th></th>\n",
       "      <th>PassengerId</th>\n",
       "      <th>Survived</th>\n",
       "      <th>Pclass</th>\n",
       "      <th>Name</th>\n",
       "      <th>Sex</th>\n",
       "      <th>Age</th>\n",
       "      <th>SibSp</th>\n",
       "      <th>Parch</th>\n",
       "      <th>Ticket</th>\n",
       "      <th>Fare</th>\n",
       "      <th>Cabin</th>\n",
       "      <th>Embarked</th>\n",
       "    </tr>\n",
       "  </thead>\n",
       "  <tbody>\n",
       "    <tr>\n",
       "      <th>0</th>\n",
       "      <td>1</td>\n",
       "      <td>0</td>\n",
       "      <td>3</td>\n",
       "      <td>Braund, Mr. Owen Harris</td>\n",
       "      <td>male</td>\n",
       "      <td>22.0</td>\n",
       "      <td>1</td>\n",
       "      <td>0</td>\n",
       "      <td>A/5 21171</td>\n",
       "      <td>7.2500</td>\n",
       "      <td>NaN</td>\n",
       "      <td>S</td>\n",
       "    </tr>\n",
       "    <tr>\n",
       "      <th>1</th>\n",
       "      <td>2</td>\n",
       "      <td>1</td>\n",
       "      <td>1</td>\n",
       "      <td>Cumings, Mrs. John Bradley (Florence Briggs Th...</td>\n",
       "      <td>female</td>\n",
       "      <td>38.0</td>\n",
       "      <td>1</td>\n",
       "      <td>0</td>\n",
       "      <td>PC 17599</td>\n",
       "      <td>71.2833</td>\n",
       "      <td>C85</td>\n",
       "      <td>C</td>\n",
       "    </tr>\n",
       "    <tr>\n",
       "      <th>2</th>\n",
       "      <td>3</td>\n",
       "      <td>1</td>\n",
       "      <td>3</td>\n",
       "      <td>Heikkinen, Miss. Laina</td>\n",
       "      <td>female</td>\n",
       "      <td>26.0</td>\n",
       "      <td>0</td>\n",
       "      <td>0</td>\n",
       "      <td>STON/O2. 3101282</td>\n",
       "      <td>7.9250</td>\n",
       "      <td>NaN</td>\n",
       "      <td>S</td>\n",
       "    </tr>\n",
       "  </tbody>\n",
       "</table>\n",
       "</div>"
      ],
      "text/plain": [
       "   PassengerId  Survived  Pclass  \\\n",
       "0            1         0       3   \n",
       "1            2         1       1   \n",
       "2            3         1       3   \n",
       "\n",
       "                                                Name     Sex   Age  SibSp  \\\n",
       "0                            Braund, Mr. Owen Harris    male  22.0      1   \n",
       "1  Cumings, Mrs. John Bradley (Florence Briggs Th...  female  38.0      1   \n",
       "2                             Heikkinen, Miss. Laina  female  26.0      0   \n",
       "\n",
       "   Parch            Ticket     Fare Cabin Embarked  \n",
       "0      0         A/5 21171   7.2500   NaN        S  \n",
       "1      0          PC 17599  71.2833   C85        C  \n",
       "2      0  STON/O2. 3101282   7.9250   NaN        S  "
      ]
     },
     "execution_count": 160,
     "metadata": {},
     "output_type": "execute_result"
    }
   ],
   "source": [
    "df.head(3)"
   ]
  },
  {
   "cell_type": "code",
   "execution_count": 161,
   "id": "39e4e125-c85f-47bd-b069-d999e229e67d",
   "metadata": {},
   "outputs": [],
   "source": [
    "# export data\n",
    "df.to_csv(\"new_folder.csv\")"
   ]
  },
  {
   "cell_type": "markdown",
   "id": "cfd9fd3b-1e17-4af0-b906-c04234039e74",
   "metadata": {},
   "source": [
    "#### 2. Data Cleaning and Manipulation: \n",
    "\n",
    "Pandas provides a wide range of functions for data cleaning and manipulation like removing missing values, renaming columns, merging and joining datasets, sorting data, and more.\n",
    "\n"
   ]
  },
  {
   "cell_type": "code",
   "execution_count": 162,
   "id": "705fd3c1-6b7b-4a23-a38d-d5434f06d278",
   "metadata": {},
   "outputs": [
    {
     "data": {
      "text/html": [
       "<div>\n",
       "<style scoped>\n",
       "    .dataframe tbody tr th:only-of-type {\n",
       "        vertical-align: middle;\n",
       "    }\n",
       "\n",
       "    .dataframe tbody tr th {\n",
       "        vertical-align: top;\n",
       "    }\n",
       "\n",
       "    .dataframe thead th {\n",
       "        text-align: right;\n",
       "    }\n",
       "</style>\n",
       "<table border=\"1\" class=\"dataframe\">\n",
       "  <thead>\n",
       "    <tr style=\"text-align: right;\">\n",
       "      <th></th>\n",
       "      <th>PassengerId</th>\n",
       "      <th>Survived</th>\n",
       "      <th>Pclass</th>\n",
       "      <th>Name</th>\n",
       "      <th>Sex</th>\n",
       "      <th>Age</th>\n",
       "      <th>SibSp</th>\n",
       "      <th>Parch</th>\n",
       "      <th>Ticket</th>\n",
       "      <th>Fare</th>\n",
       "      <th>Cabin</th>\n",
       "      <th>Embarked</th>\n",
       "    </tr>\n",
       "  </thead>\n",
       "  <tbody>\n",
       "    <tr>\n",
       "      <th>0</th>\n",
       "      <td>1</td>\n",
       "      <td>0</td>\n",
       "      <td>3</td>\n",
       "      <td>Braund, Mr. Owen Harris</td>\n",
       "      <td>male</td>\n",
       "      <td>22.0</td>\n",
       "      <td>1</td>\n",
       "      <td>0</td>\n",
       "      <td>A/5 21171</td>\n",
       "      <td>7.2500</td>\n",
       "      <td>NaN</td>\n",
       "      <td>S</td>\n",
       "    </tr>\n",
       "    <tr>\n",
       "      <th>1</th>\n",
       "      <td>2</td>\n",
       "      <td>1</td>\n",
       "      <td>1</td>\n",
       "      <td>Cumings, Mrs. John Bradley (Florence Briggs Th...</td>\n",
       "      <td>female</td>\n",
       "      <td>38.0</td>\n",
       "      <td>1</td>\n",
       "      <td>0</td>\n",
       "      <td>PC 17599</td>\n",
       "      <td>71.2833</td>\n",
       "      <td>C85</td>\n",
       "      <td>C</td>\n",
       "    </tr>\n",
       "    <tr>\n",
       "      <th>2</th>\n",
       "      <td>3</td>\n",
       "      <td>1</td>\n",
       "      <td>3</td>\n",
       "      <td>Heikkinen, Miss. Laina</td>\n",
       "      <td>female</td>\n",
       "      <td>26.0</td>\n",
       "      <td>0</td>\n",
       "      <td>0</td>\n",
       "      <td>STON/O2. 3101282</td>\n",
       "      <td>7.9250</td>\n",
       "      <td>NaN</td>\n",
       "      <td>S</td>\n",
       "    </tr>\n",
       "  </tbody>\n",
       "</table>\n",
       "</div>"
      ],
      "text/plain": [
       "   PassengerId  Survived  Pclass  \\\n",
       "0            1         0       3   \n",
       "1            2         1       1   \n",
       "2            3         1       3   \n",
       "\n",
       "                                                Name     Sex   Age  SibSp  \\\n",
       "0                            Braund, Mr. Owen Harris    male  22.0      1   \n",
       "1  Cumings, Mrs. John Bradley (Florence Briggs Th...  female  38.0      1   \n",
       "2                             Heikkinen, Miss. Laina  female  26.0      0   \n",
       "\n",
       "   Parch            Ticket     Fare Cabin Embarked  \n",
       "0      0         A/5 21171   7.2500   NaN        S  \n",
       "1      0          PC 17599  71.2833   C85        C  \n",
       "2      0  STON/O2. 3101282   7.9250   NaN        S  "
      ]
     },
     "execution_count": 162,
     "metadata": {},
     "output_type": "execute_result"
    }
   ],
   "source": [
    "df.head(3)"
   ]
  },
  {
   "cell_type": "code",
   "execution_count": 163,
   "id": "d348d1e8-8849-4e2c-90d6-600a66c492b9",
   "metadata": {},
   "outputs": [
    {
     "data": {
      "text/html": [
       "<div>\n",
       "<style scoped>\n",
       "    .dataframe tbody tr th:only-of-type {\n",
       "        vertical-align: middle;\n",
       "    }\n",
       "\n",
       "    .dataframe tbody tr th {\n",
       "        vertical-align: top;\n",
       "    }\n",
       "\n",
       "    .dataframe thead th {\n",
       "        text-align: right;\n",
       "    }\n",
       "</style>\n",
       "<table border=\"1\" class=\"dataframe\">\n",
       "  <thead>\n",
       "    <tr style=\"text-align: right;\">\n",
       "      <th></th>\n",
       "      <th>PassengerId</th>\n",
       "      <th>Survived</th>\n",
       "      <th>Pclass</th>\n",
       "      <th>Name</th>\n",
       "      <th>Sex</th>\n",
       "      <th>Age</th>\n",
       "      <th>SibSp</th>\n",
       "      <th>Parch</th>\n",
       "      <th>Ticket</th>\n",
       "      <th>Fare</th>\n",
       "      <th>Cabin</th>\n",
       "      <th>Embarked</th>\n",
       "    </tr>\n",
       "  </thead>\n",
       "  <tbody>\n",
       "    <tr>\n",
       "      <th>0</th>\n",
       "      <td>1</td>\n",
       "      <td>0</td>\n",
       "      <td>3</td>\n",
       "      <td>Braund, Mr. Owen Harris</td>\n",
       "      <td>male</td>\n",
       "      <td>22.0</td>\n",
       "      <td>1</td>\n",
       "      <td>0</td>\n",
       "      <td>A/5 21171</td>\n",
       "      <td>7.2500</td>\n",
       "      <td>B-4 Data_Science</td>\n",
       "      <td>S</td>\n",
       "    </tr>\n",
       "    <tr>\n",
       "      <th>1</th>\n",
       "      <td>2</td>\n",
       "      <td>1</td>\n",
       "      <td>1</td>\n",
       "      <td>Cumings, Mrs. John Bradley (Florence Briggs Th...</td>\n",
       "      <td>female</td>\n",
       "      <td>38.0</td>\n",
       "      <td>1</td>\n",
       "      <td>0</td>\n",
       "      <td>PC 17599</td>\n",
       "      <td>71.2833</td>\n",
       "      <td>C85</td>\n",
       "      <td>C</td>\n",
       "    </tr>\n",
       "    <tr>\n",
       "      <th>2</th>\n",
       "      <td>3</td>\n",
       "      <td>1</td>\n",
       "      <td>3</td>\n",
       "      <td>Heikkinen, Miss. Laina</td>\n",
       "      <td>female</td>\n",
       "      <td>26.0</td>\n",
       "      <td>0</td>\n",
       "      <td>0</td>\n",
       "      <td>STON/O2. 3101282</td>\n",
       "      <td>7.9250</td>\n",
       "      <td>B-4 Data_Science</td>\n",
       "      <td>S</td>\n",
       "    </tr>\n",
       "  </tbody>\n",
       "</table>\n",
       "</div>"
      ],
      "text/plain": [
       "   PassengerId  Survived  Pclass  \\\n",
       "0            1         0       3   \n",
       "1            2         1       1   \n",
       "2            3         1       3   \n",
       "\n",
       "                                                Name     Sex   Age  SibSp  \\\n",
       "0                            Braund, Mr. Owen Harris    male  22.0      1   \n",
       "1  Cumings, Mrs. John Bradley (Florence Briggs Th...  female  38.0      1   \n",
       "2                             Heikkinen, Miss. Laina  female  26.0      0   \n",
       "\n",
       "   Parch            Ticket     Fare             Cabin Embarked  \n",
       "0      0         A/5 21171   7.2500  B-4 Data_Science        S  \n",
       "1      0          PC 17599  71.2833               C85        C  \n",
       "2      0  STON/O2. 3101282   7.9250  B-4 Data_Science        S  "
      ]
     },
     "execution_count": 163,
     "metadata": {},
     "output_type": "execute_result"
    }
   ],
   "source": [
    "# handling missing value\n",
    "df.fillna(\"B-4 Data_Science\").head(3)"
   ]
  },
  {
   "cell_type": "code",
   "execution_count": 164,
   "id": "de70c6e7-48e0-4028-9ec0-e304353c983f",
   "metadata": {},
   "outputs": [
    {
     "data": {
      "text/html": [
       "<div>\n",
       "<style scoped>\n",
       "    .dataframe tbody tr th:only-of-type {\n",
       "        vertical-align: middle;\n",
       "    }\n",
       "\n",
       "    .dataframe tbody tr th {\n",
       "        vertical-align: top;\n",
       "    }\n",
       "\n",
       "    .dataframe thead th {\n",
       "        text-align: right;\n",
       "    }\n",
       "</style>\n",
       "<table border=\"1\" class=\"dataframe\">\n",
       "  <thead>\n",
       "    <tr style=\"text-align: right;\">\n",
       "      <th></th>\n",
       "      <th>PassengerId</th>\n",
       "      <th>Survived</th>\n",
       "      <th>passenger_Class</th>\n",
       "      <th>Name</th>\n",
       "      <th>Sex</th>\n",
       "      <th>Age</th>\n",
       "      <th>SibSp</th>\n",
       "      <th>Parch</th>\n",
       "      <th>Ticket</th>\n",
       "      <th>Fare</th>\n",
       "      <th>Cabin</th>\n",
       "      <th>Embarked</th>\n",
       "    </tr>\n",
       "  </thead>\n",
       "  <tbody>\n",
       "    <tr>\n",
       "      <th>0</th>\n",
       "      <td>1</td>\n",
       "      <td>0</td>\n",
       "      <td>3</td>\n",
       "      <td>Braund, Mr. Owen Harris</td>\n",
       "      <td>male</td>\n",
       "      <td>22.0</td>\n",
       "      <td>1</td>\n",
       "      <td>0</td>\n",
       "      <td>A/5 21171</td>\n",
       "      <td>7.2500</td>\n",
       "      <td>NaN</td>\n",
       "      <td>S</td>\n",
       "    </tr>\n",
       "    <tr>\n",
       "      <th>1</th>\n",
       "      <td>2</td>\n",
       "      <td>1</td>\n",
       "      <td>1</td>\n",
       "      <td>Cumings, Mrs. John Bradley (Florence Briggs Th...</td>\n",
       "      <td>female</td>\n",
       "      <td>38.0</td>\n",
       "      <td>1</td>\n",
       "      <td>0</td>\n",
       "      <td>PC 17599</td>\n",
       "      <td>71.2833</td>\n",
       "      <td>C85</td>\n",
       "      <td>C</td>\n",
       "    </tr>\n",
       "    <tr>\n",
       "      <th>2</th>\n",
       "      <td>3</td>\n",
       "      <td>1</td>\n",
       "      <td>3</td>\n",
       "      <td>Heikkinen, Miss. Laina</td>\n",
       "      <td>female</td>\n",
       "      <td>26.0</td>\n",
       "      <td>0</td>\n",
       "      <td>0</td>\n",
       "      <td>STON/O2. 3101282</td>\n",
       "      <td>7.9250</td>\n",
       "      <td>NaN</td>\n",
       "      <td>S</td>\n",
       "    </tr>\n",
       "  </tbody>\n",
       "</table>\n",
       "</div>"
      ],
      "text/plain": [
       "   PassengerId  Survived  passenger_Class  \\\n",
       "0            1         0                3   \n",
       "1            2         1                1   \n",
       "2            3         1                3   \n",
       "\n",
       "                                                Name     Sex   Age  SibSp  \\\n",
       "0                            Braund, Mr. Owen Harris    male  22.0      1   \n",
       "1  Cumings, Mrs. John Bradley (Florence Briggs Th...  female  38.0      1   \n",
       "2                             Heikkinen, Miss. Laina  female  26.0      0   \n",
       "\n",
       "   Parch            Ticket     Fare Cabin Embarked  \n",
       "0      0         A/5 21171   7.2500   NaN        S  \n",
       "1      0          PC 17599  71.2833   C85        C  \n",
       "2      0  STON/O2. 3101282   7.9250   NaN        S  "
      ]
     },
     "execution_count": 164,
     "metadata": {},
     "output_type": "execute_result"
    }
   ],
   "source": [
    "# rename column\n",
    "df.rename(columns={\"Pclass\":\"passenger_Class\"}).head(3)"
   ]
  },
  {
   "cell_type": "code",
   "execution_count": 165,
   "id": "abf7a102-df8a-416b-b8b6-acc945ea0668",
   "metadata": {},
   "outputs": [
    {
     "name": "stderr",
     "output_type": "stream",
     "text": [
      "/tmp/ipykernel_146/2048907788.py:2: FutureWarning: The default value of numeric_only in DataFrameGroupBy.sum is deprecated. In a future version, numeric_only will default to False. Either specify numeric_only or select only columns which should be valid for the function.\n",
      "  df.groupby(\"Sex\").sum()\n"
     ]
    },
    {
     "data": {
      "text/html": [
       "<div>\n",
       "<style scoped>\n",
       "    .dataframe tbody tr th:only-of-type {\n",
       "        vertical-align: middle;\n",
       "    }\n",
       "\n",
       "    .dataframe tbody tr th {\n",
       "        vertical-align: top;\n",
       "    }\n",
       "\n",
       "    .dataframe thead th {\n",
       "        text-align: right;\n",
       "    }\n",
       "</style>\n",
       "<table border=\"1\" class=\"dataframe\">\n",
       "  <thead>\n",
       "    <tr style=\"text-align: right;\">\n",
       "      <th></th>\n",
       "      <th>PassengerId</th>\n",
       "      <th>Survived</th>\n",
       "      <th>Pclass</th>\n",
       "      <th>Age</th>\n",
       "      <th>SibSp</th>\n",
       "      <th>Parch</th>\n",
       "      <th>Fare</th>\n",
       "    </tr>\n",
       "    <tr>\n",
       "      <th>Sex</th>\n",
       "      <th></th>\n",
       "      <th></th>\n",
       "      <th></th>\n",
       "      <th></th>\n",
       "      <th></th>\n",
       "      <th></th>\n",
       "      <th></th>\n",
       "    </tr>\n",
       "  </thead>\n",
       "  <tbody>\n",
       "    <tr>\n",
       "      <th>female</th>\n",
       "      <td>135343</td>\n",
       "      <td>233</td>\n",
       "      <td>678</td>\n",
       "      <td>7286.00</td>\n",
       "      <td>218</td>\n",
       "      <td>204</td>\n",
       "      <td>13966.6628</td>\n",
       "    </tr>\n",
       "    <tr>\n",
       "      <th>male</th>\n",
       "      <td>262043</td>\n",
       "      <td>109</td>\n",
       "      <td>1379</td>\n",
       "      <td>13919.17</td>\n",
       "      <td>248</td>\n",
       "      <td>136</td>\n",
       "      <td>14727.2865</td>\n",
       "    </tr>\n",
       "  </tbody>\n",
       "</table>\n",
       "</div>"
      ],
      "text/plain": [
       "        PassengerId  Survived  Pclass       Age  SibSp  Parch        Fare\n",
       "Sex                                                                      \n",
       "female       135343       233     678   7286.00    218    204  13966.6628\n",
       "male         262043       109    1379  13919.17    248    136  14727.2865"
      ]
     },
     "execution_count": 165,
     "metadata": {},
     "output_type": "execute_result"
    }
   ],
   "source": [
    "# groupby\n",
    "df.groupby(\"Sex\").sum()"
   ]
  },
  {
   "cell_type": "markdown",
   "id": "4ebd20f9-6922-40ad-b82e-489be6d5c141",
   "metadata": {},
   "source": [
    "#### 3. Data Exploration and Analysis: \n",
    "\n",
    "Pandas provides functions to explore and analyze data like grouping and aggregating data, computing summary statistics, filtering and selecting data, and more. This makes it easy to gain insights into data and identify patterns and trends.\n",
    "\n"
   ]
  },
  {
   "cell_type": "code",
   "execution_count": 187,
   "id": "83ec76e3-2b00-45be-b52d-77f4dd0f68aa",
   "metadata": {},
   "outputs": [
    {
     "data": {
      "text/plain": [
       "35.40280373831776"
      ]
     },
     "execution_count": 187,
     "metadata": {},
     "output_type": "execute_result"
    }
   ],
   "source": [
    "# create data frame where Age is greater than 20\n",
    "df1=df[df[\"Age\"]>20]\n",
    "df1[\"Age\"].mean() # get average age\n"
   ]
  },
  {
   "cell_type": "code",
   "execution_count": 191,
   "id": "aed55e70-d130-4565-99d1-0168a5464837",
   "metadata": {},
   "outputs": [
    {
     "data": {
      "text/html": [
       "<div>\n",
       "<style scoped>\n",
       "    .dataframe tbody tr th:only-of-type {\n",
       "        vertical-align: middle;\n",
       "    }\n",
       "\n",
       "    .dataframe tbody tr th {\n",
       "        vertical-align: top;\n",
       "    }\n",
       "\n",
       "    .dataframe thead th {\n",
       "        text-align: right;\n",
       "    }\n",
       "</style>\n",
       "<table border=\"1\" class=\"dataframe\">\n",
       "  <thead>\n",
       "    <tr style=\"text-align: right;\">\n",
       "      <th></th>\n",
       "      <th>Fare</th>\n",
       "      <th>Age</th>\n",
       "    </tr>\n",
       "    <tr>\n",
       "      <th>Sex</th>\n",
       "      <th></th>\n",
       "      <th></th>\n",
       "    </tr>\n",
       "  </thead>\n",
       "  <tbody>\n",
       "    <tr>\n",
       "      <th>female</th>\n",
       "      <td>9685.4542</td>\n",
       "      <td>34.625000</td>\n",
       "    </tr>\n",
       "    <tr>\n",
       "      <th>male</th>\n",
       "      <td>9742.7286</td>\n",
       "      <td>35.810541</td>\n",
       "    </tr>\n",
       "  </tbody>\n",
       "</table>\n",
       "</div>"
      ],
      "text/plain": [
       "             Fare        Age\n",
       "Sex                         \n",
       "female  9685.4542  34.625000\n",
       "male    9742.7286  35.810541"
      ]
     },
     "execution_count": 191,
     "metadata": {},
     "output_type": "execute_result"
    }
   ],
   "source": [
    "# groupby the data frame df1 \n",
    "df1.groupby(\"Sex\").agg({\"Fare\":\"sum\",\"Age\":\"mean\"})"
   ]
  },
  {
   "cell_type": "code",
   "execution_count": 194,
   "id": "89a60192-0ddd-48f1-8488-1745e1ebaa4c",
   "metadata": {},
   "outputs": [
    {
     "data": {
      "text/html": [
       "<div>\n",
       "<style scoped>\n",
       "    .dataframe tbody tr th:only-of-type {\n",
       "        vertical-align: middle;\n",
       "    }\n",
       "\n",
       "    .dataframe tbody tr th {\n",
       "        vertical-align: top;\n",
       "    }\n",
       "\n",
       "    .dataframe thead th {\n",
       "        text-align: right;\n",
       "    }\n",
       "</style>\n",
       "<table border=\"1\" class=\"dataframe\">\n",
       "  <thead>\n",
       "    <tr style=\"text-align: right;\">\n",
       "      <th></th>\n",
       "      <th>Fare</th>\n",
       "      <th>Age</th>\n",
       "    </tr>\n",
       "    <tr>\n",
       "      <th>Sex</th>\n",
       "      <th></th>\n",
       "      <th></th>\n",
       "    </tr>\n",
       "  </thead>\n",
       "  <tbody>\n",
       "    <tr>\n",
       "      <th>female</th>\n",
       "      <td>13966.6628</td>\n",
       "      <td>27.915709</td>\n",
       "    </tr>\n",
       "    <tr>\n",
       "      <th>male</th>\n",
       "      <td>14727.2865</td>\n",
       "      <td>30.726645</td>\n",
       "    </tr>\n",
       "  </tbody>\n",
       "</table>\n",
       "</div>"
      ],
      "text/plain": [
       "              Fare        Age\n",
       "Sex                          \n",
       "female  13966.6628  27.915709\n",
       "male    14727.2865  30.726645"
      ]
     },
     "execution_count": 194,
     "metadata": {},
     "output_type": "execute_result"
    }
   ],
   "source": [
    "# similarly groupby the dataframe df\n",
    "df.groupby(\"Sex\").agg({\"Fare\":\"sum\",\"Age\":\"mean\"})"
   ]
  },
  {
   "cell_type": "markdown",
   "id": "6678daf7-795e-438e-bb22-3361141cb65c",
   "metadata": {},
   "source": [
    "#### 4. Time Series Analysis: \n",
    "\n",
    "Pandas provides functions to handle time-series data efficiently, like resampling data, handling date and time-related data, and more. This makes it easy to analyze and visualize time-series data.\n",
    "\n"
   ]
  },
  {
   "cell_type": "code",
   "execution_count": 195,
   "id": "4035ad8a-1afa-495f-a05b-97dae672874a",
   "metadata": {},
   "outputs": [],
   "source": [
    "df2=pd.DataFrame({\"date\":[\"2023-04-01\",\"2023-04-02\",\"2023-04-03\"]})"
   ]
  },
  {
   "cell_type": "code",
   "execution_count": 196,
   "id": "9ace9a69-e2d1-4be4-a290-9e708e10ca56",
   "metadata": {},
   "outputs": [
    {
     "data": {
      "text/html": [
       "<div>\n",
       "<style scoped>\n",
       "    .dataframe tbody tr th:only-of-type {\n",
       "        vertical-align: middle;\n",
       "    }\n",
       "\n",
       "    .dataframe tbody tr th {\n",
       "        vertical-align: top;\n",
       "    }\n",
       "\n",
       "    .dataframe thead th {\n",
       "        text-align: right;\n",
       "    }\n",
       "</style>\n",
       "<table border=\"1\" class=\"dataframe\">\n",
       "  <thead>\n",
       "    <tr style=\"text-align: right;\">\n",
       "      <th></th>\n",
       "      <th>date</th>\n",
       "    </tr>\n",
       "  </thead>\n",
       "  <tbody>\n",
       "    <tr>\n",
       "      <th>0</th>\n",
       "      <td>2023-04-01</td>\n",
       "    </tr>\n",
       "    <tr>\n",
       "      <th>1</th>\n",
       "      <td>2023-04-02</td>\n",
       "    </tr>\n",
       "    <tr>\n",
       "      <th>2</th>\n",
       "      <td>2023-04-03</td>\n",
       "    </tr>\n",
       "  </tbody>\n",
       "</table>\n",
       "</div>"
      ],
      "text/plain": [
       "         date\n",
       "0  2023-04-01\n",
       "1  2023-04-02\n",
       "2  2023-04-03"
      ]
     },
     "execution_count": 196,
     "metadata": {},
     "output_type": "execute_result"
    }
   ],
   "source": [
    "df2"
   ]
  },
  {
   "cell_type": "code",
   "execution_count": 198,
   "id": "0391b0e1-95b1-4ebf-ba1b-6bf54f0b405f",
   "metadata": {},
   "outputs": [
    {
     "data": {
      "text/plain": [
       "date    object\n",
       "dtype: object"
      ]
     },
     "execution_count": 198,
     "metadata": {},
     "output_type": "execute_result"
    }
   ],
   "source": [
    "df2.dtypes # output is object becuase we used date here in the form of string"
   ]
  },
  {
   "cell_type": "code",
   "execution_count": 199,
   "id": "ceceda67-9e90-4c92-8495-303721c482b9",
   "metadata": {},
   "outputs": [],
   "source": [
    "# we need to convert in datetime format data type\n",
    "df2[\"update_date\"]=pd.to_datetime(df2[\"date\"])"
   ]
  },
  {
   "cell_type": "code",
   "execution_count": 200,
   "id": "5b307fcf-de29-4f46-a5aa-3505d7e9bfbd",
   "metadata": {},
   "outputs": [
    {
     "data": {
      "text/html": [
       "<div>\n",
       "<style scoped>\n",
       "    .dataframe tbody tr th:only-of-type {\n",
       "        vertical-align: middle;\n",
       "    }\n",
       "\n",
       "    .dataframe tbody tr th {\n",
       "        vertical-align: top;\n",
       "    }\n",
       "\n",
       "    .dataframe thead th {\n",
       "        text-align: right;\n",
       "    }\n",
       "</style>\n",
       "<table border=\"1\" class=\"dataframe\">\n",
       "  <thead>\n",
       "    <tr style=\"text-align: right;\">\n",
       "      <th></th>\n",
       "      <th>date</th>\n",
       "      <th>update_date</th>\n",
       "    </tr>\n",
       "  </thead>\n",
       "  <tbody>\n",
       "    <tr>\n",
       "      <th>0</th>\n",
       "      <td>2023-04-01</td>\n",
       "      <td>2023-04-01</td>\n",
       "    </tr>\n",
       "    <tr>\n",
       "      <th>1</th>\n",
       "      <td>2023-04-02</td>\n",
       "      <td>2023-04-02</td>\n",
       "    </tr>\n",
       "    <tr>\n",
       "      <th>2</th>\n",
       "      <td>2023-04-03</td>\n",
       "      <td>2023-04-03</td>\n",
       "    </tr>\n",
       "  </tbody>\n",
       "</table>\n",
       "</div>"
      ],
      "text/plain": [
       "         date update_date\n",
       "0  2023-04-01  2023-04-01\n",
       "1  2023-04-02  2023-04-02\n",
       "2  2023-04-03  2023-04-03"
      ]
     },
     "execution_count": 200,
     "metadata": {},
     "output_type": "execute_result"
    }
   ],
   "source": [
    "df2"
   ]
  },
  {
   "cell_type": "code",
   "execution_count": 201,
   "id": "1a618db9-a530-41ec-b6f5-b215877a1812",
   "metadata": {},
   "outputs": [
    {
     "data": {
      "text/plain": [
       "date                   object\n",
       "update_date    datetime64[ns]\n",
       "dtype: object"
      ]
     },
     "execution_count": 201,
     "metadata": {},
     "output_type": "execute_result"
    }
   ],
   "source": [
    "df2.dtypes"
   ]
  },
  {
   "cell_type": "code",
   "execution_count": 204,
   "id": "935aa139-91f8-4482-9732-8197394e3252",
   "metadata": {},
   "outputs": [],
   "source": [
    "df2[\"year\"]=df2[\"update_date\"].dt.year\n",
    "df2[\"day\"]=df2[\"update_date\"].dt.day_name()\n",
    "df2[\"month\"]=df2[\"update_date\"].dt.month_name()"
   ]
  },
  {
   "cell_type": "code",
   "execution_count": 205,
   "id": "72014b9c-f6bc-45e1-8ec0-70092e841a1e",
   "metadata": {},
   "outputs": [
    {
     "data": {
      "text/html": [
       "<div>\n",
       "<style scoped>\n",
       "    .dataframe tbody tr th:only-of-type {\n",
       "        vertical-align: middle;\n",
       "    }\n",
       "\n",
       "    .dataframe tbody tr th {\n",
       "        vertical-align: top;\n",
       "    }\n",
       "\n",
       "    .dataframe thead th {\n",
       "        text-align: right;\n",
       "    }\n",
       "</style>\n",
       "<table border=\"1\" class=\"dataframe\">\n",
       "  <thead>\n",
       "    <tr style=\"text-align: right;\">\n",
       "      <th></th>\n",
       "      <th>date</th>\n",
       "      <th>update_date</th>\n",
       "      <th>year</th>\n",
       "      <th>day</th>\n",
       "      <th>month</th>\n",
       "    </tr>\n",
       "  </thead>\n",
       "  <tbody>\n",
       "    <tr>\n",
       "      <th>0</th>\n",
       "      <td>2023-04-01</td>\n",
       "      <td>2023-04-01</td>\n",
       "      <td>2023</td>\n",
       "      <td>Saturday</td>\n",
       "      <td>April</td>\n",
       "    </tr>\n",
       "    <tr>\n",
       "      <th>1</th>\n",
       "      <td>2023-04-02</td>\n",
       "      <td>2023-04-02</td>\n",
       "      <td>2023</td>\n",
       "      <td>Sunday</td>\n",
       "      <td>April</td>\n",
       "    </tr>\n",
       "    <tr>\n",
       "      <th>2</th>\n",
       "      <td>2023-04-03</td>\n",
       "      <td>2023-04-03</td>\n",
       "      <td>2023</td>\n",
       "      <td>Monday</td>\n",
       "      <td>April</td>\n",
       "    </tr>\n",
       "  </tbody>\n",
       "</table>\n",
       "</div>"
      ],
      "text/plain": [
       "         date update_date  year       day  month\n",
       "0  2023-04-01  2023-04-01  2023  Saturday  April\n",
       "1  2023-04-02  2023-04-02  2023    Sunday  April\n",
       "2  2023-04-03  2023-04-03  2023    Monday  April"
      ]
     },
     "execution_count": 205,
     "metadata": {},
     "output_type": "execute_result"
    }
   ],
   "source": [
    "df2"
   ]
  },
  {
   "cell_type": "code",
   "execution_count": null,
   "id": "1eaf368f-31d3-466a-9c5b-ab095cc77021",
   "metadata": {},
   "outputs": [],
   "source": [
    "# Time delta"
   ]
  },
  {
   "cell_type": "code",
   "execution_count": 206,
   "id": "5891e6dc-aefa-42b0-bd74-fa0cd3b194c4",
   "metadata": {},
   "outputs": [],
   "source": [
    "time=pd.Timedelta(days=1,hours=4,minutes=34,seconds=2)"
   ]
  },
  {
   "cell_type": "code",
   "execution_count": 207,
   "id": "da8b9892-7c3d-48db-a29c-3ace95206d72",
   "metadata": {},
   "outputs": [
    {
     "data": {
      "text/plain": [
       "Timedelta('1 days 04:34:02')"
      ]
     },
     "execution_count": 207,
     "metadata": {},
     "output_type": "execute_result"
    }
   ],
   "source": [
    "time"
   ]
  },
  {
   "cell_type": "code",
   "execution_count": 208,
   "id": "802a9cf3-4585-46a5-8ad8-b0b0acdd9422",
   "metadata": {},
   "outputs": [],
   "source": [
    "dt=pd.to_datetime(\"2023-04-17\")"
   ]
  },
  {
   "cell_type": "code",
   "execution_count": 209,
   "id": "65855df7-51b1-4952-9fc3-a9cb8cdcf710",
   "metadata": {},
   "outputs": [
    {
     "data": {
      "text/plain": [
       "Timestamp('2023-04-17 00:00:00')"
      ]
     },
     "execution_count": 209,
     "metadata": {},
     "output_type": "execute_result"
    }
   ],
   "source": [
    "dt"
   ]
  },
  {
   "cell_type": "code",
   "execution_count": 210,
   "id": "9e8bdc33-e903-42db-b513-27b41f24aea7",
   "metadata": {},
   "outputs": [
    {
     "data": {
      "text/plain": [
       "Timestamp('2023-04-18 04:34:02')"
      ]
     },
     "execution_count": 210,
     "metadata": {},
     "output_type": "execute_result"
    }
   ],
   "source": [
    "dt+time"
   ]
  },
  {
   "cell_type": "code",
   "execution_count": null,
   "id": "14d1e3e0-418e-40c1-bcbf-7a552a7e9b7d",
   "metadata": {},
   "outputs": [],
   "source": []
  },
  {
   "cell_type": "markdown",
   "id": "6dd9a5e1-75f7-4ef5-894c-111289b16fe5",
   "metadata": {},
   "source": [
    "#### 5. Data Visualization:\n",
    "Pandas provides functions to create plots and charts from data, making it easy to visualize data and gain insights into trends and patterns."
   ]
  },
  {
   "cell_type": "code",
   "execution_count": 211,
   "id": "541daedc-2031-4ebe-a05b-5dc97f5a44a4",
   "metadata": {},
   "outputs": [],
   "source": [
    "d=pd.Series([1,5,3,4,2,6,9,8])"
   ]
  },
  {
   "cell_type": "code",
   "execution_count": 212,
   "id": "5a163440-8ce8-4553-825c-4c170e2a2fa3",
   "metadata": {},
   "outputs": [
    {
     "data": {
      "text/plain": [
       "0    1\n",
       "1    5\n",
       "2    3\n",
       "3    4\n",
       "4    2\n",
       "5    6\n",
       "6    9\n",
       "7    8\n",
       "dtype: int64"
      ]
     },
     "execution_count": 212,
     "metadata": {},
     "output_type": "execute_result"
    }
   ],
   "source": [
    "d"
   ]
  },
  {
   "cell_type": "code",
   "execution_count": 213,
   "id": "56d759c5-8e9d-445c-8b9a-852a65b53cad",
   "metadata": {},
   "outputs": [
    {
     "data": {
      "text/plain": [
       "<AxesSubplot: >"
      ]
     },
     "execution_count": 213,
     "metadata": {},
     "output_type": "execute_result"
    },
    {
     "data": {
      "image/png": "[encoded data removed]",
      "text/plain": [
       "<Figure size 640x480 with 1 Axes>"
      ]
     },
     "metadata": {},
     "output_type": "display_data"
    }
   ],
   "source": [
    "d.plot() # indexes are available on x-axis and data will be available in y-axis"
   ]
  },
  {
   "cell_type": "code",
   "execution_count": null,
   "id": "44328adb-0709-469b-875a-10b2a9180d66",
   "metadata": {},
   "outputs": [],
   "source": []
  },
  {
   "cell_type": "code",
   "execution_count": null,
   "id": "a7cb41d7-600d-4eef-bdf8-0a766d10df3d",
   "metadata": {},
   "outputs": [],
   "source": []
  }
 ],
 "metadata": {
  "kernelspec": {
   "display_name": "Python 3 (ipykernel)",
   "language": "python",
   "name": "python3"
  },
  "language_info": {
   "codemirror_mode": {
    "name": "ipython",
    "version": 3
   },
   "file_extension": ".py",
   "mimetype": "text/x-python",
   "name": "python",
   "nbconvert_exporter": "python",
   "pygments_lexer": "ipython3",
   "version": "3.10.8"
  }
 },
 "nbformat": 4,
 "nbformat_minor": 5
}
