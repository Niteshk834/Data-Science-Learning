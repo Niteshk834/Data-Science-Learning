{
 "cells": [
  {
   "cell_type": "markdown",
   "id": "9c606407-273f-49c7-862f-c58f125e0386",
   "metadata": {},
   "source": [
    "# Assignment-5 \n",
    "\n",
    "## Tableau\n",
    "\n",
    "### Name- NITESH KUMAR Batch-4"
   ]
  },
  {
   "cell_type": "markdown",
   "id": "83dc2316-c6cc-43d6-9399-4c4e76a3fe1f",
   "metadata": {},
   "source": [
    "# Q1. What are the different Tableau files?\n"
   ]
  },
  {
   "cell_type": "markdown",
   "id": "b2b9ec0f-aad8-41ed-8f82-1572bd8a49f3",
   "metadata": {},
   "source": [
    "### Answer:-"
   ]
  },
  {
   "cell_type": "markdown",
   "id": "5c9744ff-87be-4f9d-8c58-78b81ca7398b",
   "metadata": {},
   "source": [
    "Tableau is a popular data visualization and business intelligence tool, uses several file formats to store and manage data and visualizations. Here are the different Tableau file types:\n",
    "\n",
    "Imagine we are a data analyst working on a project to analyze and visualize sales data for a company. Here's how the different Tableau files come into play:\n",
    "\n",
    "#### 1. Tableau Workbook (.twb):\n",
    "We start by creating a Tableau Workbook (.twb) file named \"SalesAnalysis.twb\". Within this workbook, we create multiple worksheets, charts, and dashboards to analyze and visualize the sales data. We define data connections, apply filters, create calculated fields, and design the visual layout. The \".twb\" file contains references to all these elements and serves as the main project file.\n",
    "\n",
    "#### 2. Tableau Packaged Workbook (.twbx):\n",
    "Once we have completed our analysis and want to share our work with others, we can create a packaged workbook. We save your \"SalesAnalysis.twb\" file as a Tableau Packaged Workbook (.twbx) named \"SalesAnalysis.twbx\". This packaged workbook includes the \".twb\" file itself, along with any local data sources or extracts that were used in the workbook. By sharing the packaged workbook, we ensure that others can view and interact with the visualizations without any dependency on external data sources.\n",
    "\n",
    "#### 3. Tableau Data Source (.tds):\n",
    "In our \"SalesAnalysis.twb\" workbook, we have connected to a data source, such as a Microsoft Excel file or a database. To store the connection information and metadata about this data source separately, we save it as a Tableau Data Source (.tds) file. Let's call it \"SalesData.tds\". The \".tds\" file contains details about how to connect to the data, such as the file location, credentials, and data structure.\n",
    "\n",
    "#### 4. Tableau Data Extract (.tde or .hyper):\n",
    "To improve performance and enable offline access, we decide to create a Tableau Data Extract. We create an extract from the original sales data source and save it as a Tableau Data Extract (.tde or .hyper) file. Let's assume we save it as \"SalesExtract.hyper\". The extract file contains a subset of the data, optimized for Tableau's processing engine. It allows for faster querying and analysis compared to directly connecting to the full dataset.\n",
    "\n",
    "#### 5. Tableau Packaged Data Source (.tdsx):\n",
    "To package the data source along with its associated extract, we create a Tableau Packaged Data Source (.tdsx) file. We save both the \"SalesData.tds\" file and the \"SalesExtract.hyper\" file together as \"SalesDataSource.tdsx\". This packaged data source can be shared and used by others to connect to the same data and benefit from the optimized extract.\n",
    "\n",
    "#### 6. Tableau Bookmark (.tbm):\n",
    "As we explore and analyze different views within our workbook, we might want to bookmark specific states or filter selections. For example, we create a bookmark called \"TopCustomers\" that highlights a particular dashboard view showing the top customers based on sales. This bookmark is saved as a Tableau Bookmark (.tbm) file, let's say \"TopCustomers.tbm\". We can share this bookmark with others, allowing them to directly navigate to that specific view or filter selection in the workbook.\n",
    "\n",
    "By utilizing these Tableau file types, we can effectively manage and share our analysis work, including the workbook, data sources, extracts, and specific views or states of your visualizations."
   ]
  },
  {
   "cell_type": "code",
   "execution_count": null,
   "id": "6eb7147f-f8d1-4ec4-89c4-0f6c221d3b68",
   "metadata": {},
   "outputs": [],
   "source": []
  },
  {
   "cell_type": "markdown",
   "id": "d4831cda-f074-4e78-888a-e028bc0c657b",
   "metadata": {},
   "source": [
    "# Q2. Explain Charts, Tables and Filter in Tableau. \n"
   ]
  },
  {
   "cell_type": "markdown",
   "id": "5e48620f-c13d-47a2-9a0d-d93dc3b27bf3",
   "metadata": {},
   "source": [
    "### Answer:-"
   ]
  },
  {
   "cell_type": "markdown",
   "id": "789f6444-15fb-424b-96b9-afeb5659ed22",
   "metadata": {},
   "source": [
    "### 1. Charts:\n",
    "Charts are visual representations of data that help users understand and analyze information. Tableau offers a wide range of chart types to visualize data effectively. Here are some common types of charts available in Tableau:\n",
    "\n",
    "##### (a) Bar Chart:\n",
    "Displays data using rectangular bars of varying lengths. It is suitable for comparing values across different categories.\n",
    "\n",
    "##### (b) Line Chart:\n",
    "Shows the trend of data points over time or any continuous variable. It connects data points with lines, allowing users to observe patterns and trends easily.\n",
    "\n",
    "##### (c) Pie Chart:\n",
    "Represents data as slices of a circle, where each slice corresponds to a category or proportion of the whole. It is useful for showing the composition of a whole.\n",
    "\n",
    "##### (d) Scatter Plot: \n",
    "Uses two continuous variables to plot data points on a graph. It helps identify relationships and correlations between variables.\n",
    "\n",
    "##### (e) Area Chart:\n",
    "Similar to a line chart, but the area beneath the line is filled, creating a visual representation of the cumulative values over time.\n",
    "\n",
    "##### (f) Heat Map: \n",
    "Uses color-coding to represent the magnitude or density of values across two dimensions. It is effective for identifying patterns and highlighting variations.\n",
    "\n",
    "These are just a few examples of the chart types available in Tableau. Each chart can be customized with different dimensions, measures, colors, labels, and other properties to suit the specific data and analysis requirements.\n",
    "\n",
    "### 2. Tables:\n",
    "Tables in Tableau provide a structured way to present data in rows and columns. They are commonly used to display detailed information and allow users to explore data at a granular level. In a Tableau table, each row typically represents a data record or observation, and each column represents a data field or attribute.\n",
    "Tableau offers various functionalities for working with tables, including sorting, filtering, and applying conditional formatting. Users can interact with the table by drilling down into data, pivoting dimensions, or aggregating measures. Tables can be combined with other visualizations within a dashboard to provide a comprehensive view of the data.\n",
    "\n",
    "### 3. Filters:\n",
    "Filters in Tableau allow users to selectively include or exclude data based on specific criteria. Filters enable users to focus on relevant subsets of data and perform targeted analysis. Here are the different types of filters in Tableau:\n",
    "\n",
    "##### (a) Dimension Filters: \n",
    "Dimension filters allow users to filter data based on discrete variables or dimensions.\n",
    "For example, we can filter sales data to show only a specific region, product category, or customer segment.\n",
    "\n",
    "##### (b) Measure Filters: \n",
    "Measure filters enable users to filter data based on continuous variables or measures. For instance, we can filter sales data to show only products with sales above a certain threshold.\n",
    "\n",
    "##### (c) Quick Filters: \n",
    "Quick filters provide a quick way to interactively filter data by adding filter options directly to the view. Users can select values from the quick filter to dynamically update the visualization.\n",
    "\n",
    "##### (d) Top Filters: \n",
    "Top filters help users focus on the top or bottom data values based on a particular measure. We can set the number of values to include, such as the top 10 products by sales.\n",
    "\n",
    "##### (e) Context Filters: \n",
    "Context filters allow users to define a specific context for analysis. When a context filter is applied, Tableau computes the view based on the filtered data, ignoring other filters until the context is cleared.\n",
    "\n",
    "Filters in Tableau can be applied at different levels, such as at the worksheet level, dashboard level, or across multiple worksheets. They provide flexibility in exploring data subsets and uncovering insights.\n",
    "\n",
    "By leveraging charts, tables, and filters in Tableau, users can create dynamic and interactive visualizations, analyze data from multiple perspectives, and gain valuable insights for decision-making."
   ]
  },
  {
   "cell_type": "code",
   "execution_count": null,
   "id": "fbf84058-bdaa-4754-9dbf-d18b4f4c3fa3",
   "metadata": {},
   "outputs": [],
   "source": []
  },
  {
   "cell_type": "markdown",
   "id": "185d6f4d-78f4-499f-95db-8d2ac8f919d6",
   "metadata": {},
   "source": [
    "# Q3. Why should you use Tableau?"
   ]
  },
  {
   "cell_type": "markdown",
   "id": "658b09fb-ae92-41e6-b030-0c1dadc56c64",
   "metadata": {},
   "source": [
    "### Answer:-"
   ]
  },
  {
   "cell_type": "markdown",
   "id": "fa22842a-ab14-4de3-9296-cf424cdae022",
   "metadata": {},
   "source": [
    "There are several reasons to use Tableau for data visualization and analysis:\n",
    "\n",
    "#### 1. User-Friendly Interface: \n",
    "Tableau provides an intuitive and user-friendly interface, making it accessible to users of all skill levels. You can easily connect to data sources, drag and drop fields onto the canvas, and create interactive visualizations without extensive coding or technical knowledge.\n",
    "\n",
    "#### 2. Wide Range of Visualizations:\n",
    "Tableau offers a comprehensive set of visualizations, including charts, maps, tables, and dashboards, to present data in meaningful and engaging ways. The extensive library of visualization options enables we to choose the most suitable representation for our data and effectively communicate insights.\n",
    "\n",
    "#### 3. Data Connectivity and Integration:\n",
    "Tableau supports a vast array of data sources, including spreadsheets, databases, cloud services, and big data platforms. It allows you to connect to multiple data sources simultaneously and blend and transform data as needed. This flexibility ensures that we can work with diverse data sets and combine data from different sources seamlessly.\n",
    "\n",
    "#### 4. Powerful Analytics Capabilities:\n",
    "Tableau provides robust analytics capabilities to explore, analyze, and derive insights from our data. It supports advanced calculations, statistical functions, forecasting, and data modeling, allowing us to perform complex analysis and uncover patterns, trends, and correlations in our data.\n",
    "\n",
    "#### Interactive and Dynamic Dashboards:\n",
    "With Tableau, we can create interactive dashboards that enable users to explore and interact with data in real time. Dashboards can be customized with filters, parameters, and actions, allowing users to drill down into specific data subsets and view multiple perspectives of the data. The interactivity fosters data exploration and enhances the decision-making process.\n",
    "\n",
    "#### Collaboration and Sharing:\n",
    "Tableau facilitates collaboration and sharing of insights across teams and organizations. We can publish workbooks and dashboards to Tableau Server or Tableau Online, enabling others to access and interact with our visualizations securely. Tableau's sharing capabilities enhance communication, promote knowledge sharing, and foster a data-driven culture within organizations.\n",
    "\n",
    "#### Scalability and Performance:\n",
    "Tableau is designed to handle large data sets and deliver high-performance visualizations. It utilizes in-memory data processing and optimization techniques to provide fast and interactive experiences, even with vast amounts of data. Tableau's scalability ensures that it can handle the growing needs of organizations and adapt to changing data requirements.\n",
    "\n",
    "#### Mobile Accessibility: \n",
    "Tableau provides mobile apps for iOS and Android devices, allowing users to access their dashboards and visualizations on the go. The responsive design and touch-optimized interface enable users to explore data and gain insights from their mobile devices, enhancing productivity and decision-making flexibility.\n",
    "\n",
    "These are just a few reasons why Tableau is widely used and valued in the field of data visualization and analytics. Its user-friendly interface, diverse visualization options, powerful analytics capabilities, and collaborative features make it a powerful tool for understanding and communicating data-driven insights."
   ]
  },
  {
   "cell_type": "code",
   "execution_count": null,
   "id": "5ada46b2-c473-4267-abc8-dcb30c11de82",
   "metadata": {},
   "outputs": [],
   "source": []
  },
  {
   "cell_type": "markdown",
   "id": "74655968-4d20-4590-b79d-748830930fb9",
   "metadata": {},
   "source": [
    "# Q4. Create Dashboard and Stories in Tableau."
   ]
  },
  {
   "cell_type": "markdown",
   "id": "b295cb86-c0ff-4831-8cc3-9d844c482a7f",
   "metadata": {},
   "source": [
    "### Answer:-"
   ]
  },
  {
   "cell_type": "markdown",
   "id": "61e8b921-e017-44a7-898e-5ece13e2b4c3",
   "metadata": {},
   "source": [
    "#### Create Dashboards in Tableau:\n",
    "\n",
    "A dashboard in Tableau is a collection of visualizations, filters, and other elements that provide a consolidated view of data. Here's how we can create a dashboard in Tableau:\n",
    "\n",
    "Step 1: Open Tableau Desktop and connect to our data source.\n",
    "Step 2: Create the desired worksheets by dragging and dropping fields onto the canvas and customizing the visualizations.\n",
    "Step 3: Arrange the worksheets on the dashboard by dragging them from the \"Sheets\" pane onto the dashboard canvas.\n",
    "Step 4: Customize the layout of the dashboard by resizing and repositioning the worksheets as desired.\n",
    "Step 5: Add interactivity by applying filters, parameters, and actions to the worksheets.\n",
    "Step 6: Format the dashboard by adjusting the fonts, colors, and other visual properties.\n",
    "Step 7: Save the dashboard by selecting \"Dashboard\" > \"Save\" from the Tableau menu.\n",
    "\n",
    "I have created a Dashboard for credit card complaints analysis and link for go to my dashboard is as below:\n",
    "https://public.tableau.com/views/CreditCardComplaintsAnalysis_16838289052370/Dashboard1?:language=en-US&publish=yes&:display_count=n&:origin=viz_share_link"
   ]
  },
  {
   "cell_type": "markdown",
   "id": "7a249c79-05d4-46c7-9ab7-241469f34b42",
   "metadata": {},
   "source": [
    "#### Creating Stories in Tableau:\n",
    "\n",
    "There is no more explore about stories option in tableau public in free version. we are not getting save option too in free version.\n",
    "\n",
    "But we can create stories in tableau in licence version and steps are below:\n",
    "\n",
    "Stories in Tableau allow us to present a sequence of visualizations and insights in a narrative format. Stories enable us to guide viewers through the data and tell a compelling data-driven story. Here's how we can create a story in Tableau:\n",
    "\n",
    "Step 1: Open Tableau Desktop and connect to our data source.\n",
    "\n",
    "Step 2: Create the visualizations and worksheets that you want to include in our story.\n",
    "\n",
    "Step 3: Arrange the worksheets in the desired order by dragging them from the \"Sheets\" pane onto the story canvas.\n",
    "\n",
    "Step 4: Customize each individual sheet within the story by selecting it and making adjustments to the visual properties, filters, or other settings.\n",
    "\n",
    "Step 5: Add captions and annotations to provide context and explanations for each visualization within the story.\n",
    "\n",
    "Step 6: Customize the layout of the story by adjusting the size, position, and arrangement of the sheets.\n",
    "\n",
    "Step 7: Add additional elements to the story, such as text boxes, images, or web objects, to enhance the narrative.\n",
    "\n",
    "Step 8: Format the story by selecting \"Format\" from the Tableau menu and adjusting the appearance and layout.\n",
    "\n",
    "Step 9: Save the story by selecting \"Story\" > \"Save\" from the Tableau menu.\n",
    "\n",
    "We can also add transitions and annotations to guide viewers through the story, set specific navigation paths, and include interactive elements such as filter actions or parameter controls.\n",
    "\n",
    "Remember to regularly save our work as we progress and consider using Tableau's preview or presentation mode to view and fine-tune the dashboard or story before sharing it with others.\n",
    "\n",
    "By creating dashboards and stories in Tableau, we can effectively present data, convey insights, and provide a guided experience for our viewers or stakeholders."
   ]
  },
  {
   "cell_type": "code",
   "execution_count": null,
   "id": "dc9761b8-711d-4c6f-910c-5fad97c2aafc",
   "metadata": {},
   "outputs": [],
   "source": []
  }
 ],
 "metadata": {
  "kernelspec": {
   "display_name": "Python 3 (ipykernel)",
   "language": "python",
   "name": "python3"
  },
  "language_info": {
   "codemirror_mode": {
    "name": "ipython",
    "version": 3
   },
   "file_extension": ".py",
   "mimetype": "text/x-python",
   "name": "python",
   "nbconvert_exporter": "python",
   "pygments_lexer": "ipython3",
   "version": "3.10.8"
  }
 },
 "nbformat": 4,
 "nbformat_minor": 5
}
