{
 "cells": [
  {
   "cell_type": "markdown",
   "id": "cb5af7d8-5329-451d-9576-f1664e7013e2",
   "metadata": {},
   "source": [
    "# Assignment-1\n",
    "## Name- NITESH KUMAR"
   ]
  },
  {
   "cell_type": "code",
   "execution_count": null,
   "id": "a3fc2de7-1824-4708-bb23-411f042c6853",
   "metadata": {},
   "outputs": [],
   "source": []
  },
  {
   "cell_type": "markdown",
   "id": "1a1a24c7-f73e-422f-aeb2-2c2647957622",
   "metadata": {},
   "source": [
    "# Q1. Explain Python Tokens & Data Types with  the help of Example. \n"
   ]
  },
  {
   "cell_type": "markdown",
   "id": "4bb025c5-b105-403b-b1b0-68c412c98211",
   "metadata": {},
   "source": [
    "## Answer:-"
   ]
  },
  {
   "cell_type": "markdown",
   "id": "b62b5474-72ab-4e57-bc2a-eeebb795900f",
   "metadata": {},
   "source": [
    "# Tokens"
   ]
  },
  {
   "cell_type": "markdown",
   "id": "f6959f5d-5c96-4948-a2c7-743fb6b475aa",
   "metadata": {},
   "source": [
    "A token is the smallest individual unit in a python program. All statements and instructions in a program are built with tokens. The various tokens in python are :"
   ]
  },
  {
   "cell_type": "markdown",
   "id": "88ca8039-95f0-4d65-ba37-64a2527841e2",
   "metadata": {},
   "source": [
    "#### 1. Keywords:\n",
    "\n",
    "Keywords are words that have some special meaning or significance in a programming language. They can’t be used as variable names, function names, or any other random purpose. They are used for their special features. In Python keywords are:"
   ]
  },
  {
   "cell_type": "code",
   "execution_count": 2,
   "id": "f50e65e9-d715-4661-8b22-30839aee19f8",
   "metadata": {},
   "outputs": [
    {
     "name": "stdout",
     "output_type": "stream",
     "text": [
      "\n",
      "Here is a list of the Python keywords.  Enter any keyword to get more help.\n",
      "\n",
      "False               break               for                 not\n",
      "None                class               from                or\n",
      "True                continue            global              pass\n",
      "__peg_parser__      def                 if                  raise\n",
      "and                 del                 import              return\n",
      "as                  elif                in                  try\n",
      "assert              else                is                  while\n",
      "async               except              lambda              with\n",
      "await               finally             nonlocal            yield\n",
      "\n"
     ]
    }
   ],
   "source": [
    "help(\"keywords\")"
   ]
  },
  {
   "cell_type": "code",
   "execution_count": null,
   "id": "e54df73c-64d7-4956-9b4f-578368e57e2d",
   "metadata": {},
   "outputs": [],
   "source": [
    "# Example"
   ]
  },
  {
   "cell_type": "code",
   "execution_count": 4,
   "id": "0fe6ade6-abd5-4b6b-93a8-983f3cc024e7",
   "metadata": {},
   "outputs": [
    {
     "name": "stdout",
     "output_type": "stream",
     "text": [
      "1\n",
      "2\n",
      "3\n",
      "4\n"
     ]
    }
   ],
   "source": [
    "for i in range(1,16):\n",
    "    print(i)\n",
    "    \n",
    "    if i<4:\n",
    "        continue\n",
    "    else:\n",
    "        break\n",
    "# in this example for loop,if, continue,else, break are the keywords.    \n",
    "    \n",
    "    "
   ]
  },
  {
   "cell_type": "markdown",
   "id": "e6c6c092-9764-481c-bb66-6084cb1381c4",
   "metadata": {},
   "source": [
    "#### 2. Identifiers"
   ]
  },
  {
   "cell_type": "markdown",
   "id": "6357bedf-1fd4-44f2-afbf-3a30f6d29aab",
   "metadata": {},
   "source": [
    "Identifiers are the names given to any variable, function, class, list, methods, etc. for their identification. Python is a case-sensitive language and it has some rules and regulations to name an identifier. Here are some rules to name an identifier:-\n",
    "\n",
    "1. As stated above, Python is case-sensitive. So case matters in naming identifiers. And hence iot and Iot are two different identifiers.\n",
    "\n",
    "2. Identifier starts with a capital letter (A-Z) , a small letter (a-z) or an underscore( _ ). It can’t start with any other character.\n",
    "\n",
    "3. Except for letters and underscore, digits can also be a part of identifier but can’t be the first character of it.\n",
    "\n",
    "4. Any other special characters or whitespaces are strictly prohibited in an identifier.\n",
    "\n",
    "5. An identifier can’t be a keyword."
   ]
  },
  {
   "cell_type": "code",
   "execution_count": null,
   "id": "a37f24c6-d32d-4f4b-bbce-f70a491f4c6d",
   "metadata": {},
   "outputs": [],
   "source": [
    "# Example"
   ]
  },
  {
   "cell_type": "code",
   "execution_count": 5,
   "id": "077b1b81-c2f5-4b46-8adf-078090c1a827",
   "metadata": {},
   "outputs": [
    {
     "name": "stdout",
     "output_type": "stream",
     "text": [
      "Hello student\n",
      "IIT Guwahati \n"
     ]
    }
   ],
   "source": [
    "# Here welcome and institute are the identifier\n",
    "welcome = 'Hello student'\n",
    "_institute = \"IIT Guwahati \"\n",
    "\n",
    "# Driver code\n",
    "print(welcome)\n",
    "print(_institute)\n"
   ]
  },
  {
   "cell_type": "markdown",
   "id": "1b54e5c3-2f82-4423-86fa-ed60b15ebd79",
   "metadata": {},
   "source": [
    "#### 3. Literals"
   ]
  },
  {
   "cell_type": "markdown",
   "id": "1a266a7d-4c21-49b0-8343-900b6f2ad143",
   "metadata": {},
   "source": [
    "Literals are used to define the data as a variable or constants. Also, a literal is a value that is directly represented in code. \n",
    "Python has 6 literals tokens:"
   ]
  },
  {
   "cell_type": "markdown",
   "id": "48be0f00-2caa-4be7-beb9-1b463b449593",
   "metadata": {},
   "source": [
    "1. Numeric literal\n",
    "2. string literal\n",
    "3. Boolean literal\n",
    "4. collection literal\n",
    "   a. list\n",
    "   b. tuple\n",
    "5. set literal\n",
    "6. Dictionary literal"
   ]
  },
  {
   "cell_type": "code",
   "execution_count": 16,
   "id": "efc4a2b3-bca2-4764-bfcd-e086505a4532",
   "metadata": {},
   "outputs": [
    {
     "name": "stdout",
     "output_type": "stream",
     "text": [
      "54\n",
      "4.7\n",
      "nitesh\n",
      "True\n",
      "[2, 4, 'nitesh kumar', 'Iot']\n",
      "(3, 6, 'kumar', 6, 'data science')\n",
      "{3, 5, 'nk@gmail.com', 6}\n",
      "{'name': 'nitesh', 'empl_id': 4242, 'email': 'niteshk834@gmail.com'}\n"
     ]
    }
   ],
   "source": [
    "# Example\n",
    "a= 54 # integer number literal\n",
    "b=4.7 # floating number literal\n",
    "c=\"nitesh\" # string literals\n",
    "d= (a==54) # Boolean literal\n",
    "e=[2,4,\"nitesh kumar\",\"Iot\"] # list literal under collection\n",
    "f=(3,6,\"kumar\",6,\"data science\") # tuple literals under collection\n",
    "g={3,5,\"nk@gmail.com\",6} # set literals\n",
    "h= {\"name\":\"nitesh\",\"empl_id\":4242,\"email\":\"niteshk834@gmail.com\"} # dictionary literal\n",
    "print(a)\n",
    "print(b)\n",
    "print(c)\n",
    "print(d)\n",
    "print(e)\n",
    "print(f)\n",
    "print(g)\n",
    "print(h)"
   ]
  },
  {
   "cell_type": "markdown",
   "id": "82060a9e-49af-4fb3-9fc9-2fafed5ca758",
   "metadata": {},
   "source": [
    "#### 4. operator"
   ]
  },
  {
   "cell_type": "markdown",
   "id": "d1db5919-26d7-4fad-96dc-b5f46878fb19",
   "metadata": {},
   "source": [
    "operator are the tokens responsible to perform an operation in an expression. The variables on which operation is applied are called operands. Operators can be unary or binary. Unary operators are the ones acting on a single operand like complement operator, etc. While binary operators need two operands to operate."
   ]
  },
  {
   "cell_type": "code",
   "execution_count": 17,
   "id": "6c420da6-f514-41e6-a511-850d27fcf81e",
   "metadata": {},
   "outputs": [
    {
     "name": "stdout",
     "output_type": "stream",
     "text": [
      "14\n",
      "True\n"
     ]
    }
   ],
   "source": [
    "# Example\n",
    "a=6+ 8 # Arithmetic operator\n",
    "b= 6<8 # logical operator\n",
    "print(a)\n",
    "print(b)"
   ]
  },
  {
   "cell_type": "markdown",
   "id": "65a478a4-dc01-4396-8452-5774ea4a8512",
   "metadata": {},
   "source": [
    "#### 5. punctuators"
   ]
  },
  {
   "cell_type": "markdown",
   "id": "2270c527-163f-4575-a126-eed44c68506a",
   "metadata": {},
   "source": [
    "These are the symbols that used in Python to organize the structures, statements, and expressions. Some of the Punctuators are:\n",
    "{}\n",
    "[]\n",
    "()\n",
    "@\n",
    "+=\n",
    "//=\n",
    "=\n"
   ]
  },
  {
   "cell_type": "code",
   "execution_count": 18,
   "id": "62091c1a-500c-4bcc-afde-44b0b24e0775",
   "metadata": {},
   "outputs": [
    {
     "name": "stdout",
     "output_type": "stream",
     "text": [
      "15\n"
     ]
    }
   ],
   "source": [
    "# Example\n",
    "a=5\n",
    "a+=10\n",
    "print(a)"
   ]
  },
  {
   "cell_type": "markdown",
   "id": "76e082f1-f8b1-45fc-864c-6870a03099a0",
   "metadata": {},
   "source": [
    "# Data Types"
   ]
  },
  {
   "cell_type": "markdown",
   "id": "060c40d3-4d40-4335-81a4-73dce969dbd9",
   "metadata": {},
   "source": [
    "A data type is a classification of the type of data that a variable or object can hold.Python does support several built-in data types, which include:"
   ]
  },
  {
   "cell_type": "markdown",
   "id": "04b1c697-f0fd-47d4-a9bd-1ff46455c2b7",
   "metadata": {},
   "source": [
    "1. Numeric \n",
    "2. Boolean\n",
    "3. string\n",
    "4. list\n",
    "5. tuple\n",
    "6. set\n",
    "7. Dictionary"
   ]
  },
  {
   "cell_type": "markdown",
   "id": "76614f17-68a1-4aa6-a646-bdcaae4e1ecb",
   "metadata": {},
   "source": [
    "#### 1. Numeric data type"
   ]
  },
  {
   "cell_type": "markdown",
   "id": "3ad3575f-99a3-4262-8827-fa8bddc39bc9",
   "metadata": {},
   "source": [
    "This includes integer, floating-point, and complex numbers. Integers are whole numbers, floating-point numbers are decimal numbers, and complex numbers are numbers with a real and imaginary part."
   ]
  },
  {
   "cell_type": "code",
   "execution_count": 25,
   "id": "455505ae-1fd8-4683-866a-b14abf289a26",
   "metadata": {},
   "outputs": [
    {
     "name": "stdout",
     "output_type": "stream",
     "text": [
      "7\n",
      "5.4\n",
      "(5+7j)\n"
     ]
    }
   ],
   "source": [
    "# Example\n",
    "a=7 # integer number\n",
    "b=5.4 # floating number\n",
    "c=5+7j # complex number\n",
    "print(a)\n",
    "print(b)\n",
    "print(c)"
   ]
  },
  {
   "cell_type": "markdown",
   "id": "a2364a67-175e-44f1-bdb9-7ac6655d73e8",
   "metadata": {},
   "source": [
    "#### 2. Boolean data type"
   ]
  },
  {
   "cell_type": "markdown",
   "id": "28ce1aed-3d22-4706-b713-b8c3d067bab3",
   "metadata": {},
   "source": [
    "A Boolean data type can only have two possible values: True or False. Boolean values are often used in programming to make decisions based on conditions."
   ]
  },
  {
   "cell_type": "code",
   "execution_count": 24,
   "id": "0262337a-4c45-4ca5-84f0-1cf636347876",
   "metadata": {},
   "outputs": [
    {
     "name": "stdout",
     "output_type": "stream",
     "text": [
      "The value is: 5\n"
     ]
    }
   ],
   "source": [
    "# Example\n",
    "a=5\n",
    "if a==5:\n",
    "    print(\"The value is:\",a)"
   ]
  },
  {
   "cell_type": "markdown",
   "id": "54f1f94e-d32a-48a1-af93-a76d292f839e",
   "metadata": {},
   "source": [
    "#### 3. string data type"
   ]
  },
  {
   "cell_type": "markdown",
   "id": "b5469354-fa53-4df4-a48a-72a627ab7511",
   "metadata": {},
   "source": [
    "Strings are used to represent text data in Python. They are sequences of characters and are enclosed in single or double quotes."
   ]
  },
  {
   "cell_type": "code",
   "execution_count": 23,
   "id": "600b0291-7d86-42a1-9879-4be151053981",
   "metadata": {},
   "outputs": [
    {
     "name": "stdout",
     "output_type": "stream",
     "text": [
      "Iot Academy\n"
     ]
    }
   ],
   "source": [
    "# Example\n",
    "a=\"Iot Academy\"\n",
    "print(a)"
   ]
  },
  {
   "cell_type": "markdown",
   "id": "39eabd0f-6ced-4ce7-9224-a3eff0967f07",
   "metadata": {},
   "source": [
    "#### 4. list data type"
   ]
  },
  {
   "cell_type": "markdown",
   "id": "23746786-398b-4b8b-9e31-053bc2d73111",
   "metadata": {},
   "source": [
    "Lists are ordered collections of items and are mutable, meaning their values can be changed.list are enclosed in square brakets. "
   ]
  },
  {
   "cell_type": "code",
   "execution_count": 22,
   "id": "e59467ab-3aea-42bf-8c02-e696765b4bf4",
   "metadata": {},
   "outputs": [
    {
     "name": "stdout",
     "output_type": "stream",
     "text": [
      "[2, 5, 'iot', 'nitesh']\n"
     ]
    }
   ],
   "source": [
    "# Example\n",
    "lst=[2,5,\"iot\",\"nitesh\"]\n",
    "print(lst)"
   ]
  },
  {
   "cell_type": "markdown",
   "id": "e6414c11-631d-456b-bdfc-1bf9d7a43524",
   "metadata": {},
   "source": [
    "#### 5. tuple data type"
   ]
  },
  {
   "cell_type": "markdown",
   "id": "60b52529-3677-45fc-8ea8-0c9e86101537",
   "metadata": {},
   "source": [
    "tuples are similar to lists but they are immutable, means that their value can not be changed. tuple are enclosed in paranthesis. "
   ]
  },
  {
   "cell_type": "code",
   "execution_count": 21,
   "id": "8208f827-d122-48fa-a80f-34ac73dcd792",
   "metadata": {},
   "outputs": [
    {
     "name": "stdout",
     "output_type": "stream",
     "text": [
      "(2, 4, 6, 87, 'nitesh kumar', 'Data science')\n"
     ]
    }
   ],
   "source": [
    "# Example\n",
    "t=(2,4,6,87,\"nitesh kumar\",\"Data science\")\n",
    "print(t)"
   ]
  },
  {
   "cell_type": "markdown",
   "id": "02eb765c-0879-4818-b377-82afde4b9166",
   "metadata": {},
   "source": [
    "#### 6. set data type"
   ]
  },
  {
   "cell_type": "markdown",
   "id": "e1e412de-fbcd-4201-a505-bcb31b03a03e",
   "metadata": {},
   "source": [
    "Sets are unordered collections of unique items. They are enclosed in curly braces and can be used to perform set operations such as union, intersection, and difference. "
   ]
  },
  {
   "cell_type": "code",
   "execution_count": 20,
   "id": "45bb61e4-7e71-4e49-92a4-07c2378276cb",
   "metadata": {},
   "outputs": [
    {
     "name": "stdout",
     "output_type": "stream",
     "text": [
      "{2, 5, 6, 'nk@gmail.com', 87, 9, 'Data science Master'}\n"
     ]
    }
   ],
   "source": [
    "# Example\n",
    "s={2,5,6,87,9,\"nk@gmail.com\",\"Data science Master\"}\n",
    "print(s)"
   ]
  },
  {
   "cell_type": "markdown",
   "id": "8cb474a3-beec-469f-bdd1-8e7b8b1c0063",
   "metadata": {},
   "source": [
    "#### 7. Dictionary data type"
   ]
  },
  {
   "cell_type": "markdown",
   "id": "77668da8-37e7-4b8e-b46a-de763ef1ad7d",
   "metadata": {},
   "source": [
    "Dictionaries are collections of key-value pairs. They are enclosed in curly braces and each key-value pair is separated by a colon."
   ]
  },
  {
   "cell_type": "code",
   "execution_count": 19,
   "id": "3b1629a5-0029-474f-8456-ab5d9d825b17",
   "metadata": {},
   "outputs": [
    {
     "name": "stdout",
     "output_type": "stream",
     "text": [
      "{'name': 'nitesh', 'course': 'Data Science', 'Emp_Id': 4242}\n"
     ]
    }
   ],
   "source": [
    "# Example\n",
    "d={\"name\":\"nitesh\",\"course\":\"Data Science\",\"Emp_Id\":4242}\n",
    "print(d)"
   ]
  },
  {
   "cell_type": "code",
   "execution_count": null,
   "id": "3114ff55-9794-4fcf-b66f-3dac0bf06b2e",
   "metadata": {},
   "outputs": [],
   "source": []
  },
  {
   "cell_type": "markdown",
   "id": "94c3308b-bf84-4e37-91f1-5aec0d48fa64",
   "metadata": {},
   "source": [
    "# Q2. You’re a Data Scientist. You have assigned a  task to perform. Create two lists a & b, where a  has values -> (11,89,41,32,77,90) and b has  values -> (95,24,39,15,74,22). Compare the  corresponding element values of both the lists  and print “a element value is greater than b  element value” if corresponding value from a  is greater else print “a element value is less  than b element value” if corresponding value  from a is less than b. \n",
    "\n"
   ]
  },
  {
   "cell_type": "markdown",
   "id": "5062d04f-4fb1-40a0-b028-b1a09573285f",
   "metadata": {},
   "source": [
    "## Answer:-"
   ]
  },
  {
   "cell_type": "code",
   "execution_count": 29,
   "id": "105d267d-0ca1-4dc4-9e69-533c1d1a94e9",
   "metadata": {},
   "outputs": [
    {
     "name": "stdout",
     "output_type": "stream",
     "text": [
      "a element value i.e. 11 is less than b element value i.e. 95\n",
      "a element value i.e. 89 is greater than b element value i.e. 24\n",
      "a element value i.e. 41 is greater than b element value i.e. 39\n",
      "a element value i.e. 32 is greater than b element value i.e. 15\n",
      "a element value i.e. 77 is greater than b element value i.e. 74\n",
      "a element value i.e. 90 is greater than b element value i.e. 22\n"
     ]
    }
   ],
   "source": [
    "a=[11,89,41,32,77,90] # list 1\n",
    "b=[95,24,39,15,74,22] # list 2\n",
    "# iterate both the list using for loop\n",
    "for i in range(len(a)): \n",
    "    if a[i]>b[i]: # comparing corresponding element of both list\n",
    "        print(f\"a element value i.e. {a[i]} is greater than b element value i.e. {b[i]}\")\n",
    "    else:\n",
    "        print(f\"a element value i.e. {a[i]} is less than b element value i.e. {b[i]}\")"
   ]
  },
  {
   "cell_type": "code",
   "execution_count": null,
   "id": "951d0bb0-27d8-417f-a6f5-f55ebae05704",
   "metadata": {},
   "outputs": [],
   "source": []
  },
  {
   "cell_type": "markdown",
   "id": "d18ff8f4-c292-45c8-8724-0cbd484bb67e",
   "metadata": {},
   "source": [
    "# Q3. Write code to create a class named  Calculator. \n",
    "#### • Define methods for addition, subtraction, multiplication and division that take in two numbers and return another number after Performing their respective operations. \n",
    "\n",
    "\n",
    "#### • Define another method named execute  command that takes two numbers and a string  named command. The command string will be  ‘add’, ‘sub’, ‘mul’, ‘div’. Perform Addition,  Subtraction, Multiplication and Division on the  two numbers respectively. Make sure the  execute command method is case insensitive  (meaning that even if the user passes ‘aDd’ as  command it should perform addition on two  numbers). \n"
   ]
  },
  {
   "cell_type": "markdown",
   "id": "bad6ec40-565d-4f9d-9248-ae0d0f0beeeb",
   "metadata": {},
   "source": [
    "### Answer:-"
   ]
  },
  {
   "cell_type": "markdown",
   "id": "91a3c377-d1a0-47fc-ac92-dae49aaef627",
   "metadata": {},
   "source": [
    "### 1. Define methods for addition, subtraction, multiplication and division that take in two numbers and return another number after Performing their respective operations. "
   ]
  },
  {
   "cell_type": "code",
   "execution_count": 34,
   "id": "4f2fe9dc-116e-4480-ad60-0af3663a2312",
   "metadata": {},
   "outputs": [],
   "source": [
    "# create class\n",
    "class Calculator:\n",
    "    # define method\n",
    "    def addition(self,a,b):\n",
    "        return a+b\n",
    "    def subtraction (self,a,b):\n",
    "        return a-b\n",
    "    def multiplication (self,a,b):\n",
    "        return a*b\n",
    "    def division (self,a,b):\n",
    "        return a/b\n",
    "# When defining a method in a Python class, the first parameter is always self, which is a reference to the instance of the class.\n",
    "# When we call the method on an instance of the class, the self parameter is automatically set to the instance that the method is \n",
    "# being called on. This allows us to access and modify the instance's state from within the method.\"\"\"    "
   ]
  },
  {
   "cell_type": "code",
   "execution_count": 35,
   "id": "79b40e21-e2a0-421c-829e-6bc8408c0afd",
   "metadata": {},
   "outputs": [],
   "source": [
    "# Create an instance of the Calculator class\n",
    "my_cal=Calculator()"
   ]
  },
  {
   "cell_type": "code",
   "execution_count": null,
   "id": "c7e67f6b-364d-4b25-a579-60d834e493a1",
   "metadata": {},
   "outputs": [],
   "source": [
    "# Now We will call each of the four methods on this instance"
   ]
  },
  {
   "cell_type": "markdown",
   "id": "f6c20240-6760-44de-88e3-fa7f77cd4ed2",
   "metadata": {},
   "source": [
    "### Output"
   ]
  },
  {
   "cell_type": "code",
   "execution_count": 36,
   "id": "3210e008-5bdc-445d-9d05-6a1780d7984a",
   "metadata": {},
   "outputs": [
    {
     "data": {
      "text/plain": [
       "10"
      ]
     },
     "execution_count": 36,
     "metadata": {},
     "output_type": "execute_result"
    }
   ],
   "source": [
    "my_cal.addition(4,6)"
   ]
  },
  {
   "cell_type": "code",
   "execution_count": 37,
   "id": "a7d4abc7-c0b8-4a7d-9509-46ce2ccda9ee",
   "metadata": {},
   "outputs": [
    {
     "data": {
      "text/plain": [
       "-2"
      ]
     },
     "execution_count": 37,
     "metadata": {},
     "output_type": "execute_result"
    }
   ],
   "source": [
    "my_cal.subtraction(4,6)"
   ]
  },
  {
   "cell_type": "code",
   "execution_count": 38,
   "id": "3dba248f-08d4-4891-a511-49a59d2ade86",
   "metadata": {},
   "outputs": [
    {
     "data": {
      "text/plain": [
       "24"
      ]
     },
     "execution_count": 38,
     "metadata": {},
     "output_type": "execute_result"
    }
   ],
   "source": [
    "my_cal.multiplication(4,6)"
   ]
  },
  {
   "cell_type": "code",
   "execution_count": 39,
   "id": "13f03f3f-57de-4b10-8ac2-32e1b9fd8f9b",
   "metadata": {},
   "outputs": [
    {
     "data": {
      "text/plain": [
       "0.6666666666666666"
      ]
     },
     "execution_count": 39,
     "metadata": {},
     "output_type": "execute_result"
    }
   ],
   "source": [
    "my_cal.division(4,6)"
   ]
  },
  {
   "cell_type": "markdown",
   "id": "b705e359-3eba-48d1-8e64-23c6f52cf6fc",
   "metadata": {},
   "source": [
    "### 2. Define another method named execute  command that takes two numbers and a string  named command. The command string will be  ‘add’, ‘sub’, ‘mul’, ‘div’. Perform Addition,  Subtraction, Multiplication and Division on the  two numbers respectively. Make sure the  execute command method is case insensitive  (meaning that even if the user passes ‘aDd’ as  command it should perform addition on two  numbers). "
   ]
  },
  {
   "cell_type": "code",
   "execution_count": 42,
   "id": "d23aac9f-8f1f-46d7-8479-f4f906840019",
   "metadata": {},
   "outputs": [],
   "source": [
    "# create class\n",
    "class Calculator:\n",
    "    # define method\n",
    "    def execute_command(self, a,b,command):\n",
    "        if command==\"add\":\n",
    "            return a+b\n",
    "        if command==\"sub\":\n",
    "            return a-b\n",
    "        if command== \"mul\":\n",
    "            return a*b\n",
    "        if command== \"div\":\n",
    "            return a/b            "
   ]
  },
  {
   "cell_type": "code",
   "execution_count": 43,
   "id": "bfbacffb-f67e-4fd7-8754-e5dc6cf9f16c",
   "metadata": {},
   "outputs": [],
   "source": [
    "# Create an instance of the Calculator class\n",
    "my_cal1=Calculator()"
   ]
  },
  {
   "cell_type": "code",
   "execution_count": null,
   "id": "e8b63e42-1627-47b5-b21b-b399eb148dc1",
   "metadata": {},
   "outputs": [],
   "source": [
    "# Now We will call each of the four methods on this instance"
   ]
  },
  {
   "cell_type": "markdown",
   "id": "6ce5e84d-ba77-4407-9840-00570ef3dffd",
   "metadata": {},
   "source": [
    "## output"
   ]
  },
  {
   "cell_type": "code",
   "execution_count": 44,
   "id": "d353fe01-efd5-408e-8e5b-6ad02c2a39c3",
   "metadata": {},
   "outputs": [
    {
     "data": {
      "text/plain": [
       "10"
      ]
     },
     "execution_count": 44,
     "metadata": {},
     "output_type": "execute_result"
    }
   ],
   "source": [
    "my_cal1.execute_command(6,4,\"add\")"
   ]
  },
  {
   "cell_type": "code",
   "execution_count": 45,
   "id": "fff70011-d784-4f96-a61d-5077629f9417",
   "metadata": {},
   "outputs": [
    {
     "data": {
      "text/plain": [
       "2"
      ]
     },
     "execution_count": 45,
     "metadata": {},
     "output_type": "execute_result"
    }
   ],
   "source": [
    "my_cal1.execute_command(6,4,\"sub\")"
   ]
  },
  {
   "cell_type": "code",
   "execution_count": 46,
   "id": "2a60fec1-5ad4-4791-ae95-01130d2a6de4",
   "metadata": {},
   "outputs": [
    {
     "data": {
      "text/plain": [
       "24"
      ]
     },
     "execution_count": 46,
     "metadata": {},
     "output_type": "execute_result"
    }
   ],
   "source": [
    "my_cal1.execute_command(6,4,\"mul\")"
   ]
  },
  {
   "cell_type": "code",
   "execution_count": 47,
   "id": "0f97f473-b821-4f80-b5f2-b119e3f7aa02",
   "metadata": {},
   "outputs": [
    {
     "data": {
      "text/plain": [
       "1.5"
      ]
     },
     "execution_count": 47,
     "metadata": {},
     "output_type": "execute_result"
    }
   ],
   "source": [
    "my_cal1.execute_command(6,4,\"div\")"
   ]
  },
  {
   "cell_type": "code",
   "execution_count": null,
   "id": "260534a2-f43f-45d2-be86-a658f8da76a0",
   "metadata": {},
   "outputs": [],
   "source": []
  },
  {
   "cell_type": "markdown",
   "id": "5561f874-19fe-4c6f-862d-8397a0e4d201",
   "metadata": {},
   "source": [
    "# Q4. Create a program to take numbers and store  them in a list and Print a Square of numbers as  tuple. \n"
   ]
  },
  {
   "cell_type": "markdown",
   "id": "9aa301e8-e6d8-48a5-adbe-b37c22de260b",
   "metadata": {},
   "source": [
    "## Answer:-"
   ]
  },
  {
   "cell_type": "code",
   "execution_count": 21,
   "id": "c7aa14a1-482a-4c54-b268-1bb521511b11",
   "metadata": {},
   "outputs": [
    {
     "name": "stdin",
     "output_type": "stream",
     "text": [
      "Enter the numbers 2\n",
      "Enter the numbers 3\n",
      "Enter the numbers 4\n",
      "Enter the numbers 5\n",
      "Enter the numbers 6\n"
     ]
    },
    {
     "name": "stdout",
     "output_type": "stream",
     "text": [
      "Entered numbered are now store in a list i.e. [2, 3, 4, 5, 6]\n",
      "square of a entered number (4, 9, 16, 25, 36)\n"
     ]
    }
   ],
   "source": [
    "# firstly we created two empty list\n",
    "lst=[]\n",
    "lst1=[]\n",
    "# Here we will use a for loop and want the user entered input 5 times\n",
    "for i in range(5):\n",
    "    take_input=int(input(\"Enter the numbers\"))\n",
    "    lst.append(take_input)\n",
    "print(\"Entered numbered are now store in a list i.e.\",lst) \n",
    "for num in lst:\n",
    "    lst1.append(num**2)\n",
    "print(\"square of a entered number\",tuple(lst1))    \n",
    "    "
   ]
  },
  {
   "cell_type": "code",
   "execution_count": null,
   "id": "656193da-abb3-4124-b70b-fe751e5c1af9",
   "metadata": {},
   "outputs": [],
   "source": []
  },
  {
   "cell_type": "markdown",
   "id": "73073691-a00c-4020-961f-bf993ef60578",
   "metadata": {},
   "source": [
    "# Q5. Write a Function to check if the year  number is a leap year or not. Print all Leap  Years of 21st Century. \n",
    "\n"
   ]
  },
  {
   "cell_type": "markdown",
   "id": "c28b275d-a0bf-4f0c-849c-c248908b2cea",
   "metadata": {},
   "source": [
    "## Answer:-"
   ]
  },
  {
   "cell_type": "markdown",
   "id": "d4b6c280-2bcb-4611-b178-2a7b1359400a",
   "metadata": {},
   "source": [
    "The rule of leap year is:\n",
    "\n",
    "1. A year is a leap year if it is divisible by 4.\n",
    "\n",
    "2. If the year is divisible by 100, it is not a leap year, unless it is also divisible by 400."
   ]
  },
  {
   "cell_type": "code",
   "execution_count": 42,
   "id": "76b09086-7569-412c-a264-ff90155972e1",
   "metadata": {},
   "outputs": [],
   "source": [
    "def check_leap_year(year):\n",
    "    if year%4==0:\n",
    "        if year%100==0:\n",
    "            if year%400==0:\n",
    "                print(f\"year {year} is a leap year\")\n",
    "            else:\n",
    "                print(f\"year {year} is a not a leap year\")\n",
    "        else:\n",
    "            print(f\"year {year} is a leap year\")\n",
    "    else:\n",
    "        print(f\"year {year} is not a leap year\")     "
   ]
  },
  {
   "cell_type": "code",
   "execution_count": 43,
   "id": "f8565f95-d074-4a25-a1f1-cdc2ce312dab",
   "metadata": {},
   "outputs": [
    {
     "name": "stdout",
     "output_type": "stream",
     "text": [
      "year 2005 is not a leap year\n"
     ]
    }
   ],
   "source": [
    "check_leap_year(2005)"
   ]
  },
  {
   "cell_type": "code",
   "execution_count": 44,
   "id": "e42337db-b381-49aa-9d28-ad7b98e97502",
   "metadata": {},
   "outputs": [
    {
     "name": "stdout",
     "output_type": "stream",
     "text": [
      "year 2004 is a leap year\n"
     ]
    }
   ],
   "source": [
    "check_leap_year(2004)"
   ]
  },
  {
   "cell_type": "markdown",
   "id": "e85945b9-068e-4a44-a42f-107d70ca31b2",
   "metadata": {},
   "source": [
    "### Print all Leap Years of 21st Century."
   ]
  },
  {
   "cell_type": "code",
   "execution_count": null,
   "id": "ba6c7317-5298-447e-b968-817b5a549d27",
   "metadata": {},
   "outputs": [],
   "source": [
    "# In 21st century year includes 2001 to 2101. \n",
    "# Now we will used True False statement for checking year is leap or not."
   ]
  },
  {
   "cell_type": "code",
   "execution_count": 60,
   "id": "5f54b550-a2ff-4b9a-b874-024aff3276a7",
   "metadata": {},
   "outputs": [
    {
     "name": "stdout",
     "output_type": "stream",
     "text": [
      "All the leap year in 21st century are:\n",
      "2004 2008 2012 2016 2020 2024 2028 2032 2036 2040 2044 2048 2052 2056 2060 2064 2068 2072 2076 2080 2084 2088 2092 2096 "
     ]
    }
   ],
   "source": [
    "def check_leap_year(year):\n",
    "    if year % 4 == 0:\n",
    "        if year % 100 == 0:\n",
    "            if year % 400 == 0:\n",
    "                return True\n",
    "            else:\n",
    "                return False\n",
    "        else:\n",
    "            return True\n",
    "    else:\n",
    "        return False\n",
    "print(\"All the leap year in 21st century are:\")\n",
    "for year in range(2001, 2101):\n",
    "    if check_leap_year(year)==True: # If check_leap_year(year) returns True it means that the year is a leap year       \n",
    "        print(year,end= \" \")\n"
   ]
  },
  {
   "cell_type": "code",
   "execution_count": null,
   "id": "f32ce84f-a6cd-4c1c-90df-106052195174",
   "metadata": {},
   "outputs": [],
   "source": []
  },
  {
   "cell_type": "markdown",
   "id": "6303b021-38a4-434a-bc1a-944d85c0c65c",
   "metadata": {},
   "source": [
    "# Q6. Write a Function to take an array and return another array that contains the members of  the first array that are even in one array and  odd in another array. \n"
   ]
  },
  {
   "cell_type": "markdown",
   "id": "c06a4009-4764-4c7c-9937-725046d2ba67",
   "metadata": {},
   "source": [
    "## Answer:-"
   ]
  },
  {
   "cell_type": "code",
   "execution_count": 94,
   "id": "c5eac572-40c5-4afc-9370-54fd427fbf25",
   "metadata": {},
   "outputs": [],
   "source": [
    "# define function\n",
    "def take_array(arr1, arr2):\n",
    "    \n",
    "    # Returns an array containing member of arr1 and that member are all even number in arr1 and odd number in arr1\n",
    "    # should be present in arr2.\n",
    "    \n",
    "    final_array = []\n",
    "    for member in arr1:\n",
    "        if member % 2 == 0:\n",
    "            final_array.append(member)\n",
    "        if member % 2!=0 and member in arr2:\n",
    "            final_array.append(member)\n",
    "    return final_array\n"
   ]
  },
  {
   "cell_type": "code",
   "execution_count": 103,
   "id": "fb83a103-f15e-47a9-9a2b-1c5a1dcb7128",
   "metadata": {},
   "outputs": [],
   "source": [
    "# let's assume\n",
    "arr1 = [2, 11, 5, 8, 7]\n",
    "arr2 = [2, 3, 5, 6, 8,3,9]"
   ]
  },
  {
   "cell_type": "code",
   "execution_count": 104,
   "id": "e555a1c3-6d69-4bab-beda-9fa5d50609cc",
   "metadata": {},
   "outputs": [
    {
     "data": {
      "text/plain": [
       "[2, 5, 8]"
      ]
     },
     "execution_count": 104,
     "metadata": {},
     "output_type": "execute_result"
    }
   ],
   "source": [
    "# call array function\n",
    "take_array(arr1,arr2)"
   ]
  },
  {
   "cell_type": "markdown",
   "id": "41151a94-f960-4c31-8e89-c8226264c244",
   "metadata": {},
   "source": [
    "# Q7. Write a python code to print the following  pattern. \n"
   ]
  },
  {
   "cell_type": "markdown",
   "id": "3f5b2704-ca7f-4ffb-b6de-0a6dbbfc5863",
   "metadata": {},
   "source": [
    "1 \n",
    "1 2 \n",
    "1 2 3 \n",
    "1 2 3 4 \n",
    "1 2 3 4 5 "
   ]
  },
  {
   "cell_type": "markdown",
   "id": "387cfa56-b720-4d4e-a29b-6fc82cf3f75f",
   "metadata": {},
   "source": [
    "## Answer:-"
   ]
  },
  {
   "cell_type": "code",
   "execution_count": 12,
   "id": "6edf6954-1a3d-489b-900a-8d7c1d2352eb",
   "metadata": {},
   "outputs": [
    {
     "name": "stdout",
     "output_type": "stream",
     "text": [
      "1 \n",
      "1 2 \n",
      "1 2 3 \n",
      "1 2 3 4 \n",
      "1 2 3 4 5 \n"
     ]
    }
   ],
   "source": [
    "row = 1\n",
    "while row <= 5:\n",
    "    num = 1\n",
    "    while num <= row:\n",
    "        print(num, end=' ')\n",
    "        num = num+1\n",
    "    print() # This line of code prints a newline character after all the numbers in the current row have been printed. \n",
    "            # This ensures that the next row of the pattern is printed on a new line. \n",
    "    row = row+ 1\n"
   ]
  },
  {
   "cell_type": "code",
   "execution_count": null,
   "id": "6c524fe7-0f00-4b58-a595-ed65f39bb7dc",
   "metadata": {},
   "outputs": [],
   "source": []
  }
 ],
 "metadata": {
  "kernelspec": {
   "display_name": "Python 3 (ipykernel)",
   "language": "python",
   "name": "python3"
  },
  "language_info": {
   "codemirror_mode": {
    "name": "ipython",
    "version": 3
   },
   "file_extension": ".py",
   "mimetype": "text/x-python",
   "name": "python",
   "nbconvert_exporter": "python",
   "pygments_lexer": "ipython3",
   "version": "3.9.13"
  }
 },
 "nbformat": 4,
 "nbformat_minor": 5
}
