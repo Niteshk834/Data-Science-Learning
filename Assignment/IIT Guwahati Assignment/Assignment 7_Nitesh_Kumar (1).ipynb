{
 "cells": [
  {
   "cell_type": "markdown",
   "id": "38af3639-c8ff-40b9-a4fe-defc3cb67ca4",
   "metadata": {},
   "source": [
    "# Assignment-7 \n",
    "\n",
    "## Inferential Statistics\n",
    "\n",
    "### Name- NITESH KUMAR Batch-4"
   ]
  },
  {
   "cell_type": "markdown",
   "id": "957d6fa9-a3a7-43cc-a8e8-7ac0ae5bfa63",
   "metadata": {},
   "source": [
    "# Q1. Calculate the 95% confidence interval for a sample mean of 40 and sample standard deviation of 40 with sample size equal to 100.\n",
    "\n"
   ]
  },
  {
   "cell_type": "markdown",
   "id": "8dbd3d00-097a-48f7-ba22-2f314dd8b52c",
   "metadata": {},
   "source": [
    "### Answer:-"
   ]
  },
  {
   "cell_type": "code",
   "execution_count": 5,
   "id": "5f7f8fce-85a1-4f2b-adfc-743178c84748",
   "metadata": {},
   "outputs": [],
   "source": [
    "import numpy as np\n",
    "import scipy.stats as stats"
   ]
  },
  {
   "cell_type": "markdown",
   "id": "38b5558e-b418-4e83-8442-705c2f3035ed",
   "metadata": {},
   "source": [
    "# formula\n",
    "standard_error=sample_standard_deviation/np.sqrt(sample_size)\n",
    "\n",
    "lower_CI=sample_mean- margin_of_error\n",
    "\n",
    "upper_CI= sample_mean+margin_of_error\n",
    "\n",
    "margin_of_error= critical_value * standard_error\n",
    "\n",
    "critical_value = stats.t.ppf((1 + confidence_level) / 2, degree_of_freedom)\n",
    "\n",
    "degree_of_freedom=sample_mean-1\n",
    "\n"
   ]
  },
  {
   "cell_type": "code",
   "execution_count": 2,
   "id": "59e1a57e-88af-409c-a17c-eec6e90a026d",
   "metadata": {},
   "outputs": [],
   "source": [
    "sample_mean=40\n",
    "sample_standard_deviation=40\n",
    "sample_size=100"
   ]
  },
  {
   "cell_type": "code",
   "execution_count": 6,
   "id": "691443e4-bd4c-4e8e-9b76-0a3077dfb3b0",
   "metadata": {},
   "outputs": [],
   "source": [
    "# calculate Standard error\n",
    "standard_error=sample_standard_deviation/np.sqrt(sample_size)"
   ]
  },
  {
   "cell_type": "code",
   "execution_count": 7,
   "id": "1f2e45ad-e288-49cf-bf9c-24d7387e2640",
   "metadata": {},
   "outputs": [
    {
     "data": {
      "text/plain": [
       "4.0"
      ]
     },
     "execution_count": 7,
     "metadata": {},
     "output_type": "execute_result"
    }
   ],
   "source": [
    "standard_error"
   ]
  },
  {
   "cell_type": "code",
   "execution_count": 8,
   "id": "16240c8a-b38b-427c-bb28-bf0129b6161b",
   "metadata": {},
   "outputs": [],
   "source": [
    "confidence_level= 0.95\n",
    "degree_of_freedom=sample_mean-1"
   ]
  },
  {
   "cell_type": "code",
   "execution_count": 9,
   "id": "cea882b4-71a5-44cc-92f7-41cb7eee0cb7",
   "metadata": {},
   "outputs": [
    {
     "data": {
      "text/plain": [
       "39"
      ]
     },
     "execution_count": 9,
     "metadata": {},
     "output_type": "execute_result"
    }
   ],
   "source": [
    "degree_of_freedom"
   ]
  },
  {
   "cell_type": "code",
   "execution_count": 11,
   "id": "04cb47c3-c407-4cfa-b8cd-f7c39cdc19d7",
   "metadata": {},
   "outputs": [],
   "source": [
    "critical_value = stats.t.ppf((1 + confidence_level) / 2, degree_of_freedom)"
   ]
  },
  {
   "cell_type": "code",
   "execution_count": 12,
   "id": "468f16d9-bb53-4b1b-a8a8-f864f3fb3846",
   "metadata": {},
   "outputs": [
    {
     "data": {
      "text/plain": [
       "2.022690911734728"
      ]
     },
     "execution_count": 12,
     "metadata": {},
     "output_type": "execute_result"
    }
   ],
   "source": [
    "critical_value"
   ]
  },
  {
   "cell_type": "code",
   "execution_count": 14,
   "id": "a69ec912-4d6c-4eeb-9372-cf0a0bb6208e",
   "metadata": {},
   "outputs": [],
   "source": [
    "margin_of_error= critical_value * standard_error"
   ]
  },
  {
   "cell_type": "code",
   "execution_count": 15,
   "id": "80ddf5a7-01a6-4fa1-8cfc-0b7cf3a23fa6",
   "metadata": {},
   "outputs": [
    {
     "data": {
      "text/plain": [
       "8.090763646938912"
      ]
     },
     "execution_count": 15,
     "metadata": {},
     "output_type": "execute_result"
    }
   ],
   "source": [
    "margin_of_error"
   ]
  },
  {
   "cell_type": "code",
   "execution_count": 16,
   "id": "09c3190c-3e5f-45e7-961e-e88de28ab6f1",
   "metadata": {},
   "outputs": [],
   "source": [
    "lower_CI = sample_mean-margin_of_error"
   ]
  },
  {
   "cell_type": "code",
   "execution_count": 17,
   "id": "a1adcc80-fd53-46d1-a78a-7e1733ab66c5",
   "metadata": {},
   "outputs": [
    {
     "data": {
      "text/plain": [
       "31.90923635306109"
      ]
     },
     "execution_count": 17,
     "metadata": {},
     "output_type": "execute_result"
    }
   ],
   "source": [
    "lower_CI"
   ]
  },
  {
   "cell_type": "code",
   "execution_count": 18,
   "id": "e864249d-9a51-4e04-a7cb-905993f05270",
   "metadata": {},
   "outputs": [],
   "source": [
    "upper_CI = sample_mean+margin_of_error"
   ]
  },
  {
   "cell_type": "code",
   "execution_count": 19,
   "id": "e97dbbd6-838a-4afc-b8c7-e1caf8541758",
   "metadata": {},
   "outputs": [
    {
     "data": {
      "text/plain": [
       "48.09076364693891"
      ]
     },
     "execution_count": 19,
     "metadata": {},
     "output_type": "execute_result"
    }
   ],
   "source": [
    "upper_CI"
   ]
  },
  {
   "cell_type": "markdown",
   "id": "17bd7a10-a329-46be-8640-f571bf737589",
   "metadata": {},
   "source": [
    "# Q2. A population has a mean weight of 68 kg. A random sample of size 25 has a mean weight of 70 with standard deviation=4. Identify whether this sample is representative of the population."
   ]
  },
  {
   "cell_type": "markdown",
   "id": "cfcef951-db24-41d2-b29c-89cb20d3af16",
   "metadata": {},
   "source": [
    "### Answer:-"
   ]
  },
  {
   "cell_type": "code",
   "execution_count": 1,
   "id": "7073b2e6-d4a2-47ad-807f-fff4a9196286",
   "metadata": {},
   "outputs": [],
   "source": [
    "import numpy as np\n",
    "import scipy.stats as stats"
   ]
  },
  {
   "cell_type": "code",
   "execution_count": 2,
   "id": "31df6012-277f-41bc-b95c-a4307f3f97bc",
   "metadata": {},
   "outputs": [],
   "source": [
    "population_mean= 68\n",
    "sample_size= 25\n",
    "sample_mean=70\n",
    "standard_deviation=4"
   ]
  },
  {
   "cell_type": "markdown",
   "id": "7b8bd213-7296-4f6a-a3db-840564261f27",
   "metadata": {},
   "source": [
    "Null Hypothesis(H0)= The sample  is represent the population. The mean weight of population is\n",
    "                     equal to the sample mean.\n",
    "    \n",
    "Alternate Hypothesis(H1)= The sample is not represent the population. The mean weight of population is not \n",
    "                           equal to the sample mean     "
   ]
  },
  {
   "cell_type": "code",
   "execution_count": 4,
   "id": "2bea8670-67f1-4777-a87a-9307027f4633",
   "metadata": {},
   "outputs": [],
   "source": [
    "t_value = (sample_mean - population_mean) / (standard_deviation / np.sqrt(sample_size))\n"
   ]
  },
  {
   "cell_type": "code",
   "execution_count": 5,
   "id": "36d4c26d-a174-4ba8-8bda-92c080c9b5c8",
   "metadata": {},
   "outputs": [
    {
     "data": {
      "text/plain": [
       "2.5"
      ]
     },
     "execution_count": 5,
     "metadata": {},
     "output_type": "execute_result"
    }
   ],
   "source": [
    "t_value"
   ]
  },
  {
   "cell_type": "code",
   "execution_count": 10,
   "id": "e10d936e-980d-485c-b2af-cd9473ec4691",
   "metadata": {},
   "outputs": [],
   "source": [
    "confidence_interval=0.95\n",
    "alpha=1-confidence_interval\n",
    "degree_of_freedom=sample_size-1"
   ]
  },
  {
   "cell_type": "code",
   "execution_count": 11,
   "id": "34fd7f65-fc06-4679-b4b4-04bb4dd62530",
   "metadata": {},
   "outputs": [
    {
     "data": {
      "text/plain": [
       "0.050000000000000044"
      ]
     },
     "execution_count": 11,
     "metadata": {},
     "output_type": "execute_result"
    }
   ],
   "source": [
    "alpha"
   ]
  },
  {
   "cell_type": "code",
   "execution_count": 12,
   "id": "47d6500e-9eea-40cc-9bca-c3521e37c897",
   "metadata": {},
   "outputs": [
    {
     "data": {
      "text/plain": [
       "24"
      ]
     },
     "execution_count": 12,
     "metadata": {},
     "output_type": "execute_result"
    }
   ],
   "source": [
    "degree_of_freedom"
   ]
  },
  {
   "cell_type": "code",
   "execution_count": 14,
   "id": "01a48dfa-ca83-43f3-a9bb-a1e7c756da51",
   "metadata": {},
   "outputs": [],
   "source": [
    "critical_t_value = stats.t.ppf(1 - alpha/2, degree_of_freedom)\n"
   ]
  },
  {
   "cell_type": "code",
   "execution_count": 15,
   "id": "c5350e01-a474-4be8-ba67-1f8cb6f83c87",
   "metadata": {},
   "outputs": [
    {
     "data": {
      "text/plain": [
       "2.0638985616280205"
      ]
     },
     "execution_count": 15,
     "metadata": {},
     "output_type": "execute_result"
    }
   ],
   "source": [
    "critical_t_value"
   ]
  },
  {
   "cell_type": "code",
   "execution_count": 16,
   "id": "62c5c072-ef4c-4f6b-9e31-6acce16d1032",
   "metadata": {},
   "outputs": [
    {
     "name": "stdout",
     "output_type": "stream",
     "text": [
      "The sample is not representative of the population.\n"
     ]
    }
   ],
   "source": [
    "if np.abs(t_value) > critical_t_value:\n",
    "    print(\"The sample is not representative of the population.\")\n",
    "else:\n",
    "    print(\"The sample is representative of the population.\")\n"
   ]
  },
  {
   "cell_type": "code",
   "execution_count": null,
   "id": "d72d14b6-a5a1-463b-8d26-3441f7f6a159",
   "metadata": {},
   "outputs": [],
   "source": []
  },
  {
   "attachments": {
    "0cdda97e-1977-4f43-a183-9cc778da0f94.JPG": {
     "image/jpeg": "[encoded data removed]"
    }
   },
   "cell_type": "markdown",
   "id": "554682c8-5fa1-4326-9973-268c14d89d40",
   "metadata": {},
   "source": [
    "# Q3. Suppose there are 3 chocolates in town and their sweetness is quantified by some metric(S). Data is collected on the three chocolates.You are given the task to identify whether the mean sweetness of the 3 chocolates are different.The data is given as below:\n",
    "\n",
    "![QUEST 3.JPG](attachment:0cdda97e-1977-4f43-a183-9cc778da0f94.JPG)"
   ]
  },
  {
   "cell_type": "markdown",
   "id": "8d888227-444e-4228-a050-3a5ae9b11753",
   "metadata": {},
   "source": [
    "### Answer:-"
   ]
  },
  {
   "cell_type": "code",
   "execution_count": 21,
   "id": "d544a180-2e97-445b-88c6-308840594c55",
   "metadata": {},
   "outputs": [],
   "source": [
    "import scipy.stats as stats\n",
    "import numpy as np"
   ]
  },
  {
   "cell_type": "markdown",
   "id": "fa451afd-0576-450a-90b4-f808f8fb816a",
   "metadata": {},
   "source": [
    "H0= mean sweetness of three choclates are same\n",
    "\n",
    "H1= mean sweetness of three choclates are not same"
   ]
  },
  {
   "cell_type": "code",
   "execution_count": 17,
   "id": "197da806-b40e-4534-9bfc-a7125afb4be6",
   "metadata": {},
   "outputs": [],
   "source": [
    "# Define the sweetness data for each chocolate as three separate arrays:\n",
    "type_A=[643,655,702]\n",
    "type_B=[469,427,525]\n",
    "type_C=[484,456,402]"
   ]
  },
  {
   "cell_type": "code",
   "execution_count": 19,
   "id": "f1b233d6-26a6-41e8-b7d8-bde56ce83389",
   "metadata": {},
   "outputs": [],
   "source": [
    "# Combine the sweetness data of the three chocolates into a single array\n",
    "data=np.array([type_A,type_B,type_C])"
   ]
  },
  {
   "cell_type": "code",
   "execution_count": 20,
   "id": "cf2d080a-6639-4532-a3ad-8a5087e9bc8a",
   "metadata": {},
   "outputs": [
    {
     "data": {
      "text/plain": [
       "array([[643, 655, 702],\n",
       "       [469, 427, 525],\n",
       "       [484, 456, 402]])"
      ]
     },
     "execution_count": 20,
     "metadata": {},
     "output_type": "execute_result"
    }
   ],
   "source": [
    "data"
   ]
  },
  {
   "cell_type": "code",
   "execution_count": 25,
   "id": "e53bde0a-1819-442e-b312-551d02133710",
   "metadata": {},
   "outputs": [],
   "source": [
    "f_value, p_value = stats.f_oneway(type_A,type_B,type_C)\n",
    "\n",
    "# f_oneway() used to perform the one-way ANOVA test. "
   ]
  },
  {
   "cell_type": "code",
   "execution_count": 26,
   "id": "9c3e3d3c-552e-41b5-898a-b7769cff9369",
   "metadata": {},
   "outputs": [
    {
     "data": {
      "text/plain": [
       "25.175411221637088"
      ]
     },
     "execution_count": 26,
     "metadata": {},
     "output_type": "execute_result"
    }
   ],
   "source": [
    "f_value"
   ]
  },
  {
   "cell_type": "code",
   "execution_count": 27,
   "id": "0b17a7f2-93b9-4168-ad5d-6d456d6d2071",
   "metadata": {},
   "outputs": [
    {
     "data": {
      "text/plain": [
       "0.0012071270284831192"
      ]
     },
     "execution_count": 27,
     "metadata": {},
     "output_type": "execute_result"
    }
   ],
   "source": [
    "p_value"
   ]
  },
  {
   "cell_type": "code",
   "execution_count": 28,
   "id": "d588abff-dae7-4eb2-9ca0-d62bdcfbcaa1",
   "metadata": {},
   "outputs": [
    {
     "name": "stdout",
     "output_type": "stream",
     "text": [
      "The mean sweetness of the three chocolates is significantly different.\n"
     ]
    }
   ],
   "source": [
    "alpha = 0.05\n",
    "\n",
    "if p_value < alpha:\n",
    "    print(\"The mean sweetness of the three chocolates is significantly different.\")\n",
    "else:\n",
    "    print(\"There is no significant difference in the mean sweetness of the three chocolates.\")\n"
   ]
  },
  {
   "cell_type": "code",
   "execution_count": null,
   "id": "f40c8bca-c863-429b-a0f1-58857f457896",
   "metadata": {},
   "outputs": [],
   "source": []
  },
  {
   "cell_type": "markdown",
   "id": "de2aa2bd-9454-4c7c-8d40-19cf28af3bc8",
   "metadata": {},
   "source": [
    "# Q4. What is the Degree of Freedom? Make a table for Distribution and Degree of Freedom for following Distribution."
   ]
  },
  {
   "cell_type": "markdown",
   "id": "f31a4ed3-04fa-4128-bd85-70c07b29ab2e",
   "metadata": {},
   "source": [
    "### Answer:-"
   ]
  },
  {
   "cell_type": "markdown",
   "id": "ccea2ad1-bb79-49d4-8351-063a85f2a66a",
   "metadata": {},
   "source": [
    "The degrees of freedom (df) in statistics represent the number of values that are free to vary in a calculation. It depends on the specific statistical test or distribution being used. In general, the degrees of freedom determine the shape and characteristics of the distribution and are used to calculate critical values for hypothesis testing.\n",
    "\n",
    "Here's a table showing common distributions and their corresponding degrees of freedom:"
   ]
  },
  {
   "attachments": {
    "0a897a20-efd7-4b92-9590-f138eef95b0d.JPG": {
     "image/jpeg": "[encoded data removed]"
    }
   },
   "cell_type": "markdown",
   "id": "6d20f91e-e694-4d24-8587-bf71b18eb12e",
   "metadata": {},
   "source": [
    "![Ques 4.JPG](attachment:0a897a20-efd7-4b92-9590-f138eef95b0d.JPG)"
   ]
  },
  {
   "cell_type": "markdown",
   "id": "f28d834a-d18e-4fd2-8ccc-4aa67970b90e",
   "metadata": {},
   "source": [
    "Please note that the table above provides general information, and some distributions may have additional parameters that affect the degrees of freedom. \n",
    "If we have a particular distribution or statistical test in mind, we can provide more specific information on its degrees of freedom."
   ]
  },
  {
   "cell_type": "code",
   "execution_count": null,
   "id": "8a192512-d0f7-4141-869b-7efe58405bf5",
   "metadata": {},
   "outputs": [],
   "source": []
  },
  {
   "cell_type": "markdown",
   "id": "95c244c8-7ec1-49a7-97b0-7d11b8651b82",
   "metadata": {},
   "source": [
    "# Q5. Explain all Tests for Numerical and Categorical Data Underlying in the following."
   ]
  },
  {
   "cell_type": "markdown",
   "id": "31212c21-8320-4338-b4f7-ad65f79f4599",
   "metadata": {},
   "source": [
    "### Answer:-"
   ]
  },
  {
   "cell_type": "markdown",
   "id": "1a9a5390-65e8-43ed-b26b-bc7c732b443e",
   "metadata": {},
   "source": [
    "### Tests for Numerical Data:\n",
    "\n",
    "#### 1. t-test: \n",
    "\n",
    "It is used to compare the means of two groups to determine if they are significantly different. There are different variations of the t-test, such as the independent t-test for comparing two independent groups and the paired t-test for comparing two related or paired groups.\n",
    "\n",
    "Formula:\n",
    "\n",
    "For independent samples: t = (x1 - x2) / sqrt((s1^2 / n1) + (s2^2 / n2))\n",
    "\n",
    "For paired samples: t = (mean difference) / (standard deviation of the differences / sqrt(n))\n",
    "\n",
    "Example: Comparing the mean scores of two groups in an experiment.\n",
    "\n",
    "#### 2. ANOVA (Analysis of Variance):\n",
    "\n",
    "ANOVA is used to compare the means of three or more groups to determine if there are statistically significant differences among them. It helps assess whether the variations between group means are larger than the variations within the groups.\n",
    "\n",
    "Formula:\n",
    "\n",
    "F = (between-group variability / within-group variability)\n",
    "\n",
    "Example: Analyzing the effect of different treatments on a continuous outcome.\n",
    "\n",
    "#### 3. Chi-square test: \n",
    "\n",
    "This test is used to assess the independence between two categorical variables. It determines if there is a significant association between the variables based on the observed and expected frequencies in a contingency table.\n",
    "\n",
    "#### 4. Correlation test:\n",
    "\n",
    "Correlation measures the strength and direction of the linear relationship between two numerical variables. Tests like Pearson's correlation coefficient or Spearman's rank correlation coefficient are used to determine if the correlation is statistically significant.\n",
    "\n",
    "Formula:\n",
    "\n",
    "r = (Σ((x - mean(x))(y - mean(y)))) / (sqrt(Σ(x - mean(x))^2) * sqrt(Σ(y - mean(y))^2))\n",
    "\n",
    "Example: Assessing the association between age and income.\n",
    "\n",
    "### Tests for Categorical Data:\n",
    "\n",
    "#### 1. Chi-square test:\n",
    "\n",
    "As mentioned earlier, the chi-square test is commonly used for categorical data. It can be used to compare observed and expected frequencies in a contingency table and assess if there is a significant association between the variables.\n",
    "\n",
    "Formula:\n",
    "\n",
    "χ² = Σ((observed frequency - expected frequency)^2 / expected frequency)\n",
    "\n",
    "Example: Testing the independence between gender and political preference.\n",
    "\n",
    "#### 2. Fisher's exact test: \n",
    "\n",
    "This test is an alternative to the chi-square test when dealing with small sample sizes or when the chi-square assumptions are not met. It assesses the independence between two categorical variables in a 2x2 contingency table.\n",
    "\n",
    "Formula: The exact probability is calculated using hypergeometric distribution, and there is no explicit formula.\n",
    "\n",
    "Example: Examining the association between smoking status and lung cancer in a small sample.\n",
    "\n",
    "#### 3. McNemar's test: \n",
    "\n",
    "McNemar's test is used to analyze paired categorical data. It assesses the difference in proportions between two dependent variables in a 2x2 contingency table.\n",
    "\n",
    "Formula:\n",
    "\n",
    "McNemar's statistic = ((b - c)^2) / (b + c)\n",
    "\n",
    "Example: Comparing the effectiveness of two different treatments on a binary outcome.\n",
    "\n",
    "#### 4. Log-likelihood ratio test (G-test):\n",
    "\n",
    "The G-test is used to compare observed and expected frequencies in a contingency table and assess if there is a significant association between categorical variables. It is an alternative to the chi-square test that may be preferred when sample sizes are small or when expected frequencies are low."
   ]
  },
  {
   "cell_type": "code",
   "execution_count": null,
   "id": "b5bd0898-e028-4f88-9058-eb00b058f656",
   "metadata": {},
   "outputs": [],
   "source": []
  },
  {
   "cell_type": "code",
   "execution_count": null,
   "id": "1a7c1dc0-f1e4-4f4c-800d-d4e679992563",
   "metadata": {},
   "outputs": [],
   "source": []
  }
 ],
 "metadata": {
  "kernelspec": {
   "display_name": "Python 3 (ipykernel)",
   "language": "python",
   "name": "python3"
  },
  "language_info": {
   "codemirror_mode": {
    "name": "ipython",
    "version": 3
   },
   "file_extension": ".py",
   "mimetype": "text/x-python",
   "name": "python",
   "nbconvert_exporter": "python",
   "pygments_lexer": "ipython3",
   "version": "3.10.8"
  }
 },
 "nbformat": 4,
 "nbformat_minor": 5
}
