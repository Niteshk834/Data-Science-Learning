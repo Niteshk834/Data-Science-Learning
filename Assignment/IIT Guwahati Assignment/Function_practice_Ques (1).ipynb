{
 "cells": [
  {
   "cell_type": "markdown",
   "id": "d5e3f637-e927-4890-ad81-2720a6136c51",
   "metadata": {},
   "source": [
    "# Function practice  Question\n",
    "\n",
    "### Name- Nitesh Kumar\n",
    "\n",
    "#### IoT Batch-4          \n",
    "##### Submition Date- 07.05.2023"
   ]
  },
  {
   "cell_type": "markdown",
   "id": "c644b28d-d329-43ef-9b6b-bcbfd513c610",
   "metadata": {},
   "source": [
    "# Q1. Write a function that takes a number as an argument and returns its square.\n"
   ]
  },
  {
   "cell_type": "markdown",
   "id": "9db37171-57a1-42b2-a04e-387492369f1d",
   "metadata": {},
   "source": [
    "### Answer:-"
   ]
  },
  {
   "cell_type": "code",
   "execution_count": 1,
   "id": "d974a9f6-b344-400e-92a9-224dde517ec6",
   "metadata": {},
   "outputs": [],
   "source": [
    "# define function\n",
    "def take_number(x):\n",
    "    return x**2"
   ]
  },
  {
   "cell_type": "code",
   "execution_count": 2,
   "id": "c937c681-8df0-4fac-8a8d-fdafae8c76b0",
   "metadata": {},
   "outputs": [
    {
     "data": {
      "text/plain": [
       "100"
      ]
     },
     "execution_count": 2,
     "metadata": {},
     "output_type": "execute_result"
    }
   ],
   "source": [
    "#call function\n",
    "take_number(10)"
   ]
  },
  {
   "cell_type": "markdown",
   "id": "01c8a003-7725-44a6-8856-7fa8d8d10a94",
   "metadata": {},
   "source": [
    "# Q2. Write a function that takes a string as an argument and returns a new string with the first letter capitalized.\n"
   ]
  },
  {
   "cell_type": "markdown",
   "id": "8fc61808-0d11-4a0d-b440-48490a0f0cf7",
   "metadata": {},
   "source": [
    "### Answer:-"
   ]
  },
  {
   "cell_type": "code",
   "execution_count": 9,
   "id": "e1c56923-a671-4b88-b20f-c4d79aa7b519",
   "metadata": {},
   "outputs": [],
   "source": [
    "# define function\n",
    "def take_string(x):\n",
    "    return x.title()"
   ]
  },
  {
   "cell_type": "code",
   "execution_count": 10,
   "id": "0cdc4830-1764-45b8-aa44-34c86b03fe60",
   "metadata": {},
   "outputs": [
    {
     "data": {
      "text/plain": [
       "'Nitesh'"
      ]
     },
     "execution_count": 10,
     "metadata": {},
     "output_type": "execute_result"
    }
   ],
   "source": [
    "#call function\n",
    "take_string(\"nitesh\")"
   ]
  },
  {
   "cell_type": "markdown",
   "id": "84361a45-ba43-4111-975e-8da5ac907624",
   "metadata": {},
   "source": [
    "# Q3. Write a function that takes a list of integers as an argument and returns the sum of all the odd numbers in the list.\n"
   ]
  },
  {
   "cell_type": "markdown",
   "id": "27f8f121-436d-4a22-8510-6fc070553c11",
   "metadata": {},
   "source": [
    "### Answer:-"
   ]
  },
  {
   "cell_type": "code",
   "execution_count": 30,
   "id": "252c1978-a619-4298-b684-9960e8c8feca",
   "metadata": {},
   "outputs": [],
   "source": [
    "l1=[]\n",
    "# define function\n",
    "def take_list(l):\n",
    "    for i in l:\n",
    "        if i%2!=0:\n",
    "            l1.append(i) \n",
    "    return (f\"ODD Number list is : {l1} and sum of all odd number in list is: {sum(l1)}\")          "
   ]
  },
  {
   "cell_type": "code",
   "execution_count": 31,
   "id": "2e500255-19a0-4def-9de4-7715c8dbac0b",
   "metadata": {},
   "outputs": [
    {
     "data": {
      "text/plain": [
       "'ODD Number list is : [1, 3] and sum of all odd number in list is: 4'"
      ]
     },
     "execution_count": 31,
     "metadata": {},
     "output_type": "execute_result"
    }
   ],
   "source": [
    "l= [1,2,3,4]\n",
    "#call function\n",
    "take_list(l)"
   ]
  },
  {
   "cell_type": "code",
   "execution_count": null,
   "id": "a854794f-2c8c-4a46-9fec-de8eedd142f3",
   "metadata": {},
   "outputs": [],
   "source": []
  },
  {
   "cell_type": "markdown",
   "id": "a090cfd9-7cbc-4633-a1ae-0d4661661c08",
   "metadata": {},
   "source": [
    "# Q4. Write a function that takes a list of strings as an argument and returns a new list with all the strings in lowercase.\n"
   ]
  },
  {
   "cell_type": "markdown",
   "id": "9d853d00-8ad0-4a4f-abbe-4df9f50fdb60",
   "metadata": {},
   "source": [
    "### Answer:-"
   ]
  },
  {
   "cell_type": "code",
   "execution_count": 48,
   "id": "c2778c4e-23d0-4980-8c19-b13a59bc95ed",
   "metadata": {},
   "outputs": [],
   "source": [
    "l1=[]\n",
    "# define function\n",
    "def take_string_list(x):\n",
    "    for i in x:\n",
    "        l1.append(i.lower())\n",
    "    return l1  "
   ]
  },
  {
   "cell_type": "code",
   "execution_count": 49,
   "id": "b79fdd4d-09ee-4178-9cd3-9d611e10979a",
   "metadata": {},
   "outputs": [
    {
     "data": {
      "text/plain": [
       "['nitesh', 'kumar', 'srivastava']"
      ]
     },
     "execution_count": 49,
     "metadata": {},
     "output_type": "execute_result"
    }
   ],
   "source": [
    "#call function\n",
    "take_string_list([\"Nitesh\",\"KuMaR\",\"SRIVASTAVA\"])"
   ]
  },
  {
   "cell_type": "code",
   "execution_count": null,
   "id": "1aee1891-7f06-4861-8f25-3b545b33a3e8",
   "metadata": {},
   "outputs": [],
   "source": []
  },
  {
   "cell_type": "markdown",
   "id": "5d316bdb-f1de-44cf-838a-4de95387d699",
   "metadata": {},
   "source": [
    "# Q5. Write a function that takes a list of numbers as an argument and returns a new list with all the prime numbers in the original list.\n"
   ]
  },
  {
   "cell_type": "markdown",
   "id": "468d2049-1419-4ef7-ab38-9847394c9e4a",
   "metadata": {},
   "source": [
    "### Answer:-"
   ]
  },
  {
   "cell_type": "code",
   "execution_count": 54,
   "id": "5ff7a168-1f71-4437-9021-8e6104f32abd",
   "metadata": {},
   "outputs": [],
   "source": [
    "l1=[]\n",
    "# define function\n",
    "def take_num_list(x):\n",
    "    for i in x:\n",
    "        if i>1:\n",
    "            for j in range(2,i): # In range we taked i itself because no any number divisble by another big number \n",
    "                if i%j==0:\n",
    "                    break\n",
    "            else:\n",
    "                l1.append(i)\n",
    "    return l1           "
   ]
  },
  {
   "cell_type": "code",
   "execution_count": 55,
   "id": "69ec3ae2-22c5-45b6-8072-34d0e8f3eeae",
   "metadata": {},
   "outputs": [
    {
     "data": {
      "text/plain": [
       "[2, 3, 5, 7, 11]"
      ]
     },
     "execution_count": 55,
     "metadata": {},
     "output_type": "execute_result"
    }
   ],
   "source": [
    "#call function\n",
    "take_num_list([1,2,3,4,5,6,7,8,9,10,11])"
   ]
  },
  {
   "cell_type": "code",
   "execution_count": null,
   "id": "d1145c0b-b54a-4109-961b-8d088b978dd7",
   "metadata": {},
   "outputs": [],
   "source": []
  },
  {
   "cell_type": "markdown",
   "id": "3e46f675-1f30-4c32-a0ff-e71c779c4615",
   "metadata": {},
   "source": [
    "# Q6. Write a function that takes a list of strings as an argument and returns a new list with all the strings reversed.\n"
   ]
  },
  {
   "cell_type": "markdown",
   "id": "a13af289-62ae-4bbf-b09e-bea8f4ef090e",
   "metadata": {},
   "source": [
    "### Answer:-"
   ]
  },
  {
   "cell_type": "code",
   "execution_count": 67,
   "id": "4974e32e-98fa-471a-b924-ce542987c171",
   "metadata": {},
   "outputs": [],
   "source": [
    "l1=[]\n",
    "# define function\n",
    "def take_string_list(x):\n",
    "    for i in x:\n",
    "        l1.append(i[::-1])      \n",
    "    return l1     "
   ]
  },
  {
   "cell_type": "code",
   "execution_count": 68,
   "id": "41dd5734-9a7f-4c03-b224-44e098cafe17",
   "metadata": {},
   "outputs": [
    {
     "data": {
      "text/plain": [
       "['hsetin', 'ramuK']"
      ]
     },
     "execution_count": 68,
     "metadata": {},
     "output_type": "execute_result"
    }
   ],
   "source": [
    "#call function\n",
    "take_string_list([\"nitesh\",\"Kumar\"])"
   ]
  },
  {
   "cell_type": "code",
   "execution_count": null,
   "id": "a159023c-f2d8-4be9-9cba-94123220bafd",
   "metadata": {},
   "outputs": [],
   "source": []
  },
  {
   "cell_type": "markdown",
   "id": "6fcc2837-b8f8-4d84-90b4-a7db39b29d05",
   "metadata": {},
   "source": [
    "# Q7. Write a function that takes a string as an argument and returns a new string with all the spaces removed.\n"
   ]
  },
  {
   "cell_type": "markdown",
   "id": "3c0bc4a5-bd92-404f-9198-866dd94e04e0",
   "metadata": {},
   "source": [
    "### Answer:-"
   ]
  },
  {
   "cell_type": "code",
   "execution_count": 70,
   "id": "d9a8d06c-dfac-49b1-b564-5ad2c7c58425",
   "metadata": {},
   "outputs": [],
   "source": [
    "# define function\n",
    "def take_string(x):\n",
    "    return x.replace(\" \",\"\")"
   ]
  },
  {
   "cell_type": "code",
   "execution_count": 71,
   "id": "4869d352-e799-4e3a-ac34-c4286961a146",
   "metadata": {},
   "outputs": [
    {
     "data": {
      "text/plain": [
       "'HelloNitesHKumar,HowAreYou?'"
      ]
     },
     "execution_count": 71,
     "metadata": {},
     "output_type": "execute_result"
    }
   ],
   "source": [
    "#call function\n",
    "take_string(\"Hel lo Nit esH Kumar, How A re Y ou ?\")"
   ]
  },
  {
   "cell_type": "code",
   "execution_count": null,
   "id": "139f399b-8dec-4b7d-8623-95699c670e85",
   "metadata": {},
   "outputs": [],
   "source": []
  },
  {
   "cell_type": "markdown",
   "id": "1d8fd086-4746-4c3c-83fa-bc9f3aa3d440",
   "metadata": {},
   "source": [
    "# Q8. Write a function that takes a list of numbers as an argument and returns a new list with all the numbers squared.\n",
    "\n"
   ]
  },
  {
   "cell_type": "markdown",
   "id": "1862201b-7f81-499e-b7db-ca89ecfd11b3",
   "metadata": {},
   "source": [
    "### Answer:-"
   ]
  },
  {
   "cell_type": "code",
   "execution_count": 80,
   "id": "b4d36f0a-ae17-41fd-977d-ddd79663ad45",
   "metadata": {},
   "outputs": [],
   "source": [
    "l1=[]\n",
    "# define function\n",
    "def take_num_list(x):\n",
    "    for i in x:\n",
    "        l1.append(i**2)        \n",
    "    return l1 "
   ]
  },
  {
   "cell_type": "code",
   "execution_count": 81,
   "id": "0d6f02af-48b3-423e-8def-be744b22be9c",
   "metadata": {},
   "outputs": [
    {
     "data": {
      "text/plain": [
       "[1, 4, 9, 16]"
      ]
     },
     "execution_count": 81,
     "metadata": {},
     "output_type": "execute_result"
    }
   ],
   "source": [
    "#call function\n",
    "take_num_list([1,2,3,4])"
   ]
  },
  {
   "cell_type": "code",
   "execution_count": null,
   "id": "963b3f88-d6cb-4923-9bc7-44adf1f26969",
   "metadata": {},
   "outputs": [],
   "source": []
  },
  {
   "cell_type": "markdown",
   "id": "cf327637-489d-4d33-8762-525b00b8a052",
   "metadata": {},
   "source": [
    "# Q9. Write a function that takes a list of strings as an argument and returns a new list with only the palindrome strings.\n"
   ]
  },
  {
   "cell_type": "markdown",
   "id": "3ab35047-a7c5-4016-a229-53b99d25e078",
   "metadata": {},
   "source": [
    "### Answer:-"
   ]
  },
  {
   "cell_type": "code",
   "execution_count": 84,
   "id": "5ccc60d7-1b63-4e62-b82d-3985a5b99d49",
   "metadata": {},
   "outputs": [],
   "source": [
    "l1=[]\n",
    "# define function\n",
    "def take_string_list(x):\n",
    "    for i in x:\n",
    "        if i==i[::-1]:\n",
    "            l1.append(i)\n",
    "    return l1        "
   ]
  },
  {
   "cell_type": "code",
   "execution_count": 85,
   "id": "7e1fe3c8-bbfa-41e6-b90a-2496d2afd54c",
   "metadata": {},
   "outputs": [
    {
     "data": {
      "text/plain": [
       "['radar', 'level', 'pop']"
      ]
     },
     "execution_count": 85,
     "metadata": {},
     "output_type": "execute_result"
    }
   ],
   "source": [
    "#call function\n",
    "take_string_list([\"Nitesh\",\"radar\",\"level\",\"now\",\"pop\"])"
   ]
  },
  {
   "cell_type": "code",
   "execution_count": null,
   "id": "19bc3bda-6a36-480a-ae4f-5ccb55bd2dd2",
   "metadata": {},
   "outputs": [],
   "source": []
  },
  {
   "cell_type": "markdown",
   "id": "3ec5b786-de0b-44b1-96e6-2e25d150b009",
   "metadata": {},
   "source": [
    "# Q10. Write a function that takes a list of integers as an argument and returns the sum of all the even numbers in the list.\n"
   ]
  },
  {
   "cell_type": "markdown",
   "id": "235f6fba-26b3-49cb-904d-528540bb3f24",
   "metadata": {},
   "source": [
    "### Answer:-"
   ]
  },
  {
   "cell_type": "code",
   "execution_count": 90,
   "id": "f4ef84af-d7b7-4df2-b1c7-12348083a219",
   "metadata": {},
   "outputs": [],
   "source": [
    "l1=[]\n",
    "# define function\n",
    "def take_int_list(x):\n",
    "    for i in x:\n",
    "        if i%2==0:\n",
    "            l1.append(i)\n",
    "    return (f\"The list of even no. is: {l1} and sum of all even no. is : {sum(l1)}\")\n",
    "    #return (\"The list of even no. is: {} and sum of all even no. is : {}\".format(l1,sum(l1)))\n",
    "    "
   ]
  },
  {
   "cell_type": "code",
   "execution_count": 91,
   "id": "df254296-0f05-4184-8a35-750b0a18098f",
   "metadata": {},
   "outputs": [
    {
     "data": {
      "text/plain": [
       "'The list of even no. is: [2, 4, 6, 8] and sum of all even no. is : 20'"
      ]
     },
     "execution_count": 91,
     "metadata": {},
     "output_type": "execute_result"
    }
   ],
   "source": [
    "#call function\n",
    "take_int_list([1,2,3,4,5,6,7,8])"
   ]
  },
  {
   "cell_type": "code",
   "execution_count": null,
   "id": "6152fd2b-a959-4745-9c2a-32f30a1847ad",
   "metadata": {},
   "outputs": [],
   "source": []
  },
  {
   "cell_type": "markdown",
   "id": "95858510-7efb-425c-a0c8-28bc86c416b3",
   "metadata": {},
   "source": [
    "# Q11. Write a function that takes a string as an argument and returns a new string with all the vowels capitalized.\n"
   ]
  },
  {
   "cell_type": "markdown",
   "id": "de838548-5d6a-4ab0-9633-21942a2c177d",
   "metadata": {},
   "source": [
    "### Answer:-"
   ]
  },
  {
   "cell_type": "code",
   "execution_count": 5,
   "id": "96bbbb31-5736-49cb-9744-ddeaa2537918",
   "metadata": {},
   "outputs": [],
   "source": [
    "# define function\n",
    "def take_string(x):\n",
    "    vowel= \"aeiou\" # or [\"a\",\"e\",\"i\",\"o\",\"u\"] \n",
    "    output=\"\" # initialize the empty string that will hold the final result\n",
    "    for char in x:\n",
    "        if char.lower() in vowel:\n",
    "            output=output+char.upper() # accumulate the capitalized vowel.\n",
    "        else:\n",
    "            output=output+char # accumulate the non-vowel char\n",
    "    return output               "
   ]
  },
  {
   "cell_type": "code",
   "execution_count": 6,
   "id": "bc15ab90-4e92-4b96-ae24-027efd6052d7",
   "metadata": {},
   "outputs": [
    {
     "data": {
      "text/plain": [
       "'nItEsh'"
      ]
     },
     "execution_count": 6,
     "metadata": {},
     "output_type": "execute_result"
    }
   ],
   "source": [
    "#call function\n",
    "take_string(\"nitesh\")"
   ]
  },
  {
   "cell_type": "markdown",
   "id": "5c2b424d-5d91-4ae6-91e0-bc1fef3f6088",
   "metadata": {},
   "source": [
    "# Q12. Write a function that takes a list of strings as an argument and returns a new list with only the strings that have more than five characters.\n"
   ]
  },
  {
   "cell_type": "markdown",
   "id": "dc8ad0c3-e5a1-422a-9ff7-ae176f229743",
   "metadata": {},
   "source": [
    "### Answer:-"
   ]
  },
  {
   "cell_type": "code",
   "execution_count": 130,
   "id": "5706da15-1121-41f6-9bca-dc5c0d2212cb",
   "metadata": {},
   "outputs": [],
   "source": [
    "l1=[]\n",
    "# define function\n",
    "def take_string_list(x):\n",
    "    for char in x:\n",
    "        if len(char)>5:\n",
    "            l1.append(char)\n",
    "            \n",
    "    return l1"
   ]
  },
  {
   "cell_type": "code",
   "execution_count": 131,
   "id": "d2d1bdb3-7c05-4450-88ec-02e6997eccf2",
   "metadata": {},
   "outputs": [
    {
     "data": {
      "text/plain": [
       "['nitesh', 'srivastava', 'IITGuwahati']"
      ]
     },
     "execution_count": 131,
     "metadata": {},
     "output_type": "execute_result"
    }
   ],
   "source": [
    "#call function\n",
    "take_string_list([\"nitesh\",\"srivastava\",\"IITGuwahati\",\"Batch\"])"
   ]
  },
  {
   "cell_type": "code",
   "execution_count": null,
   "id": "1c13e6db-1c80-4466-b5dd-b84e02fdce0c",
   "metadata": {},
   "outputs": [],
   "source": []
  },
  {
   "cell_type": "markdown",
   "id": "5586281c-3c63-4c80-b060-881f6c1958ec",
   "metadata": {},
   "source": [
    "# Q13. Write a function that takes a list of numbers as an argument and returns the product of all the numbers in the list.\n"
   ]
  },
  {
   "cell_type": "markdown",
   "id": "e650b984-f907-4e5f-8784-dd4c186df7bc",
   "metadata": {},
   "source": [
    "### Answer:-"
   ]
  },
  {
   "cell_type": "code",
   "execution_count": 13,
   "id": "377fdb01-daa8-41e4-86a0-953f0afd7be4",
   "metadata": {},
   "outputs": [],
   "source": [
    "# define function\n",
    "def take_num_list(x):\n",
    "    result=1\n",
    "    for i in x:\n",
    "        result=result*i\n",
    "    return result    "
   ]
  },
  {
   "cell_type": "code",
   "execution_count": 14,
   "id": "93bd0392-cb50-4d2f-bf20-188aa840dc26",
   "metadata": {},
   "outputs": [
    {
     "data": {
      "text/plain": [
       "24"
      ]
     },
     "execution_count": 14,
     "metadata": {},
     "output_type": "execute_result"
    }
   ],
   "source": [
    "#call function\n",
    "take_num_list([1,2,3,4])"
   ]
  },
  {
   "cell_type": "code",
   "execution_count": null,
   "id": "2b2d40ca-477e-4616-975c-9192330e741e",
   "metadata": {},
   "outputs": [],
   "source": []
  },
  {
   "cell_type": "markdown",
   "id": "a7692c27-7a12-4dff-ab7c-f2878bbab252",
   "metadata": {},
   "source": [
    "# Q14. Write a function that takes a string as an argument and returns a new string with all the characters in reverse order.\n"
   ]
  },
  {
   "cell_type": "markdown",
   "id": "a9e687e0-cd60-4d23-9b47-5c50e4d08086",
   "metadata": {},
   "source": [
    "### Answer:-"
   ]
  },
  {
   "cell_type": "code",
   "execution_count": 35,
   "id": "076171a0-0849-4458-b0c5-2482ff353fb8",
   "metadata": {},
   "outputs": [],
   "source": [
    "# define function\n",
    "def take_strng(x):\n",
    "    return x[::-1]"
   ]
  },
  {
   "cell_type": "code",
   "execution_count": 37,
   "id": "8e6ee612-cd45-4af9-8574-c6877422abff",
   "metadata": {},
   "outputs": [
    {
     "data": {
      "text/plain": [
       "'hsetin'"
      ]
     },
     "execution_count": 37,
     "metadata": {},
     "output_type": "execute_result"
    }
   ],
   "source": [
    "#call function\n",
    "take_strng(\"nitesh\")"
   ]
  },
  {
   "cell_type": "code",
   "execution_count": null,
   "id": "4258d033-cabd-4f82-8684-7999ff7db00f",
   "metadata": {},
   "outputs": [],
   "source": []
  },
  {
   "cell_type": "markdown",
   "id": "717caafe-2ee1-47a4-b13f-4086f79cd007",
   "metadata": {},
   "source": [
    "# Q15. Write a function that takes a list of integers as an argument and returns a new list with only the numbers that are divisible by 3.\n"
   ]
  },
  {
   "cell_type": "markdown",
   "id": "f882f1a7-39ec-47b8-975f-ecc53eb93310",
   "metadata": {},
   "source": [
    "### Answer:-"
   ]
  },
  {
   "cell_type": "code",
   "execution_count": 38,
   "id": "11669dff-e8c2-4ee4-81e2-a1c5f1e18940",
   "metadata": {},
   "outputs": [],
   "source": [
    "l1=[]\n",
    "# define function\n",
    "def take_int_list(x):\n",
    "    for i in x:\n",
    "        if i%3==0:\n",
    "            l1.append(i)\n",
    "    return l1    "
   ]
  },
  {
   "cell_type": "code",
   "execution_count": 39,
   "id": "53a36543-ff5d-4d78-87aa-b2c6d450f66a",
   "metadata": {},
   "outputs": [
    {
     "data": {
      "text/plain": [
       "[3, 6, 9, 12, 15]"
      ]
     },
     "execution_count": 39,
     "metadata": {},
     "output_type": "execute_result"
    }
   ],
   "source": [
    "#call function\n",
    "take_int_list([2,3,5,6,9,11,12,14,15])"
   ]
  },
  {
   "cell_type": "code",
   "execution_count": null,
   "id": "a99c41ce-da3a-4ee0-b594-ebc907a947e2",
   "metadata": {},
   "outputs": [],
   "source": []
  },
  {
   "cell_type": "markdown",
   "id": "c7c03c31-8bca-4f10-9d45-a5c60fee1513",
   "metadata": {},
   "source": [
    "# Q16. Write a function that takes a list of strings as an argument and returns a new list with only the strings that have the letter 'a' in them.\n"
   ]
  },
  {
   "cell_type": "markdown",
   "id": "9dcf8394-321a-4814-8706-d2fa4e1ff638",
   "metadata": {},
   "source": [
    "### Answer:-"
   ]
  },
  {
   "cell_type": "code",
   "execution_count": 40,
   "id": "ac252d74-be63-45d8-9a38-6fa330966b3c",
   "metadata": {},
   "outputs": [],
   "source": [
    "l1=[]\n",
    "# define function\n",
    "def take_string_list(x):  \n",
    "    for i in x:\n",
    "        if \"a\" in i:\n",
    "            l1.append(i)\n",
    "    return l1           "
   ]
  },
  {
   "cell_type": "code",
   "execution_count": 41,
   "id": "8e83f779-92e6-4718-9fc6-48ae005547dd",
   "metadata": {},
   "outputs": [
    {
     "data": {
      "text/plain": [
       "['kumar', 'srivastava']"
      ]
     },
     "execution_count": 41,
     "metadata": {},
     "output_type": "execute_result"
    }
   ],
   "source": [
    "#call function\n",
    "take_string_list([\"nitesh\",\"kumar\",\"srivastava\"])"
   ]
  },
  {
   "cell_type": "code",
   "execution_count": null,
   "id": "8bd73868-1a44-4e52-bb3d-2fc3e6ca82c9",
   "metadata": {},
   "outputs": [],
   "source": []
  },
  {
   "cell_type": "markdown",
   "id": "c74c04d4-e095-47a2-994e-7c090c0e5b3b",
   "metadata": {},
   "source": [
    "# Q17. Write a function that takes a list of numbers as an argument and returns the median of the numbers in the list.\n"
   ]
  },
  {
   "cell_type": "markdown",
   "id": "43c198cc-6c8e-47b7-a488-fe919e0ae70f",
   "metadata": {},
   "source": [
    "### Answer:-"
   ]
  },
  {
   "cell_type": "code",
   "execution_count": 58,
   "id": "afc68be1-ee3e-4cc1-9c6c-59482c7b1d95",
   "metadata": {},
   "outputs": [],
   "source": [
    "# define function\n",
    "def take_num_list(x):\n",
    "    after_sorting_num=sorted(x)\n",
    "    if len(x)%2==0:\n",
    "        return (after_sorting_num[len(x)//2-1]+after_sorting_num[len(x)//2])/2\n",
    "    else:\n",
    "        return after_sorting_num[len(x)//2]"
   ]
  },
  {
   "cell_type": "code",
   "execution_count": 59,
   "id": "1f70d2aa-df58-49b2-9e29-12d6148a357e",
   "metadata": {},
   "outputs": [
    {
     "data": {
      "text/plain": [
       "5.5"
      ]
     },
     "execution_count": 59,
     "metadata": {},
     "output_type": "execute_result"
    }
   ],
   "source": [
    "#call function\n",
    "take_num_list([1,2,3,4,5,6,7,8,9,10])"
   ]
  },
  {
   "cell_type": "code",
   "execution_count": null,
   "id": "f17c07a3-d385-4d32-a6e0-399029ea645f",
   "metadata": {},
   "outputs": [],
   "source": []
  },
  {
   "cell_type": "markdown",
   "id": "f4da0704-d22b-4fd5-a0ba-0360beefebd5",
   "metadata": {},
   "source": [
    "# Q18. Write a function that takes a string as an argument and returns a new string with all the characters in alphabetical order.\n"
   ]
  },
  {
   "cell_type": "markdown",
   "id": "c20f8991-ef26-4aad-b4cb-65609c1f37a4",
   "metadata": {},
   "source": [
    "### Answer:-"
   ]
  },
  {
   "cell_type": "code",
   "execution_count": 71,
   "id": "5a3d9a38-88d4-45d4-a938-dad6df97d031",
   "metadata": {},
   "outputs": [],
   "source": [
    "# define function\n",
    "def take_string(x):\n",
    "    char=list(x)\n",
    "    char.sort()\n",
    "    output=\"\".join(char)\n",
    "    return output"
   ]
  },
  {
   "cell_type": "code",
   "execution_count": 72,
   "id": "444f2cb1-96af-455a-a536-4ba601778df0",
   "metadata": {},
   "outputs": [
    {
     "data": {
      "text/plain": [
       "'ehinst'"
      ]
     },
     "execution_count": 72,
     "metadata": {},
     "output_type": "execute_result"
    }
   ],
   "source": [
    "#call function\n",
    "take_string(\"nitesh\")"
   ]
  },
  {
   "cell_type": "code",
   "execution_count": null,
   "id": "91cf9716-10e9-47c3-b9c1-863a0ecf7fa2",
   "metadata": {},
   "outputs": [],
   "source": []
  },
  {
   "cell_type": "markdown",
   "id": "682807fb-6337-4b1d-b8ce-c4b11d9d7d4a",
   "metadata": {},
   "source": [
    "# Q19. Write a function that takes a list of integers as an argument and returns the sum of the squares of all the numbers in the list.\n"
   ]
  },
  {
   "cell_type": "markdown",
   "id": "e42173ba-dbf5-4933-b85a-c0a37297749d",
   "metadata": {},
   "source": [
    "### Answer:-"
   ]
  },
  {
   "cell_type": "code",
   "execution_count": 75,
   "id": "03fa44f9-cad9-4d04-a967-f97c6cfff582",
   "metadata": {},
   "outputs": [],
   "source": [
    "l1=[]\n",
    "# define function\n",
    "def take_int_list(x):\n",
    "    output=0\n",
    "    for i in x:\n",
    "        l1.append(i**2)\n",
    "    for j in l1:\n",
    "        output=output+j\n",
    "    return output    "
   ]
  },
  {
   "cell_type": "code",
   "execution_count": 76,
   "id": "7209a954-f3a7-4776-8449-e21d2706e02f",
   "metadata": {},
   "outputs": [
    {
     "data": {
      "text/plain": [
       "14"
      ]
     },
     "execution_count": 76,
     "metadata": {},
     "output_type": "execute_result"
    }
   ],
   "source": [
    "#call function\n",
    "take_int_list([1,2,3])"
   ]
  },
  {
   "cell_type": "code",
   "execution_count": null,
   "id": "6459bc4f-7709-4ec5-a85f-6c94aeb40774",
   "metadata": {},
   "outputs": [],
   "source": []
  },
  {
   "cell_type": "markdown",
   "id": "afc5608d-a819-4b1d-86eb-5d99a40ddbcf",
   "metadata": {},
   "source": [
    "# Q20. Write a function that takes a list of strings as an argument and returns a new list with only the strings that have more than three vowels.\n"
   ]
  },
  {
   "cell_type": "markdown",
   "id": "40fc8bc3-f9bf-4132-a263-fd455cd9a7f8",
   "metadata": {},
   "source": [
    "### Answer:-"
   ]
  },
  {
   "cell_type": "code",
   "execution_count": 7,
   "id": "db4703cc-cdf7-4239-be02-f9feb80f1d4f",
   "metadata": {},
   "outputs": [],
   "source": [
    "l1=[]\n",
    "vowel=\"aeiou\"\n",
    "# define function\n",
    "def take_string_list(x):\n",
    "    for i in x:\n",
    "        count=0\n",
    "        for char in i.lower():\n",
    "            if char in vowel:\n",
    "                count=count+1\n",
    "        if count>3:\n",
    "                l1.append(i)\n",
    "    return l1             \n",
    "        "
   ]
  },
  {
   "cell_type": "code",
   "execution_count": 21,
   "id": "b1d5bbe9-05de-46be-b5f8-b185ed7ea3a1",
   "metadata": {},
   "outputs": [
    {
     "data": {
      "text/plain": [
       "['DAtAscIence', 'appleaeio']"
      ]
     },
     "execution_count": 21,
     "metadata": {},
     "output_type": "execute_result"
    }
   ],
   "source": [
    "#call function\n",
    "take_string_list([\"nitesh\",\"DAtAscIence\",\"course\",\"is\",\"goingon\",\"appleaeio\"])"
   ]
  },
  {
   "cell_type": "code",
   "execution_count": null,
   "id": "4d0ad03f-489b-4358-9a64-8fb956518930",
   "metadata": {},
   "outputs": [],
   "source": []
  },
  {
   "cell_type": "markdown",
   "id": "a01d5dce-94c7-4376-ac9e-3b78188c9b88",
   "metadata": {},
   "source": [
    "# Q21. Write a function that takes a list of integers as an argument and returns the product of all the even numbers in the list.\n"
   ]
  },
  {
   "cell_type": "markdown",
   "id": "d82fa340-4fb7-4981-ba56-4446ce65f4ca",
   "metadata": {},
   "source": [
    "### Answer:-"
   ]
  },
  {
   "cell_type": "code",
   "execution_count": 26,
   "id": "783e0b6f-b790-4cab-ab55-3a39cd468050",
   "metadata": {},
   "outputs": [],
   "source": [
    "# define function\n",
    "def take_int_list(x):\n",
    "    output=1\n",
    "    for i in x:\n",
    "        if i%2==0:\n",
    "            output=output*i\n",
    "    return output           "
   ]
  },
  {
   "cell_type": "code",
   "execution_count": 27,
   "id": "7b6fa157-cc84-4207-a7ee-a3020aa512a4",
   "metadata": {},
   "outputs": [
    {
     "data": {
      "text/plain": [
       "8"
      ]
     },
     "execution_count": 27,
     "metadata": {},
     "output_type": "execute_result"
    }
   ],
   "source": [
    "#call function\n",
    "take_int_list([1,2,3,4,5])"
   ]
  },
  {
   "cell_type": "code",
   "execution_count": null,
   "id": "79172939-9e76-42a4-849d-c3b2853c2ba6",
   "metadata": {},
   "outputs": [],
   "source": []
  },
  {
   "cell_type": "markdown",
   "id": "56c788c5-bfaa-4648-b2af-188e1321d206",
   "metadata": {},
   "source": [
    "# Q22. Write a function that takes a string as an argument and returns a new string with all the non-alphabetic characters removed.\n"
   ]
  },
  {
   "cell_type": "markdown",
   "id": "7bac9696-83ea-4849-9e56-c939a815e3bd",
   "metadata": {},
   "source": [
    "### Answer:-"
   ]
  },
  {
   "cell_type": "code",
   "execution_count": 43,
   "id": "4bf6477e-fd30-4e7c-9421-a8b64bc95237",
   "metadata": {},
   "outputs": [],
   "source": [
    "# define function\n",
    "def take_string(x):\n",
    "    result=\"\"\n",
    "    for i in x:\n",
    "        if i.isalpha():\n",
    "            result=result+i\n",
    "           \n",
    "    return result       "
   ]
  },
  {
   "cell_type": "code",
   "execution_count": 44,
   "id": "efa252ef-f0a7-43e9-826b-63397584dec2",
   "metadata": {},
   "outputs": [
    {
     "data": {
      "text/plain": [
       "'nitesh'"
      ]
     },
     "execution_count": 44,
     "metadata": {},
     "output_type": "execute_result"
    }
   ],
   "source": [
    "#call function\n",
    "take_string(\"nit12es3h5\")"
   ]
  },
  {
   "cell_type": "code",
   "execution_count": null,
   "id": "e20b83ea-ab67-44cd-99d2-81431cbbc824",
   "metadata": {},
   "outputs": [],
   "source": []
  },
  {
   "cell_type": "markdown",
   "id": "c49d4886-7ed6-44f1-abdc-749827e5c431",
   "metadata": {},
   "source": [
    "# Q23. Write a function that takes a list of strings as an argument and returns a new list with the strings sorted by length (shortest first).\n"
   ]
  },
  {
   "cell_type": "markdown",
   "id": "c040a306-20e4-44d1-ab1f-0919799ba195",
   "metadata": {},
   "source": [
    "### Answer:-"
   ]
  },
  {
   "cell_type": "code",
   "execution_count": 1,
   "id": "7f58df3b-bc98-49cd-9c7f-24eff3f68275",
   "metadata": {},
   "outputs": [],
   "source": [
    "# define function\n",
    "def take_string_list(x):\n",
    "    return sorted(x,key=len)    "
   ]
  },
  {
   "cell_type": "code",
   "execution_count": 2,
   "id": "cbec2a39-714d-47cb-bc5f-30304e013331",
   "metadata": {},
   "outputs": [
    {
     "data": {
      "text/plain": [
       "['data', 'nitesh', 'science', 'srivastava']"
      ]
     },
     "execution_count": 2,
     "metadata": {},
     "output_type": "execute_result"
    }
   ],
   "source": [
    "#call function\n",
    "take_string_list([\"nitesh\",\"srivastava\",\"data\",\"science\"])"
   ]
  },
  {
   "cell_type": "code",
   "execution_count": null,
   "id": "182fee24-50a4-447e-8e64-fd02ee2305b7",
   "metadata": {},
   "outputs": [],
   "source": []
  },
  {
   "cell_type": "markdown",
   "id": "30fa1579-b8e2-41ca-9e39-c73e291c0945",
   "metadata": {},
   "source": [
    "# Q24. Write a function that takes a list of integers as an argument and returns the maximum difference between any two numbers in the list.\n"
   ]
  },
  {
   "cell_type": "markdown",
   "id": "e15e19d5-b593-4494-b7d4-726a596650f6",
   "metadata": {},
   "source": [
    "### Answer:-"
   ]
  },
  {
   "cell_type": "code",
   "execution_count": 11,
   "id": "4c2f9197-fc14-4c83-877a-1c3cd5eab995",
   "metadata": {},
   "outputs": [],
   "source": [
    "# define function\n",
    "def take_int_list(x):\n",
    "    l1=[]\n",
    "    for i in range(len(x)-1):# loop only run upto second to last element\n",
    "        difference=x[i+1]-x[i]\n",
    "        l1.append(difference)\n",
    "    return (f\"list of difference is: {l1} and maximum difference between two number is: {max(l1)}\")        "
   ]
  },
  {
   "cell_type": "code",
   "execution_count": 14,
   "id": "5e8b7c60-75c6-40d8-873d-4c00564d4f54",
   "metadata": {},
   "outputs": [
    {
     "data": {
      "text/plain": [
       "'list of difference is: [3, 3, 7, -3] and maximum difference between two number is: 7'"
      ]
     },
     "execution_count": 14,
     "metadata": {},
     "output_type": "execute_result"
    }
   ],
   "source": [
    "#call function\n",
    "take_int_list([2,5,8,15,12])"
   ]
  },
  {
   "cell_type": "code",
   "execution_count": 16,
   "id": "d118c3be-5499-4708-96f1-d345cafcaec5",
   "metadata": {},
   "outputs": [],
   "source": [
    "# define function\n",
    "def int_list(x):\n",
    "    if len(x)<2:\n",
    "        return 0\n",
    "    \n",
    "    min_num=x[0]\n",
    "    min_diff=0\n",
    "    for i in x:\n",
    "        if i<min_num:\n",
    "            min_num=i\n",
    "        else:\n",
    "            max_diff=max(min_diff,i-min_num)\n",
    "    return max_diff        \n",
    "        "
   ]
  },
  {
   "cell_type": "code",
   "execution_count": 17,
   "id": "3d389359-233f-4b86-b3ae-5b09aa953fc0",
   "metadata": {},
   "outputs": [
    {
     "data": {
      "text/plain": [
       "6"
      ]
     },
     "execution_count": 17,
     "metadata": {},
     "output_type": "execute_result"
    }
   ],
   "source": [
    "#call function\n",
    "int_list([2,5,9,6,3,8])"
   ]
  },
  {
   "cell_type": "markdown",
   "id": "4feea52c-7d28-4c61-8da5-c1f31494f4cd",
   "metadata": {},
   "source": [
    "# Q25. Write a function that takes a string as an argument and returns a new string with every other character removed.\n"
   ]
  },
  {
   "cell_type": "markdown",
   "id": "b2757290-aa4f-4ea5-88ea-3ab15a4f1bb0",
   "metadata": {},
   "source": [
    "### Answer:-"
   ]
  },
  {
   "cell_type": "code",
   "execution_count": 18,
   "id": "a02b3e9d-607a-44b7-85ae-c3861f2cb7a6",
   "metadata": {},
   "outputs": [],
   "source": [
    "# define function\n",
    "def take_string(x):\n",
    "    return x[::2]        "
   ]
  },
  {
   "cell_type": "code",
   "execution_count": 19,
   "id": "68617710-31ef-43fb-851f-5753b525c0ef",
   "metadata": {},
   "outputs": [
    {
     "data": {
      "text/plain": [
       "'nts'"
      ]
     },
     "execution_count": 19,
     "metadata": {},
     "output_type": "execute_result"
    }
   ],
   "source": [
    "#call function\n",
    "take_string(\"nitesh\")"
   ]
  },
  {
   "cell_type": "code",
   "execution_count": null,
   "id": "dce472b3-33ac-4f14-adaa-077382174745",
   "metadata": {},
   "outputs": [],
   "source": []
  },
  {
   "cell_type": "markdown",
   "id": "b87a3b0d-3e56-48c9-b32d-f9cf3e727b82",
   "metadata": {},
   "source": [
    "# Q26. Write a function that takes a list of strings as an argument and returns a new list with only the strings that start and end with the same character.\n"
   ]
  },
  {
   "cell_type": "markdown",
   "id": "e40fec6d-dc25-4869-9f99-3768c604d2ba",
   "metadata": {},
   "source": [
    "### Answer:-"
   ]
  },
  {
   "cell_type": "code",
   "execution_count": 41,
   "id": "32635898-6c4a-4014-9f17-6ab9da29ac46",
   "metadata": {},
   "outputs": [],
   "source": [
    "# define function\n",
    "def take_string_list(x):\n",
    "    l1=[]\n",
    "    for i in x:\n",
    "        if i[0]==i[-1]:\n",
    "            l1.append(i)          \n",
    "    return l1        "
   ]
  },
  {
   "cell_type": "code",
   "execution_count": 42,
   "id": "a6e88a81-b4ed-4aed-9cd2-274b8f2f18dc",
   "metadata": {},
   "outputs": [
    {
     "data": {
      "text/plain": [
       "['aditya', 'tent', 'shops']"
      ]
     },
     "execution_count": 42,
     "metadata": {},
     "output_type": "execute_result"
    }
   ],
   "source": [
    "#call function\n",
    "take_string_list([\"you\",\"know\",\"aditya\",\"tent\",\"shops\"])"
   ]
  },
  {
   "cell_type": "code",
   "execution_count": null,
   "id": "fca6ec2b-9593-4d10-91fb-c5cdc35035f5",
   "metadata": {},
   "outputs": [],
   "source": []
  },
  {
   "cell_type": "markdown",
   "id": "c44da93d-a199-45fe-900c-ede3271e6da5",
   "metadata": {},
   "source": [
    "# Q27. Write a function that takes a list of integers as an argument and returns the product of all the odd numbers in the list.\n"
   ]
  },
  {
   "cell_type": "markdown",
   "id": "2abe2ced-fae9-4cfd-9f6d-3eb93ec12c60",
   "metadata": {},
   "source": [
    "### Answer:-"
   ]
  },
  {
   "cell_type": "code",
   "execution_count": 43,
   "id": "5a84f7a7-0205-414a-b654-65ade00b46c8",
   "metadata": {},
   "outputs": [],
   "source": [
    "# define function\n",
    "def take_int_list(x):\n",
    "    output=1\n",
    "    for i in x:\n",
    "        if i%2!=0:\n",
    "            output=output*i\n",
    "    return output                   "
   ]
  },
  {
   "cell_type": "code",
   "execution_count": 45,
   "id": "21476d94-30f1-4fb0-8da6-83e93b8612fb",
   "metadata": {},
   "outputs": [
    {
     "data": {
      "text/plain": [
       "105"
      ]
     },
     "execution_count": 45,
     "metadata": {},
     "output_type": "execute_result"
    }
   ],
   "source": [
    "#call function\n",
    "take_int_list([1,2,3,4,5,6,7,8])"
   ]
  },
  {
   "cell_type": "code",
   "execution_count": null,
   "id": "89ec1a97-9a27-47a1-b8d3-5f35ec5eb415",
   "metadata": {},
   "outputs": [],
   "source": []
  },
  {
   "cell_type": "markdown",
   "id": "58930cf9-5999-4886-b35d-d1f6ee95086b",
   "metadata": {},
   "source": [
    "# Q28. Write a function that takes a string as an argument and returns a new string with all the consonants doubled."
   ]
  },
  {
   "cell_type": "markdown",
   "id": "46c01f6d-417d-4392-abb3-382161bd24d0",
   "metadata": {},
   "source": [
    "### Answer:-"
   ]
  },
  {
   "cell_type": "code",
   "execution_count": 46,
   "id": "f47ca30b-4187-4450-97be-49eb3329cd12",
   "metadata": {},
   "outputs": [],
   "source": [
    "# define function\n",
    "def take_string(x):\n",
    "    vowel=\"aeiou\"\n",
    "    result=\"\"\n",
    "    for i in x:\n",
    "        if i.lower() not in vowel:\n",
    "            result=result+i*2\n",
    "    return result"
   ]
  },
  {
   "cell_type": "code",
   "execution_count": 47,
   "id": "6fcaae1a-5f33-43a4-a650-b56adc3f01bb",
   "metadata": {},
   "outputs": [
    {
     "data": {
      "text/plain": [
       "'nnttsshh'"
      ]
     },
     "execution_count": 47,
     "metadata": {},
     "output_type": "execute_result"
    }
   ],
   "source": [
    "#call function\n",
    "take_string(\"nitesh\")"
   ]
  },
  {
   "cell_type": "markdown",
   "id": "19c16c53-24cd-4e1f-a6dd-b94870ce5061",
   "metadata": {},
   "source": [
    "# Q29 Create a generator function for prime numbers less than 1000."
   ]
  },
  {
   "cell_type": "markdown",
   "id": "42502e3b-4584-417d-84b8-e6fdce61f597",
   "metadata": {},
   "source": [
    "### Answer:-"
   ]
  },
  {
   "cell_type": "code",
   "execution_count": 48,
   "id": "d95b550b-f162-4124-a0d4-b01e032056d2",
   "metadata": {},
   "outputs": [],
   "source": [
    "# define function\n",
    "def prime_number(n):\n",
    "    for num in range(2,n):\n",
    "        for j in range(2,num):\n",
    "            if num%j==0:\n",
    "                break \n",
    "        else:\n",
    "            print(num,end=\" \")"
   ]
  },
  {
   "cell_type": "code",
   "execution_count": 49,
   "id": "3f1712b2-8360-435f-b56b-87801ca6bdc8",
   "metadata": {},
   "outputs": [
    {
     "name": "stdout",
     "output_type": "stream",
     "text": [
      "2 3 5 7 11 13 17 19 23 29 31 37 41 43 47 53 59 61 67 71 73 79 83 89 97 101 103 107 109 113 127 131 137 139 149 151 157 163 167 173 179 181 191 193 197 199 211 223 227 229 233 239 241 251 257 263 269 271 277 281 283 293 307 311 313 317 331 337 347 349 353 359 367 373 379 383 389 397 401 409 419 421 431 433 439 443 449 457 461 463 467 479 487 491 499 503 509 521 523 541 547 557 563 569 571 577 587 593 599 601 607 613 617 619 631 641 643 647 653 659 661 673 677 683 691 701 709 719 727 733 739 743 751 757 761 769 773 787 797 809 811 821 823 827 829 839 853 857 859 863 877 881 883 887 907 911 919 929 937 941 947 953 967 971 977 983 991 997 "
     ]
    }
   ],
   "source": [
    "#call function\n",
    "prime_number(1000)"
   ]
  },
  {
   "cell_type": "markdown",
   "id": "9c47a42f-fff9-4422-90f1-c0ecd2ab9fd6",
   "metadata": {},
   "source": [
    "## Q30. Create a function which will take a list as an argument and return all the numbers in a flat list.\n",
    "\n",
    "### Use the below-given list as an argument for your function.\n",
    "\n",
    "\n",
    "#### list1 = [1,2,3,4, [44,55,66, True], False, (34,56,78,89,34), {1,2,3,3,2,1}, {1:34, \"key2\": [55, 67, 78, 89], 4: (45,22, 61, 34)}, [56, 'data science'], 'Machine Learning']\n",
    "\n",
    "\n",
    "##### Note: you must extract numeric keys and values of the dictionary also."
   ]
  },
  {
   "cell_type": "markdown",
   "id": "2aed4f7d-63ac-4222-8325-2abd49ba3075",
   "metadata": {},
   "source": [
    "### Answer:-"
   ]
  },
  {
   "cell_type": "code",
   "execution_count": 57,
   "id": "9c2ab460-b2d9-4061-9b5b-bf249223cc8f",
   "metadata": {},
   "outputs": [],
   "source": [
    "list1 = [1,2,3,4, [44,55,66, True], False, (34,56,78,89,34), {1,2,3,3,2,1}, {1:34, \"key2\": [55, 67, 78, 89], 4: (45, 22, 61, 34)}, [56, 'data science'], 'Machine Learning']"
   ]
  },
  {
   "cell_type": "code",
   "execution_count": 52,
   "id": "227be1f9-9ac5-418c-acc9-b9694b327c80",
   "metadata": {},
   "outputs": [
    {
     "data": {
      "text/plain": [
       "[1,\n",
       " 2,\n",
       " 3,\n",
       " 4,\n",
       " [44, 55, 66, True],\n",
       " False,\n",
       " (34, 56, 78, 89, 34),\n",
       " {1, 2, 3},\n",
       " {1: 34, 'key2': [55, 67, 78, 89], 4: (45, 22, 61, 34)},\n",
       " [56, 'data science'],\n",
       " 'Machine Learning']"
      ]
     },
     "execution_count": 52,
     "metadata": {},
     "output_type": "execute_result"
    }
   ],
   "source": [
    "list1"
   ]
  },
  {
   "cell_type": "code",
   "execution_count": 58,
   "id": "02fb6d31-e0c0-4e3d-88a7-d3c8ba413d37",
   "metadata": {},
   "outputs": [],
   "source": [
    "# define function\n",
    "def flat(list1):\n",
    "    flat_list=[]\n",
    "    for i in list1:\n",
    "        if type(i)==list or type(i)==tuple or type(i)==set:\n",
    "            for j in i:\n",
    "                if type(j)==int:\n",
    "                    flat_list.append(j)\n",
    "        elif type(i)==dict:\n",
    "            for k in i.keys():\n",
    "                if type(k)==int:\n",
    "                    flat_list.append(k)\n",
    "            for l in i.values():\n",
    "                if type(l)==list or type(l)==tuple:\n",
    "                    for m in l:\n",
    "                        if type(m)==int:\n",
    "                            flat_list.append(m)                   \n",
    "                elif type(l)==int:\n",
    "                    flat_list.append(l)\n",
    "                \n",
    "        elif type(i)==int:\n",
    "            flat_list.append(i)           \n",
    "    return flat_list        "
   ]
  },
  {
   "cell_type": "code",
   "execution_count": 54,
   "id": "d98b1fdc-98a3-45be-a6d4-d1ab1b8b660c",
   "metadata": {},
   "outputs": [],
   "source": [
    "##call function and stored in object\n",
    "flat_list= flat(list1)"
   ]
  },
  {
   "cell_type": "code",
   "execution_count": 55,
   "id": "14bb4c05-9d8c-4759-acf9-bb120cadcef1",
   "metadata": {},
   "outputs": [
    {
     "name": "stdout",
     "output_type": "stream",
     "text": [
      "[1, 2, 3, 4, 44, 55, 66, 34, 56, 78, 89, 34, 1, 2, 3, 1, 4, 34, 55, 67, 78, 89, 45, 22, 61, 34, 56] "
     ]
    }
   ],
   "source": [
    "#call object\n",
    "print(flat_list,end=\" \")"
   ]
  },
  {
   "cell_type": "code",
   "execution_count": null,
   "id": "b076d83d-feab-453c-838c-6a4ccd121453",
   "metadata": {},
   "outputs": [],
   "source": []
  }
 ],
 "metadata": {
  "kernelspec": {
   "display_name": "Python 3 (ipykernel)",
   "language": "python",
   "name": "python3"
  },
  "language_info": {
   "codemirror_mode": {
    "name": "ipython",
    "version": 3
   },
   "file_extension": ".py",
   "mimetype": "text/x-python",
   "name": "python",
   "nbconvert_exporter": "python",
   "pygments_lexer": "ipython3",
   "version": "3.9.13"
  }
 },
 "nbformat": 4,
 "nbformat_minor": 5
}
