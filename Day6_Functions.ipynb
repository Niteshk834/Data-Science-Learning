{
 "cells": [
  {
   "cell_type": "code",
   "execution_count": 3,
   "id": "4ec7e369-0f77-4017-907b-80c53fc95595",
   "metadata": {},
   "outputs": [
    {
     "ename": "SyntaxError",
     "evalue": "incomplete input (2690612609.py, line 2)",
     "output_type": "error",
     "traceback": [
      "\u001b[0;36m  Cell \u001b[0;32mIn[3], line 2\u001b[0;36m\u001b[0m\n\u001b[0;31m    \u001b[0m\n\u001b[0m    ^\u001b[0m\n\u001b[0;31mSyntaxError\u001b[0m\u001b[0;31m:\u001b[0m incomplete input\n"
     ]
    }
   ],
   "source": [
    "def test():\n",
    "    "
   ]
  },
  {
   "cell_type": "code",
   "execution_count": 4,
   "id": "4fd0269d-6cb3-4381-87b9-7286c2851dd4",
   "metadata": {},
   "outputs": [],
   "source": [
    "def test():\n",
    "    pass"
   ]
  },
  {
   "cell_type": "code",
   "execution_count": 5,
   "id": "4d7a82d4-bc19-4222-b968-7253acb2723d",
   "metadata": {},
   "outputs": [],
   "source": [
    "def test():\n",
    "    print(\"Nitesh\")"
   ]
  },
  {
   "cell_type": "code",
   "execution_count": 7,
   "id": "392291f6-ed55-4732-ba2f-88c00a77d69a",
   "metadata": {},
   "outputs": [
    {
     "name": "stdout",
     "output_type": "stream",
     "text": [
      "Nitesh\n"
     ]
    }
   ],
   "source": [
    "test()"
   ]
  },
  {
   "cell_type": "code",
   "execution_count": 10,
   "id": "087de604-4475-48b7-93e9-3e0d31613a86",
   "metadata": {},
   "outputs": [
    {
     "name": "stdout",
     "output_type": "stream",
     "text": [
      "Nitesh\n"
     ]
    },
    {
     "ename": "TypeError",
     "evalue": "unsupported operand type(s) for +: 'NoneType' and 'str'",
     "output_type": "error",
     "traceback": [
      "\u001b[0;31m---------------------------------------------------------------------------\u001b[0m",
      "\u001b[0;31mTypeError\u001b[0m                                 Traceback (most recent call last)",
      "Cell \u001b[0;32mIn[10], line 1\u001b[0m\n\u001b[0;32m----> 1\u001b[0m \u001b[43mtest\u001b[49m\u001b[43m(\u001b[49m\u001b[43m)\u001b[49m\u001b[43m \u001b[49m\u001b[38;5;241;43m+\u001b[39;49m\u001b[43m \u001b[49m\u001b[38;5;124;43m\"\u001b[39;49m\u001b[38;5;124;43mKumar\u001b[39;49m\u001b[38;5;124;43m\"\u001b[39;49m\n",
      "\u001b[0;31mTypeError\u001b[0m: unsupported operand type(s) for +: 'NoneType' and 'str'"
     ]
    }
   ],
   "source": [
    "test() + \"Kumar\" # concating not done with non type and str"
   ]
  },
  {
   "cell_type": "code",
   "execution_count": 11,
   "id": "aaf2c503-336c-4264-94e4-f3b9f66fa79d",
   "metadata": {},
   "outputs": [],
   "source": [
    "def test1():\n",
    "    return \"Nitesh\""
   ]
  },
  {
   "cell_type": "code",
   "execution_count": 13,
   "id": "ac13f518-0a40-439b-81fa-86decf45949d",
   "metadata": {},
   "outputs": [
    {
     "data": {
      "text/plain": [
       "'Nitesh'"
      ]
     },
     "execution_count": 13,
     "metadata": {},
     "output_type": "execute_result"
    }
   ],
   "source": [
    "test1()"
   ]
  },
  {
   "cell_type": "code",
   "execution_count": 16,
   "id": "967de816-9e69-485c-bc15-1d6725422d3b",
   "metadata": {},
   "outputs": [
    {
     "data": {
      "text/plain": [
       "'Nitesh kumar'"
      ]
     },
     "execution_count": 16,
     "metadata": {},
     "output_type": "execute_result"
    }
   ],
   "source": [
    "test1() + \" kumar\" # concating done with return function"
   ]
  },
  {
   "cell_type": "code",
   "execution_count": 17,
   "id": "1f824c99-2fbe-415b-b44c-bd8bb4099c50",
   "metadata": {},
   "outputs": [],
   "source": [
    "def test2():\n",
    "    return 1,2,4, \"Nitesh\", 5.8"
   ]
  },
  {
   "cell_type": "code",
   "execution_count": 18,
   "id": "22eea8bd-6a8e-4b7b-b800-db1703b54c15",
   "metadata": {},
   "outputs": [
    {
     "data": {
      "text/plain": [
       "(1, 2, 4, 'Nitesh', 5.8)"
      ]
     },
     "execution_count": 18,
     "metadata": {},
     "output_type": "execute_result"
    }
   ],
   "source": [
    "test2()"
   ]
  },
  {
   "cell_type": "code",
   "execution_count": 19,
   "id": "6bb33bca-249c-4b8c-b125-f466009203a4",
   "metadata": {},
   "outputs": [],
   "source": [
    "a=1,3,5,7"
   ]
  },
  {
   "cell_type": "code",
   "execution_count": 20,
   "id": "13eb141f-d979-4236-8ada-46755f5da1fe",
   "metadata": {},
   "outputs": [
    {
     "data": {
      "text/plain": [
       "(1, 3, 5, 7)"
      ]
     },
     "execution_count": 20,
     "metadata": {},
     "output_type": "execute_result"
    }
   ],
   "source": [
    "a"
   ]
  },
  {
   "cell_type": "code",
   "execution_count": 22,
   "id": "b0b7471d-aa8d-4317-9195-682c86173b76",
   "metadata": {},
   "outputs": [],
   "source": [
    "a,b,c,d= 2,4.6,\"kumar\",True"
   ]
  },
  {
   "cell_type": "code",
   "execution_count": 23,
   "id": "3b28736b-399e-4980-ba78-5a85eb0ebc80",
   "metadata": {},
   "outputs": [
    {
     "data": {
      "text/plain": [
       "2"
      ]
     },
     "execution_count": 23,
     "metadata": {},
     "output_type": "execute_result"
    }
   ],
   "source": [
    "a"
   ]
  },
  {
   "cell_type": "code",
   "execution_count": 24,
   "id": "a8635b96-abf2-439c-85ee-74e957414c7a",
   "metadata": {},
   "outputs": [
    {
     "data": {
      "text/plain": [
       "'kumar'"
      ]
     },
     "execution_count": 24,
     "metadata": {},
     "output_type": "execute_result"
    }
   ],
   "source": [
    "c"
   ]
  },
  {
   "cell_type": "code",
   "execution_count": 25,
   "id": "ff70cb18-4a80-442a-a263-8e51fc7a5a5a",
   "metadata": {},
   "outputs": [
    {
     "data": {
      "text/plain": [
       "True"
      ]
     },
     "execution_count": 25,
     "metadata": {},
     "output_type": "execute_result"
    }
   ],
   "source": [
    "d"
   ]
  },
  {
   "cell_type": "code",
   "execution_count": 26,
   "id": "9ed8c7df-4350-4062-a9dd-6129e94ec946",
   "metadata": {},
   "outputs": [
    {
     "data": {
      "text/plain": [
       "(1, 2, 4, 'Nitesh', 5.8)"
      ]
     },
     "execution_count": 26,
     "metadata": {},
     "output_type": "execute_result"
    }
   ],
   "source": [
    "test2() # output always get in the form of Tuple"
   ]
  },
  {
   "cell_type": "code",
   "execution_count": 29,
   "id": "09c67696-5621-49ed-8808-eea78a2cb905",
   "metadata": {},
   "outputs": [
    {
     "data": {
      "text/plain": [
       "'Nitesh'"
      ]
     },
     "execution_count": 29,
     "metadata": {},
     "output_type": "execute_result"
    }
   ],
   "source": [
    "test2()[3] # we can extract data"
   ]
  },
  {
   "cell_type": "code",
   "execution_count": 31,
   "id": "bbf48f91-0b35-4cc5-a214-11b87372ff36",
   "metadata": {},
   "outputs": [],
   "source": [
    "a,b,c,d,e= test2() # get result if test2 have same no. of elements. Means that if test2 have 4 elements then it give output error."
   ]
  },
  {
   "cell_type": "code",
   "execution_count": 35,
   "id": "7bc3cbdc-9946-4dea-8ada-6d3b774c851c",
   "metadata": {},
   "outputs": [
    {
     "data": {
      "text/plain": [
       "'Nitesh'"
      ]
     },
     "execution_count": 35,
     "metadata": {},
     "output_type": "execute_result"
    }
   ],
   "source": [
    "d"
   ]
  },
  {
   "cell_type": "code",
   "execution_count": 36,
   "id": "ff33c2d6-1971-44b0-9e74-acccff0ffd58",
   "metadata": {},
   "outputs": [],
   "source": [
    "def test3():\n",
    "    a=3*4+5\n",
    "    return a"
   ]
  },
  {
   "cell_type": "code",
   "execution_count": 39,
   "id": "5eb1b5de-4fc0-4abf-a311-cedf1de54643",
   "metadata": {},
   "outputs": [
    {
     "data": {
      "text/plain": [
       "17"
      ]
     },
     "execution_count": 39,
     "metadata": {},
     "output_type": "execute_result"
    }
   ],
   "source": [
    "test3()"
   ]
  },
  {
   "cell_type": "code",
   "execution_count": 43,
   "id": "8b359074-d32e-4568-a0d8-785d50a7b770",
   "metadata": {},
   "outputs": [
    {
     "data": {
      "text/plain": [
       "int"
      ]
     },
     "execution_count": 43,
     "metadata": {},
     "output_type": "execute_result"
    }
   ],
   "source": [
    "type(test3())"
   ]
  },
  {
   "cell_type": "code",
   "execution_count": 44,
   "id": "a25520c4-ec23-4769-ba2f-4310f1793171",
   "metadata": {},
   "outputs": [],
   "source": [
    "def test4(a,b):\n",
    "    c=a+b\n",
    "    return c\n",
    "    "
   ]
  },
  {
   "cell_type": "code",
   "execution_count": 45,
   "id": "75a53db1-6f2d-4429-a0e9-2f606120f4cf",
   "metadata": {},
   "outputs": [
    {
     "ename": "TypeError",
     "evalue": "test4() missing 2 required positional arguments: 'a' and 'b'",
     "output_type": "error",
     "traceback": [
      "\u001b[0;31m---------------------------------------------------------------------------\u001b[0m",
      "\u001b[0;31mTypeError\u001b[0m                                 Traceback (most recent call last)",
      "Cell \u001b[0;32mIn[45], line 1\u001b[0m\n\u001b[0;32m----> 1\u001b[0m \u001b[43mtest4\u001b[49m\u001b[43m(\u001b[49m\u001b[43m)\u001b[49m\n",
      "\u001b[0;31mTypeError\u001b[0m: test4() missing 2 required positional arguments: 'a' and 'b'"
     ]
    }
   ],
   "source": [
    "test4()"
   ]
  },
  {
   "cell_type": "code",
   "execution_count": 46,
   "id": "4739e655-6825-4c00-9329-2f721e455ec9",
   "metadata": {},
   "outputs": [],
   "source": [
    "def test4(a,b):\n",
    "    c=a+b\n",
    "    return c"
   ]
  },
  {
   "cell_type": "code",
   "execution_count": 47,
   "id": "962b0501-25d5-4dc6-9746-29de68723ab4",
   "metadata": {},
   "outputs": [
    {
     "data": {
      "text/plain": [
       "5"
      ]
     },
     "execution_count": 47,
     "metadata": {},
     "output_type": "execute_result"
    }
   ],
   "source": [
    "test4(2,3)"
   ]
  },
  {
   "cell_type": "code",
   "execution_count": 49,
   "id": "44d749c6-21a5-4636-b1bc-6191bdb479db",
   "metadata": {},
   "outputs": [
    {
     "data": {
      "text/plain": [
       "'nitesh kumar'"
      ]
     },
     "execution_count": 49,
     "metadata": {},
     "output_type": "execute_result"
    }
   ],
   "source": [
    "test4(\"nitesh\",\" kumar\")"
   ]
  },
  {
   "cell_type": "code",
   "execution_count": 50,
   "id": "355a1111-e57f-4ed2-b8a0-b29b0601e33c",
   "metadata": {},
   "outputs": [
    {
     "data": {
      "text/plain": [
       "[1, 2, 3, 4]"
      ]
     },
     "execution_count": 50,
     "metadata": {},
     "output_type": "execute_result"
    }
   ],
   "source": [
    "test4([1,2],[3,4])"
   ]
  },
  {
   "cell_type": "code",
   "execution_count": 53,
   "id": "c5cc5ed3-97aa-4fa3-a549-8b1eef3572cc",
   "metadata": {},
   "outputs": [
    {
     "data": {
      "text/plain": [
       "'kumar nitesh'"
      ]
     },
     "execution_count": 53,
     "metadata": {},
     "output_type": "execute_result"
    }
   ],
   "source": [
    "test4(a=\"kumar\", b=\" nitesh\")"
   ]
  },
  {
   "cell_type": "code",
   "execution_count": 54,
   "id": "d358578d-b60a-4a8e-919d-e01a0429ce8e",
   "metadata": {},
   "outputs": [
    {
     "data": {
      "text/plain": [
       "'kumar nitesh'"
      ]
     },
     "execution_count": 54,
     "metadata": {},
     "output_type": "execute_result"
    }
   ],
   "source": [
    "test4( b=\" nitesh\",a=\"kumar\")"
   ]
  },
  {
   "cell_type": "code",
   "execution_count": 70,
   "id": "5e302775-b090-4f47-8b50-0922e1c4cbda",
   "metadata": {},
   "outputs": [],
   "source": [
    "lst=[2,4,5.6,\"nitesh\", True,[2,1,4,6.2]]"
   ]
  },
  {
   "cell_type": "code",
   "execution_count": null,
   "id": "c2a11590-f18a-49f8-97f0-c103b7cdfd39",
   "metadata": {},
   "outputs": [],
   "source": [
    "# create a function which will take list as a input and give final list have all numeric value "
   ]
  },
  {
   "cell_type": "code",
   "execution_count": 89,
   "id": "ed8d3f0f-a47f-49f6-9e8f-ac07045edaa1",
   "metadata": {},
   "outputs": [],
   "source": [
    "l=[2,4,5.6,\"nitesh\", \"kumar\",[2,1,4,6.2]]\n",
    "\n",
    "def test7(a):\n",
    "    n= []\n",
    "    for i in a:\n",
    "        if type(i)== int or type (i)== float:\n",
    "            n.append(i)           \n",
    "    return n\n",
    "    \n",
    "    "
   ]
  },
  {
   "cell_type": "code",
   "execution_count": 90,
   "id": "b8cb2c71-027f-44ed-951b-15b5d5b8e6a3",
   "metadata": {},
   "outputs": [
    {
     "data": {
      "text/plain": [
       "[2, 4, 5.6]"
      ]
     },
     "execution_count": 90,
     "metadata": {},
     "output_type": "execute_result"
    }
   ],
   "source": [
    "test7(l)"
   ]
  },
  {
   "cell_type": "code",
   "execution_count": 93,
   "id": "cde8b029-e58d-455e-9938-138c271f15f0",
   "metadata": {},
   "outputs": [],
   "source": [
    "def test7(a):\n",
    "    n= []\n",
    "    for i in a:\n",
    "        if type(i)== list:\n",
    "            n.append(i)           \n",
    "    return n"
   ]
  },
  {
   "cell_type": "code",
   "execution_count": 94,
   "id": "1eaf4e37-77a3-437b-ae0f-356691a327e2",
   "metadata": {},
   "outputs": [
    {
     "data": {
      "text/plain": [
       "[[2, 1, 4, 6.2]]"
      ]
     },
     "execution_count": 94,
     "metadata": {},
     "output_type": "execute_result"
    }
   ],
   "source": [
    "test7(l)"
   ]
  },
  {
   "cell_type": "code",
   "execution_count": 91,
   "id": "cb4bbf45-1cc0-4afe-8466-6608938168ff",
   "metadata": {},
   "outputs": [],
   "source": [
    "def test8(a):\n",
    "    n=[]\n",
    "    for i in a:\n",
    "        if type(i)== list:\n",
    "            for j in i:\n",
    "                if type(j)== int or type(j)== float:\n",
    "                    n.append(j)\n",
    "        else:\n",
    "            if type(i)== int or type(i)== float:\n",
    "                n.append(i)\n",
    "    return n           \n",
    "                    \n",
    "                    "
   ]
  },
  {
   "cell_type": "code",
   "execution_count": 92,
   "id": "a04241d5-2b36-452a-aede-327e1ec1ca04",
   "metadata": {},
   "outputs": [
    {
     "data": {
      "text/plain": [
       "[2, 4, 5.6, 2, 1, 4, 6.2]"
      ]
     },
     "execution_count": 92,
     "metadata": {},
     "output_type": "execute_result"
    }
   ],
   "source": [
    "test8(l)"
   ]
  },
  {
   "cell_type": "markdown",
   "id": "82d6e746-060c-422a-8f83-2b5e39849699",
   "metadata": {},
   "source": [
    "#### Function part-2"
   ]
  },
  {
   "cell_type": "code",
   "execution_count": 95,
   "id": "6c3202b9-be76-47f5-9d72-3e071425d781",
   "metadata": {},
   "outputs": [],
   "source": [
    "def test9(a,b,c,d):\n",
    "    pass"
   ]
  },
  {
   "cell_type": "code",
   "execution_count": 99,
   "id": "0c9c3dd9-d7c7-45d3-b6c5-4f4ab471d6a9",
   "metadata": {},
   "outputs": [],
   "source": [
    "test9(1,2,3,4)"
   ]
  },
  {
   "cell_type": "code",
   "execution_count": 100,
   "id": "34ae6afa-ef12-42e6-b326-ba3f7bfd68c7",
   "metadata": {},
   "outputs": [
    {
     "ename": "TypeError",
     "evalue": "test9() takes 4 positional arguments but 6 were given",
     "output_type": "error",
     "traceback": [
      "\u001b[0;31m---------------------------------------------------------------------------\u001b[0m",
      "\u001b[0;31mTypeError\u001b[0m                                 Traceback (most recent call last)",
      "Cell \u001b[0;32mIn[100], line 1\u001b[0m\n\u001b[0;32m----> 1\u001b[0m \u001b[43mtest9\u001b[49m\u001b[43m(\u001b[49m\u001b[38;5;241;43m1\u001b[39;49m\u001b[43m,\u001b[49m\u001b[38;5;241;43m2\u001b[39;49m\u001b[43m,\u001b[49m\u001b[38;5;241;43m3\u001b[39;49m\u001b[43m,\u001b[49m\u001b[38;5;241;43m4\u001b[39;49m\u001b[43m,\u001b[49m\u001b[38;5;241;43m5\u001b[39;49m\u001b[43m,\u001b[49m\u001b[38;5;241;43m6\u001b[39;49m\u001b[43m)\u001b[49m\n",
      "\u001b[0;31mTypeError\u001b[0m: test9() takes 4 positional arguments but 6 were given"
     ]
    }
   ],
   "source": [
    "test9(1,2,3,4,5,6) # argument exceed"
   ]
  },
  {
   "cell_type": "code",
   "execution_count": 101,
   "id": "4e58aa17-aed7-4d21-acbd-b311367e36d4",
   "metadata": {},
   "outputs": [],
   "source": [
    "def test(*args):     # In this method any number of argument we can entered # In the place of args we can enter any name like nitesh\n",
    "    return args       "
   ]
  },
  {
   "cell_type": "code",
   "execution_count": 102,
   "id": "116a2b4f-4335-46a0-a4b8-b1346a69bac2",
   "metadata": {},
   "outputs": [
    {
     "data": {
      "text/plain": [
       "(1, 2, 'nitesh', (1, 2, 'kumar'))"
      ]
     },
     "execution_count": 102,
     "metadata": {},
     "output_type": "execute_result"
    }
   ],
   "source": [
    "test(1,2,\"nitesh\",(1,2,\"kumar\"))"
   ]
  },
  {
   "cell_type": "code",
   "execution_count": 103,
   "id": "ad43cb1c-2244-48be-bb38-e7c5f68e6588",
   "metadata": {},
   "outputs": [],
   "source": [
    "def test1(*args,a):\n",
    "    return args,a"
   ]
  },
  {
   "cell_type": "code",
   "execution_count": 104,
   "id": "77028b9d-a410-4436-8fd1-618047cfa4b5",
   "metadata": {},
   "outputs": [
    {
     "ename": "TypeError",
     "evalue": "test1() missing 1 required keyword-only argument: 'a'",
     "output_type": "error",
     "traceback": [
      "\u001b[0;31m---------------------------------------------------------------------------\u001b[0m",
      "\u001b[0;31mTypeError\u001b[0m                                 Traceback (most recent call last)",
      "Cell \u001b[0;32mIn[104], line 1\u001b[0m\n\u001b[0;32m----> 1\u001b[0m \u001b[43mtest1\u001b[49m\u001b[43m \u001b[49m\u001b[43m(\u001b[49m\u001b[38;5;241;43m1\u001b[39;49m\u001b[43m,\u001b[49m\u001b[38;5;241;43m2\u001b[39;49m\u001b[43m,\u001b[49m\u001b[38;5;241;43m3\u001b[39;49m\u001b[43m,\u001b[49m\u001b[38;5;241;43m4\u001b[39;49m\u001b[43m)\u001b[49m\n",
      "\u001b[0;31mTypeError\u001b[0m: test1() missing 1 required keyword-only argument: 'a'"
     ]
    }
   ],
   "source": [
    "test1 (1,2,3,4)"
   ]
  },
  {
   "cell_type": "code",
   "execution_count": 105,
   "id": "e2d80455-ac80-4ff2-b30f-5248e81dc6c2",
   "metadata": {},
   "outputs": [
    {
     "data": {
      "text/plain": [
       "((1, 2, 3, 4), 'kumar')"
      ]
     },
     "execution_count": 105,
     "metadata": {},
     "output_type": "execute_result"
    }
   ],
   "source": [
    "test1(1,2,3,4,a=\"kumar\")"
   ]
  },
  {
   "cell_type": "code",
   "execution_count": 112,
   "id": "97f182bc-e32e-4171-8380-97c7782a2056",
   "metadata": {},
   "outputs": [],
   "source": [
    "def test2(*args):  # Here star is called Steric\n",
    "    lst=[]\n",
    "    for i in args:\n",
    "        if type(i)== list :\n",
    "            lst.append(i)\n",
    "    return lst"
   ]
  },
  {
   "cell_type": "code",
   "execution_count": 115,
   "id": "9059c355-689d-4c5b-a3fb-171bafe81950",
   "metadata": {},
   "outputs": [
    {
     "data": {
      "text/plain": [
       "[[4, 5, 6], [3, 4, 5, 8]]"
      ]
     },
     "execution_count": 115,
     "metadata": {},
     "output_type": "execute_result"
    }
   ],
   "source": [
    "test2(1,2,3,[4,5,6],(7,8,9),[3,4,5,8],\"Nitesh\")"
   ]
  },
  {
   "cell_type": "code",
   "execution_count": 6,
   "id": "db893c7d-609a-49fc-8df9-204aca051500",
   "metadata": {},
   "outputs": [],
   "source": [
    "def test3(**kwargs):\n",
    "    return kwargs"
   ]
  },
  {
   "cell_type": "code",
   "execution_count": 7,
   "id": "646990ae-433c-4a19-b4df-af30fa67eb02",
   "metadata": {},
   "outputs": [
    {
     "data": {
      "text/plain": [
       "{'a': 45, 'b': 56, 'c': [1, 2, 3], 'd': (4, 5, 6)}"
      ]
     },
     "execution_count": 7,
     "metadata": {},
     "output_type": "execute_result"
    }
   ],
   "source": [
    "test3(a=45,b=56,c=[1,2,3],d= (4,5,6))"
   ]
  },
  {
   "cell_type": "code",
   "execution_count": 13,
   "id": "2a0a6b8f-404b-40e2-b5fa-a6d526e999cb",
   "metadata": {},
   "outputs": [],
   "source": [
    "def test4(**kwargs):\n",
    "    for i in kwargs.keys():\n",
    "        if type(kwargs[i])== list:\n",
    "            return i, kwargs[i]   "
   ]
  },
  {
   "cell_type": "code",
   "execution_count": 14,
   "id": "6f801648-2bac-4a0d-9b57-480f52e428e5",
   "metadata": {},
   "outputs": [
    {
     "data": {
      "text/plain": [
       "('c', [1, 2, 3])"
      ]
     },
     "execution_count": 14,
     "metadata": {},
     "output_type": "execute_result"
    }
   ],
   "source": [
    "test4(a=45,b=56,c=[1,2,3],d= (4,5,6))"
   ]
  },
  {
   "cell_type": "code",
   "execution_count": 19,
   "id": "079673ef-72c6-4fd6-a6fa-293b854eee99",
   "metadata": {},
   "outputs": [],
   "source": [
    "def test4(**kwargs):\n",
    "    for i in kwargs.keys():\n",
    "        if type(kwargs[i])== tuple:\n",
    "            return i, kwargs[i] "
   ]
  },
  {
   "cell_type": "code",
   "execution_count": 20,
   "id": "c10a4d59-d08f-4dde-817f-7c4c86a0f5fe",
   "metadata": {},
   "outputs": [
    {
     "data": {
      "text/plain": [
       "('d', (4, 5, 6))"
      ]
     },
     "execution_count": 20,
     "metadata": {},
     "output_type": "execute_result"
    }
   ],
   "source": [
    "test4(a=45,b=56,c=[1,2,3],d= (4,5,6))"
   ]
  },
  {
   "cell_type": "code",
   "execution_count": null,
   "id": "99afec89-6501-48fd-a776-8e64338ffc6f",
   "metadata": {},
   "outputs": [],
   "source": [
    "# args simply means it will take n no. of input and \n",
    "                                      #kwargs means that it take n no. of input with keword and respective values"
   ]
  },
  {
   "cell_type": "code",
   "execution_count": 27,
   "id": "116385bf-3da9-44da-b67b-22d072bc6ff1",
   "metadata": {},
   "outputs": [],
   "source": [
    "def test5(*args, **kwargs):       # args simply means it will take n no. of input and \n",
    "                                      #kwargs means that it take n no. of input with keword and respective values\n",
    "    return args, kwargs                                   "
   ]
  },
  {
   "cell_type": "code",
   "execution_count": 28,
   "id": "de6dff07-02c3-47ae-b7a9-af71d5b7423b",
   "metadata": {},
   "outputs": [
    {
     "data": {
      "text/plain": [
       "((1, 2, 3, 6), {'a': 45, 'b': 3})"
      ]
     },
     "execution_count": 28,
     "metadata": {},
     "output_type": "execute_result"
    }
   ],
   "source": [
    "test5(1,2,3,6, a=45, b=3)"
   ]
  },
  {
   "cell_type": "markdown",
   "id": "776e988f-b9bb-4fcb-b8a0-cdb027c10a17",
   "metadata": {},
   "source": [
    "# Function generator"
   ]
  },
  {
   "cell_type": "code",
   "execution_count": 1,
   "id": "9f6a4b99-92de-4781-8b0c-74b0f885b48f",
   "metadata": {},
   "outputs": [
    {
     "data": {
      "text/plain": [
       "range(1, 10)"
      ]
     },
     "execution_count": 1,
     "metadata": {},
     "output_type": "execute_result"
    }
   ],
   "source": [
    "range(1,10) # Not give output untill used any function"
   ]
  },
  {
   "cell_type": "code",
   "execution_count": 2,
   "id": "7597210e-a864-4d12-8950-f58567c694da",
   "metadata": {},
   "outputs": [
    {
     "name": "stdout",
     "output_type": "stream",
     "text": [
      "1\n",
      "2\n",
      "3\n",
      "4\n",
      "5\n",
      "6\n",
      "7\n",
      "8\n",
      "9\n"
     ]
    }
   ],
   "source": [
    "for i in range(1,10):\n",
    "    print(i)"
   ]
  },
  {
   "cell_type": "code",
   "execution_count": 4,
   "id": "c5106af0-0aeb-4e22-a7c7-fe17de2acf4a",
   "metadata": {},
   "outputs": [],
   "source": [
    "lst=[2,3,\"nitesh\"]"
   ]
  },
  {
   "cell_type": "code",
   "execution_count": 7,
   "id": "9768dd87-8660-4914-8538-18c302df6786",
   "metadata": {},
   "outputs": [],
   "source": [
    "def test1(a):\n",
    "    n=[]\n",
    "    for i in a:\n",
    "        if type(i)== int:\n",
    "            n.append(i)\n",
    "    return n  \n",
    "    "
   ]
  },
  {
   "cell_type": "code",
   "execution_count": 8,
   "id": "ef4753f8-5fa4-4b5d-b46a-ac6e99d7d166",
   "metadata": {},
   "outputs": [
    {
     "data": {
      "text/plain": [
       "[2, 3]"
      ]
     },
     "execution_count": 8,
     "metadata": {},
     "output_type": "execute_result"
    }
   ],
   "source": [
    "test1(lst)"
   ]
  },
  {
   "cell_type": "markdown",
   "id": "193073a5-b144-40f8-b9c6-716f2f88f42f",
   "metadata": {},
   "source": [
    "#### fibonacci series"
   ]
  },
  {
   "cell_type": "code",
   "execution_count": 10,
   "id": "2c6d169f-568e-4739-ae7e-41c4398cdccd",
   "metadata": {},
   "outputs": [],
   "source": [
    "def test_fib(n):\n",
    "    a,b=0,1\n",
    "    for i in range(n):\n",
    "        yield a   # Yeild simply means give output one by one instead of occupying memory when it try to prepare list.\n",
    "        a,b=b,a+b\n",
    "        "
   ]
  },
  {
   "cell_type": "code",
   "execution_count": 11,
   "id": "a6e140b2-ad98-40ff-a496-25eff851e8b4",
   "metadata": {},
   "outputs": [
    {
     "data": {
      "text/plain": [
       "<generator object test_fib at 0x7fe02a059b60>"
      ]
     },
     "execution_count": 11,
     "metadata": {},
     "output_type": "execute_result"
    }
   ],
   "source": [
    "test_fib(10)"
   ]
  },
  {
   "cell_type": "code",
   "execution_count": 15,
   "id": "435a2052-31ae-4a9c-a787-c9c97701f610",
   "metadata": {},
   "outputs": [
    {
     "name": "stdout",
     "output_type": "stream",
     "text": [
      "0\n",
      "1\n",
      "1\n",
      "2\n",
      "3\n",
      "5\n",
      "8\n",
      "13\n",
      "21\n",
      "34\n"
     ]
    }
   ],
   "source": [
    "for i in test_fib(10):\n",
    "    print(i)   # Here is output not block whole memory. output we get one by one."
   ]
  },
  {
   "cell_type": "code",
   "execution_count": null,
   "id": "ebb33bb6-d37b-40a1-a0f3-1d6764788db3",
   "metadata": {},
   "outputs": [],
   "source": []
  }
 ],
 "metadata": {
  "kernelspec": {
   "display_name": "Python 3 (ipykernel)",
   "language": "python",
   "name": "python3"
  },
  "language_info": {
   "codemirror_mode": {
    "name": "ipython",
    "version": 3
   },
   "file_extension": ".py",
   "mimetype": "text/x-python",
   "name": "python",
   "nbconvert_exporter": "python",
   "pygments_lexer": "ipython3",
   "version": "3.10.8"
  }
 },
 "nbformat": 4,
 "nbformat_minor": 5
}
