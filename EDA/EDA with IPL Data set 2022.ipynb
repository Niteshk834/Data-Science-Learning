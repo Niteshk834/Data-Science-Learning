{
 "cells": [
  {
   "cell_type": "code",
   "execution_count": 1,
   "id": "c19094b6-28c2-4741-8561-be94d0ff28cc",
   "metadata": {},
   "outputs": [],
   "source": [
    "import pandas as pd\n",
    "import seaborn as sns\n",
    "import matplotlib.pyplot as plt"
   ]
  },
  {
   "cell_type": "code",
   "execution_count": 2,
   "id": "0c8c240b-e5aa-4a3d-b3a1-8f7e3ae2de9b",
   "metadata": {},
   "outputs": [],
   "source": [
    "df=pd.read_csv(\"IPL_Matches_2022_updated.csv\")"
   ]
  },
  {
   "cell_type": "code",
   "execution_count": 5,
   "id": "5200428b-a52c-4ba9-afd6-5f1c00aa9a3b",
   "metadata": {},
   "outputs": [
    {
     "data": {
      "text/html": [
       "<div>\n",
       "<style scoped>\n",
       "    .dataframe tbody tr th:only-of-type {\n",
       "        vertical-align: middle;\n",
       "    }\n",
       "\n",
       "    .dataframe tbody tr th {\n",
       "        vertical-align: top;\n",
       "    }\n",
       "\n",
       "    .dataframe thead th {\n",
       "        text-align: right;\n",
       "    }\n",
       "</style>\n",
       "<table border=\"1\" class=\"dataframe\">\n",
       "  <thead>\n",
       "    <tr style=\"text-align: right;\">\n",
       "      <th></th>\n",
       "      <th>ID</th>\n",
       "      <th>City</th>\n",
       "      <th>Date</th>\n",
       "      <th>Season</th>\n",
       "      <th>MatchNumber</th>\n",
       "      <th>Team1</th>\n",
       "      <th>Team2</th>\n",
       "      <th>Venue</th>\n",
       "      <th>TossWinner</th>\n",
       "      <th>TossDecision</th>\n",
       "      <th>SuperOver</th>\n",
       "      <th>WinningTeam</th>\n",
       "      <th>WonBy</th>\n",
       "      <th>Margin</th>\n",
       "      <th>method</th>\n",
       "      <th>Player_of_Match</th>\n",
       "      <th>Team1Players</th>\n",
       "      <th>Team2Players</th>\n",
       "      <th>Umpire1</th>\n",
       "      <th>Umpire2</th>\n",
       "    </tr>\n",
       "  </thead>\n",
       "  <tbody>\n",
       "    <tr>\n",
       "      <th>0</th>\n",
       "      <td>1312200</td>\n",
       "      <td>Ahmedabad</td>\n",
       "      <td>5/29/2022</td>\n",
       "      <td>2022</td>\n",
       "      <td>Final</td>\n",
       "      <td>Rajasthan Royals</td>\n",
       "      <td>Gujarat Titans</td>\n",
       "      <td>Narendra Modi Stadium, Ahmedabad</td>\n",
       "      <td>Rajasthan Royals</td>\n",
       "      <td>bat</td>\n",
       "      <td>N</td>\n",
       "      <td>Gujarat Titans</td>\n",
       "      <td>Wickets</td>\n",
       "      <td>7</td>\n",
       "      <td>NaN</td>\n",
       "      <td>HH Pandya</td>\n",
       "      <td>['YBK Jaiswal', 'JC Buttler', 'SV Samson', 'D ...</td>\n",
       "      <td>['WP Saha', 'Shubman Gill', 'MS Wade', 'HH Pan...</td>\n",
       "      <td>CB Gaffaney</td>\n",
       "      <td>Nitin Menon</td>\n",
       "    </tr>\n",
       "    <tr>\n",
       "      <th>1</th>\n",
       "      <td>1312199</td>\n",
       "      <td>Ahmedabad</td>\n",
       "      <td>5/27/2022</td>\n",
       "      <td>2022</td>\n",
       "      <td>Qualifier 2</td>\n",
       "      <td>Royal Challengers Bangalore</td>\n",
       "      <td>Rajasthan Royals</td>\n",
       "      <td>Narendra Modi Stadium, Ahmedabad</td>\n",
       "      <td>Rajasthan Royals</td>\n",
       "      <td>field</td>\n",
       "      <td>N</td>\n",
       "      <td>Rajasthan Royals</td>\n",
       "      <td>Wickets</td>\n",
       "      <td>7</td>\n",
       "      <td>NaN</td>\n",
       "      <td>JC Buttler</td>\n",
       "      <td>['V Kohli', 'F du Plessis', 'RM Patidar', 'GJ ...</td>\n",
       "      <td>['YBK Jaiswal', 'JC Buttler', 'SV Samson', 'D ...</td>\n",
       "      <td>CB Gaffaney</td>\n",
       "      <td>Nitin Menon</td>\n",
       "    </tr>\n",
       "    <tr>\n",
       "      <th>2</th>\n",
       "      <td>1312198</td>\n",
       "      <td>Kolkata</td>\n",
       "      <td>5/25/2022</td>\n",
       "      <td>2022</td>\n",
       "      <td>Eliminator</td>\n",
       "      <td>Royal Challengers Bangalore</td>\n",
       "      <td>Lucknow Super Giants</td>\n",
       "      <td>Eden Gardens, Kolkata</td>\n",
       "      <td>Lucknow Super Giants</td>\n",
       "      <td>field</td>\n",
       "      <td>N</td>\n",
       "      <td>Royal Challengers Bangalore</td>\n",
       "      <td>Runs</td>\n",
       "      <td>14</td>\n",
       "      <td>NaN</td>\n",
       "      <td>RM Patidar</td>\n",
       "      <td>['V Kohli', 'F du Plessis', 'RM Patidar', 'GJ ...</td>\n",
       "      <td>['Q de Kock', 'KL Rahul', 'M Vohra', 'DJ Hooda...</td>\n",
       "      <td>J Madanagopal</td>\n",
       "      <td>MA Gough</td>\n",
       "    </tr>\n",
       "    <tr>\n",
       "      <th>3</th>\n",
       "      <td>1312197</td>\n",
       "      <td>Kolkata</td>\n",
       "      <td>5/24/2022</td>\n",
       "      <td>2022</td>\n",
       "      <td>Qualifier 1</td>\n",
       "      <td>Rajasthan Royals</td>\n",
       "      <td>Gujarat Titans</td>\n",
       "      <td>Eden Gardens, Kolkata</td>\n",
       "      <td>Gujarat Titans</td>\n",
       "      <td>field</td>\n",
       "      <td>N</td>\n",
       "      <td>Gujarat Titans</td>\n",
       "      <td>Wickets</td>\n",
       "      <td>7</td>\n",
       "      <td>NaN</td>\n",
       "      <td>DA Miller</td>\n",
       "      <td>['YBK Jaiswal', 'JC Buttler', 'SV Samson', 'D ...</td>\n",
       "      <td>['WP Saha', 'Shubman Gill', 'MS Wade', 'HH Pan...</td>\n",
       "      <td>BNJ Oxenford</td>\n",
       "      <td>VK Sharma</td>\n",
       "    </tr>\n",
       "    <tr>\n",
       "      <th>4</th>\n",
       "      <td>1304116</td>\n",
       "      <td>Mumbai</td>\n",
       "      <td>5/22/2022</td>\n",
       "      <td>2022</td>\n",
       "      <td>70</td>\n",
       "      <td>Sunrisers Hyderabad</td>\n",
       "      <td>Punjab Kings</td>\n",
       "      <td>Wankhede Stadium, Mumbai</td>\n",
       "      <td>Sunrisers Hyderabad</td>\n",
       "      <td>bat</td>\n",
       "      <td>N</td>\n",
       "      <td>Punjab Kings</td>\n",
       "      <td>Wickets</td>\n",
       "      <td>5</td>\n",
       "      <td>NaN</td>\n",
       "      <td>Harpreet Brar</td>\n",
       "      <td>['PK Garg', 'Abhishek Sharma', 'RA Tripathi', ...</td>\n",
       "      <td>['JM Bairstow', 'S Dhawan', 'M Shahrukh Khan',...</td>\n",
       "      <td>AK Chaudhary</td>\n",
       "      <td>NA Patwardhan</td>\n",
       "    </tr>\n",
       "    <tr>\n",
       "      <th>...</th>\n",
       "      <td>...</td>\n",
       "      <td>...</td>\n",
       "      <td>...</td>\n",
       "      <td>...</td>\n",
       "      <td>...</td>\n",
       "      <td>...</td>\n",
       "      <td>...</td>\n",
       "      <td>...</td>\n",
       "      <td>...</td>\n",
       "      <td>...</td>\n",
       "      <td>...</td>\n",
       "      <td>...</td>\n",
       "      <td>...</td>\n",
       "      <td>...</td>\n",
       "      <td>...</td>\n",
       "      <td>...</td>\n",
       "      <td>...</td>\n",
       "      <td>...</td>\n",
       "      <td>...</td>\n",
       "      <td>...</td>\n",
       "    </tr>\n",
       "    <tr>\n",
       "      <th>69</th>\n",
       "      <td>1304051</td>\n",
       "      <td>Pune</td>\n",
       "      <td>3/29/2022</td>\n",
       "      <td>2022</td>\n",
       "      <td>5</td>\n",
       "      <td>Rajasthan Royals</td>\n",
       "      <td>Sunrisers Hyderabad</td>\n",
       "      <td>Maharashtra Cricket Association Stadium, Pune</td>\n",
       "      <td>Sunrisers Hyderabad</td>\n",
       "      <td>field</td>\n",
       "      <td>N</td>\n",
       "      <td>Rajasthan Royals</td>\n",
       "      <td>Runs</td>\n",
       "      <td>61</td>\n",
       "      <td>NaN</td>\n",
       "      <td>SV Samson</td>\n",
       "      <td>['JC Buttler', 'YBK Jaiswal', 'SV Samson', 'D ...</td>\n",
       "      <td>['KS Williamson', 'Abhishek Sharma', 'RA Tripa...</td>\n",
       "      <td>BNJ Oxenford</td>\n",
       "      <td>UV Gandhe</td>\n",
       "    </tr>\n",
       "    <tr>\n",
       "      <th>70</th>\n",
       "      <td>1304050</td>\n",
       "      <td>Mumbai</td>\n",
       "      <td>3/28/2022</td>\n",
       "      <td>2022</td>\n",
       "      <td>4</td>\n",
       "      <td>Lucknow Super Giants</td>\n",
       "      <td>Gujarat Titans</td>\n",
       "      <td>Wankhede Stadium, Mumbai</td>\n",
       "      <td>Gujarat Titans</td>\n",
       "      <td>field</td>\n",
       "      <td>N</td>\n",
       "      <td>Gujarat Titans</td>\n",
       "      <td>Wickets</td>\n",
       "      <td>5</td>\n",
       "      <td>NaN</td>\n",
       "      <td>Mohammed Shami</td>\n",
       "      <td>['KL Rahul', 'Q de Kock', 'E Lewis', 'MK Pande...</td>\n",
       "      <td>['Shubman Gill', 'MS Wade', 'V Shankar', 'HH P...</td>\n",
       "      <td>PG Pathak</td>\n",
       "      <td>VK Sharma</td>\n",
       "    </tr>\n",
       "    <tr>\n",
       "      <th>71</th>\n",
       "      <td>1304049</td>\n",
       "      <td>Mumbai</td>\n",
       "      <td>3/27/2022</td>\n",
       "      <td>2022</td>\n",
       "      <td>3</td>\n",
       "      <td>Royal Challengers Bangalore</td>\n",
       "      <td>Punjab Kings</td>\n",
       "      <td>Dr DY Patil Sports Academy, Mumbai</td>\n",
       "      <td>Punjab Kings</td>\n",
       "      <td>field</td>\n",
       "      <td>N</td>\n",
       "      <td>Punjab Kings</td>\n",
       "      <td>Wickets</td>\n",
       "      <td>5</td>\n",
       "      <td>NaN</td>\n",
       "      <td>OF Smith</td>\n",
       "      <td>['F du Plessis', 'Anuj Rawat', 'V Kohli', 'KD ...</td>\n",
       "      <td>['MA Agarwal', 'S Dhawan', 'PBB Rajapaksa', 'L...</td>\n",
       "      <td>Nitin Menon</td>\n",
       "      <td>YC Barde</td>\n",
       "    </tr>\n",
       "    <tr>\n",
       "      <th>72</th>\n",
       "      <td>1304048</td>\n",
       "      <td>Mumbai</td>\n",
       "      <td>3/27/2022</td>\n",
       "      <td>2022</td>\n",
       "      <td>2</td>\n",
       "      <td>Mumbai Indians</td>\n",
       "      <td>Delhi Capitals</td>\n",
       "      <td>Brabourne Stadium, Mumbai</td>\n",
       "      <td>Delhi Capitals</td>\n",
       "      <td>field</td>\n",
       "      <td>N</td>\n",
       "      <td>Delhi Capitals</td>\n",
       "      <td>Wickets</td>\n",
       "      <td>4</td>\n",
       "      <td>NaN</td>\n",
       "      <td>Kuldeep Yadav</td>\n",
       "      <td>['RG Sharma', 'Ishan Kishan', 'Anmolpreet Sing...</td>\n",
       "      <td>['PP Shaw', 'TL Seifert', 'Mandeep Singh', 'RR...</td>\n",
       "      <td>RJ Tucker</td>\n",
       "      <td>HAS Khalid</td>\n",
       "    </tr>\n",
       "    <tr>\n",
       "      <th>73</th>\n",
       "      <td>1304047</td>\n",
       "      <td>Mumbai</td>\n",
       "      <td>3/26/2022</td>\n",
       "      <td>2022</td>\n",
       "      <td>1</td>\n",
       "      <td>Chennai Super Kings</td>\n",
       "      <td>Kolkata Knight Riders</td>\n",
       "      <td>Wankhede Stadium, Mumbai</td>\n",
       "      <td>Kolkata Knight Riders</td>\n",
       "      <td>field</td>\n",
       "      <td>N</td>\n",
       "      <td>Kolkata Knight Riders</td>\n",
       "      <td>Wickets</td>\n",
       "      <td>6</td>\n",
       "      <td>NaN</td>\n",
       "      <td>UT Yadav</td>\n",
       "      <td>['RD Gaikwad', 'DP Conway', 'RV Uthappa', 'AT ...</td>\n",
       "      <td>['AM Rahane', 'VR Iyer', 'N Rana', 'SS Iyer', ...</td>\n",
       "      <td>AK Chaudhary</td>\n",
       "      <td>Nitin Menon</td>\n",
       "    </tr>\n",
       "  </tbody>\n",
       "</table>\n",
       "<p>74 rows × 20 columns</p>\n",
       "</div>"
      ],
      "text/plain": [
       "         ID       City       Date  Season  MatchNumber  \\\n",
       "0   1312200  Ahmedabad  5/29/2022    2022        Final   \n",
       "1   1312199  Ahmedabad  5/27/2022    2022  Qualifier 2   \n",
       "2   1312198    Kolkata  5/25/2022    2022   Eliminator   \n",
       "3   1312197    Kolkata  5/24/2022    2022  Qualifier 1   \n",
       "4   1304116     Mumbai  5/22/2022    2022           70   \n",
       "..      ...        ...        ...     ...          ...   \n",
       "69  1304051       Pune  3/29/2022    2022            5   \n",
       "70  1304050     Mumbai  3/28/2022    2022            4   \n",
       "71  1304049     Mumbai  3/27/2022    2022            3   \n",
       "72  1304048     Mumbai  3/27/2022    2022            2   \n",
       "73  1304047     Mumbai  3/26/2022    2022            1   \n",
       "\n",
       "                          Team1                  Team2  \\\n",
       "0              Rajasthan Royals         Gujarat Titans   \n",
       "1   Royal Challengers Bangalore       Rajasthan Royals   \n",
       "2   Royal Challengers Bangalore   Lucknow Super Giants   \n",
       "3              Rajasthan Royals         Gujarat Titans   \n",
       "4           Sunrisers Hyderabad           Punjab Kings   \n",
       "..                          ...                    ...   \n",
       "69             Rajasthan Royals    Sunrisers Hyderabad   \n",
       "70         Lucknow Super Giants         Gujarat Titans   \n",
       "71  Royal Challengers Bangalore           Punjab Kings   \n",
       "72               Mumbai Indians         Delhi Capitals   \n",
       "73          Chennai Super Kings  Kolkata Knight Riders   \n",
       "\n",
       "                                            Venue             TossWinner  \\\n",
       "0                Narendra Modi Stadium, Ahmedabad       Rajasthan Royals   \n",
       "1                Narendra Modi Stadium, Ahmedabad       Rajasthan Royals   \n",
       "2                           Eden Gardens, Kolkata   Lucknow Super Giants   \n",
       "3                           Eden Gardens, Kolkata         Gujarat Titans   \n",
       "4                        Wankhede Stadium, Mumbai    Sunrisers Hyderabad   \n",
       "..                                            ...                    ...   \n",
       "69  Maharashtra Cricket Association Stadium, Pune    Sunrisers Hyderabad   \n",
       "70                       Wankhede Stadium, Mumbai         Gujarat Titans   \n",
       "71             Dr DY Patil Sports Academy, Mumbai           Punjab Kings   \n",
       "72                      Brabourne Stadium, Mumbai         Delhi Capitals   \n",
       "73                       Wankhede Stadium, Mumbai  Kolkata Knight Riders   \n",
       "\n",
       "   TossDecision SuperOver                  WinningTeam    WonBy  Margin  \\\n",
       "0           bat         N               Gujarat Titans  Wickets       7   \n",
       "1         field         N             Rajasthan Royals  Wickets       7   \n",
       "2         field         N  Royal Challengers Bangalore     Runs      14   \n",
       "3         field         N               Gujarat Titans  Wickets       7   \n",
       "4           bat         N                 Punjab Kings  Wickets       5   \n",
       "..          ...       ...                          ...      ...     ...   \n",
       "69        field         N             Rajasthan Royals     Runs      61   \n",
       "70        field         N               Gujarat Titans  Wickets       5   \n",
       "71        field         N                 Punjab Kings  Wickets       5   \n",
       "72        field         N               Delhi Capitals  Wickets       4   \n",
       "73        field         N        Kolkata Knight Riders  Wickets       6   \n",
       "\n",
       "    method Player_of_Match                                       Team1Players  \\\n",
       "0      NaN       HH Pandya  ['YBK Jaiswal', 'JC Buttler', 'SV Samson', 'D ...   \n",
       "1      NaN      JC Buttler  ['V Kohli', 'F du Plessis', 'RM Patidar', 'GJ ...   \n",
       "2      NaN      RM Patidar  ['V Kohli', 'F du Plessis', 'RM Patidar', 'GJ ...   \n",
       "3      NaN       DA Miller  ['YBK Jaiswal', 'JC Buttler', 'SV Samson', 'D ...   \n",
       "4      NaN   Harpreet Brar  ['PK Garg', 'Abhishek Sharma', 'RA Tripathi', ...   \n",
       "..     ...             ...                                                ...   \n",
       "69     NaN       SV Samson  ['JC Buttler', 'YBK Jaiswal', 'SV Samson', 'D ...   \n",
       "70     NaN  Mohammed Shami  ['KL Rahul', 'Q de Kock', 'E Lewis', 'MK Pande...   \n",
       "71     NaN        OF Smith  ['F du Plessis', 'Anuj Rawat', 'V Kohli', 'KD ...   \n",
       "72     NaN   Kuldeep Yadav  ['RG Sharma', 'Ishan Kishan', 'Anmolpreet Sing...   \n",
       "73     NaN        UT Yadav  ['RD Gaikwad', 'DP Conway', 'RV Uthappa', 'AT ...   \n",
       "\n",
       "                                         Team2Players        Umpire1  \\\n",
       "0   ['WP Saha', 'Shubman Gill', 'MS Wade', 'HH Pan...    CB Gaffaney   \n",
       "1   ['YBK Jaiswal', 'JC Buttler', 'SV Samson', 'D ...    CB Gaffaney   \n",
       "2   ['Q de Kock', 'KL Rahul', 'M Vohra', 'DJ Hooda...  J Madanagopal   \n",
       "3   ['WP Saha', 'Shubman Gill', 'MS Wade', 'HH Pan...   BNJ Oxenford   \n",
       "4   ['JM Bairstow', 'S Dhawan', 'M Shahrukh Khan',...   AK Chaudhary   \n",
       "..                                                ...            ...   \n",
       "69  ['KS Williamson', 'Abhishek Sharma', 'RA Tripa...   BNJ Oxenford   \n",
       "70  ['Shubman Gill', 'MS Wade', 'V Shankar', 'HH P...      PG Pathak   \n",
       "71  ['MA Agarwal', 'S Dhawan', 'PBB Rajapaksa', 'L...    Nitin Menon   \n",
       "72  ['PP Shaw', 'TL Seifert', 'Mandeep Singh', 'RR...      RJ Tucker   \n",
       "73  ['AM Rahane', 'VR Iyer', 'N Rana', 'SS Iyer', ...   AK Chaudhary   \n",
       "\n",
       "          Umpire2  \n",
       "0     Nitin Menon  \n",
       "1     Nitin Menon  \n",
       "2        MA Gough  \n",
       "3       VK Sharma  \n",
       "4   NA Patwardhan  \n",
       "..            ...  \n",
       "69      UV Gandhe  \n",
       "70      VK Sharma  \n",
       "71       YC Barde  \n",
       "72     HAS Khalid  \n",
       "73    Nitin Menon  \n",
       "\n",
       "[74 rows x 20 columns]"
      ]
     },
     "execution_count": 5,
     "metadata": {},
     "output_type": "execute_result"
    }
   ],
   "source": [
    "df"
   ]
  },
  {
   "cell_type": "code",
   "execution_count": 7,
   "id": "596d6cb2-75c3-4086-a282-a3066aae01eb",
   "metadata": {},
   "outputs": [
    {
     "data": {
      "text/html": [
       "<div>\n",
       "<style scoped>\n",
       "    .dataframe tbody tr th:only-of-type {\n",
       "        vertical-align: middle;\n",
       "    }\n",
       "\n",
       "    .dataframe tbody tr th {\n",
       "        vertical-align: top;\n",
       "    }\n",
       "\n",
       "    .dataframe thead th {\n",
       "        text-align: right;\n",
       "    }\n",
       "</style>\n",
       "<table border=\"1\" class=\"dataframe\">\n",
       "  <thead>\n",
       "    <tr style=\"text-align: right;\">\n",
       "      <th></th>\n",
       "      <th>ID</th>\n",
       "      <th>City</th>\n",
       "      <th>Date</th>\n",
       "      <th>Season</th>\n",
       "      <th>MatchNumber</th>\n",
       "      <th>Team1</th>\n",
       "      <th>Team2</th>\n",
       "      <th>Venue</th>\n",
       "      <th>TossWinner</th>\n",
       "      <th>TossDecision</th>\n",
       "      <th>SuperOver</th>\n",
       "      <th>WinningTeam</th>\n",
       "      <th>WonBy</th>\n",
       "      <th>Margin</th>\n",
       "      <th>method</th>\n",
       "      <th>Player_of_Match</th>\n",
       "      <th>Team1Players</th>\n",
       "      <th>Team2Players</th>\n",
       "      <th>Umpire1</th>\n",
       "      <th>Umpire2</th>\n",
       "    </tr>\n",
       "  </thead>\n",
       "  <tbody>\n",
       "    <tr>\n",
       "      <th>0</th>\n",
       "      <td>1312200</td>\n",
       "      <td>Ahmedabad</td>\n",
       "      <td>5/29/2022</td>\n",
       "      <td>2022</td>\n",
       "      <td>Final</td>\n",
       "      <td>Rajasthan Royals</td>\n",
       "      <td>Gujarat Titans</td>\n",
       "      <td>Narendra Modi Stadium, Ahmedabad</td>\n",
       "      <td>Rajasthan Royals</td>\n",
       "      <td>bat</td>\n",
       "      <td>N</td>\n",
       "      <td>Gujarat Titans</td>\n",
       "      <td>Wickets</td>\n",
       "      <td>7</td>\n",
       "      <td>NaN</td>\n",
       "      <td>HH Pandya</td>\n",
       "      <td>['YBK Jaiswal', 'JC Buttler', 'SV Samson', 'D ...</td>\n",
       "      <td>['WP Saha', 'Shubman Gill', 'MS Wade', 'HH Pan...</td>\n",
       "      <td>CB Gaffaney</td>\n",
       "      <td>Nitin Menon</td>\n",
       "    </tr>\n",
       "    <tr>\n",
       "      <th>1</th>\n",
       "      <td>1312199</td>\n",
       "      <td>Ahmedabad</td>\n",
       "      <td>5/27/2022</td>\n",
       "      <td>2022</td>\n",
       "      <td>Qualifier 2</td>\n",
       "      <td>Royal Challengers Bangalore</td>\n",
       "      <td>Rajasthan Royals</td>\n",
       "      <td>Narendra Modi Stadium, Ahmedabad</td>\n",
       "      <td>Rajasthan Royals</td>\n",
       "      <td>field</td>\n",
       "      <td>N</td>\n",
       "      <td>Rajasthan Royals</td>\n",
       "      <td>Wickets</td>\n",
       "      <td>7</td>\n",
       "      <td>NaN</td>\n",
       "      <td>JC Buttler</td>\n",
       "      <td>['V Kohli', 'F du Plessis', 'RM Patidar', 'GJ ...</td>\n",
       "      <td>['YBK Jaiswal', 'JC Buttler', 'SV Samson', 'D ...</td>\n",
       "      <td>CB Gaffaney</td>\n",
       "      <td>Nitin Menon</td>\n",
       "    </tr>\n",
       "  </tbody>\n",
       "</table>\n",
       "</div>"
      ],
      "text/plain": [
       "        ID       City       Date  Season  MatchNumber  \\\n",
       "0  1312200  Ahmedabad  5/29/2022    2022        Final   \n",
       "1  1312199  Ahmedabad  5/27/2022    2022  Qualifier 2   \n",
       "\n",
       "                         Team1             Team2  \\\n",
       "0             Rajasthan Royals    Gujarat Titans   \n",
       "1  Royal Challengers Bangalore  Rajasthan Royals   \n",
       "\n",
       "                              Venue        TossWinner TossDecision SuperOver  \\\n",
       "0  Narendra Modi Stadium, Ahmedabad  Rajasthan Royals          bat         N   \n",
       "1  Narendra Modi Stadium, Ahmedabad  Rajasthan Royals        field         N   \n",
       "\n",
       "        WinningTeam    WonBy  Margin  method Player_of_Match  \\\n",
       "0    Gujarat Titans  Wickets       7     NaN       HH Pandya   \n",
       "1  Rajasthan Royals  Wickets       7     NaN      JC Buttler   \n",
       "\n",
       "                                        Team1Players  \\\n",
       "0  ['YBK Jaiswal', 'JC Buttler', 'SV Samson', 'D ...   \n",
       "1  ['V Kohli', 'F du Plessis', 'RM Patidar', 'GJ ...   \n",
       "\n",
       "                                        Team2Players      Umpire1      Umpire2  \n",
       "0  ['WP Saha', 'Shubman Gill', 'MS Wade', 'HH Pan...  CB Gaffaney  Nitin Menon  \n",
       "1  ['YBK Jaiswal', 'JC Buttler', 'SV Samson', 'D ...  CB Gaffaney  Nitin Menon  "
      ]
     },
     "execution_count": 7,
     "metadata": {},
     "output_type": "execute_result"
    }
   ],
   "source": [
    "df.head(2)"
   ]
  },
  {
   "cell_type": "code",
   "execution_count": 8,
   "id": "c44cab9d-e1e3-4c9d-9091-ac3fe85e6f73",
   "metadata": {},
   "outputs": [
    {
     "data": {
      "text/plain": [
       "(74, 20)"
      ]
     },
     "execution_count": 8,
     "metadata": {},
     "output_type": "execute_result"
    }
   ],
   "source": [
    "df.shape"
   ]
  },
  {
   "cell_type": "code",
   "execution_count": 10,
   "id": "0d30a17f-20c7-48a5-9817-cf85e817aaa8",
   "metadata": {},
   "outputs": [
    {
     "data": {
      "text/plain": [
       "Index(['ID', 'City', 'Date', 'Season', 'MatchNumber', 'Team1', 'Team2',\n",
       "       'Venue', 'TossWinner', 'TossDecision', 'SuperOver', 'WinningTeam',\n",
       "       'WonBy', 'Margin', 'method', 'Player_of_Match', 'Team1Players',\n",
       "       'Team2Players', 'Umpire1', 'Umpire2'],\n",
       "      dtype='object')"
      ]
     },
     "execution_count": 10,
     "metadata": {},
     "output_type": "execute_result"
    }
   ],
   "source": [
    "df.columns"
   ]
  },
  {
   "cell_type": "code",
   "execution_count": 12,
   "id": "4915870d-a7fe-4a89-857f-04c2ac1abfa0",
   "metadata": {},
   "outputs": [
    {
     "data": {
      "text/plain": [
       "Kuldeep Yadav       4\n",
       "JC Buttler          3\n",
       "HH Pandya           2\n",
       "KL Rahul            2\n",
       "YS Chahal           2\n",
       "KD Karthik          2\n",
       "Avesh Khan          2\n",
       "PWH de Silva        2\n",
       "Shubman Gill        2\n",
       "Umran Malik         2\n",
       "JJ Bumrah           2\n",
       "DA Miller           2\n",
       "RA Tripathi         2\n",
       "Q de Kock           2\n",
       "UT Yadav            2\n",
       "F du Plessis        1\n",
       "R Parag             1\n",
       "S Dhawan            1\n",
       "Mohammed Shami      1\n",
       "M Jansen            1\n",
       "Rashid Khan         1\n",
       "Mukesh Choudhary    1\n",
       "LH Ferguson         1\n",
       "SV Samson           1\n",
       "LS Livingstone      1\n",
       "E Lewis             1\n",
       "MA Agarwal          1\n",
       "KS Williamson       1\n",
       "Anuj Rawat          1\n",
       "Abhishek Sharma     1\n",
       "PJ Cummins          1\n",
       "S Dube              1\n",
       "Mohsin Khan         1\n",
       "KH Pandya           1\n",
       "DR Sams             1\n",
       "RM Patidar          1\n",
       "Harpreet Brar       1\n",
       "R Ashwin            1\n",
       "V Kohli             1\n",
       "SN Thakur           1\n",
       "TA Boult            1\n",
       "WP Saha             1\n",
       "AD Russell          1\n",
       "JM Bairstow         1\n",
       "MR Marsh            1\n",
       "R Tewatia           1\n",
       "DP Conway           1\n",
       "YBK Jaiswal         1\n",
       "TH David            1\n",
       "DA Warner           1\n",
       "HV Patel            1\n",
       "K Rabada            1\n",
       "RK Singh            1\n",
       "RD Gaikwad          1\n",
       "SA Yadav            1\n",
       "OF Smith            1\n",
       "Name: Player_of_Match, dtype: int64"
      ]
     },
     "execution_count": 12,
     "metadata": {},
     "output_type": "execute_result"
    }
   ],
   "source": [
    "# getting the frequency of most player_of_Match award\n",
    "# here Player of match is a catagorical column and if we want to know\n",
    "# about the frequency of catagorical variable then we will use value_counts()\n",
    "df[\"Player_of_Match\"].value_counts()"
   ]
  },
  {
   "cell_type": "code",
   "execution_count": 14,
   "id": "67e9ea0e-162c-41eb-83ee-37d0bbcb324a",
   "metadata": {},
   "outputs": [
    {
     "data": {
      "text/plain": [
       "Kuldeep Yadav    4\n",
       "JC Buttler       3\n",
       "HH Pandya        2\n",
       "KL Rahul         2\n",
       "YS Chahal        2\n",
       "KD Karthik       2\n",
       "Avesh Khan       2\n",
       "PWH de Silva     2\n",
       "Shubman Gill     2\n",
       "Umran Malik      2\n",
       "Name: Player_of_Match, dtype: int64"
      ]
     },
     "execution_count": 14,
     "metadata": {},
     "output_type": "execute_result"
    }
   ],
   "source": [
    "# list top 10 player who won maximum no. of Player of match\n",
    "df[\"Player_of_Match\"].value_counts()[0:10]"
   ]
  },
  {
   "cell_type": "code",
   "execution_count": 16,
   "id": "24948894-18c0-477d-b8e6-3848f608f666",
   "metadata": {},
   "outputs": [],
   "source": [
    "# list top 5 player who won maximum no. of Player of match\n",
    "df1=df[\"Player_of_Match\"].value_counts()[0:5]"
   ]
  },
  {
   "cell_type": "code",
   "execution_count": 17,
   "id": "6025fb07-4ab6-4323-8e5f-8f8bc4c6e186",
   "metadata": {},
   "outputs": [
    {
     "data": {
      "text/plain": [
       "Kuldeep Yadav    4\n",
       "JC Buttler       3\n",
       "HH Pandya        2\n",
       "KL Rahul         2\n",
       "YS Chahal        2\n",
       "Name: Player_of_Match, dtype: int64"
      ]
     },
     "execution_count": 17,
     "metadata": {},
     "output_type": "execute_result"
    }
   ],
   "source": [
    "df1"
   ]
  },
  {
   "cell_type": "code",
   "execution_count": null,
   "id": "e8b6dbc0-0d6e-4452-aa21-799dedab08c8",
   "metadata": {},
   "outputs": [],
   "source": [
    "# Now we have to plot bar chart of top 5 player of match.\n",
    "\n",
    "# In barplot first parameter for catgorical value and 2nd parameter goes for numerical value\n",
    "# for catagorical value we want name of player and numerical value we want no. of award get.\n",
    "    "
   ]
  },
  {
   "cell_type": "code",
   "execution_count": 20,
   "id": "6d91e9fe-c127-42d7-9a6a-39082929d031",
   "metadata": {},
   "outputs": [
    {
     "data": {
      "text/plain": [
       "Index(['Kuldeep Yadav', 'JC Buttler', 'HH Pandya', 'KL Rahul', 'YS Chahal'], dtype='object')"
      ]
     },
     "execution_count": 20,
     "metadata": {},
     "output_type": "execute_result"
    }
   ],
   "source": [
    "df1.keys()"
   ]
  },
  {
   "cell_type": "code",
   "execution_count": 21,
   "id": "5048d2e8-0af7-42d3-be2c-63b993bf1444",
   "metadata": {},
   "outputs": [
    {
     "data": {
      "text/plain": [
       "['Kuldeep Yadav', 'JC Buttler', 'HH Pandya', 'KL Rahul', 'YS Chahal']"
      ]
     },
     "execution_count": 21,
     "metadata": {},
     "output_type": "execute_result"
    }
   ],
   "source": [
    "# for getting the name\n",
    "list(df1.keys())"
   ]
  },
  {
   "cell_type": "code",
   "execution_count": 22,
   "id": "71c7947b-f11f-40d6-bcba-5a25e9a5f321",
   "metadata": {},
   "outputs": [
    {
     "data": {
      "text/plain": [
       "[4, 3, 2, 2, 2]"
      ]
     },
     "execution_count": 22,
     "metadata": {},
     "output_type": "execute_result"
    }
   ],
   "source": [
    "# for getting the no. of award get\n",
    "list(df1)"
   ]
  },
  {
   "cell_type": "code",
   "execution_count": 26,
   "id": "2e9c0861-149c-45ad-86cd-7dff4aa8659b",
   "metadata": {},
   "outputs": [
    {
     "data": {
      "image/png": "[encoded data removed]",
      "text/plain": [
       "<Figure size 800x500 with 1 Axes>"
      ]
     },
     "metadata": {},
     "output_type": "display_data"
    }
   ],
   "source": [
    "# Now we plot the bar chart using matplotlib\n",
    "plt.figure(figsize=(8,5))\n",
    "plt.bar(df1.keys(),df1,color=\"g\")\n",
    "plt.show()"
   ]
  },
  {
   "cell_type": "code",
   "execution_count": 27,
   "id": "cd453593-9bf7-465f-8e1d-f5d01b19a1c2",
   "metadata": {},
   "outputs": [
    {
     "data": {
      "text/plain": [
       "Index(['ID', 'City', 'Date', 'Season', 'MatchNumber', 'Team1', 'Team2',\n",
       "       'Venue', 'TossWinner', 'TossDecision', 'SuperOver', 'WinningTeam',\n",
       "       'WonBy', 'Margin', 'method', 'Player_of_Match', 'Team1Players',\n",
       "       'Team2Players', 'Umpire1', 'Umpire2'],\n",
       "      dtype='object')"
      ]
     },
     "execution_count": 27,
     "metadata": {},
     "output_type": "execute_result"
    }
   ],
   "source": [
    "df.columns"
   ]
  },
  {
   "cell_type": "code",
   "execution_count": 29,
   "id": "82a73fee-b18d-4d36-ba25-c6246ad87a83",
   "metadata": {},
   "outputs": [
    {
     "data": {
      "text/plain": [
       "Gujarat Titans                 12\n",
       "Rajasthan Royals               10\n",
       "Royal Challengers Bangalore     9\n",
       "Lucknow Super Giants            9\n",
       "Punjab Kings                    7\n",
       "Delhi Capitals                  7\n",
       "Sunrisers Hyderabad             6\n",
       "Kolkata Knight Riders           6\n",
       "Mumbai Indians                  4\n",
       "Chennai Super Kings             4\n",
       "Name: WinningTeam, dtype: int64"
      ]
     },
     "execution_count": 29,
     "metadata": {},
     "output_type": "execute_result"
    }
   ],
   "source": [
    "#getting frequency of winning team\n",
    "df[\"WinningTeam\"].value_counts()"
   ]
  },
  {
   "cell_type": "code",
   "execution_count": 33,
   "id": "6169bf26-8e93-43b3-a690-09343c5cd626",
   "metadata": {},
   "outputs": [
    {
     "data": {
      "text/plain": [
       "Gujarat Titans                 10\n",
       "Sunrisers Hyderabad            10\n",
       "Mumbai Indians                  9\n",
       "Kolkata Knight Riders           8\n",
       "Royal Challengers Bangalore     8\n",
       "Delhi Capitals                  8\n",
       "Lucknow Super Giants            7\n",
       "Chennai Super Kings             6\n",
       "Rajasthan Royals                4\n",
       "Punjab Kings                    4\n",
       "Name: TossWinner, dtype: int64"
      ]
     },
     "execution_count": 33,
     "metadata": {},
     "output_type": "execute_result"
    }
   ],
   "source": [
    "# findding out no. of toss win w.r.t. each team\n",
    "df[\"TossWinner\"].value_counts()"
   ]
  },
  {
   "cell_type": "code",
   "execution_count": 34,
   "id": "b94ef0dd-8771-4759-b742-11630f866ce3",
   "metadata": {},
   "outputs": [
    {
     "data": {
      "text/html": [
       "<div>\n",
       "<style scoped>\n",
       "    .dataframe tbody tr th:only-of-type {\n",
       "        vertical-align: middle;\n",
       "    }\n",
       "\n",
       "    .dataframe tbody tr th {\n",
       "        vertical-align: top;\n",
       "    }\n",
       "\n",
       "    .dataframe thead th {\n",
       "        text-align: right;\n",
       "    }\n",
       "</style>\n",
       "<table border=\"1\" class=\"dataframe\">\n",
       "  <thead>\n",
       "    <tr style=\"text-align: right;\">\n",
       "      <th></th>\n",
       "      <th>ID</th>\n",
       "      <th>City</th>\n",
       "      <th>Date</th>\n",
       "      <th>Season</th>\n",
       "      <th>MatchNumber</th>\n",
       "      <th>Team1</th>\n",
       "      <th>Team2</th>\n",
       "      <th>Venue</th>\n",
       "      <th>TossWinner</th>\n",
       "      <th>TossDecision</th>\n",
       "      <th>SuperOver</th>\n",
       "      <th>WinningTeam</th>\n",
       "      <th>WonBy</th>\n",
       "      <th>Margin</th>\n",
       "      <th>method</th>\n",
       "      <th>Player_of_Match</th>\n",
       "      <th>Team1Players</th>\n",
       "      <th>Team2Players</th>\n",
       "      <th>Umpire1</th>\n",
       "      <th>Umpire2</th>\n",
       "    </tr>\n",
       "  </thead>\n",
       "  <tbody>\n",
       "    <tr>\n",
       "      <th>0</th>\n",
       "      <td>1312200</td>\n",
       "      <td>Ahmedabad</td>\n",
       "      <td>5/29/2022</td>\n",
       "      <td>2022</td>\n",
       "      <td>Final</td>\n",
       "      <td>Rajasthan Royals</td>\n",
       "      <td>Gujarat Titans</td>\n",
       "      <td>Narendra Modi Stadium, Ahmedabad</td>\n",
       "      <td>Rajasthan Royals</td>\n",
       "      <td>bat</td>\n",
       "      <td>N</td>\n",
       "      <td>Gujarat Titans</td>\n",
       "      <td>Wickets</td>\n",
       "      <td>7</td>\n",
       "      <td>NaN</td>\n",
       "      <td>HH Pandya</td>\n",
       "      <td>['YBK Jaiswal', 'JC Buttler', 'SV Samson', 'D ...</td>\n",
       "      <td>['WP Saha', 'Shubman Gill', 'MS Wade', 'HH Pan...</td>\n",
       "      <td>CB Gaffaney</td>\n",
       "      <td>Nitin Menon</td>\n",
       "    </tr>\n",
       "    <tr>\n",
       "      <th>1</th>\n",
       "      <td>1312199</td>\n",
       "      <td>Ahmedabad</td>\n",
       "      <td>5/27/2022</td>\n",
       "      <td>2022</td>\n",
       "      <td>Qualifier 2</td>\n",
       "      <td>Royal Challengers Bangalore</td>\n",
       "      <td>Rajasthan Royals</td>\n",
       "      <td>Narendra Modi Stadium, Ahmedabad</td>\n",
       "      <td>Rajasthan Royals</td>\n",
       "      <td>field</td>\n",
       "      <td>N</td>\n",
       "      <td>Rajasthan Royals</td>\n",
       "      <td>Wickets</td>\n",
       "      <td>7</td>\n",
       "      <td>NaN</td>\n",
       "      <td>JC Buttler</td>\n",
       "      <td>['V Kohli', 'F du Plessis', 'RM Patidar', 'GJ ...</td>\n",
       "      <td>['YBK Jaiswal', 'JC Buttler', 'SV Samson', 'D ...</td>\n",
       "      <td>CB Gaffaney</td>\n",
       "      <td>Nitin Menon</td>\n",
       "    </tr>\n",
       "  </tbody>\n",
       "</table>\n",
       "</div>"
      ],
      "text/plain": [
       "        ID       City       Date  Season  MatchNumber  \\\n",
       "0  1312200  Ahmedabad  5/29/2022    2022        Final   \n",
       "1  1312199  Ahmedabad  5/27/2022    2022  Qualifier 2   \n",
       "\n",
       "                         Team1             Team2  \\\n",
       "0             Rajasthan Royals    Gujarat Titans   \n",
       "1  Royal Challengers Bangalore  Rajasthan Royals   \n",
       "\n",
       "                              Venue        TossWinner TossDecision SuperOver  \\\n",
       "0  Narendra Modi Stadium, Ahmedabad  Rajasthan Royals          bat         N   \n",
       "1  Narendra Modi Stadium, Ahmedabad  Rajasthan Royals        field         N   \n",
       "\n",
       "        WinningTeam    WonBy  Margin  method Player_of_Match  \\\n",
       "0    Gujarat Titans  Wickets       7     NaN       HH Pandya   \n",
       "1  Rajasthan Royals  Wickets       7     NaN      JC Buttler   \n",
       "\n",
       "                                        Team1Players  \\\n",
       "0  ['YBK Jaiswal', 'JC Buttler', 'SV Samson', 'D ...   \n",
       "1  ['V Kohli', 'F du Plessis', 'RM Patidar', 'GJ ...   \n",
       "\n",
       "                                        Team2Players      Umpire1      Umpire2  \n",
       "0  ['WP Saha', 'Shubman Gill', 'MS Wade', 'HH Pan...  CB Gaffaney  Nitin Menon  \n",
       "1  ['YBK Jaiswal', 'JC Buttler', 'SV Samson', 'D ...  CB Gaffaney  Nitin Menon  "
      ]
     },
     "execution_count": 34,
     "metadata": {},
     "output_type": "execute_result"
    }
   ],
   "source": [
    "df.head(2)"
   ]
  },
  {
   "cell_type": "code",
   "execution_count": 3,
   "id": "6435450f-8c61-45c2-9839-53cc4fd5e390",
   "metadata": {},
   "outputs": [],
   "source": [
    "# extracting the record where team was batting first and win the match\n",
    "df2=df[(df[\"TossDecision\"]==\"bat\") & (df[\"WonBy\"]==\"Runs\")]"
   ]
  },
  {
   "cell_type": "code",
   "execution_count": 4,
   "id": "5fd79988-bbf7-4233-a162-16c3bc30f0fc",
   "metadata": {},
   "outputs": [
    {
     "data": {
      "text/html": [
       "<div>\n",
       "<style scoped>\n",
       "    .dataframe tbody tr th:only-of-type {\n",
       "        vertical-align: middle;\n",
       "    }\n",
       "\n",
       "    .dataframe tbody tr th {\n",
       "        vertical-align: top;\n",
       "    }\n",
       "\n",
       "    .dataframe thead th {\n",
       "        text-align: right;\n",
       "    }\n",
       "</style>\n",
       "<table border=\"1\" class=\"dataframe\">\n",
       "  <thead>\n",
       "    <tr style=\"text-align: right;\">\n",
       "      <th></th>\n",
       "      <th>ID</th>\n",
       "      <th>City</th>\n",
       "      <th>Date</th>\n",
       "      <th>Season</th>\n",
       "      <th>MatchNumber</th>\n",
       "      <th>Team1</th>\n",
       "      <th>Team2</th>\n",
       "      <th>Venue</th>\n",
       "      <th>TossWinner</th>\n",
       "      <th>TossDecision</th>\n",
       "      <th>SuperOver</th>\n",
       "      <th>WinningTeam</th>\n",
       "      <th>WonBy</th>\n",
       "      <th>Margin</th>\n",
       "      <th>method</th>\n",
       "      <th>Player_of_Match</th>\n",
       "      <th>Team1Players</th>\n",
       "      <th>Team2Players</th>\n",
       "      <th>Umpire1</th>\n",
       "      <th>Umpire2</th>\n",
       "    </tr>\n",
       "  </thead>\n",
       "  <tbody>\n",
       "    <tr>\n",
       "      <th>8</th>\n",
       "      <td>1304112</td>\n",
       "      <td>Navi Mumbai</td>\n",
       "      <td>5/18/2022</td>\n",
       "      <td>2022</td>\n",
       "      <td>66</td>\n",
       "      <td>Lucknow Super Giants</td>\n",
       "      <td>Kolkata Knight Riders</td>\n",
       "      <td>Dr DY Patil Sports Academy, Mumbai</td>\n",
       "      <td>Lucknow Super Giants</td>\n",
       "      <td>bat</td>\n",
       "      <td>N</td>\n",
       "      <td>Lucknow Super Giants</td>\n",
       "      <td>Runs</td>\n",
       "      <td>2</td>\n",
       "      <td>NaN</td>\n",
       "      <td>Q de Kock</td>\n",
       "      <td>['Q de Kock', 'KL Rahul', 'E Lewis', 'DJ Hooda...</td>\n",
       "      <td>['VR Iyer', 'A Tomar', 'N Rana', 'SS Iyer', 'S...</td>\n",
       "      <td>R Pandit</td>\n",
       "      <td>YC Barde</td>\n",
       "    </tr>\n",
       "    <tr>\n",
       "      <th>11</th>\n",
       "      <td>1304109</td>\n",
       "      <td>Mumbai</td>\n",
       "      <td>5/15/2022</td>\n",
       "      <td>2022</td>\n",
       "      <td>63</td>\n",
       "      <td>Rajasthan Royals</td>\n",
       "      <td>Lucknow Super Giants</td>\n",
       "      <td>Brabourne Stadium, Mumbai</td>\n",
       "      <td>Rajasthan Royals</td>\n",
       "      <td>bat</td>\n",
       "      <td>N</td>\n",
       "      <td>Rajasthan Royals</td>\n",
       "      <td>Runs</td>\n",
       "      <td>24</td>\n",
       "      <td>NaN</td>\n",
       "      <td>TA Boult</td>\n",
       "      <td>['YBK Jaiswal', 'JC Buttler', 'SV Samson', 'D ...</td>\n",
       "      <td>['Q de Kock', 'KL Rahul', 'A Badoni', 'DJ Hood...</td>\n",
       "      <td>PG Pathak</td>\n",
       "      <td>Tapan Sharma</td>\n",
       "    </tr>\n",
       "    <tr>\n",
       "      <th>13</th>\n",
       "      <td>1304107</td>\n",
       "      <td>Pune</td>\n",
       "      <td>5/14/2022</td>\n",
       "      <td>2022</td>\n",
       "      <td>61</td>\n",
       "      <td>Kolkata Knight Riders</td>\n",
       "      <td>Sunrisers Hyderabad</td>\n",
       "      <td>Maharashtra Cricket Association Stadium, Pune</td>\n",
       "      <td>Kolkata Knight Riders</td>\n",
       "      <td>bat</td>\n",
       "      <td>N</td>\n",
       "      <td>Kolkata Knight Riders</td>\n",
       "      <td>Runs</td>\n",
       "      <td>54</td>\n",
       "      <td>NaN</td>\n",
       "      <td>AD Russell</td>\n",
       "      <td>['VR Iyer', 'AM Rahane', 'N Rana', 'SS Iyer', ...</td>\n",
       "      <td>['Abhishek Sharma', 'KS Williamson', 'RA Tripa...</td>\n",
       "      <td>AK Chaudhary</td>\n",
       "      <td>KN Ananthapadmanabhan</td>\n",
       "    </tr>\n",
       "    <tr>\n",
       "      <th>17</th>\n",
       "      <td>1304103</td>\n",
       "      <td>Pune</td>\n",
       "      <td>5/10/2022</td>\n",
       "      <td>2022</td>\n",
       "      <td>57</td>\n",
       "      <td>Gujarat Titans</td>\n",
       "      <td>Lucknow Super Giants</td>\n",
       "      <td>Maharashtra Cricket Association Stadium, Pune</td>\n",
       "      <td>Gujarat Titans</td>\n",
       "      <td>bat</td>\n",
       "      <td>N</td>\n",
       "      <td>Gujarat Titans</td>\n",
       "      <td>Runs</td>\n",
       "      <td>62</td>\n",
       "      <td>NaN</td>\n",
       "      <td>Shubman Gill</td>\n",
       "      <td>['WP Saha', 'Shubman Gill', 'MS Wade', 'HH Pan...</td>\n",
       "      <td>['Q de Kock', 'KL Rahul', 'DJ Hooda', 'KS Shar...</td>\n",
       "      <td>KN Ananthapadmanabhan</td>\n",
       "      <td>MA Gough</td>\n",
       "    </tr>\n",
       "    <tr>\n",
       "      <th>20</th>\n",
       "      <td>1304100</td>\n",
       "      <td>Mumbai</td>\n",
       "      <td>5/8/2022</td>\n",
       "      <td>2022</td>\n",
       "      <td>54</td>\n",
       "      <td>Royal Challengers Bangalore</td>\n",
       "      <td>Sunrisers Hyderabad</td>\n",
       "      <td>Wankhede Stadium, Mumbai</td>\n",
       "      <td>Royal Challengers Bangalore</td>\n",
       "      <td>bat</td>\n",
       "      <td>N</td>\n",
       "      <td>Royal Challengers Bangalore</td>\n",
       "      <td>Runs</td>\n",
       "      <td>67</td>\n",
       "      <td>NaN</td>\n",
       "      <td>PWH de Silva</td>\n",
       "      <td>['V Kohli', 'F du Plessis', 'RM Patidar', 'GJ ...</td>\n",
       "      <td>['Abhishek Sharma', 'KS Williamson', 'RA Tripa...</td>\n",
       "      <td>BNJ Oxenford</td>\n",
       "      <td>N Pandit</td>\n",
       "    </tr>\n",
       "    <tr>\n",
       "      <th>29</th>\n",
       "      <td>1304091</td>\n",
       "      <td>Mumbai</td>\n",
       "      <td>5/1/2022</td>\n",
       "      <td>2022</td>\n",
       "      <td>45</td>\n",
       "      <td>Lucknow Super Giants</td>\n",
       "      <td>Delhi Capitals</td>\n",
       "      <td>Wankhede Stadium, Mumbai</td>\n",
       "      <td>Lucknow Super Giants</td>\n",
       "      <td>bat</td>\n",
       "      <td>N</td>\n",
       "      <td>Lucknow Super Giants</td>\n",
       "      <td>Runs</td>\n",
       "      <td>6</td>\n",
       "      <td>NaN</td>\n",
       "      <td>Mohsin Khan</td>\n",
       "      <td>['Q de Kock', 'KL Rahul', 'DJ Hooda', 'MP Stoi...</td>\n",
       "      <td>['PP Shaw', 'DA Warner', 'MR Marsh', 'RR Pant'...</td>\n",
       "      <td>Chirra Ravikanthreddy</td>\n",
       "      <td>CB Gaffaney</td>\n",
       "    </tr>\n",
       "    <tr>\n",
       "      <th>39</th>\n",
       "      <td>1304081</td>\n",
       "      <td>Navi Mumbai</td>\n",
       "      <td>4/23/2022</td>\n",
       "      <td>2022</td>\n",
       "      <td>35</td>\n",
       "      <td>Gujarat Titans</td>\n",
       "      <td>Kolkata Knight Riders</td>\n",
       "      <td>Dr DY Patil Sports Academy, Mumbai</td>\n",
       "      <td>Gujarat Titans</td>\n",
       "      <td>bat</td>\n",
       "      <td>N</td>\n",
       "      <td>Gujarat Titans</td>\n",
       "      <td>Runs</td>\n",
       "      <td>8</td>\n",
       "      <td>NaN</td>\n",
       "      <td>Rashid Khan</td>\n",
       "      <td>['WP Saha', 'Shubman Gill', 'HH Pandya', 'DA M...</td>\n",
       "      <td>['SW Billings', 'SP Narine', 'SS Iyer', 'N Ran...</td>\n",
       "      <td>KN Ananthapadmanabhan</td>\n",
       "      <td>UV Gandhe</td>\n",
       "    </tr>\n",
       "  </tbody>\n",
       "</table>\n",
       "</div>"
      ],
      "text/plain": [
       "         ID         City       Date  Season MatchNumber  \\\n",
       "8   1304112  Navi Mumbai  5/18/2022    2022          66   \n",
       "11  1304109       Mumbai  5/15/2022    2022          63   \n",
       "13  1304107         Pune  5/14/2022    2022          61   \n",
       "17  1304103         Pune  5/10/2022    2022          57   \n",
       "20  1304100       Mumbai   5/8/2022    2022          54   \n",
       "29  1304091       Mumbai   5/1/2022    2022          45   \n",
       "39  1304081  Navi Mumbai  4/23/2022    2022          35   \n",
       "\n",
       "                          Team1                  Team2  \\\n",
       "8          Lucknow Super Giants  Kolkata Knight Riders   \n",
       "11             Rajasthan Royals   Lucknow Super Giants   \n",
       "13        Kolkata Knight Riders    Sunrisers Hyderabad   \n",
       "17               Gujarat Titans   Lucknow Super Giants   \n",
       "20  Royal Challengers Bangalore    Sunrisers Hyderabad   \n",
       "29         Lucknow Super Giants         Delhi Capitals   \n",
       "39               Gujarat Titans  Kolkata Knight Riders   \n",
       "\n",
       "                                            Venue  \\\n",
       "8              Dr DY Patil Sports Academy, Mumbai   \n",
       "11                      Brabourne Stadium, Mumbai   \n",
       "13  Maharashtra Cricket Association Stadium, Pune   \n",
       "17  Maharashtra Cricket Association Stadium, Pune   \n",
       "20                       Wankhede Stadium, Mumbai   \n",
       "29                       Wankhede Stadium, Mumbai   \n",
       "39             Dr DY Patil Sports Academy, Mumbai   \n",
       "\n",
       "                     TossWinner TossDecision SuperOver  \\\n",
       "8          Lucknow Super Giants          bat         N   \n",
       "11             Rajasthan Royals          bat         N   \n",
       "13        Kolkata Knight Riders          bat         N   \n",
       "17               Gujarat Titans          bat         N   \n",
       "20  Royal Challengers Bangalore          bat         N   \n",
       "29         Lucknow Super Giants          bat         N   \n",
       "39               Gujarat Titans          bat         N   \n",
       "\n",
       "                    WinningTeam WonBy  Margin  method Player_of_Match  \\\n",
       "8          Lucknow Super Giants  Runs       2     NaN       Q de Kock   \n",
       "11             Rajasthan Royals  Runs      24     NaN        TA Boult   \n",
       "13        Kolkata Knight Riders  Runs      54     NaN      AD Russell   \n",
       "17               Gujarat Titans  Runs      62     NaN    Shubman Gill   \n",
       "20  Royal Challengers Bangalore  Runs      67     NaN    PWH de Silva   \n",
       "29         Lucknow Super Giants  Runs       6     NaN     Mohsin Khan   \n",
       "39               Gujarat Titans  Runs       8     NaN     Rashid Khan   \n",
       "\n",
       "                                         Team1Players  \\\n",
       "8   ['Q de Kock', 'KL Rahul', 'E Lewis', 'DJ Hooda...   \n",
       "11  ['YBK Jaiswal', 'JC Buttler', 'SV Samson', 'D ...   \n",
       "13  ['VR Iyer', 'AM Rahane', 'N Rana', 'SS Iyer', ...   \n",
       "17  ['WP Saha', 'Shubman Gill', 'MS Wade', 'HH Pan...   \n",
       "20  ['V Kohli', 'F du Plessis', 'RM Patidar', 'GJ ...   \n",
       "29  ['Q de Kock', 'KL Rahul', 'DJ Hooda', 'MP Stoi...   \n",
       "39  ['WP Saha', 'Shubman Gill', 'HH Pandya', 'DA M...   \n",
       "\n",
       "                                         Team2Players                Umpire1  \\\n",
       "8   ['VR Iyer', 'A Tomar', 'N Rana', 'SS Iyer', 'S...               R Pandit   \n",
       "11  ['Q de Kock', 'KL Rahul', 'A Badoni', 'DJ Hood...              PG Pathak   \n",
       "13  ['Abhishek Sharma', 'KS Williamson', 'RA Tripa...           AK Chaudhary   \n",
       "17  ['Q de Kock', 'KL Rahul', 'DJ Hooda', 'KS Shar...  KN Ananthapadmanabhan   \n",
       "20  ['Abhishek Sharma', 'KS Williamson', 'RA Tripa...           BNJ Oxenford   \n",
       "29  ['PP Shaw', 'DA Warner', 'MR Marsh', 'RR Pant'...  Chirra Ravikanthreddy   \n",
       "39  ['SW Billings', 'SP Narine', 'SS Iyer', 'N Ran...  KN Ananthapadmanabhan   \n",
       "\n",
       "                  Umpire2  \n",
       "8                YC Barde  \n",
       "11           Tapan Sharma  \n",
       "13  KN Ananthapadmanabhan  \n",
       "17               MA Gough  \n",
       "20               N Pandit  \n",
       "29            CB Gaffaney  \n",
       "39              UV Gandhe  "
      ]
     },
     "execution_count": 4,
     "metadata": {},
     "output_type": "execute_result"
    }
   ],
   "source": [
    "df2"
   ]
  },
  {
   "cell_type": "code",
   "execution_count": 5,
   "id": "164c8628-e020-4336-a8f7-e4ac6ecca4f1",
   "metadata": {},
   "outputs": [
    {
     "data": {
      "text/plain": [
       "7"
      ]
     },
     "execution_count": 5,
     "metadata": {},
     "output_type": "execute_result"
    }
   ],
   "source": [
    "# How many times it will happened that bat first team win match\n",
    "# df[(df[\"TossDecision\"]==\"bat\") & (df[\"WonBy\"]==\"Runs\")].shape[0]\n",
    "df2.shape[0]"
   ]
  },
  {
   "cell_type": "code",
   "execution_count": 77,
   "id": "8719a279-d2c7-4932-b120-b0f4c485c817",
   "metadata": {},
   "outputs": [
    {
     "data": {
      "text/plain": [
       "7"
      ]
     },
     "execution_count": 77,
     "metadata": {},
     "output_type": "execute_result"
    }
   ],
   "source": [
    "# another way\n",
    "((df[\"TossDecision\"]==\"bat\") & (df[\"WonBy\"]==\"Runs\")).sum()"
   ]
  },
  {
   "cell_type": "code",
   "execution_count": 84,
   "id": "05ae4079-bbfb-4883-8e26-d8b81a015079",
   "metadata": {},
   "outputs": [
    {
     "data": {
      "text/html": [
       "<div>\n",
       "<style scoped>\n",
       "    .dataframe tbody tr th:only-of-type {\n",
       "        vertical-align: middle;\n",
       "    }\n",
       "\n",
       "    .dataframe tbody tr th {\n",
       "        vertical-align: top;\n",
       "    }\n",
       "\n",
       "    .dataframe thead th {\n",
       "        text-align: right;\n",
       "    }\n",
       "</style>\n",
       "<table border=\"1\" class=\"dataframe\">\n",
       "  <thead>\n",
       "    <tr style=\"text-align: right;\">\n",
       "      <th></th>\n",
       "      <th>ID</th>\n",
       "      <th>City</th>\n",
       "      <th>Date</th>\n",
       "      <th>Season</th>\n",
       "      <th>MatchNumber</th>\n",
       "      <th>Team1</th>\n",
       "      <th>Team2</th>\n",
       "      <th>Venue</th>\n",
       "      <th>TossWinner</th>\n",
       "      <th>TossDecision</th>\n",
       "      <th>SuperOver</th>\n",
       "      <th>WinningTeam</th>\n",
       "      <th>WonBy</th>\n",
       "      <th>Margin</th>\n",
       "      <th>method</th>\n",
       "      <th>Player_of_Match</th>\n",
       "      <th>Team1Players</th>\n",
       "      <th>Team2Players</th>\n",
       "      <th>Umpire1</th>\n",
       "      <th>Umpire2</th>\n",
       "    </tr>\n",
       "  </thead>\n",
       "  <tbody>\n",
       "    <tr>\n",
       "      <th>8</th>\n",
       "      <td>1304112</td>\n",
       "      <td>Navi Mumbai</td>\n",
       "      <td>5/18/2022</td>\n",
       "      <td>2022</td>\n",
       "      <td>66</td>\n",
       "      <td>Lucknow Super Giants</td>\n",
       "      <td>Kolkata Knight Riders</td>\n",
       "      <td>Dr DY Patil Sports Academy, Mumbai</td>\n",
       "      <td>Lucknow Super Giants</td>\n",
       "      <td>bat</td>\n",
       "      <td>N</td>\n",
       "      <td>Lucknow Super Giants</td>\n",
       "      <td>Runs</td>\n",
       "      <td>2</td>\n",
       "      <td>NaN</td>\n",
       "      <td>Q de Kock</td>\n",
       "      <td>['Q de Kock', 'KL Rahul', 'E Lewis', 'DJ Hooda...</td>\n",
       "      <td>['VR Iyer', 'A Tomar', 'N Rana', 'SS Iyer', 'S...</td>\n",
       "      <td>R Pandit</td>\n",
       "      <td>YC Barde</td>\n",
       "    </tr>\n",
       "    <tr>\n",
       "      <th>29</th>\n",
       "      <td>1304091</td>\n",
       "      <td>Mumbai</td>\n",
       "      <td>5/1/2022</td>\n",
       "      <td>2022</td>\n",
       "      <td>45</td>\n",
       "      <td>Lucknow Super Giants</td>\n",
       "      <td>Delhi Capitals</td>\n",
       "      <td>Wankhede Stadium, Mumbai</td>\n",
       "      <td>Lucknow Super Giants</td>\n",
       "      <td>bat</td>\n",
       "      <td>N</td>\n",
       "      <td>Lucknow Super Giants</td>\n",
       "      <td>Runs</td>\n",
       "      <td>6</td>\n",
       "      <td>NaN</td>\n",
       "      <td>Mohsin Khan</td>\n",
       "      <td>['Q de Kock', 'KL Rahul', 'DJ Hooda', 'MP Stoi...</td>\n",
       "      <td>['PP Shaw', 'DA Warner', 'MR Marsh', 'RR Pant'...</td>\n",
       "      <td>Chirra Ravikanthreddy</td>\n",
       "      <td>CB Gaffaney</td>\n",
       "    </tr>\n",
       "  </tbody>\n",
       "</table>\n",
       "</div>"
      ],
      "text/plain": [
       "         ID         City       Date  Season MatchNumber                 Team1  \\\n",
       "8   1304112  Navi Mumbai  5/18/2022    2022          66  Lucknow Super Giants   \n",
       "29  1304091       Mumbai   5/1/2022    2022          45  Lucknow Super Giants   \n",
       "\n",
       "                    Team2                               Venue  \\\n",
       "8   Kolkata Knight Riders  Dr DY Patil Sports Academy, Mumbai   \n",
       "29         Delhi Capitals            Wankhede Stadium, Mumbai   \n",
       "\n",
       "              TossWinner TossDecision SuperOver           WinningTeam WonBy  \\\n",
       "8   Lucknow Super Giants          bat         N  Lucknow Super Giants  Runs   \n",
       "29  Lucknow Super Giants          bat         N  Lucknow Super Giants  Runs   \n",
       "\n",
       "    Margin  method Player_of_Match  \\\n",
       "8        2     NaN       Q de Kock   \n",
       "29       6     NaN     Mohsin Khan   \n",
       "\n",
       "                                         Team1Players  \\\n",
       "8   ['Q de Kock', 'KL Rahul', 'E Lewis', 'DJ Hooda...   \n",
       "29  ['Q de Kock', 'KL Rahul', 'DJ Hooda', 'MP Stoi...   \n",
       "\n",
       "                                         Team2Players                Umpire1  \\\n",
       "8   ['VR Iyer', 'A Tomar', 'N Rana', 'SS Iyer', 'S...               R Pandit   \n",
       "29  ['PP Shaw', 'DA Warner', 'MR Marsh', 'RR Pant'...  Chirra Ravikanthreddy   \n",
       "\n",
       "        Umpire2  \n",
       "8      YC Barde  \n",
       "29  CB Gaffaney  "
      ]
     },
     "execution_count": 84,
     "metadata": {},
     "output_type": "execute_result"
    }
   ],
   "source": [
    "# out of the seven how many times lucknow super giants win the match\n",
    "df2[df2[\"Team1\"]==\"Lucknow Super Giants\"]"
   ]
  },
  {
   "cell_type": "code",
   "execution_count": 87,
   "id": "679803ba-38f7-496f-a736-9fc69779dd7f",
   "metadata": {},
   "outputs": [
    {
     "data": {
      "text/plain": [
       "2"
      ]
     },
     "execution_count": 87,
     "metadata": {},
     "output_type": "execute_result"
    }
   ],
   "source": [
    "df2[df2[\"Team1\"]==\"Lucknow Super Giants\"].shape[0]"
   ]
  },
  {
   "cell_type": "code",
   "execution_count": 6,
   "id": "a3810a0c-21cb-435b-8cb8-0de1629c10d5",
   "metadata": {},
   "outputs": [
    {
     "data": {
      "text/plain": [
       "8      2\n",
       "11    24\n",
       "13    54\n",
       "17    62\n",
       "20    67\n",
       "29     6\n",
       "39     8\n",
       "Name: Margin, dtype: int64"
      ]
     },
     "execution_count": 6,
     "metadata": {},
     "output_type": "execute_result"
    }
   ],
   "source": [
    "df2[\"Margin\"] # from how much run win the match"
   ]
  },
  {
   "cell_type": "code",
   "execution_count": 7,
   "id": "eba2543c-876e-413a-87c4-ee005a0736ed",
   "metadata": {},
   "outputs": [
    {
     "data": {
      "image/png": "[encoded data removed]",
      "text/plain": [
       "<Figure size 640x480 with 1 Axes>"
      ]
     },
     "metadata": {},
     "output_type": "display_data"
    }
   ],
   "source": [
    "# plot histogram\n",
    "#If we want to visualized the numerical column then we will use histogram\n",
    "\n",
    "plt.hist(df2[\"Margin\"])\n",
    "plt.xlabel(\"Runs\")\n",
    "plt.ylabel(\"No. of times win the match\")\n",
    "plt.title(\"Distribution of runs\")\n",
    "plt.show()"
   ]
  },
  {
   "cell_type": "markdown",
   "id": "0d718d54-6e2c-4b36-af07-adb3992c2ac9",
   "metadata": {},
   "source": [
    "### Insight"
   ]
  },
  {
   "cell_type": "markdown",
   "id": "70ac792b-9347-40bc-8a3f-9fbfe8b119ce",
   "metadata": {},
   "source": [
    "##### 1.There are 3 matches wherein team bat first and win the match by 0-10 Runs\n",
    "##### 2.There are 1 matche wherein team bat first and win the match by 20-30 Runs\n",
    "##### 3.There are 1 matches wherein team bat first and win the match by 53-60 Runs\n",
    "##### 4.There are 2 matches wherein team bat first and win the match by 60-70 Runs"
   ]
  },
  {
   "cell_type": "code",
   "execution_count": 101,
   "id": "53acc816-8e5d-4d7d-b727-2be7b3c2eac7",
   "metadata": {},
   "outputs": [
    {
     "data": {
      "text/html": [
       "<div>\n",
       "<style scoped>\n",
       "    .dataframe tbody tr th:only-of-type {\n",
       "        vertical-align: middle;\n",
       "    }\n",
       "\n",
       "    .dataframe tbody tr th {\n",
       "        vertical-align: top;\n",
       "    }\n",
       "\n",
       "    .dataframe thead th {\n",
       "        text-align: right;\n",
       "    }\n",
       "</style>\n",
       "<table border=\"1\" class=\"dataframe\">\n",
       "  <thead>\n",
       "    <tr style=\"text-align: right;\">\n",
       "      <th></th>\n",
       "      <th>ID</th>\n",
       "      <th>City</th>\n",
       "      <th>Date</th>\n",
       "      <th>Season</th>\n",
       "      <th>MatchNumber</th>\n",
       "      <th>Team1</th>\n",
       "      <th>Team2</th>\n",
       "      <th>Venue</th>\n",
       "      <th>TossWinner</th>\n",
       "      <th>TossDecision</th>\n",
       "      <th>SuperOver</th>\n",
       "      <th>WinningTeam</th>\n",
       "      <th>WonBy</th>\n",
       "      <th>Margin</th>\n",
       "      <th>method</th>\n",
       "      <th>Player_of_Match</th>\n",
       "      <th>Team1Players</th>\n",
       "      <th>Team2Players</th>\n",
       "      <th>Umpire1</th>\n",
       "      <th>Umpire2</th>\n",
       "    </tr>\n",
       "  </thead>\n",
       "  <tbody>\n",
       "    <tr>\n",
       "      <th>8</th>\n",
       "      <td>1304112</td>\n",
       "      <td>Navi Mumbai</td>\n",
       "      <td>5/18/2022</td>\n",
       "      <td>2022</td>\n",
       "      <td>66</td>\n",
       "      <td>Lucknow Super Giants</td>\n",
       "      <td>Kolkata Knight Riders</td>\n",
       "      <td>Dr DY Patil Sports Academy, Mumbai</td>\n",
       "      <td>Lucknow Super Giants</td>\n",
       "      <td>bat</td>\n",
       "      <td>N</td>\n",
       "      <td>Lucknow Super Giants</td>\n",
       "      <td>Runs</td>\n",
       "      <td>2</td>\n",
       "      <td>NaN</td>\n",
       "      <td>Q de Kock</td>\n",
       "      <td>['Q de Kock', 'KL Rahul', 'E Lewis', 'DJ Hooda...</td>\n",
       "      <td>['VR Iyer', 'A Tomar', 'N Rana', 'SS Iyer', 'S...</td>\n",
       "      <td>R Pandit</td>\n",
       "      <td>YC Barde</td>\n",
       "    </tr>\n",
       "    <tr>\n",
       "      <th>11</th>\n",
       "      <td>1304109</td>\n",
       "      <td>Mumbai</td>\n",
       "      <td>5/15/2022</td>\n",
       "      <td>2022</td>\n",
       "      <td>63</td>\n",
       "      <td>Rajasthan Royals</td>\n",
       "      <td>Lucknow Super Giants</td>\n",
       "      <td>Brabourne Stadium, Mumbai</td>\n",
       "      <td>Rajasthan Royals</td>\n",
       "      <td>bat</td>\n",
       "      <td>N</td>\n",
       "      <td>Rajasthan Royals</td>\n",
       "      <td>Runs</td>\n",
       "      <td>24</td>\n",
       "      <td>NaN</td>\n",
       "      <td>TA Boult</td>\n",
       "      <td>['YBK Jaiswal', 'JC Buttler', 'SV Samson', 'D ...</td>\n",
       "      <td>['Q de Kock', 'KL Rahul', 'A Badoni', 'DJ Hood...</td>\n",
       "      <td>PG Pathak</td>\n",
       "      <td>Tapan Sharma</td>\n",
       "    </tr>\n",
       "  </tbody>\n",
       "</table>\n",
       "</div>"
      ],
      "text/plain": [
       "         ID         City       Date  Season MatchNumber                 Team1  \\\n",
       "8   1304112  Navi Mumbai  5/18/2022    2022          66  Lucknow Super Giants   \n",
       "11  1304109       Mumbai  5/15/2022    2022          63      Rajasthan Royals   \n",
       "\n",
       "                    Team2                               Venue  \\\n",
       "8   Kolkata Knight Riders  Dr DY Patil Sports Academy, Mumbai   \n",
       "11   Lucknow Super Giants           Brabourne Stadium, Mumbai   \n",
       "\n",
       "              TossWinner TossDecision SuperOver           WinningTeam WonBy  \\\n",
       "8   Lucknow Super Giants          bat         N  Lucknow Super Giants  Runs   \n",
       "11      Rajasthan Royals          bat         N      Rajasthan Royals  Runs   \n",
       "\n",
       "    Margin  method Player_of_Match  \\\n",
       "8        2     NaN       Q de Kock   \n",
       "11      24     NaN        TA Boult   \n",
       "\n",
       "                                         Team1Players  \\\n",
       "8   ['Q de Kock', 'KL Rahul', 'E Lewis', 'DJ Hooda...   \n",
       "11  ['YBK Jaiswal', 'JC Buttler', 'SV Samson', 'D ...   \n",
       "\n",
       "                                         Team2Players    Umpire1       Umpire2  \n",
       "8   ['VR Iyer', 'A Tomar', 'N Rana', 'SS Iyer', 'S...   R Pandit      YC Barde  \n",
       "11  ['Q de Kock', 'KL Rahul', 'A Badoni', 'DJ Hood...  PG Pathak  Tapan Sharma  "
      ]
     },
     "execution_count": 101,
     "metadata": {},
     "output_type": "execute_result"
    }
   ],
   "source": [
    "df2.head(2)"
   ]
  },
  {
   "cell_type": "code",
   "execution_count": 102,
   "id": "9d6323c5-bfda-45f1-9dc5-0915e114574e",
   "metadata": {},
   "outputs": [
    {
     "data": {
      "text/plain": [
       "8            Lucknow Super Giants\n",
       "11               Rajasthan Royals\n",
       "13          Kolkata Knight Riders\n",
       "17                 Gujarat Titans\n",
       "20    Royal Challengers Bangalore\n",
       "29           Lucknow Super Giants\n",
       "39                 Gujarat Titans\n",
       "Name: WinningTeam, dtype: object"
      ]
     },
     "execution_count": 102,
     "metadata": {},
     "output_type": "execute_result"
    }
   ],
   "source": [
    "# Now we have to find out the team list who bat first and win the match\n",
    "df2[\"WinningTeam\"]"
   ]
  },
  {
   "cell_type": "code",
   "execution_count": 8,
   "id": "3a915952-dda1-41b6-8394-c3f7f1ff0835",
   "metadata": {},
   "outputs": [],
   "source": [
    "# how many times the particular team win the match\n",
    "df3=df2[\"WinningTeam\"].value_counts()"
   ]
  },
  {
   "cell_type": "code",
   "execution_count": 9,
   "id": "30b2fea8-a401-4b21-b3d3-c02a776dd674",
   "metadata": {},
   "outputs": [
    {
     "data": {
      "text/plain": [
       "Lucknow Super Giants           2\n",
       "Gujarat Titans                 2\n",
       "Rajasthan Royals               1\n",
       "Kolkata Knight Riders          1\n",
       "Royal Challengers Bangalore    1\n",
       "Name: WinningTeam, dtype: int64"
      ]
     },
     "execution_count": 9,
     "metadata": {},
     "output_type": "execute_result"
    }
   ],
   "source": [
    "df3"
   ]
  },
  {
   "cell_type": "code",
   "execution_count": 10,
   "id": "152b4ab9-029a-44d0-aee8-96e317f41b3a",
   "metadata": {},
   "outputs": [
    {
     "data": {
      "image/png": "[encoded data removed]",
      "text/plain": [
       "<Figure size 1200x700 with 1 Axes>"
      ]
     },
     "metadata": {},
     "output_type": "display_data"
    }
   ],
   "source": [
    "# Now we will plot bar chart becuase one is catagorical and and one is numerical variable\n",
    "plt.figure(figsize=(12,7))\n",
    "plt.bar(df3.keys(),df3,color=['black', 'red', 'green', 'blue', 'cyan'])\n",
    "plt.show()"
   ]
  },
  {
   "cell_type": "markdown",
   "id": "30989e92-53dc-4456-a120-55489afc2af2",
   "metadata": {},
   "source": [
    "### Insight"
   ]
  },
  {
   "cell_type": "markdown",
   "id": "183f335d-8b6d-4034-a6b5-3cd10d788955",
   "metadata": {},
   "source": [
    "#### Lucknow and gujrat win 2 times when he bat first\n",
    "#### Rajasthan,Kolkata and RCB win 1 times when he bat first."
   ]
  },
  {
   "cell_type": "code",
   "execution_count": 17,
   "id": "972b92dc-456d-4cfb-9761-3af0408bf595",
   "metadata": {},
   "outputs": [
    {
     "data": {
      "text/plain": [
       "[2, 2, 1, 1, 1]"
      ]
     },
     "execution_count": 17,
     "metadata": {},
     "output_type": "execute_result"
    }
   ],
   "source": [
    "list(df3)"
   ]
  },
  {
   "cell_type": "code",
   "execution_count": 18,
   "id": "ec07baba-8582-457c-b55d-5c23152fc289",
   "metadata": {},
   "outputs": [
    {
     "data": {
      "text/plain": [
       "['Lucknow Super Giants',\n",
       " 'Gujarat Titans',\n",
       " 'Rajasthan Royals',\n",
       " 'Kolkata Knight Riders',\n",
       " 'Royal Challengers Bangalore']"
      ]
     },
     "execution_count": 18,
     "metadata": {},
     "output_type": "execute_result"
    }
   ],
   "source": [
    "list(df3.keys())"
   ]
  },
  {
   "cell_type": "code",
   "execution_count": 26,
   "id": "3c4ca63c-e5cb-45c9-a10e-6cd71c1a0e16",
   "metadata": {},
   "outputs": [
    {
     "data": {
      "image/png": "[encoded data removed]",
      "text/plain": [
       "<Figure size 640x480 with 1 Axes>"
      ]
     },
     "metadata": {},
     "output_type": "display_data"
    }
   ],
   "source": [
    "# In pie chart first parameter numerical and 2nd parameter is categorical\n",
    "plt.pie(df3,labels=df3.keys(),autopct=\"%0.1f%%\")\n",
    "plt.show()"
   ]
  },
  {
   "cell_type": "markdown",
   "id": "57ee624c-5e42-4d58-ac63-e450e098ee83",
   "metadata": {},
   "source": [
    "### Insight"
   ]
  },
  {
   "cell_type": "markdown",
   "id": "6258937d-863d-4c33-a572-99b07a322947",
   "metadata": {},
   "source": [
    "1. Lucknow and Gujrat have winning percentage 28.6 % when bat first.\n",
    "2. Rajsthan, Kolkatta and RCB have winning percentage 14.3 % when bat first."
   ]
  },
  {
   "cell_type": "code",
   "execution_count": null,
   "id": "003a3b5d-bd19-4bdc-9000-b07914da1e3f",
   "metadata": {},
   "outputs": [],
   "source": [
    "# Now extracting the record where team has won the match after 2nd innings"
   ]
  },
  {
   "cell_type": "code",
   "execution_count": 28,
   "id": "1d5a6f2d-46de-497f-bc44-bf14825ad42f",
   "metadata": {},
   "outputs": [
    {
     "data": {
      "text/html": [
       "<div>\n",
       "<style scoped>\n",
       "    .dataframe tbody tr th:only-of-type {\n",
       "        vertical-align: middle;\n",
       "    }\n",
       "\n",
       "    .dataframe tbody tr th {\n",
       "        vertical-align: top;\n",
       "    }\n",
       "\n",
       "    .dataframe thead th {\n",
       "        text-align: right;\n",
       "    }\n",
       "</style>\n",
       "<table border=\"1\" class=\"dataframe\">\n",
       "  <thead>\n",
       "    <tr style=\"text-align: right;\">\n",
       "      <th></th>\n",
       "      <th>ID</th>\n",
       "      <th>City</th>\n",
       "      <th>Date</th>\n",
       "      <th>Season</th>\n",
       "      <th>MatchNumber</th>\n",
       "      <th>Team1</th>\n",
       "      <th>Team2</th>\n",
       "      <th>Venue</th>\n",
       "      <th>TossWinner</th>\n",
       "      <th>TossDecision</th>\n",
       "      <th>SuperOver</th>\n",
       "      <th>WinningTeam</th>\n",
       "      <th>WonBy</th>\n",
       "      <th>Margin</th>\n",
       "      <th>method</th>\n",
       "      <th>Player_of_Match</th>\n",
       "      <th>Team1Players</th>\n",
       "      <th>Team2Players</th>\n",
       "      <th>Umpire1</th>\n",
       "      <th>Umpire2</th>\n",
       "    </tr>\n",
       "  </thead>\n",
       "  <tbody>\n",
       "    <tr>\n",
       "      <th>0</th>\n",
       "      <td>1312200</td>\n",
       "      <td>Ahmedabad</td>\n",
       "      <td>5/29/2022</td>\n",
       "      <td>2022</td>\n",
       "      <td>Final</td>\n",
       "      <td>Rajasthan Royals</td>\n",
       "      <td>Gujarat Titans</td>\n",
       "      <td>Narendra Modi Stadium, Ahmedabad</td>\n",
       "      <td>Rajasthan Royals</td>\n",
       "      <td>bat</td>\n",
       "      <td>N</td>\n",
       "      <td>Gujarat Titans</td>\n",
       "      <td>Wickets</td>\n",
       "      <td>7</td>\n",
       "      <td>NaN</td>\n",
       "      <td>HH Pandya</td>\n",
       "      <td>['YBK Jaiswal', 'JC Buttler', 'SV Samson', 'D ...</td>\n",
       "      <td>['WP Saha', 'Shubman Gill', 'MS Wade', 'HH Pan...</td>\n",
       "      <td>CB Gaffaney</td>\n",
       "      <td>Nitin Menon</td>\n",
       "    </tr>\n",
       "    <tr>\n",
       "      <th>1</th>\n",
       "      <td>1312199</td>\n",
       "      <td>Ahmedabad</td>\n",
       "      <td>5/27/2022</td>\n",
       "      <td>2022</td>\n",
       "      <td>Qualifier 2</td>\n",
       "      <td>Royal Challengers Bangalore</td>\n",
       "      <td>Rajasthan Royals</td>\n",
       "      <td>Narendra Modi Stadium, Ahmedabad</td>\n",
       "      <td>Rajasthan Royals</td>\n",
       "      <td>field</td>\n",
       "      <td>N</td>\n",
       "      <td>Rajasthan Royals</td>\n",
       "      <td>Wickets</td>\n",
       "      <td>7</td>\n",
       "      <td>NaN</td>\n",
       "      <td>JC Buttler</td>\n",
       "      <td>['V Kohli', 'F du Plessis', 'RM Patidar', 'GJ ...</td>\n",
       "      <td>['YBK Jaiswal', 'JC Buttler', 'SV Samson', 'D ...</td>\n",
       "      <td>CB Gaffaney</td>\n",
       "      <td>Nitin Menon</td>\n",
       "    </tr>\n",
       "  </tbody>\n",
       "</table>\n",
       "</div>"
      ],
      "text/plain": [
       "        ID       City       Date  Season  MatchNumber  \\\n",
       "0  1312200  Ahmedabad  5/29/2022    2022        Final   \n",
       "1  1312199  Ahmedabad  5/27/2022    2022  Qualifier 2   \n",
       "\n",
       "                         Team1             Team2  \\\n",
       "0             Rajasthan Royals    Gujarat Titans   \n",
       "1  Royal Challengers Bangalore  Rajasthan Royals   \n",
       "\n",
       "                              Venue        TossWinner TossDecision SuperOver  \\\n",
       "0  Narendra Modi Stadium, Ahmedabad  Rajasthan Royals          bat         N   \n",
       "1  Narendra Modi Stadium, Ahmedabad  Rajasthan Royals        field         N   \n",
       "\n",
       "        WinningTeam    WonBy  Margin  method Player_of_Match  \\\n",
       "0    Gujarat Titans  Wickets       7     NaN       HH Pandya   \n",
       "1  Rajasthan Royals  Wickets       7     NaN      JC Buttler   \n",
       "\n",
       "                                        Team1Players  \\\n",
       "0  ['YBK Jaiswal', 'JC Buttler', 'SV Samson', 'D ...   \n",
       "1  ['V Kohli', 'F du Plessis', 'RM Patidar', 'GJ ...   \n",
       "\n",
       "                                        Team2Players      Umpire1      Umpire2  \n",
       "0  ['WP Saha', 'Shubman Gill', 'MS Wade', 'HH Pan...  CB Gaffaney  Nitin Menon  \n",
       "1  ['YBK Jaiswal', 'JC Buttler', 'SV Samson', 'D ...  CB Gaffaney  Nitin Menon  "
      ]
     },
     "execution_count": 28,
     "metadata": {},
     "output_type": "execute_result"
    }
   ],
   "source": [
    "df.head(2)"
   ]
  },
  {
   "cell_type": "code",
   "execution_count": 32,
   "id": "2e650736-8301-4752-b6a5-9a5f099f90ba",
   "metadata": {},
   "outputs": [],
   "source": [
    "df4=df[(df[\"TossDecision\"]==\"field\") & (df[\"WonBy\"]==\"Wickets\")]"
   ]
  },
  {
   "cell_type": "code",
   "execution_count": 36,
   "id": "0a798f27-4ffc-4f19-b5d9-2150881f02af",
   "metadata": {},
   "outputs": [
    {
     "data": {
      "text/plain": [
       "29"
      ]
     },
     "execution_count": 36,
     "metadata": {},
     "output_type": "execute_result"
    }
   ],
   "source": [
    "df4.shape[0]"
   ]
  },
  {
   "cell_type": "markdown",
   "id": "ba1957fc-f7b6-4cba-95fe-af6bf8979fd6",
   "metadata": {},
   "source": [
    "#### Insights\n",
    "\n",
    "29 times the team has won the match in second inning bating."
   ]
  },
  {
   "cell_type": "code",
   "execution_count": 43,
   "id": "2b995615-2c78-49d9-8bb9-08be9b44dafb",
   "metadata": {},
   "outputs": [
    {
     "data": {
      "text/plain": [
       "1     7\n",
       "3     7\n",
       "5     5\n",
       "15    5\n",
       "16    8\n",
       "27    7\n",
       "30    5\n",
       "33    4\n",
       "34    5\n",
       "38    9\n",
       "41    3\n",
       "42    9\n",
       "45    3\n",
       "46    7\n",
       "49    7\n",
       "53    8\n",
       "56    7\n",
       "57    8\n",
       "58    6\n",
       "59    6\n",
       "60    5\n",
       "61    4\n",
       "66    6\n",
       "67    6\n",
       "68    3\n",
       "70    5\n",
       "71    5\n",
       "72    4\n",
       "73    6\n",
       "Name: Margin, dtype: int64"
      ]
     },
     "execution_count": 43,
     "metadata": {},
     "output_type": "execute_result"
    }
   ],
   "source": [
    "df4[\"Margin\"]"
   ]
  },
  {
   "cell_type": "code",
   "execution_count": 46,
   "id": "fa3bd5ab-1903-4a2d-96f0-a3c39144a08a",
   "metadata": {},
   "outputs": [
    {
     "data": {
      "text/plain": [
       "5    7\n",
       "7    6\n",
       "6    5\n",
       "8    3\n",
       "4    3\n",
       "3    3\n",
       "9    2\n",
       "Name: Margin, dtype: int64"
      ]
     },
     "execution_count": 46,
     "metadata": {},
     "output_type": "execute_result"
    }
   ],
   "source": [
    "df4[\"Margin\"].value_counts()"
   ]
  },
  {
   "cell_type": "code",
   "execution_count": 45,
   "id": "0226b7c7-f52c-4572-8bd2-ee48f13172b4",
   "metadata": {},
   "outputs": [
    {
     "data": {
      "image/png": "[encoded data removed]",
      "text/plain": [
       "<Figure size 640x480 with 1 Axes>"
      ]
     },
     "metadata": {},
     "output_type": "display_data"
    }
   ],
   "source": [
    "plt.hist(df4[\"Margin\"])\n",
    "plt.xlabel(\"Wicket distribution\")\n",
    "plt.ylabel(\"No. of time win the match by wicket\")\n",
    "plt.show()"
   ]
  },
  {
   "cell_type": "markdown",
   "id": "5fe71ed2-953b-4ebe-9748-3e8b0ef70d94",
   "metadata": {},
   "source": [
    "### Insight\n",
    "\n",
    "1. The team who bat second inning are win the match 3 times by 3 to 4 wicket.\n",
    "2. The team who bat second inning are win the match 7 times by 5 wicket.\n",
    "3. The team who bat second inning are win the match 5 times by 6 wicket.\n",
    "4. The team who bat second inning are win the match 6 times by 7 wicket.\n",
    "5. The team who bat second inning are win the match 3 times by 8 wicket.\n",
    "6. The team who bat second inning are win the match 2 times by 9 wicket."
   ]
  },
  {
   "cell_type": "code",
   "execution_count": 47,
   "id": "e6cedd69-0355-4fa3-abcf-e62682049e33",
   "metadata": {},
   "outputs": [],
   "source": [
    "df5=df4[\"WinningTeam\"].value_counts()"
   ]
  },
  {
   "cell_type": "code",
   "execution_count": 48,
   "id": "7636a070-267a-4551-b955-cb4cc9557938",
   "metadata": {},
   "outputs": [
    {
     "data": {
      "text/plain": [
       "Gujarat Titans                 5\n",
       "Sunrisers Hyderabad            5\n",
       "Delhi Capitals                 4\n",
       "Kolkata Knight Riders          4\n",
       "Mumbai Indians                 3\n",
       "Royal Challengers Bangalore    3\n",
       "Lucknow Super Giants           2\n",
       "Rajasthan Royals               1\n",
       "Chennai Super Kings            1\n",
       "Punjab Kings                   1\n",
       "Name: WinningTeam, dtype: int64"
      ]
     },
     "execution_count": 48,
     "metadata": {},
     "output_type": "execute_result"
    }
   ],
   "source": [
    "df5"
   ]
  },
  {
   "cell_type": "code",
   "execution_count": 49,
   "id": "02a5ee63-be37-428b-8c61-eb7ea8197d66",
   "metadata": {},
   "outputs": [
    {
     "data": {
      "text/plain": [
       "Index(['Gujarat Titans', 'Sunrisers Hyderabad', 'Delhi Capitals',\n",
       "       'Kolkata Knight Riders', 'Mumbai Indians',\n",
       "       'Royal Challengers Bangalore', 'Lucknow Super Giants',\n",
       "       'Rajasthan Royals', 'Chennai Super Kings', 'Punjab Kings'],\n",
       "      dtype='object')"
      ]
     },
     "execution_count": 49,
     "metadata": {},
     "output_type": "execute_result"
    }
   ],
   "source": [
    "df5.keys()"
   ]
  },
  {
   "cell_type": "code",
   "execution_count": 51,
   "id": "c7f505ea-0503-4537-8847-2a0bd11ad58e",
   "metadata": {},
   "outputs": [
    {
     "data": {
      "text/plain": [
       "['Gujarat Titans',\n",
       " 'Sunrisers Hyderabad',\n",
       " 'Delhi Capitals',\n",
       " 'Kolkata Knight Riders',\n",
       " 'Mumbai Indians',\n",
       " 'Royal Challengers Bangalore',\n",
       " 'Lucknow Super Giants',\n",
       " 'Rajasthan Royals',\n",
       " 'Chennai Super Kings',\n",
       " 'Punjab Kings']"
      ]
     },
     "execution_count": 51,
     "metadata": {},
     "output_type": "execute_result"
    }
   ],
   "source": [
    "list(df5.keys())"
   ]
  },
  {
   "cell_type": "code",
   "execution_count": 53,
   "id": "7b9fa894-1349-4c0b-919f-4a17f2fa1445",
   "metadata": {},
   "outputs": [
    {
     "data": {
      "text/plain": [
       "[5, 5, 4, 4, 3, 3, 2, 1, 1, 1]"
      ]
     },
     "execution_count": 53,
     "metadata": {},
     "output_type": "execute_result"
    }
   ],
   "source": [
    "list(df5)"
   ]
  },
  {
   "cell_type": "code",
   "execution_count": 86,
   "id": "140b08d8-2e6a-4ebd-bf0a-24d46eb395f2",
   "metadata": {},
   "outputs": [
    {
     "data": {
      "image/png": "[encoded data removed]",
      "text/plain": [
       "<Figure size 2000x1500 with 1 Axes>"
      ]
     },
     "metadata": {},
     "output_type": "display_data"
    }
   ],
   "source": [
    "plt.figure(figsize=(20,15))\n",
    "plt.bar(df5.keys(),df5)\n",
    "plt.xticks(rotation=20)\n",
    "plt.show()"
   ]
  },
  {
   "cell_type": "code",
   "execution_count": 58,
   "id": "7730f899-33a8-4ffb-84f0-7d9cf09d0ce6",
   "metadata": {},
   "outputs": [
    {
     "data": {
      "image/png": "[encoded data removed]",
      "text/plain": [
       "<Figure size 640x480 with 1 Axes>"
      ]
     },
     "metadata": {},
     "output_type": "display_data"
    }
   ],
   "source": [
    "plt.pie(df5,labels=df5.keys(),autopct=\"%1.1f%%\")\n",
    "plt.show()"
   ]
  },
  {
   "cell_type": "code",
   "execution_count": 60,
   "id": "0d1b4940-c817-41d0-bcf3-8269aeaf46b9",
   "metadata": {},
   "outputs": [
    {
     "data": {
      "text/html": [
       "<div>\n",
       "<style scoped>\n",
       "    .dataframe tbody tr th:only-of-type {\n",
       "        vertical-align: middle;\n",
       "    }\n",
       "\n",
       "    .dataframe tbody tr th {\n",
       "        vertical-align: top;\n",
       "    }\n",
       "\n",
       "    .dataframe thead th {\n",
       "        text-align: right;\n",
       "    }\n",
       "</style>\n",
       "<table border=\"1\" class=\"dataframe\">\n",
       "  <thead>\n",
       "    <tr style=\"text-align: right;\">\n",
       "      <th></th>\n",
       "      <th>ID</th>\n",
       "      <th>City</th>\n",
       "      <th>Date</th>\n",
       "      <th>Season</th>\n",
       "      <th>MatchNumber</th>\n",
       "      <th>Team1</th>\n",
       "      <th>Team2</th>\n",
       "      <th>Venue</th>\n",
       "      <th>TossWinner</th>\n",
       "      <th>TossDecision</th>\n",
       "      <th>SuperOver</th>\n",
       "      <th>WinningTeam</th>\n",
       "      <th>WonBy</th>\n",
       "      <th>Margin</th>\n",
       "      <th>method</th>\n",
       "      <th>Player_of_Match</th>\n",
       "      <th>Team1Players</th>\n",
       "      <th>Team2Players</th>\n",
       "      <th>Umpire1</th>\n",
       "      <th>Umpire2</th>\n",
       "    </tr>\n",
       "  </thead>\n",
       "  <tbody>\n",
       "    <tr>\n",
       "      <th>0</th>\n",
       "      <td>1312200</td>\n",
       "      <td>Ahmedabad</td>\n",
       "      <td>5/29/2022</td>\n",
       "      <td>2022</td>\n",
       "      <td>Final</td>\n",
       "      <td>Rajasthan Royals</td>\n",
       "      <td>Gujarat Titans</td>\n",
       "      <td>Narendra Modi Stadium, Ahmedabad</td>\n",
       "      <td>Rajasthan Royals</td>\n",
       "      <td>bat</td>\n",
       "      <td>N</td>\n",
       "      <td>Gujarat Titans</td>\n",
       "      <td>Wickets</td>\n",
       "      <td>7</td>\n",
       "      <td>NaN</td>\n",
       "      <td>HH Pandya</td>\n",
       "      <td>['YBK Jaiswal', 'JC Buttler', 'SV Samson', 'D ...</td>\n",
       "      <td>['WP Saha', 'Shubman Gill', 'MS Wade', 'HH Pan...</td>\n",
       "      <td>CB Gaffaney</td>\n",
       "      <td>Nitin Menon</td>\n",
       "    </tr>\n",
       "    <tr>\n",
       "      <th>1</th>\n",
       "      <td>1312199</td>\n",
       "      <td>Ahmedabad</td>\n",
       "      <td>5/27/2022</td>\n",
       "      <td>2022</td>\n",
       "      <td>Qualifier 2</td>\n",
       "      <td>Royal Challengers Bangalore</td>\n",
       "      <td>Rajasthan Royals</td>\n",
       "      <td>Narendra Modi Stadium, Ahmedabad</td>\n",
       "      <td>Rajasthan Royals</td>\n",
       "      <td>field</td>\n",
       "      <td>N</td>\n",
       "      <td>Rajasthan Royals</td>\n",
       "      <td>Wickets</td>\n",
       "      <td>7</td>\n",
       "      <td>NaN</td>\n",
       "      <td>JC Buttler</td>\n",
       "      <td>['V Kohli', 'F du Plessis', 'RM Patidar', 'GJ ...</td>\n",
       "      <td>['YBK Jaiswal', 'JC Buttler', 'SV Samson', 'D ...</td>\n",
       "      <td>CB Gaffaney</td>\n",
       "      <td>Nitin Menon</td>\n",
       "    </tr>\n",
       "  </tbody>\n",
       "</table>\n",
       "</div>"
      ],
      "text/plain": [
       "        ID       City       Date  Season  MatchNumber  \\\n",
       "0  1312200  Ahmedabad  5/29/2022    2022        Final   \n",
       "1  1312199  Ahmedabad  5/27/2022    2022  Qualifier 2   \n",
       "\n",
       "                         Team1             Team2  \\\n",
       "0             Rajasthan Royals    Gujarat Titans   \n",
       "1  Royal Challengers Bangalore  Rajasthan Royals   \n",
       "\n",
       "                              Venue        TossWinner TossDecision SuperOver  \\\n",
       "0  Narendra Modi Stadium, Ahmedabad  Rajasthan Royals          bat         N   \n",
       "1  Narendra Modi Stadium, Ahmedabad  Rajasthan Royals        field         N   \n",
       "\n",
       "        WinningTeam    WonBy  Margin  method Player_of_Match  \\\n",
       "0    Gujarat Titans  Wickets       7     NaN       HH Pandya   \n",
       "1  Rajasthan Royals  Wickets       7     NaN      JC Buttler   \n",
       "\n",
       "                                        Team1Players  \\\n",
       "0  ['YBK Jaiswal', 'JC Buttler', 'SV Samson', 'D ...   \n",
       "1  ['V Kohli', 'F du Plessis', 'RM Patidar', 'GJ ...   \n",
       "\n",
       "                                        Team2Players      Umpire1      Umpire2  \n",
       "0  ['WP Saha', 'Shubman Gill', 'MS Wade', 'HH Pan...  CB Gaffaney  Nitin Menon  \n",
       "1  ['YBK Jaiswal', 'JC Buttler', 'SV Samson', 'D ...  CB Gaffaney  Nitin Menon  "
      ]
     },
     "execution_count": 60,
     "metadata": {},
     "output_type": "execute_result"
    }
   ],
   "source": [
    "df.head(2)"
   ]
  },
  {
   "cell_type": "code",
   "execution_count": 62,
   "id": "a1e3cf79-7835-4c3b-af4a-a8425239d7ee",
   "metadata": {},
   "outputs": [
    {
     "data": {
      "text/plain": [
       "Wankhede Stadium, Mumbai                         21\n",
       "Dr DY Patil Sports Academy, Mumbai               20\n",
       "Brabourne Stadium, Mumbai                        16\n",
       "Maharashtra Cricket Association Stadium, Pune    13\n",
       "Narendra Modi Stadium, Ahmedabad                  2\n",
       "Eden Gardens, Kolkata                             2\n",
       "Name: Venue, dtype: int64"
      ]
     },
     "execution_count": 62,
     "metadata": {},
     "output_type": "execute_result"
    }
   ],
   "source": [
    "# Number of match played in each venue\n",
    "df[\"Venue\"].value_counts()"
   ]
  },
  {
   "cell_type": "code",
   "execution_count": 63,
   "id": "bc6c43f4-eca2-43da-ae3b-0213e6cca3ed",
   "metadata": {},
   "outputs": [
    {
     "data": {
      "text/html": [
       "<div>\n",
       "<style scoped>\n",
       "    .dataframe tbody tr th:only-of-type {\n",
       "        vertical-align: middle;\n",
       "    }\n",
       "\n",
       "    .dataframe tbody tr th {\n",
       "        vertical-align: top;\n",
       "    }\n",
       "\n",
       "    .dataframe thead th {\n",
       "        text-align: right;\n",
       "    }\n",
       "</style>\n",
       "<table border=\"1\" class=\"dataframe\">\n",
       "  <thead>\n",
       "    <tr style=\"text-align: right;\">\n",
       "      <th></th>\n",
       "      <th>ID</th>\n",
       "      <th>City</th>\n",
       "      <th>Date</th>\n",
       "      <th>Season</th>\n",
       "      <th>MatchNumber</th>\n",
       "      <th>Team1</th>\n",
       "      <th>Team2</th>\n",
       "      <th>Venue</th>\n",
       "      <th>TossWinner</th>\n",
       "      <th>TossDecision</th>\n",
       "      <th>SuperOver</th>\n",
       "      <th>WinningTeam</th>\n",
       "      <th>WonBy</th>\n",
       "      <th>Margin</th>\n",
       "      <th>method</th>\n",
       "      <th>Player_of_Match</th>\n",
       "      <th>Team1Players</th>\n",
       "      <th>Team2Players</th>\n",
       "      <th>Umpire1</th>\n",
       "      <th>Umpire2</th>\n",
       "    </tr>\n",
       "  </thead>\n",
       "  <tbody>\n",
       "    <tr>\n",
       "      <th>0</th>\n",
       "      <td>1312200</td>\n",
       "      <td>Ahmedabad</td>\n",
       "      <td>5/29/2022</td>\n",
       "      <td>2022</td>\n",
       "      <td>Final</td>\n",
       "      <td>Rajasthan Royals</td>\n",
       "      <td>Gujarat Titans</td>\n",
       "      <td>Narendra Modi Stadium, Ahmedabad</td>\n",
       "      <td>Rajasthan Royals</td>\n",
       "      <td>bat</td>\n",
       "      <td>N</td>\n",
       "      <td>Gujarat Titans</td>\n",
       "      <td>Wickets</td>\n",
       "      <td>7</td>\n",
       "      <td>NaN</td>\n",
       "      <td>HH Pandya</td>\n",
       "      <td>['YBK Jaiswal', 'JC Buttler', 'SV Samson', 'D ...</td>\n",
       "      <td>['WP Saha', 'Shubman Gill', 'MS Wade', 'HH Pan...</td>\n",
       "      <td>CB Gaffaney</td>\n",
       "      <td>Nitin Menon</td>\n",
       "    </tr>\n",
       "  </tbody>\n",
       "</table>\n",
       "</div>"
      ],
      "text/plain": [
       "        ID       City       Date  Season MatchNumber             Team1  \\\n",
       "0  1312200  Ahmedabad  5/29/2022    2022       Final  Rajasthan Royals   \n",
       "\n",
       "            Team2                             Venue        TossWinner  \\\n",
       "0  Gujarat Titans  Narendra Modi Stadium, Ahmedabad  Rajasthan Royals   \n",
       "\n",
       "  TossDecision SuperOver     WinningTeam    WonBy  Margin  method  \\\n",
       "0          bat         N  Gujarat Titans  Wickets       7     NaN   \n",
       "\n",
       "  Player_of_Match                                       Team1Players  \\\n",
       "0       HH Pandya  ['YBK Jaiswal', 'JC Buttler', 'SV Samson', 'D ...   \n",
       "\n",
       "                                        Team2Players      Umpire1      Umpire2  \n",
       "0  ['WP Saha', 'Shubman Gill', 'MS Wade', 'HH Pan...  CB Gaffaney  Nitin Menon  "
      ]
     },
     "execution_count": 63,
     "metadata": {},
     "output_type": "execute_result"
    }
   ],
   "source": [
    "df.head(1)"
   ]
  },
  {
   "cell_type": "code",
   "execution_count": 83,
   "id": "829d4c11-c93a-4441-b0a3-01bad3c31b35",
   "metadata": {},
   "outputs": [
    {
     "data": {
      "text/plain": [
       "36"
      ]
     },
     "execution_count": 83,
     "metadata": {},
     "output_type": "execute_result"
    }
   ],
   "source": [
    "# No. of match win by the team who won the toss\n",
    "df[df[\"TossWinner\"]== df[\"WinningTeam\"]].shape[0]"
   ]
  },
  {
   "cell_type": "code",
   "execution_count": 85,
   "id": "af00133c-90e0-4362-9cec-2f2d9c65acec",
   "metadata": {},
   "outputs": [
    {
     "data": {
      "text/plain": [
       "48.64864864864865"
      ]
     },
     "execution_count": 85,
     "metadata": {},
     "output_type": "execute_result"
    }
   ],
   "source": [
    "36/74*100"
   ]
  },
  {
   "cell_type": "markdown",
   "id": "ef4d7103-4e24-4d75-aa55-11ad99e259a4",
   "metadata": {},
   "source": [
    "### Insights"
   ]
  },
  {
   "cell_type": "markdown",
   "id": "2b5b5f51-7bbb-415e-81a3-db5351a26d90",
   "metadata": {},
   "source": [
    "Means that there is no effect of toss win with winning the match because it's winning percentage only 48.64%"
   ]
  },
  {
   "cell_type": "code",
   "execution_count": null,
   "id": "82a32dab-ce81-4982-8c35-5a8a07a7c160",
   "metadata": {},
   "outputs": [],
   "source": []
  }
 ],
 "metadata": {
  "kernelspec": {
   "display_name": "Python 3 (ipykernel)",
   "language": "python",
   "name": "python3"
  },
  "language_info": {
   "codemirror_mode": {
    "name": "ipython",
    "version": 3
   },
   "file_extension": ".py",
   "mimetype": "text/x-python",
   "name": "python",
   "nbconvert_exporter": "python",
   "pygments_lexer": "ipython3",
   "version": "3.10.8"
  }
 },
 "nbformat": 4,
 "nbformat_minor": 5
}
