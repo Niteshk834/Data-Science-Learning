{
 "cells": [
  {
   "cell_type": "markdown",
   "id": "f353342d-7343-4019-85b1-68acc581009a",
   "metadata": {},
   "source": [
    "# 12 Feb Assignment"
   ]
  },
  {
   "cell_type": "markdown",
   "id": "77680820-1656-445a-90e1-f8d913de1ecf",
   "metadata": {},
   "source": [
    "## Date- 12.02.2023"
   ]
  },
  {
   "cell_type": "markdown",
   "id": "9515b61b-9280-4fbc-8fd0-8fef27eb9c52",
   "metadata": {},
   "source": [
    "## Q1. What is an Exception in python? Write the difference  between Exceptions and syntax errors.  \n"
   ]
  },
  {
   "cell_type": "markdown",
   "id": "142f6b73-47e4-42bf-9f9d-335f089c145b",
   "metadata": {},
   "source": [
    "#### Answer:-"
   ]
  },
  {
   "cell_type": "markdown",
   "id": "e558e00b-c4bc-4769-b81c-7fbdb265a410",
   "metadata": {},
   "source": [
    "1. Syntax Errors and exceptions can lead to unexpected behavior or even stop a program from executing. Python provides various functions and mechanisms to handle these issues and improve the robustness of the code.\n",
    "2. The SyntaxError is a critical issue that a normal application should not catch, while an exception is a condition that a program should catch. \n",
    "3. A syntax error is a mistake in the structure of the program that prevents it from running, while an exception is an abnormal event that occurs during the execution of the program and can be handled to allow the program to continue running.\n"
   ]
  },
  {
   "cell_type": "code",
   "execution_count": 2,
   "id": "ea2ab351-c3d2-4ce7-ba8b-164e0296938f",
   "metadata": {},
   "outputs": [
    {
     "ename": "SyntaxError",
     "evalue": "'return' outside function (1426556448.py, line 2)",
     "output_type": "error",
     "traceback": [
      "\u001b[0;36m  Cell \u001b[0;32mIn[2], line 2\u001b[0;36m\u001b[0m\n\u001b[0;31m    return \"Value\"\u001b[0m\n\u001b[0m    ^\u001b[0m\n\u001b[0;31mSyntaxError\u001b[0m\u001b[0;31m:\u001b[0m 'return' outside function\n"
     ]
    }
   ],
   "source": [
    "# Example of syntax error\n",
    "return \"Value\""
   ]
  },
  {
   "cell_type": "code",
   "execution_count": 3,
   "id": "d3cbb708-5056-41ef-82be-d50c88a26f5d",
   "metadata": {},
   "outputs": [
    {
     "ename": "ZeroDivisionError",
     "evalue": "division by zero",
     "output_type": "error",
     "traceback": [
      "\u001b[0;31m---------------------------------------------------------------------------\u001b[0m",
      "\u001b[0;31mZeroDivisionError\u001b[0m                         Traceback (most recent call last)",
      "Cell \u001b[0;32mIn[3], line 2\u001b[0m\n\u001b[1;32m      1\u001b[0m \u001b[38;5;66;03m# Example of Exception handling\u001b[39;00m\n\u001b[0;32m----> 2\u001b[0m a\u001b[38;5;241m=\u001b[39m\u001b[38;5;241;43m9\u001b[39;49m\u001b[38;5;241;43m/\u001b[39;49m\u001b[38;5;241;43m0\u001b[39;49m\n",
      "\u001b[0;31mZeroDivisionError\u001b[0m: division by zero"
     ]
    }
   ],
   "source": [
    "# Example of Exception handling\n",
    "a=9/0 # output give us ZeroDivisionError"
   ]
  },
  {
   "cell_type": "markdown",
   "id": "c2d622f0-e9ca-43c1-abda-6b3773a82c57",
   "metadata": {},
   "source": [
    "##### ZeroDivisionError is an Exception. We can handle it at runtime by using `try` and `except` blocks."
   ]
  },
  {
   "cell_type": "code",
   "execution_count": 6,
   "id": "8b05cd58-2596-4de0-9c2a-bdf79d47a9ee",
   "metadata": {},
   "outputs": [
    {
     "name": "stdout",
     "output_type": "stream",
     "text": [
      "This is ZeroDivisionError division by zero\n"
     ]
    }
   ],
   "source": [
    "try:\n",
    "    a=1/0\n",
    "except Exception as e:\n",
    "    print(\"This is ZeroDivisionError\",e)"
   ]
  },
  {
   "cell_type": "markdown",
   "id": "b4b3d262-ec0a-4592-ae31-dd6bb71ec64c",
   "metadata": {},
   "source": [
    "## Q2. What happens when an exception is not handled? Explain with an example.  \n"
   ]
  },
  {
   "cell_type": "markdown",
   "id": "c88a89ae-78af-4d00-8ef3-5949e0b30fe9",
   "metadata": {},
   "source": [
    "If an exception occurs during execution of the try clause, the exception may be handled by an except clause. If the exception is not handled by an except clause, the exception is re-raised after the finally clause has been executed."
   ]
  },
  {
   "cell_type": "code",
   "execution_count": 15,
   "id": "e1e24af3-9296-4bec-acee-fe0f3908c171",
   "metadata": {},
   "outputs": [],
   "source": [
    "def value(x,y):\n",
    "    try:\n",
    "        result=x/y\n",
    "    except ZeroDivisionError:\n",
    "        print(\"Division by Zero and it is ZeroDivisionError\")\n",
    "    else:\n",
    "        print(\"This is the result\",result)\n",
    "    finally:\n",
    "        print(\"This is final output\")"
   ]
  },
  {
   "cell_type": "code",
   "execution_count": 16,
   "id": "1f80400d-bc1e-45ae-b4b9-e8d5a242dd78",
   "metadata": {},
   "outputs": [
    {
     "name": "stdout",
     "output_type": "stream",
     "text": [
      "This is the result 2.0\n",
      "This is final output\n"
     ]
    }
   ],
   "source": [
    "value(4,2)"
   ]
  },
  {
   "cell_type": "code",
   "execution_count": 17,
   "id": "996f6ac0-48b1-4731-b8e5-34e45fab7780",
   "metadata": {},
   "outputs": [
    {
     "name": "stdout",
     "output_type": "stream",
     "text": [
      "Division by Zero and it is ZeroDivisionError\n",
      "This is final output\n"
     ]
    }
   ],
   "source": [
    "value(4,0)"
   ]
  },
  {
   "cell_type": "code",
   "execution_count": 18,
   "id": "f76dc23e-e510-4505-860a-39f0d4a2e23e",
   "metadata": {},
   "outputs": [
    {
     "name": "stdout",
     "output_type": "stream",
     "text": [
      "This is final output\n"
     ]
    },
    {
     "ename": "TypeError",
     "evalue": "unsupported operand type(s) for /: 'str' and 'str'",
     "output_type": "error",
     "traceback": [
      "\u001b[0;31m---------------------------------------------------------------------------\u001b[0m",
      "\u001b[0;31mTypeError\u001b[0m                                 Traceback (most recent call last)",
      "Cell \u001b[0;32mIn[18], line 1\u001b[0m\n\u001b[0;32m----> 1\u001b[0m \u001b[43mvalue\u001b[49m\u001b[43m(\u001b[49m\u001b[38;5;124;43m\"\u001b[39;49m\u001b[38;5;124;43m4\u001b[39;49m\u001b[38;5;124;43m\"\u001b[39;49m\u001b[43m,\u001b[49m\u001b[38;5;124;43m\"\u001b[39;49m\u001b[38;5;124;43m2\u001b[39;49m\u001b[38;5;124;43m\"\u001b[39;49m\u001b[43m)\u001b[49m\n",
      "Cell \u001b[0;32mIn[15], line 3\u001b[0m, in \u001b[0;36mvalue\u001b[0;34m(x, y)\u001b[0m\n\u001b[1;32m      1\u001b[0m \u001b[38;5;28;01mdef\u001b[39;00m \u001b[38;5;21mvalue\u001b[39m(x,y):\n\u001b[1;32m      2\u001b[0m     \u001b[38;5;28;01mtry\u001b[39;00m:\n\u001b[0;32m----> 3\u001b[0m         result\u001b[38;5;241m=\u001b[39m\u001b[43mx\u001b[49m\u001b[38;5;241;43m/\u001b[39;49m\u001b[43my\u001b[49m\n\u001b[1;32m      4\u001b[0m     \u001b[38;5;28;01mexcept\u001b[39;00m \u001b[38;5;167;01mZeroDivisionError\u001b[39;00m:\n\u001b[1;32m      5\u001b[0m         \u001b[38;5;28mprint\u001b[39m(\u001b[38;5;124m\"\u001b[39m\u001b[38;5;124mDivision by Zero and it is ZeroDivisionError\u001b[39m\u001b[38;5;124m\"\u001b[39m)\n",
      "\u001b[0;31mTypeError\u001b[0m: unsupported operand type(s) for /: 'str' and 'str'"
     ]
    }
   ],
   "source": [
    "# exception can not handle the following:-\n",
    "value(\"4\",\"2\") "
   ]
  },
  {
   "cell_type": "markdown",
   "id": "6f871227-3a2e-46c6-b48f-ad044b1dc6e5",
   "metadata": {},
   "source": [
    "##### The finally clause is executed in any event. \n",
    "##### The TypeError raised by dividing two strings is not handled by the except clause and therefore re-raised after the finally clause has been executed."
   ]
  },
  {
   "cell_type": "markdown",
   "id": "49fee0fb-6db5-41e8-abc6-602a1fac4825",
   "metadata": {},
   "source": [
    "## Q3. Which Python statements are used to catch and handle exceptions? Explain with an example\n"
   ]
  },
  {
   "cell_type": "markdown",
   "id": "ddb4e1d6-77ac-47c9-9606-44a926f8256b",
   "metadata": {},
   "source": [
    "The try and except block in Python is used to catch and handle exceptions. \n",
    "\n",
    "Python executes code following the try statement as a “normal” part of the program. The code that follows the except statement is the program’s response to any exceptions in the preceding try clause."
   ]
  },
  {
   "cell_type": "code",
   "execution_count": 21,
   "id": "ca5af171-1f2d-4b9e-8138-04fbaaa508a1",
   "metadata": {},
   "outputs": [
    {
     "ename": "FileNotFoundError",
     "evalue": "[Errno 2] No such file or directory: 'test.txt'",
     "output_type": "error",
     "traceback": [
      "\u001b[0;31m---------------------------------------------------------------------------\u001b[0m",
      "\u001b[0;31mFileNotFoundError\u001b[0m                         Traceback (most recent call last)",
      "Cell \u001b[0;32mIn[21], line 2\u001b[0m\n\u001b[1;32m      1\u001b[0m \u001b[38;5;66;03m# Here we try to execute code without create file\u001b[39;00m\n\u001b[0;32m----> 2\u001b[0m \u001b[38;5;28;01mwith\u001b[39;00m \u001b[38;5;28;43mopen\u001b[39;49m\u001b[43m(\u001b[49m\u001b[38;5;124;43m\"\u001b[39;49m\u001b[38;5;124;43mtest.txt\u001b[39;49m\u001b[38;5;124;43m\"\u001b[39;49m\u001b[43m,\u001b[49m\u001b[38;5;124;43m\"\u001b[39;49m\u001b[38;5;124;43mr\u001b[39;49m\u001b[38;5;124;43m\"\u001b[39;49m\u001b[43m)\u001b[49m \u001b[38;5;28;01mas\u001b[39;00m f:\n\u001b[1;32m      3\u001b[0m         \u001b[38;5;28mprint\u001b[39m(f\u001b[38;5;241m.\u001b[39mread())  \n",
      "File \u001b[0;32m/opt/conda/lib/python3.10/site-packages/IPython/core/interactiveshell.py:282\u001b[0m, in \u001b[0;36m_modified_open\u001b[0;34m(file, *args, **kwargs)\u001b[0m\n\u001b[1;32m    275\u001b[0m \u001b[38;5;28;01mif\u001b[39;00m file \u001b[38;5;129;01min\u001b[39;00m {\u001b[38;5;241m0\u001b[39m, \u001b[38;5;241m1\u001b[39m, \u001b[38;5;241m2\u001b[39m}:\n\u001b[1;32m    276\u001b[0m     \u001b[38;5;28;01mraise\u001b[39;00m \u001b[38;5;167;01mValueError\u001b[39;00m(\n\u001b[1;32m    277\u001b[0m         \u001b[38;5;124mf\u001b[39m\u001b[38;5;124m\"\u001b[39m\u001b[38;5;124mIPython won\u001b[39m\u001b[38;5;124m'\u001b[39m\u001b[38;5;124mt let you open fd=\u001b[39m\u001b[38;5;132;01m{\u001b[39;00mfile\u001b[38;5;132;01m}\u001b[39;00m\u001b[38;5;124m by default \u001b[39m\u001b[38;5;124m\"\u001b[39m\n\u001b[1;32m    278\u001b[0m         \u001b[38;5;124m\"\u001b[39m\u001b[38;5;124mas it is likely to crash IPython. If you know what you are doing, \u001b[39m\u001b[38;5;124m\"\u001b[39m\n\u001b[1;32m    279\u001b[0m         \u001b[38;5;124m\"\u001b[39m\u001b[38;5;124myou can use builtins\u001b[39m\u001b[38;5;124m'\u001b[39m\u001b[38;5;124m open.\u001b[39m\u001b[38;5;124m\"\u001b[39m\n\u001b[1;32m    280\u001b[0m     )\n\u001b[0;32m--> 282\u001b[0m \u001b[38;5;28;01mreturn\u001b[39;00m \u001b[43mio_open\u001b[49m\u001b[43m(\u001b[49m\u001b[43mfile\u001b[49m\u001b[43m,\u001b[49m\u001b[43m \u001b[49m\u001b[38;5;241;43m*\u001b[39;49m\u001b[43margs\u001b[49m\u001b[43m,\u001b[49m\u001b[43m \u001b[49m\u001b[38;5;241;43m*\u001b[39;49m\u001b[38;5;241;43m*\u001b[39;49m\u001b[43mkwargs\u001b[49m\u001b[43m)\u001b[49m\n",
      "\u001b[0;31mFileNotFoundError\u001b[0m: [Errno 2] No such file or directory: 'test.txt'"
     ]
    }
   ],
   "source": [
    "# Here we try to execute code without create file\n",
    "with open(\"test.txt\",\"r\") as f:\n",
    "        print(f.read())  "
   ]
  },
  {
   "cell_type": "code",
   "execution_count": 22,
   "id": "ea096201-5992-4841-a7e1-dd5a8b6af2c6",
   "metadata": {},
   "outputs": [
    {
     "name": "stdout",
     "output_type": "stream",
     "text": [
      "Error found [Errno 2] No such file or directory: 'test.txt'\n"
     ]
    }
   ],
   "source": [
    "# Now we can handle these exception error by use of try and catch block.\n",
    "try:\n",
    "    with open(\"test.txt\",\"r\") as f:\n",
    "        print(f.read())    \n",
    "except Exception as e:\n",
    "    print(\"Error found\",e)"
   ]
  },
  {
   "cell_type": "markdown",
   "id": "4bc033c3-dc9e-44e8-8cad-df841def696f",
   "metadata": {},
   "source": [
    "## Q4. Explain with an example:\n",
    "##### a. try and else \n",
    "##### b. finally \n",
    "##### c. raise  \n"
   ]
  },
  {
   "cell_type": "markdown",
   "id": "9fddca3e-21aa-44e5-92f8-13814bfa7b5f",
   "metadata": {},
   "source": [
    "## Answer:-"
   ]
  },
  {
   "cell_type": "markdown",
   "id": "cf5c68ec-d5c5-4fa1-bd52-53c58dfc9996",
   "metadata": {},
   "source": [
    "### a. try and else"
   ]
  },
  {
   "cell_type": "markdown",
   "id": "8ebc5856-a552-4296-8a8d-83d15d6d0afa",
   "metadata": {},
   "source": [
    "try block- The try block lets you test a block of code for errors.\n",
    "\n",
    "else block- The else block lets you execute code when there is no error."
   ]
  },
  {
   "cell_type": "code",
   "execution_count": 33,
   "id": "bbbc1c42-680b-408b-a2ad-19ef37525be6",
   "metadata": {},
   "outputs": [],
   "source": [
    "# for example\n",
    "def value(x,y):\n",
    "    try:\n",
    "         result=x/y\n",
    "    except Exception as e:      \n",
    "        print(\"error found\",e)\n",
    "    else:\n",
    "        print(\"The result is:\",result)       "
   ]
  },
  {
   "cell_type": "code",
   "execution_count": 34,
   "id": "afdbde2a-3529-45ef-9196-ee312b7fa16f",
   "metadata": {},
   "outputs": [
    {
     "name": "stdout",
     "output_type": "stream",
     "text": [
      "The result is: 2.0\n"
     ]
    }
   ],
   "source": [
    "value(4,2) # output give no error and else block will execute"
   ]
  },
  {
   "cell_type": "markdown",
   "id": "e08fe446-2c43-459d-8c7b-2d8baf2c06d5",
   "metadata": {},
   "source": [
    "### b. finally"
   ]
  },
  {
   "cell_type": "markdown",
   "id": "287cf54f-4daf-4d74-8323-d3cf1b976734",
   "metadata": {},
   "source": [
    "finally- The finally block lets you execute code, regardless of the result of the try- and except blocks."
   ]
  },
  {
   "cell_type": "code",
   "execution_count": 38,
   "id": "31bb7ac6-9dca-44b8-a4ee-181ed2ba7fb1",
   "metadata": {},
   "outputs": [],
   "source": [
    "# for example\n",
    "def value(x,y):\n",
    "    try:\n",
    "         result=x/y\n",
    "    except Exception as e:      \n",
    "        print(\"error found i.e.\",e)\n",
    "    else:\n",
    "        print(\"The result is:\",result)\n",
    "    finally:\n",
    "        print(\"Above was our final output\")"
   ]
  },
  {
   "cell_type": "code",
   "execution_count": 36,
   "id": "160d5b87-e31c-40f4-ada8-0704a137f573",
   "metadata": {},
   "outputs": [
    {
     "name": "stdout",
     "output_type": "stream",
     "text": [
      "The result is: 2.0\n",
      "Above was our final output\n"
     ]
    }
   ],
   "source": [
    "value(4,2) # finallly block executed too with else block executed"
   ]
  },
  {
   "cell_type": "code",
   "execution_count": 39,
   "id": "f77e240c-a4e3-4f5d-8603-f7fba4a1026a",
   "metadata": {},
   "outputs": [
    {
     "name": "stdout",
     "output_type": "stream",
     "text": [
      "error found i.e. division by zero\n",
      "Above was our final output\n"
     ]
    }
   ],
   "source": [
    "value(4,0) # finallly block executed too with except block executed"
   ]
  },
  {
   "cell_type": "markdown",
   "id": "9658896d-67f9-4fb2-8607-ee698dbe3fbc",
   "metadata": {},
   "source": [
    "### c. raise"
   ]
  },
  {
   "cell_type": "markdown",
   "id": "ff3201a3-fdb9-49e8-a746-8b50b2849c33",
   "metadata": {},
   "source": [
    "The raise keyword is used to raise an exception.\n",
    "\n",
    "we can define what kind of error to raise, and the text to print to the user."
   ]
  },
  {
   "cell_type": "code",
   "execution_count": 41,
   "id": "eb124897-6cdd-47e1-9ff7-88fff44a0188",
   "metadata": {},
   "outputs": [
    {
     "name": "stdin",
     "output_type": "stream",
     "text": [
      "Enter the value nitesh\n"
     ]
    },
    {
     "ename": "TypeError",
     "evalue": "only integer are allowed",
     "output_type": "error",
     "traceback": [
      "\u001b[0;31m---------------------------------------------------------------------------\u001b[0m",
      "\u001b[0;31mTypeError\u001b[0m                                 Traceback (most recent call last)",
      "Cell \u001b[0;32mIn[41], line 4\u001b[0m\n\u001b[1;32m      2\u001b[0m x\u001b[38;5;241m=\u001b[39m\u001b[38;5;28minput\u001b[39m(\u001b[38;5;124m\"\u001b[39m\u001b[38;5;124mEnter the value\u001b[39m\u001b[38;5;124m\"\u001b[39m)\n\u001b[1;32m      3\u001b[0m \u001b[38;5;28;01mif\u001b[39;00m \u001b[38;5;129;01mnot\u001b[39;00m \u001b[38;5;28mtype\u001b[39m(x) \u001b[38;5;129;01mis\u001b[39;00m \u001b[38;5;28mint\u001b[39m:\n\u001b[0;32m----> 4\u001b[0m     \u001b[38;5;28;01mraise\u001b[39;00m \u001b[38;5;167;01mTypeError\u001b[39;00m(\u001b[38;5;124m\"\u001b[39m\u001b[38;5;124monly integer are allowed\u001b[39m\u001b[38;5;124m\"\u001b[39m)\n",
      "\u001b[0;31mTypeError\u001b[0m: only integer are allowed"
     ]
    }
   ],
   "source": [
    "# for example\n",
    "x=input(\"Enter the value\")\n",
    "if not type(x) is int:\n",
    "    raise TypeError(\"only integer are allowed\")"
   ]
  },
  {
   "cell_type": "markdown",
   "id": "1b4adb29-f0c9-4468-aa0d-ac4028c9487c",
   "metadata": {},
   "source": [
    "## Q5. What are Custom Exceptions in python? Why do we need Custom Exceptions? Explain with an example."
   ]
  },
  {
   "cell_type": "markdown",
   "id": "0e2f3e1f-d1bd-4513-8ca2-584502078558",
   "metadata": {},
   "source": [
    "### Answer:-"
   ]
  },
  {
   "cell_type": "markdown",
   "id": "e8032522-9334-46a3-8531-1bb60b97d1fb",
   "metadata": {},
   "source": [
    "Custom exceptions tailored to our specific use cases and that we can raise and catch in specific circumstances. Custom exceptions can make our code much more readable and robust, and reduce the amount of code we write later to try and figure out what exactly went wrong.\n",
    "\n",
    "We can get as fancy as we want. We can send additional information, like messages, to our exceptions. Just add an __init__() method to our exception class, with whatever arguments we want."
   ]
  },
  {
   "cell_type": "markdown",
   "id": "d5ce5b9e-0c0c-402c-b11a-f02aba3375c0",
   "metadata": {},
   "source": [
    "### Example"
   ]
  },
  {
   "cell_type": "code",
   "execution_count": null,
   "id": "a0c575f9-4dc8-4c6c-9d34-20c003211e80",
   "metadata": {},
   "outputs": [],
   "source": [
    "\n",
    "# If we want to write custom exception for the movie download website"
   ]
  },
  {
   "cell_type": "code",
   "execution_count": 50,
   "id": "105d2af7-ad55-40c7-8cde-b29369e1807f",
   "metadata": {},
   "outputs": [
    {
     "name": "stdin",
     "output_type": "stream",
     "text": [
      "Enter the value 403\n"
     ]
    },
    {
     "name": "stdout",
     "output_type": "stream",
     "text": [
      "download is in progress\n"
     ]
    }
   ],
   "source": [
    "# 1st case\n",
    "class download_Exception(Exception):\n",
    "    pass\n",
    "\n",
    "try:\n",
    "    my_status_code=int(input(\"Enter the value\"))\n",
    "    if my_status_code==504:\n",
    "        raise download_Exception(my_status_code)\n",
    "    else:\n",
    "        print(\"download is in progress\")\n",
    "        \n",
    "except  download_Exception:\n",
    "    print(\"Gateway time out, wait for sometime or check internet connection\")       "
   ]
  },
  {
   "cell_type": "code",
   "execution_count": 51,
   "id": "3bb1ad57-4d02-491a-96aa-cd4eae70ac2f",
   "metadata": {},
   "outputs": [
    {
     "name": "stdin",
     "output_type": "stream",
     "text": [
      "Enter the value 504\n"
     ]
    },
    {
     "name": "stdout",
     "output_type": "stream",
     "text": [
      "Gateway time out, wait for sometime or check internet connection\n"
     ]
    }
   ],
   "source": [
    "# 2nd case\n",
    "class download_Exception(Exception):\n",
    "    pass\n",
    "\n",
    "try:\n",
    "    my_status_code=int(input(\"Enter the value\"))\n",
    "    if my_status_code==504:\n",
    "        raise download_Exception(my_status_code)\n",
    "    else:\n",
    "        print(\"download is in progress\")\n",
    "        \n",
    "except  download_Exception:\n",
    "    print(\"Gateway time out, wait for sometime or check internet connection\")       "
   ]
  },
  {
   "cell_type": "markdown",
   "id": "c92e6728-8f05-498d-9f58-f72da389e777",
   "metadata": {},
   "source": [
    "## Q6. Create  custom exception class. Use this class to handle an exception. "
   ]
  },
  {
   "cell_type": "markdown",
   "id": "b97d96ff-bcac-4857-b434-f9709240295e",
   "metadata": {},
   "source": [
    "### Answer:-"
   ]
  },
  {
   "cell_type": "markdown",
   "id": "f1fd5b21-c3a7-42d3-b213-ed7c75276002",
   "metadata": {},
   "source": [
    "Python provides a lot of built-in exception classes that outputs an error when something in your code goes wrong. The error classes can also be used to handle those specific exceptions using try-except blocks."
   ]
  },
  {
   "cell_type": "code",
   "execution_count": 1,
   "id": "46c1f44d-a7c3-492f-b906-4e8118bf0b45",
   "metadata": {},
   "outputs": [
    {
     "name": "stdin",
     "output_type": "stream",
     "text": [
      "Enter a number:  15\n"
     ]
    },
    {
     "name": "stdout",
     "output_type": "stream",
     "text": [
      "Exception occurred: Invalid Age\n"
     ]
    }
   ],
   "source": [
    "class InvalidAgeException(Exception): # \"Raised when the input value is less than 18\"  \n",
    "    pass\n",
    "\n",
    "try:\n",
    "    input_num = int(input(\"Enter a number: \"))\n",
    "    if input_num < 18:\n",
    "        raise InvalidAgeException\n",
    "    else:\n",
    "        print(\"Eligible to Vote\")\n",
    "        \n",
    "except InvalidAgeException:\n",
    "    print(\"Exception occurred: Invalid Age\")"
   ]
  },
  {
   "cell_type": "code",
   "execution_count": null,
   "id": "0630a374-4e32-472c-9e19-1eddf67a8667",
   "metadata": {},
   "outputs": [],
   "source": []
  },
  {
   "cell_type": "code",
   "execution_count": null,
   "id": "54b7fad6-1de6-45fa-b9d7-e2e0abd4169a",
   "metadata": {},
   "outputs": [],
   "source": []
  }
 ],
 "metadata": {
  "kernelspec": {
   "display_name": "Python 3 (ipykernel)",
   "language": "python",
   "name": "python3"
  },
  "language_info": {
   "codemirror_mode": {
    "name": "ipython",
    "version": 3
   },
   "file_extension": ".py",
   "mimetype": "text/x-python",
   "name": "python",
   "nbconvert_exporter": "python",
   "pygments_lexer": "ipython3",
   "version": "3.10.8"
  }
 },
 "nbformat": 4,
 "nbformat_minor": 5
}
