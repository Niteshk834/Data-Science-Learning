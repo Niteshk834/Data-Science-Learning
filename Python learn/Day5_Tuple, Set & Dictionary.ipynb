{
 "cells": [
  {
   "cell_type": "markdown",
   "id": "3d66816f-e8a4-4bcc-bb72-a4601b4b9ccb",
   "metadata": {},
   "source": [
    "# Tuples"
   ]
  },
  {
   "cell_type": "code",
   "execution_count": 4,
   "id": "c109bfd6-ebf3-4a08-a133-3209a72c9a38",
   "metadata": {},
   "outputs": [],
   "source": [
    "t=()"
   ]
  },
  {
   "cell_type": "code",
   "execution_count": 5,
   "id": "48306ef0-e2e0-4f94-8907-38417869980f",
   "metadata": {},
   "outputs": [
    {
     "data": {
      "text/plain": [
       "tuple"
      ]
     },
     "execution_count": 5,
     "metadata": {},
     "output_type": "execute_result"
    }
   ],
   "source": [
    "type(t)"
   ]
  },
  {
   "cell_type": "code",
   "execution_count": 12,
   "id": "90433a67-2c96-4aea-8bcf-5d4e2db57caa",
   "metadata": {},
   "outputs": [],
   "source": [
    "t1=(1,2,3.5,4.2,2+5j,\"nitesh\",True)"
   ]
  },
  {
   "cell_type": "code",
   "execution_count": 13,
   "id": "14c6e297-8816-4efa-8fc6-8b0287de392b",
   "metadata": {},
   "outputs": [
    {
     "data": {
      "text/plain": [
       "tuple"
      ]
     },
     "execution_count": 13,
     "metadata": {},
     "output_type": "execute_result"
    }
   ],
   "source": [
    "type(t1)"
   ]
  },
  {
   "cell_type": "code",
   "execution_count": 14,
   "id": "a39a274b-7459-4c80-b2b5-aaee2fd6b7d5",
   "metadata": {},
   "outputs": [
    {
     "data": {
      "text/plain": [
       "(1, 2, 3.5, 4.2, (2+5j), 'nitesh', True)"
      ]
     },
     "execution_count": 14,
     "metadata": {},
     "output_type": "execute_result"
    }
   ],
   "source": [
    "t1"
   ]
  },
  {
   "cell_type": "code",
   "execution_count": 15,
   "id": "df8194e0-c05a-406e-a405-3f95ae0a7a46",
   "metadata": {},
   "outputs": [
    {
     "data": {
      "text/plain": [
       "'nitesh'"
      ]
     },
     "execution_count": 15,
     "metadata": {},
     "output_type": "execute_result"
    }
   ],
   "source": [
    "t1[5]"
   ]
  },
  {
   "cell_type": "code",
   "execution_count": 16,
   "id": "42994898-5184-400a-860f-e51353c6c383",
   "metadata": {},
   "outputs": [
    {
     "data": {
      "text/plain": [
       "(True, 'nitesh', (2+5j), 4.2, 3.5, 2, 1)"
      ]
     },
     "execution_count": 16,
     "metadata": {},
     "output_type": "execute_result"
    }
   ],
   "source": [
    "t1[::-1]"
   ]
  },
  {
   "cell_type": "code",
   "execution_count": 19,
   "id": "17b04889-5833-4989-87db-8df0f615e138",
   "metadata": {},
   "outputs": [
    {
     "data": {
      "text/plain": [
       "(1, 2, 3.5, 4.2, (2+5j))"
      ]
     },
     "execution_count": 19,
     "metadata": {},
     "output_type": "execute_result"
    }
   ],
   "source": [
    "t1[:-2]"
   ]
  },
  {
   "cell_type": "code",
   "execution_count": 20,
   "id": "121e32d4-2418-4f33-ab6b-49d2369a0c21",
   "metadata": {},
   "outputs": [],
   "source": [
    "t1=t1[::-1]"
   ]
  },
  {
   "cell_type": "code",
   "execution_count": 21,
   "id": "c3276403-85a1-4394-be18-34a621c3c311",
   "metadata": {},
   "outputs": [
    {
     "data": {
      "text/plain": [
       "(True, 'nitesh', (2+5j), 4.2, 3.5, 2, 1)"
      ]
     },
     "execution_count": 21,
     "metadata": {},
     "output_type": "execute_result"
    }
   ],
   "source": [
    "t1"
   ]
  },
  {
   "cell_type": "code",
   "execution_count": 23,
   "id": "40e5ae4a-843b-4712-8ca3-3f82a127ed1e",
   "metadata": {},
   "outputs": [
    {
     "data": {
      "text/plain": [
       "(True, 'nitesh', (2+5j))"
      ]
     },
     "execution_count": 23,
     "metadata": {},
     "output_type": "execute_result"
    }
   ],
   "source": [
    "t1[:3]"
   ]
  },
  {
   "cell_type": "code",
   "execution_count": 24,
   "id": "92d3a823-8ac4-491b-9443-95f435957987",
   "metadata": {},
   "outputs": [],
   "source": [
    "t2=(True, 'nitesh', (2+5j), 4.2, 3.5, 2, 2,4,2,5,2,1)"
   ]
  },
  {
   "cell_type": "code",
   "execution_count": 25,
   "id": "0063bea7-2b9d-4a9b-8b31-17a0445080f5",
   "metadata": {},
   "outputs": [
    {
     "data": {
      "text/plain": [
       "(True, 'nitesh', (2+5j), 4.2, 3.5, 2, 2, 4, 2, 5, 2, 1)"
      ]
     },
     "execution_count": 25,
     "metadata": {},
     "output_type": "execute_result"
    }
   ],
   "source": [
    "t2"
   ]
  },
  {
   "cell_type": "code",
   "execution_count": 28,
   "id": "a3583102-d268-477c-bc3b-0d5b7fd251e9",
   "metadata": {},
   "outputs": [
    {
     "data": {
      "text/plain": [
       "4"
      ]
     },
     "execution_count": 28,
     "metadata": {},
     "output_type": "execute_result"
    }
   ],
   "source": [
    "t2.count(2)"
   ]
  },
  {
   "cell_type": "code",
   "execution_count": 31,
   "id": "3d4ea443-bf1f-432f-9b06-008ba1345e50",
   "metadata": {},
   "outputs": [
    {
     "data": {
      "text/plain": [
       "3"
      ]
     },
     "execution_count": 31,
     "metadata": {},
     "output_type": "execute_result"
    }
   ],
   "source": [
    "t2.index(4.2)"
   ]
  },
  {
   "cell_type": "code",
   "execution_count": 32,
   "id": "149776c4-32cf-4dc9-8a02-4923cf3e6703",
   "metadata": {},
   "outputs": [
    {
     "data": {
      "text/plain": [
       "0"
      ]
     },
     "execution_count": 32,
     "metadata": {},
     "output_type": "execute_result"
    }
   ],
   "source": [
    "t2.index(1) # output 0 because system store True is as 1"
   ]
  },
  {
   "cell_type": "code",
   "execution_count": 33,
   "id": "9c4cdcb6-fe71-4d6c-b488-d12565e3a856",
   "metadata": {},
   "outputs": [
    {
     "data": {
      "text/plain": [
       "2"
      ]
     },
     "execution_count": 33,
     "metadata": {},
     "output_type": "execute_result"
    }
   ],
   "source": [
    "t2.count(True)"
   ]
  },
  {
   "cell_type": "code",
   "execution_count": 34,
   "id": "bb722ad3-3c71-4d79-b31b-30babe56ae5a",
   "metadata": {},
   "outputs": [
    {
     "data": {
      "text/plain": [
       "(True, 'nitesh', (2+5j), 4.2, 3.5, 2, 2, 4, 2, 5, 2, 1)"
      ]
     },
     "execution_count": 34,
     "metadata": {},
     "output_type": "execute_result"
    }
   ],
   "source": [
    "t2"
   ]
  },
  {
   "cell_type": "code",
   "execution_count": 35,
   "id": "7c954835-cf20-4dc1-9f0a-51ac8c65d4da",
   "metadata": {},
   "outputs": [
    {
     "data": {
      "text/plain": [
       "'nitesh'"
      ]
     },
     "execution_count": 35,
     "metadata": {},
     "output_type": "execute_result"
    }
   ],
   "source": [
    "t2[1]"
   ]
  },
  {
   "cell_type": "code",
   "execution_count": 36,
   "id": "18676a01-8608-4972-8e71-cd3db4db53c4",
   "metadata": {},
   "outputs": [
    {
     "ename": "TypeError",
     "evalue": "'tuple' object does not support item assignment",
     "output_type": "error",
     "traceback": [
      "\u001b[0;31m---------------------------------------------------------------------------\u001b[0m",
      "\u001b[0;31mTypeError\u001b[0m                                 Traceback (most recent call last)",
      "Cell \u001b[0;32mIn[36], line 1\u001b[0m\n\u001b[0;32m----> 1\u001b[0m \u001b[43mt2\u001b[49m\u001b[43m[\u001b[49m\u001b[38;5;241;43m2\u001b[39;49m\u001b[43m]\u001b[49m\u001b[38;5;241m=\u001b[39m\u001b[38;5;124m\"\u001b[39m\u001b[38;5;124mkumar\u001b[39m\u001b[38;5;124m\"\u001b[39m\n",
      "\u001b[0;31mTypeError\u001b[0m: 'tuple' object does not support item assignment"
     ]
    }
   ],
   "source": [
    "t2[2]=\"kumar\" # Tuples are immutable and not support any assignment...In List it can be possible"
   ]
  },
  {
   "cell_type": "code",
   "execution_count": 42,
   "id": "6371ad1c-e07f-4cc8-9307-000e29a51be6",
   "metadata": {},
   "outputs": [
    {
     "name": "stdout",
     "output_type": "stream",
     "text": [
      "True <class 'bool'>\n",
      "nitesh <class 'str'>\n",
      "(2+5j) <class 'complex'>\n",
      "4.2 <class 'float'>\n",
      "3.5 <class 'float'>\n",
      "2 <class 'int'>\n",
      "2 <class 'int'>\n",
      "4 <class 'int'>\n",
      "2 <class 'int'>\n",
      "5 <class 'int'>\n",
      "2 <class 'int'>\n",
      "1 <class 'int'>\n"
     ]
    }
   ],
   "source": [
    "for i in t2:\n",
    "    print(i,type(i))"
   ]
  },
  {
   "cell_type": "code",
   "execution_count": 43,
   "id": "34db960b-8410-4b7f-8919-e2dce655b7d4",
   "metadata": {},
   "outputs": [],
   "source": [
    "t3=(1,2,3,3,4,5)"
   ]
  },
  {
   "cell_type": "code",
   "execution_count": 44,
   "id": "fc5a6fe2-0a1a-4126-a2f3-953d35edfab4",
   "metadata": {},
   "outputs": [
    {
     "data": {
      "text/plain": [
       "(1, 2, 3, 3, 4, 5)"
      ]
     },
     "execution_count": 44,
     "metadata": {},
     "output_type": "execute_result"
    }
   ],
   "source": [
    "t3"
   ]
  },
  {
   "cell_type": "code",
   "execution_count": 47,
   "id": "d63e6aed-307f-4c24-9e61-3eaffa0e241d",
   "metadata": {},
   "outputs": [
    {
     "data": {
      "text/plain": [
       "(1, 2, 3, 3, 4, 5, 1, 2, 3, 3, 4, 5, 1, 2, 3, 3, 4, 5)"
      ]
     },
     "execution_count": 47,
     "metadata": {},
     "output_type": "execute_result"
    }
   ],
   "source": [
    "t3*3 # replicated 3 times as same in list too"
   ]
  },
  {
   "cell_type": "code",
   "execution_count": 48,
   "id": "ca7b336d-b2c0-42e8-b316-84c74dcc156d",
   "metadata": {},
   "outputs": [
    {
     "data": {
      "text/plain": [
       "5"
      ]
     },
     "execution_count": 48,
     "metadata": {},
     "output_type": "execute_result"
    }
   ],
   "source": [
    "max(t3)"
   ]
  },
  {
   "cell_type": "code",
   "execution_count": 49,
   "id": "ad313f0b-116d-446e-b835-914ec11e1281",
   "metadata": {},
   "outputs": [
    {
     "data": {
      "text/plain": [
       "1"
      ]
     },
     "execution_count": 49,
     "metadata": {},
     "output_type": "execute_result"
    }
   ],
   "source": [
    "min(t3)"
   ]
  },
  {
   "cell_type": "code",
   "execution_count": 56,
   "id": "c564a275-dc22-46d2-a61f-b1dd638b5b3f",
   "metadata": {},
   "outputs": [],
   "source": [
    "t1=(1,2,3)\n",
    "t2=(4,5,6)\n",
    "t3=t1,t2"
   ]
  },
  {
   "cell_type": "code",
   "execution_count": 57,
   "id": "b22b609b-f672-4022-8124-d1a95bd5ea04",
   "metadata": {},
   "outputs": [
    {
     "data": {
      "text/plain": [
       "((1, 2, 3), (4, 5, 6))"
      ]
     },
     "execution_count": 57,
     "metadata": {},
     "output_type": "execute_result"
    }
   ],
   "source": [
    "t3"
   ]
  },
  {
   "cell_type": "code",
   "execution_count": 59,
   "id": "c48d3cbe-3ae5-444a-88bc-98b9a20a2cc2",
   "metadata": {},
   "outputs": [],
   "source": [
    "t1=((1,2,3,),[1,2,3])"
   ]
  },
  {
   "cell_type": "code",
   "execution_count": 60,
   "id": "969b7728-ddbb-4362-9df7-3a4cae30a69f",
   "metadata": {},
   "outputs": [
    {
     "data": {
      "text/plain": [
       "((1, 2, 3), [1, 2, 3])"
      ]
     },
     "execution_count": 60,
     "metadata": {},
     "output_type": "execute_result"
    }
   ],
   "source": [
    "t1"
   ]
  },
  {
   "cell_type": "code",
   "execution_count": 61,
   "id": "9504d3d9-d994-4ffe-8d9a-8b62e60873d7",
   "metadata": {},
   "outputs": [],
   "source": [
    "lst=[1,2,3,4,(1,2,3)]"
   ]
  },
  {
   "cell_type": "code",
   "execution_count": 62,
   "id": "15798f8a-6065-4f53-9144-1fa70a1e9bfb",
   "metadata": {},
   "outputs": [
    {
     "data": {
      "text/plain": [
       "[1, 2, 3, 4, (1, 2, 3)]"
      ]
     },
     "execution_count": 62,
     "metadata": {},
     "output_type": "execute_result"
    }
   ],
   "source": [
    "lst"
   ]
  },
  {
   "cell_type": "code",
   "execution_count": 63,
   "id": "fb0e3de2-33a2-4c7b-962f-9d4a58b830ab",
   "metadata": {},
   "outputs": [
    {
     "data": {
      "text/plain": [
       "((1, 2, 3), [1, 2, 3])"
      ]
     },
     "execution_count": 63,
     "metadata": {},
     "output_type": "execute_result"
    }
   ],
   "source": [
    "t1"
   ]
  },
  {
   "cell_type": "code",
   "execution_count": 64,
   "id": "7497ad16-35c7-4e7e-a489-9236e960af8c",
   "metadata": {},
   "outputs": [],
   "source": [
    "del t1 # we can delete tuples"
   ]
  },
  {
   "cell_type": "code",
   "execution_count": 65,
   "id": "e95abd56-7736-4a3c-9461-dea2acb8be02",
   "metadata": {},
   "outputs": [
    {
     "ename": "NameError",
     "evalue": "name 't1' is not defined",
     "output_type": "error",
     "traceback": [
      "\u001b[0;31m---------------------------------------------------------------------------\u001b[0m",
      "\u001b[0;31mNameError\u001b[0m                                 Traceback (most recent call last)",
      "Cell \u001b[0;32mIn[65], line 1\u001b[0m\n\u001b[0;32m----> 1\u001b[0m \u001b[43mt1\u001b[49m\n",
      "\u001b[0;31mNameError\u001b[0m: name 't1' is not defined"
     ]
    }
   ],
   "source": [
    "t1 # below output clearly indicate that tuple has been deleted."
   ]
  },
  {
   "cell_type": "code",
   "execution_count": 3,
   "id": "10e4baaa-1ca8-44ec-8843-7d7be5f33623",
   "metadata": {},
   "outputs": [],
   "source": [
    "t2=(1,2,3,4,5,6)"
   ]
  },
  {
   "cell_type": "code",
   "execution_count": 4,
   "id": "0ceff903-7a8d-421b-9d29-cddee17199d4",
   "metadata": {},
   "outputs": [
    {
     "data": {
      "text/plain": [
       "6"
      ]
     },
     "execution_count": 4,
     "metadata": {},
     "output_type": "execute_result"
    }
   ],
   "source": [
    "len(t2)"
   ]
  },
  {
   "cell_type": "code",
   "execution_count": 5,
   "id": "8267e3b7-854a-4f03-8248-bf304c3b5682",
   "metadata": {},
   "outputs": [
    {
     "data": {
      "text/plain": [
       "False"
      ]
     },
     "execution_count": 5,
     "metadata": {},
     "output_type": "execute_result"
    }
   ],
   "source": [
    "\"nitesh\" in t2"
   ]
  },
  {
   "cell_type": "code",
   "execution_count": 6,
   "id": "8e3353af-996b-4752-ac9e-cb75cd8a0e46",
   "metadata": {},
   "outputs": [
    {
     "data": {
      "text/plain": [
       "True"
      ]
     },
     "execution_count": 6,
     "metadata": {},
     "output_type": "execute_result"
    }
   ],
   "source": [
    "4 in t2"
   ]
  },
  {
   "cell_type": "markdown",
   "id": "89f7a70e-b53d-46b4-87cb-e1d96fbab445",
   "metadata": {},
   "source": [
    "# Sets"
   ]
  },
  {
   "cell_type": "code",
   "execution_count": 7,
   "id": "d5577d35-2260-4a31-bcdf-b9740df4ce1d",
   "metadata": {},
   "outputs": [],
   "source": [
    "s={}"
   ]
  },
  {
   "cell_type": "code",
   "execution_count": 8,
   "id": "01c324a8-c0f6-4a74-8634-90331f32a4c6",
   "metadata": {},
   "outputs": [
    {
     "data": {
      "text/plain": [
       "dict"
      ]
     },
     "execution_count": 8,
     "metadata": {},
     "output_type": "execute_result"
    }
   ],
   "source": [
    "type(s)"
   ]
  },
  {
   "cell_type": "code",
   "execution_count": 9,
   "id": "a9774735-8512-4c4e-91f6-5b83df91b560",
   "metadata": {},
   "outputs": [],
   "source": [
    "s1={1,2,3,4,5,6}"
   ]
  },
  {
   "cell_type": "code",
   "execution_count": 10,
   "id": "a3479610-a58c-4395-8e76-b557f9597dc6",
   "metadata": {},
   "outputs": [
    {
     "data": {
      "text/plain": [
       "set"
      ]
     },
     "execution_count": 10,
     "metadata": {},
     "output_type": "execute_result"
    }
   ],
   "source": [
    "type(s1)"
   ]
  },
  {
   "cell_type": "code",
   "execution_count": 12,
   "id": "07b25fee-873d-464a-82ae-114067192171",
   "metadata": {},
   "outputs": [],
   "source": [
    "s2={1,2,1,3,3,3,4,56,7,7,8,6,7,5,56}"
   ]
  },
  {
   "cell_type": "code",
   "execution_count": 13,
   "id": "50b67d21-7fe9-49c1-84d5-6a5407c1ef35",
   "metadata": {},
   "outputs": [
    {
     "data": {
      "text/plain": [
       "{1, 2, 3, 4, 5, 6, 7, 8, 56}"
      ]
     },
     "execution_count": 13,
     "metadata": {},
     "output_type": "execute_result"
    }
   ],
   "source": [
    "s2 # removed automatically duplicates in sets"
   ]
  },
  {
   "cell_type": "code",
   "execution_count": 19,
   "id": "350250ab-8122-461f-9f84-c8a14b29e62a",
   "metadata": {},
   "outputs": [
    {
     "data": {
      "text/plain": [
       "[1, 2, 3, 4, 5, 6, 7, 8, 56]"
      ]
     },
     "execution_count": 19,
     "metadata": {},
     "output_type": "execute_result"
    }
   ],
   "source": [
    "list(s2)"
   ]
  },
  {
   "cell_type": "code",
   "execution_count": 15,
   "id": "db68900d-f5a1-45d8-b8d6-bb8e3562ef45",
   "metadata": {},
   "outputs": [
    {
     "data": {
      "text/plain": [
       "(1, 2, 3, 4, 5, 6, 7, 8, 56)"
      ]
     },
     "execution_count": 15,
     "metadata": {},
     "output_type": "execute_result"
    }
   ],
   "source": [
    "tuple(s2)"
   ]
  },
  {
   "cell_type": "code",
   "execution_count": 20,
   "id": "fe71c6b6-2e8a-4849-943b-3c8d8c787bcc",
   "metadata": {},
   "outputs": [],
   "source": [
    "l=list(s2)"
   ]
  },
  {
   "cell_type": "code",
   "execution_count": 21,
   "id": "5e644f53-3cb0-417c-afd2-f8450c01e3f8",
   "metadata": {},
   "outputs": [
    {
     "data": {
      "text/plain": [
       "[1, 2, 3, 4, 5, 6, 7, 8, 56]"
      ]
     },
     "execution_count": 21,
     "metadata": {},
     "output_type": "execute_result"
    }
   ],
   "source": [
    "l"
   ]
  },
  {
   "cell_type": "code",
   "execution_count": 23,
   "id": "4a0a5ec8-0521-47d4-9cc2-ac9891373328",
   "metadata": {},
   "outputs": [
    {
     "data": {
      "text/plain": [
       "{1, 2, 3, 4, 5, 6, 7, 8, 56}"
      ]
     },
     "execution_count": 23,
     "metadata": {},
     "output_type": "execute_result"
    }
   ],
   "source": [
    "set(s2)"
   ]
  },
  {
   "cell_type": "code",
   "execution_count": 24,
   "id": "a2dbf9a6-3691-4212-a4c2-1f03e9e6f136",
   "metadata": {},
   "outputs": [
    {
     "ename": "TypeError",
     "evalue": "unhashable type: 'list'",
     "output_type": "error",
     "traceback": [
      "\u001b[0;31m---------------------------------------------------------------------------\u001b[0m",
      "\u001b[0;31mTypeError\u001b[0m                                 Traceback (most recent call last)",
      "Cell \u001b[0;32mIn[24], line 1\u001b[0m\n\u001b[0;32m----> 1\u001b[0m s3\u001b[38;5;241m=\u001b[39m{\u001b[38;5;241m1\u001b[39m,\u001b[38;5;241m2\u001b[39m,\u001b[38;5;241m3\u001b[39m,[\u001b[38;5;241m4\u001b[39m,\u001b[38;5;241m5\u001b[39m,\u001b[38;5;241m6\u001b[39m]}\n",
      "\u001b[0;31mTypeError\u001b[0m: unhashable type: 'list'"
     ]
    }
   ],
   "source": [
    "s3={1,2,3,[4,5,6]} # Output because of list are mutable"
   ]
  },
  {
   "cell_type": "code",
   "execution_count": 25,
   "id": "b634134b-71f4-4ffc-8e06-2540ee9d6138",
   "metadata": {},
   "outputs": [],
   "source": [
    "S5={1,2,3,4,(4,5,6)} # Output becuase of tuples are immutable"
   ]
  },
  {
   "cell_type": "code",
   "execution_count": 26,
   "id": "f17bae13-4c0e-4ad0-b63d-fd6d1aab6b16",
   "metadata": {},
   "outputs": [
    {
     "data": {
      "text/plain": [
       "{(4, 5, 6), 1, 2, 3, 4}"
      ]
     },
     "execution_count": 26,
     "metadata": {},
     "output_type": "execute_result"
    }
   ],
   "source": [
    "S5"
   ]
  },
  {
   "cell_type": "code",
   "execution_count": 37,
   "id": "751ab681-b23a-4ef3-a61c-a736875306a2",
   "metadata": {},
   "outputs": [],
   "source": [
    "s6= {\"Nitesh\", \"nitesh\",1,2,3,4} # output not remove duplicate becuase letters is case sensitive"
   ]
  },
  {
   "cell_type": "code",
   "execution_count": 38,
   "id": "0bf44c5d-a570-4ca3-b4b4-96c064ec1a61",
   "metadata": {},
   "outputs": [
    {
     "data": {
      "text/plain": [
       "{1, 2, 3, 4, 'Nitesh', 'nitesh'}"
      ]
     },
     "execution_count": 38,
     "metadata": {},
     "output_type": "execute_result"
    }
   ],
   "source": [
    "s6"
   ]
  },
  {
   "cell_type": "code",
   "execution_count": 39,
   "id": "180b0239-19f0-4a45-8437-c5e37089d49c",
   "metadata": {},
   "outputs": [],
   "source": [
    "s7= {\"nitesh\", \"nitesh\",1,2,3,4} # output remove duplicate"
   ]
  },
  {
   "cell_type": "code",
   "execution_count": 41,
   "id": "0e6ce6d1-c90e-4e74-a785-19a657bf3f41",
   "metadata": {},
   "outputs": [
    {
     "data": {
      "text/plain": [
       "{1, 2, 3, 4, 'nitesh'}"
      ]
     },
     "execution_count": 41,
     "metadata": {},
     "output_type": "execute_result"
    }
   ],
   "source": [
    "s7"
   ]
  },
  {
   "cell_type": "code",
   "execution_count": 42,
   "id": "6c0dbd1f-9b7b-4179-845e-fbf6a9d80322",
   "metadata": {},
   "outputs": [
    {
     "ename": "TypeError",
     "evalue": "'set' object is not subscriptable",
     "output_type": "error",
     "traceback": [
      "\u001b[0;31m---------------------------------------------------------------------------\u001b[0m",
      "\u001b[0;31mTypeError\u001b[0m                                 Traceback (most recent call last)",
      "Cell \u001b[0;32mIn[42], line 1\u001b[0m\n\u001b[0;32m----> 1\u001b[0m \u001b[43ms7\u001b[49m\u001b[43m[\u001b[49m\u001b[38;5;241;43m1\u001b[39;49m\u001b[43m]\u001b[49m\n",
      "\u001b[0;31mTypeError\u001b[0m: 'set' object is not subscriptable"
     ]
    }
   ],
   "source": [
    "s7[1] # Output becuase of sets not hold the element in sequencial order"
   ]
  },
  {
   "cell_type": "code",
   "execution_count": 43,
   "id": "5c28ecc3-826b-4e91-901c-d43e659636c3",
   "metadata": {},
   "outputs": [
    {
     "data": {
      "text/plain": [
       "{1, 2, 3, 4, 'nitesh'}"
      ]
     },
     "execution_count": 43,
     "metadata": {},
     "output_type": "execute_result"
    }
   ],
   "source": [
    "s7"
   ]
  },
  {
   "cell_type": "code",
   "execution_count": 50,
   "id": "d2152182-ba64-4c7b-9a75-62cddc7faee9",
   "metadata": {},
   "outputs": [
    {
     "name": "stdout",
     "output_type": "stream",
     "text": [
      "1 2 3 4 nitesh "
     ]
    }
   ],
   "source": [
    "for i in s7:\n",
    "    print(i, end=\" \")"
   ]
  },
  {
   "cell_type": "code",
   "execution_count": 51,
   "id": "fe8a592d-804d-4e62-9fe3-752c96dec00a",
   "metadata": {},
   "outputs": [],
   "source": [
    "s7.add(8)"
   ]
  },
  {
   "cell_type": "code",
   "execution_count": 52,
   "id": "ade773a7-7191-495a-a7e4-c5611b40fa17",
   "metadata": {},
   "outputs": [
    {
     "data": {
      "text/plain": [
       "{1, 2, 3, 4, 8, 'nitesh'}"
      ]
     },
     "execution_count": 52,
     "metadata": {},
     "output_type": "execute_result"
    }
   ],
   "source": [
    "s7"
   ]
  },
  {
   "cell_type": "code",
   "execution_count": 53,
   "id": "0d91680e-09ff-4114-9c4f-73f5fe47d1db",
   "metadata": {},
   "outputs": [
    {
     "data": {
      "text/plain": [
       "6"
      ]
     },
     "execution_count": 53,
     "metadata": {},
     "output_type": "execute_result"
    }
   ],
   "source": [
    "len(s7)"
   ]
  },
  {
   "cell_type": "code",
   "execution_count": 54,
   "id": "4e92700b-dfac-41cc-8927-20a01822bd54",
   "metadata": {},
   "outputs": [
    {
     "data": {
      "text/plain": [
       "1"
      ]
     },
     "execution_count": 54,
     "metadata": {},
     "output_type": "execute_result"
    }
   ],
   "source": [
    "s7.pop()"
   ]
  },
  {
   "cell_type": "code",
   "execution_count": 55,
   "id": "f368e079-b6c7-4102-b8b9-051a393e79fa",
   "metadata": {},
   "outputs": [
    {
     "data": {
      "text/plain": [
       "{2, 3, 4, 8, 'nitesh'}"
      ]
     },
     "execution_count": 55,
     "metadata": {},
     "output_type": "execute_result"
    }
   ],
   "source": [
    "s7"
   ]
  },
  {
   "cell_type": "code",
   "execution_count": 56,
   "id": "ccd12397-bfcf-4732-90db-d0eac3785de3",
   "metadata": {},
   "outputs": [
    {
     "data": {
      "text/plain": [
       "2"
      ]
     },
     "execution_count": 56,
     "metadata": {},
     "output_type": "execute_result"
    }
   ],
   "source": [
    "s7.pop()"
   ]
  },
  {
   "cell_type": "code",
   "execution_count": 57,
   "id": "7fea0142-9cd9-43a8-a88e-3ed953edaa20",
   "metadata": {},
   "outputs": [],
   "source": [
    "s7.clear()"
   ]
  },
  {
   "cell_type": "code",
   "execution_count": 58,
   "id": "482ada80-6927-4d7a-bfcb-9a863ccaa61e",
   "metadata": {},
   "outputs": [
    {
     "data": {
      "text/plain": [
       "set()"
      ]
     },
     "execution_count": 58,
     "metadata": {},
     "output_type": "execute_result"
    }
   ],
   "source": [
    "s7"
   ]
  },
  {
   "cell_type": "code",
   "execution_count": 64,
   "id": "a9698309-b342-4ce7-9be7-da0f7aa2abe1",
   "metadata": {},
   "outputs": [],
   "source": [
    "s8={1,2,3,4}\n",
    "s9={1,2,3,5}\n"
   ]
  },
  {
   "cell_type": "code",
   "execution_count": 65,
   "id": "9cc04b0a-2883-4b3d-993c-4d0b74b2c463",
   "metadata": {
    "tags": []
   },
   "outputs": [
    {
     "data": {
      "text/plain": [
       "{4}"
      ]
     },
     "execution_count": 65,
     "metadata": {},
     "output_type": "execute_result"
    }
   ],
   "source": [
    "s8.difference(s9)"
   ]
  },
  {
   "cell_type": "code",
   "execution_count": 66,
   "id": "1981d79c-32f6-45fa-aa86-03957ca576e7",
   "metadata": {},
   "outputs": [
    {
     "data": {
      "text/plain": [
       "{5}"
      ]
     },
     "execution_count": 66,
     "metadata": {},
     "output_type": "execute_result"
    }
   ],
   "source": [
    "s9.difference(s8)"
   ]
  },
  {
   "cell_type": "markdown",
   "id": "321b585f-f87a-4861-a2ad-22d43fce6c2e",
   "metadata": {},
   "source": [
    "# Dictionary"
   ]
  },
  {
   "cell_type": "code",
   "execution_count": 1,
   "id": "ed12561a-c14c-4682-81c2-183e6a81fb53",
   "metadata": {},
   "outputs": [],
   "source": [
    "d={}"
   ]
  },
  {
   "cell_type": "code",
   "execution_count": 3,
   "id": "2f878d62-fb8c-4447-bdc5-d9803be070ca",
   "metadata": {},
   "outputs": [
    {
     "data": {
      "text/plain": [
       "dict"
      ]
     },
     "execution_count": 3,
     "metadata": {},
     "output_type": "execute_result"
    }
   ],
   "source": [
    "type(d)"
   ]
  },
  {
   "cell_type": "code",
   "execution_count": 7,
   "id": "be1e40e1-7460-43ca-a8df-1a282b3a3f9d",
   "metadata": {},
   "outputs": [],
   "source": [
    "d1={\"name\":\"nitesh\",\"email_id\":\"nk@gmail.com\",\"number\": 123456}"
   ]
  },
  {
   "cell_type": "code",
   "execution_count": 8,
   "id": "12e0860f-0bc4-44e8-882f-11d13c496e71",
   "metadata": {},
   "outputs": [
    {
     "data": {
      "text/plain": [
       "dict"
      ]
     },
     "execution_count": 8,
     "metadata": {},
     "output_type": "execute_result"
    }
   ],
   "source": [
    "type(d1)"
   ]
  },
  {
   "cell_type": "code",
   "execution_count": 9,
   "id": "39d1d499-e809-4b26-b45c-cad7b42b1e52",
   "metadata": {},
   "outputs": [
    {
     "data": {
      "text/plain": [
       "{'name': 'nitesh', 'email_id': 'nk@gmail.com', 'number': 123456}"
      ]
     },
     "execution_count": 9,
     "metadata": {},
     "output_type": "execute_result"
    }
   ],
   "source": [
    "d1"
   ]
  },
  {
   "cell_type": "code",
   "execution_count": 10,
   "id": "ff50aac4-88c6-4d44-94ce-e51e6e62e60b",
   "metadata": {},
   "outputs": [],
   "source": [
    "d2={\"name\":\"nitesh\",\"name\":\"kumar\"}"
   ]
  },
  {
   "cell_type": "code",
   "execution_count": 11,
   "id": "197abf26-3412-40f6-8d5a-42769d3f640e",
   "metadata": {},
   "outputs": [
    {
     "data": {
      "text/plain": [
       "{'name': 'kumar'}"
      ]
     },
     "execution_count": 11,
     "metadata": {},
     "output_type": "execute_result"
    }
   ],
   "source": [
    "d2"
   ]
  },
  {
   "cell_type": "code",
   "execution_count": 12,
   "id": "5845e63e-a5d5-4e4d-8afd-2dce076c5905",
   "metadata": {},
   "outputs": [],
   "source": [
    "d3={1234:\"abcd\"}"
   ]
  },
  {
   "cell_type": "code",
   "execution_count": 13,
   "id": "0dd12a00-4b8d-4b73-a7f5-81c6f17ed52b",
   "metadata": {},
   "outputs": [
    {
     "data": {
      "text/plain": [
       "{1234: 'abcd'}"
      ]
     },
     "execution_count": 13,
     "metadata": {},
     "output_type": "execute_result"
    }
   ],
   "source": [
    "d3"
   ]
  },
  {
   "cell_type": "code",
   "execution_count": 14,
   "id": "1f9ba05b-3c32-47f6-ae37-82beb90da8f4",
   "metadata": {},
   "outputs": [],
   "source": [
    "d4={123.456:\"abcde\"}"
   ]
  },
  {
   "cell_type": "code",
   "execution_count": 17,
   "id": "25b9b0ee-19a3-4528-a52a-65208be394f9",
   "metadata": {},
   "outputs": [
    {
     "data": {
      "text/plain": [
       "{123.456: 'abcde'}"
      ]
     },
     "execution_count": 17,
     "metadata": {},
     "output_type": "execute_result"
    }
   ],
   "source": [
    "d4"
   ]
  },
  {
   "cell_type": "code",
   "execution_count": 20,
   "id": "2f6cd9b4-78a0-48dd-920d-3994f329289d",
   "metadata": {},
   "outputs": [],
   "source": [
    "d5={True:\"abcd\"}"
   ]
  },
  {
   "cell_type": "code",
   "execution_count": 21,
   "id": "ec8c3729-b283-49b0-b932-9321e2f3a9bb",
   "metadata": {},
   "outputs": [
    {
     "data": {
      "text/plain": [
       "{True: 'abcd'}"
      ]
     },
     "execution_count": 21,
     "metadata": {},
     "output_type": "execute_result"
    }
   ],
   "source": [
    "d5"
   ]
  },
  {
   "cell_type": "code",
   "execution_count": 22,
   "id": "753c27f1-5756-4351-9e5e-e8361d4d04ca",
   "metadata": {},
   "outputs": [
    {
     "ename": "SyntaxError",
     "evalue": "invalid syntax (1832223963.py, line 1)",
     "output_type": "error",
     "traceback": [
      "\u001b[0;36m  Cell \u001b[0;32mIn[22], line 1\u001b[0;36m\u001b[0m\n\u001b[0;31m    d6={@:\"abcd\"}\u001b[0m\n\u001b[0m        ^\u001b[0m\n\u001b[0;31mSyntaxError\u001b[0m\u001b[0;31m:\u001b[0m invalid syntax\n"
     ]
    }
   ],
   "source": [
    "d6={@:\"abcd\"} # special character can not used as key"
   ]
  },
  {
   "cell_type": "code",
   "execution_count": 23,
   "id": "a7c5ea33-905f-478b-9882-fe1cdf2e83a4",
   "metadata": {},
   "outputs": [
    {
     "ename": "TypeError",
     "evalue": "unhashable type: 'list'",
     "output_type": "error",
     "traceback": [
      "\u001b[0;31m---------------------------------------------------------------------------\u001b[0m",
      "\u001b[0;31mTypeError\u001b[0m                                 Traceback (most recent call last)",
      "Cell \u001b[0;32mIn[23], line 1\u001b[0m\n\u001b[0;32m----> 1\u001b[0m d7\u001b[38;5;241m=\u001b[39m{[\u001b[38;5;241m1\u001b[39m,\u001b[38;5;241m2\u001b[39m,\u001b[38;5;241m3\u001b[39m]:\u001b[38;5;124m\"\u001b[39m\u001b[38;5;124mabcd\u001b[39m\u001b[38;5;124m\"\u001b[39m}\n",
      "\u001b[0;31mTypeError\u001b[0m: unhashable type: 'list'"
     ]
    }
   ],
   "source": [
    "d7={[1,2,3]:\"abcd\"} # list can not be used as a key"
   ]
  },
  {
   "cell_type": "code",
   "execution_count": 24,
   "id": "3695a5f9-50ff-44e2-a8ac-89797f2825e3",
   "metadata": {},
   "outputs": [],
   "source": [
    "d8={(1,2,3):\"abcd\"} # tuple can behave as a key"
   ]
  },
  {
   "cell_type": "code",
   "execution_count": 25,
   "id": "5ab1dae2-d473-448e-8c2a-af72f2f1a92a",
   "metadata": {},
   "outputs": [
    {
     "data": {
      "text/plain": [
       "{(1, 2, 3): 'abcd'}"
      ]
     },
     "execution_count": 25,
     "metadata": {},
     "output_type": "execute_result"
    }
   ],
   "source": [
    "d8"
   ]
  },
  {
   "cell_type": "code",
   "execution_count": 26,
   "id": "b128b327-f33f-4f07-942c-324e06bece88",
   "metadata": {},
   "outputs": [
    {
     "ename": "TypeError",
     "evalue": "unhashable type: 'set'",
     "output_type": "error",
     "traceback": [
      "\u001b[0;31m---------------------------------------------------------------------------\u001b[0m",
      "\u001b[0;31mTypeError\u001b[0m                                 Traceback (most recent call last)",
      "Cell \u001b[0;32mIn[26], line 1\u001b[0m\n\u001b[0;32m----> 1\u001b[0m d9\u001b[38;5;241m=\u001b[39m{{\u001b[38;5;241m1\u001b[39m,\u001b[38;5;241m2\u001b[39m,\u001b[38;5;241m3\u001b[39m}:\u001b[38;5;124m\"\u001b[39m\u001b[38;5;124mabcd\u001b[39m\u001b[38;5;124m\"\u001b[39m}\n",
      "\u001b[0;31mTypeError\u001b[0m: unhashable type: 'set'"
     ]
    }
   ],
   "source": [
    "d9={{1,2,3}:\"abcd\"} # sets cannot used as a key"
   ]
  },
  {
   "cell_type": "code",
   "execution_count": 27,
   "id": "5ef0fa13-8666-4368-99e8-57cfa112c0c8",
   "metadata": {},
   "outputs": [
    {
     "ename": "TypeError",
     "evalue": "unhashable type: 'dict'",
     "output_type": "error",
     "traceback": [
      "\u001b[0;31m---------------------------------------------------------------------------\u001b[0m",
      "\u001b[0;31mTypeError\u001b[0m                                 Traceback (most recent call last)",
      "Cell \u001b[0;32mIn[27], line 1\u001b[0m\n\u001b[0;32m----> 1\u001b[0m d10\u001b[38;5;241m=\u001b[39m{{\u001b[38;5;124m\"\u001b[39m\u001b[38;5;124mkey\u001b[39m\u001b[38;5;124m\"\u001b[39m:\u001b[38;5;241m1234\u001b[39m}:\u001b[38;5;124m\"\u001b[39m\u001b[38;5;124mabcd\u001b[39m\u001b[38;5;124m\"\u001b[39m}\n",
      "\u001b[0;31mTypeError\u001b[0m: unhashable type: 'dict'"
     ]
    }
   ],
   "source": [
    "d10={{\"key\":1234}:\"abcd\"} # dictionary can not used as a key"
   ]
  },
  {
   "cell_type": "code",
   "execution_count": 28,
   "id": "9afac7f4-cf28-4fa2-b754-6e090bbe7472",
   "metadata": {},
   "outputs": [],
   "source": [
    "d11={\"course_name\": [\"data\",\"science\",\"master\"]} # list is allowed to use as a value"
   ]
  },
  {
   "cell_type": "code",
   "execution_count": 29,
   "id": "f8111463-4cad-48bd-b285-d49bd12f9a6a",
   "metadata": {},
   "outputs": [
    {
     "data": {
      "text/plain": [
       "{'course_name': ['data', 'science', 'master']}"
      ]
     },
     "execution_count": 29,
     "metadata": {},
     "output_type": "execute_result"
    }
   ],
   "source": [
    "d11"
   ]
  },
  {
   "cell_type": "code",
   "execution_count": 30,
   "id": "14048d04-d384-4fdc-9437-fc5258643ae9",
   "metadata": {},
   "outputs": [],
   "source": [
    "d12={\"key\":(1,2,3)} # tuple can used as a tuple"
   ]
  },
  {
   "cell_type": "code",
   "execution_count": 31,
   "id": "c40a57cf-fa8a-41f8-8b86-858ed85973e2",
   "metadata": {},
   "outputs": [
    {
     "data": {
      "text/plain": [
       "{'key': (1, 2, 3)}"
      ]
     },
     "execution_count": 31,
     "metadata": {},
     "output_type": "execute_result"
    }
   ],
   "source": [
    "d12"
   ]
  },
  {
   "cell_type": "code",
   "execution_count": 32,
   "id": "6b620917-dd12-4604-ad69-c5d960aa05f9",
   "metadata": {},
   "outputs": [],
   "source": [
    "d13={\"key\": {1,2,3}} # sets can used as a value"
   ]
  },
  {
   "cell_type": "code",
   "execution_count": 33,
   "id": "7cecc916-771b-4da1-a227-e3431644402d",
   "metadata": {},
   "outputs": [
    {
     "data": {
      "text/plain": [
       "{'key': {1, 2, 3}}"
      ]
     },
     "execution_count": 33,
     "metadata": {},
     "output_type": "execute_result"
    }
   ],
   "source": [
    "d13"
   ]
  },
  {
   "cell_type": "code",
   "execution_count": 34,
   "id": "b7d5cd45-9881-4ec2-902e-dd9054889946",
   "metadata": {},
   "outputs": [],
   "source": [
    "d14={\"key\":{\"name\":\"nitesh\",\"class\":12}} # dictionary can be used as value # so dictionary in the dictionary is called \"Nested Dictionary\""
   ]
  },
  {
   "cell_type": "code",
   "execution_count": 35,
   "id": "e57f5d2d-c02f-42fe-87a9-84723db51f49",
   "metadata": {},
   "outputs": [
    {
     "data": {
      "text/plain": [
       "{'key': {'name': 'nitesh', 'class': 12}}"
      ]
     },
     "execution_count": 35,
     "metadata": {},
     "output_type": "execute_result"
    }
   ],
   "source": [
    "d14"
   ]
  },
  {
   "cell_type": "code",
   "execution_count": 38,
   "id": "133445fd-6909-47ae-9f9b-a4ce6a54df58",
   "metadata": {},
   "outputs": [],
   "source": [
    "d15={\"batch_name\":[\"data_science\",\"java\",\"python\"],\"startdate\":(12,14.19),\"mentor_name\":{\"krish\",\"sudhansu\",\"nitesh\",\"rahul\",\"devendra\"}}"
   ]
  },
  {
   "cell_type": "code",
   "execution_count": 39,
   "id": "b5624e92-cb7e-4502-817e-c14b86f9ea3e",
   "metadata": {},
   "outputs": [
    {
     "data": {
      "text/plain": [
       "{'batch_name': ['data_science', 'java', 'python'],\n",
       " 'startdate': (12, 14.19),\n",
       " 'mentor_name': {'devendra', 'krish', 'nitesh', 'rahul', 'sudhansu'}}"
      ]
     },
     "execution_count": 39,
     "metadata": {},
     "output_type": "execute_result"
    }
   ],
   "source": [
    "d15"
   ]
  },
  {
   "cell_type": "code",
   "execution_count": 41,
   "id": "4ec5f62c-f2c5-40b0-a746-bda292bdd082",
   "metadata": {},
   "outputs": [],
   "source": [
    "d15[\"timing\"]=(8,8,8) # we can add new key and value in the dictionary"
   ]
  },
  {
   "cell_type": "code",
   "execution_count": 42,
   "id": "b7197b2a-97b7-4fdc-bfa4-9ad57b947ee7",
   "metadata": {},
   "outputs": [
    {
     "data": {
      "text/plain": [
       "{'batch_name': ['data_science', 'java', 'python'],\n",
       " 'startdate': (12, 14.19),\n",
       " 'mentor_name': {'devendra', 'krish', 'nitesh', 'rahul', 'sudhansu'},\n",
       " 'timing': (8, 8, 8)}"
      ]
     },
     "execution_count": 42,
     "metadata": {},
     "output_type": "execute_result"
    }
   ],
   "source": [
    "d15"
   ]
  },
  {
   "cell_type": "code",
   "execution_count": 46,
   "id": "10037a7f-810f-4767-96c6-0c946ad852bd",
   "metadata": {},
   "outputs": [
    {
     "data": {
      "text/plain": [
       "(12, 14.19)"
      ]
     },
     "execution_count": 46,
     "metadata": {},
     "output_type": "execute_result"
    }
   ],
   "source": [
    "d15[\"startdate\"] # Data extract process"
   ]
  },
  {
   "cell_type": "code",
   "execution_count": 47,
   "id": "44674558-88b8-45fc-991f-c193368f474c",
   "metadata": {},
   "outputs": [],
   "source": [
    "d15[\"name\"]=\"Nitesh\""
   ]
  },
  {
   "cell_type": "code",
   "execution_count": 48,
   "id": "d89d013d-a274-4ddf-bb75-1ebbd2e989ec",
   "metadata": {},
   "outputs": [
    {
     "data": {
      "text/plain": [
       "{'batch_name': ['data_science', 'java', 'python'],\n",
       " 'startdate': (12, 14.19),\n",
       " 'mentor_name': {'devendra', 'krish', 'nitesh', 'rahul', 'sudhansu'},\n",
       " 'timing': (8, 8, 8),\n",
       " 'name': 'Nitesh'}"
      ]
     },
     "execution_count": 48,
     "metadata": {},
     "output_type": "execute_result"
    }
   ],
   "source": [
    "d15"
   ]
  },
  {
   "cell_type": "code",
   "execution_count": 49,
   "id": "f1e1137f-922b-452d-b78e-99fbbe923f6f",
   "metadata": {},
   "outputs": [
    {
     "data": {
      "text/plain": [
       "'Nitesh'"
      ]
     },
     "execution_count": 49,
     "metadata": {},
     "output_type": "execute_result"
    }
   ],
   "source": [
    "d15[\"name\"]"
   ]
  },
  {
   "cell_type": "code",
   "execution_count": 51,
   "id": "1ed03d99-046c-48cd-a54b-b8cbccc42b0c",
   "metadata": {},
   "outputs": [
    {
     "data": {
      "text/plain": [
       "'NITESH'"
      ]
     },
     "execution_count": 51,
     "metadata": {},
     "output_type": "execute_result"
    }
   ],
   "source": [
    "d15[\"name\"].upper()"
   ]
  },
  {
   "cell_type": "code",
   "execution_count": 52,
   "id": "1ef45e66-d90a-43a3-9fa7-8db127c055b3",
   "metadata": {},
   "outputs": [
    {
     "data": {
      "text/plain": [
       "{'key': {'name': 'nitesh', 'class': 12}}"
      ]
     },
     "execution_count": 52,
     "metadata": {},
     "output_type": "execute_result"
    }
   ],
   "source": [
    "d14"
   ]
  },
  {
   "cell_type": "code",
   "execution_count": 55,
   "id": "5feea1d1-61ae-4a2e-8d6e-31b9fb8c292e",
   "metadata": {},
   "outputs": [
    {
     "data": {
      "text/plain": [
       "{'name': 'nitesh', 'class': 12}"
      ]
     },
     "execution_count": 55,
     "metadata": {},
     "output_type": "execute_result"
    }
   ],
   "source": [
    "d14[\"key\"]"
   ]
  },
  {
   "cell_type": "code",
   "execution_count": 56,
   "id": "779ce75f-8c2b-4c63-953a-b1af30878aeb",
   "metadata": {},
   "outputs": [
    {
     "data": {
      "text/plain": [
       "dict"
      ]
     },
     "execution_count": 56,
     "metadata": {},
     "output_type": "execute_result"
    }
   ],
   "source": [
    "type (d14[\"key\"])"
   ]
  },
  {
   "cell_type": "code",
   "execution_count": 57,
   "id": "b986fd93-faec-4c25-a88c-2aec654ce1f9",
   "metadata": {},
   "outputs": [
    {
     "data": {
      "text/plain": [
       "12"
      ]
     },
     "execution_count": 57,
     "metadata": {},
     "output_type": "execute_result"
    }
   ],
   "source": [
    "d14[\"key\"][\"class\"]"
   ]
  },
  {
   "cell_type": "code",
   "execution_count": 58,
   "id": "14466196-d793-4922-8d3a-73b2237de272",
   "metadata": {},
   "outputs": [],
   "source": [
    "d14[\"key1\"]=\"abcd\""
   ]
  },
  {
   "cell_type": "code",
   "execution_count": 59,
   "id": "da41c50b-d986-45b9-9ccb-173b8e4a5e6a",
   "metadata": {},
   "outputs": [
    {
     "data": {
      "text/plain": [
       "{'key': {'name': 'nitesh', 'class': 12}}"
      ]
     },
     "execution_count": 64,
     "metadata": {},
     "output_type": "execute_result"
    }
   ],
   "source": [
    "d14"
   ]
  },
  {
   "cell_type": "code",
   "execution_count": 65,
   "id": "189a5d29-47d9-4192-b056-6cc7dd782f72",
   "metadata": {},
   "outputs": [],
   "source": [
    "d14[\"key1\"]=\"abcd\" # add new key"
   ]
  },
  {
   "cell_type": "code",
   "execution_count": 66,
   "id": "29301789-1749-4e7a-bbea-6489299a9368",
   "metadata": {},
   "outputs": [
    {
     "data": {
      "text/plain": [
       "{'key': {'name': 'nitesh', 'class': 12}, 'key1': 'abcd'}"
      ]
     },
     "execution_count": 66,
     "metadata": {},
     "output_type": "execute_result"
    }
   ],
   "source": [
    "d14"
   ]
  },
  {
   "cell_type": "code",
   "execution_count": 69,
   "id": "85021de8-58ed-4c31-9a6b-1480d23a6c4c",
   "metadata": {},
   "outputs": [],
   "source": [
    "del d14[\"key1\"] # delete key"
   ]
  },
  {
   "cell_type": "code",
   "execution_count": 70,
   "id": "670cef03-8065-4090-8e77-cf7ec971e0ca",
   "metadata": {},
   "outputs": [
    {
     "data": {
      "text/plain": [
       "{'key': {'name': 'nitesh', 'class': 12}}"
      ]
     },
     "execution_count": 70,
     "metadata": {},
     "output_type": "execute_result"
    }
   ],
   "source": [
    "d14"
   ]
  },
  {
   "cell_type": "code",
   "execution_count": 71,
   "id": "d53d6193-f101-43a5-af73-2f37a576c72d",
   "metadata": {},
   "outputs": [],
   "source": [
    "d15.clear()"
   ]
  },
  {
   "cell_type": "code",
   "execution_count": 72,
   "id": "91cf888a-9e0f-4338-9a0f-0ab5b4708b0b",
   "metadata": {},
   "outputs": [
    {
     "data": {
      "text/plain": [
       "{}"
      ]
     },
     "execution_count": 72,
     "metadata": {},
     "output_type": "execute_result"
    }
   ],
   "source": [
    "d15"
   ]
  },
  {
   "cell_type": "code",
   "execution_count": 75,
   "id": "f1b0cb81-7277-4a41-a34d-f2777ab77705",
   "metadata": {},
   "outputs": [],
   "source": [
    "d15={\"batch_name\":[\"data_science\",\"java\",\"python\"],\"startdate\":(12,14.19),\"mentor_name\":{\"krish\",\"sudhansu\",\"nitesh\",\"rahul\",\"devendra\"}}"
   ]
  },
  {
   "cell_type": "code",
   "execution_count": 76,
   "id": "868b095d-75bc-4f24-9402-2b9516bf852f",
   "metadata": {},
   "outputs": [
    {
     "data": {
      "text/plain": [
       "{'batch_name': ['data_science', 'java', 'python'],\n",
       " 'startdate': (12, 14.19),\n",
       " 'mentor_name': {'devendra', 'krish', 'nitesh', 'rahul', 'sudhansu'}}"
      ]
     },
     "execution_count": 76,
     "metadata": {},
     "output_type": "execute_result"
    }
   ],
   "source": [
    "d15"
   ]
  },
  {
   "cell_type": "code",
   "execution_count": 77,
   "id": "c06ae8e2-759b-45a1-a9cb-fe937ec4d81b",
   "metadata": {},
   "outputs": [
    {
     "data": {
      "text/plain": [
       "3"
      ]
     },
     "execution_count": 77,
     "metadata": {},
     "output_type": "execute_result"
    }
   ],
   "source": [
    "len(d15) # find out no. of key"
   ]
  },
  {
   "cell_type": "code",
   "execution_count": 83,
   "id": "90a1a137-ced5-4683-9a82-eaf17998b4f9",
   "metadata": {},
   "outputs": [
    {
     "data": {
      "text/plain": [
       "dict_keys(['batch_name', 'startdate', 'mentor_name'])"
      ]
     },
     "execution_count": 83,
     "metadata": {},
     "output_type": "execute_result"
    }
   ],
   "source": [
    "d15.keys() # To find out key available in dictionary"
   ]
  },
  {
   "cell_type": "code",
   "execution_count": 84,
   "id": "b6dce5de-db8e-4ce9-a123-ec95c931142d",
   "metadata": {},
   "outputs": [
    {
     "data": {
      "text/plain": [
       "dict_values([['data_science', 'java', 'python'], (12, 14.19), {'krish', 'sudhansu', 'devendra', 'rahul', 'nitesh'}])"
      ]
     },
     "execution_count": 84,
     "metadata": {},
     "output_type": "execute_result"
    }
   ],
   "source": [
    "d15.values() # To find out all values available in dictionary"
   ]
  },
  {
   "cell_type": "code",
   "execution_count": 85,
   "id": "9285983d-13f4-466d-8521-6d95b3dc7461",
   "metadata": {},
   "outputs": [
    {
     "data": {
      "text/plain": [
       "[['data_science', 'java', 'python'],\n",
       " (12, 14.19),\n",
       " {'devendra', 'krish', 'nitesh', 'rahul', 'sudhansu'}]"
      ]
     },
     "execution_count": 85,
     "metadata": {},
     "output_type": "execute_result"
    }
   ],
   "source": [
    "list(d15.values()) # For listing the value"
   ]
  },
  {
   "cell_type": "code",
   "execution_count": 86,
   "id": "3e38437c-0af5-4758-bbc7-4261458a4473",
   "metadata": {},
   "outputs": [
    {
     "data": {
      "text/plain": [
       "['batch_name', 'startdate', 'mentor_name']"
      ]
     },
     "execution_count": 86,
     "metadata": {},
     "output_type": "execute_result"
    }
   ],
   "source": [
    "list(d15.keys()) # for listing the keys"
   ]
  },
  {
   "cell_type": "code",
   "execution_count": 22,
   "id": "95dd4d1b-11a6-4dd0-bf9a-bc362750e566",
   "metadata": {},
   "outputs": [],
   "source": [
    "d15={\"batch_name\":[\"data_science\",\"java\",\"python\"],\"startdate\":(12,14.19),\"mentor_name\":{\"krish\",\"sudhansu\",\"nitesh\",\"rahul\",\"devendra\"}}"
   ]
  },
  {
   "cell_type": "code",
   "execution_count": 23,
   "id": "96ecc350-49bf-4687-909b-332bb23f1e7a",
   "metadata": {},
   "outputs": [
    {
     "data": {
      "text/plain": [
       "{'batch_name': ['data_science', 'java', 'python'],\n",
       " 'startdate': (12, 14.19),\n",
       " 'mentor_name': {'devendra', 'krish', 'nitesh', 'rahul', 'sudhansu'}}"
      ]
     },
     "execution_count": 23,
     "metadata": {},
     "output_type": "execute_result"
    }
   ],
   "source": [
    "d15"
   ]
  },
  {
   "cell_type": "code",
   "execution_count": 24,
   "id": "9350cae1-c0f2-4e35-a00c-89daab8e215e",
   "metadata": {},
   "outputs": [
    {
     "data": {
      "text/plain": [
       "dict_items([('batch_name', ['data_science', 'java', 'python']), ('startdate', (12, 14.19)), ('mentor_name', {'devendra', 'krish', 'sudhansu', 'rahul', 'nitesh'})])"
      ]
     },
     "execution_count": 24,
     "metadata": {},
     "output_type": "execute_result"
    }
   ],
   "source": [
    "d15.items() # To find out all items i.e. both values and keys available in dictionary"
   ]
  },
  {
   "cell_type": "code",
   "execution_count": 25,
   "id": "0d9ee656-04f5-402b-b718-123de6f249df",
   "metadata": {},
   "outputs": [
    {
     "data": {
      "text/plain": [
       "[('batch_name', ['data_science', 'java', 'python']),\n",
       " ('startdate', (12, 14.19)),\n",
       " ('mentor_name', {'devendra', 'krish', 'nitesh', 'rahul', 'sudhansu'})]"
      ]
     },
     "execution_count": 25,
     "metadata": {},
     "output_type": "execute_result"
    }
   ],
   "source": [
    "list(d15.items()) # For listing all items i.e. both values and keys available in dictionary"
   ]
  },
  {
   "cell_type": "code",
   "execution_count": 26,
   "id": "f1e5c932-af73-4e6c-92b1-8ae5bea66eec",
   "metadata": {},
   "outputs": [],
   "source": [
    "d16=d15.copy() # copy in different memory so change in d15 not effect on d16"
   ]
  },
  {
   "cell_type": "code",
   "execution_count": 27,
   "id": "d37913a0-26f7-487c-b5dc-b9833b5a0542",
   "metadata": {},
   "outputs": [
    {
     "data": {
      "text/plain": [
       "{'batch_name': ['data_science', 'java', 'python'],\n",
       " 'startdate': (12, 14.19),\n",
       " 'mentor_name': {'devendra', 'krish', 'nitesh', 'rahul', 'sudhansu'}}"
      ]
     },
     "execution_count": 27,
     "metadata": {},
     "output_type": "execute_result"
    }
   ],
   "source": [
    "d16"
   ]
  },
  {
   "cell_type": "code",
   "execution_count": 30,
   "id": "8d066044-0697-45be-a6cb-dc0f32b0bfdb",
   "metadata": {},
   "outputs": [],
   "source": [
    "del d15[\"mentor_name\"]"
   ]
  },
  {
   "cell_type": "code",
   "execution_count": 31,
   "id": "867ea259-52b4-415b-9d26-30f058b1acb2",
   "metadata": {},
   "outputs": [
    {
     "data": {
      "text/plain": [
       "{'batch_name': ['data_science', 'java', 'python'],\n",
       " 'startdate': (12, 14.19),\n",
       " 'mentor_name': {'devendra', 'krish', 'nitesh', 'rahul', 'sudhansu'}}"
      ]
     },
     "execution_count": 31,
     "metadata": {},
     "output_type": "execute_result"
    }
   ],
   "source": [
    "d16 # not effect in d16 after changes in d15"
   ]
  },
  {
   "cell_type": "code",
   "execution_count": 28,
   "id": "863ebf3c-b64e-401e-a37e-dc9a046c0f34",
   "metadata": {},
   "outputs": [],
   "source": [
    "d17=d15 #copy in same memory so change in d15 effect on d16"
   ]
  },
  {
   "cell_type": "code",
   "execution_count": 29,
   "id": "12594192-9a1b-40e0-88d7-2bb791f14634",
   "metadata": {},
   "outputs": [
    {
     "data": {
      "text/plain": [
       "{'batch_name': ['data_science', 'java', 'python'],\n",
       " 'startdate': (12, 14.19),\n",
       " 'mentor_name': {'devendra', 'krish', 'nitesh', 'rahul', 'sudhansu'}}"
      ]
     },
     "execution_count": 29,
     "metadata": {},
     "output_type": "execute_result"
    }
   ],
   "source": [
    "d17"
   ]
  },
  {
   "cell_type": "code",
   "execution_count": 32,
   "id": "ee758ab2-d8d6-4d0d-a923-5145281189ee",
   "metadata": {},
   "outputs": [
    {
     "data": {
      "text/plain": [
       "{'batch_name': ['data_science', 'java', 'python'], 'startdate': (12, 14.19)}"
      ]
     },
     "execution_count": 32,
     "metadata": {},
     "output_type": "execute_result"
    }
   ],
   "source": [
    "d17 # effect in d17 after change in d15"
   ]
  },
  {
   "cell_type": "code",
   "execution_count": 33,
   "id": "fff40f71-aa8f-476d-921f-8473b879428b",
   "metadata": {},
   "outputs": [
    {
     "data": {
      "text/plain": [
       "{'batch_name': ['data_science', 'java', 'python'],\n",
       " 'startdate': (12, 14.19),\n",
       " 'mentor_name': {'devendra', 'krish', 'nitesh', 'rahul', 'sudhansu'}}"
      ]
     },
     "execution_count": 33,
     "metadata": {},
     "output_type": "execute_result"
    }
   ],
   "source": [
    "d16"
   ]
  },
  {
   "cell_type": "code",
   "execution_count": 34,
   "id": "0f8f55c6-b5c9-4cfc-ba29-9f4c5395b624",
   "metadata": {},
   "outputs": [
    {
     "ename": "TypeError",
     "evalue": "pop expected at least 1 argument, got 0",
     "output_type": "error",
     "traceback": [
      "\u001b[0;31m---------------------------------------------------------------------------\u001b[0m",
      "\u001b[0;31mTypeError\u001b[0m                                 Traceback (most recent call last)",
      "Cell \u001b[0;32mIn[34], line 1\u001b[0m\n\u001b[0;32m----> 1\u001b[0m \u001b[43md16\u001b[49m\u001b[38;5;241;43m.\u001b[39;49m\u001b[43mpop\u001b[49m\u001b[43m(\u001b[49m\u001b[43m)\u001b[49m\n",
      "\u001b[0;31mTypeError\u001b[0m: pop expected at least 1 argument, got 0"
     ]
    }
   ],
   "source": [
    "d16.pop() # In the case of list pop not required any argument. But in dictionary argument required"
   ]
  },
  {
   "cell_type": "code",
   "execution_count": 41,
   "id": "bb124ca3-1a13-45ab-8963-417424990629",
   "metadata": {},
   "outputs": [
    {
     "data": {
      "text/plain": [
       "{'devendra', 'krish', 'nitesh', 'rahul', 'sudhansu'}"
      ]
     },
     "execution_count": 41,
     "metadata": {},
     "output_type": "execute_result"
    }
   ],
   "source": [
    "d16.pop(\"mentor_name\")"
   ]
  },
  {
   "cell_type": "code",
   "execution_count": 42,
   "id": "3e1c60eb-69fc-414d-9ab6-4895c51a156e",
   "metadata": {},
   "outputs": [
    {
     "data": {
      "text/plain": [
       "{'batch_name': ['data_science', 'java', 'python']}"
      ]
     },
     "execution_count": 42,
     "metadata": {},
     "output_type": "execute_result"
    }
   ],
   "source": [
    "d16 # already previous we deleted startdate so output is below:"
   ]
  },
  {
   "cell_type": "code",
   "execution_count": 53,
   "id": "5e6d6a74-6bd0-4d61-a848-f8942a4e2982",
   "metadata": {},
   "outputs": [
    {
     "data": {
      "text/plain": [
       "{1: ('a', 'b', 'c'), 2: ('a', 'b', 'c'), 3: ('a', 'b', 'c')}"
      ]
     },
     "execution_count": 53,
     "metadata": {},
     "output_type": "execute_result"
    }
   ],
   "source": [
    "d16.fromkeys((1,2,3),(\"a\",\"b\",\"c\")) # 1,2,3 consider as keys and a,b,c consider as values"
   ]
  },
  {
   "cell_type": "code",
   "execution_count": 54,
   "id": "df19f8e2-7998-4be3-aa62-55b57d7dd00e",
   "metadata": {},
   "outputs": [],
   "source": [
    "d17={\"keys1\":\"values1\",\"keys2\":\"values2\"}\n",
    "d18={\"keys3\":\"values\",\"keys4\":\"values4\"}"
   ]
  },
  {
   "cell_type": "code",
   "execution_count": 55,
   "id": "71ee4eca-e595-4e3c-a4e2-d9de7432af23",
   "metadata": {},
   "outputs": [
    {
     "data": {
      "text/plain": [
       "({'keys1': 'values1', 'keys2': 'values2'},\n",
       " {'keys3': 'values', 'keys4': 'values4'})"
      ]
     },
     "execution_count": 55,
     "metadata": {},
     "output_type": "execute_result"
    }
   ],
   "source": [
    "(d17,d18) #dictionary inside tuple is possible"
   ]
  },
  {
   "cell_type": "code",
   "execution_count": 57,
   "id": "17a39288-0f59-401e-8f6e-1637571a1524",
   "metadata": {},
   "outputs": [],
   "source": [
    "d17.update(d18)"
   ]
  },
  {
   "cell_type": "code",
   "execution_count": 58,
   "id": "d0b8e3d0-d82a-44c6-9acb-a89bf7cf0541",
   "metadata": {},
   "outputs": [
    {
     "data": {
      "text/plain": [
       "{'keys1': 'values1', 'keys2': 'values2', 'keys3': 'values', 'keys4': 'values4'}"
      ]
     },
     "execution_count": 58,
     "metadata": {},
     "output_type": "execute_result"
    }
   ],
   "source": [
    "d17\n"
   ]
  },
  {
   "cell_type": "code",
   "execution_count": 62,
   "id": "66fcb2c5-7042-430a-adb4-6520d36e6d5b",
   "metadata": {},
   "outputs": [],
   "source": [
    "d18.update(d17)"
   ]
  },
  {
   "cell_type": "code",
   "execution_count": 63,
   "id": "ee56a265-88e6-44e4-87de-eeaa0291aebf",
   "metadata": {},
   "outputs": [
    {
     "data": {
      "text/plain": [
       "{'keys3': 'values', 'keys4': 'values4', 'keys1': 'values1', 'keys2': 'values2'}"
      ]
     },
     "execution_count": 63,
     "metadata": {},
     "output_type": "execute_result"
    }
   ],
   "source": [
    "d18"
   ]
  },
  {
   "cell_type": "code",
   "execution_count": 64,
   "id": "439cf05d-2fef-4051-9119-5379e640f7b6",
   "metadata": {},
   "outputs": [],
   "source": [
    "d18.get(\"nitesh\") # output not get any error after fetching"
   ]
  },
  {
   "cell_type": "code",
   "execution_count": 65,
   "id": "359b09f5-e839-4f9f-914a-a0e25b9717b5",
   "metadata": {},
   "outputs": [
    {
     "data": {
      "text/plain": [
       "'values2'"
      ]
     },
     "execution_count": 65,
     "metadata": {},
     "output_type": "execute_result"
    }
   ],
   "source": [
    "d18.get(\"keys2\")"
   ]
  },
  {
   "cell_type": "code",
   "execution_count": null,
   "id": "dc979fed-2548-449d-a961-419c5d2a6e4a",
   "metadata": {},
   "outputs": [],
   "source": [
    "#Another way"
   ]
  },
  {
   "cell_type": "code",
   "execution_count": 66,
   "id": "c64e9b1e-d48b-480a-91b3-877053902069",
   "metadata": {},
   "outputs": [
    {
     "data": {
      "text/plain": [
       "'values2'"
      ]
     },
     "execution_count": 66,
     "metadata": {},
     "output_type": "execute_result"
    }
   ],
   "source": [
    "d18[\"keys2\"]"
   ]
  },
  {
   "cell_type": "code",
   "execution_count": 67,
   "id": "8bcc147f-2b45-4e0f-8187-71e1763e4798",
   "metadata": {},
   "outputs": [
    {
     "ename": "KeyError",
     "evalue": "'nitesh'",
     "output_type": "error",
     "traceback": [
      "\u001b[0;31m---------------------------------------------------------------------------\u001b[0m",
      "\u001b[0;31mKeyError\u001b[0m                                  Traceback (most recent call last)",
      "Cell \u001b[0;32mIn[67], line 1\u001b[0m\n\u001b[0;32m----> 1\u001b[0m \u001b[43md18\u001b[49m\u001b[43m[\u001b[49m\u001b[38;5;124;43m\"\u001b[39;49m\u001b[38;5;124;43mnitesh\u001b[39;49m\u001b[38;5;124;43m\"\u001b[39;49m\u001b[43m]\u001b[49m\n",
      "\u001b[0;31mKeyError\u001b[0m: 'nitesh'"
     ]
    }
   ],
   "source": [
    "d18[\"nitesh\"] # output getting a error after fetching. This is the only difftence between get function and without get function."
   ]
  },
  {
   "cell_type": "markdown",
   "id": "695ad781-98cc-4b75-9bce-dab012e32ec2",
   "metadata": {},
   "source": [
    "#### Dictionary comrehension"
   ]
  },
  {
   "cell_type": "code",
   "execution_count": 70,
   "id": "a6413e06-67a6-4c05-b2ad-5f5ed896bad0",
   "metadata": {},
   "outputs": [
    {
     "data": {
      "text/plain": [
       "{1: 1, 2: 4, 3: 9, 4: 16, 5: 25, 6: 36, 7: 49, 8: 64, 9: 81, 10: 100}"
      ]
     },
     "execution_count": 70,
     "metadata": {},
     "output_type": "execute_result"
    }
   ],
   "source": [
    "{i : i**2 for i in range(1,11)} # generated a dictionary that give all square values of keys"
   ]
  },
  {
   "cell_type": "code",
   "execution_count": 69,
   "id": "29350308-7b46-4218-9518-a74c051c6682",
   "metadata": {},
   "outputs": [
    {
     "data": {
      "text/plain": [
       "[1, 2, 3, 4, 5, 6, 7, 8, 9, 10]"
      ]
     },
     "execution_count": 69,
     "metadata": {},
     "output_type": "execute_result"
    }
   ],
   "source": [
    "list(range(1,11))"
   ]
  },
  {
   "cell_type": "code",
   "execution_count": 71,
   "id": "76236f4b-09ac-4e28-b57e-16bdea167095",
   "metadata": {},
   "outputs": [
    {
     "data": {
      "text/plain": [
       "{1: 6, 2: 7, 3: 8, 4: 9, 5: 10, 6: 11, 7: 12, 8: 13, 9: 14, 10: 15}"
      ]
     },
     "execution_count": 71,
     "metadata": {},
     "output_type": "execute_result"
    }
   ],
   "source": [
    "{i : i+5 for i in range(1,11)}"
   ]
  },
  {
   "cell_type": "code",
   "execution_count": 78,
   "id": "b2bae894-35d4-48a8-986f-ac38a796b901",
   "metadata": {},
   "outputs": [
    {
     "data": {
      "text/plain": [
       "{1: 0.0,\n",
       " 2: 0.3010299956639812,\n",
       " 3: 0.47712125471966244,\n",
       " 4: 0.6020599913279624,\n",
       " 5: 0.6989700043360189,\n",
       " 6: 0.7781512503836436,\n",
       " 7: 0.8450980400142568,\n",
       " 8: 0.9030899869919435,\n",
       " 9: 0.9542425094393249,\n",
       " 10: 1.0}"
      ]
     },
     "execution_count": 78,
     "metadata": {},
     "output_type": "execute_result"
    }
   ],
   "source": [
    "import math\n",
    "{i : math.log10(i) for i in range(1,11)} # Perform ogrithmic function in values"
   ]
  },
  {
   "cell_type": "code",
   "execution_count": 74,
   "id": "e9da8d83-da09-4129-9ff8-329507f811cc",
   "metadata": {},
   "outputs": [
    {
     "data": {
      "text/plain": [
       "{'batch_name': ['data_science', 'java', 'python'], 'startdate': (12, 14.19)}"
      ]
     },
     "execution_count": 74,
     "metadata": {},
     "output_type": "execute_result"
    }
   ],
   "source": [
    "d15"
   ]
  },
  {
   "cell_type": "code",
   "execution_count": 75,
   "id": "aaa6e172-11a1-4944-ad8f-b9402fdf0397",
   "metadata": {},
   "outputs": [
    {
     "data": {
      "text/plain": [
       "True"
      ]
     },
     "execution_count": 75,
     "metadata": {},
     "output_type": "execute_result"
    }
   ],
   "source": [
    "\"batch_name\" in d15"
   ]
  },
  {
   "cell_type": "code",
   "execution_count": 79,
   "id": "a63891a0-3712-4fcd-95ae-7b9cf455ae7d",
   "metadata": {},
   "outputs": [],
   "source": [
    "\n",
    "d19={i : math.log10(i) for i in range(1,11)} # Perform ogrithmic function in values"
   ]
  },
  {
   "cell_type": "code",
   "execution_count": 80,
   "id": "62bdafa1-d270-4b84-bcd4-9d86fc21eda2",
   "metadata": {},
   "outputs": [
    {
     "data": {
      "text/plain": [
       "{1: 0.0,\n",
       " 2: 0.3010299956639812,\n",
       " 3: 0.47712125471966244,\n",
       " 4: 0.6020599913279624,\n",
       " 5: 0.6989700043360189,\n",
       " 6: 0.7781512503836436,\n",
       " 7: 0.8450980400142568,\n",
       " 8: 0.9030899869919435,\n",
       " 9: 0.9542425094393249,\n",
       " 10: 1.0}"
      ]
     },
     "execution_count": 80,
     "metadata": {},
     "output_type": "execute_result"
    }
   ],
   "source": [
    "d19"
   ]
  },
  {
   "cell_type": "code",
   "execution_count": 87,
   "id": "a759d679-51e0-4978-8b63-ed56d7ed280b",
   "metadata": {},
   "outputs": [
    {
     "name": "stdout",
     "output_type": "stream",
     "text": [
      "2 0.3010299956639812\n",
      "4 0.6020599913279624\n",
      "6 0.7781512503836436\n",
      "8 0.9030899869919435\n",
      "10 1.0\n"
     ]
    }
   ],
   "source": [
    "for i in d19.keys():\n",
    "    if i%2==0:\n",
    "        print(i,d19[i])"
   ]
  },
  {
   "cell_type": "code",
   "execution_count": null,
   "id": "bdb2e632-ccec-4a51-bfa2-bd202650fc2d",
   "metadata": {},
   "outputs": [],
   "source": []
  }
 ],
 "metadata": {
  "kernelspec": {
   "display_name": "Python 3 (ipykernel)",
   "language": "python",
   "name": "python3"
  },
  "language_info": {
   "codemirror_mode": {
    "name": "ipython",
    "version": 3
   },
   "file_extension": ".py",
   "mimetype": "text/x-python",
   "name": "python",
   "nbconvert_exporter": "python",
   "pygments_lexer": "ipython3",
   "version": "3.10.8"
  }
 },
 "nbformat": 4,
 "nbformat_minor": 5
}
