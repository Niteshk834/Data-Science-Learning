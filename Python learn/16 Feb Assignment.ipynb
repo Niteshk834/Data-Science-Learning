{
 "cells": [
  {
   "cell_type": "markdown",
   "id": "3de89795-5a8c-4152-8cfc-68d6611608b5",
   "metadata": {},
   "source": [
    "# 16 Feb 2023 Assignment"
   ]
  },
  {
   "cell_type": "markdown",
   "id": "1655087b-0396-425c-94d2-724c0dd7fda5",
   "metadata": {},
   "source": [
    "### Date- 16.02.2023"
   ]
  },
  {
   "cell_type": "markdown",
   "id": "71782774-24dd-4062-8d80-3baadb40ca7b",
   "metadata": {},
   "source": [
    "# Q1. What is a database? Differentiate between SQL and NoSQL databases.\n",
    "\n"
   ]
  },
  {
   "cell_type": "markdown",
   "id": "a0269fb2-cdd1-45a4-b996-cb095d88422e",
   "metadata": {},
   "source": [
    "## Answer:-"
   ]
  },
  {
   "cell_type": "markdown",
   "id": "5c5918e8-5a5f-4a8b-9904-3f782d288e57",
   "metadata": {},
   "source": [
    "A database is a systematic collection of data. They support electronic storage and manipulation of data. Databases make data management easy."
   ]
  },
  {
   "cell_type": "markdown",
   "id": "32b1946c-4143-4890-8b1a-d1036e9c22be",
   "metadata": {},
   "source": [
    "### Difference between SQL and NoSQL is following:-"
   ]
  },
  {
   "cell_type": "markdown",
   "id": "4f030c60-e848-49f1-acbb-3577fdc3ae2d",
   "metadata": {},
   "source": [
    "1. Type – \n",
    "\n",
    "SQL databases are primarily called as Relational Databases (RDBMS); whereas NoSQL database are primarily called as non-relational or distributed database. \n",
    "\n",
    "2. Language – \n",
    "\n",
    "SQL databases defines and manipulates data based structured query language (SQL). This language is extremely powerful. SQL is one of the most versatile and widely-used options available which makes it a safe choice especially for great complex queries. But from other side it can be restrictive. SQL requires us to use predefined schemas to determine the structure of your data before you work with it. Also all of our data must follow the same structure. This can require significant up-front preparation which means that a change in the structure would be both difficult and disruptive to our whole system. \n",
    "\n",
    "A NoSQL database has dynamic schema for unstructured data. Data is stored in many ways which means it can be document-oriented, column-oriented, graph-based or organized as a KeyValue store. This flexibility means that documents can be created without having defined structure first. Also each document can have its own unique structure. The syntax varies from database to database, and we can add fields as we go. \n",
    "\n",
    "3. Scalability – \n",
    "\n",
    "In almost all situations SQL databases are vertically scalable. This means that we can increase the load on a single server by increasing things like RAM, CPU or SSD.\n",
    "\n",
    "But on the other hand NoSQL databases are horizontally scalable. This means that we handle more traffic by sharding, or adding more servers in our NoSQL database. It is similar to adding more floors to the same building versus adding more buildings to the neighborhood. Thus NoSQL can ultimately become larger and more powerful, making these databases the preferred choice for large or ever-changing data sets.\n",
    "\n",
    "4. Structure – \n",
    "\n",
    "SQL databases are table-based and on the other hand NoSQL databases are either key-value pairs, document-based, graph databases or wide-column stores. This makes relational SQL databases a better option for applications that require multi-row transactions such as an accounting system or for legacy systems that were built for a relational structure. \n",
    "\n",
    "5. Property followed – \n",
    "\n",
    "SQL databases follow ACID properties (Atomicity, Consistency, Isolation and Durability) whereas the NoSQL database follows the Brewers CAP theorem (Consistency, Availability and Partition tolerance). \n",
    "\n",
    "6. Support – \n",
    "\n",
    "Great support is available for all SQL database from their vendors. Also a lot of independent consultations are there who can help us with SQL database for a very large scale deployments but for some NoSQL database we still have to rely on community support and only limited outside experts are available for setting up and deploying our large scale NoSQL deployments. \n",
    "\n",
    "Examples of SQL:   MySQL, PostgreSQL, Oracle, MS-SQL Server, etc\n",
    "\n",
    "Examples of NoSQL: MongoDB, GraphQL, HBase, Neo4j, Cassandra, etc"
   ]
  },
  {
   "cell_type": "code",
   "execution_count": null,
   "id": "e6bffef5-d8d5-49e9-b808-0e0087a1340f",
   "metadata": {},
   "outputs": [],
   "source": []
  },
  {
   "cell_type": "markdown",
   "id": "2c9b4224-330d-4715-bc20-33abb9b68b67",
   "metadata": {},
   "source": [
    "# Q2. What is DDL? Explain why CREATE, DROP, ALTER, and TRUNCATE are used with an example.\n",
    "\n"
   ]
  },
  {
   "cell_type": "markdown",
   "id": "623502f5-eb3b-44fe-b9aa-2af927902b6e",
   "metadata": {},
   "source": [
    "DDL stands for Data Definition Language. \n",
    "These commands are used to change the structure of a database and database objects.\n",
    "\n",
    "DDL commands can be used to add, remove, or modify tables with in a database. \n",
    "\n",
    "The DDL commands are:\n",
    "\n",
    "1. CREATE\n",
    "2. ALTER\n",
    "3. DROP\n",
    "4. TRUNCATE"
   ]
  },
  {
   "cell_type": "markdown",
   "id": "82ae99ac-b9b5-4e09-8655-1c113afc670d",
   "metadata": {},
   "source": [
    "#### 1. CREATE"
   ]
  },
  {
   "cell_type": "markdown",
   "id": "f0952f07-0619-4cfc-977f-77e154640aba",
   "metadata": {},
   "source": [
    "This command is used to create table in the relational database . \n",
    "This can be done by specifying the names and datatypes of various columns. "
   ]
  },
  {
   "cell_type": "code",
   "execution_count": null,
   "id": "b4ac1b64-9bb8-4e04-a011-81e965db0723",
   "metadata": {},
   "outputs": [],
   "source": [
    "# For Example\n",
    "CREATE TABLE \n",
    "Student\n",
    "(Student_id INT, \n",
    "Name VARCHAR(100), \n",
    "Marks INT); "
   ]
  },
  {
   "cell_type": "markdown",
   "id": "186b88a1-3915-4c2d-a83e-7cf7228d2f55",
   "metadata": {},
   "source": [
    "#### 2. ALTER"
   ]
  },
  {
   "cell_type": "markdown",
   "id": "164ba215-ea30-4e02-9db3-e1147de1f5f9",
   "metadata": {},
   "source": [
    "Alter command is used for altering the table in many forms like: \n",
    "\n",
    "1. Add a column\n",
    "2. Rename existing column\n",
    "3. Drop a column\n",
    "4. Modify the size of the column or change datatype of the column"
   ]
  },
  {
   "cell_type": "code",
   "execution_count": null,
   "id": "df438bec-d397-49d9-9690-2067366cd666",
   "metadata": {},
   "outputs": [],
   "source": [
    "# Add column\n",
    "ALTER TABLE Student \n",
    "ADD\n",
    "(Address  VARCHAR(200)); \n",
    "\n",
    "# Above code will add a new column “Address” in the table Student of datatype varchar(200); "
   ]
  },
  {
   "cell_type": "code",
   "execution_count": null,
   "id": "db9fbf19-133b-45bc-b5ce-76b26f0eba64",
   "metadata": {},
   "outputs": [],
   "source": [
    "# rename existing column\n",
    "ALTER TABLE \n",
    "Student \n",
    "RENAME \n",
    "Marks TO Age; \n",
    "\n",
    "# The command above will change the column_name from Marks to Age; "
   ]
  },
  {
   "cell_type": "code",
   "execution_count": null,
   "id": "e792d8c2-352f-402d-b9aa-a28b86915797",
   "metadata": {},
   "outputs": [],
   "source": [
    "# Drop a column\n",
    "ALTER TABLE Employee \n",
    "DROP\n",
    "(Age);  \n",
    "\n",
    "# Here the column_name =”Age”, will be deleted by above command; "
   ]
  },
  {
   "cell_type": "code",
   "execution_count": null,
   "id": "fbb525a1-99e1-4c6b-be6b-64a04cb0be95",
   "metadata": {},
   "outputs": [],
   "source": [
    "# Modify the size of the column or change datatype of the column\n",
    "ALTER TABLE \n",
    "student \n",
    "MODIFY\n",
    "(name varchar(300)); \n",
    "\n",
    "# The above command will modify the column_name “Name” by changing the size of that column. "
   ]
  },
  {
   "cell_type": "markdown",
   "id": "1645b530-3d27-4a6f-8234-8c020d6ff260",
   "metadata": {},
   "source": [
    "#### 3. DROP"
   ]
  },
  {
   "cell_type": "markdown",
   "id": "b8a26a1e-8e6a-4fb7-bc55-c29dec858658",
   "metadata": {},
   "source": [
    "This command completely removes the table from the database along with the destruction of the table structure. "
   ]
  },
  {
   "cell_type": "code",
   "execution_count": null,
   "id": "2caf51a1-6fd1-470b-b37b-bb7c6695b29e",
   "metadata": {},
   "outputs": [],
   "source": [
    "# for example-\n",
    "\n",
    "DROP TABLE Student; # This command will remove the table records as well as destroys the schema too. "
   ]
  },
  {
   "cell_type": "markdown",
   "id": "61df863d-576e-45d5-98f8-3b7d2d52fd86",
   "metadata": {},
   "source": [
    "#### 4. TRUNCATE"
   ]
  },
  {
   "cell_type": "markdown",
   "id": "7a84dad4-c30e-408f-a29a-57555f7a059f",
   "metadata": {},
   "source": [
    "This command removes all the records from a table. But this command will not destroy the table’s structure. "
   ]
  },
  {
   "cell_type": "code",
   "execution_count": null,
   "id": "3511b874-4eed-480e-8742-69c54c0a9b49",
   "metadata": {},
   "outputs": [],
   "source": [
    "# For example-\n",
    "TRUNCATE TABLE Student; # This command will remove all the records from table student. "
   ]
  },
  {
   "cell_type": "code",
   "execution_count": null,
   "id": "88c144c1-c82b-4dbd-b795-1e10080f3b77",
   "metadata": {},
   "outputs": [],
   "source": []
  },
  {
   "cell_type": "markdown",
   "id": "831b07cd-2dd7-454d-a990-3fd2d109b19b",
   "metadata": {},
   "source": [
    "# Q3. What is DML? Explain INSERT, UPDATE, and DELETE with an example.\n",
    "\n"
   ]
  },
  {
   "cell_type": "markdown",
   "id": "f985a2b8-28a5-4e0e-bc01-73de10675c26",
   "metadata": {},
   "source": [
    "## Answer:-"
   ]
  },
  {
   "cell_type": "markdown",
   "id": "aec8ff8c-08da-4023-ad3a-31afe0b0d9c0",
   "metadata": {},
   "source": [
    "Tables and formulas are helpful when communicating with data stored up to a point in a database through SQL, but a time comes when we actually want to execute some fairly complicated data interactions. We will also need the Data Manipulation Language in that situation.\n",
    "\n",
    "DML(Data Manipulation Language) is a way to inform a database precisely what we want it to do by conversing in a manner that it has been built to comprehend from the scratch. When it comes to interacting within existing data, whether adding, moving, or deleting data, it provides a convenient way to do so.\n"
   ]
  },
  {
   "cell_type": "markdown",
   "id": "54bee1c9-21af-45c7-a97b-51e200435e1d",
   "metadata": {},
   "source": [
    "#### INSERT"
   ]
  },
  {
   "cell_type": "markdown",
   "id": "6c6534fe-1b0b-4a11-b8d1-1dd5762edda9",
   "metadata": {},
   "source": [
    "This command is used to enter the information or values into a row. We can connect one or more records to a single table within a repository using this instruction. This is often used to connect an unused tag to the documents."
   ]
  },
  {
   "cell_type": "code",
   "execution_count": null,
   "id": "6ffa96df-6ab3-4c9b-98d4-f127b3397834",
   "metadata": {},
   "outputs": [],
   "source": [
    "# for example\n",
    "INSERT INTO students ('stu_id' int, 'stu_name' varchar(20), 'city' varchar(20))\n",
    "\n",
    "VALUES ('4242', 'Nitesh Kumar', 'Muzaffarpur'); "
   ]
  },
  {
   "cell_type": "markdown",
   "id": "5b6b993d-f6a0-44fb-a281-1547b5e94bfe",
   "metadata": {},
   "source": [
    "#### UPDATE"
   ]
  },
  {
   "cell_type": "markdown",
   "id": "26e2ef3e-a051-4d52-b8f0-582f9db8132b",
   "metadata": {},
   "source": [
    "This command is used to alter existing table records. Within a table, it modifies data from one or more records. This command is used to alter the data which is already present in a table."
   ]
  },
  {
   "cell_type": "code",
   "execution_count": null,
   "id": "675087ef-2fee-4ede-a83f-4504869a865d",
   "metadata": {},
   "outputs": [],
   "source": [
    "# for example\n",
    "UPDATE students\n",
    "\n",
    "SET stu_id = 4240\n",
    "\n",
    "WHERE stu_name = 'Nitesh Kumar'; "
   ]
  },
  {
   "cell_type": "markdown",
   "id": "929608c7-f9f4-4ac6-8e6d-b0181124441b",
   "metadata": {},
   "source": [
    "#### DELETE"
   ]
  },
  {
   "cell_type": "markdown",
   "id": "9c4506f1-3cec-41b6-a06a-f8a72c484372",
   "metadata": {},
   "source": [
    "It deletes all archives from a table. This command is used to erase some or all of the previous table’s records. If we do not specify the ‘WHERE’ condition then all the rows would be erased or deleted."
   ]
  },
  {
   "cell_type": "code",
   "execution_count": null,
   "id": "b69652af-965f-487c-864f-442386141cad",
   "metadata": {},
   "outputs": [],
   "source": [
    "# for example\n",
    "DELETE FROM students\n",
    "\n",
    "WHERE stu_id = '4240'; "
   ]
  },
  {
   "cell_type": "markdown",
   "id": "16d9cb93-ec98-437f-8c52-3f6b2bcc20ca",
   "metadata": {},
   "source": [
    "# Q4. What is DQL? Explain SELECT with an example.\n",
    "\n"
   ]
  },
  {
   "cell_type": "markdown",
   "id": "9fb7fb5c-bf6f-4135-b00a-053b25c9e7bc",
   "metadata": {},
   "source": [
    "## Answer:-"
   ]
  },
  {
   "cell_type": "markdown",
   "id": "2455d508-f1b2-4d6d-9ffc-e2259da38216",
   "metadata": {},
   "source": [
    "DQL is a component of SQL statement that allows getting data from the database and imposing order upon it."
   ]
  },
  {
   "cell_type": "markdown",
   "id": "66075943-1b9d-4e74-a7ef-aee02668a20d",
   "metadata": {},
   "source": [
    "### SELECT"
   ]
  },
  {
   "cell_type": "markdown",
   "id": "00c45ecf-621d-47d7-bbd9-85141820018f",
   "metadata": {},
   "source": [
    "This command allows getting the data out of the database to perform operations with it. When a SELECT is fired against a table or tables the result is compiled into a further temporary table, which is displayed or perhaps received by the program i.e. a front-end."
   ]
  },
  {
   "cell_type": "code",
   "execution_count": null,
   "id": "9705888f-1bbd-4ad3-94f3-692584c0bca5",
   "metadata": {},
   "outputs": [],
   "source": [
    "# Example of select"
   ]
  },
  {
   "cell_type": "markdown",
   "id": "d5d7baeb-f1bd-455a-abc3-035cf83ec954",
   "metadata": {},
   "source": [
    "If a user wants to retrieve all the data from the student table, the query will be given as follows: \n"
   ]
  },
  {
   "cell_type": "code",
   "execution_count": null,
   "id": "30707f51-d42d-4ee5-9027-986e1e505bc8",
   "metadata": {},
   "outputs": [],
   "source": [
    "select *\n",
    "from employee;  # asterisk mark (*) indicates that all the rows are retrieved from the table. "
   ]
  },
  {
   "cell_type": "markdown",
   "id": "7bd455ea-9a5b-457a-8a5e-394ce5569ca1",
   "metadata": {},
   "source": [
    "#### Advantages of DQL: \n",
    "\n",
    "1. SELECT is a standard command used for almost every query.\n",
    "\n",
    "2. It can also be written as SELECT as SQL is a case-insensitive language.\n",
    "\n",
    "3. It makes the data retrieving process easier.\n",
    "\n",
    "4. No coding is needed.\n",
    "\n",
    "5. This domain language can be used for communicating with the databases and receive answers to complex questions in seconds.\n",
    "\n",
    "##### Disadvantages of DQL:\n",
    "\n",
    "1. Data Query Language has no disadvantages.\n",
    "\n",
    "2. It is not possible to imagine Structured Query Language without the select command.\n",
    "\n",
    "3. Interfacing a DQL database is more complex than adding a few lines of code.\n",
    "\n",
    "4. The operating cost of some DQL versions makes it difficult for some programmers to access them.\n",
    "\n",
    "#### Applications of DQL: \n",
    "\n",
    "1. Analytical Queries.\n",
    "\n",
    "2. Retrieve Information from the database.\n",
    "\n",
    "3. Modify the index structures and database table."
   ]
  },
  {
   "cell_type": "code",
   "execution_count": null,
   "id": "08b7e75a-e0d1-4e0c-99ea-7708d6479941",
   "metadata": {},
   "outputs": [],
   "source": []
  },
  {
   "cell_type": "markdown",
   "id": "03eedcab-3525-403a-9b86-3ef90dc7630b",
   "metadata": {},
   "source": [
    "# Q5. Explain Primary Key and Foreign Key.\n",
    "\n"
   ]
  },
  {
   "cell_type": "markdown",
   "id": "d1a3ba7c-6e2b-4bec-b096-b78ba871ca5f",
   "metadata": {},
   "source": [
    "## Answer:-"
   ]
  },
  {
   "cell_type": "markdown",
   "id": "3a43b167-3e69-468b-aa3c-7591ace255c4",
   "metadata": {},
   "source": [
    "#### Primary Key and foreign key difference"
   ]
  },
  {
   "cell_type": "markdown",
   "id": "48fb182b-c2e4-4ca6-baa1-b88c14803852",
   "metadata": {},
   "source": [
    "1. A primary key is used to ensure data in the specific column is unique.\t\n",
    "   A foreign key is a column or group of columns in a relational database table that provides a link between      data in two tables.\n",
    "\n",
    "\n",
    "2.\tprimary key uniquely identifies a record in the relational database table. foreign key refers to the field     in a table which is the primary key of another table.\n",
    "\n",
    "\n",
    "3.\tOnly one primary key is allowed in a table.\tWhereas more than one foreign key are allowed in a table.\n",
    "\n",
    "\n",
    "4.\tprimary key is a combination of UNIQUE and Not Null constraints. Foreign key can contain duplicate           values and a table in a relational database.\n",
    "\n",
    "\n",
    "5.\tprimary key does not allow NULL values.Foreign key can also contain NULL values.\n",
    "\n",
    "\n",
    "6.\tprimary key value cannot be deleted from the parent table. Foreign key value can be deleted from the child     table.\n",
    "\n",
    "\n",
    "7.\tprimary key constraint can be implicitly defined on the temporary tables. Foreign keyconstraint cannot be     defined on the local or global temporary tables."
   ]
  },
  {
   "cell_type": "code",
   "execution_count": null,
   "id": "7c67132c-82ef-4eea-80a5-ac40275c1724",
   "metadata": {},
   "outputs": [],
   "source": []
  },
  {
   "cell_type": "markdown",
   "id": "583568ba-21f7-4bc4-9fba-259c501e1d5f",
   "metadata": {},
   "source": [
    "# Q6. Write a python code to connect MySQL to python. Explain the cursor() and execute() method.\n",
    "\n"
   ]
  },
  {
   "cell_type": "markdown",
   "id": "d04382b3-43d0-4460-9b9a-7db9c105c0a0",
   "metadata": {},
   "source": [
    "## Answer:-"
   ]
  },
  {
   "cell_type": "markdown",
   "id": "ed377c76-f784-473c-81e7-e44331b6546d",
   "metadata": {},
   "source": [
    "In Python, We will use the Mysql connector modules to communicate with MySQL."
   ]
  },
  {
   "cell_type": "code",
   "execution_count": 2,
   "id": "f3037446-8fdd-42a5-a7b5-41816fd537ab",
   "metadata": {},
   "outputs": [
    {
     "name": "stdout",
     "output_type": "stream",
     "text": [
      "Requirement already satisfied: mysql-connector-python in /opt/conda/lib/python3.10/site-packages (8.0.32)\n",
      "Requirement already satisfied: protobuf<=3.20.3,>=3.11.0 in /opt/conda/lib/python3.10/site-packages (from mysql-connector-python) (3.20.3)\n",
      "Note: you may need to restart the kernel to use updated packages.\n"
     ]
    }
   ],
   "source": [
    "pip install mysql-connector-python"
   ]
  },
  {
   "cell_type": "code",
   "execution_count": null,
   "id": "3f487e06-a387-4926-bde9-dd071976bb1e",
   "metadata": {},
   "outputs": [],
   "source": [
    "# Run the below query on the MySQL console\n",
    "Create database PWskills;"
   ]
  },
  {
   "cell_type": "code",
   "execution_count": null,
   "id": "bf4c462a-3119-405f-8856-6143cccacd25",
   "metadata": {},
   "outputs": [],
   "source": [
    "# below is the code to connect MySQL to python. please run the query in MySQL console\n",
    "import mysql.connector\n",
    "from mysql.connector import Error\n",
    "\n",
    "try:\n",
    "    mydb = mysql.connector.connect(host='localhost',\n",
    "                                         database='PWskills',\n",
    "                                         user='abc',\n",
    "                                         password='password')\n",
    "    if mydb.is_connected():\n",
    "        db_Info = mydb.get_server_info()\n",
    "        print(\"Connected to MySQL Server version \", db_Info)\n",
    "        mycursor = mydb.cursor()\n",
    "        mycursor.execute(\"select database();\")\n",
    "        record = cursor.fetchone()\n",
    "        print(\"You're connected to database: \", record)\n",
    "\n",
    "except Error as e:\n",
    "    print(\"Error while connecting to MySQL\", e)\n",
    "finally:\n",
    "    if mydb.is_connected():\n",
    "        mycursor.close()\n",
    "        mydb.close()\n",
    "        print(\"MySQL connection is closed\")"
   ]
  },
  {
   "cell_type": "markdown",
   "id": "b2925451-1b6c-493f-9724-dd3f9796aca9",
   "metadata": {},
   "source": [
    "#### cursor method"
   ]
  },
  {
   "cell_type": "markdown",
   "id": "edc16d2a-cb6b-4f58-9f0c-9772a347e812",
   "metadata": {},
   "source": [
    "A cursor is an object which helps to execute the query and fetch the records from the database. The cursor plays a very important role in executing the query.\n",
    "We can create the cursor object through the mysql."
   ]
  },
  {
   "cell_type": "markdown",
   "id": "1eedddb2-cbc3-4a0a-b54c-e7a42cb83612",
   "metadata": {},
   "source": [
    "##### Create a cursor object:"
   ]
  },
  {
   "cell_type": "code",
   "execution_count": null,
   "id": "edbce80b-f248-4258-851d-29517b4fdc26",
   "metadata": {},
   "outputs": [],
   "source": [
    "#python cursor_object.py\n",
    "\n",
    "#import the library\n",
    "import mysql.connector\n",
    "\n",
    "# creating connection\n",
    "mydb = mysql.connector.connect(\n",
    "  host=\"localhost\",\n",
    "  user=\"abc\",\n",
    "  password=\"password\"\n",
    ")\n",
    "#print the connection\n",
    "print(mydb)\n",
    "# import the cursor from the connection (mydb)\n",
    "\n",
    "mycursor = mydb.cursor()\n",
    "#print the mycursor\n",
    "print(mycursor)"
   ]
  },
  {
   "cell_type": "markdown",
   "id": "8317cb22-a2b0-4c01-9040-7eb8f4479b6c",
   "metadata": {},
   "source": [
    "#### execute method"
   ]
  },
  {
   "cell_type": "markdown",
   "id": "8c538af3-8f84-4fd7-87f9-f1adbb3acfb5",
   "metadata": {},
   "source": [
    "The execute () method helps us to execute the query and return records according to the query."
   ]
  },
  {
   "cell_type": "code",
   "execution_count": null,
   "id": "046f972e-e80d-4e74-a1dd-c47bc541fe37",
   "metadata": {},
   "outputs": [],
   "source": [
    "# Example: use execute () method for query"
   ]
  },
  {
   "cell_type": "code",
   "execution_count": null,
   "id": "406f9b25-fa73-4e11-b2e8-cb880b663f74",
   "metadata": {},
   "outputs": [],
   "source": [
    "#python simple_execute_function.py\n",
    "\n",
    "#import the library\n",
    "import mysql.connector\n",
    "\n",
    "# creating connection\n",
    "mydb = mysql.connector.connect(\n",
    "  host=\"localhost\",\n",
    "  user=\"abc\",\n",
    "  password=\"password\",\n",
    "  database =\"PWskills\"\n",
    ")\n",
    "\n",
    "# import the cursor from the connection (mydb)\n",
    "mycursor = mydb.cursor()\n",
    "\n",
    "mycursor.execute(\"SELECT * FROM COURSE\")\n",
    "\n",
    "# iterate over the result\n",
    "for i in mycursor:\n",
    "    print(i)\n",
    "\n",
    "# we close the cursor and mydb both\n",
    "mycursor.close()\n",
    "mydb.close()"
   ]
  },
  {
   "cell_type": "code",
   "execution_count": null,
   "id": "2df3a4aa-3117-4045-9157-28471cd9d3bc",
   "metadata": {},
   "outputs": [],
   "source": []
  },
  {
   "cell_type": "markdown",
   "id": "6d7ffc79-20b8-4f7d-9229-976dcf649db3",
   "metadata": {},
   "source": [
    "# Q7. Give the order of execution of SQL clauses in an SQL query.\n"
   ]
  },
  {
   "cell_type": "markdown",
   "id": "0c2a65b8-0335-4b28-b8b2-d3a89905d97e",
   "metadata": {},
   "source": [
    "## Answer:-"
   ]
  },
  {
   "cell_type": "markdown",
   "id": "e1b64b3d-88de-46c5-bd4b-38dddb9b6536",
   "metadata": {},
   "source": [
    "SQL query that is executed per the standard SQL order of execution. This order of clause and it's function is below:\n"
   ]
  },
  {
   "cell_type": "markdown",
   "id": "825fa6c0-e40d-49d4-8d37-80504ab2e492",
   "metadata": {},
   "source": [
    "1. FROM- Tables are joined to get the base data\n",
    "\n",
    "2. WHERE- The base data is filtered\n",
    "\n",
    "3. GROUP BY - The filtered base data is grouped\n",
    "\n",
    "4. HAVING- The grouped base data is filtered\n",
    "\n",
    "5. SELECT- The final data is returned\n",
    "\n",
    "6. ORDER BY- The final data is sorted.\n",
    "\n",
    "7. LIMIT- The returned data is limited to row count"
   ]
  },
  {
   "cell_type": "markdown",
   "id": "d8d71098-a513-40e2-b92e-bd53b414f276",
   "metadata": {},
   "source": [
    "### 1. FROM"
   ]
  },
  {
   "cell_type": "markdown",
   "id": "5825aa0e-ea62-42ff-b83b-59ccaea014b7",
   "metadata": {},
   "source": [
    "The FROM clause is used to specify the table on which the query needs to do the operation."
   ]
  },
  {
   "cell_type": "markdown",
   "id": "abd6805d-e859-4dee-84df-fa1b43ac8eb4",
   "metadata": {},
   "source": [
    "### 2. WHERE"
   ]
  },
  {
   "cell_type": "markdown",
   "id": "f7b061cf-4935-4234-ae86-2d29f57f668e",
   "metadata": {},
   "source": [
    "The WHERE clause filters certain records that meet the conditions mentioned in the query. It is evaluated second after the FROM clause."
   ]
  },
  {
   "cell_type": "code",
   "execution_count": null,
   "id": "418313ad-8992-4e54-9f6e-1dcbddf9d8f7",
   "metadata": {},
   "outputs": [],
   "source": [
    "# SYNTAX\n",
    "SELECT column1, column2, .....\n",
    "FROM table_name\n",
    "WHERE condition;"
   ]
  },
  {
   "cell_type": "code",
   "execution_count": null,
   "id": "cf8f8809-65ad-4324-b968-01ade5cdc04d",
   "metadata": {},
   "outputs": [],
   "source": [
    "# example\n",
    "SELECT * FROM Customers\n",
    "WHERE Country='India';"
   ]
  },
  {
   "cell_type": "markdown",
   "id": "39178a1e-1b62-4f49-bfba-9a0723c89d79",
   "metadata": {},
   "source": [
    "### 3. GROUP BY"
   ]
  },
  {
   "cell_type": "markdown",
   "id": "5e40c4ca-a386-4335-94ac-2c1ffbf7a02e",
   "metadata": {},
   "source": [
    "After the data is filtered using the WHERE clause, we group the sorted data using the GROUP BY clause.\n",
    "\n",
    "Group By clause is used to group the data.\n",
    "Partition the set of tuples into groups based on certain criteria.\n",
    "Groups are formed based on certain attributes.\n",
    "Aggregate functions are calculated for each group."
   ]
  },
  {
   "cell_type": "code",
   "execution_count": null,
   "id": "dd12f9a0-1e56-4ad8-b6c3-1de0ee2324a4",
   "metadata": {},
   "outputs": [],
   "source": [
    "# SYNTAX\n",
    "SELECT column_name(s)\n",
    "FROM table_name\n",
    "WHERE condition\n",
    "GROUP BY column_name(s)\n",
    "ORDER BY column_name(s);\n"
   ]
  },
  {
   "cell_type": "code",
   "execution_count": null,
   "id": "a4a98328-e902-4a29-92b6-1e53257b546e",
   "metadata": {},
   "outputs": [],
   "source": [
    "# example\n",
    "SELECT COUNT(CustomerID), Country\n",
    "FROM Customers\n",
    "GROUP BY Country\n",
    "ORDER BY COUNT(CustomerID) DESC;"
   ]
  },
  {
   "cell_type": "markdown",
   "id": "85b4db36-fc91-4cf7-8711-bb4fb26a80fc",
   "metadata": {},
   "source": [
    "### 4. HAVING"
   ]
  },
  {
   "cell_type": "markdown",
   "id": "f83f148e-3f4a-478a-ae1a-9187106f99f6",
   "metadata": {},
   "source": [
    "After the GROUP BY clause, if we are not getting the expected result. The HAVING clause is used when the WHERE clause cannot be used with the aggregate functions. It takes a certain condition that is applied in the GROUP BY clause."
   ]
  },
  {
   "cell_type": "code",
   "execution_count": null,
   "id": "0012d8ad-08a5-4166-9b1b-6975e243ae90",
   "metadata": {},
   "outputs": [],
   "source": [
    "# SYNTAX\n",
    "SELECT column_name(s)\n",
    "FROM table_name\n",
    "WHERE condition\n",
    "GROUP BY column_name(s)\n",
    "HAVING condition\n",
    "ORDER BY column_name(s);"
   ]
  },
  {
   "cell_type": "code",
   "execution_count": null,
   "id": "184cf109-6a38-4cf6-89fa-93b27c5646f2",
   "metadata": {},
   "outputs": [],
   "source": [
    "# example\n",
    "SELECT COUNT(CustomerID), Country\n",
    "FROM Customers\n",
    "GROUP BY Country\n",
    "HAVING COUNT(CustomerID) > 5\n",
    "ORDER BY COUNT(CustomerID) DESC;"
   ]
  },
  {
   "cell_type": "markdown",
   "id": "f8d98b8e-27b2-42ce-b450-8b5457138818",
   "metadata": {},
   "source": [
    "### 5. SELECT"
   ]
  },
  {
   "cell_type": "markdown",
   "id": "bfb5f1fa-e1b9-4a14-bd7a-fb422598bae5",
   "metadata": {},
   "source": [
    "The SELECT statement is used to select data from the database. To select complete data, we use the * operator."
   ]
  },
  {
   "cell_type": "code",
   "execution_count": null,
   "id": "91a6ab1d-2a47-4c9a-8ced-92ac17b50d31",
   "metadata": {},
   "outputs": [],
   "source": [
    "# SYNTAX\n",
    "SELECT column1, column2, ...\n",
    "FROM table_name;"
   ]
  },
  {
   "cell_type": "code",
   "execution_count": null,
   "id": "787b81d8-d388-4c82-9fdb-b2ef1c2122e3",
   "metadata": {},
   "outputs": [],
   "source": [
    "# example\n",
    "SELECT * FROM table_name;"
   ]
  },
  {
   "cell_type": "markdown",
   "id": "af9e0574-bcef-48c8-abec-395cc5cd4a0e",
   "metadata": {},
   "source": [
    "### 6. ORDER BY"
   ]
  },
  {
   "cell_type": "markdown",
   "id": "4f5b014d-6463-4143-b88a-d8bd75fc1710",
   "metadata": {},
   "source": [
    "ORDER BY clause is used to sort the data in ascending or descending order. We use the keyword ASC to sort the data in ascending order and the keyword DESC to sort the data in descending order."
   ]
  },
  {
   "cell_type": "code",
   "execution_count": null,
   "id": "05956376-a38a-461b-abfd-c41e812238e6",
   "metadata": {},
   "outputs": [],
   "source": [
    "# SYNTAX\n",
    "SELECT column1, column2, ...\n",
    "FROM table_name\n",
    "ORDER BY column1, column2, ... ASC|DESC;"
   ]
  },
  {
   "cell_type": "code",
   "execution_count": null,
   "id": "3ab7e016-e790-4017-ad42-7250f4f6ef52",
   "metadata": {},
   "outputs": [],
   "source": [
    "# example\n",
    "SELECT * FROM Customers\n",
    "ORDER BY Country DESC;"
   ]
  },
  {
   "cell_type": "markdown",
   "id": "6ac649fa-ac61-42f4-9a5b-b56adb5d1f04",
   "metadata": {},
   "source": [
    "### 7. LIMIT"
   ]
  },
  {
   "cell_type": "markdown",
   "id": "c3382d9a-bf39-4a17-a9ff-f38a8cb6b3ef",
   "metadata": {},
   "source": [
    "After the result is sorted, it might be the case that we want a limited number of rows in the result because the data is too large to analyze with perfection. We can do that by using the LIMIT and OFFSET clauses. For example,\n",
    "\n",
    "After sorting our result using the ORDER BY clause, we got two rows. Suppose that we want only one row to be shown in the result.\n",
    "\n",
    "Suppose we want the result after row 1 and to a certain limit that is 3 for now. So, to get the data after a certain amount, we set the offset value."
   ]
  },
  {
   "cell_type": "code",
   "execution_count": null,
   "id": "f9bc38ba-e05d-4edf-96c1-ea1fd7974e9c",
   "metadata": {},
   "outputs": [],
   "source": [
    "# SYNTAX\n",
    "SELECT column_name(s)\n",
    "FROM table_name\n",
    "WHERE condition\n",
    "LIMIT number;"
   ]
  },
  {
   "cell_type": "code",
   "execution_count": null,
   "id": "a739c176-943c-4037-847e-be33b28349a0",
   "metadata": {},
   "outputs": [],
   "source": [
    "# example\n",
    "SELECT * FROM Customers\n",
    "WHERE Country='India'\n",
    "LIMIT 3;"
   ]
  }
 ],
 "metadata": {
  "kernelspec": {
   "display_name": "Python 3 (ipykernel)",
   "language": "python",
   "name": "python3"
  },
  "language_info": {
   "codemirror_mode": {
    "name": "ipython",
    "version": 3
   },
   "file_extension": ".py",
   "mimetype": "text/x-python",
   "name": "python",
   "nbconvert_exporter": "python",
   "pygments_lexer": "ipython3",
   "version": "3.10.8"
  }
 },
 "nbformat": 4,
 "nbformat_minor": 5
}
