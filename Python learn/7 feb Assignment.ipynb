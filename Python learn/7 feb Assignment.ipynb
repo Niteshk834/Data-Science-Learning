{
 "cells": [
  {
   "cell_type": "markdown",
   "id": "d2ee6212-31db-48ab-b280-b12c11512e0f",
   "metadata": {},
   "source": [
    "# 7 Feb Assignment"
   ]
  },
  {
   "cell_type": "markdown",
   "id": "51500d50-38fa-455d-a588-38750d7afb08",
   "metadata": {},
   "source": [
    "## Date: 07.02.2023"
   ]
  },
  {
   "cell_type": "markdown",
   "id": "5b40d6c0-ddcd-462e-9b33-077baacdf00a",
   "metadata": {
    "tags": []
   },
   "source": [
    "## Q1. You are writing code for a company. The requirement of the company is that you create a python  function that will check whether the password entered by the user is correct or not. The function should  take the password as input and return the string “Valid Password” if the entered password follows the  below-given password guidelines else it should return “Invalid Password”. \n",
    "### Note: 1. The Password should contain at least two uppercase letters and at least two lowercase letters. \n",
    "### 2. The Password should contain at least a number and three special characters. \n",
    "### 3. The length of the password should be 10 characters long. \n"
   ]
  },
  {
   "cell_type": "code",
   "execution_count": 15,
   "id": "2c40b5f1-52d2-467d-969e-1070d18e354e",
   "metadata": {},
   "outputs": [
    {
     "name": "stdin",
     "output_type": "stream",
     "text": [
      "Enter the password NiiTESHK834@*#\n"
     ]
    },
    {
     "name": "stdout",
     "output_type": "stream",
     "text": [
      "valid password\n"
     ]
    }
   ],
   "source": [
    "lower,upper,special,digit=0,0,0,0\n",
    "password=input(\"Enter the password\")\n",
    "if len(password)==10:\n",
    "    for i in password:\n",
    "        if i.islower():\n",
    "            lower=lower+1\n",
    "        if i.isupper():\n",
    "            upper=upper+1\n",
    "        if i.isdigit():\n",
    "            digit=digit+1\n",
    "        if i==\"@\" or i==\"#\" or i==\"$\" or i==\"%\" or i==\"^\" or i==\"&\" or i==\"*\" :\n",
    "            special =special+1\n",
    "if lower>=2 and upper>=2 and special>=3 and digit>=1 and lower+upper+special+digit==len(password):\n",
    "    print(\"valid password\")\n",
    "else:\n",
    "    print(\"invalid password\")"
   ]
  },
  {
   "cell_type": "code",
   "execution_count": null,
   "id": "84335334-37be-4399-adb4-48c132f60027",
   "metadata": {},
   "outputs": [],
   "source": []
  },
  {
   "cell_type": "markdown",
   "id": "e935fb99-8d9b-42a8-8e7c-7e9615fd640c",
   "metadata": {},
   "source": [
    "### Q2. Solve the below-given questions using at least one of the following:  \n",
    "1. Lambda function \n",
    "2. Filter function \n",
    "3. Map function\n",
    "4. List Comprehension \n",
    "#### 1. Check if the string starts with a particular letter  \n"
   ]
  },
  {
   "cell_type": "code",
   "execution_count": 148,
   "id": "19f17a8e-4f68-4c17-97ef-6707aecde3da",
   "metadata": {},
   "outputs": [
    {
     "name": "stdin",
     "output_type": "stream",
     "text": [
      "Enter string input:- Data Science\n"
     ]
    },
    {
     "name": "stdout",
     "output_type": "stream",
     "text": [
      "True\n"
     ]
    }
   ],
   "source": [
    "starts_with=lambda x: True if x.startswith(\"D\") else False\n",
    "print(starts_with(input(\"Enter string input:-\")))\n",
    "    \n",
    "\n"
   ]
  },
  {
   "cell_type": "markdown",
   "id": "037f02c8-4b8b-484c-a73d-d2022dc35b9a",
   "metadata": {},
   "source": [
    "#### 2. Check if the string is numeric\n"
   ]
  },
  {
   "cell_type": "code",
   "execution_count": 38,
   "id": "019f6e6a-2e52-4a34-b58c-189514c18d60",
   "metadata": {},
   "outputs": [
    {
     "name": "stdin",
     "output_type": "stream",
     "text": [
      "enter the string sdf123\n"
     ]
    },
    {
     "name": "stdout",
     "output_type": "stream",
     "text": [
      "False\n"
     ]
    }
   ],
   "source": [
    "string_input=lambda x: True if x.isnumeric() else False\n",
    "print(string_input(input(\"Enter the string\")))"
   ]
  },
  {
   "cell_type": "markdown",
   "id": "4ccd9066-fff8-4997-8c39-b0eb65dbeb8c",
   "metadata": {},
   "source": [
    "### 3. Sort a list of tuples having fruit names and their quantity. [(\"mango\",99),(\"orange\",80), (\"grapes\", 1000)] \n",
    " "
   ]
  },
  {
   "cell_type": "code",
   "execution_count": 40,
   "id": "1fbd6c0b-375b-495c-81f4-e652ee3fba06",
   "metadata": {},
   "outputs": [],
   "source": [
    "lst= [(\"mango\",99),(\"orange\",80), (\"grapes\", 1000)]"
   ]
  },
  {
   "cell_type": "code",
   "execution_count": 43,
   "id": "c2fc4bd2-2011-4cc6-a47c-a4f3b208e8a8",
   "metadata": {},
   "outputs": [
    {
     "name": "stdout",
     "output_type": "stream",
     "text": [
      "original tuple list: [('grapes', 1000), ('mango', 99), ('orange', 80)]\n",
      "sorting of tuple based on integer value [('orange', 80), ('mango', 99), ('grapes', 1000)]\n",
      "sorting of tuple based on string value [('grapes', 1000), ('mango', 99), ('orange', 80)]\n"
     ]
    }
   ],
   "source": [
    "print(\"original tuple list:\",lst)\n",
    "lst.sort(key=lambda value:value[1])\n",
    "print(\"sorting of tuple based on integer value\",lst)\n",
    "lst.sort(key=lambda value:value[0])\n",
    "print(\"sorting of tuple based on string value\", lst)\n",
    "    "
   ]
  },
  {
   "cell_type": "markdown",
   "id": "dad40795-b3a8-4cfd-8762-79aadbad40c8",
   "metadata": {},
   "source": [
    "### 4. Find the squares of numbers from 1 to 10 \n",
    " "
   ]
  },
  {
   "cell_type": "code",
   "execution_count": 77,
   "id": "254fa07c-5d5c-4ce2-9ac2-3a9cb0aefad5",
   "metadata": {},
   "outputs": [
    {
     "name": "stdout",
     "output_type": "stream",
     "text": [
      "Squre of numbers are  [1, 4, 9, 16, 25, 36, 49, 64, 81, 100]\n"
     ]
    }
   ],
   "source": [
    "sq_num=list(map(lambda x:x**2,range(1,11)))\n",
    "print(\"Squre of numbers are \",sq_num)\n"
   ]
  },
  {
   "cell_type": "markdown",
   "id": "664e5e36-5bfc-43a9-8136-f97ef8d47748",
   "metadata": {},
   "source": [
    "### 5. Find the cube root of numbers from 1 to 10 \n",
    " "
   ]
  },
  {
   "cell_type": "code",
   "execution_count": 82,
   "id": "63ff6ab9-fff6-4cea-a964-77e16ba17355",
   "metadata": {},
   "outputs": [
    {
     "name": "stdout",
     "output_type": "stream",
     "text": [
      "Cube root of numbers are\n",
      " [1.0, 1.2599210498948732, 1.4422495703074083, 1.5874010519681994, 1.7099759466766968, 1.8171205928321397, 1.912931182772389, 2.0, 2.080083823051904, 2.154434690031884]\n"
     ]
    }
   ],
   "source": [
    "cube_num=list(map(lambda x:x**(1/3),range(1,11)))\n",
    "print(\"Cube root of numbers are\\n\",cube_num)"
   ]
  },
  {
   "cell_type": "markdown",
   "id": "a94a39d8-d264-4be1-bdf2-ce3da5f6b3f6",
   "metadata": {},
   "source": [
    "### 6. Check if a given number is even \n",
    " "
   ]
  },
  {
   "cell_type": "code",
   "execution_count": 134,
   "id": "4a714c54-fdcd-4abd-93a6-16656b5c3253",
   "metadata": {},
   "outputs": [
    {
     "name": "stdin",
     "output_type": "stream",
     "text": [
      "enter the number 8\n"
     ]
    },
    {
     "name": "stdout",
     "output_type": "stream",
     "text": [
      "even\n"
     ]
    }
   ],
   "source": [
    "l=int(input(\"enter the number\"))\n",
    "num=lambda l : \"even\" if l%2==0 else \"odd\"\n",
    "print(num(l))"
   ]
  },
  {
   "cell_type": "markdown",
   "id": "0630a955-1664-40c7-b68e-53a379c1e4b3",
   "metadata": {},
   "source": [
    "### 7. Filter odd numbers from the given list. \n",
    " [1,2,3,4,5,6,7,8,9,10] \n",
    " "
   ]
  },
  {
   "cell_type": "code",
   "execution_count": 144,
   "id": "08b288e3-3dae-4f9d-90bd-a2edfeba73f2",
   "metadata": {},
   "outputs": [
    {
     "name": "stdout",
     "output_type": "stream",
     "text": [
      "Odd number list is: [1, 3, 5, 7, 9]\n"
     ]
    }
   ],
   "source": [
    "lst=[1,2,3,4,5,6,7,8,9,10]\n",
    "list(filter(lambda x:x%2!=0,lst))\n",
    "print(\"Odd number list is:\",odd_list)"
   ]
  },
  {
   "cell_type": "markdown",
   "id": "af5c8c65-3075-47ec-810e-0d226137b4b4",
   "metadata": {},
   "source": [
    "### 8. Sort a list of integers into positive and negative integers lists. \n",
    " [1,2,3,4,5,6,-1,-2,-3,-4,-5,0] "
   ]
  },
  {
   "cell_type": "code",
   "execution_count": 147,
   "id": "3dd0fe03-9e7b-41ff-80e2-402fb88d2c37",
   "metadata": {},
   "outputs": [
    {
     "name": "stdout",
     "output_type": "stream",
     "text": [
      "positive number list is: [1, 2, 3, 4, 5, 6]\n",
      "Negative number list is: [-1, -2, -3, -4, -5]\n"
     ]
    }
   ],
   "source": [
    "lst1=[1,2,3,4,5,6,-1,-2,-3,-4,-5,0]\n",
    "positive_number_list=list(filter(lambda x:x>0,lst1))\n",
    "print(\"positive number list is:\",positive_number_list)\n",
    "negative_number_list=list(filter(lambda x:x<0,lst1))\n",
    "print(\"Negative number list is:\",negative_number_list)"
   ]
  },
  {
   "cell_type": "code",
   "execution_count": null,
   "id": "ac6ff398-a6c1-47a0-aa0f-2760dd1fb9ed",
   "metadata": {},
   "outputs": [],
   "source": []
  }
 ],
 "metadata": {
  "kernelspec": {
   "display_name": "Python 3 (ipykernel)",
   "language": "python",
   "name": "python3"
  },
  "language_info": {
   "codemirror_mode": {
    "name": "ipython",
    "version": 3
   },
   "file_extension": ".py",
   "mimetype": "text/x-python",
   "name": "python",
   "nbconvert_exporter": "python",
   "pygments_lexer": "ipython3",
   "version": "3.10.8"
  }
 },
 "nbformat": 4,
 "nbformat_minor": 5
}
