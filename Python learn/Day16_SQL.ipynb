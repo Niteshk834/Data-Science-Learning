{
 "cells": [
  {
   "cell_type": "markdown",
   "id": "68462fd2-57c3-4b67-a5b5-e6a036d5c85e",
   "metadata": {},
   "source": [
    "# Date- 16 feb 2023 "
   ]
  },
  {
   "cell_type": "markdown",
   "id": "ea46ecd6-b5cf-41ac-9f75-3092454a090f",
   "metadata": {},
   "source": [
    "## work in SQL"
   ]
  },
  {
   "cell_type": "markdown",
   "id": "88c6eec1-aeb1-4d9f-947c-01427090feaf",
   "metadata": {},
   "source": [
    "### create database"
   ]
  },
  {
   "cell_type": "code",
   "execution_count": null,
   "id": "b2d54400-d42e-467e-8351-411108f12364",
   "metadata": {},
   "outputs": [],
   "source": [
    "\"\"\" datbase- add connection\n",
    "host- 127.0.0.1 port- 3306\n",
    "user- abc\n",
    "password- password\n",
    "\n",
    "click connect \"\"\""
   ]
  },
  {
   "cell_type": "code",
   "execution_count": null,
   "id": "783794ae-d462-4b6a-a953-c8f2a6a64fde",
   "metadata": {},
   "outputs": [],
   "source": [
    "CREATE DATABASE if not exists test"
   ]
  },
  {
   "cell_type": "markdown",
   "id": "40ed5ec4-78b2-4a4b-b540-92c34f07beff",
   "metadata": {},
   "source": [
    "### create table.py"
   ]
  },
  {
   "cell_type": "code",
   "execution_count": null,
   "id": "5723bdfc-4c6e-468f-8538-4cb16f07e4bf",
   "metadata": {},
   "outputs": [],
   "source": [
    "import mysql.connector\n",
    "mydb = mysql.connector.connect(\n",
    "  host=\"localhost\",\n",
    "  user=\"abc\",\n",
    "  password=\"password\"\n",
    ")\n",
    "mycursor = mydb.cursor()\n",
    "mycursor.execute(\"create DATABASE if not exists test1\")\n",
    "mycursor.execute(\"CREATE TABLE if not exists test1.test_table(c1 int, c2 VARCHAR(50), c3 int, c4 FLOAT,c5 VARCHAR(40) ) \")\n",
    "mydb.close()"
   ]
  },
  {
   "cell_type": "markdown",
   "id": "67fed450-7686-440a-9334-275cc5c7278a",
   "metadata": {},
   "source": [
    "### insert.py"
   ]
  },
  {
   "cell_type": "code",
   "execution_count": null,
   "id": "cfb4ebe0-def4-46ce-b46a-f338cb84cfb0",
   "metadata": {},
   "outputs": [],
   "source": [
    "import mysql.connector\n",
    "mydb = mysql.connector.connect(\n",
    "  host=\"localhost\",\n",
    "  user=\"abc\",\n",
    "  password=\"password\"\n",
    ")\n",
    "mycursor = mydb.cursor()\n",
    "mycursor.execute(\"insert into test1.test_table values(1234,'nitesh',456,78.9,'kumar')\")\n",
    "mycursor.execute(\"insert into test1.test_table values(1234,'nitesh',456,78.9,'kumar')\")\n",
    "mycursor.execute(\"insert into test1.test_table values(1234,'nitesh',456,78.9,'kumar')\")\n",
    "mycursor.execute(\"insert into test1.test_table values(1234,'nitesh',456,78.9,'kumar')\")\n",
    "mycursor.execute(\"insert into test1.test_table values(1234,'nitesh',456,78.9,'kumar')\")\n",
    "mycursor.execute(\"insert into test1.test_table values(1234,'nitesh',456,78.9,'kumar')\")\n",
    "mycursor.execute(\"insert into test1.test_table values(1234,'nitesh',456,78.9,'kumar')\")\n",
    "mycursor.execute(\"insert into test1.test_table values(1234,'nitesh',456,78.9,'kumar')\")\n",
    "mycursor.execute(\"insert into test1.test_table values(1234,'nitesh',456,78.9,'kumar')\")\n",
    "mydb.commit()\n",
    "mydb.close()"
   ]
  },
  {
   "cell_type": "markdown",
   "id": "b7edbfbb-211c-40dc-bf44-e420111b90b9",
   "metadata": {},
   "source": [
    "### query.py"
   ]
  },
  {
   "cell_type": "code",
   "execution_count": null,
   "id": "6a720f6a-22ec-43f8-b994-feec20da4c0c",
   "metadata": {},
   "outputs": [],
   "source": [
    "import mysql.connector\n",
    "mydb = mysql.connector.connect(\n",
    "  host=\"localhost\",\n",
    "  user=\"abc\",\n",
    "  password=\"password\"\n",
    ")\n",
    "mycursor = mydb.cursor()\n",
    "#mycursor.execute(\"select * from test1.test_table\")\n",
    "mycursor.execute(\"select c1,c2 from test1.test_table\")\n",
    "for i in mycursor.fetchall():\n",
    "    print(i)"
   ]
  },
  {
   "cell_type": "code",
   "execution_count": null,
   "id": "c5b255fc-1511-42c9-a85d-0f4a621b06c8",
   "metadata": {},
   "outputs": [],
   "source": []
  }
 ],
 "metadata": {
  "kernelspec": {
   "display_name": "Python 3 (ipykernel)",
   "language": "python",
   "name": "python3"
  },
  "language_info": {
   "codemirror_mode": {
    "name": "ipython",
    "version": 3
   },
   "file_extension": ".py",
   "mimetype": "text/x-python",
   "name": "python",
   "nbconvert_exporter": "python",
   "pygments_lexer": "ipython3",
   "version": "3.10.8"
  }
 },
 "nbformat": 4,
 "nbformat_minor": 5
}
