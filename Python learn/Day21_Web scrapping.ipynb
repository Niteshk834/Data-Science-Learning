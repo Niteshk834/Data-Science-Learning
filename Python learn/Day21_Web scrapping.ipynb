{
 "cells": [
  {
   "cell_type": "markdown",
   "id": "5d007b1c-e972-43a0-b3be-bb28c56bc7dd",
   "metadata": {},
   "source": [
    "# Web Scraping in python\n",
    "## Date- 21 Feb 2023"
   ]
  },
  {
   "cell_type": "code",
   "execution_count": null,
   "id": "7297e16d-f217-4f26-aaf1-3f201d3ff6f8",
   "metadata": {},
   "outputs": [],
   "source": []
  },
  {
   "cell_type": "code",
   "execution_count": 1,
   "id": "3995fd7b-fe05-49a3-b97c-fbe17933b0d4",
   "metadata": {},
   "outputs": [],
   "source": [
    "import requests\n",
    "from bs4 import BeautifulSoup as bs\n",
    "from urllib.request import urlopen\n",
    "import logging"
   ]
  },
  {
   "cell_type": "markdown",
   "id": "d0fefc4e-8867-4030-936b-ac7543b94f4f",
   "metadata": {},
   "source": [
    "Now our moto is to scrap review data of particular product from flipkart"
   ]
  },
  {
   "cell_type": "code",
   "execution_count": 45,
   "id": "55d1f764-62f9-4dfc-9335-607c41ad4961",
   "metadata": {},
   "outputs": [],
   "source": [
    "flipkart_url= \"https://www.flipkart.com/search?q=\" + \"motog60\""
   ]
  },
  {
   "cell_type": "code",
   "execution_count": 46,
   "id": "a9319e90-4565-4d7c-8a14-eb2339401790",
   "metadata": {},
   "outputs": [
    {
     "data": {
      "text/plain": [
       "'https://www.flipkart.com/search?q=motog60'"
      ]
     },
     "execution_count": 46,
     "metadata": {},
     "output_type": "execute_result"
    }
   ],
   "source": [
    "flipkart_url"
   ]
  },
  {
   "cell_type": "code",
   "execution_count": null,
   "id": "e9f110fe-61e9-4441-b04a-b67e35efd3b8",
   "metadata": {},
   "outputs": [],
   "source": [
    "After clicking on above url, it redirected to the flipkart page"
   ]
  },
  {
   "cell_type": "code",
   "execution_count": 47,
   "id": "0c99fe3f-e499-4998-a62e-a0a9c53ff11f",
   "metadata": {},
   "outputs": [],
   "source": [
    "urlclient= urlopen(flipkart_url)"
   ]
  },
  {
   "cell_type": "code",
   "execution_count": 48,
   "id": "ea7056bb-e078-4c88-badd-2cbc6365393e",
   "metadata": {},
   "outputs": [],
   "source": [
    "flipkart_page=urlclient.read()"
   ]
  },
  {
   "cell_type": "code",
   "execution_count": 49,
   "id": "90b019ad-c855-43e0-bb2a-00b7d3fea667",
   "metadata": {},
   "outputs": [],
   "source": [
    "flipkar_html=bs(flipkart_page, \"html.parser\") # from beautify we get littlebit beautify"
   ]
  },
  {
   "cell_type": "markdown",
   "id": "7b5580d7-ecbc-4c36-8343-86841eab54e2",
   "metadata": {},
   "source": [
    "Now my objective is to open all the product details one by one"
   ]
  },
  {
   "cell_type": "markdown",
   "id": "2d5ced7e-0ec5-4f87-86e8-618b8aad2581",
   "metadata": {},
   "source": [
    "click f12 for go to inspect page. Now click on left corner inpect element.\n",
    "chhose particular product or section and click copy hyperlink that availble under href."
   ]
  },
  {
   "cell_type": "code",
   "execution_count": 50,
   "id": "1a92906e-e716-47d0-85bb-e92540c3364d",
   "metadata": {},
   "outputs": [
    {
     "data": {
      "text/plain": [
       "'https://www.flipkart.com/motorola-g60-moonless-128-gb/p/itma894654fddb46?pid=MOBG9CJ6KRYW4NJT&lid=LSTMOBG9CJ6KRYW4NJTXM0QKG&marketplace=FLIPKART&q=motog60&store=tyy%2F4io&spotlightTagId=FkPickId_tyy%2F4io&srno=s_1_1&otracker=search&fm=organic&iid=6e1110cf-c208-400a-9f2b-07718ab91097.MOBG9CJ6KRYW4NJT.SEARCH&ppt=sp&ppn=sp&ssid=cyei90h7400000001680762745883&qH=24731093b53fa002'"
      ]
     },
     "execution_count": 50,
     "metadata": {},
     "output_type": "execute_result"
    }
   ],
   "source": [
    "\"https://www.flipkart.com\" + \"/motorola-g60-moonless-128-gb/p/itma894654fddb46?pid=MOBG9CJ6KRYW4NJT&lid=LSTMOBG9CJ6KRYW4NJTXM0QKG&marketplace=FLIPKART&q=motog60&store=tyy%2F4io&spotlightTagId=FkPickId_tyy%2F4io&srno=s_1_1&otracker=search&fm=organic&iid=6e1110cf-c208-400a-9f2b-07718ab91097.MOBG9CJ6KRYW4NJT.SEARCH&ppt=sp&ppn=sp&ssid=cyei90h7400000001680762745883&qH=24731093b53fa002\""
   ]
  },
  {
   "cell_type": "code",
   "execution_count": 51,
   "id": "6a29e64a-c0df-4ab9-9f7d-2174d1a62e8e",
   "metadata": {},
   "outputs": [],
   "source": [
    "bigbox= flipkar_html.find_all(\"div\", {\"class\": \"_1AtVbE col-12-12\"})"
   ]
  },
  {
   "cell_type": "code",
   "execution_count": 52,
   "id": "c00aa987-f599-4359-be92-c015d0796f8c",
   "metadata": {},
   "outputs": [
    {
     "data": {
      "text/plain": [
       "15"
      ]
     },
     "execution_count": 52,
     "metadata": {},
     "output_type": "execute_result"
    }
   ],
   "source": [
    "len(bigbox) # we get how much product details"
   ]
  },
  {
   "cell_type": "code",
   "execution_count": null,
   "id": "61c3533b-56f3-40f0-9bc3-5a618795b004",
   "metadata": {},
   "outputs": [],
   "source": [
    "# we need to delete first 3 box because in this header details are included"
   ]
  },
  {
   "cell_type": "code",
   "execution_count": 53,
   "id": "3fdd3cfa-58d4-43f9-a394-ab54d0c54b9d",
   "metadata": {},
   "outputs": [],
   "source": [
    "del bigbox[0:3]"
   ]
  },
  {
   "cell_type": "code",
   "execution_count": 54,
   "id": "77ff90b1-cb2d-4288-a783-f7291360de77",
   "metadata": {},
   "outputs": [
    {
     "data": {
      "text/plain": [
       "<a class=\"_1fQZEK\" href=\"/motorola-g60-soft-silver-128-gb/p/itm7d158ff189510?pid=MOBG9CJ6G5GCFAH4&amp;lid=LSTMOBG9CJ6G5GCFAH4NTCLVQ&amp;marketplace=FLIPKART&amp;q=motog60&amp;store=tyy%2F4io&amp;srno=s_1_2&amp;otracker=search&amp;fm=organic&amp;iid=7db996d4-3f77-4b79-96f2-cd8cc2087807.MOBG9CJ6G5GCFAH4.SEARCH&amp;ppt=None&amp;ppn=None&amp;ssid=je0u4t05s00000001680762763249&amp;qH=24731093b53fa002\" rel=\"noopener noreferrer\" target=\"_blank\"><div class=\"MIXNux\"><div class=\"_2QcLo-\"><div><div class=\"CXW8mj\" style=\"height:200px;width:200px\"><img alt=\"MOTOROLA G60 (Soft Silver, 128 GB)\" class=\"_396cs4\" loading=\"eager\" src=\"https://rukminim1.flixcart.com/image/312/312/l0o6nbk0/mobile/j/w/k/-original-imagceuvb2qasggx.jpeg?q=70\"/></div></div></div><div class=\"_3wLduG\"><div class=\"_3PzNI-\"><span class=\"f3A4_V\"><label class=\"_2iDkf8\"><input class=\"_30VH1S\" readonly=\"\" type=\"checkbox\"/><div class=\"_24_Dny\"></div></label></span><label class=\"_6Up2sF\"><span>Add to Compare</span></label></div></div><div class=\"_2hVSre _3nq8ih\"><div class=\"_36FSn5\"><svg class=\"_1l0elc\" height=\"16\" viewbox=\"0 0 20 16\" width=\"16\" xmlns=\"http://www.w3.org/2000/svg\"><path class=\"eX72wL\" d=\"M8.695 16.682C4.06 12.382 1 9.536 1 6.065 1 3.219 3.178 1 5.95 1c1.566 0 3.069.746 4.05 1.915C10.981 1.745 12.484 1 14.05 1 16.822 1 19 3.22 19 6.065c0 3.471-3.06 6.316-7.695 10.617L10 17.897l-1.305-1.215z\" fill=\"#2874F0\" fill-rule=\"evenodd\" opacity=\".9\" stroke=\"#FFF\"></path></svg></div></div></div><div class=\"_3pLy-c row\"><div class=\"col col-7-12\"><div class=\"_4rR01T\">MOTOROLA G60 (Soft Silver, 128 GB)</div><div class=\"gUuXy-\"><span class=\"_1lRcqv\" id=\"productRating_LSTMOBG9CJ6G5GCFAH4NTCLVQ_MOBG9CJ6G5GCFAH4_\"><div class=\"_3LWZlK\">4.2<img class=\"_1wB99o\" src=\"data:image/svg+xml;base64,PHN2ZyB4bWxucz0iaHR0cDovL3d3dy53My5vcmcvMjAwMC9zdmciIHdpZHRoPSIxMyIgaGVpZ2h0PSIxMiI+PHBhdGggZmlsbD0iI0ZGRiIgZD0iTTYuNSA5LjQzOWwtMy42NzQgMi4yMy45NC00LjI2LTMuMjEtMi44ODMgNC4yNTQtLjQwNEw2LjUuMTEybDEuNjkgNC4wMSA0LjI1NC40MDQtMy4yMSAyLjg4Mi45NCA0LjI2eiIvPjwvc3ZnPg==\"/></div></span><span class=\"_2_R_DZ\"><span><span>1,34,731 Ratings </span><span class=\"_13vcmD\">&amp;</span><span> 13,610 Reviews</span></span></span></div><div class=\"fMghEO\"><ul class=\"_1xgFaf\"><li class=\"rgWa7D\">6 GB RAM | 128 GB ROM</li><li class=\"rgWa7D\">17.22 cm (6.78 inch) Full HD+ Display</li><li class=\"rgWa7D\">108MP + 8MP + 2MP | 32MP Front Camera</li><li class=\"rgWa7D\">6000 mAh Battery</li><li class=\"rgWa7D\">Qualcomm Snapdragon 732G Processor</li><li class=\"rgWa7D\">120Hz Refresh Rate</li><li class=\"rgWa7D\">Stock Android Experience</li><li class=\"rgWa7D\">1 Year on Handset and 6 Months on Accessories</li></ul></div></div><div class=\"col col-5-12 nlI3QM\"><div class=\"_3tbKJL\"><div class=\"_25b18c\"><div class=\"_30jeq3 _1_WHN1\">₹14,999</div><div class=\"_3I9_wc _27UcVY\">₹<!-- -->21,999</div><div class=\"_3Ay6Sb\"><span>31% off</span></div></div><div class=\"_3tcB5a p8ucoS\"><div><div class=\"_2Tpdn3\" style=\"color:#000000;font-size:12px;font-weight:400\">Free delivery</div></div></div></div><div class=\"_2ZdXDB\"><div class=\"_3xFhiH\"><div class=\"_2Tpdn3 _18hQoS\" style=\"color:#000000;font-size:14px;font-style:normal;font-weight:400\">Upto </div><div class=\"_2Tpdn3 _18hQoS\" style=\"color:#000000;font-size:14px;font-style:normal;font-weight:700\">₹14,400</div><div class=\"_2Tpdn3 _18hQoS\" style=\"color:#000000;font-size:14px;font-style:normal;font-weight:400\"> Off on Exchange</div></div></div><div class=\"_2ZdXDB\"><div class=\"_3xFhiH\"><div class=\"_2Tpdn3 _18hQoS\" style=\"color:#26A541;font-size:14px;font-weight:700\">Bank Offer</div></div></div></div></div></a>"
      ]
     },
     "execution_count": 54,
     "metadata": {},
     "output_type": "execute_result"
    }
   ],
   "source": [
    "bigbox[0].div.div.div.a"
   ]
  },
  {
   "cell_type": "code",
   "execution_count": 55,
   "id": "a2780e63-77d4-46b5-9027-7a858a21063f",
   "metadata": {},
   "outputs": [
    {
     "data": {
      "text/plain": [
       "'/motorola-g60-soft-silver-128-gb/p/itm7d158ff189510?pid=MOBG9CJ6G5GCFAH4&lid=LSTMOBG9CJ6G5GCFAH4NTCLVQ&marketplace=FLIPKART&q=motog60&store=tyy%2F4io&srno=s_1_2&otracker=search&fm=organic&iid=7db996d4-3f77-4b79-96f2-cd8cc2087807.MOBG9CJ6G5GCFAH4.SEARCH&ppt=None&ppn=None&ssid=je0u4t05s00000001680762763249&qH=24731093b53fa002'"
      ]
     },
     "execution_count": 55,
     "metadata": {},
     "output_type": "execute_result"
    }
   ],
   "source": [
    "bigbox[0].div.div.div.a[\"href\"]"
   ]
  },
  {
   "cell_type": "code",
   "execution_count": 56,
   "id": "134eb0a0-332a-431a-bc56-6ba19dcedee8",
   "metadata": {},
   "outputs": [
    {
     "data": {
      "text/plain": [
       "'https://www.flipkart.com/motorola-g60-dynamic-gray-128-gb/p/itmf1d5d2978289e?pid=MOBFWSF8U37QFQGK&lid=LSTMOBFWSF8U37QFQGKBPO1B1&marketplace=FLIPKART&q=motog60&store=tyy%2F4io&srno=s_1_2&otracker=search&fm=organic&iid=54a9886b-8a3c-4b5c-b1d0-87d10bd75a35.MOBFWSF8U37QFQGK.SEARCH&ppt=None&ppn=None&ssid=yflfu9x69s0000001680762986477&qH=24731093b53fa002'"
      ]
     },
     "execution_count": 56,
     "metadata": {},
     "output_type": "execute_result"
    }
   ],
   "source": [
    "\"https://www.flipkart.com\" + \"/motorola-g60-dynamic-gray-128-gb/p/itmf1d5d2978289e?pid=MOBFWSF8U37QFQGK&lid=LSTMOBFWSF8U37QFQGKBPO1B1&marketplace=FLIPKART&q=motog60&store=tyy%2F4io&srno=s_1_2&otracker=search&fm=organic&iid=54a9886b-8a3c-4b5c-b1d0-87d10bd75a35.MOBFWSF8U37QFQGK.SEARCH&ppt=None&ppn=None&ssid=yflfu9x69s0000001680762986477&qH=24731093b53fa002\""
   ]
  },
  {
   "cell_type": "code",
   "execution_count": 57,
   "id": "7ac5e1f1-7b28-4feb-b189-505842b72493",
   "metadata": {},
   "outputs": [
    {
     "name": "stdout",
     "output_type": "stream",
     "text": [
      "https://www.flipkart.com/motorola-g60-soft-silver-128-gb/p/itm7d158ff189510?pid=MOBG9CJ6G5GCFAH4&lid=LSTMOBG9CJ6G5GCFAH4NTCLVQ&marketplace=FLIPKART&q=motog60&store=tyy%2F4io&srno=s_1_2&otracker=search&fm=organic&iid=7db996d4-3f77-4b79-96f2-cd8cc2087807.MOBG9CJ6G5GCFAH4.SEARCH&ppt=None&ppn=None&ssid=je0u4t05s00000001680762763249&qH=24731093b53fa002\n",
      "https://www.flipkart.com/motorola-g60-dynamic-gray-128-gb/p/itmf1d5d2978289e?pid=MOBFWSF8U37QFQGK&lid=LSTMOBFWSF8U37QFQGKBPO1B1&marketplace=FLIPKART&q=motog60&store=tyy%2F4io&srno=s_1_3&otracker=search&fm=organic&iid=7db996d4-3f77-4b79-96f2-cd8cc2087807.MOBFWSF8U37QFQGK.SEARCH&ppt=None&ppn=None&ssid=je0u4t05s00000001680762763249&qH=24731093b53fa002\n",
      "https://www.flipkart.com/motorola-g60-frosted-champagne-128-gb/p/itm9154ecfab780b?pid=MOBFWSF8KAWGYV9A&lid=LSTMOBFWSF8KAWGYV9AZDSWLI&marketplace=FLIPKART&q=motog60&store=tyy%2F4io&srno=s_1_4&otracker=search&fm=organic&iid=7db996d4-3f77-4b79-96f2-cd8cc2087807.MOBFWSF8KAWGYV9A.SEARCH&ppt=None&ppn=None&ssid=je0u4t05s00000001680762763249&qH=24731093b53fa002\n",
      "https://www.flipkart.com/motorola-edge-30-ultra-interstellar-black-256-gb/p/itm54434f08345f3?pid=MOBGGAPRC96YFDSH&lid=LSTMOBGGAPRC96YFDSHMNOKD5&marketplace=FLIPKART&q=motog60&store=tyy%2F4io&srno=s_1_5&otracker=search&fm=organic&iid=7db996d4-3f77-4b79-96f2-cd8cc2087807.MOBGGAPRC96YFDSH.SEARCH&ppt=None&ppn=None&ssid=je0u4t05s00000001680762763249&qH=24731093b53fa002\n",
      "https://www.flipkart.com/motorola-edge-30-ultra-interstellar-black-128-gb/p/itm36c69ef9d1313?pid=MOBGFGM2PHKKGB78&lid=LSTMOBGFGM2PHKKGB78NUNL0L&marketplace=FLIPKART&q=motog60&store=tyy%2F4io&srno=s_1_6&otracker=search&fm=organic&iid=7db996d4-3f77-4b79-96f2-cd8cc2087807.MOBGFGM2PHKKGB78.SEARCH&ppt=None&ppn=None&ssid=je0u4t05s00000001680762763249&qH=24731093b53fa002\n",
      "https://www.flipkart.com/motorola-edge-30-ultra-starlight-white-256-gb/p/itm055386afc6641?pid=MOBGGAPR2KCFCTPT&lid=LSTMOBGGAPR2KCFCTPTHOXLPQ&marketplace=FLIPKART&q=motog60&store=tyy%2F4io&srno=s_1_7&otracker=search&fm=organic&iid=7db996d4-3f77-4b79-96f2-cd8cc2087807.MOBGGAPR2KCFCTPT.SEARCH&ppt=None&ppn=None&ssid=je0u4t05s00000001680762763249&qH=24731093b53fa002\n",
      "https://www.flipkart.com/motorola-edge-30-ultra-starlight-white-128-gb/p/itmfa7c7c01456e6?pid=MOBGFGM2GRYGBEPH&lid=LSTMOBGFGM2GRYGBEPHIG02U1&marketplace=FLIPKART&q=motog60&store=tyy%2F4io&srno=s_1_8&otracker=search&fm=organic&iid=7db996d4-3f77-4b79-96f2-cd8cc2087807.MOBGFGM2GRYGBEPH.SEARCH&ppt=None&ppn=None&ssid=je0u4t05s00000001680762763249&qH=24731093b53fa002\n",
      "https://www.flipkart.com/motorola-edge-30-pro-cosmos-blue-128-gb/p/itm98bcbdae6fe78?pid=MOBG9CKYHGJGWCXX&lid=LSTMOBG9CKYHGJGWCXXQKBD04&marketplace=FLIPKART&q=motog60&store=tyy%2F4io&srno=s_1_9&otracker=search&fm=organic&iid=7db996d4-3f77-4b79-96f2-cd8cc2087807.MOBG9CKYHGJGWCXX.SEARCH&ppt=None&ppn=None&ssid=je0u4t05s00000001680762763249&qH=24731093b53fa002\n",
      "https://www.flipkart.com/motorola-edge-30-pro-stardust-white-128-gb/p/itmc60ad815a2cbd?pid=MOBG9CKYEEUCNHUM&lid=LSTMOBG9CKYEEUCNHUMRMSVG4&marketplace=FLIPKART&q=motog60&store=tyy%2F4io&srno=s_1_10&otracker=search&fm=organic&iid=7db996d4-3f77-4b79-96f2-cd8cc2087807.MOBG9CKYEEUCNHUM.SEARCH&ppt=None&ppn=None&ssid=je0u4t05s00000001680762763249&qH=24731093b53fa002\n"
     ]
    },
    {
     "ename": "AttributeError",
     "evalue": "'NoneType' object has no attribute 'a'",
     "output_type": "error",
     "traceback": [
      "\u001b[0;31m---------------------------------------------------------------------------\u001b[0m",
      "\u001b[0;31mAttributeError\u001b[0m                            Traceback (most recent call last)",
      "Cell \u001b[0;32mIn[57], line 2\u001b[0m\n\u001b[1;32m      1\u001b[0m \u001b[38;5;28;01mfor\u001b[39;00m i \u001b[38;5;129;01min\u001b[39;00m bigbox:\n\u001b[0;32m----> 2\u001b[0m     \u001b[38;5;28mprint\u001b[39m(\u001b[38;5;124m\"\u001b[39m\u001b[38;5;124mhttps://www.flipkart.com\u001b[39m\u001b[38;5;124m\"\u001b[39m\u001b[38;5;241m+\u001b[39m \u001b[43mi\u001b[49m\u001b[38;5;241;43m.\u001b[39;49m\u001b[43mdiv\u001b[49m\u001b[38;5;241;43m.\u001b[39;49m\u001b[43mdiv\u001b[49m\u001b[38;5;241;43m.\u001b[39;49m\u001b[43mdiv\u001b[49m\u001b[38;5;241;43m.\u001b[39;49m\u001b[43ma\u001b[49m[\u001b[38;5;124m\"\u001b[39m\u001b[38;5;124mhref\u001b[39m\u001b[38;5;124m\"\u001b[39m])\n\u001b[1;32m      3\u001b[0m \u001b[38;5;66;03m# Now my url is ready    \u001b[39;00m\n",
      "\u001b[0;31mAttributeError\u001b[0m: 'NoneType' object has no attribute 'a'"
     ]
    }
   ],
   "source": [
    "for i in bigbox:\n",
    "    print(\"https://www.flipkart.com\"+ i.div.div.div.a[\"href\"])\n",
    "# Now my url is ready    "
   ]
  },
  {
   "cell_type": "code",
   "execution_count": 58,
   "id": "9f411012-0867-4fab-b919-f28444bba8ad",
   "metadata": {},
   "outputs": [],
   "source": [
    "# Now we have a product link i.e \n",
    "product_link= \"https://www.flipkart.com\"+ bigbox[0].div.div.div.a[\"href\"]"
   ]
  },
  {
   "cell_type": "code",
   "execution_count": 59,
   "id": "b3805ddd-e32c-41f0-aaa0-d115f514acd5",
   "metadata": {},
   "outputs": [
    {
     "data": {
      "text/plain": [
       "'https://www.flipkart.com/motorola-g60-soft-silver-128-gb/p/itm7d158ff189510?pid=MOBG9CJ6G5GCFAH4&lid=LSTMOBG9CJ6G5GCFAH4NTCLVQ&marketplace=FLIPKART&q=motog60&store=tyy%2F4io&srno=s_1_2&otracker=search&fm=organic&iid=7db996d4-3f77-4b79-96f2-cd8cc2087807.MOBG9CJ6G5GCFAH4.SEARCH&ppt=None&ppn=None&ssid=je0u4t05s00000001680762763249&qH=24731093b53fa002'"
      ]
     },
     "execution_count": 59,
     "metadata": {},
     "output_type": "execute_result"
    }
   ],
   "source": [
    "product_link"
   ]
  },
  {
   "cell_type": "code",
   "execution_count": null,
   "id": "b5209e16-266f-437a-bd50-8b2267028711",
   "metadata": {},
   "outputs": [],
   "source": [
    "# Now I have to extract the all product specification of particular product"
   ]
  },
  {
   "cell_type": "code",
   "execution_count": 60,
   "id": "520b5f0e-f78e-4877-8830-22108e2041ed",
   "metadata": {},
   "outputs": [],
   "source": [
    "product_req= requests.get(product_link)"
   ]
  },
  {
   "cell_type": "code",
   "execution_count": 62,
   "id": "979037a8-1642-4da2-b5b3-d8c35875966e",
   "metadata": {},
   "outputs": [],
   "source": [
    "product_html=bs(product_req.text,\"html.parser\")"
   ]
  },
  {
   "cell_type": "code",
   "execution_count": 66,
   "id": "97270161-33ee-4cc6-8c4e-669146844666",
   "metadata": {},
   "outputs": [],
   "source": [
    "comment_box=product_html.find_all(\"div\",{\"class\":\"_16PBlm\"})"
   ]
  },
  {
   "cell_type": "code",
   "execution_count": 67,
   "id": "37af57d8-f430-4a51-a9b0-97e6d2c2337c",
   "metadata": {},
   "outputs": [
    {
     "data": {
      "text/plain": [
       "11"
      ]
     },
     "execution_count": 67,
     "metadata": {},
     "output_type": "execute_result"
    }
   ],
   "source": [
    "len(comment_box)"
   ]
  },
  {
   "cell_type": "code",
   "execution_count": null,
   "id": "3603a592-415c-4fd4-874d-dd30d2859c14",
   "metadata": {},
   "outputs": [],
   "source": [
    "# Now I want to know whoes person give comments."
   ]
  },
  {
   "cell_type": "code",
   "execution_count": 69,
   "id": "d87d8153-b4c1-4b4f-8ca8-6451f10dbcf8",
   "metadata": {},
   "outputs": [
    {
     "data": {
      "text/plain": [
       "[<p class=\"_2sc7ZR _2V5EHH\">Ganesh yadav</p>]"
      ]
     },
     "execution_count": 69,
     "metadata": {},
     "output_type": "execute_result"
    }
   ],
   "source": [
    "comment_box[0].div.div.find_all(\"p\",{\"class\":\"_2sc7ZR _2V5EHH\"})"
   ]
  },
  {
   "cell_type": "code",
   "execution_count": 71,
   "id": "4da493c2-1a98-4ef4-8e6e-6926275bc999",
   "metadata": {},
   "outputs": [
    {
     "data": {
      "text/plain": [
       "'Ganesh yadav'"
      ]
     },
     "execution_count": 71,
     "metadata": {},
     "output_type": "execute_result"
    }
   ],
   "source": [
    "comment_box[0].div.div.find_all(\"p\",{\"class\":\"_2sc7ZR _2V5EHH\"})[0].text"
   ]
  },
  {
   "cell_type": "code",
   "execution_count": 72,
   "id": "a281324c-75fc-477c-a17a-7ea18e1fdf40",
   "metadata": {},
   "outputs": [
    {
     "name": "stdout",
     "output_type": "stream",
     "text": [
      "Ganesh yadav\n",
      "Roni Biswas\n",
      "Rijo  Joseph\n",
      "Bappaditya Das\n",
      "Madhavineswaran M\n",
      "Siddharam Hiremath\n",
      "sreejith kr\n",
      "Mr. Jagadeesh\n",
      "Sujan Datta\n",
      "Naresh Kumar\n"
     ]
    },
    {
     "ename": "AttributeError",
     "evalue": "'NoneType' object has no attribute 'div'",
     "output_type": "error",
     "traceback": [
      "\u001b[0;31m---------------------------------------------------------------------------\u001b[0m",
      "\u001b[0;31mAttributeError\u001b[0m                            Traceback (most recent call last)",
      "Cell \u001b[0;32mIn[72], line 2\u001b[0m\n\u001b[1;32m      1\u001b[0m \u001b[38;5;28;01mfor\u001b[39;00m i \u001b[38;5;129;01min\u001b[39;00m comment_box:\n\u001b[0;32m----> 2\u001b[0m     \u001b[38;5;28mprint\u001b[39m(\u001b[43mi\u001b[49m\u001b[38;5;241;43m.\u001b[39;49m\u001b[43mdiv\u001b[49m\u001b[38;5;241;43m.\u001b[39;49m\u001b[43mdiv\u001b[49m\u001b[38;5;241m.\u001b[39mfind_all(\u001b[38;5;124m\"\u001b[39m\u001b[38;5;124mp\u001b[39m\u001b[38;5;124m\"\u001b[39m,{\u001b[38;5;124m\"\u001b[39m\u001b[38;5;124mclass\u001b[39m\u001b[38;5;124m\"\u001b[39m:\u001b[38;5;124m\"\u001b[39m\u001b[38;5;124m_2sc7ZR _2V5EHH\u001b[39m\u001b[38;5;124m\"\u001b[39m})[\u001b[38;5;241m0\u001b[39m]\u001b[38;5;241m.\u001b[39mtext)\n",
      "\u001b[0;31mAttributeError\u001b[0m: 'NoneType' object has no attribute 'div'"
     ]
    }
   ],
   "source": [
    "for i in comment_box:\n",
    "    print(i.div.div.find_all(\"p\",{\"class\":\"_2sc7ZR _2V5EHH\"})[0].text)"
   ]
  },
  {
   "cell_type": "code",
   "execution_count": null,
   "id": "cc2d6d70-c934-4c28-8c41-59c4e3e13028",
   "metadata": {},
   "outputs": [],
   "source": [
    "# Now we want to get rating"
   ]
  },
  {
   "cell_type": "code",
   "execution_count": 75,
   "id": "e5525b7d-a408-450a-b75a-ff364b0352c9",
   "metadata": {},
   "outputs": [
    {
     "data": {
      "text/plain": [
       "'5'"
      ]
     },
     "execution_count": 75,
     "metadata": {},
     "output_type": "execute_result"
    }
   ],
   "source": [
    "comment_box[0].div.div.div.div.text"
   ]
  },
  {
   "cell_type": "code",
   "execution_count": 76,
   "id": "db54fcc6-f049-4865-a792-23bb68b41597",
   "metadata": {},
   "outputs": [
    {
     "name": "stdout",
     "output_type": "stream",
     "text": [
      "5\n",
      "5\n",
      "3\n",
      "5\n",
      "5\n",
      "5\n",
      "4\n",
      "5\n",
      "5\n",
      "4\n"
     ]
    },
    {
     "ename": "AttributeError",
     "evalue": "'NoneType' object has no attribute 'div'",
     "output_type": "error",
     "traceback": [
      "\u001b[0;31m---------------------------------------------------------------------------\u001b[0m",
      "\u001b[0;31mAttributeError\u001b[0m                            Traceback (most recent call last)",
      "Cell \u001b[0;32mIn[76], line 2\u001b[0m\n\u001b[1;32m      1\u001b[0m \u001b[38;5;28;01mfor\u001b[39;00m i \u001b[38;5;129;01min\u001b[39;00m comment_box:\n\u001b[0;32m----> 2\u001b[0m     \u001b[38;5;28mprint\u001b[39m(\u001b[43mi\u001b[49m\u001b[38;5;241;43m.\u001b[39;49m\u001b[43mdiv\u001b[49m\u001b[38;5;241;43m.\u001b[39;49m\u001b[43mdiv\u001b[49m\u001b[38;5;241m.\u001b[39mdiv\u001b[38;5;241m.\u001b[39mdiv\u001b[38;5;241m.\u001b[39mtext)\n",
      "\u001b[0;31mAttributeError\u001b[0m: 'NoneType' object has no attribute 'div'"
     ]
    }
   ],
   "source": [
    "for i in comment_box:\n",
    "    print(i.div.div.div.div.text)"
   ]
  },
  {
   "cell_type": "code",
   "execution_count": 87,
   "id": "4f4663b0-7d3c-460d-95ad-2fcf7057db3d",
   "metadata": {},
   "outputs": [
    {
     "data": {
      "text/plain": [
       "'Terrific'"
      ]
     },
     "execution_count": 87,
     "metadata": {},
     "output_type": "execute_result"
    }
   ],
   "source": [
    "comment_box[0].div.div.div.p.text"
   ]
  },
  {
   "cell_type": "code",
   "execution_count": 88,
   "id": "034baa73-7b62-4f5f-9337-a2018bfaa1d5",
   "metadata": {},
   "outputs": [
    {
     "name": "stdout",
     "output_type": "stream",
     "text": [
      "Terrific\n",
      "Perfect product!\n",
      "Fair\n",
      "Mind-blowing purchase\n",
      "Great product\n",
      "Great product\n",
      "Very Good\n",
      "Great product\n",
      "Just wow!\n",
      "Very Good\n"
     ]
    },
    {
     "ename": "AttributeError",
     "evalue": "'NoneType' object has no attribute 'div'",
     "output_type": "error",
     "traceback": [
      "\u001b[0;31m---------------------------------------------------------------------------\u001b[0m",
      "\u001b[0;31mAttributeError\u001b[0m                            Traceback (most recent call last)",
      "Cell \u001b[0;32mIn[88], line 2\u001b[0m\n\u001b[1;32m      1\u001b[0m \u001b[38;5;28;01mfor\u001b[39;00m i \u001b[38;5;129;01min\u001b[39;00m comment_box:\n\u001b[0;32m----> 2\u001b[0m     \u001b[38;5;28mprint\u001b[39m(\u001b[43mi\u001b[49m\u001b[38;5;241;43m.\u001b[39;49m\u001b[43mdiv\u001b[49m\u001b[38;5;241;43m.\u001b[39;49m\u001b[43mdiv\u001b[49m\u001b[38;5;241m.\u001b[39mdiv\u001b[38;5;241m.\u001b[39mp\u001b[38;5;241m.\u001b[39mtext)\n",
      "\u001b[0;31mAttributeError\u001b[0m: 'NoneType' object has no attribute 'div'"
     ]
    }
   ],
   "source": [
    "for i in comment_box:\n",
    "    print(i.div.div.div.p.text)"
   ]
  },
  {
   "cell_type": "code",
   "execution_count": 92,
   "id": "290eff08-7a58-4237-849c-a1b6a5e0733e",
   "metadata": {},
   "outputs": [
    {
     "data": {
      "text/plain": [
       "'Best performance ... Best phone moto is very good company and good performance any features..READ MORE'"
      ]
     },
     "execution_count": 92,
     "metadata": {},
     "output_type": "execute_result"
    }
   ],
   "source": [
    "comment_box[0].div.div.find_all(\"div\",{\"class\":\"\"})[0].text"
   ]
  },
  {
   "cell_type": "code",
   "execution_count": 93,
   "id": "aa289d9b-5be3-456d-ae76-fd42e1bd0a92",
   "metadata": {},
   "outputs": [
    {
     "name": "stdout",
     "output_type": "stream",
     "text": [
      "Best performance ... Best phone moto is very good company and good performance any features..READ MORE\n",
      "Value of money awesome battery backup awesome camera awesome performance awesome price best phone in the world..... 🙂😍😍😍😍READ MORE\n",
      "Battery back up is awesome, lasts for more than a day.Ultra resolution 108 mp camera does a good job, but takes 3-5 sec to take a photo.Front cam is not that great.Display is good, crisp and sharp, nits are not enough for  day light use.Face id doesn't work most of the time, but rear mounted  fingerprint sensor is precise and quick.Decent  performance by 732g, didn't feel any lag even while playing pubg.Doesnt have much heating issue.Stock android looks clean.READ MORE\n",
      "Fabulous phone !!!I am giving this review after 4 months using,Awesome specifications and features1) Cool Camera2) Big high refresh rate display 3) Powerfull processor (at the price) 4) Thick Shield security5) NFC6) Stock Android experience 7) Long Battery back-up And many more ...All over beast at the price !!!!!!READ MORE\n",
      "Value for money: worth buyingCamera: 1. Real skin tone colour during both day and night time. 2. Night mode clarity is great @ both indoor and outdoor. 3. Macro lens is extraordinary. 4. Additional camera futures like cutout and all are classy. 5. Produces Hd image.Battery: watched 3.5 hrs video with headphone and battery got just 11% low. Display is good to watch with hd movies.. massive mobile.READ MORE\n",
      "Mind blowing phone good camera good battery good performance and moreover big screen totally paisa vasul superb product must go with moto g 60READ MORE\n",
      "Camera is not that expected , 108 mp not getting much quality front 32 is Good superb performance no lag , fast battery is very good display also best overall a decent smartphoneREAD MORE\n",
      "Awesome mobile very good product , Thank you for flipkart value for money 💰 superbly, camera is very nice , and battery 🔋 is Average users battery full charged 2days per using , the best prosserREAD MORE\n",
      "Using this phone for past 4 months. Absolutely no issues with performance. I do not play high graphics games so can't comment on gaming performance. Camera configuration is pretty good although software needs updates. Gcam is working absolutely fine. Battery backup is pretty good, gets fully charged in 3 hrs. Full day hotspot support without much decay in charge. Call quality is also good.Overall a great purchase in big billion sale.READ MORE\n",
      "Amazing Performer।।।।Very Good Device by Motorolla. I am very happy.Stock Android experience is amazing.No Bloatware, no pre-installed apps that's why I bought this phone.Everything is great in this smartphone...Display, UI, Battery Backup, RAM Management, Speed, Storage, Weight Management, Call Quality,internet speed, Stock Android, Gaming, Sensors(Not talk about camera sensors), everything is good and works well too.Let's Come to the Camera Performance...Camera UI is very clean, simple...READ MORE\n"
     ]
    },
    {
     "ename": "AttributeError",
     "evalue": "'NoneType' object has no attribute 'div'",
     "output_type": "error",
     "traceback": [
      "\u001b[0;31m---------------------------------------------------------------------------\u001b[0m",
      "\u001b[0;31mAttributeError\u001b[0m                            Traceback (most recent call last)",
      "Cell \u001b[0;32mIn[93], line 2\u001b[0m\n\u001b[1;32m      1\u001b[0m \u001b[38;5;28;01mfor\u001b[39;00m i \u001b[38;5;129;01min\u001b[39;00m comment_box:\n\u001b[0;32m----> 2\u001b[0m     \u001b[38;5;28mprint\u001b[39m(\u001b[43mi\u001b[49m\u001b[38;5;241;43m.\u001b[39;49m\u001b[43mdiv\u001b[49m\u001b[38;5;241;43m.\u001b[39;49m\u001b[43mdiv\u001b[49m\u001b[38;5;241m.\u001b[39mfind_all(\u001b[38;5;124m\"\u001b[39m\u001b[38;5;124mdiv\u001b[39m\u001b[38;5;124m\"\u001b[39m,{\u001b[38;5;124m\"\u001b[39m\u001b[38;5;124mclass\u001b[39m\u001b[38;5;124m\"\u001b[39m:\u001b[38;5;124m\"\u001b[39m\u001b[38;5;124m\"\u001b[39m})[\u001b[38;5;241m0\u001b[39m]\u001b[38;5;241m.\u001b[39mtext)\n",
      "\u001b[0;31mAttributeError\u001b[0m: 'NoneType' object has no attribute 'div'"
     ]
    }
   ],
   "source": [
    "for i in comment_box:\n",
    "    print(i.div.div.find_all(\"div\",{\"class\":\"\"})[0].text)"
   ]
  },
  {
   "cell_type": "code",
   "execution_count": null,
   "id": "7946e531-fce5-4004-98c4-d073792e0bc2",
   "metadata": {},
   "outputs": [],
   "source": []
  }
 ],
 "metadata": {
  "kernelspec": {
   "display_name": "Python 3 (ipykernel)",
   "language": "python",
   "name": "python3"
  },
  "language_info": {
   "codemirror_mode": {
    "name": "ipython",
    "version": 3
   },
   "file_extension": ".py",
   "mimetype": "text/x-python",
   "name": "python",
   "nbconvert_exporter": "python",
   "pygments_lexer": "ipython3",
   "version": "3.10.8"
  }
 },
 "nbformat": 4,
 "nbformat_minor": 5
}
