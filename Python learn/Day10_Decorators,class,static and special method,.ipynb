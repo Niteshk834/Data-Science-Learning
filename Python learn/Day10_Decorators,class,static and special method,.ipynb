{
 "cells": [
  {
   "cell_type": "markdown",
   "id": "d07b4a6b-d723-4ec2-a1ca-e550dbacc22e",
   "metadata": {},
   "source": [
    "# Decorators"
   ]
  },
  {
   "cell_type": "code",
   "execution_count": 1,
   "id": "99fc392f-b9cd-4f2f-a261-59b393cc49d2",
   "metadata": {},
   "outputs": [],
   "source": [
    "def test():\n",
    "    print(\"This is start my function\")\n",
    "    print(4+5)\n",
    "    print(\"This is end of my function\")"
   ]
  },
  {
   "cell_type": "code",
   "execution_count": 2,
   "id": "3a1533f6-bae1-4fc9-9aae-f51128a8a647",
   "metadata": {},
   "outputs": [
    {
     "name": "stdout",
     "output_type": "stream",
     "text": [
      "This is start my function\n",
      "9\n",
      "This is end of my function\n"
     ]
    }
   ],
   "source": [
    "test()"
   ]
  },
  {
   "cell_type": "code",
   "execution_count": null,
   "id": "ea002d98-179b-45f8-9632-836c49070288",
   "metadata": {},
   "outputs": [],
   "source": [
    "# Now I have a objective to call these two lines i.e.\"This is start my function and This is end my funcion\" from every function."
   ]
  },
  {
   "cell_type": "code",
   "execution_count": 3,
   "id": "16805aa9-ef09-4b4c-9283-00319dec3d5f",
   "metadata": {},
   "outputs": [],
   "source": [
    "# For this we create decorator function"
   ]
  },
  {
   "cell_type": "code",
   "execution_count": 6,
   "id": "c39fb335-c421-4cc7-9170-2786014e731b",
   "metadata": {},
   "outputs": [],
   "source": [
    "def deco(func):\n",
    "    def inner_deco():\n",
    "        print(\"This is start my function\")\n",
    "        func()\n",
    "        print(\"This is end of my function\")\n",
    "        \n",
    "    return inner_deco()\n",
    "    "
   ]
  },
  {
   "cell_type": "code",
   "execution_count": 10,
   "id": "364d6da4-8b58-4611-bb62-5c7ae07bc2c8",
   "metadata": {},
   "outputs": [
    {
     "name": "stdout",
     "output_type": "stream",
     "text": [
      "This is start my function\n",
      "8\n",
      "This is end of my function\n"
     ]
    }
   ],
   "source": [
    "@deco\n",
    "def test1():\n",
    "    print(2+6)"
   ]
  },
  {
   "cell_type": "code",
   "execution_count": 11,
   "id": "c24b8ac1-bfb1-4b2d-8436-df653c847206",
   "metadata": {},
   "outputs": [],
   "source": [
    "# Now we will create a function to know about the how much time it will take to execute the deco function"
   ]
  },
  {
   "cell_type": "code",
   "execution_count": 12,
   "id": "7edd8950-0d43-4452-aa90-7bf23279433c",
   "metadata": {},
   "outputs": [],
   "source": [
    "import time\n",
    "def timer_test(func):\n",
    "    def inner_timer_test():\n",
    "        start= time.time()\n",
    "        func()\n",
    "        end= time.time()\n",
    "        print(\"Total time=\", end-start)\n",
    "    return inner_timer_test()   "
   ]
  },
  {
   "cell_type": "code",
   "execution_count": null,
   "id": "72f2deb6-88b1-4979-b22b-e795467c8ff9",
   "metadata": {},
   "outputs": [],
   "source": [
    "@timer_test\n",
    "def test2():\n",
    "    print(3+2)"
   ]
  },
  {
   "cell_type": "code",
   "execution_count": null,
   "id": "74e1514b-279f-4434-bc0c-3eefc3ecea01",
   "metadata": {},
   "outputs": [],
   "source": [
    "test2()"
   ]
  },
  {
   "cell_type": "code",
   "execution_count": 27,
   "id": "7f8ec834-2835-48b9-b219-25992ba65584",
   "metadata": {},
   "outputs": [
    {
     "name": "stdout",
     "output_type": "stream",
     "text": [
      "Total time= 0.00022220611572265625\n"
     ]
    }
   ],
   "source": [
    "@timer_test\n",
    "def test3():\n",
    "    for i in range(10000):\n",
    "        pass\n",
    "    "
   ]
  },
  {
   "cell_type": "markdown",
   "id": "caa54bbd-ab1a-470f-9f73-245c07edda4e",
   "metadata": {},
   "source": [
    "# Class Method"
   ]
  },
  {
   "cell_type": "code",
   "execution_count": 3,
   "id": "a547b2c6-010a-4263-a1f6-bf7fc591aae8",
   "metadata": {},
   "outputs": [],
   "source": [
    "class pwskills:\n",
    "    def __init__(self, name, email):\n",
    "        self.name=name\n",
    "        self.email=email\n",
    "        \n",
    "    def students_detail(self):\n",
    "        print(self.name, self.email)\n",
    "        "
   ]
  },
  {
   "cell_type": "code",
   "execution_count": 6,
   "id": "c125f4f4-a993-4478-bce9-68ec9c7e2577",
   "metadata": {},
   "outputs": [],
   "source": [
    "pw= pwskills(\"nitesh\", \"nk@gmail.com\")"
   ]
  },
  {
   "cell_type": "code",
   "execution_count": 8,
   "id": "3bf80384-4473-4166-84e0-bbd4a707feeb",
   "metadata": {},
   "outputs": [
    {
     "data": {
      "text/plain": [
       "'nk@gmail.com'"
      ]
     },
     "execution_count": 8,
     "metadata": {},
     "output_type": "execute_result"
    }
   ],
   "source": [
    "pw.email"
   ]
  },
  {
   "cell_type": "code",
   "execution_count": 9,
   "id": "d3a4a231-f44f-4ea0-a348-8751c4449d7c",
   "metadata": {},
   "outputs": [
    {
     "data": {
      "text/plain": [
       "'nitesh'"
      ]
     },
     "execution_count": 9,
     "metadata": {},
     "output_type": "execute_result"
    }
   ],
   "source": [
    "pw.name"
   ]
  },
  {
   "cell_type": "code",
   "execution_count": 14,
   "id": "98c7a28b-ed67-461e-a4dd-6e1e995f06c1",
   "metadata": {},
   "outputs": [
    {
     "name": "stdout",
     "output_type": "stream",
     "text": [
      "nitesh nk@gmail.com\n"
     ]
    }
   ],
   "source": [
    "pw.students_detail()"
   ]
  },
  {
   "cell_type": "code",
   "execution_count": 15,
   "id": "7c23319a-3794-47b8-8150-6209ba88935c",
   "metadata": {},
   "outputs": [],
   "source": [
    "# Now we can use alternative method for access same data and class method is come into here."
   ]
  },
  {
   "cell_type": "code",
   "execution_count": 17,
   "id": "f270e0ad-fa56-4fc3-8577-07b513a67de6",
   "metadata": {},
   "outputs": [],
   "source": [
    "class pwskills1:\n",
    "    def __init__(self, name, email):\n",
    "        self.name=name\n",
    "        self.email=email\n",
    "    \n",
    "    @classmethod\n",
    "    def details(cls, name,email):\n",
    "        return cls(name,email)\n",
    "        \n",
    "    def students_detail(self):\n",
    "        print(self.name, self.email)"
   ]
  },
  {
   "cell_type": "code",
   "execution_count": 24,
   "id": "18c6c7ba-79dc-4b52-9af3-e5d1fe8538b8",
   "metadata": {},
   "outputs": [],
   "source": [
    "pw1=pwskills1.details(\"nitesh\",\"nk73@gmail.com\")"
   ]
  },
  {
   "cell_type": "code",
   "execution_count": 27,
   "id": "0822ab80-d274-4752-80dd-0a61e7c754a2",
   "metadata": {},
   "outputs": [
    {
     "data": {
      "text/plain": [
       "'nk73@gmail.com'"
      ]
     },
     "execution_count": 27,
     "metadata": {},
     "output_type": "execute_result"
    }
   ],
   "source": [
    "pw1.email"
   ]
  },
  {
   "cell_type": "code",
   "execution_count": 28,
   "id": "6c8fab33-9f74-4f04-a440-f34065516378",
   "metadata": {},
   "outputs": [
    {
     "data": {
      "text/plain": [
       "'nitesh'"
      ]
     },
     "execution_count": 28,
     "metadata": {},
     "output_type": "execute_result"
    }
   ],
   "source": [
    "pw1.name"
   ]
  },
  {
   "cell_type": "code",
   "execution_count": 31,
   "id": "7aa76ba8-6787-4267-a64f-fe47aa340384",
   "metadata": {},
   "outputs": [
    {
     "name": "stdout",
     "output_type": "stream",
     "text": [
      "nitesh nk73@gmail.com\n"
     ]
    }
   ],
   "source": [
    "pw1.students_detail()"
   ]
  },
  {
   "cell_type": "code",
   "execution_count": 44,
   "id": "b2de2974-1326-4c3b-ae65-27e942618c57",
   "metadata": {},
   "outputs": [],
   "source": [
    "class pwskills2:\n",
    "    mobile_number= 123456789\n",
    "    def __init__(self, name, email):\n",
    "        self.name=name\n",
    "        self.email=email\n",
    "    \n",
    "    @classmethod\n",
    "    def details(cls, name,email):\n",
    "        return cls(name,email)\n",
    "        \n",
    "    def students_detail(self):\n",
    "        print(self.name, self.email,pwskills2.mobile_number)"
   ]
  },
  {
   "cell_type": "code",
   "execution_count": 45,
   "id": "a2fa54f2-9744-499b-ae3e-f00472b6dced",
   "metadata": {},
   "outputs": [
    {
     "data": {
      "text/plain": [
       "123456789"
      ]
     },
     "execution_count": 45,
     "metadata": {},
     "output_type": "execute_result"
    }
   ],
   "source": [
    "pwskills2.mobile_number"
   ]
  },
  {
   "cell_type": "code",
   "execution_count": 48,
   "id": "38151901-0a91-4cbc-9e94-844f54749613",
   "metadata": {},
   "outputs": [],
   "source": [
    "pw2= pwskills2.details(\"nitesh\",\"nk@gmail.com\")"
   ]
  },
  {
   "cell_type": "code",
   "execution_count": 49,
   "id": "51ce1eca-dcd9-4350-bf81-9ab6b0b66430",
   "metadata": {},
   "outputs": [
    {
     "name": "stdout",
     "output_type": "stream",
     "text": [
      "nitesh nk@gmail.com 123456789\n"
     ]
    }
   ],
   "source": [
    "pw2.students_detail()"
   ]
  },
  {
   "cell_type": "code",
   "execution_count": null,
   "id": "95e3b1a9-987e-4281-8f68-387eaf74dea0",
   "metadata": {},
   "outputs": [],
   "source": [
    "# Another way i.e. object method to acces students details"
   ]
  },
  {
   "cell_type": "code",
   "execution_count": 50,
   "id": "d116db7c-bdab-4a29-a9d0-2ccc95284241",
   "metadata": {},
   "outputs": [],
   "source": [
    "obj_pw2=pwskills2(\"rahul\",\"rk@gmail.com\")"
   ]
  },
  {
   "cell_type": "code",
   "execution_count": 51,
   "id": "ebd745f8-e225-4020-b2e3-c38c8441838e",
   "metadata": {},
   "outputs": [
    {
     "data": {
      "text/plain": [
       "123456789"
      ]
     },
     "execution_count": 51,
     "metadata": {},
     "output_type": "execute_result"
    }
   ],
   "source": [
    "obj_pw2.mobile_number"
   ]
  },
  {
   "cell_type": "code",
   "execution_count": 54,
   "id": "18829ac3-db52-48bb-912b-e130659948a3",
   "metadata": {},
   "outputs": [
    {
     "name": "stdout",
     "output_type": "stream",
     "text": [
      "rahul rk@gmail.com 123456789\n"
     ]
    }
   ],
   "source": [
    "obj_pw2.students_detail()"
   ]
  },
  {
   "cell_type": "code",
   "execution_count": null,
   "id": "b8f69ac3-e1c0-4c5c-bb20-144e2781402d",
   "metadata": {},
   "outputs": [],
   "source": [
    "# Now we have to modified mobile number"
   ]
  },
  {
   "cell_type": "code",
   "execution_count": 55,
   "id": "8661f197-be9a-412b-ac21-1177cbf5d67c",
   "metadata": {},
   "outputs": [],
   "source": [
    "class pwskills2:\n",
    "    mobile_number= 123456789\n",
    "    def __init__(self, name, email):\n",
    "        self.name=name\n",
    "        self.email=email\n",
    "        \n",
    "    @classmethod\n",
    "    def change_number(cls,mobile):\n",
    "        pwskills2.mobile_number= mobile\n",
    "    \n",
    "    @classmethod\n",
    "    def details(cls, name,email):\n",
    "        return cls(name,email)\n",
    "        \n",
    "    def students_detail(self):\n",
    "        print(self.name, self.email,pwskills2.mobile_number)"
   ]
  },
  {
   "cell_type": "code",
   "execution_count": 56,
   "id": "a57a6f87-5157-4d01-9366-7cd02689dd7c",
   "metadata": {},
   "outputs": [
    {
     "data": {
      "text/plain": [
       "123456789"
      ]
     },
     "execution_count": 56,
     "metadata": {},
     "output_type": "execute_result"
    }
   ],
   "source": [
    "pwskills2.mobile_number"
   ]
  },
  {
   "cell_type": "code",
   "execution_count": 57,
   "id": "161784b7-10eb-44ca-a503-24979ba03570",
   "metadata": {},
   "outputs": [],
   "source": [
    "pwskills2.change_number(4562384654)"
   ]
  },
  {
   "cell_type": "code",
   "execution_count": 58,
   "id": "aae460c5-dc87-48c6-9d7a-706532102a66",
   "metadata": {},
   "outputs": [
    {
     "data": {
      "text/plain": [
       "4562384654"
      ]
     },
     "execution_count": 58,
     "metadata": {},
     "output_type": "execute_result"
    }
   ],
   "source": [
    "pwskills2.mobile_number"
   ]
  },
  {
   "cell_type": "code",
   "execution_count": 60,
   "id": "9fd865fe-8c58-4815-b46c-9d06ef51ceb5",
   "metadata": {},
   "outputs": [],
   "source": [
    "obj_pw2=pwskills2(\"nk\",\"rkl@gmail.com\")"
   ]
  },
  {
   "cell_type": "code",
   "execution_count": 61,
   "id": "8a4981f4-9614-4396-981b-fa7aa15a8ce1",
   "metadata": {},
   "outputs": [
    {
     "data": {
      "text/plain": [
       "'nk'"
      ]
     },
     "execution_count": 61,
     "metadata": {},
     "output_type": "execute_result"
    }
   ],
   "source": [
    "obj_pw2.name"
   ]
  },
  {
   "cell_type": "code",
   "execution_count": 62,
   "id": "b85c3f62-5832-4908-8fb9-360e60f2b60e",
   "metadata": {},
   "outputs": [
    {
     "data": {
      "text/plain": [
       "'rkl@gmail.com'"
      ]
     },
     "execution_count": 62,
     "metadata": {},
     "output_type": "execute_result"
    }
   ],
   "source": [
    "obj_pw2.email"
   ]
  },
  {
   "cell_type": "code",
   "execution_count": 63,
   "id": "75425c50-2d0a-4ed5-ba11-3268bb66a89e",
   "metadata": {},
   "outputs": [],
   "source": [
    "obj_pw2.change_number(3456789)"
   ]
  },
  {
   "cell_type": "code",
   "execution_count": 64,
   "id": "994b8887-55c6-4cd6-b474-26d91b7de213",
   "metadata": {},
   "outputs": [
    {
     "data": {
      "text/plain": [
       "3456789"
      ]
     },
     "execution_count": 64,
     "metadata": {},
     "output_type": "execute_result"
    }
   ],
   "source": [
    "obj_pw2.mobile_number"
   ]
  },
  {
   "cell_type": "code",
   "execution_count": 67,
   "id": "636398a8-5d8f-4714-8f2c-d7aa1e571f01",
   "metadata": {},
   "outputs": [],
   "source": [
    "class pwskills3:\n",
    "    mobile_number= 123456789\n",
    "    def __init__(self, name, email):\n",
    "        self.name=name\n",
    "        self.email=email\n",
    "        \n",
    "    @classmethod\n",
    "    def change_number(cls,mobile):\n",
    "        pwskills2.mobile_number= mobile\n",
    "    \n",
    "    @classmethod\n",
    "    def details(cls, name,email):\n",
    "        return cls(name,email)\n",
    "        \n",
    "    def students_detail(self):\n",
    "        print(self.name, self.email,pwskills2.mobile_number)"
   ]
  },
  {
   "cell_type": "code",
   "execution_count": 68,
   "id": "06591e46-307c-4057-a1b3-04cc6681a520",
   "metadata": {},
   "outputs": [],
   "source": [
    "def course_details(cls, course_name):\n",
    "    print(\"course details\", course_name)\n",
    "    \n",
    "    # Now our objective is to add this function in pwskills3 class"
   ]
  },
  {
   "cell_type": "code",
   "execution_count": 69,
   "id": "176d2115-d4b7-4cc0-b4a4-e7bc1ebfd881",
   "metadata": {},
   "outputs": [],
   "source": [
    "pwskills3.course_details= classmethod(course_details) # Now course_details are accessible after pressing tab button"
   ]
  },
  {
   "cell_type": "code",
   "execution_count": 73,
   "id": "ad452d33-c4a2-42a8-97ea-95cc7918a81e",
   "metadata": {},
   "outputs": [
    {
     "name": "stdout",
     "output_type": "stream",
     "text": [
      "course details Data Science Master\n"
     ]
    }
   ],
   "source": [
    "pwskills3.course_details(\"Data Science Master\")"
   ]
  },
  {
   "cell_type": "code",
   "execution_count": null,
   "id": "146fa3f1-c9cd-4137-b258-9dd18a188e12",
   "metadata": {},
   "outputs": [],
   "source": [
    "# By the using of object"
   ]
  },
  {
   "cell_type": "code",
   "execution_count": 74,
   "id": "346baacd-fc68-4040-9119-a229b3dde318",
   "metadata": {},
   "outputs": [],
   "source": [
    "pw3=pwskills3(\"nitesh\",\"nit@gmail.com\")"
   ]
  },
  {
   "cell_type": "code",
   "execution_count": 76,
   "id": "27f053f7-c169-454b-a39b-802cfa439fea",
   "metadata": {},
   "outputs": [
    {
     "name": "stdout",
     "output_type": "stream",
     "text": [
      "course details web\n"
     ]
    }
   ],
   "source": [
    "pw3.course_details(\"web\")"
   ]
  },
  {
   "cell_type": "code",
   "execution_count": 77,
   "id": "34aa963f-9041-4d99-908b-6036341358de",
   "metadata": {},
   "outputs": [],
   "source": [
    "# Now I have a required to delete something"
   ]
  },
  {
   "cell_type": "code",
   "execution_count": 83,
   "id": "8d92d319-1257-4ef8-8385-c00f88f8204e",
   "metadata": {},
   "outputs": [],
   "source": [
    "class pwskills4:\n",
    "    mobile_number= 123456789\n",
    "    def __init__(self, name, email):\n",
    "        self.name=name\n",
    "        self.email=email\n",
    "        \n",
    "    @classmethod\n",
    "    def change_number(cls,mobile):\n",
    "        pwskills4.mobile_number= mobile\n",
    "    \n",
    "    @classmethod\n",
    "    def details(cls, name,email):\n",
    "        return cls(name,email)\n",
    "        \n",
    "    def students_detail(self):\n",
    "        print(self.name, self.email,pwskills2.mobile_number)"
   ]
  },
  {
   "cell_type": "code",
   "execution_count": 84,
   "id": "7d9f5e92-ff0c-4746-a083-a805376831b6",
   "metadata": {},
   "outputs": [],
   "source": [
    "pwskills4.change_number(234567890)"
   ]
  },
  {
   "cell_type": "code",
   "execution_count": 85,
   "id": "a84bba76-dbc0-4b56-9426-3355fd517c57",
   "metadata": {},
   "outputs": [
    {
     "data": {
      "text/plain": [
       "234567890"
      ]
     },
     "execution_count": 85,
     "metadata": {},
     "output_type": "execute_result"
    }
   ],
   "source": [
    "pwskills4.mobile_number"
   ]
  },
  {
   "cell_type": "code",
   "execution_count": 86,
   "id": "fe7ce747-9df1-4e50-956b-1137df577e52",
   "metadata": {},
   "outputs": [],
   "source": [
    "del pwskills4.change_number # By executing this code \"course_details\" are deleted from the suggestion list."
   ]
  },
  {
   "cell_type": "code",
   "execution_count": 88,
   "id": "62ebb971-7286-4945-94a8-ae74e5e44abf",
   "metadata": {},
   "outputs": [
    {
     "ename": "AttributeError",
     "evalue": "type object 'pwskills4' has no attribute 'change_number'",
     "output_type": "error",
     "traceback": [
      "\u001b[0;31m---------------------------------------------------------------------------\u001b[0m",
      "\u001b[0;31mAttributeError\u001b[0m                            Traceback (most recent call last)",
      "Cell \u001b[0;32mIn[88], line 1\u001b[0m\n\u001b[0;32m----> 1\u001b[0m \u001b[43mpwskills4\u001b[49m\u001b[38;5;241;43m.\u001b[39;49m\u001b[43mchange_number\u001b[49m\n",
      "\u001b[0;31mAttributeError\u001b[0m: type object 'pwskills4' has no attribute 'change_number'"
     ]
    }
   ],
   "source": [
    "pwskills4.change_number"
   ]
  },
  {
   "cell_type": "code",
   "execution_count": 89,
   "id": "3d60db1a-a73f-4afd-b4b8-d9998c3694a8",
   "metadata": {},
   "outputs": [],
   "source": [
    "# Another method to delete"
   ]
  },
  {
   "cell_type": "code",
   "execution_count": 90,
   "id": "5dfb2980-bdb5-437d-b29a-e95d59701efb",
   "metadata": {},
   "outputs": [],
   "source": [
    "delattr(pwskills4, \"details\")"
   ]
  },
  {
   "cell_type": "code",
   "execution_count": 91,
   "id": "a664a9c6-9b0f-49b4-955d-980981235524",
   "metadata": {},
   "outputs": [
    {
     "ename": "AttributeError",
     "evalue": "type object 'pwskills4' has no attribute 'details'",
     "output_type": "error",
     "traceback": [
      "\u001b[0;31m---------------------------------------------------------------------------\u001b[0m",
      "\u001b[0;31mAttributeError\u001b[0m                            Traceback (most recent call last)",
      "Cell \u001b[0;32mIn[91], line 1\u001b[0m\n\u001b[0;32m----> 1\u001b[0m \u001b[43mpwskills4\u001b[49m\u001b[38;5;241;43m.\u001b[39;49m\u001b[43mdetails\u001b[49m\n",
      "\u001b[0;31mAttributeError\u001b[0m: type object 'pwskills4' has no attribute 'details'"
     ]
    }
   ],
   "source": [
    "pwskills4.details"
   ]
  },
  {
   "cell_type": "code",
   "execution_count": 92,
   "id": "8955b216-1941-4621-8a92-68526f9603b7",
   "metadata": {},
   "outputs": [
    {
     "data": {
      "text/plain": [
       "234567890"
      ]
     },
     "execution_count": 92,
     "metadata": {},
     "output_type": "execute_result"
    }
   ],
   "source": [
    "pwskills4.mobile_number"
   ]
  },
  {
   "cell_type": "code",
   "execution_count": 93,
   "id": "9b81d60f-537c-4ebe-9939-9cec301d3266",
   "metadata": {},
   "outputs": [],
   "source": [
    "delattr(pwskills4,\"mobile_number\")"
   ]
  },
  {
   "cell_type": "code",
   "execution_count": 94,
   "id": "09799278-182d-4b0b-ace7-cc2351bec433",
   "metadata": {},
   "outputs": [
    {
     "ename": "AttributeError",
     "evalue": "type object 'pwskills4' has no attribute 'mobile_number'",
     "output_type": "error",
     "traceback": [
      "\u001b[0;31m---------------------------------------------------------------------------\u001b[0m",
      "\u001b[0;31mAttributeError\u001b[0m                            Traceback (most recent call last)",
      "Cell \u001b[0;32mIn[94], line 1\u001b[0m\n\u001b[0;32m----> 1\u001b[0m \u001b[43mpwskills4\u001b[49m\u001b[38;5;241;43m.\u001b[39;49m\u001b[43mmobile_number\u001b[49m\n",
      "\u001b[0;31mAttributeError\u001b[0m: type object 'pwskills4' has no attribute 'mobile_number'"
     ]
    }
   ],
   "source": [
    "pwskills4.mobile_number"
   ]
  },
  {
   "cell_type": "markdown",
   "id": "8364dc9d-9755-4c0d-a84e-ff49868b39a5",
   "metadata": {},
   "source": [
    "# Static method"
   ]
  },
  {
   "cell_type": "code",
   "execution_count": 1,
   "id": "e4fac404-8ba0-4a14-b7cf-2600fa609270",
   "metadata": {},
   "outputs": [],
   "source": [
    "class pwskills:\n",
    "    def student_details(self,name,email,number): # This specific function we create when we have to access data through object\n",
    "        print(name,email,number)"
   ]
  },
  {
   "cell_type": "code",
   "execution_count": 8,
   "id": "8236db69-8cf2-4d0d-8120-2395e92b7ca7",
   "metadata": {},
   "outputs": [],
   "source": [
    "pw=pwskills()"
   ]
  },
  {
   "cell_type": "code",
   "execution_count": 9,
   "id": "e493a3b8-3cd2-4a03-8725-1bfcf85cda9e",
   "metadata": {},
   "outputs": [
    {
     "name": "stdout",
     "output_type": "stream",
     "text": [
      "nitesh nk@gmail.com 123456789\n"
     ]
    }
   ],
   "source": [
    "pw.student_details(\"nitesh\",\"nk@gmail.com\",123456789)"
   ]
  },
  {
   "cell_type": "code",
   "execution_count": 10,
   "id": "39349856-6a0e-45cc-8678-c3ac20a21d40",
   "metadata": {},
   "outputs": [],
   "source": [
    "# Now we have to create a function which doesn't depend on object."
   ]
  },
  {
   "cell_type": "code",
   "execution_count": 12,
   "id": "730d4a42-5677-4578-aeeb-c49e08e610af",
   "metadata": {},
   "outputs": [],
   "source": [
    "class pwskills1:\n",
    "    def student_details(self,name,email,number): \n",
    "        print(name,email,number)\n",
    "        \n",
    "    @staticmethod\n",
    "    def mentor_class(list_mentor):\n",
    "        print(list_mentor)\n",
    "        "
   ]
  },
  {
   "cell_type": "code",
   "execution_count": 13,
   "id": "f08d3bf5-67eb-44e5-ac6a-47a161a431e3",
   "metadata": {},
   "outputs": [
    {
     "name": "stdout",
     "output_type": "stream",
     "text": [
      "['nitesh', 'Rahul', 'Ashish']\n"
     ]
    }
   ],
   "source": [
    "pwskills1.mentor_class([\"nitesh\",\"Rahul\",\"Ashish\"])"
   ]
  },
  {
   "cell_type": "code",
   "execution_count": 14,
   "id": "f020aa47-075e-49cf-b8ce-7f1d6ec1d082",
   "metadata": {},
   "outputs": [],
   "source": [
    "# Now with the help of object we will call the function"
   ]
  },
  {
   "cell_type": "code",
   "execution_count": 20,
   "id": "a7fa4837-a046-464b-8112-6f3fdbd9be6b",
   "metadata": {},
   "outputs": [],
   "source": [
    "class pwskills2:\n",
    "    def student_details(self,name,email,number): \n",
    "        print(name,email,number)\n",
    "        \n",
    "    @staticmethod    # static method we are basically used for reducing the object creation all time. Due to this we can save lots of memory.\n",
    "    def mentor_class(list_mentor):\n",
    "        print(list_mentor)\n",
    "        \n",
    "    def mentor(self,list_mentor):\n",
    "        print(list_mentor)\n",
    "        \n",
    "        \n",
    "        \n",
    "        \n",
    "        "
   ]
  },
  {
   "cell_type": "code",
   "execution_count": 21,
   "id": "bb237fc9-e168-4ba3-ac3d-7ad01089cc3f",
   "metadata": {},
   "outputs": [],
   "source": [
    "pw2=pwskills2()"
   ]
  },
  {
   "cell_type": "code",
   "execution_count": 22,
   "id": "0c7cbc87-508a-439b-80b8-eaa17d7c1142",
   "metadata": {},
   "outputs": [
    {
     "name": "stdout",
     "output_type": "stream",
     "text": [
      "['nk', 'sk']\n"
     ]
    }
   ],
   "source": [
    "pw2.mentor_class([\"nk\",\"sk\"])"
   ]
  },
  {
   "cell_type": "code",
   "execution_count": 28,
   "id": "814d7b3d-335d-4e2b-ad82-13eb58d3dcee",
   "metadata": {},
   "outputs": [
    {
     "name": "stdout",
     "output_type": "stream",
     "text": [
      "['sr', 'sd']\n"
     ]
    }
   ],
   "source": [
    "pw2.mentor([\"sr\",\"sd\"])"
   ]
  },
  {
   "cell_type": "code",
   "execution_count": 29,
   "id": "9b8d8306-a669-4ced-b7c8-59a9845840ea",
   "metadata": {},
   "outputs": [],
   "source": [
    "# Now we will try to access static method from the help of using instance method"
   ]
  },
  {
   "cell_type": "code",
   "execution_count": 30,
   "id": "e5df1d00-c86b-4b12-8b82-46694ad1b252",
   "metadata": {},
   "outputs": [],
   "source": [
    "class pwskills3:\n",
    "    def student_details(self,name,email,number): \n",
    "        print(name,email,number)\n",
    "        \n",
    "    @staticmethod    \n",
    "    def mentor_class(list_mentor):\n",
    "        print(list_mentor)\n",
    "        \n",
    "    def mentor(self,list_mentor):\n",
    "        print(list_mentor)\n",
    "        self.mentor_class([\"nitesh\",\"kumar\"]) # from this we can access static method inside the instance method\n",
    "        "
   ]
  },
  {
   "cell_type": "code",
   "execution_count": null,
   "id": "4a561ba0-e2ac-464f-93df-baecf012a32d",
   "metadata": {},
   "outputs": [],
   "source": [
    "# Now we will try to access static method from the help of using class method"
   ]
  },
  {
   "cell_type": "code",
   "execution_count": null,
   "id": "bfd941ab-4346-4965-a362-fb567675a3d2",
   "metadata": {},
   "outputs": [],
   "source": [
    "class pwskills3:\n",
    "    def student_details(self,name,email,number): \n",
    "        print(name,email,number)\n",
    "        \n",
    "    @staticmethod    \n",
    "    def mentor_class(list_mentor):\n",
    "        print(list_mentor)\n",
    "        \n",
    "    @classmethod  # from this we can access static method inside the class method  \n",
    "    def class_name(cls,class_name):\n",
    "        cls.mentor_class([\"kumar\",\"nitesh\"]) \n",
    "        \n",
    "    def mentor(self,list_mentor):\n",
    "        print(list_mentor)\n",
    "        self.mentor_class([\"nitesh\",\"kumar\"]) # from this we can access static method inside the instance method"
   ]
  },
  {
   "cell_type": "code",
   "execution_count": null,
   "id": "3fa168b6-97e6-48ec-afa8-fd14cc1284e9",
   "metadata": {},
   "outputs": [],
   "source": [
    "# Now we will try to access static method from the help of using another static method"
   ]
  },
  {
   "cell_type": "code",
   "execution_count": 54,
   "id": "15f45432-cbc4-4954-993b-2733ce11f2e2",
   "metadata": {},
   "outputs": [],
   "source": [
    "class pwskills4:\n",
    "    def student_details(self,name,email,number): \n",
    "        print(name,email,number)\n",
    "     \n",
    "    @staticmethod\n",
    "    def mentor_email_id(mail_id):\n",
    "        print(mail_id)\n",
    "    \n",
    "    @staticmethod    \n",
    "    def mentor_class(list_mentor):\n",
    "        print(list_mentor)\n",
    "        pwskills4.mentor_email_id([\"nk@gmail.com\",\"rk@gmail.com\"])     # Here, we can acces another static method variable.\n",
    "        \n",
    "    @classmethod  # from this we can access static method inside the class method  \n",
    "    def class_name(cls,class_name):\n",
    "        cls.mentor_class([\"kumar\",\"nitesh\"]) \n",
    "        \n",
    "    def mentor(self,list_mentor):\n",
    "        print(list_mentor)\n",
    "        self.mentor_class([\"nitesh\",\"kumar\"]) # from this we can access static method inside the instance method"
   ]
  },
  {
   "cell_type": "code",
   "execution_count": 32,
   "id": "e5762733-dba1-43f5-9104-03e740ca5f07",
   "metadata": {},
   "outputs": [],
   "source": [
    "# Now we will call all the function by using the object method"
   ]
  },
  {
   "cell_type": "code",
   "execution_count": 55,
   "id": "dabfefb6-3b27-4311-a15c-356d5dbd137f",
   "metadata": {},
   "outputs": [],
   "source": [
    "pw4=pwskills4()"
   ]
  },
  {
   "cell_type": "code",
   "execution_count": 51,
   "id": "0b95e39c-1b5a-44ce-86d7-bc9ee7e190af",
   "metadata": {},
   "outputs": [
    {
     "name": "stdout",
     "output_type": "stream",
     "text": [
      "nitesh nit@gmail.com 12345\n"
     ]
    }
   ],
   "source": [
    "pw4.student_details(\"nitesh\",\"nit@gmail.com\",12345)"
   ]
  },
  {
   "cell_type": "code",
   "execution_count": 57,
   "id": "b6dc696b-5ca3-473a-9db8-10f93b8354dd",
   "metadata": {},
   "outputs": [
    {
     "name": "stdout",
     "output_type": "stream",
     "text": [
      "['nitesh@gmail.com', 'nik@gmail.com']\n"
     ]
    }
   ],
   "source": [
    "pw4.mentor_email_id([\"nitesh@gmail.com\",\"nik@gmail.com\"])"
   ]
  },
  {
   "cell_type": "code",
   "execution_count": 59,
   "id": "853dd6c2-e0b1-4b5e-a2b6-b32666ea526f",
   "metadata": {},
   "outputs": [
    {
     "name": "stdout",
     "output_type": "stream",
     "text": [
      "['kumar', 'nitesh']\n",
      "['nk@gmail.com', 'rk@gmail.com']\n"
     ]
    }
   ],
   "source": [
    "pw4.class_name(\"Data science class\")"
   ]
  },
  {
   "cell_type": "code",
   "execution_count": 63,
   "id": "3b544e5e-4c53-4ae4-aad7-4711c4ecca31",
   "metadata": {},
   "outputs": [
    {
     "name": "stdout",
     "output_type": "stream",
     "text": [
      "['nite', 'kuma']\n",
      "['nk@gmail.com', 'rk@gmail.com']\n"
     ]
    }
   ],
   "source": [
    "pw4.mentor_class([\"nite\",\"kuma\"])"
   ]
  },
  {
   "cell_type": "markdown",
   "id": "5d3e6b25-11a7-4429-80df-badffef09224",
   "metadata": {},
   "source": [
    "# Special(Magic/Dunder) Method"
   ]
  },
  {
   "cell_type": "code",
   "execution_count": 64,
   "id": "dab6f7b1-9788-4b41-a346-8fc014182d56",
   "metadata": {},
   "outputs": [
    {
     "data": {
      "text/plain": [
       "['__abs__',\n",
       " '__add__',\n",
       " '__and__',\n",
       " '__bool__',\n",
       " '__ceil__',\n",
       " '__class__',\n",
       " '__delattr__',\n",
       " '__dir__',\n",
       " '__divmod__',\n",
       " '__doc__',\n",
       " '__eq__',\n",
       " '__float__',\n",
       " '__floor__',\n",
       " '__floordiv__',\n",
       " '__format__',\n",
       " '__ge__',\n",
       " '__getattribute__',\n",
       " '__getnewargs__',\n",
       " '__gt__',\n",
       " '__hash__',\n",
       " '__index__',\n",
       " '__init__',\n",
       " '__init_subclass__',\n",
       " '__int__',\n",
       " '__invert__',\n",
       " '__le__',\n",
       " '__lshift__',\n",
       " '__lt__',\n",
       " '__mod__',\n",
       " '__mul__',\n",
       " '__ne__',\n",
       " '__neg__',\n",
       " '__new__',\n",
       " '__or__',\n",
       " '__pos__',\n",
       " '__pow__',\n",
       " '__radd__',\n",
       " '__rand__',\n",
       " '__rdivmod__',\n",
       " '__reduce__',\n",
       " '__reduce_ex__',\n",
       " '__repr__',\n",
       " '__rfloordiv__',\n",
       " '__rlshift__',\n",
       " '__rmod__',\n",
       " '__rmul__',\n",
       " '__ror__',\n",
       " '__round__',\n",
       " '__rpow__',\n",
       " '__rrshift__',\n",
       " '__rshift__',\n",
       " '__rsub__',\n",
       " '__rtruediv__',\n",
       " '__rxor__',\n",
       " '__setattr__',\n",
       " '__sizeof__',\n",
       " '__str__',\n",
       " '__sub__',\n",
       " '__subclasshook__',\n",
       " '__truediv__',\n",
       " '__trunc__',\n",
       " '__xor__',\n",
       " 'as_integer_ratio',\n",
       " 'bit_count',\n",
       " 'bit_length',\n",
       " 'conjugate',\n",
       " 'denominator',\n",
       " 'from_bytes',\n",
       " 'imag',\n",
       " 'numerator',\n",
       " 'real',\n",
       " 'to_bytes']"
      ]
     },
     "execution_count": 64,
     "metadata": {},
     "output_type": "execute_result"
    }
   ],
   "source": [
    "dir(int) # output is called magic/dunder method becuase double score are using here in start and end."
   ]
  },
  {
   "cell_type": "code",
   "execution_count": 65,
   "id": "6ed60020-7ccc-40fc-a3f8-cd870255c6d9",
   "metadata": {},
   "outputs": [],
   "source": [
    "# Let's understand how dunder method work internally"
   ]
  },
  {
   "cell_type": "code",
   "execution_count": 66,
   "id": "e8c19f8c-bdbf-406c-9004-18460a52587d",
   "metadata": {},
   "outputs": [],
   "source": [
    "a=10"
   ]
  },
  {
   "cell_type": "code",
   "execution_count": 67,
   "id": "10b38376-c2cf-42c8-9ff0-e665575ffc82",
   "metadata": {},
   "outputs": [
    {
     "data": {
      "text/plain": [
       "16"
      ]
     },
     "execution_count": 67,
     "metadata": {},
     "output_type": "execute_result"
    }
   ],
   "source": [
    "a+6"
   ]
  },
  {
   "cell_type": "code",
   "execution_count": 68,
   "id": "c107ff18-0311-4309-8e42-5a20de0d2354",
   "metadata": {},
   "outputs": [
    {
     "data": {
      "text/plain": [
       "16"
      ]
     },
     "execution_count": 68,
     "metadata": {},
     "output_type": "execute_result"
    }
   ],
   "source": [
    "# By using dunder method\n",
    "a.__add__(6)   # In general dunder method are not advisable in the production coding."
   ]
  },
  {
   "cell_type": "code",
   "execution_count": 69,
   "id": "e929766a-71d2-426a-a2a6-434cffe4dcd2",
   "metadata": {},
   "outputs": [
    {
     "data": {
      "text/plain": [
       "['__add__',\n",
       " '__class__',\n",
       " '__contains__',\n",
       " '__delattr__',\n",
       " '__dir__',\n",
       " '__doc__',\n",
       " '__eq__',\n",
       " '__format__',\n",
       " '__ge__',\n",
       " '__getattribute__',\n",
       " '__getitem__',\n",
       " '__getnewargs__',\n",
       " '__gt__',\n",
       " '__hash__',\n",
       " '__init__',\n",
       " '__init_subclass__',\n",
       " '__iter__',\n",
       " '__le__',\n",
       " '__len__',\n",
       " '__lt__',\n",
       " '__mod__',\n",
       " '__mul__',\n",
       " '__ne__',\n",
       " '__new__',\n",
       " '__reduce__',\n",
       " '__reduce_ex__',\n",
       " '__repr__',\n",
       " '__rmod__',\n",
       " '__rmul__',\n",
       " '__setattr__',\n",
       " '__sizeof__',\n",
       " '__str__',\n",
       " '__subclasshook__',\n",
       " 'capitalize',\n",
       " 'casefold',\n",
       " 'center',\n",
       " 'count',\n",
       " 'encode',\n",
       " 'endswith',\n",
       " 'expandtabs',\n",
       " 'find',\n",
       " 'format',\n",
       " 'format_map',\n",
       " 'index',\n",
       " 'isalnum',\n",
       " 'isalpha',\n",
       " 'isascii',\n",
       " 'isdecimal',\n",
       " 'isdigit',\n",
       " 'isidentifier',\n",
       " 'islower',\n",
       " 'isnumeric',\n",
       " 'isprintable',\n",
       " 'isspace',\n",
       " 'istitle',\n",
       " 'isupper',\n",
       " 'join',\n",
       " 'ljust',\n",
       " 'lower',\n",
       " 'lstrip',\n",
       " 'maketrans',\n",
       " 'partition',\n",
       " 'removeprefix',\n",
       " 'removesuffix',\n",
       " 'replace',\n",
       " 'rfind',\n",
       " 'rindex',\n",
       " 'rjust',\n",
       " 'rpartition',\n",
       " 'rsplit',\n",
       " 'rstrip',\n",
       " 'split',\n",
       " 'splitlines',\n",
       " 'startswith',\n",
       " 'strip',\n",
       " 'swapcase',\n",
       " 'title',\n",
       " 'translate',\n",
       " 'upper',\n",
       " 'zfill']"
      ]
     },
     "execution_count": 69,
     "metadata": {},
     "output_type": "execute_result"
    }
   ],
   "source": [
    "dir(str)"
   ]
  },
  {
   "cell_type": "code",
   "execution_count": 70,
   "id": "8ed568e3-266f-48ef-b94e-ec4a4dfa2c3a",
   "metadata": {},
   "outputs": [],
   "source": [
    "class pwskills5():\n",
    "    def __init__(self):\n",
    "        print(\"This is my init\")\n",
    "    "
   ]
  },
  {
   "cell_type": "code",
   "execution_count": 71,
   "id": "22748678-4901-4859-a750-2cbbf8b00bd6",
   "metadata": {},
   "outputs": [
    {
     "name": "stdout",
     "output_type": "stream",
     "text": [
      "This is my init\n"
     ]
    }
   ],
   "source": [
    "pw= pwskills5()"
   ]
  },
  {
   "cell_type": "code",
   "execution_count": null,
   "id": "494d52d7-f568-4536-83a2-6dea23fd4e42",
   "metadata": {},
   "outputs": [],
   "source": [
    "# when we used another function before init function"
   ]
  },
  {
   "cell_type": "code",
   "execution_count": 73,
   "id": "d10f7701-aa2e-40a4-ab9e-dd8f14168933",
   "metadata": {},
   "outputs": [],
   "source": [
    "class pwskills6():\n",
    "    \n",
    "    def __new__(cls):\n",
    "        print(\"This is my new\")\n",
    "    \n",
    "    def __init__(self):\n",
    "        print(\"This is my init\")"
   ]
  },
  {
   "cell_type": "code",
   "execution_count": 74,
   "id": "c8d21b70-a2df-4531-9aa6-e708e08a838f",
   "metadata": {},
   "outputs": [
    {
     "name": "stdout",
     "output_type": "stream",
     "text": [
      "This is my new\n"
     ]
    }
   ],
   "source": [
    "pw= pwskills6() # output because init function internally call the new function under class"
   ]
  },
  {
   "cell_type": "code",
   "execution_count": 80,
   "id": "b08f58d0-f3c4-4688-8546-56c2f77f3e0e",
   "metadata": {},
   "outputs": [],
   "source": [
    "class pwskills7():\n",
    "    def __init__(self):\n",
    "        self.mobile_number=1234567\n",
    "        \n",
    "    def __str__(self):\n",
    "        return \" This is a magic method which will print something for object\""
   ]
  },
  {
   "cell_type": "code",
   "execution_count": 82,
   "id": "10caebc3-c6c8-4524-a9f8-673d3c7423c2",
   "metadata": {},
   "outputs": [],
   "source": [
    "pw7=pwskills7()"
   ]
  },
  {
   "cell_type": "code",
   "execution_count": 77,
   "id": "1d738d14-1e3f-4953-9593-c678a12d7947",
   "metadata": {},
   "outputs": [
    {
     "data": {
      "text/plain": [
       "<__main__.pwskills7 at 0x7fa59394a800>"
      ]
     },
     "execution_count": 77,
     "metadata": {},
     "output_type": "execute_result"
    }
   ],
   "source": [
    "pw7"
   ]
  },
  {
   "cell_type": "code",
   "execution_count": 78,
   "id": "4b8b111b-e108-441d-b93f-4032d04bcf80",
   "metadata": {},
   "outputs": [
    {
     "name": "stdout",
     "output_type": "stream",
     "text": [
      "<__main__.pwskills7 object at 0x7fa59394a800>\n"
     ]
    }
   ],
   "source": [
    "print(pw7) # before __str_ function used"
   ]
  },
  {
   "cell_type": "code",
   "execution_count": 83,
   "id": "5cd6560f-afa2-4236-9f14-a46f2b6be514",
   "metadata": {},
   "outputs": [
    {
     "name": "stdout",
     "output_type": "stream",
     "text": [
      " This is a magic method which will print something for object\n"
     ]
    }
   ],
   "source": [
    "print(pw7) # After __str__ function used"
   ]
  },
  {
   "cell_type": "markdown",
   "id": "42f0531a-a0aa-40cb-95db-361e0f75c841",
   "metadata": {},
   "source": [
    "# Property Decorators Getters, Setters, And Deletes"
   ]
  },
  {
   "cell_type": "code",
   "execution_count": 8,
   "id": "5c54c946-fc1c-4336-b7b3-27d142be937b",
   "metadata": {},
   "outputs": [],
   "source": [
    "class pwskills8:\n",
    "    def __init__(self,course_name,course_price):\n",
    "        self.course_name=course_name\n",
    "        self.__course_price=course_price"
   ]
  },
  {
   "cell_type": "code",
   "execution_count": 9,
   "id": "e887c7a0-3ecf-43bd-8c5b-135e4eb91aa6",
   "metadata": {},
   "outputs": [],
   "source": [
    "pw8=pwskills8(\"Data science\",3500)"
   ]
  },
  {
   "cell_type": "code",
   "execution_count": 10,
   "id": "358d90ce-fd9d-401b-b635-7101c99b83fc",
   "metadata": {},
   "outputs": [
    {
     "data": {
      "text/plain": [
       "'Data science'"
      ]
     },
     "execution_count": 10,
     "metadata": {},
     "output_type": "execute_result"
    }
   ],
   "source": [
    "pw8.course_name"
   ]
  },
  {
   "cell_type": "code",
   "execution_count": 11,
   "id": "943e312c-6b9c-4a98-8230-fcc32fd1df50",
   "metadata": {},
   "outputs": [
    {
     "ename": "AttributeError",
     "evalue": "'pwskills8' object has no attribute 'course_price'",
     "output_type": "error",
     "traceback": [
      "\u001b[0;31m---------------------------------------------------------------------------\u001b[0m",
      "\u001b[0;31mAttributeError\u001b[0m                            Traceback (most recent call last)",
      "Cell \u001b[0;32mIn[11], line 1\u001b[0m\n\u001b[0;32m----> 1\u001b[0m \u001b[43mpw8\u001b[49m\u001b[38;5;241;43m.\u001b[39;49m\u001b[43mcourse_price\u001b[49m\n",
      "\u001b[0;31mAttributeError\u001b[0m: 'pwskills8' object has no attribute 'course_price'"
     ]
    }
   ],
   "source": [
    "pw8.course_price"
   ]
  },
  {
   "cell_type": "code",
   "execution_count": 12,
   "id": "0664af0d-b1b1-453a-8436-ee8e362c762e",
   "metadata": {},
   "outputs": [
    {
     "data": {
      "text/plain": [
       "3500"
      ]
     },
     "execution_count": 12,
     "metadata": {},
     "output_type": "execute_result"
    }
   ],
   "source": [
    "pw8._pwskills8__course_price"
   ]
  },
  {
   "cell_type": "code",
   "execution_count": 13,
   "id": "aa488263-ac3b-41fc-a936-3dace10fd2d0",
   "metadata": {},
   "outputs": [],
   "source": [
    "# Now we have a task to accessable the course_price to outsider world"
   ]
  },
  {
   "cell_type": "code",
   "execution_count": 20,
   "id": "63f95ef7-c90f-45ab-b728-476a8bf53f42",
   "metadata": {},
   "outputs": [],
   "source": [
    "class pwskills9:\n",
    "    def __init__(self,course_name,course_price):\n",
    "        self.course_name=course_name\n",
    "        self.__course_price=course_price\n",
    "        \n",
    "    @property # This will expose our class property to the outer world\n",
    "    def course_price_access(self):\n",
    "        return self.__course_price"
   ]
  },
  {
   "cell_type": "code",
   "execution_count": 21,
   "id": "f990e32f-7b77-4b8b-84c1-0c01280a214f",
   "metadata": {},
   "outputs": [],
   "source": [
    "pw9=pwskills9(\"Data science\",3500)"
   ]
  },
  {
   "cell_type": "code",
   "execution_count": 22,
   "id": "160fdeb3-03fc-49c3-9edb-87b2d8720000",
   "metadata": {},
   "outputs": [
    {
     "data": {
      "text/plain": [
       "3500"
      ]
     },
     "execution_count": 22,
     "metadata": {},
     "output_type": "execute_result"
    }
   ],
   "source": [
    "pw9.course_price_access"
   ]
  },
  {
   "cell_type": "code",
   "execution_count": 23,
   "id": "112334fe-2e54-4072-a767-60783c3e512b",
   "metadata": {},
   "outputs": [],
   "source": [
    "\"\"\" Now how to access the outsider for access and modification of self.__course_price.\n",
    "for this we will use setter function\"\"\""
   ]
  },
  {
   "cell_type": "code",
   "execution_count": 29,
   "id": "56a5504e-88db-4f80-87b9-8502d6ce6f54",
   "metadata": {},
   "outputs": [],
   "source": [
    "class pwskills10:\n",
    "    def __init__(self,course_name,course_price):\n",
    "        self.course_name=course_name\n",
    "        self.__course_price=course_price\n",
    "        \n",
    "    @property # This will expose our class property to the outer world\n",
    "    def course_price_access(self):\n",
    "        return self.__course_price\n",
    "    \n",
    "    @course_price_access.setter\n",
    "    def course_price_set(self,price):\n",
    "        if price<=3500:\n",
    "            pass\n",
    "        else:\n",
    "            self.__course_price=price    "
   ]
  },
  {
   "cell_type": "code",
   "execution_count": 30,
   "id": "c45a9811-c2ed-4ff8-8a22-9dff2e9d5724",
   "metadata": {},
   "outputs": [],
   "source": [
    "pw10=pwskills10(\"Data science\",3500)"
   ]
  },
  {
   "cell_type": "code",
   "execution_count": 31,
   "id": "2d32fe6a-f460-43a8-9905-7fe032662103",
   "metadata": {},
   "outputs": [],
   "source": [
    "pw10.course_price_set=2300"
   ]
  },
  {
   "cell_type": "code",
   "execution_count": 32,
   "id": "bc917002-fb01-4cf7-b0bc-f269c506ab80",
   "metadata": {},
   "outputs": [
    {
     "data": {
      "text/plain": [
       "3500"
      ]
     },
     "execution_count": 32,
     "metadata": {},
     "output_type": "execute_result"
    }
   ],
   "source": [
    "pw10.course_price_access"
   ]
  },
  {
   "cell_type": "code",
   "execution_count": 33,
   "id": "88147e45-d5ec-4cad-803f-50f2acc4fb3c",
   "metadata": {},
   "outputs": [],
   "source": [
    "pw10.course_price_set=4800 # Means that external user will able to set course price"
   ]
  },
  {
   "cell_type": "code",
   "execution_count": 34,
   "id": "38b3a4d4-f4f8-4fcd-92a1-8fff416049c0",
   "metadata": {},
   "outputs": [
    {
     "data": {
      "text/plain": [
       "4800"
      ]
     },
     "execution_count": 34,
     "metadata": {},
     "output_type": "execute_result"
    }
   ],
   "source": [
    "pw10.course_price_access"
   ]
  },
  {
   "cell_type": "code",
   "execution_count": 35,
   "id": "9fea1118-92f9-436e-ad3f-2babf2126ff5",
   "metadata": {},
   "outputs": [],
   "source": [
    "# Now how to access the external user to delete the private variable"
   ]
  },
  {
   "cell_type": "code",
   "execution_count": 38,
   "id": "e0a9cea9-63a5-4c98-b983-f780f089c0be",
   "metadata": {},
   "outputs": [],
   "source": [
    "class pwskills11:\n",
    "    def __init__(self,course_name,course_price):\n",
    "        self.course_name=course_name\n",
    "        self.__course_price=course_price\n",
    "        \n",
    "    @property # This will expose our class property to the outer world\n",
    "    def course_price_access(self):\n",
    "        return self.__course_price\n",
    "    \n",
    "    @course_price_access.setter\n",
    "    def course_price_set(self,price):\n",
    "        if price<=3800:\n",
    "            pass\n",
    "        else:\n",
    "            self.__course_price=price\n",
    "            \n",
    "    @course_price_access.deleter\n",
    "    def course_price_del(self):\n",
    "        del self.__course_price\n",
    "            \n",
    "            "
   ]
  },
  {
   "cell_type": "code",
   "execution_count": 39,
   "id": "d456c4a2-24d9-45ef-b17a-84a399a38a06",
   "metadata": {},
   "outputs": [],
   "source": [
    "pw11=pwskills11(\"Data science\",3800)"
   ]
  },
  {
   "cell_type": "code",
   "execution_count": 40,
   "id": "a88990da-9c1c-41b3-a664-da4b90aadcec",
   "metadata": {},
   "outputs": [
    {
     "data": {
      "text/plain": [
       "3800"
      ]
     },
     "execution_count": 40,
     "metadata": {},
     "output_type": "execute_result"
    }
   ],
   "source": [
    "pw11.course_price_access"
   ]
  },
  {
   "cell_type": "code",
   "execution_count": 41,
   "id": "80ecb991-543f-4d03-bedc-2c315b904da1",
   "metadata": {},
   "outputs": [],
   "source": [
    "del pw11.course_price_del"
   ]
  },
  {
   "cell_type": "code",
   "execution_count": 42,
   "id": "2729557f-1749-47f3-ab79-10a24cc840e6",
   "metadata": {},
   "outputs": [
    {
     "ename": "AttributeError",
     "evalue": "'pwskills11' object has no attribute '_pwskills11__course_price'",
     "output_type": "error",
     "traceback": [
      "\u001b[0;31m---------------------------------------------------------------------------\u001b[0m",
      "\u001b[0;31mAttributeError\u001b[0m                            Traceback (most recent call last)",
      "Cell \u001b[0;32mIn[42], line 1\u001b[0m\n\u001b[0;32m----> 1\u001b[0m \u001b[43mpw11\u001b[49m\u001b[38;5;241;43m.\u001b[39;49m\u001b[43mcourse_price_access\u001b[49m\n",
      "Cell \u001b[0;32mIn[38], line 8\u001b[0m, in \u001b[0;36mpwskills11.course_price_access\u001b[0;34m(self)\u001b[0m\n\u001b[1;32m      6\u001b[0m \u001b[38;5;129m@property\u001b[39m \u001b[38;5;66;03m# This will expose our class property to the outer world\u001b[39;00m\n\u001b[1;32m      7\u001b[0m \u001b[38;5;28;01mdef\u001b[39;00m \u001b[38;5;21mcourse_price_access\u001b[39m(\u001b[38;5;28mself\u001b[39m):\n\u001b[0;32m----> 8\u001b[0m     \u001b[38;5;28;01mreturn\u001b[39;00m \u001b[38;5;28;43mself\u001b[39;49m\u001b[38;5;241;43m.\u001b[39;49m\u001b[43m__course_price\u001b[49m\n",
      "\u001b[0;31mAttributeError\u001b[0m: 'pwskills11' object has no attribute '_pwskills11__course_price'"
     ]
    }
   ],
   "source": [
    "pw11.course_price_access"
   ]
  },
  {
   "cell_type": "code",
   "execution_count": null,
   "id": "7ab5f7f9-9454-4f32-aa41-a159f3436f58",
   "metadata": {},
   "outputs": [],
   "source": []
  }
 ],
 "metadata": {
  "kernelspec": {
   "display_name": "Python 3 (ipykernel)",
   "language": "python",
   "name": "python3"
  },
  "language_info": {
   "codemirror_mode": {
    "name": "ipython",
    "version": 3
   },
   "file_extension": ".py",
   "mimetype": "text/x-python",
   "name": "python",
   "nbconvert_exporter": "python",
   "pygments_lexer": "ipython3",
   "version": "3.10.8"
  }
 },
 "nbformat": 4,
 "nbformat_minor": 5
}
