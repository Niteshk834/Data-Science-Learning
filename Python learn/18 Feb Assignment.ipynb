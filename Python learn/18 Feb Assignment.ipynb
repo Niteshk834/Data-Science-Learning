{
 "cells": [
  {
   "cell_type": "markdown",
   "id": "60373bf2-c074-4522-bfb0-35ebddf598c2",
   "metadata": {},
   "source": [
    "# 18 Feb Assignment\n",
    "\n",
    "## Date:- 18.02.2023"
   ]
  },
  {
   "cell_type": "markdown",
   "id": "5ca43b43-1c81-46da-b0e7-fa657307b313",
   "metadata": {},
   "source": [
    "# Q1. What is an API? Give an example, where an API is used in real life.\n",
    "\n"
   ]
  },
  {
   "cell_type": "markdown",
   "id": "b7458461-e8a2-4c75-957d-fb0af1c0dc64",
   "metadata": {},
   "source": [
    "### Answer:-"
   ]
  },
  {
   "cell_type": "markdown",
   "id": "a757238c-34b3-484e-b71d-1c1389993e94",
   "metadata": {},
   "source": [
    "An API is a communication interface that allows two separate software components to share data. An API operates as a bridge between internal and external software operations, allowing for a fluid interchange of data that frequently passes undetected by the end-user. Simply said, an API acts as a virtual middleman, transferring data from one interface, such as a mobile app, to another. APIs connect various sections of a software platform to guarantee that information is sent correctly. These connection points serve as an internal communication route, and a way for external tools to access the same data. As a result, APIs may be classified into two types:\n",
    "\n",
    "Private APIs:\n",
    "\n",
    "A private API is only available to developers and users within a company. These APIs are often used to link internal team operations to remove silos(kind of bubble) and streamline communication.\n",
    "\n",
    "Open APIs: \n",
    "\n",
    "On the other hand, open APIs allow third-party developers to quickly access and merge data from one tool to another. An open or public API saves time for developers by allowing them to link their platform with already existing tools, minimizing the need to construct new services."
   ]
  },
  {
   "cell_type": "code",
   "execution_count": null,
   "id": "1a54b72a-f41b-49a2-9de9-8132d2d4e5b7",
   "metadata": {},
   "outputs": [],
   "source": [
    "# Example of Private API"
   ]
  },
  {
   "cell_type": "markdown",
   "id": "ce360427-c086-4297-9e46-94f35237888f",
   "metadata": {},
   "source": [
    "### facebook login"
   ]
  },
  {
   "cell_type": "markdown",
   "id": "4dc57be3-24c2-4d62-a6cb-a5fec3d67b62",
   "metadata": {},
   "source": [
    "Facebook use the APIs to authenticate the user with each login.\n",
    "\n",
    "It operates in a straightforward manner. When the program loads, it checks the API to see whether the user is already logged in to facebook platform. If not, when the user hits the \"Log-in Using XYZ\" button, a pop-up appears asking them to confirm they really want to log in with that facebook profile. When the user confirms, the API sends identity information to the application, letting it know who is logging in."
   ]
  },
  {
   "cell_type": "code",
   "execution_count": null,
   "id": "d310a97d-9e4a-4fc4-87e6-622b0f3284f6",
   "metadata": {},
   "outputs": [],
   "source": [
    "# Example of Open APIs"
   ]
  },
  {
   "cell_type": "markdown",
   "id": "81b7dcdf-9488-45d7-9132-7a3a05d7135c",
   "metadata": {},
   "source": [
    "### Weather data from google"
   ]
  },
  {
   "cell_type": "markdown",
   "id": "af30b361-b74e-4013-b790-26a0520876ec",
   "metadata": {},
   "source": [
    "Google isn't in the weather data business (yet!), so they get it from a third party. They do it using an API, which feeds them the most recent meteorological information in a format that they can easily modify. As previously stated, several weather APIs power this type of functionality."
   ]
  },
  {
   "cell_type": "code",
   "execution_count": null,
   "id": "26cbd569-14a9-44f2-8983-6bb3faf47707",
   "metadata": {},
   "outputs": [],
   "source": []
  },
  {
   "cell_type": "markdown",
   "id": "9f130117-69a9-4119-aa63-ae9d7908b1d0",
   "metadata": {},
   "source": [
    "# Q2. Give advantages and disadvantages of using API.\n"
   ]
  },
  {
   "cell_type": "markdown",
   "id": "7a382961-ff42-4403-9654-99555428f7db",
   "metadata": {},
   "source": [
    "### Answer:-"
   ]
  },
  {
   "cell_type": "markdown",
   "id": "9949aa56-2255-40de-9c85-a1276bd60e46",
   "metadata": {},
   "source": [
    "### Advantages of using API"
   ]
  },
  {
   "cell_type": "markdown",
   "id": "2df21626-7adb-48ef-a06d-f571eeb561ec",
   "metadata": {},
   "source": [
    "The main advantage of providing an API is that it allows our users to do more with our product or service (i.e. it increases the value of our product). This typically takes one of two forms -\n",
    "\n",
    "1. An integration\n",
    "\n",
    "An example of an integration is to push notifications from our product (such as CRM, Helpdesk) to a messaging tool such as Slack. In this way, if our customer uses Slack they can receive notifications without having to login directly to our system or check emails.\n",
    "\n",
    "2. New functionality\n",
    "\n",
    "In the early days of Twitter, some of the most popular Twitter clients were produced by third parties using the Twitter API. Twitter and its users benefited from the new functionality that was undertaken by other companies.\n",
    "\n",
    "3. API can provide a way to access functionality or data that is not otherwise readily available or accessible.\n",
    "\n",
    "4. API can provide a way to automate tasks.\n",
    "5. API can help to improve communication between disparate systems.\n",
    "\n"
   ]
  },
  {
   "cell_type": "markdown",
   "id": "23e5bd78-d963-4592-9252-3840ae2c731c",
   "metadata": {},
   "source": [
    "### Disadvantages of using API"
   ]
  },
  {
   "cell_type": "markdown",
   "id": "1f2afa16-1fec-4417-9d45-ec15feb007bf",
   "metadata": {},
   "source": [
    "1. Cost\n",
    "\n",
    "Providing an API is expensive in terms of development time, ongoing maintenance, providing API documentation on our website and providing support to users of our API.\n",
    "\n",
    "2. Security exposure\n",
    "\n",
    "Adding an API adds another attack surface to our website.\n",
    "\n",
    "3. You might not like the result or you may change business direction\n",
    "\n",
    "It's not always easy to predict exactly how our API will be used. If our integration with a messaging system means that users login to our service less often, will there be an overall negative impact for us? Withdrawing an API can be painful for users if we decide that we need to do so. This is unusual but it can happen. As Twitter's business evolved it changed its rules for accessing its API which resulted in a number of problems for users and developers.\n",
    "\n",
    "4. API can be difficult to use and understand.\n",
    "\n",
    "5. API cannot be guaranteed to be stable or backwards compatible.\n",
    "\n",
    "6. API may require a certain level of technical expertise in order to use them effectively.\n"
   ]
  },
  {
   "cell_type": "code",
   "execution_count": null,
   "id": "e3b7bd8b-1069-4033-b9c7-816d35165a22",
   "metadata": {},
   "outputs": [],
   "source": []
  },
  {
   "cell_type": "markdown",
   "id": "b17c850c-e08e-4e3d-9d7b-1c2080d5c489",
   "metadata": {},
   "source": [
    "# Q3. What is a Web API? Differentiate between API and Web API.\n",
    "\n"
   ]
  },
  {
   "cell_type": "markdown",
   "id": "98037454-8729-4c10-95e3-b49fb7ceb26c",
   "metadata": {},
   "source": [
    "### Answer:-"
   ]
  },
  {
   "cell_type": "markdown",
   "id": "96c1d5cc-f183-48c4-bf90-8dbdbeffbe36",
   "metadata": {},
   "source": [
    "## Web API"
   ]
  },
  {
   "cell_type": "markdown",
   "id": "0ed11cca-4a7f-4346-9563-e5b567e5aadd",
   "metadata": {},
   "source": [
    "Web API is an API as the name suggests, it can be accessed over the web using the HTTP protocol. It is a framework that helps you to create and develop HTTP based RESTFUL services. The web API can be developed by using different technologies such as java, ASP.NET, etc. Web API is used in either a web server or a web browser. Basically Web API is a web development concept. It is limited to Web Application’s client-side and also it does not include a web server or web browser details. If an application is to be used on a distributed system and to provide services on different devices like laptops, mobiles, etc then web API services are used. Web API is the enhanced form of the web application."
   ]
  },
  {
   "cell_type": "markdown",
   "id": "6028dafb-1e8f-41b4-a0e9-09dc89c47c5e",
   "metadata": {},
   "source": [
    "##### Where to use Web API?"
   ]
  },
  {
   "cell_type": "markdown",
   "id": "082ac655-e2e4-479c-8a73-77f63f7a2944",
   "metadata": {},
   "source": [
    "1. Web APIs are very useful in implementation of RESTFUL web services using .NET framework.\n",
    "\n",
    "2. Web API helps in enabling the development of HTTP services to reach out to client entities like browser, devices or tablets.\n",
    "\n",
    "3. ASP.NET Web API can be used with MVC for any type of application.\n",
    "\n",
    "4. A web API can help us to develop ASP.NET application via AJAX.\n",
    "\n",
    "Hence, web API makes it easier for the developers to build an ASP.NET application that is compatible with any browser and almost any device.\n",
    "\n"
   ]
  },
  {
   "cell_type": "markdown",
   "id": "81e741df-6dce-4a97-a34b-1bc6e3ecb8b1",
   "metadata": {},
   "source": [
    "##### Why to Choose Web API?"
   ]
  },
  {
   "cell_type": "markdown",
   "id": "3586c576-1407-47a8-bc75-d30c81ac01cf",
   "metadata": {},
   "source": [
    "\n",
    "1. A Web API services are preferable over other services to use with a native application that does not support SOAP but require web services.\n",
    "\n",
    "2. For creating resource-oriented services, the web API services are the best to choose. By using HTTP or restful service, these services are established.\n",
    "\n",
    "3. If we want good performance and fast development of services, the web API services are very helpful.\n",
    "\n",
    "4. For developing light weighted and maintainable web services, web API services are really helpful to develop that service. It supports any text pattern like JSON, XML etc.\n",
    "\n",
    "5. The devices that have tight bandwidth or having a limitation in bandwidth, then the Web API services are the best for those devices.\n"
   ]
  },
  {
   "cell_type": "markdown",
   "id": "98ce6f58-07b0-4277-935d-f3db2005304d",
   "metadata": {},
   "source": [
    "##### How to use Web API?"
   ]
  },
  {
   "cell_type": "markdown",
   "id": "6c94f3ec-7f1d-4b2d-b145-48aaff191122",
   "metadata": {},
   "source": [
    "1. Web API receives requests from different types of client devices like mobile, laptop, etc, and then sends those requests to the webserver to process those requests and returns the desired output to the client. Web API is a System to System interaction, in which the data or information from one system can be accessed by another system, after the completion of execution the resultant data or we can say as output is shown to the viewer.\n",
    "\n",
    "2. API provides data to its programmers which is made available to outside users. When programmers decide to make some of their data available to the public, they “expose endpoints, ” meaning they publish a portion of the language they have used to build their program. Other programmers can then extract the data from the application by building URLs or using HTTP clients to request data from those endpoints.\n",
    "\n",
    "Server Side:\n",
    "\n",
    "A server-side web API is a programmatic interface. It consists of one or more publicly exposed endpoints. It defines a request-response message system. Mashup is a web application that is a server-side API that combines several server-side APIs. Webhook is a server-side API that takes input as a uniform resource identifier.\n",
    "\n",
    "Client Side: \n",
    "\n",
    "Client Side web APIs target standardized JavaScript bindings. Google created their native client architecture designed to replace native plug-ins with secure native sandboxed extensions and applications.\n",
    "\n",
    "\n"
   ]
  },
  {
   "cell_type": "markdown",
   "id": "ff6c2778-d2e1-4090-97a2-97aaf1e9d709",
   "metadata": {},
   "source": [
    "##### Steps to use Web API:"
   ]
  },
  {
   "cell_type": "markdown",
   "id": "b64d7eba-9773-48b1-8e3e-bce05f335343",
   "metadata": {},
   "source": [
    "1. Most APIs require an API key. Once you find an API you want to play with, look in the documentation for access requirements. Most APIs will ask you to complete an identity verification, like signing in with your Google account. You’ll get a unique string of letters and numbers to use when accessing the API.\n",
    "\n",
    "2. The easiest way to start using an API is by finding an HTTP client online, like REST-Client, Postman, or Paw. These ready-made tools help you structure your requests to access existing APIs with the API key you received. You’ll still need to know some of the syntaxes from the documentation, but there is very little coding knowledge required.\n",
    "\n",
    "3. The next best way to pull data from an API is by building a URL from existing API documentation.\n"
   ]
  },
  {
   "cell_type": "markdown",
   "id": "f3ca207d-bdf1-4573-9f7c-5cdf1bbd9eea",
   "metadata": {},
   "source": [
    "##### Popular API Examples:"
   ]
  },
  {
   "cell_type": "markdown",
   "id": "5865d139-4fa0-4b68-b9f8-ccae8a32f0b8",
   "metadata": {},
   "source": [
    "1. Google Maps API’s: \n",
    "\n",
    "Google Maps APIs allows developers to use Google Maps on Webpages using a JavaScript or Flash interface.\n",
    "\n",
    "2. YouTube API’s:\n",
    "\n",
    "Google’s API lets developers integrate YouTube and functionality into websites or applications. YouTube APIs include the YouTube analytics API, YouTube Data API, YouTube live streaming API, YouTube Player APIs and others.\n",
    "\n",
    "3. The Flickr APIs: \n",
    "\n",
    "It is used by developers to access the Flick photo sharing community data.\n",
    "\n",
    "4. Twitter APIs:\n",
    "\n",
    "Twitter offers two APIs, the REST API allows developers to access core Twitter data and the search API provides methods for developers to interact with twitter search and trends data."
   ]
  },
  {
   "cell_type": "markdown",
   "id": "6246e803-f04f-429b-8b78-0948d3a96b9d",
   "metadata": {},
   "source": [
    "## Differentiate between API and Web API."
   ]
  },
  {
   "cell_type": "markdown",
   "id": "b5d03077-1964-4069-af42-ecf8dfb0581b",
   "metadata": {},
   "source": [
    "An API (Application Programming Interface) is a set of protocols, routines, and tools that are used to build software applications. It allows different software systems to interact with each other, exchange data, and perform various operations. APIs can be used for a variety of purposes, including data sharing, communication between software components, and access to services.\n",
    "\n",
    "A Web API (Web Application Programming Interface), on the other hand, is an API that is specifically designed to be used over the web. It is a type of API that allows different web applications to interact with each other, exchange data, and perform operations over the internet.\n",
    "\n",
    "The key difference between a generic API and a Web API is that Web APIs use web-based protocols such as HTTP and HTTPS to communicate between applications, whereas a generic API may use any type of protocol to communicate between software components.\n",
    "\n",
    "Web APIs are typically used to provide access to web-based services such as social media platforms, online marketplaces, and other web-based applications. They are also commonly used to provide access to data sources such as databases and file systems."
   ]
  },
  {
   "cell_type": "code",
   "execution_count": null,
   "id": "0d2a4faf-4c3e-4ae7-8664-9430844c552d",
   "metadata": {},
   "outputs": [],
   "source": []
  },
  {
   "cell_type": "markdown",
   "id": "e87bb809-bdd9-4725-99d9-4f19dc20baf5",
   "metadata": {},
   "source": [
    "# Q4. Explain REST and SOAP Architecture. Mention shortcomings of SOAP.\n",
    "\n"
   ]
  },
  {
   "cell_type": "markdown",
   "id": "b4464941-5e0e-4ec2-abd4-775f46c44a11",
   "metadata": {},
   "source": [
    "### Answer:-"
   ]
  },
  {
   "cell_type": "markdown",
   "id": "6ab6e08e-2c97-4d2b-8cdc-c225343ff93d",
   "metadata": {},
   "source": [
    "## REST Architecture"
   ]
  },
  {
   "cell_type": "markdown",
   "id": "af89fc32-9a1c-47dd-8e77-e3e23b4d6a88",
   "metadata": {},
   "source": [
    "REST stands for REpresentational State Transfer. It is a software architectural style that defines the set of rules to be used for creating web services. Web services which follow the REST architectural style are known as RESTful web services. It allows requesting systems to access and manipulate web resources by using a uniform and predefined set of rules.\n",
    "REST uses less bandwidth, simple and flexible making it more suitable for internet usage. It’s used to fetch or give some information from a web service. All communication done via REST API uses only Internet’s Hypertext Transfer Protocol (HTTP) request. \n",
    "\n",
    "A Restful system consists of a:\n",
    "\n",
    "1. client who requests for the resources.\n",
    "\n",
    "2. server who has the resources.\n",
    "\n",
    "###### Working:\n",
    "A request is sent from client to server in the form of a web URL as HTTP GET or POST or PUT or DELETE request. After that, a response comes back from the server in the form of a resource which can be anything like HTML, XML, Image, or JSON. But now JSON is the most popular format being used in Web Services."
   ]
  },
  {
   "cell_type": "markdown",
   "id": "e267785d-e4e6-45df-b222-dafcd275a8a2",
   "metadata": {},
   "source": [
    "There are six architectural constraints which makes any web service are listed below:\n",
    "\n",
    "1. Uniform Interface\n",
    "\n",
    "It is a key constraint that differentiate between a REST API and Non-REST API. It suggests that there should be an uniform way of interacting with a given server irrespective of device or type of application (website, mobile app). Specific resources should be identified in the request. Usually, they are described by Uniform Resource Identifier (URI).\n",
    "\n",
    "2. Stateless\n",
    "\n",
    "It means that the necessary state to handle the request is contained within the request itself and server would not store anything related to the session. In REST, the client must include all information for the server to fulfill the request whether as a part of query params, headers or URI. Statelessness enables greater availability since the server does not have to maintain, update or communicate that session state. There is a drawback when the client need to send too much data to the server so it reduces the scope of network optimization and requires more bandwidth.\n",
    "\n",
    "3. Cacheable\n",
    "\n",
    "Every response should include whether the response is cacheable or not and for how much duration responses can be cached at the client side. Client will return the data from its cache for any subsequent request and there would be no need to send the request again to the server. A well-managed caching partially or completely eliminates some client–server interactions, further improving availability and performance. But sometime there are chances that user may receive stale data. \n",
    "\n",
    "4. Client-Server\n",
    "\n",
    "REST application should have a client-server architecture. A Client is someone who is requesting resources and are not concerned with data storage, which remains internal to each server, and server is someone who holds the resources and are not concerned with the user interface or user state. They can evolve independently. Client doesn’t need to know anything about business logic and server doesn’t need to know anything about frontend UI. \n",
    "Both client and server don’t need to know about other responsibilities. Thus, they can evolve independently. It allows using a single API in many different clients, e.g., web browsers, mobile apps.\n",
    "\n",
    "5. Layered System\n",
    "\n",
    "A REST API can consist of multiple layers, eg., business logic, presentation, data access. Each layer doesn’t know any thing about any layer other than that of immediate layer and there can be lot of intermediate servers between client and the end server. Therefore, we can easily scale the system or provide additional layers such as gateways, proxies, load balancers.\n",
    "\n",
    "6. Code on Demand\n",
    "\n",
    "It is an optional feature. According to this, servers can also provide executable code to the client. The examples of code on demand may include the compiled components such as JavaScript. \n",
    "The server can return a part of the code itself instead of the data in JSON format. The point is to provide specific operations on the data that the client can use directly."
   ]
  },
  {
   "cell_type": "markdown",
   "id": "34dd7556-47ba-44e9-b275-648c337d9513",
   "metadata": {},
   "source": [
    "#### Rules of REST API:"
   ]
  },
  {
   "cell_type": "markdown",
   "id": "cdb26b8b-fa88-4e40-bc23-5f577ea7bd4a",
   "metadata": {},
   "source": [
    "1. REST is based on the resource or noun instead of action or verb based. It means that a URI of a REST API should always end with a noun. Example: /api/users is a good example, but /api?type=users is a bad example of creating a REST API.\n",
    "\n",
    "2. HTTP verbs are used to identify the action. Some of the HTTP verbs are – GET, PUT, POST, DELETE, GET, PATCH.\n",
    "\n",
    "3. A web application should be organized into resources like users and then uses HTTP verbs like – GET, PUT, POST, DELETE to modify those resources. And as a developer it should be clear that what needs to be done just by looking at the endpoint and HTTP method used.\n",
    "\n",
    "4. Always use plurals in URL to keep an API URI consistent throughout the application.\n",
    "\n",
    "5. Send a proper HTTP code to indicate a success or error status."
   ]
  },
  {
   "cell_type": "markdown",
   "id": "7131e6fe-2c88-45db-ae87-c69de490dd44",
   "metadata": {},
   "source": [
    "## SOAP Architecture"
   ]
  },
  {
   "cell_type": "markdown",
   "id": "d9a521b3-4d3a-4691-9704-af22b67aa6b3",
   "metadata": {},
   "source": [
    "SOAP is an stands for Simple Object Access Protocol. It is an XML-based messaging protocol for exchanging information among computers. SOAP is an application of the XML specification.\n",
    "\n",
    "The SOAP architecture follows a client-server model and is based on the idea of sending XML messages over HTTP or other protocols.\n",
    "\n",
    "##### The SOAP architecture consists of four components:\n",
    "\n",
    "1. SOAP Envelope:\n",
    "\n",
    "The SOAP envelope is the top-level element in a SOAP message and contains the XML namespace declarations and the SOAP header and body elements.\n",
    "\n",
    "2. SOAP Header: \n",
    "\n",
    "The SOAP header is an optional element that contains application-specific information, such as authentication credentials or message routing instructions.\n",
    "\n",
    "3. SOAP Body: \n",
    "\n",
    "The SOAP body contains the actual XML message being exchanged between the client and server. This message can be a method call or a response to a method call.\n",
    "\n",
    "4. SOAP Fault:\n",
    "\n",
    "The SOAP fault element is used to convey error information back to the client if an error occurs during message processing.\n",
    "\n",
    "\n",
    "SOAP is designed to be platform and language independent, making it a popular choice for web services that need to communicate across different systems. However, it has been largely replaced by RESTful web services, which are simpler and more lightweight.\n"
   ]
  },
  {
   "cell_type": "markdown",
   "id": "b2031da4-dc3c-4ba2-b513-8ce95de4fb2f",
   "metadata": {},
   "source": [
    "### Sortcoming of SOAP"
   ]
  },
  {
   "cell_type": "markdown",
   "id": "b7ceb8f8-b61e-4bf5-84a2-df74c2d08c46",
   "metadata": {},
   "source": [
    "1. Complexity: \n",
    "\n",
    "SOAP can be quite complex and verbose, with a lot of overhead due to the use of XML. This can make it more difficult to implement and use compared to simpler protocols like REST.\n",
    "\n",
    "2. Performance:\n",
    "\n",
    "Because SOAP uses XML, it can be slower and more resource-intensive than other protocols, especially when dealing with large amounts of data.\n",
    "\n",
    "3. Security: \n",
    "\n",
    "While SOAP does support various security measures, such as SSL and WS-Security, implementing these measures can add complexity and overhead to the protocol.\n",
    "\n",
    "4. Limited browser support: \n",
    "\n",
    "Because SOAP requires XML parsing and is typically used with more complex web services, it is not well-suited for use in browser-based applications.\n",
    "\n",
    "5. Lack of flexibility: \n",
    "\n",
    "SOAP is a rigid protocol, with strict rules and standards for message structure and data types. This can make it difficult to work with in some cases where more flexibility is required."
   ]
  },
  {
   "cell_type": "markdown",
   "id": "46636541-7ad4-48c3-ab2e-a964bb16a127",
   "metadata": {},
   "source": [
    "# Q5. Differentiate between REST and SOAP."
   ]
  },
  {
   "cell_type": "markdown",
   "id": "d28b7e14-8c21-4613-a03c-67b6c8eccc0a",
   "metadata": {},
   "source": [
    "## Answer:-"
   ]
  },
  {
   "cell_type": "markdown",
   "id": "04e099c5-6c5d-4511-972e-c43f5ffd79d3",
   "metadata": {},
   "source": [
    "REST (Representational State Transfer) and SOAP (Simple Object Access Protocol) are two popular web service communication protocols.\n",
    "\n",
    "Here are some key differences between REST and SOAP:\n",
    "\n",
    "1. Architecture:\n",
    "\n",
    "REST is an architectural style that follows a client-server model, while SOAP is a protocol with a specific set of rules for exchanging messages between computers.\n",
    "\n",
    "2. Protocol:\n",
    "\n",
    "REST is primarily based on HTTP and uses simple CRUD (Create, Read, Update, Delete) operations, while SOAP can use a variety of protocols such as HTTP, SMTP, TCP, and more.\n",
    "\n",
    "3. Message Format: \n",
    "\n",
    "REST typically uses JSON or XML format for message exchanges, while SOAP uses XML only.\n",
    "\n",
    "4. Ease of Use: \n",
    "\n",
    "REST is simpler and easier to use than SOAP. REST APIs are lightweight and require less bandwidth, while SOAP APIs are more complex and require more bandwidth.\n",
    "\n",
    "5. Performance:\n",
    "\n",
    "REST APIs are faster and more scalable than SOAP APIs because they use a lightweight message format and HTTP verbs, while SOAP APIs require a more robust message format and additional protocols.\n",
    "\n",
    "6. Security:\n",
    "\n",
    "REST has SSL and HTTPS for security. On other hand SOAP has SSL( Secure Socket Layer) and WS-security due to which in the cases like Bank Account Password, Card Number, etc. SOAP is preferred over REST.\n",
    "\n",
    "7. Interchange:\n",
    "\n",
    "REST can make use of SOAP as the underlying protocol for web services, because in the end it is just an architectural pattern.On other hand SOAP cannot make use of REST since SOAP is a protocol and REST is an architectural pattern.\n"
   ]
  },
  {
   "cell_type": "code",
   "execution_count": null,
   "id": "bb2ac648-4720-462b-ae5f-8c0b38f2b25b",
   "metadata": {},
   "outputs": [],
   "source": []
  }
 ],
 "metadata": {
  "kernelspec": {
   "display_name": "Python 3 (ipykernel)",
   "language": "python",
   "name": "python3"
  },
  "language_info": {
   "codemirror_mode": {
    "name": "ipython",
    "version": 3
   },
   "file_extension": ".py",
   "mimetype": "text/x-python",
   "name": "python",
   "nbconvert_exporter": "python",
   "pygments_lexer": "ipython3",
   "version": "3.10.8"
  }
 },
 "nbformat": 4,
 "nbformat_minor": 5
}
