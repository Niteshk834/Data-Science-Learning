{
 "cells": [
  {
   "cell_type": "markdown",
   "id": "ada3184a-d6a5-4a05-bab1-2521bc9c77b5",
   "metadata": {},
   "source": [
    "## Control flow\n",
    "### Decision making"
   ]
  },
  {
   "cell_type": "code",
   "execution_count": null,
   "id": "6e234cb9-a6ab-4767-b25b-6f35225063ed",
   "metadata": {},
   "outputs": [],
   "source": [
    "# If statement\n",
    "age= 18\n",
    "if age>=18:\n",
    "    print (\"you are eligible to vote\")"
   ]
  },
  {
   "cell_type": "code",
   "execution_count": null,
   "id": "c89aaeeb-de68-418d-8963-a577ecf5a894",
   "metadata": {},
   "outputs": [],
   "source": [
    "# If statement\n",
    "age=int(input(\"Enter your age\"))\n",
    "if age>=18 and age<45:\n",
    "    print (\"you are young blood\")\n",
    "else :\n",
    "    print(\"Application rejected\")\n",
    "    "
   ]
  },
  {
   "cell_type": "code",
   "execution_count": null,
   "id": "5045a132-c032-4318-84f5-99ea6704e786",
   "metadata": {},
   "outputs": [],
   "source": [
    "amount= int(input(\"Enter you amount available in your Bank saving account\"))\n",
    "if amount>=1000:\n",
    "    amount_payble=amount-(amount*20/100)\n",
    "    print(\"You have to give amount=\",amount_payble)\n",
    "else :\n",
    "        amount_payble= amount-(amount*30/100)\n",
    "        print (\"You have to give amount\",amount_payble)\n"
   ]
  },
  {
   "cell_type": "code",
   "execution_count": 18,
   "id": "2d448e68-f170-49a1-afd5-174d07d7919e",
   "metadata": {},
   "outputs": [
    {
     "name": "stdin",
     "output_type": "stream",
     "text": [
      "Enter you amount available in your Bank saving account 500\n"
     ]
    },
    {
     "name": "stdout",
     "output_type": "stream",
     "text": [
      "You have to give amount 350.0\n"
     ]
    }
   ],
   "source": [
    "amount= int(input(\"Enter you amount available in your Bank saving account\"))\n",
    "if amount>=1000:\n",
    "    print(\"You have to give amount= {}\".format(amount-(amount*20/100)))\n",
    "else :\n",
    "        amount_payble= amount-(amount*30/100)\n",
    "        print (\"You have to give amount\",amount_payble)"
   ]
  },
  {
   "cell_type": "code",
   "execution_count": null,
   "id": "17b7701d-04af-4c5b-8efa-20112af76266",
   "metadata": {},
   "outputs": [],
   "source": [
    "  amount= int(input(\"Enter you amount available in your Bank saving account\"))\n",
    "if amount>=1000:\n",
    "    print(f\"You have to give amount= {amount-(amount*20/100)}\")\n",
    "else :\n",
    "        amount_payble= amount-(amount*30/100)\n",
    "        print (\"You have to give amount\",amount_payble)"
   ]
  },
  {
   "cell_type": "code",
   "execution_count": 34,
   "id": "b8a72ec9-2f0a-4a92-a2ad-6190f4005f24",
   "metadata": {},
   "outputs": [
    {
     "name": "stdin",
     "output_type": "stream",
     "text": [
      "Enter the price of the product 500\n"
     ]
    },
    {
     "name": "stdout",
     "output_type": "stream",
     "text": [
      "You have to paid amount to purchase the product= 300.0\n"
     ]
    }
   ],
   "source": [
    "price= int(input(\"Enter the price of the product\"))\n",
    "if price>3000:\n",
    "    print(\"You have to paid amount to purchase the product= {}\".format(price-(price*20/100)))\n",
    "elif price>=2000 and price<=3000 :\n",
    "         print(\"You have to paid amount to purchase the product= {}\".format(price-(price*30/100)))\n",
    "else :\n",
    "         print(\"You have to paid amount to purchase the product= {}\".format(price-(price*40/100)))"
   ]
  },
  {
   "cell_type": "code",
   "execution_count": 2,
   "id": "56844365-9a3a-40f4-a61e-1b1737e3f439",
   "metadata": {},
   "outputs": [
    {
     "name": "stdin",
     "output_type": "stream",
     "text": [
      "Enter the price of the product 500\n"
     ]
    },
    {
     "name": "stdout",
     "output_type": "stream",
     "text": [
      "You have to paid amount to purchase the product= 300.0\n"
     ]
    }
   ],
   "source": [
    "price= int(input(\"Enter the price of the product\"))\n",
    "if price>3000:\n",
    "    print(f\"You have to paid amount to purchase the product= {price-(price*20/100)}\")\n",
    "elif price>=2000 and price<=3000 :\n",
    "         print(f\"You have to paid amount to purchase the product= {price-(price*30/100)}\")\n",
    "else :\n",
    "         print(f\"You have to paid amount to purchase the product= {price-(price*40/100)}\")"
   ]
  },
  {
   "cell_type": "code",
   "execution_count": 1,
   "id": "5b3a86e2-f054-4bfd-8905-7883346f4a56",
   "metadata": {},
   "outputs": [
    {
     "name": "stdin",
     "output_type": "stream",
     "text": [
      "Enter the price of the product 1200\n"
     ]
    },
    {
     "name": "stdout",
     "output_type": "stream",
     "text": [
      "You have to paid amount to purchase the product= 720.0\n"
     ]
    }
   ],
   "source": [
    "price= int(input(\"Enter the price of the product\"))\n",
    "if price>3000:\n",
    "    print(f\"You have to paid amount to purchase the product= {price-(price*20/100)}\")\n",
    "    \n",
    "elif price>=2000 and price<=3000 :\n",
    "    if price==2999:\n",
    "        print(\"Congrats\")\n",
    "    print(f\"You have to paid amount to purchase the product= {price-(price*30/100)}\")\n",
    "else :\n",
    "         print(f\"You have to paid amount to purchase the product= {price-(price*40/100)}\")"
   ]
  },
  {
   "cell_type": "markdown",
   "id": "e60142f0-0697-43e0-a21a-84690772c436",
   "metadata": {},
   "source": [
    "## loop statements\n",
    "1. while loop\n",
    "2. for loop\n",
    "3. nested loop\n",
    "4. loop control (break,continue, pass )\n"
   ]
  },
  {
   "cell_type": "code",
   "execution_count": 3,
   "id": "d78a72ca-0075-4e9d-b248-abd26644d197",
   "metadata": {},
   "outputs": [
    {
     "name": "stdin",
     "output_type": "stream",
     "text": [
      "Enter the amount you have in your pocket 28\n"
     ]
    },
    {
     "name": "stdout",
     "output_type": "stream",
     "text": [
      "Sorry you have less amount for eat pasta\n",
      "Sorry you have less amount for eat pasta\n",
      "Sorry you have less amount for eat pasta\n",
      "Now you can eat pasta\n"
     ]
    }
   ],
   "source": [
    "#while loop # while else loop\n",
    "budget_amount= int(input(\"Enter the amount you have in your pocket\"))\n",
    "while budget_amount<=30:    \n",
    "    budget_amount=budget_amount+1\n",
    "    print (\"Sorry you have less amount for eat pasta\")\n",
    "else :\n",
    "        print (\"Now you can eat pasta\")\n",
    "    "
   ]
  },
  {
   "cell_type": "code",
   "execution_count": 6,
   "id": "3871fc38-0a90-4b60-bfa9-a8ea6a00f52f",
   "metadata": {},
   "outputs": [
    {
     "name": "stdout",
     "output_type": "stream",
     "text": [
      "you are get amount till now 100\n",
      "you are get amount till now 200\n",
      "you are get amount till now 300\n",
      "you are get amount till now 400\n",
      "you are get amount till now 500\n",
      "you are get amount till now 600\n",
      "you are get amount till now 700\n",
      "you are get amount till now 800\n",
      "you are get amount till now 900\n",
      "you are get amount till now 1000\n",
      "you have exhausted amount\n"
     ]
    }
   ],
   "source": [
    "#let's consider I have required only 1000 rupees from atm machine \n",
    "#and amount get from machine in the form of multiples of 100 rs\n",
    "atm_machine=1000\n",
    "i=100\n",
    "while i<=1000:\n",
    "    print(\"you are get amount till now\",i)\n",
    "    i=i+100\n",
    "else:\n",
    "        print (\"you have exhausted amount\")\n",
    "    "
   ]
  },
  {
   "cell_type": "code",
   "execution_count": 13,
   "id": "deef9cae-c8fd-4292-b34f-99c6e47a6946",
   "metadata": {},
   "outputs": [
    {
     "name": "stdout",
     "output_type": "stream",
     "text": [
      "amount in atm machine is available now 1000\n",
      "amount in atm machine is available now 900\n",
      "amount in atm machine is available now 800\n",
      "amount in atm machine is available now 700\n",
      "amount in atm machine is available now 600\n",
      "amount in atm machine is available now 500\n",
      "amount in atm machine is available now 400\n",
      "amount in atm machine is available now 300\n",
      "amount in atm machine is available now 200\n",
      "amount in atm machine is available now 100\n",
      "Sorry no amount available in atm machine now\n"
     ]
    }
   ],
   "source": [
    "# let's consider total 1000 rs available in atm machine\n",
    "atm_machine=1000\n",
    "while atm_machine!=0 :\n",
    "    print (\"amount in atm machine is available now\",atm_machine)\n",
    "    atm_machine=atm_machine-100\n",
    "else:\n",
    "        print(\"Sorry no amount available in atm machine now\")\n"
   ]
  },
  {
   "cell_type": "markdown",
   "id": "5f49a9da-f5ba-4c46-b745-58c05f2ab3df",
   "metadata": {},
   "source": [
    "## for loop"
   ]
  },
  {
   "cell_type": "code",
   "execution_count": 22,
   "id": "59bf37db-7239-45f0-91fe-1e66c9b22bba",
   "metadata": {},
   "outputs": [
    {
     "name": "stdout",
     "output_type": "stream",
     "text": [
      "['apple', 'banana', 'mango', 'grapes']\n"
     ]
    }
   ],
   "source": [
    "lst = [\"apple\",\"banana\",\"mango\",\"grapes\"]\n",
    "print (lst)"
   ]
  },
  {
   "cell_type": "code",
   "execution_count": 30,
   "id": "cf7ad7c3-a08c-4a4f-8f5e-00e229c82ea0",
   "metadata": {},
   "outputs": [
    {
     "name": "stdout",
     "output_type": "stream",
     "text": [
      "apple\n",
      "banana\n",
      "mango\n",
      "The fruit is mango \n",
      "grapes\n"
     ]
    }
   ],
   "source": [
    "for x in lst :\n",
    "    print (x)\n",
    "    if x==\"mango\":\n",
    "        print (\"The fruit is mango \")"
   ]
  },
  {
   "cell_type": "code",
   "execution_count": 1,
   "id": "b9771301-8c22-4043-a6a5-899d15c60a5d",
   "metadata": {},
   "outputs": [
    {
     "name": "stdout",
     "output_type": "stream",
     "text": [
      "m\n",
      "a\n",
      "n\n",
      "g\n",
      "o\n"
     ]
    }
   ],
   "source": [
    "fruit= \"mango\"\n",
    "for x in fruit:\n",
    "    print (x)"
   ]
  },
  {
   "cell_type": "code",
   "execution_count": 2,
   "id": "c7187a5e-252e-4d43-8082-65bcd53e87af",
   "metadata": {},
   "outputs": [
    {
     "data": {
      "text/plain": [
       "'n'"
      ]
     },
     "execution_count": 2,
     "metadata": {},
     "output_type": "execute_result"
    }
   ],
   "source": [
    "fruit[2]"
   ]
  },
  {
   "cell_type": "code",
   "execution_count": 3,
   "id": "5540b9e1-1e85-4d9c-b39f-ba5ca66f643b",
   "metadata": {},
   "outputs": [
    {
     "data": {
      "text/plain": [
       "'ma'"
      ]
     },
     "execution_count": 3,
     "metadata": {},
     "output_type": "execute_result"
    }
   ],
   "source": [
    "fruit[:2]"
   ]
  },
  {
   "cell_type": "code",
   "execution_count": 4,
   "id": "26f9c16b-ff9a-45e7-8fe6-d6019fa614f8",
   "metadata": {},
   "outputs": [
    {
     "data": {
      "text/plain": [
       "'go'"
      ]
     },
     "execution_count": 4,
     "metadata": {},
     "output_type": "execute_result"
    }
   ],
   "source": [
    "fruit[-2:]"
   ]
  },
  {
   "cell_type": "code",
   "execution_count": 5,
   "id": "b0e207ad-142d-452b-9be2-932e89899cf4",
   "metadata": {},
   "outputs": [
    {
     "data": {
      "text/plain": [
       "'man'"
      ]
     },
     "execution_count": 5,
     "metadata": {},
     "output_type": "execute_result"
    }
   ],
   "source": [
    "fruit[:-2]"
   ]
  },
  {
   "cell_type": "code",
   "execution_count": 6,
   "id": "65d39148-4f48-45b2-9af1-a38bf1c7c3c8",
   "metadata": {},
   "outputs": [
    {
     "data": {
      "text/plain": [
       "'ngo'"
      ]
     },
     "execution_count": 6,
     "metadata": {},
     "output_type": "execute_result"
    }
   ],
   "source": [
    "fruit[2:]"
   ]
  },
  {
   "cell_type": "code",
   "execution_count": 8,
   "id": "e8e6e993-8ee7-4922-af32-865401b8b930",
   "metadata": {},
   "outputs": [
    {
     "data": {
      "text/plain": [
       "range(1, 4, 2)"
      ]
     },
     "execution_count": 8,
     "metadata": {},
     "output_type": "execute_result"
    }
   ],
   "source": [
    "range (1,4,2)"
   ]
  },
  {
   "cell_type": "code",
   "execution_count": 16,
   "id": "e1c68352-cdd0-453c-8d37-76d9664380df",
   "metadata": {},
   "outputs": [
    {
     "name": "stdout",
     "output_type": "stream",
     "text": [
      "1\n",
      "4\n",
      "7\n"
     ]
    }
   ],
   "source": [
    "##range\n",
    "for i in range (1,8,3):\n",
    "    print (i)"
   ]
  },
  {
   "cell_type": "code",
   "execution_count": 121,
   "id": "f22ec85f-d755-4375-9617-bfc2d68ce826",
   "metadata": {},
   "outputs": [
    {
     "name": "stdout",
     "output_type": "stream",
     "text": [
      "*\n",
      "***\n",
      "*****\n",
      "*******\n",
      "*********\n",
      "***********\n",
      "*************\n"
     ]
    }
   ],
   "source": [
    "##nested loop\n",
    "n=7\n",
    "for i in range (0,n):\n",
    "    for j in range (0, i*2+1):\n",
    "        print(\"*\",end=\"\")\n",
    "    print(\"\\r\")"
   ]
  },
  {
   "cell_type": "code",
   "execution_count": 122,
   "id": "654d65d2-d0bd-48a9-97bb-53e6f7f9e961",
   "metadata": {},
   "outputs": [
    {
     "name": "stdout",
     "output_type": "stream",
     "text": [
      "       * \n",
      "      * * \n",
      "     * * * \n",
      "    * * * * \n",
      "   * * * * * \n",
      "  * * * * * * \n",
      " * * * * * * * \n"
     ]
    }
   ],
   "source": [
    "n=7\n",
    "for i in range (1,n+1):\n",
    "    print(\" \"*(n-1), end=\"\")\n",
    "    print(\"* \"*i)\n",
    "    n=n-1"
   ]
  },
  {
   "cell_type": "code",
   "execution_count": 59,
   "id": "f1a9242d-8947-42be-99a4-cff56197f81e",
   "metadata": {},
   "outputs": [
    {
     "name": "stdout",
     "output_type": "stream",
     "text": [
      "['apple', 'banana', 'mango', 'grapes']\n"
     ]
    }
   ],
   "source": [
    "##loop control\n",
    "## break and continue\n",
    "fruit_list = [\"apple\",\"banana\",\"mango\",\"grapes\"]\n",
    "print (fruit_list)"
   ]
  },
  {
   "cell_type": "code",
   "execution_count": 84,
   "id": "34c6c126-e6f4-496a-b757-c37116f75308",
   "metadata": {},
   "outputs": [
    {
     "name": "stdout",
     "output_type": "stream",
     "text": [
      "apple\n",
      "banana\n",
      "the fruit is mango\n",
      "grapes\n"
     ]
    }
   ],
   "source": [
    "#continue\n",
    "for i in fruit_list:\n",
    "    if i==\"mango\":\n",
    "        print(\"the fruit is mango\")\n",
    "        continue\n",
    "    print(i)\n",
    "   "
   ]
  },
  {
   "cell_type": "code",
   "execution_count": 83,
   "id": "6836ae7e-caf4-4222-b808-59f5d7006cfa",
   "metadata": {},
   "outputs": [
    {
     "name": "stdout",
     "output_type": "stream",
     "text": [
      "apple\n",
      "banana\n",
      "the fruit is mango\n"
     ]
    }
   ],
   "source": [
    "#break\n",
    "for i in fruit_list:\n",
    "    if i==\"mango\":\n",
    "        print(\"the fruit is mango\")\n",
    "        break\n",
    "    print(i)\n",
    "   "
   ]
  },
  {
   "cell_type": "code",
   "execution_count": null,
   "id": "66595de1-604f-4c9b-be64-d88fd450149b",
   "metadata": {},
   "outputs": [],
   "source": []
  }
 ],
 "metadata": {
  "kernelspec": {
   "display_name": "Python 3 (ipykernel)",
   "language": "python",
   "name": "python3"
  },
  "language_info": {
   "codemirror_mode": {
    "name": "ipython",
    "version": 3
   },
   "file_extension": ".py",
   "mimetype": "text/x-python",
   "name": "python",
   "nbconvert_exporter": "python",
   "pygments_lexer": "ipython3",
   "version": "3.10.8"
  }
 },
 "nbformat": 4,
 "nbformat_minor": 5
}
