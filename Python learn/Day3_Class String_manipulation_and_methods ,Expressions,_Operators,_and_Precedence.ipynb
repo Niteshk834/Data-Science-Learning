{
 "cells": [
  {
   "cell_type": "markdown",
   "id": "e4f899ba-4b78-49c4-b3a8-31637d99eb50",
   "metadata": {},
   "source": [
    "Logical Operator\n",
    "1. and\n",
    "2. or\n",
    "3. not"
   ]
  },
  {
   "cell_type": "code",
   "execution_count": 13,
   "id": "85b2a3ca-e038-4b73-a221-4d9a60f45b81",
   "metadata": {},
   "outputs": [
    {
     "name": "stdout",
     "output_type": "stream",
     "text": [
      "Defined value of start= 1\n",
      "Defined value of stop= 0\n",
      "\n",
      "Defined value of start= 1\n",
      "Value of stop by negative start= 0\n",
      "\n",
      "boolian value of 1 is True\n",
      "nagation of 1 is False\n"
     ]
    }
   ],
   "source": [
    "start= 1\n",
    "stop=  0\n",
    "\n",
    "## print as it is\n",
    "print (f\"Defined value of start= {start}\")\n",
    "print (f\"Defined value of stop= {stop}\\n\")\n",
    "\n",
    "##it can also be written as\n",
    "print (f\"Defined value of start= {start}\")\n",
    "print (f\"Value of stop by negative start= {int(not start)}\\n\")\n",
    "\n",
    "print(f\"boolian value of {start} is {bool(start)}\")\n",
    "print (f\"nagation of {start} is {not start}\")"
   ]
  },
  {
   "cell_type": "markdown",
   "id": "2102303c-0f09-4065-874e-b121fd4f924a",
   "metadata": {},
   "source": [
    "## Logical And"
   ]
  },
  {
   "cell_type": "code",
   "execution_count": 1,
   "id": "1661d6e4-7be8-43fd-b9cf-e48446d96c74",
   "metadata": {},
   "outputs": [
    {
     "name": "stdout",
     "output_type": "stream",
     "text": [
      "dish contain vegetable= True\n",
      "dish contain salt= False\n",
      "hence dish prepared was good?= False\n"
     ]
    }
   ],
   "source": [
    "vegetable =True\n",
    "salt= False\n",
    "dish= vegetable and salt\n",
    "print (f\"dish contain vegetable= {vegetable}\")\n",
    "print(f\"dish contain salt= {salt}\")\n",
    "print(f\"hence dish prepared was good?= {dish}\")\n",
    "\n"
   ]
  },
  {
   "cell_type": "code",
   "execution_count": 2,
   "id": "f296427a-6e4f-4f21-99e2-93acb63c3c47",
   "metadata": {},
   "outputs": [
    {
     "data": {
      "text/plain": [
       "0"
      ]
     },
     "execution_count": 2,
     "metadata": {},
     "output_type": "execute_result"
    }
   ],
   "source": [
    "False * False"
   ]
  },
  {
   "cell_type": "code",
   "execution_count": 3,
   "id": "6b94dd8c-f160-4858-b4e6-3160d6eb1a08",
   "metadata": {},
   "outputs": [
    {
     "data": {
      "text/plain": [
       "True"
      ]
     },
     "execution_count": 3,
     "metadata": {},
     "output_type": "execute_result"
    }
   ],
   "source": [
    "not False* False"
   ]
  },
  {
   "cell_type": "code",
   "execution_count": 4,
   "id": "fa155678-5037-44d1-a1ad-c02c50fc1b15",
   "metadata": {},
   "outputs": [
    {
     "data": {
      "text/plain": [
       "True"
      ]
     },
     "execution_count": 4,
     "metadata": {},
     "output_type": "execute_result"
    }
   ],
   "source": [
    "not (False)* False"
   ]
  },
  {
   "cell_type": "code",
   "execution_count": 1,
   "id": "b570fae9-21db-4618-ab4b-360e6ac24d20",
   "metadata": {},
   "outputs": [
    {
     "data": {
      "text/plain": [
       "0"
      ]
     },
     "execution_count": 1,
     "metadata": {},
     "output_type": "execute_result"
    }
   ],
   "source": [
    "(not False)* False"
   ]
  },
  {
   "cell_type": "markdown",
   "id": "412d926f-acfd-441b-841a-dade9ad170fe",
   "metadata": {},
   "source": [
    "## Equalities operator"
   ]
  },
  {
   "cell_type": "code",
   "execution_count": 9,
   "id": "4a2233a5-08b5-4957-afb2-5c97cc190905",
   "metadata": {},
   "outputs": [
    {
     "name": "stdout",
     "output_type": "stream",
     "text": [
      "140637633896768\n",
      "140637633921408\n"
     ]
    },
    {
     "data": {
      "text/plain": [
       "False"
      ]
     },
     "execution_count": 9,
     "metadata": {},
     "output_type": "execute_result"
    }
   ],
   "source": [
    "lst_a= [1,2,3,4]\n",
    "lst_b= [1,2,3,4]\n",
    "print (id(lst_a))\n",
    "print (id(lst_b))\n",
    "lst_a is lst_b"
   ]
  },
  {
   "cell_type": "code",
   "execution_count": 13,
   "id": "c88cd18b-4f2f-4d0d-a17c-8bc60c1b777a",
   "metadata": {},
   "outputs": [
    {
     "data": {
      "text/plain": [
       "False"
      ]
     },
     "execution_count": 13,
     "metadata": {},
     "output_type": "execute_result"
    }
   ],
   "source": [
    "lst_a is lst_b"
   ]
  },
  {
   "cell_type": "code",
   "execution_count": 14,
   "id": "d33198a8-fd7b-47fb-b3a7-6860514001b5",
   "metadata": {},
   "outputs": [
    {
     "name": "stdout",
     "output_type": "stream",
     "text": [
      "140637634024640\n",
      "140637634024640\n"
     ]
    }
   ],
   "source": [
    "lst_a= [1,2,3,4]\n",
    "lst_b= lst_a\n",
    "print (id(lst_a))\n",
    "print (id(lst_b))"
   ]
  },
  {
   "cell_type": "code",
   "execution_count": 15,
   "id": "cd4273b8-a7bd-42bf-9fce-19fe82e54420",
   "metadata": {},
   "outputs": [
    {
     "data": {
      "text/plain": [
       "True"
      ]
     },
     "execution_count": 15,
     "metadata": {},
     "output_type": "execute_result"
    }
   ],
   "source": [
    "lst_a is lst_b"
   ]
  },
  {
   "cell_type": "markdown",
   "id": "86e563bb-a320-44c7-b9e8-54f2f36f0423",
   "metadata": {},
   "source": [
    "## Arithmetic operation"
   ]
  },
  {
   "cell_type": "code",
   "execution_count": 9,
   "id": "c5f9692c-0c3d-4f9f-8aab-ca190cba1b0f",
   "metadata": {},
   "outputs": [
    {
     "data": {
      "text/plain": [
       "2.0"
      ]
     },
     "execution_count": 9,
     "metadata": {},
     "output_type": "execute_result"
    }
   ],
   "source": [
    "a=40\n",
    "b=20\n",
    "a/b"
   ]
  },
  {
   "cell_type": "code",
   "execution_count": 10,
   "id": "009e6165-2f1a-408e-a8c1-f23deba8a623",
   "metadata": {},
   "outputs": [
    {
     "data": {
      "text/plain": [
       "2"
      ]
     },
     "execution_count": 10,
     "metadata": {},
     "output_type": "execute_result"
    }
   ],
   "source": [
    "a//b"
   ]
  },
  {
   "cell_type": "code",
   "execution_count": 11,
   "id": "b84228e7-718f-4c90-bde3-8fe606016c46",
   "metadata": {},
   "outputs": [
    {
     "data": {
      "text/plain": [
       "0"
      ]
     },
     "execution_count": 11,
     "metadata": {},
     "output_type": "execute_result"
    }
   ],
   "source": [
    "b//a"
   ]
  },
  {
   "cell_type": "code",
   "execution_count": 12,
   "id": "56753b70-c06e-4b08-89ec-7d0b58295941",
   "metadata": {},
   "outputs": [
    {
     "data": {
      "text/plain": [
       "0"
      ]
     },
     "execution_count": 12,
     "metadata": {},
     "output_type": "execute_result"
    }
   ],
   "source": [
    "a%b"
   ]
  },
  {
   "cell_type": "code",
   "execution_count": 13,
   "id": "b2bca172-d9c6-4dc9-82f8-ca250e0e63ff",
   "metadata": {},
   "outputs": [
    {
     "data": {
      "text/plain": [
       "20"
      ]
     },
     "execution_count": 13,
     "metadata": {},
     "output_type": "execute_result"
    }
   ],
   "source": [
    "b%a"
   ]
  },
  {
   "cell_type": "code",
   "execution_count": 2,
   "id": "8ff5bd98-674d-4578-ba41-4b7480c2452f",
   "metadata": {},
   "outputs": [
    {
     "data": {
      "text/plain": [
       "10"
      ]
     },
     "execution_count": 2,
     "metadata": {},
     "output_type": "execute_result"
    }
   ],
   "source": [
    "var=10\n",
    "var"
   ]
  },
  {
   "cell_type": "code",
   "execution_count": 3,
   "id": "0cde297b-ca73-4ebc-b53c-de39fe0581b6",
   "metadata": {},
   "outputs": [
    {
     "data": {
      "text/plain": [
       "20"
      ]
     },
     "execution_count": 3,
     "metadata": {},
     "output_type": "execute_result"
    }
   ],
   "source": [
    "var<<1"
   ]
  },
  {
   "cell_type": "code",
   "execution_count": 4,
   "id": "5554c1b5-8714-4018-9945-6fd90c108a16",
   "metadata": {},
   "outputs": [
    {
     "data": {
      "text/plain": [
       "5"
      ]
     },
     "execution_count": 4,
     "metadata": {},
     "output_type": "execute_result"
    }
   ],
   "source": [
    "var>>1"
   ]
  },
  {
   "cell_type": "markdown",
   "id": "539886b8-7ebe-4629-af7d-f494461086dc",
   "metadata": {},
   "source": [
    "## String"
   ]
  },
  {
   "cell_type": "code",
   "execution_count": 3,
   "id": "326fce34-236a-4298-9b8d-e10367cb99e6",
   "metadata": {},
   "outputs": [],
   "source": [
    "str1=\"welcome to the data science master\"\n",
    "str1= \"Nitesh\""
   ]
  },
  {
   "cell_type": "code",
   "execution_count": 7,
   "id": "d6b6a138-9b3c-41ea-9489-8c4621829941",
   "metadata": {},
   "outputs": [
    {
     "data": {
      "text/plain": [
       "'Nitesh Kumar'"
      ]
     },
     "execution_count": 7,
     "metadata": {},
     "output_type": "execute_result"
    }
   ],
   "source": [
    "str1"
   ]
  },
  {
   "cell_type": "code",
   "execution_count": 5,
   "id": "dc2e2145-6bb0-4b8d-aff3-19ec74d2ec75",
   "metadata": {},
   "outputs": [],
   "source": [
    "str1=\"Nitesh Kumar\""
   ]
  },
  {
   "cell_type": "code",
   "execution_count": 6,
   "id": "acefb527-d32e-48ea-9b08-5b811b4037d8",
   "metadata": {},
   "outputs": [
    {
     "data": {
      "text/plain": [
       "'Nitesh Kumar'"
      ]
     },
     "execution_count": 6,
     "metadata": {},
     "output_type": "execute_result"
    }
   ],
   "source": [
    "str1"
   ]
  },
  {
   "cell_type": "code",
   "execution_count": null,
   "id": "5def2ac8-ce24-490c-8211-0379f9f9234c",
   "metadata": {},
   "outputs": [],
   "source": [
    "## slice of string"
   ]
  },
  {
   "cell_type": "code",
   "execution_count": 19,
   "id": "772e47e7-0737-4d09-9484-7667dfda91d4",
   "metadata": {},
   "outputs": [
    {
     "data": {
      "text/plain": [
       "'tesh Kumar'"
      ]
     },
     "execution_count": 19,
     "metadata": {},
     "output_type": "execute_result"
    }
   ],
   "source": [
    "str1[2:]"
   ]
  },
  {
   "cell_type": "code",
   "execution_count": 20,
   "id": "f6184aed-d98b-4954-98bd-72af4b00e3b1",
   "metadata": {},
   "outputs": [
    {
     "data": {
      "text/plain": [
       "'ar'"
      ]
     },
     "execution_count": 20,
     "metadata": {},
     "output_type": "execute_result"
    }
   ],
   "source": [
    "str1[-2:]"
   ]
  },
  {
   "cell_type": "code",
   "execution_count": 21,
   "id": "33fdce40-5c50-4bdd-8999-05152f2922e9",
   "metadata": {},
   "outputs": [
    {
     "data": {
      "text/plain": [
       "'Ni'"
      ]
     },
     "execution_count": 21,
     "metadata": {},
     "output_type": "execute_result"
    }
   ],
   "source": [
    "str1[:2]"
   ]
  },
  {
   "cell_type": "code",
   "execution_count": 22,
   "id": "d28f87ee-e66a-44de-95c9-6012082470f2",
   "metadata": {},
   "outputs": [
    {
     "data": {
      "text/plain": [
       "'Nitesh Kum'"
      ]
     },
     "execution_count": 22,
     "metadata": {},
     "output_type": "execute_result"
    }
   ],
   "source": [
    "str1[:-2]"
   ]
  },
  {
   "cell_type": "code",
   "execution_count": 31,
   "id": "fedb76e9-ad22-46b2-8e8c-d9e64d1f92d4",
   "metadata": {},
   "outputs": [
    {
     "data": {
      "text/plain": [
       "'t'"
      ]
     },
     "execution_count": 31,
     "metadata": {},
     "output_type": "execute_result"
    }
   ],
   "source": [
    "str1[2:3]"
   ]
  },
  {
   "cell_type": "code",
   "execution_count": 41,
   "id": "c5dc27f0-e4a2-4bbe-a482-b26fdf7c2265",
   "metadata": {},
   "outputs": [
    {
     "data": {
      "text/plain": [
       "'rmKhei'"
      ]
     },
     "execution_count": 41,
     "metadata": {},
     "output_type": "execute_result"
    }
   ],
   "source": [
    "str1[::-2]"
   ]
  },
  {
   "cell_type": "code",
   "execution_count": 67,
   "id": "35f8e2e6-1c96-42a8-a935-c7332f5189f8",
   "metadata": {},
   "outputs": [
    {
     "data": {
      "text/plain": [
       "'Nts ua'"
      ]
     },
     "execution_count": 67,
     "metadata": {},
     "output_type": "execute_result"
    }
   ],
   "source": [
    "str1[::2]"
   ]
  },
  {
   "cell_type": "code",
   "execution_count": 42,
   "id": "e804672c-39b8-4058-b443-3d1d7e328609",
   "metadata": {},
   "outputs": [],
   "source": [
    "course_name=\"Data Science Course\""
   ]
  },
  {
   "cell_type": "code",
   "execution_count": 66,
   "id": "a4881d7d-1fe6-4dba-b849-1f49491d4406",
   "metadata": {},
   "outputs": [
    {
     "data": {
      "text/plain": [
       "'ecneicS'"
      ]
     },
     "execution_count": 66,
     "metadata": {},
     "output_type": "execute_result"
    }
   ],
   "source": [
    "course_name[11:4:-1]"
   ]
  },
  {
   "cell_type": "markdown",
   "id": "6c0f7002-af60-4bf7-a692-9737b85a977d",
   "metadata": {},
   "source": [
    "## string find function"
   ]
  },
  {
   "cell_type": "code",
   "execution_count": 68,
   "id": "8ec39f4e-27ff-4721-b2e6-9eaf08c50bf5",
   "metadata": {},
   "outputs": [
    {
     "data": {
      "text/plain": [
       "9"
      ]
     },
     "execution_count": 68,
     "metadata": {},
     "output_type": "execute_result"
    }
   ],
   "source": [
    "course_name.find(\"n\")"
   ]
  },
  {
   "cell_type": "code",
   "execution_count": 74,
   "id": "d897926c-f4a4-47ae-b84b-98645a27929c",
   "metadata": {},
   "outputs": [
    {
     "data": {
      "text/plain": [
       "10"
      ]
     },
     "execution_count": 74,
     "metadata": {},
     "output_type": "execute_result"
    }
   ],
   "source": [
    "course_name.find(\"c\",7,11)"
   ]
  },
  {
   "cell_type": "markdown",
   "id": "cffa1b8e-ec93-40db-8fd6-4756afc963f3",
   "metadata": {},
   "source": [
    "## string count function"
   ]
  },
  {
   "cell_type": "code",
   "execution_count": 79,
   "id": "d6f9a591-4c92-456e-b104-250189759c60",
   "metadata": {},
   "outputs": [
    {
     "data": {
      "text/plain": [
       "1"
      ]
     },
     "execution_count": 79,
     "metadata": {},
     "output_type": "execute_result"
    }
   ],
   "source": [
    "course_name.count(\"i\")"
   ]
  },
  {
   "cell_type": "code",
   "execution_count": 77,
   "id": "d5a5a33b-c4ba-42f2-9f00-2525a0d144b9",
   "metadata": {},
   "outputs": [
    {
     "data": {
      "text/plain": [
       "2"
      ]
     },
     "execution_count": 77,
     "metadata": {},
     "output_type": "execute_result"
    }
   ],
   "source": [
    "course_name.count(\" \")"
   ]
  },
  {
   "cell_type": "code",
   "execution_count": 80,
   "id": "2964113e-3d80-455c-8eb7-bda46389c26e",
   "metadata": {},
   "outputs": [
    {
     "data": {
      "text/plain": [
       "20"
      ]
     },
     "execution_count": 80,
     "metadata": {},
     "output_type": "execute_result"
    }
   ],
   "source": [
    "course_name.count(\"\")"
   ]
  },
  {
   "cell_type": "code",
   "execution_count": 81,
   "id": "5bd5887e-cf09-447f-9d1a-9ba903b67a7a",
   "metadata": {},
   "outputs": [
    {
     "data": {
      "text/plain": [
       "1"
      ]
     },
     "execution_count": 81,
     "metadata": {},
     "output_type": "execute_result"
    }
   ],
   "source": [
    "course_name.count(\"Science\")"
   ]
  },
  {
   "cell_type": "markdown",
   "id": "10b4bbef-f10d-4c88-ac0d-3490fff97391",
   "metadata": {},
   "source": [
    "## string split function"
   ]
  },
  {
   "cell_type": "code",
   "execution_count": 82,
   "id": "ed46dc6a-4ad7-4439-94dd-816a629bdca5",
   "metadata": {},
   "outputs": [
    {
     "data": {
      "text/plain": [
       "'Data Science Course'"
      ]
     },
     "execution_count": 82,
     "metadata": {},
     "output_type": "execute_result"
    }
   ],
   "source": [
    "course_name"
   ]
  },
  {
   "cell_type": "code",
   "execution_count": 85,
   "id": "d91d5a71-9639-49e1-badb-517d4eaeac8e",
   "metadata": {},
   "outputs": [
    {
     "data": {
      "text/plain": [
       "['Data', 'Science', 'Course']"
      ]
     },
     "execution_count": 85,
     "metadata": {},
     "output_type": "execute_result"
    }
   ],
   "source": [
    "course_name.split(\" \")"
   ]
  },
  {
   "cell_type": "code",
   "execution_count": 90,
   "id": "2a706b6e-e00a-405f-b07d-c869b470639e",
   "metadata": {},
   "outputs": [
    {
     "data": {
      "text/plain": [
       "['Data Science Course']"
      ]
     },
     "execution_count": 90,
     "metadata": {},
     "output_type": "execute_result"
    }
   ],
   "source": [
    "course_name.split(\",\")"
   ]
  },
  {
   "cell_type": "code",
   "execution_count": 94,
   "id": "6f8cc7e7-df62-49c5-9c04-6643040aa658",
   "metadata": {},
   "outputs": [
    {
     "data": {
      "text/plain": [
       "['Data Sc', 'ence Course']"
      ]
     },
     "execution_count": 94,
     "metadata": {},
     "output_type": "execute_result"
    }
   ],
   "source": [
    "course_name.split(\"i\")"
   ]
  },
  {
   "cell_type": "code",
   "execution_count": 95,
   "id": "055e9ee2-c0d1-4659-b8fd-cd303029d946",
   "metadata": {},
   "outputs": [
    {
     "data": {
      "text/plain": [
       "('Data Sc', 'i', 'ence Course')"
      ]
     },
     "execution_count": 95,
     "metadata": {},
     "output_type": "execute_result"
    }
   ],
   "source": [
    "course_name.partition(\"i\")"
   ]
  },
  {
   "cell_type": "code",
   "execution_count": 96,
   "id": "5265de36-49ee-4e04-b05a-686126ff7923",
   "metadata": {},
   "outputs": [
    {
     "data": {
      "text/plain": [
       "'DATA SCIENCE COURSE'"
      ]
     },
     "execution_count": 96,
     "metadata": {},
     "output_type": "execute_result"
    }
   ],
   "source": [
    "course_name.upper()"
   ]
  },
  {
   "cell_type": "code",
   "execution_count": 97,
   "id": "2f881778-aff8-451c-bf56-bfb4aa4b13bd",
   "metadata": {},
   "outputs": [
    {
     "data": {
      "text/plain": [
       "'data science course'"
      ]
     },
     "execution_count": 97,
     "metadata": {},
     "output_type": "execute_result"
    }
   ],
   "source": [
    "course_name.lower()"
   ]
  },
  {
   "cell_type": "code",
   "execution_count": 98,
   "id": "cff513e1-bf9c-4a53-94d4-1fbe2ee29fa4",
   "metadata": {},
   "outputs": [
    {
     "data": {
      "text/plain": [
       "'dATA sCIENCE cOURSE'"
      ]
     },
     "execution_count": 98,
     "metadata": {},
     "output_type": "execute_result"
    }
   ],
   "source": [
    "course_name.swapcase()"
   ]
  },
  {
   "cell_type": "code",
   "execution_count": 99,
   "id": "469e18d8-3830-48f8-9295-87ed208172a2",
   "metadata": {},
   "outputs": [],
   "source": [
    "name=\"data science master\""
   ]
  },
  {
   "cell_type": "code",
   "execution_count": 100,
   "id": "2cd17012-d9ed-42f3-8289-156fb2414db3",
   "metadata": {},
   "outputs": [
    {
     "data": {
      "text/plain": [
       "'data science master'"
      ]
     },
     "execution_count": 100,
     "metadata": {},
     "output_type": "execute_result"
    }
   ],
   "source": [
    "name"
   ]
  },
  {
   "cell_type": "code",
   "execution_count": null,
   "id": "abee0d93-44fc-4b9c-b141-0ea551ac9a74",
   "metadata": {},
   "outputs": [],
   "source": [
    "## title basically do every first letter in upper case"
   ]
  },
  {
   "cell_type": "code",
   "execution_count": 101,
   "id": "aa6590fd-920e-447a-aa73-2ac67b31c2fe",
   "metadata": {},
   "outputs": [
    {
     "data": {
      "text/plain": [
       "'Data Science Master'"
      ]
     },
     "execution_count": 101,
     "metadata": {},
     "output_type": "execute_result"
    }
   ],
   "source": [
    "name.title()"
   ]
  },
  {
   "cell_type": "code",
   "execution_count": 124,
   "id": "a1151838-3a16-4561-a767-4c7105f14870",
   "metadata": {},
   "outputs": [
    {
     "data": {
      "text/plain": [
       "2"
      ]
     },
     "execution_count": 124,
     "metadata": {},
     "output_type": "execute_result"
    }
   ],
   "source": [
    "name.upper().count(\"C\")"
   ]
  },
  {
   "cell_type": "markdown",
   "id": "d5fb7b3c-1bf8-4a78-b80e-6d40aff114be",
   "metadata": {},
   "source": [
    "## Assignment"
   ]
  },
  {
   "cell_type": "code",
   "execution_count": 116,
   "id": "c218f68c-292b-4302-b2f7-8706b66f9384",
   "metadata": {},
   "outputs": [
    {
     "name": "stdin",
     "output_type": "stream",
     "text": [
      "Enter the triangle length: 5\n"
     ]
    },
    {
     "name": "stdout",
     "output_type": "stream",
     "text": [
      "     *\n",
      "    **\n",
      "   ****\n",
      "  ******\n",
      " ********\n"
     ]
    }
   ],
   "source": [
    "size= int(input (\"Enter the triangle length:\"))\n",
    "for i in range(size):\n",
    "    for j in range(size-i):\n",
    "        print(\"\",end=\" \")\n",
    "    for k in range (i+1):\n",
    "        print(\"*\",end=\"\")\n",
    "    for m in range (k-1):\n",
    "        print(\"*\",end=\"\")\n",
    "    print()\n",
    "        \n",
    "        \n"
   ]
  },
  {
   "cell_type": "code",
   "execution_count": null,
   "id": "4a489562-83e5-4a93-b92a-40553a0bdff7",
   "metadata": {},
   "outputs": [],
   "source": []
  }
 ],
 "metadata": {
  "kernelspec": {
   "display_name": "Python 3 (ipykernel)",
   "language": "python",
   "name": "python3"
  },
  "language_info": {
   "codemirror_mode": {
    "name": "ipython",
    "version": 3
   },
   "file_extension": ".py",
   "mimetype": "text/x-python",
   "name": "python",
   "nbconvert_exporter": "python",
   "pygments_lexer": "ipython3",
   "version": "3.10.8"
  }
 },
 "nbformat": 4,
 "nbformat_minor": 5
}
