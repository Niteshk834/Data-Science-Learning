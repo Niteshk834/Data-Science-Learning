{
 "cells": [
  {
   "cell_type": "markdown",
   "id": "cd8c7bfd-f92c-4502-a51d-4d605809db5d",
   "metadata": {},
   "source": [
    "# Assignment 14 Feb 2023\n",
    "\n",
    "### Date- 14.02.2023"
   ]
  },
  {
   "cell_type": "markdown",
   "id": "31954a82-7c06-4b0f-b139-6ca2348f8494",
   "metadata": {},
   "source": [
    "## Q1.  What is multithreading in python?  Why is it used? Name the module used to handle threads in python.  "
   ]
  },
  {
   "cell_type": "markdown",
   "id": "f468869f-9f2b-4ba0-b578-5ed0b5768e7f",
   "metadata": {},
   "source": [
    "## Answer:-"
   ]
  },
  {
   "cell_type": "markdown",
   "id": "2e19d9ff-877c-449b-83a5-cb5e98aad466",
   "metadata": {},
   "source": [
    "### Multithreading"
   ]
  },
  {
   "cell_type": "markdown",
   "id": "1a2fe427-a8ad-4bb2-8ad4-4471484624de",
   "metadata": {},
   "source": [
    "Multithreading is a threading technique in Python programming to run multiple threads concurrently by rapidly switching between threads with a CPU help.\n",
    "Multithreading aims to perform multiple tasks simultaneously, which increases performance, speed and improves the rendering of the application.\n",
    "\n"
   ]
  },
  {
   "cell_type": "markdown",
   "id": "493491b4-6b02-42ab-921b-666a38bb5e79",
   "metadata": {},
   "source": [
    "### Reason for use Multithreading :"
   ]
  },
  {
   "cell_type": "markdown",
   "id": "05ad8793-c3ab-41d1-9efa-064eb5bf2d72",
   "metadata": {},
   "source": [
    "It is a very useful technique for time-saving and improving the performance of an application. Multithreading allows the programmer to divide application tasks into sub-tasks and simultaneously run them in a program. It allows threads to communicate and share resources such as files, data, and memory to the same processor. Furthermore, it increases the user's responsiveness to continue running a program even if a part of the application is the length or blocked.\n",
    "\n",
    "##### Benefits of Multithreading in Python-\n",
    "\n",
    "Following are the benefits to create a multithreaded application in Python, as follows:\n",
    "\n",
    "1. It ensures effective utilization of computer system resources.\n",
    "2. Multithreaded applications are more responsive.\n",
    "3. It shares resources and its state with sub-threads (child) which makes it more economical.\n",
    "4. It makes the multiprocessor architecture more effective due to similarity.\n",
    "5. It saves time by executing multiple threads at the same time.\n",
    "6. The system does not require too much memory to store multiple threads."
   ]
  },
  {
   "cell_type": "markdown",
   "id": "a41e7ff7-382e-498b-9a07-5eb7a40b6ba9",
   "metadata": {},
   "source": [
    "### There are two main modules of multithreading used to handle threads in Python:\n"
   ]
  },
  {
   "cell_type": "markdown",
   "id": "61c37c12-7f38-4199-8019-51dd73c229ac",
   "metadata": {},
   "source": [
    "1. The thread module\n",
    "2. The threading module"
   ]
  },
  {
   "cell_type": "markdown",
   "id": "7cc3a25c-1f5e-46ec-ad16-618068183215",
   "metadata": {},
   "source": [
    "## Q2.  Why threading module used?  Write the use of the following functions:  \n",
    "     1. activeCount()\n",
    "     2. currentThread()\n",
    "     3. enumerate() \n",
    " \n"
   ]
  },
  {
   "cell_type": "markdown",
   "id": "e76e95b6-d530-4eb1-b1ff-38a15bfbb01f",
   "metadata": {},
   "source": [
    "## Answer:-"
   ]
  },
  {
   "cell_type": "markdown",
   "id": "8516a0c7-069d-4aa6-b2b9-a4677c43fe10",
   "metadata": {},
   "source": [
    "The threading module is a high-level implementation of multithreading used to deploy an application in Python. To use multithreading, we need to import the threading module in Python Program."
   ]
  },
  {
   "cell_type": "markdown",
   "id": "57771f8e-54e1-4064-84bb-bab8a19bdbfd",
   "metadata": {},
   "source": [
    "threading module which comprises all the basics needed to better understand the process of threading. With this module, we can easily encapsulate threads and provide a clean interface to work with them.  "
   ]
  },
  {
   "cell_type": "markdown",
   "id": "0fefb7c4-15ee-4be7-84aa-389b420b6817",
   "metadata": {},
   "source": [
    "The threading module exposes all the methods of the thread module and provides some additional methods −"
   ]
  },
  {
   "cell_type": "markdown",
   "id": "732d5662-d8a8-4026-ac83-887c13e34efe",
   "metadata": {},
   "source": [
    "### 1. activeCount()"
   ]
  },
  {
   "cell_type": "markdown",
   "id": "cef31313-0d06-4024-9a92-0d6915af9338",
   "metadata": {},
   "source": [
    " threading.activeCount() − Returns the number of thread objects that are active."
   ]
  },
  {
   "cell_type": "markdown",
   "id": "77c1930b-135b-47df-9661-4684febc283f",
   "metadata": {},
   "source": [
    "### 2. currentThread() "
   ]
  },
  {
   "cell_type": "markdown",
   "id": "21e21e69-ccca-4e28-b6e3-a1a25c85de17",
   "metadata": {},
   "source": [
    "threading.currentThread() − Returns the number of thread objects in the caller's thread control."
   ]
  },
  {
   "cell_type": "markdown",
   "id": "e4ad283a-4fd8-4f06-b71a-cc84218d3e20",
   "metadata": {},
   "source": [
    "### 3. enumerate() "
   ]
  },
  {
   "cell_type": "markdown",
   "id": "b436aa74-c371-4588-a298-22e1a0b642a4",
   "metadata": {},
   "source": [
    "threading.enumerate() − Returns a list of all thread objects that are currently active."
   ]
  },
  {
   "cell_type": "code",
   "execution_count": null,
   "id": "98edd0aa-9893-4fe5-8676-595d73c152f8",
   "metadata": {},
   "outputs": [],
   "source": []
  },
  {
   "cell_type": "markdown",
   "id": "264a67f3-1828-46b9-8b35-96eb8b47804d",
   "metadata": {},
   "source": [
    "## Q3. Explain the following functions  \n",
    "     1. run()  \n",
    "     2. start()\n",
    "     3. join()   \n",
    "     4. isAlive() \n",
    " \n"
   ]
  },
  {
   "cell_type": "markdown",
   "id": "18773f71-e460-46f9-9ee9-0e29e2518d96",
   "metadata": {},
   "source": [
    "## Answer:-"
   ]
  },
  {
   "cell_type": "markdown",
   "id": "701c3fad-5a2e-4121-9995-1cb610b47a5e",
   "metadata": {},
   "source": [
    "The threading module has the Thread class that implements threading. The methods provided by the Thread class are as follows −\n",
    "\n"
   ]
  },
  {
   "cell_type": "markdown",
   "id": "d26c17ba-9815-4e58-b219-08f107ebf324",
   "metadata": {},
   "source": [
    "### 1. run()"
   ]
  },
  {
   "cell_type": "markdown",
   "id": "2fb17644-2e93-47fb-a506-6869dcfc3827",
   "metadata": {},
   "source": [
    "The run() method is the entry point for a thread. It represent the thread’s activity.\n",
    "\n",
    "We may override this method in a subclass. The standard run() method invokes the callable object passed to the object’s constructor as the target argument, if any, with positional and keyword arguments taken from the args and kwargs arguments, respectively.\n",
    "\n",
    "Using list or tuple as the args argument which passed to the Thread could achieve the same effect."
   ]
  },
  {
   "cell_type": "code",
   "execution_count": null,
   "id": "1b6d6e9b-9673-4ba3-aacf-78bff8bc494c",
   "metadata": {},
   "outputs": [],
   "source": [
    "# For example"
   ]
  },
  {
   "cell_type": "code",
   "execution_count": 4,
   "id": "2417f202-f9bb-4f7f-ab5c-be7f68fb3ac6",
   "metadata": {},
   "outputs": [
    {
     "name": "stdout",
     "output_type": "stream",
     "text": [
      "1\n"
     ]
    }
   ],
   "source": [
    "from threading import Thread\n",
    "t = Thread(target=print, args=[1])\n",
    "t.run()"
   ]
  },
  {
   "cell_type": "code",
   "execution_count": 5,
   "id": "f2d353d7-08b4-4f13-9308-10749f3192e7",
   "metadata": {},
   "outputs": [
    {
     "name": "stdout",
     "output_type": "stream",
     "text": [
      "1\n"
     ]
    }
   ],
   "source": [
    "t = Thread(target=print, args=(1,))\n",
    "t.run()"
   ]
  },
  {
   "cell_type": "markdown",
   "id": "d12936f1-13ad-4c0f-92bb-25a1b25349ae",
   "metadata": {},
   "source": [
    "### 2. start()"
   ]
  },
  {
   "cell_type": "markdown",
   "id": "b0163503-af31-48d1-b29b-4b2814662c77",
   "metadata": {},
   "source": [
    "The start() method starts a thread by calling the run method. It means it Start the thread’s activity.\n",
    "\n",
    "It must be called at most once per thread object. It arranges for the object’s run() method to be invoked in a separate thread of control.\n",
    "\n",
    "This method will raise a RuntimeError if called more than once on the same thread object."
   ]
  },
  {
   "cell_type": "code",
   "execution_count": 7,
   "id": "6b796207-713b-430c-be1d-b0c71b4aa77f",
   "metadata": {},
   "outputs": [
    {
     "name": "stdout",
     "output_type": "stream",
     "text": [
      "1\n"
     ]
    },
    {
     "ename": "RuntimeError",
     "evalue": "threads can only be started once",
     "output_type": "error",
     "traceback": [
      "\u001b[0;31m---------------------------------------------------------------------------\u001b[0m",
      "\u001b[0;31mRuntimeError\u001b[0m                              Traceback (most recent call last)",
      "Cell \u001b[0;32mIn[7], line 3\u001b[0m\n\u001b[1;32m      1\u001b[0m t \u001b[38;5;241m=\u001b[39m Thread(target\u001b[38;5;241m=\u001b[39m\u001b[38;5;28mprint\u001b[39m, args\u001b[38;5;241m=\u001b[39m(\u001b[38;5;241m1\u001b[39m,))\n\u001b[1;32m      2\u001b[0m t\u001b[38;5;241m.\u001b[39mstart()\n\u001b[0;32m----> 3\u001b[0m \u001b[43mt\u001b[49m\u001b[38;5;241;43m.\u001b[39;49m\u001b[43mstart\u001b[49m\u001b[43m(\u001b[49m\u001b[43m)\u001b[49m\n",
      "File \u001b[0;32m/opt/conda/lib/python3.10/threading.py:930\u001b[0m, in \u001b[0;36mThread.start\u001b[0;34m(self)\u001b[0m\n\u001b[1;32m    927\u001b[0m     \u001b[38;5;28;01mraise\u001b[39;00m \u001b[38;5;167;01mRuntimeError\u001b[39;00m(\u001b[38;5;124m\"\u001b[39m\u001b[38;5;124mthread.__init__() not called\u001b[39m\u001b[38;5;124m\"\u001b[39m)\n\u001b[1;32m    929\u001b[0m \u001b[38;5;28;01mif\u001b[39;00m \u001b[38;5;28mself\u001b[39m\u001b[38;5;241m.\u001b[39m_started\u001b[38;5;241m.\u001b[39mis_set():\n\u001b[0;32m--> 930\u001b[0m     \u001b[38;5;28;01mraise\u001b[39;00m \u001b[38;5;167;01mRuntimeError\u001b[39;00m(\u001b[38;5;124m\"\u001b[39m\u001b[38;5;124mthreads can only be started once\u001b[39m\u001b[38;5;124m\"\u001b[39m)\n\u001b[1;32m    932\u001b[0m \u001b[38;5;28;01mwith\u001b[39;00m _active_limbo_lock:\n\u001b[1;32m    933\u001b[0m     _limbo[\u001b[38;5;28mself\u001b[39m] \u001b[38;5;241m=\u001b[39m \u001b[38;5;28mself\u001b[39m\n",
      "\u001b[0;31mRuntimeError\u001b[0m: threads can only be started once"
     ]
    }
   ],
   "source": [
    "# for example\n",
    "t = Thread(target=print, args=(1,))\n",
    "t.start()\n",
    "t.start()"
   ]
  },
  {
   "cell_type": "code",
   "execution_count": null,
   "id": "3f660ba0-effa-4ea3-aaa2-42b84d686abe",
   "metadata": {},
   "outputs": [],
   "source": []
  },
  {
   "cell_type": "markdown",
   "id": "33a6bfaf-06a7-4e68-97e6-af38df9b7e02",
   "metadata": {},
   "source": [
    "### 3. join([time])"
   ]
  },
  {
   "cell_type": "markdown",
   "id": "7d4383d9-72ab-479c-9a0d-4e0c5c4e5227",
   "metadata": {},
   "source": [
    "The join() wait until the thread terminates. This blocks the calling thread until the thread whose join() method is called terminates – either normally or through an unhandled exception – or until the optional timeout occurs.\n",
    "\n",
    "When the timeout argument is present and not None, it should be a floating point number specifying a timeout for the operation in seconds (or fractions thereof). As join() always returns None, you must call is_alive() after join() to decide whether a timeout happened – if the thread is still alive, the join() call timed out.\n",
    "\n",
    "When the timeout argument is not present or None, the operation will block until the thread terminates.\n",
    "\n",
    "A thread can be joined many times.\n",
    "\n",
    "join() raises a RuntimeError if an attempt is made to join the current thread as that would cause a deadlock. It is also an error to join() a thread before it has been started and attempts to do so raise the same exception."
   ]
  },
  {
   "cell_type": "code",
   "execution_count": 23,
   "id": "30e7ad63-6317-42f9-8a5f-d2eff54040de",
   "metadata": {},
   "outputs": [
    {
     "name": "stdout",
     "output_type": "stream",
     "text": [
      "1\n"
     ]
    },
    {
     "data": {
      "text/plain": [
       "False"
      ]
     },
     "execution_count": 23,
     "metadata": {},
     "output_type": "execute_result"
    }
   ],
   "source": [
    "t = Thread(target=print, args=(1,))\n",
    "t.start()\n",
    "t.join()\n",
    "t.is_alive()"
   ]
  },
  {
   "cell_type": "markdown",
   "id": "f82a0b5d-7409-4384-b3ba-3aa67400ec29",
   "metadata": {},
   "source": [
    "### 4. isAlive()"
   ]
  },
  {
   "cell_type": "markdown",
   "id": "549cbec3-b6c2-4ef7-b503-36acbddd47da",
   "metadata": {},
   "source": [
    "The isAlive() method checks whether a thread is still executing.\n",
    "\n",
    "This method returns True just before the run() method starts until just after the run() method terminates. The module function enumerate() returns a list of all alive threads."
   ]
  },
  {
   "cell_type": "code",
   "execution_count": null,
   "id": "7f7f6da2-acbe-4ca9-9768-ecc65f2fefdd",
   "metadata": {},
   "outputs": [],
   "source": []
  },
  {
   "cell_type": "markdown",
   "id": "73acb7d9-a871-4f5d-b1c7-4270054fec11",
   "metadata": {},
   "source": [
    "## Q4.   Write a python program to create two threads. Thread one must print the list of squares and thread two must print the list of cubes  \n",
    " \n"
   ]
  },
  {
   "cell_type": "markdown",
   "id": "7e2edfca-82d7-40ab-ae25-00b7cb6edb43",
   "metadata": {},
   "source": [
    "#### For writing the program firstly we will understand how we can write programme using threading module"
   ]
  },
  {
   "cell_type": "markdown",
   "id": "4352f2cc-ad35-4a5e-a310-dfbff3148406",
   "metadata": {},
   "source": [
    "### Threading Modules"
   ]
  },
  {
   "cell_type": "markdown",
   "id": "7c3178f6-5d06-42a4-bd7a-54c7603f8d0b",
   "metadata": {},
   "source": [
    "Follow the given below 5 steps to implement the threading module in Python Multithreading:\n",
    "\n",
    "1. Import the threading module\n",
    "\n",
    "Create a new thread by importing the threading module, as shown.\n",
    "\n",
    "Syntax:"
   ]
  },
  {
   "cell_type": "code",
   "execution_count": null,
   "id": "3d4385b1-3acd-40d4-ade5-d339e30b5e1b",
   "metadata": {},
   "outputs": [],
   "source": [
    "import threading  "
   ]
  },
  {
   "cell_type": "markdown",
   "id": "5a2f79f6-c409-4cce-b8e6-4f8084bd9fc8",
   "metadata": {},
   "source": [
    "A threading module is made up of a Thread class, which is instantiated to create a Python thread."
   ]
  },
  {
   "cell_type": "markdown",
   "id": "47f9921d-c56f-4c7e-bd1c-b8633b287aea",
   "metadata": {},
   "source": [
    "2. Declaration of the thread parameters: "
   ]
  },
  {
   "cell_type": "markdown",
   "id": "7599a3ba-2a57-407e-a80a-2a74c5534070",
   "metadata": {},
   "source": [
    "It contains the target function, argument, and kwargs.\n",
    "\n",
    "Target: It defines the function name that is executed by the thread.\n",
    "Args: It defines the arguments that are passed to the target function name."
   ]
  },
  {
   "cell_type": "code",
   "execution_count": 46,
   "id": "9f3b5d61-0519-4757-8b97-ecda69313e27",
   "metadata": {},
   "outputs": [],
   "source": [
    "import threading  \n",
    "def print_hello(n):\n",
    "    print(\"Hello, how old are you \", n)  \n",
    "t1 = threading.Thread( target = print_hello, args =(18, ))      "
   ]
  },
  {
   "cell_type": "markdown",
   "id": "49c8ce34-8ef0-4ea8-ab57-8c115dbe8916",
   "metadata": {},
   "source": [
    "In the above code, we invoked the print_hello() function as the target parameter. The print_hello() contains one parameter n, which passed to the args parameter."
   ]
  },
  {
   "cell_type": "markdown",
   "id": "974aa459-a724-42cd-b611-4e0431c326c7",
   "metadata": {},
   "source": [
    " 3. Start a new thread: "
   ]
  },
  {
   "cell_type": "markdown",
   "id": "6fce5f6e-0c3e-443b-b34f-2fb22af89349",
   "metadata": {},
   "source": [
    "To start a thread in Python multithreading, call the thread class's object. The start() method can be called once for each thread object; otherwise, it throws an exception error.\n",
    "\n",
    "Syntax:\n",
    "\n",
    "t1.start()  \n",
    "t2.start()  \n"
   ]
  },
  {
   "cell_type": "markdown",
   "id": "98bb6166-7f41-464b-b7cb-93dfa312aa06",
   "metadata": {},
   "source": [
    "4. Join method:"
   ]
  },
  {
   "cell_type": "markdown",
   "id": "1f60ddbb-9350-4335-89aa-a01a0f816e10",
   "metadata": {},
   "source": [
    "It is a join() method used in the thread class to halt the main thread's execution and waits till the complete execution of the thread object. When the thread object is completed, it starts the execution of the main thread in Python."
   ]
  },
  {
   "cell_type": "code",
   "execution_count": 50,
   "id": "1cab5c66-a303-400f-b5b3-17b8f4caed7e",
   "metadata": {},
   "outputs": [
    {
     "name": "stdout",
     "output_type": "stream",
     "text": [
      "Hello, how old are you?  18\n",
      "Thank you\n"
     ]
    }
   ],
   "source": [
    "import threading  \n",
    "def print_hello(n):  \n",
    "    print(\"Hello, how old are you? \", n)  \n",
    "t1 = threading.Thread( target = print_hello, args = (18, ))  \n",
    "t1.start()  \n",
    "t1.join()  \n",
    "print(\"Thank you\")  "
   ]
  },
  {
   "cell_type": "markdown",
   "id": "20afee53-f693-4226-aff9-1d1b664a8655",
   "metadata": {},
   "source": [
    "When the above program is executed, the join() method halts the execution of the main thread and waits until the thread t1 is completely executed. Once the t1 is successfully executed, the main thread starts its execution."
   ]
  },
  {
   "cell_type": "markdown",
   "id": "252c6196-a5ce-438b-933b-5ee6b894287a",
   "metadata": {},
   "source": [
    "5. Synchronizing Threads in Python\n",
    "\n",
    "It is a thread synchronization mechanism that ensures no two threads can simultaneously execute a particular segment inside the program to access the shared resources. The situation may be termed as critical sections. We use a race condition to avoid the critical section condition, in which two threads do not access resources at the same time.\n"
   ]
  },
  {
   "cell_type": "markdown",
   "id": "b962b6d1-3550-4190-8604-7a6376e3cdeb",
   "metadata": {},
   "source": [
    "## Now we will write a program to use the threading module in Python Multithreading."
   ]
  },
  {
   "cell_type": "code",
   "execution_count": 55,
   "id": "0a4dc31f-cf20-4b1a-8042-1748f5a42a2f",
   "metadata": {},
   "outputs": [
    {
     "name": "stdout",
     "output_type": "stream",
     "text": [
      " Calculate the square root of the given number\n",
      " Square of 3 is : 9\n",
      " Square of 2 is : 4\n",
      " Square of 6 is : 36\n",
      " Square of 9 is : 81\n",
      " Square of 12 is : 144\n",
      " Calculate the cube of  the given number\n",
      " Cube of 3 is :  27\n",
      " Cube of 2 is :  8\n",
      " Cube of 6 is :  216\n",
      " Cube of 9 is :  729\n",
      " Cube of 12 is :  1728\n",
      " Total time taking by threads is : 4.008222341537476\n",
      " After thread executing completion,the main thread will be execute\n",
      " Thread 1 and Thread 2 have finished their execution.\n"
     ]
    }
   ],
   "source": [
    "import time # import time module  \n",
    "import threading  \n",
    "from threading import *  \n",
    "def cal_sqre(num): # define a square calculating function  \n",
    "    print(\" Calculate the square root of the given number\")  \n",
    "    for i in num: # here we used for loop   \n",
    "        time.sleep(0.4) # at each iteration it waits for 0.4 time  \n",
    "        print(f\" Square of {i} is :\", i**2)        \n",
    "\n",
    "def cal_cube(num): # define a cube calculating function  \n",
    "    print(\" Calculate the cube of  the given number\")  \n",
    "    for i in num: # here we used for loop  \n",
    "        time.sleep(0.4) # at each iteration it waits for 0.4 time  \n",
    "        print(f\" Cube of {i} is : \", i**3)  \n",
    "\n",
    "lst = [3, 2, 6, 9, 12] # given array  \n",
    "  \n",
    "t = time.time() # get total time to execute the functions  \n",
    "#cal_cube(ar)  \n",
    "#cal_sqre(ar)  \n",
    "th1 = threading.Thread(target=cal_sqre, args=(lst, )) # create thread 1 \n",
    "th2 = threading.Thread(target=cal_cube, args=(lst, ))  # create thread 2 \n",
    "th1.start()\n",
    "th1.join()\n",
    "th2.start()    \n",
    "th2.join()  \n",
    "print(\" Total time taking by threads is :\", time.time() - t) # print the total time  \n",
    "print(\" After thread executing completion,the main thread will be execute\")  \n",
    "print(\" Thread 1 and Thread 2 have finished their execution.\")"
   ]
  },
  {
   "cell_type": "markdown",
   "id": "46174cac-caa1-4481-a740-ecfc35cc972d",
   "metadata": {},
   "source": [
    "## Q5. State advantages and disadvantages of multithreading  \n",
    " \n"
   ]
  },
  {
   "cell_type": "markdown",
   "id": "bd87d9a3-f60d-40c6-8a91-b19bf0f381da",
   "metadata": {},
   "source": [
    "### Answer:-"
   ]
  },
  {
   "cell_type": "markdown",
   "id": "6ec2602f-64fe-483e-9fcd-6a7a0d56d390",
   "metadata": {},
   "source": [
    "## Advantage of Multithreading:-"
   ]
  },
  {
   "cell_type": "markdown",
   "id": "307ea3b5-1e50-4b7d-b93b-d6850a54430e",
   "metadata": {
    "jp-MarkdownHeadingCollapsed": true,
    "tags": []
   },
   "source": [
    "Advantages of Multithreading in Python\n",
    "Multithreading in Python has several advantages some of them are as below–\n",
    "\n",
    "1. Python multithreading enables efficient utilization of the resources as the threads share the data space and memory.\n",
    "2. Multithreading in Python allows the concurrent and parallel occurrence of various tasks.\n",
    "3. It causes a reduction in time consumption or response time, thereby increasing the performance.\n",
    "4. You have now reached the end of the tutorial and successfully learned what is multithreading in Python. \n",
    "\n",
    "\n",
    "##### Conclusion:-\n",
    "\n",
    "A program in execution is known as a process.\n",
    "A thread is a single sequential flow of execution of tasks of a process so it is also known as thread of execution or thread of control."
   ]
  },
  {
   "cell_type": "markdown",
   "id": "5a718846-ef20-46f3-a0d9-7afd6ef59991",
   "metadata": {},
   "source": [
    "There are two types of thread:\n",
    "\n",
    "##### 1. User level thread:\n",
    "Application manages thread, i.e. creating/destroying thread, saving/restoring thread, scheduling thread, passing message/data to thread. Kernel is not aware of the existence of threads.\n",
    "\n",
    "## Advantages:\n",
    "\n",
    "User level thread can run on any operating system.\n",
    "Thread switching does not require Kernel mode privileges.\n",
    "Scheduling can be application specific in the user level thread.\n",
    "User level threads are fast to create and manage.\n",
    "Disadvantages:\n",
    "\n",
    "When context switch happens it block process, as process is maintaining threads so threads also block.\n",
    "Multithreaded application cannot take advantage of multiprocessing\n",
    "\n",
    "##### 2. Kernel level thread: \n",
    "Thread management done by Kernel i.e. maintain context information for a process or threads within process. Scheduling by Kernel is done on a thread basis. Kernel perform thread creation, scheduling and management in Kernel space.\n",
    "\n",
    "## Advantages:\n",
    "\n",
    "Kernel can simultaneously schedule multiple threads from the same process on multiple processes.\n",
    "If one thread in a process is blocked, the Kernel can schedule another thread of the same process.\n",
    "Kernel routines themselves can multithreaded.\n",
    "Disadvantages:\n",
    "\n",
    "Kernel threads are generally slower to create and manage than the user threads.\n",
    "Transfer of control from one thread to another within same process requires a mode switch to the Kernel."
   ]
  },
  {
   "cell_type": "markdown",
   "id": "67205b90-ea70-4a56-92d2-3a5896c4e2ba",
   "metadata": {},
   "source": [
    "## Disadvantages of Multi-threading:-"
   ]
  },
  {
   "cell_type": "markdown",
   "id": "35746527-4461-4508-afc3-5e778593dac4",
   "metadata": {},
   "source": [
    "1. Increases the complexity of the program.\n",
    "\n",
    "2. Synchronization of shared resources (objects, data) is necessary.\n",
    "\n",
    "3. Difficult to debug unpredictable results\n",
    "\n",
    "4. Constructing and synchronizing threads is CPU/memory intensive."
   ]
  },
  {
   "cell_type": "markdown",
   "id": "7fa30807-8007-4c66-a880-537259091687",
   "metadata": {},
   "source": [
    "## Q6. Explain deadlocks and race conditions. "
   ]
  },
  {
   "cell_type": "markdown",
   "id": "c8a5c78e-656e-404b-bcc6-8892eef4d9e4",
   "metadata": {},
   "source": [
    "## deadlocks\n",
    "When two processes are waiting for each other directly or indirectly, it is called deadlock.\n",
    "\n",
    "This usually occurs when two processes are waiting for shared resources acquired by others.\n",
    "\n",
    "For example:-\n",
    "\n",
    "If thread t1 acquired resource r1 and it also needs resource r2 for it to accomplish its task. But the resource r2 is acquired by thread t2 which is waiting for resource r1(which is acquired by t1).. Neither of them will be able to accomplish its task, as they keep waiting for the other resources they need.\n",
    "All these two task would keep waiting and will never end. This is called deadlock."
   ]
  },
  {
   "cell_type": "markdown",
   "id": "7a4b92f0-2c61-4ede-9197-d08cfc95e21c",
   "metadata": {},
   "source": [
    "## Race Condition\n",
    "When two processes are competing with each other causing data corruption."
   ]
  },
  {
   "cell_type": "markdown",
   "id": "dad1fbf2-089c-436b-b5aa-d1cc0f9bb9e3",
   "metadata": {},
   "source": [
    "For example:-\n",
    "\n",
    "If two processes/threads are trying to execute the following conditions simultaneously, they cause data corruption:"
   ]
  },
  {
   "cell_type": "markdown",
   "id": "5eca8ad3-7148-439b-81b6-91c670fe48dd",
   "metadata": {},
   "source": [
    "Thread 1:\n",
    "total = num1 + num2\n",
    "\n",
    "Thread 2:\n",
    "total = num1 - num2\n"
   ]
  },
  {
   "cell_type": "markdown",
   "id": "04e6e80f-4812-40ec-83ba-de56ec05bfe7",
   "metadata": {},
   "source": [
    "It is very common for the race conditions to go unnoticed during testing even after multiple tests and code reviews. But in production, there would be a lot of processes and threads working parallelly and compete for the same resources, and this problem would occur."
   ]
  },
  {
   "cell_type": "code",
   "execution_count": null,
   "id": "214fe02c-9cd3-42a5-93b7-1db4cda7410e",
   "metadata": {},
   "outputs": [],
   "source": []
  }
 ],
 "metadata": {
  "kernelspec": {
   "display_name": "Python 3 (ipykernel)",
   "language": "python",
   "name": "python3"
  },
  "language_info": {
   "codemirror_mode": {
    "name": "ipython",
    "version": 3
   },
   "file_extension": ".py",
   "mimetype": "text/x-python",
   "name": "python",
   "nbconvert_exporter": "python",
   "pygments_lexer": "ipython3",
   "version": "3.10.8"
  }
 },
 "nbformat": 4,
 "nbformat_minor": 5
}
