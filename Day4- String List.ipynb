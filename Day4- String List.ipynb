{
 "cells": [
  {
   "cell_type": "code",
   "execution_count": 1,
   "id": "d9b3b41e-7365-406f-aadd-e9144e1fef42",
   "metadata": {},
   "outputs": [],
   "source": [
    "name= \"Data Science Master\" "
   ]
  },
  {
   "cell_type": "code",
   "execution_count": 2,
   "id": "9a4c55f0-ad7f-4e6a-ada9-bbff9a5a9e68",
   "metadata": {},
   "outputs": [
    {
     "data": {
      "text/plain": [
       "'Data Science Master'"
      ]
     },
     "execution_count": 2,
     "metadata": {},
     "output_type": "execute_result"
    }
   ],
   "source": [
    "name"
   ]
  },
  {
   "cell_type": "code",
   "execution_count": 3,
   "id": "14906d0f-2088-4cf2-8c97-8aef12b05e79",
   "metadata": {},
   "outputs": [
    {
     "data": {
      "text/plain": [
       "'dATA sCIENCE mASTER'"
      ]
     },
     "execution_count": 3,
     "metadata": {},
     "output_type": "execute_result"
    }
   ],
   "source": [
    "name.swapcase()"
   ]
  },
  {
   "cell_type": "code",
   "execution_count": 4,
   "id": "d7b38e87-f15a-4a93-937f-223eb4966d02",
   "metadata": {},
   "outputs": [
    {
     "data": {
      "text/plain": [
       "'Data science master'"
      ]
     },
     "execution_count": 4,
     "metadata": {},
     "output_type": "execute_result"
    }
   ],
   "source": [
    "name.capitalize()"
   ]
  },
  {
   "cell_type": "code",
   "execution_count": 5,
   "id": "131ea4d8-2a80-4bbc-8933-e3aa9e88debf",
   "metadata": {},
   "outputs": [
    {
     "data": {
      "text/plain": [
       "'Data Science Master'"
      ]
     },
     "execution_count": 5,
     "metadata": {},
     "output_type": "execute_result"
    }
   ],
   "source": [
    "name.title()"
   ]
  },
  {
   "cell_type": "markdown",
   "id": "6647e46f-26cc-4c84-b27a-bef0c3ca3740",
   "metadata": {},
   "source": [
    "## Reversing a String"
   ]
  },
  {
   "cell_type": "code",
   "execution_count": 15,
   "id": "93181b3b-461b-4060-8270-7b171f22823c",
   "metadata": {},
   "outputs": [],
   "source": [
    "name=\"Nitesh\""
   ]
  },
  {
   "cell_type": "code",
   "execution_count": 16,
   "id": "a64ee906-a47d-4325-8a5e-e46626c753dc",
   "metadata": {},
   "outputs": [
    {
     "data": {
      "text/plain": [
       "'Nitesh'"
      ]
     },
     "execution_count": 16,
     "metadata": {},
     "output_type": "execute_result"
    }
   ],
   "source": [
    "name"
   ]
  },
  {
   "cell_type": "code",
   "execution_count": 17,
   "id": "59772f6d-7fea-4900-8ba0-31d4acc7aebe",
   "metadata": {},
   "outputs": [],
   "source": [
    "name=\"Data Science Master Class\""
   ]
  },
  {
   "cell_type": "code",
   "execution_count": 18,
   "id": "e384d9ad-4aa7-4264-b165-a0f36cdeefdc",
   "metadata": {},
   "outputs": [
    {
     "data": {
      "text/plain": [
       "'Data Science Master Class'"
      ]
     },
     "execution_count": 18,
     "metadata": {},
     "output_type": "execute_result"
    }
   ],
   "source": [
    "name"
   ]
  },
  {
   "cell_type": "code",
   "execution_count": 19,
   "id": "864dadf9-90e9-4b55-ae39-cd817121180d",
   "metadata": {},
   "outputs": [
    {
     "data": {
      "text/plain": [
       "'ssalC retsaM ecneicS ataD'"
      ]
     },
     "execution_count": 19,
     "metadata": {},
     "output_type": "execute_result"
    }
   ],
   "source": [
    "name[::-1]"
   ]
  },
  {
   "cell_type": "code",
   "execution_count": 20,
   "id": "fd918c63-1460-4644-919f-4aa1fb92cef5",
   "metadata": {},
   "outputs": [
    {
     "data": {
      "text/plain": [
       "<reversed at 0x7f7614422800>"
      ]
     },
     "execution_count": 20,
     "metadata": {},
     "output_type": "execute_result"
    }
   ],
   "source": [
    "reversed(name)"
   ]
  },
  {
   "cell_type": "code",
   "execution_count": 21,
   "id": "cbd51a83-1a1b-45e9-aaad-dfc962298731",
   "metadata": {},
   "outputs": [
    {
     "data": {
      "text/plain": [
       "'s s a l C   r e t s a M   e c n e i c S   a t a D'"
      ]
     },
     "execution_count": 21,
     "metadata": {},
     "output_type": "execute_result"
    }
   ],
   "source": [
    "\" \".join(reversed(name))"
   ]
  },
  {
   "cell_type": "code",
   "execution_count": 26,
   "id": "8f5e08b6-b2a7-4507-8423-98fddffbd0d9",
   "metadata": {},
   "outputs": [
    {
     "data": {
      "text/plain": [
       "'KNiteshuNiteshmNiteshaNiteshr'"
      ]
     },
     "execution_count": 26,
     "metadata": {},
     "output_type": "execute_result"
    }
   ],
   "source": [
    "\"Nitesh\".join(\"Kumar\")"
   ]
  },
  {
   "cell_type": "code",
   "execution_count": 27,
   "id": "9eadc8d0-6e7c-49a5-956a-155aaad3c185",
   "metadata": {},
   "outputs": [
    {
     "data": {
      "text/plain": [
       "'rNiteshaNiteshmNiteshuNiteshK'"
      ]
     },
     "execution_count": 27,
     "metadata": {},
     "output_type": "execute_result"
    }
   ],
   "source": [
    "\"Nitesh\".join(reversed(\"Kumar\"))"
   ]
  },
  {
   "cell_type": "code",
   "execution_count": 30,
   "id": "d30d3bb8-1d80-4766-81ca-d94ffd8ca912",
   "metadata": {},
   "outputs": [
    {
     "data": {
      "text/plain": [
       "'a   b   c   d'"
      ]
     },
     "execution_count": 30,
     "metadata": {},
     "output_type": "execute_result"
    }
   ],
   "source": [
    "\"   \".join(\"abcd\")"
   ]
  },
  {
   "cell_type": "code",
   "execution_count": 31,
   "id": "7dd38d6d-cf07-4ee3-9583-c3b649049a12",
   "metadata": {},
   "outputs": [
    {
     "data": {
      "text/plain": [
       "'d   c   b   a'"
      ]
     },
     "execution_count": 31,
     "metadata": {},
     "output_type": "execute_result"
    }
   ],
   "source": [
    "\"   \".join(reversed(\"abcd\"))"
   ]
  },
  {
   "cell_type": "markdown",
   "id": "618096e3-9a45-4d6d-ba67-64dc8bd6e28d",
   "metadata": {},
   "source": [
    "\n",
    "## Removing character from the end of the screen"
   ]
  },
  {
   "cell_type": "code",
   "execution_count": 32,
   "id": "78fc425b-0636-414b-b68b-e7790117c150",
   "metadata": {},
   "outputs": [],
   "source": [
    "str1= \" Nitesh \""
   ]
  },
  {
   "cell_type": "code",
   "execution_count": 33,
   "id": "4fa53a69-255c-4c3e-bb21-706bf2dc18f2",
   "metadata": {},
   "outputs": [
    {
     "data": {
      "text/plain": [
       "' Nitesh '"
      ]
     },
     "execution_count": 33,
     "metadata": {},
     "output_type": "execute_result"
    }
   ],
   "source": [
    "str1"
   ]
  },
  {
   "cell_type": "code",
   "execution_count": 38,
   "id": "d25cd344-9a72-450b-9484-9176ceaff01a",
   "metadata": {},
   "outputs": [
    {
     "data": {
      "text/plain": [
       "'Nitesh'"
      ]
     },
     "execution_count": 38,
     "metadata": {},
     "output_type": "execute_result"
    }
   ],
   "source": [
    "str1.strip(\" \")"
   ]
  },
  {
   "cell_type": "code",
   "execution_count": 44,
   "id": "beadadcf-4b8d-4be4-af85-d06cc7d06cd7",
   "metadata": {},
   "outputs": [
    {
     "data": {
      "text/plain": [
       "'Nitesh '"
      ]
     },
     "execution_count": 44,
     "metadata": {},
     "output_type": "execute_result"
    }
   ],
   "source": [
    "str1.lstrip(\" \")"
   ]
  },
  {
   "cell_type": "code",
   "execution_count": 43,
   "id": "30241837-b0ca-43ec-ad6c-b6f4e0d41e81",
   "metadata": {},
   "outputs": [
    {
     "data": {
      "text/plain": [
       "' Nitesh'"
      ]
     },
     "execution_count": 43,
     "metadata": {},
     "output_type": "execute_result"
    }
   ],
   "source": [
    "str1.rstrip(\" \")"
   ]
  },
  {
   "cell_type": "code",
   "execution_count": 45,
   "id": "665013c2-4794-43c1-8e51-1503556e2f3d",
   "metadata": {},
   "outputs": [],
   "source": [
    "str1=\"Nitesh is a Good Boy\""
   ]
  },
  {
   "cell_type": "code",
   "execution_count": 46,
   "id": "be7d4539-aab0-42bd-bdc8-31581486114b",
   "metadata": {},
   "outputs": [
    {
     "data": {
      "text/plain": [
       "'Nitesh is a Good Boy'"
      ]
     },
     "execution_count": 46,
     "metadata": {},
     "output_type": "execute_result"
    }
   ],
   "source": [
    "str1"
   ]
  },
  {
   "cell_type": "code",
   "execution_count": 47,
   "id": "1423359b-7328-48be-ab8a-d21a592380a4",
   "metadata": {},
   "outputs": [
    {
     "data": {
      "text/plain": [
       "'Nitesh is a Intelligent Boy'"
      ]
     },
     "execution_count": 47,
     "metadata": {},
     "output_type": "execute_result"
    }
   ],
   "source": [
    "str1.replace(\"Good\",\"Intelligent\")"
   ]
  },
  {
   "cell_type": "code",
   "execution_count": 58,
   "id": "8370cad6-1f52-4049-af6e-2d3dba665764",
   "metadata": {},
   "outputs": [
    {
     "data": {
      "text/plain": [
       "'Mitesh is a Good Boy'"
      ]
     },
     "execution_count": 58,
     "metadata": {},
     "output_type": "execute_result"
    }
   ],
   "source": [
    "str1.replace(\"N\",\"M\")"
   ]
  },
  {
   "cell_type": "code",
   "execution_count": 59,
   "id": "d8d7ece8-6f5a-4528-9c3c-f3323250f9e0",
   "metadata": {},
   "outputs": [
    {
     "data": {
      "text/plain": [
       "'Nitesh is a Good Boy'"
      ]
     },
     "execution_count": 59,
     "metadata": {},
     "output_type": "execute_result"
    }
   ],
   "source": [
    "str1.replace(\"M\",\"N\")"
   ]
  },
  {
   "cell_type": "code",
   "execution_count": 63,
   "id": "1490e97f-a382-49dc-98a2-7fe9eede0efe",
   "metadata": {},
   "outputs": [
    {
     "data": {
      "text/plain": [
       "'Hello   world'"
      ]
     },
     "execution_count": 63,
     "metadata": {},
     "output_type": "execute_result"
    }
   ],
   "source": [
    "\"Hello\\tworld\".expandtabs()"
   ]
  },
  {
   "cell_type": "code",
   "execution_count": 64,
   "id": "1fe577f3-ad14-418c-be14-e629c279213d",
   "metadata": {},
   "outputs": [],
   "source": [
    "str1=\"welcome to my home.welcome to Dat cience Maste\""
   ]
  },
  {
   "cell_type": "code",
   "execution_count": 76,
   "id": "5a4553bf-0e79-4233-be6b-3b1cb4232e4e",
   "metadata": {},
   "outputs": [
    {
     "name": "stdout",
     "output_type": "stream",
     "text": [
      "welcome to my home.welcome to Data Science Master\n"
     ]
    }
   ],
   "source": [
    "str2=str1.replace(\"Dat\",\"Data\")\n",
    "str3=str2.replace(\"cience\",\"Science\")\n",
    "str4=str3.replace(\"Maste\",\"Master\")\n",
    "print(str4)"
   ]
  },
  {
   "cell_type": "code",
   "execution_count": null,
   "id": "b086dd7b-80f6-429e-9384-8726439478fa",
   "metadata": {},
   "outputs": [],
   "source": [
    "## or another and smart method"
   ]
  },
  {
   "cell_type": "code",
   "execution_count": 77,
   "id": "261bb0df-8f30-4886-9bf5-cf5e5ee983eb",
   "metadata": {},
   "outputs": [
    {
     "data": {
      "text/plain": [
       "'welcome to my home.welcome to Dat cience Maste'"
      ]
     },
     "execution_count": 77,
     "metadata": {},
     "output_type": "execute_result"
    }
   ],
   "source": [
    "str1"
   ]
  },
  {
   "cell_type": "code",
   "execution_count": 78,
   "id": "cf461ad1-b203-4594-8ce7-68fe86a45fc1",
   "metadata": {},
   "outputs": [
    {
     "data": {
      "text/plain": [
       "'welcome to my home.welcome to Data Science Masters'"
      ]
     },
     "execution_count": 78,
     "metadata": {},
     "output_type": "execute_result"
    }
   ],
   "source": [
    "str1.replace(\"Dat\",\"Data\").replace(\"cience\",\"Science\").replace(\"Maste\",\"Masters\")"
   ]
  },
  {
   "cell_type": "code",
   "execution_count": 79,
   "id": "c5ec58c6-5ffd-4e75-b933-ed9e57a6a9bc",
   "metadata": {},
   "outputs": [],
   "source": [
    "str2=\"Welcome to my World\""
   ]
  },
  {
   "cell_type": "code",
   "execution_count": 80,
   "id": "279fcde5-2d49-41f9-89fb-72e30f0dbcb3",
   "metadata": {},
   "outputs": [
    {
     "data": {
      "text/plain": [
       "'Welcome to my World'"
      ]
     },
     "execution_count": 80,
     "metadata": {},
     "output_type": "execute_result"
    }
   ],
   "source": [
    "str2"
   ]
  },
  {
   "cell_type": "code",
   "execution_count": 81,
   "id": "b65fb895-dd26-4d76-a708-59b9fda9c7f6",
   "metadata": {},
   "outputs": [
    {
     "data": {
      "text/plain": [
       "'WELCOME TO MY WORLD'"
      ]
     },
     "execution_count": 81,
     "metadata": {},
     "output_type": "execute_result"
    }
   ],
   "source": [
    "str2.upper()"
   ]
  },
  {
   "cell_type": "code",
   "execution_count": 82,
   "id": "b2d6f4b1-fe6b-4ddb-b746-6c7939f39c15",
   "metadata": {},
   "outputs": [
    {
     "data": {
      "text/plain": [
       "'Welcome to my World'"
      ]
     },
     "execution_count": 82,
     "metadata": {},
     "output_type": "execute_result"
    }
   ],
   "source": [
    "str2"
   ]
  },
  {
   "cell_type": "code",
   "execution_count": 83,
   "id": "ebd8f284-ebc3-47a6-8f0f-17eefbe8e9af",
   "metadata": {},
   "outputs": [
    {
     "data": {
      "text/plain": [
       "False"
      ]
     },
     "execution_count": 83,
     "metadata": {},
     "output_type": "execute_result"
    }
   ],
   "source": [
    "str2.isupper()"
   ]
  },
  {
   "cell_type": "code",
   "execution_count": 84,
   "id": "6090d3e0-c09c-4276-8014-bdbbcce58788",
   "metadata": {},
   "outputs": [
    {
     "data": {
      "text/plain": [
       "False"
      ]
     },
     "execution_count": 84,
     "metadata": {},
     "output_type": "execute_result"
    }
   ],
   "source": [
    "str2.islower()"
   ]
  },
  {
   "cell_type": "code",
   "execution_count": 85,
   "id": "4a01dcba-7ed4-4567-9473-66abac5de380",
   "metadata": {},
   "outputs": [
    {
     "data": {
      "text/plain": [
       "True"
      ]
     },
     "execution_count": 85,
     "metadata": {},
     "output_type": "execute_result"
    }
   ],
   "source": [
    "str2.upper().isupper()"
   ]
  },
  {
   "cell_type": "code",
   "execution_count": 86,
   "id": "7b09a343-966a-41d5-97b1-b8ec720b7c1b",
   "metadata": {},
   "outputs": [
    {
     "data": {
      "text/plain": [
       "'welcome to my world'"
      ]
     },
     "execution_count": 86,
     "metadata": {},
     "output_type": "execute_result"
    }
   ],
   "source": [
    "str2.lower()"
   ]
  },
  {
   "cell_type": "code",
   "execution_count": 87,
   "id": "d8f66259-15ed-4daa-b5c1-f311afa9f32b",
   "metadata": {},
   "outputs": [
    {
     "data": {
      "text/plain": [
       "True"
      ]
     },
     "execution_count": 87,
     "metadata": {},
     "output_type": "execute_result"
    }
   ],
   "source": [
    "str2.lower().islower()"
   ]
  },
  {
   "cell_type": "code",
   "execution_count": 88,
   "id": "37eb54be-5277-4c53-a255-6413a2d2a679",
   "metadata": {},
   "outputs": [
    {
     "data": {
      "text/plain": [
       "False"
      ]
     },
     "execution_count": 88,
     "metadata": {},
     "output_type": "execute_result"
    }
   ],
   "source": [
    "str2.isspace()"
   ]
  },
  {
   "cell_type": "code",
   "execution_count": 104,
   "id": "fc35ea4e-5893-430d-80fb-cf724a9d232f",
   "metadata": {},
   "outputs": [],
   "source": [
    "str3=\"NITESH\""
   ]
  },
  {
   "cell_type": "code",
   "execution_count": 105,
   "id": "d19e9471-d81f-4841-90ff-8a0c74356e56",
   "metadata": {},
   "outputs": [
    {
     "data": {
      "text/plain": [
       "'NITESH'"
      ]
     },
     "execution_count": 105,
     "metadata": {},
     "output_type": "execute_result"
    }
   ],
   "source": [
    "str3"
   ]
  },
  {
   "cell_type": "code",
   "execution_count": 106,
   "id": "7f4f7a3a-4f6f-44fd-864f-94a3d78b6e64",
   "metadata": {},
   "outputs": [
    {
     "data": {
      "text/plain": [
       "True"
      ]
     },
     "execution_count": 106,
     "metadata": {},
     "output_type": "execute_result"
    }
   ],
   "source": [
    "\" \".isspace()"
   ]
  },
  {
   "cell_type": "code",
   "execution_count": 110,
   "id": "394c11ee-fa03-4091-89ba-b3e839aef50d",
   "metadata": {},
   "outputs": [
    {
     "name": "stdout",
     "output_type": "stream",
     "text": [
      "Hi\n"
     ]
    }
   ],
   "source": [
    "if str3.isspace():\n",
    "    print(\"Hello\")\n",
    "else:\n",
    "        print(\"Hi\")"
   ]
  },
  {
   "cell_type": "code",
   "execution_count": 111,
   "id": "ff879c68-d61e-4a27-9489-f63df0cc25cb",
   "metadata": {},
   "outputs": [
    {
     "name": "stdout",
     "output_type": "stream",
     "text": [
      "Hello\n"
     ]
    }
   ],
   "source": [
    "if \" \".isspace():\n",
    "    print(\"Hello\")"
   ]
  },
  {
   "cell_type": "code",
   "execution_count": 112,
   "id": "e88b7629-41e7-4f5f-a026-3b24359747d5",
   "metadata": {},
   "outputs": [],
   "source": [
    "str1=\"Battery charged 100%\""
   ]
  },
  {
   "cell_type": "code",
   "execution_count": 113,
   "id": "8e89b918-c658-44e5-8b46-f42b3fe4b4c0",
   "metadata": {},
   "outputs": [
    {
     "data": {
      "text/plain": [
       "'Battery charged 100%'"
      ]
     },
     "execution_count": 113,
     "metadata": {},
     "output_type": "execute_result"
    }
   ],
   "source": [
    "str1"
   ]
  },
  {
   "cell_type": "code",
   "execution_count": 114,
   "id": "f437c73a-272e-4ecf-b259-bbe6a4ad9cb1",
   "metadata": {},
   "outputs": [
    {
     "name": "stdout",
     "output_type": "stream",
     "text": [
      "Removed plugged because Battery is full charged\n"
     ]
    }
   ],
   "source": [
    "if str1.endswith(\"100%\"):\n",
    "    print(\"Removed plugged because Battery is full charged\")"
   ]
  },
  {
   "cell_type": "code",
   "execution_count": 116,
   "id": "211af3b0-393f-47c9-b274-d2f0686f8806",
   "metadata": {},
   "outputs": [
    {
     "data": {
      "text/plain": [
       "True"
      ]
     },
     "execution_count": 116,
     "metadata": {},
     "output_type": "execute_result"
    }
   ],
   "source": [
    "str1.startswith(\"Battery\")"
   ]
  },
  {
   "cell_type": "code",
   "execution_count": 135,
   "id": "d52ff7d7-4a52-4fb8-81cc-082b940fac5d",
   "metadata": {},
   "outputs": [
    {
     "name": "stdin",
     "output_type": "stream",
     "text": [
      "Enter the password 1234&&&\n"
     ]
    },
    {
     "name": "stdout",
     "output_type": "stream",
     "text": [
      "wrong password\n"
     ]
    }
   ],
   "source": [
    "## Check if the char in string is alphanumerical\n",
    "password=(input(\"Enter the password\"))\n",
    "#print(input(\"Enter the password\"))\n",
    "if password.isalnum():\n",
    "    print (\"password unlocked\")\n",
    "else:\n",
    "    print (\"wrong password\")"
   ]
  },
  {
   "cell_type": "code",
   "execution_count": 138,
   "id": "ac5aecdf-fce3-4a25-94df-45f4c2933db2",
   "metadata": {},
   "outputs": [
    {
     "data": {
      "text/plain": [
       "6"
      ]
     },
     "execution_count": 138,
     "metadata": {},
     "output_type": "execute_result"
    }
   ],
   "source": [
    "# count the number of char in string\n",
    "str1=\"Nitesh\"\n",
    "len(str1)"
   ]
  },
  {
   "cell_type": "code",
   "execution_count": 139,
   "id": "8bc49799-8982-43e0-9d3b-2f89e6c53860",
   "metadata": {},
   "outputs": [
    {
     "data": {
      "text/plain": [
       "'Nitesh'"
      ]
     },
     "execution_count": 139,
     "metadata": {},
     "output_type": "execute_result"
    }
   ],
   "source": [
    "str1"
   ]
  },
  {
   "cell_type": "code",
   "execution_count": 154,
   "id": "f8d75927-884e-4f2b-aa49-e7f113ddbe16",
   "metadata": {},
   "outputs": [
    {
     "name": "stdout",
     "output_type": "stream",
     "text": [
      "N\n",
      "i\n",
      "t\n",
      "e\n",
      "s\n",
      "h\n"
     ]
    }
   ],
   "source": [
    "for i in str1:\n",
    "    print(i)"
   ]
  },
  {
   "cell_type": "code",
   "execution_count": 153,
   "id": "8e277844-7ee4-4a69-95bd-9616744639ae",
   "metadata": {},
   "outputs": [
    {
     "name": "stdout",
     "output_type": "stream",
     "text": [
      "N\n",
      "i\n",
      "t\n",
      "e\n",
      "s\n",
      "h\n"
     ]
    }
   ],
   "source": [
    "for i in range(len(str1)):\n",
    "    print(str1[i])"
   ]
  },
  {
   "cell_type": "code",
   "execution_count": 165,
   "id": "55415ff2-7c95-496b-b897-00f818a62291",
   "metadata": {},
   "outputs": [
    {
     "name": "stdout",
     "output_type": "stream",
     "text": [
      "['N']\n",
      "['i']\n",
      "['t']\n",
      "['e']\n",
      "['s']\n",
      "['h']\n"
     ]
    }
   ],
   "source": [
    "for i in str1:\n",
    "     print([i])"
   ]
  },
  {
   "cell_type": "code",
   "execution_count": 166,
   "id": "fde090cf-874c-4902-94ae-99e0f0552032",
   "metadata": {},
   "outputs": [
    {
     "data": {
      "text/plain": [
       "'Nitesh'"
      ]
     },
     "execution_count": 166,
     "metadata": {},
     "output_type": "execute_result"
    }
   ],
   "source": [
    "str1"
   ]
  },
  {
   "cell_type": "code",
   "execution_count": 168,
   "id": "f8da212d-57b6-4317-9a26-0c6c11b4680c",
   "metadata": {},
   "outputs": [
    {
     "data": {
      "text/plain": [
       "['Nitesh']"
      ]
     },
     "execution_count": 168,
     "metadata": {},
     "output_type": "execute_result"
    }
   ],
   "source": [
    "[str1]"
   ]
  },
  {
   "cell_type": "code",
   "execution_count": 169,
   "id": "928ebafe-e5c4-4ae9-96a3-2efc754f27e6",
   "metadata": {},
   "outputs": [
    {
     "data": {
      "text/plain": [
       "['N', 'i', 't', 'e', 's', 'h']"
      ]
     },
     "execution_count": 169,
     "metadata": {},
     "output_type": "execute_result"
    }
   ],
   "source": [
    "list(str1)"
   ]
  },
  {
   "cell_type": "code",
   "execution_count": 170,
   "id": "94d7652d-06dc-4631-a0a8-a4097acb1a95",
   "metadata": {},
   "outputs": [
    {
     "data": {
      "text/plain": [
       "'Nitesh'"
      ]
     },
     "execution_count": 170,
     "metadata": {},
     "output_type": "execute_result"
    }
   ],
   "source": [
    "str1"
   ]
  },
  {
   "cell_type": "code",
   "execution_count": 176,
   "id": "5857c40a-2de0-4147-98d3-01cd0881bd87",
   "metadata": {},
   "outputs": [
    {
     "name": "stdout",
     "output_type": "stream",
     "text": [
      "0 = N\n",
      "1 = i\n",
      "2 = t\n",
      "3 = e\n",
      "4 = s\n",
      "5 = h\n"
     ]
    }
   ],
   "source": [
    "for i in range(len(str1)):\n",
    "    print (i,\"=\",str1[i])\n"
   ]
  },
  {
   "cell_type": "code",
   "execution_count": 216,
   "id": "bfbfb88e-8db1-49c3-8fa0-d177e9323d00",
   "metadata": {},
   "outputs": [
    {
     "name": "stdout",
     "output_type": "stream",
     "text": [
      "5 = h\n",
      "4 = s\n",
      "3 = e\n",
      "2 = t\n",
      "1 = i\n",
      "0 = N\n"
     ]
    }
   ],
   "source": [
    "# we can use index to iterate the string in reverse direction\n",
    "for i in range(len(str1)-1,-1,-1):\n",
    "    print (i,\"=\",str1[i])\n",
    "       \n",
    "        "
   ]
  },
  {
   "cell_type": "code",
   "execution_count": 9,
   "id": "a6e38495-f3b7-455a-97df-d20e83737a48",
   "metadata": {},
   "outputs": [
    {
     "name": "stdout",
     "output_type": "stream",
     "text": [
      "A\n",
      "S\n",
      "A\n",
      "L\n"
     ]
    }
   ],
   "source": [
    "str2=\"LASA\"\n",
    "ch=len(str2)-1\n",
    "while ch>=0:\n",
    "    print(str2[ch])\n",
    "    ch=ch-1"
   ]
  },
  {
   "cell_type": "code",
   "execution_count": 16,
   "id": "d26787f7-2b82-4b18-b50e-1e59d7186f36",
   "metadata": {},
   "outputs": [
    {
     "data": {
      "text/plain": [
       "['A', 'S', 'A', 'L']"
      ]
     },
     "execution_count": 16,
     "metadata": {},
     "output_type": "execute_result"
    }
   ],
   "source": [
    "fi=list(str2)\n",
    "fi[::-1]"
   ]
  },
  {
   "cell_type": "code",
   "execution_count": 27,
   "id": "cd43f2a8-df3b-4cf1-b8dd-cc644cd81380",
   "metadata": {},
   "outputs": [
    {
     "name": "stdout",
     "output_type": "stream",
     "text": [
      "A\n",
      "S\n",
      "A\n",
      "L\n"
     ]
    }
   ],
   "source": [
    "# Another solution\n",
    "for i in range(len(str2)):\n",
    "    print(str2[len(str2)-(i+1)])"
   ]
  },
  {
   "cell_type": "code",
   "execution_count": 28,
   "id": "2a3c5f2b-9e7a-4ffd-84db-ff492336bb56",
   "metadata": {},
   "outputs": [
    {
     "name": "stdout",
     "output_type": "stream",
     "text": [
      "A S A L "
     ]
    }
   ],
   "source": [
    "for i in range(len(str2)):\n",
    "    print(str2[len(str2)-(i+1)],end=\" \")"
   ]
  },
  {
   "cell_type": "code",
   "execution_count": null,
   "id": "9a8310d7-ac2f-418f-96df-0274f892c18b",
   "metadata": {},
   "outputs": [],
   "source": [
    "# we have to check character in Name is vowel or not?\n",
    "Name=\"lasaIndia\"\n",
    "vowels=\"AaEeIiOoUu\"\n",
    "for ch in Name:\n",
    "    if ch in vowels:\n",
    "        print(f\"{ch} is a vowel\")\n",
    "    else:\n",
    "        print(f\"{ch} is not a vowel \")"
   ]
  },
  {
   "cell_type": "markdown",
   "id": "db795c08-b645-479f-822e-005cca698b81",
   "metadata": {},
   "source": [
    "### list Data Structure"
   ]
  },
  {
   "cell_type": "code",
   "execution_count": 13,
   "id": "62ad7926-e00e-43d9-8f4c-823e82a241d8",
   "metadata": {},
   "outputs": [],
   "source": [
    "name=\"Nitesh is working\""
   ]
  },
  {
   "cell_type": "code",
   "execution_count": 14,
   "id": "a11d0baa-9e9f-4281-8d42-ae4bf776a8d3",
   "metadata": {},
   "outputs": [
    {
     "data": {
      "text/plain": [
       "['N',\n",
       " 'i',\n",
       " 't',\n",
       " 'e',\n",
       " 's',\n",
       " 'h',\n",
       " ' ',\n",
       " 'i',\n",
       " 's',\n",
       " ' ',\n",
       " 'w',\n",
       " 'o',\n",
       " 'r',\n",
       " 'k',\n",
       " 'i',\n",
       " 'n',\n",
       " 'g']"
      ]
     },
     "execution_count": 14,
     "metadata": {},
     "output_type": "execute_result"
    }
   ],
   "source": [
    "list(name)"
   ]
  },
  {
   "cell_type": "code",
   "execution_count": 15,
   "id": "0f05d94c-3607-4e0a-bedf-e32671187ab4",
   "metadata": {},
   "outputs": [
    {
     "data": {
      "text/plain": [
       "['Nitesh', 'is', 'working']"
      ]
     },
     "execution_count": 15,
     "metadata": {},
     "output_type": "execute_result"
    }
   ],
   "source": [
    "list(name.split(\" \"))"
   ]
  },
  {
   "cell_type": "code",
   "execution_count": 16,
   "id": "ce4baa2f-b87d-4475-b6ae-e6b7f2d7b538",
   "metadata": {},
   "outputs": [],
   "source": [
    "lst1=name.split(\" \")"
   ]
  },
  {
   "cell_type": "code",
   "execution_count": 17,
   "id": "2bbca03d-6022-4c48-9dd0-29be7716f92f",
   "metadata": {},
   "outputs": [
    {
     "data": {
      "text/plain": [
       "['Nitesh', 'is', 'working']"
      ]
     },
     "execution_count": 17,
     "metadata": {},
     "output_type": "execute_result"
    }
   ],
   "source": [
    "lst1"
   ]
  },
  {
   "cell_type": "code",
   "execution_count": 18,
   "id": "a8da367b-017b-4958-9699-5278c7da8123",
   "metadata": {},
   "outputs": [
    {
     "data": {
      "text/plain": [
       "['is', 'working']"
      ]
     },
     "execution_count": 18,
     "metadata": {},
     "output_type": "execute_result"
    }
   ],
   "source": [
    "lst1[1:]"
   ]
  },
  {
   "cell_type": "code",
   "execution_count": 19,
   "id": "32f5792c-8e9e-4f71-99e9-af6c00e24505",
   "metadata": {},
   "outputs": [],
   "source": [
    "lst1[2]=\"Working Profession\""
   ]
  },
  {
   "cell_type": "code",
   "execution_count": 20,
   "id": "50c0b644-bdb0-41cf-88e1-132915475eae",
   "metadata": {},
   "outputs": [
    {
     "data": {
      "text/plain": [
       "['Nitesh', 'is', 'Working Profession']"
      ]
     },
     "execution_count": 20,
     "metadata": {},
     "output_type": "execute_result"
    }
   ],
   "source": [
    "lst1"
   ]
  },
  {
   "cell_type": "code",
   "execution_count": 25,
   "id": "3b8a099f-ca1a-49c5-87ab-5a26d6b99629",
   "metadata": {},
   "outputs": [
    {
     "data": {
      "text/plain": [
       "['Working Profession', 'is', 'Nitesh']"
      ]
     },
     "execution_count": 25,
     "metadata": {},
     "output_type": "execute_result"
    }
   ],
   "source": [
    "lst1[::-1]"
   ]
  },
  {
   "cell_type": "code",
   "execution_count": 26,
   "id": "641fcdf2-5ea2-462a-8d4a-6f21354544f6",
   "metadata": {},
   "outputs": [
    {
     "data": {
      "text/plain": [
       "['Nitesh', 'is', 'Working Profession']"
      ]
     },
     "execution_count": 26,
     "metadata": {},
     "output_type": "execute_result"
    }
   ],
   "source": [
    "lst1"
   ]
  },
  {
   "cell_type": "code",
   "execution_count": 31,
   "id": "8ff4ddcb-2cd6-44f4-8124-5a91c9fbf2b4",
   "metadata": {},
   "outputs": [
    {
     "data": {
      "text/plain": [
       "['Nitesh', 'is', 'Working Profession', 'employee', 'in company']"
      ]
     },
     "execution_count": 31,
     "metadata": {},
     "output_type": "execute_result"
    }
   ],
   "source": [
    "# concationation operation\n",
    "lst1+[\"employee\",\"in company\"]"
   ]
  },
  {
   "cell_type": "code",
   "execution_count": 37,
   "id": "e3b43f40-f120-4a2a-a268-c21766419290",
   "metadata": {},
   "outputs": [],
   "source": [
    "#multi nested list- means list under list\n",
    "lst2=lst1+[[\"employee\",\"in company\"]]"
   ]
  },
  {
   "cell_type": "code",
   "execution_count": 38,
   "id": "a5101fef-73ef-4191-95f3-2ca26ae7ae76",
   "metadata": {},
   "outputs": [
    {
     "data": {
      "text/plain": [
       "['Nitesh', 'is', 'Working Profession', ['employee', 'in company']]"
      ]
     },
     "execution_count": 38,
     "metadata": {},
     "output_type": "execute_result"
    }
   ],
   "source": [
    "lst2"
   ]
  },
  {
   "cell_type": "code",
   "execution_count": 48,
   "id": "fa1b2f31-40b5-4ddc-a966-5bb2c7f95916",
   "metadata": {},
   "outputs": [
    {
     "name": "stdout",
     "output_type": "stream",
     "text": [
      "employee\n"
     ]
    }
   ],
   "source": [
    "for i in range(len(lst2)):\n",
    "    if i==0:\n",
    "        print(lst2[3][0])"
   ]
  },
  {
   "cell_type": "code",
   "execution_count": 53,
   "id": "43a8651c-2e8f-4f13-b994-c0e3b9790b03",
   "metadata": {},
   "outputs": [
    {
     "data": {
      "text/plain": [
       "'employee'"
      ]
     },
     "execution_count": 53,
     "metadata": {},
     "output_type": "execute_result"
    }
   ],
   "source": [
    "lst2[-1][0]"
   ]
  },
  {
   "cell_type": "code",
   "execution_count": 60,
   "id": "a8dec79e-a805-4437-a153-feb300524260",
   "metadata": {},
   "outputs": [
    {
     "data": {
      "text/plain": [
       "['Nitesh',\n",
       " 'are',\n",
       " 'Working Profession',\n",
       " ['employee', 'in company'],\n",
       " 'Nitesh',\n",
       " 'are',\n",
       " 'Working Profession',\n",
       " ['employee', 'in company']]"
      ]
     },
     "execution_count": 60,
     "metadata": {},
     "output_type": "execute_result"
    }
   ],
   "source": [
    "lst2*2"
   ]
  },
  {
   "cell_type": "code",
   "execution_count": 61,
   "id": "9ce2e4aa-83d9-4547-8033-d1d190847231",
   "metadata": {},
   "outputs": [
    {
     "data": {
      "text/plain": [
       "['Nitesh', 'are', 'Working Profession', ['employee', 'in company']]"
      ]
     },
     "execution_count": 61,
     "metadata": {},
     "output_type": "execute_result"
    }
   ],
   "source": [
    "lst2"
   ]
  },
  {
   "cell_type": "code",
   "execution_count": 70,
   "id": "1e2ce98f-d0f3-4f38-a929-366075f8d1b9",
   "metadata": {},
   "outputs": [
    {
     "name": "stdout",
     "output_type": "stream",
     "text": [
      "yes are present\n"
     ]
    }
   ],
   "source": [
    "for i in range(len(lst2)):\n",
    "    if lst2[i]==\"are\":\n",
    "        i=i+1\n",
    "        print(\"yes 'are' present\")\n",
    "        break\n",
    "    "
   ]
  },
  {
   "cell_type": "code",
   "execution_count": 73,
   "id": "9e1f6041-11ee-4d6b-954d-b21be979cd3f",
   "metadata": {},
   "outputs": [
    {
     "name": "stdout",
     "output_type": "stream",
     "text": [
      "yes 'are' present\n"
     ]
    }
   ],
   "source": [
    "if \"are\" in lst2:\n",
    "    print(\"yes 'are' present\")"
   ]
  },
  {
   "cell_type": "code",
   "execution_count": 74,
   "id": "a6035291-d55e-43a0-aded-a258c0b3483f",
   "metadata": {},
   "outputs": [
    {
     "data": {
      "text/plain": [
       "True"
      ]
     },
     "execution_count": 74,
     "metadata": {},
     "output_type": "execute_result"
    }
   ],
   "source": [
    "## check element inside list\n",
    "lst1=[1,2,3,4]\n",
    "4 in lst1"
   ]
  },
  {
   "cell_type": "code",
   "execution_count": 75,
   "id": "91390d9c-f701-4d76-8885-afc67e207ad3",
   "metadata": {},
   "outputs": [
    {
     "data": {
      "text/plain": [
       "False"
      ]
     },
     "execution_count": 75,
     "metadata": {},
     "output_type": "execute_result"
    }
   ],
   "source": [
    "5 in lst1\n"
   ]
  },
  {
   "cell_type": "code",
   "execution_count": 78,
   "id": "43f48cfe-16b0-4636-a1da-b4b859cc6160",
   "metadata": {},
   "outputs": [],
   "source": [
    "lst2=[\"monkey\",\"lion\",\"elephant\", \"jackal\"]\n",
    "lst3=[1,2,5,9,3,6,9]"
   ]
  },
  {
   "cell_type": "code",
   "execution_count": 84,
   "id": "231638f1-3a77-4238-8855-a3b04de0a090",
   "metadata": {},
   "outputs": [
    {
     "name": "stdout",
     "output_type": "stream",
     "text": [
      "9\n",
      "1\n"
     ]
    },
    {
     "data": {
      "text/plain": [
       "9"
      ]
     },
     "execution_count": 84,
     "metadata": {},
     "output_type": "execute_result"
    }
   ],
   "source": [
    "print(max(lst3))\n",
    "print(min(lst3))\n",
    "max(lst3)"
   ]
  },
  {
   "cell_type": "code",
   "execution_count": 85,
   "id": "e9e2039c-eefb-40b4-a326-9c839d0e372d",
   "metadata": {},
   "outputs": [
    {
     "name": "stdout",
     "output_type": "stream",
     "text": [
      "elephant\n",
      "monkey\n"
     ]
    },
    {
     "data": {
      "text/plain": [
       "'elephant'"
      ]
     },
     "execution_count": 85,
     "metadata": {},
     "output_type": "execute_result"
    }
   ],
   "source": [
    "print(min(lst2))\n",
    "print(max(lst2))\n",
    "min(lst2)"
   ]
  },
  {
   "cell_type": "code",
   "execution_count": 105,
   "id": "42ff38bf-8976-48c5-bec8-cf33f8713f21",
   "metadata": {},
   "outputs": [],
   "source": [
    "lst2=[\"monkey\",\"lion\",\"elephant\", \"jackal\"]"
   ]
  },
  {
   "cell_type": "code",
   "execution_count": 106,
   "id": "351f88fd-32de-4ffd-a038-07dff45fd2da",
   "metadata": {},
   "outputs": [
    {
     "data": {
      "text/plain": [
       "['monkey', 'lion', 'elephant', 'jackal']"
      ]
     },
     "execution_count": 106,
     "metadata": {},
     "output_type": "execute_result"
    }
   ],
   "source": [
    "lst2"
   ]
  },
  {
   "cell_type": "code",
   "execution_count": null,
   "id": "2bd4671e-1cb7-492f-9490-baec3d2873ed",
   "metadata": {},
   "outputs": [],
   "source": [
    "## Append function"
   ]
  },
  {
   "cell_type": "code",
   "execution_count": 107,
   "id": "a9858cce-65f2-468c-beb2-d77c3e2c9ba9",
   "metadata": {},
   "outputs": [],
   "source": [
    "lst2.append(\"goat\")"
   ]
  },
  {
   "cell_type": "code",
   "execution_count": 108,
   "id": "eca1e606-13c6-412d-8de3-9f2c0cfcb586",
   "metadata": {},
   "outputs": [
    {
     "data": {
      "text/plain": [
       "['monkey', 'lion', 'elephant', 'jackal', 'goat']"
      ]
     },
     "execution_count": 108,
     "metadata": {},
     "output_type": "execute_result"
    }
   ],
   "source": [
    "lst2"
   ]
  },
  {
   "cell_type": "code",
   "execution_count": null,
   "id": "91e13aac-3ab5-458d-9148-a02c5cd97393",
   "metadata": {},
   "outputs": [],
   "source": [
    "## pop function"
   ]
  },
  {
   "cell_type": "code",
   "execution_count": 109,
   "id": "c9d2223c-0b87-4767-88da-a7d8ad18cbcb",
   "metadata": {},
   "outputs": [
    {
     "data": {
      "text/plain": [
       "'goat'"
      ]
     },
     "execution_count": 109,
     "metadata": {},
     "output_type": "execute_result"
    }
   ],
   "source": [
    "lst2.pop()"
   ]
  },
  {
   "cell_type": "code",
   "execution_count": 110,
   "id": "58abc218-86e7-414b-a594-416802b724ca",
   "metadata": {},
   "outputs": [
    {
     "data": {
      "text/plain": [
       "['monkey', 'lion', 'elephant', 'jackal']"
      ]
     },
     "execution_count": 110,
     "metadata": {},
     "output_type": "execute_result"
    }
   ],
   "source": [
    "lst2"
   ]
  },
  {
   "cell_type": "code",
   "execution_count": 111,
   "id": "c2f6d1f8-af02-499e-8615-9ea4e6352a02",
   "metadata": {},
   "outputs": [
    {
     "data": {
      "text/plain": [
       "'elephant'"
      ]
     },
     "execution_count": 111,
     "metadata": {},
     "output_type": "execute_result"
    }
   ],
   "source": [
    "## remove funcion\n",
    "lst2.pop(2)"
   ]
  },
  {
   "cell_type": "code",
   "execution_count": 124,
   "id": "1d707937-54cb-46a6-b46f-59bb7a6f46b2",
   "metadata": {},
   "outputs": [],
   "source": [
    "lst1=[\"monkey\",\"lion\",\"elephant\", \"jackal\",\"dog\"]"
   ]
  },
  {
   "cell_type": "code",
   "execution_count": 125,
   "id": "5bcccc34-7806-473a-9d7d-2e98ff38a67c",
   "metadata": {},
   "outputs": [
    {
     "data": {
      "text/plain": [
       "['monkey', 'lion', 'elephant', 'jackal', 'dog']"
      ]
     },
     "execution_count": 125,
     "metadata": {},
     "output_type": "execute_result"
    }
   ],
   "source": [
    "lst1"
   ]
  },
  {
   "cell_type": "code",
   "execution_count": 126,
   "id": "c5ddd01a-bd5b-4887-ab9d-61a295127199",
   "metadata": {},
   "outputs": [],
   "source": [
    "## sorting and reverse method of list"
   ]
  },
  {
   "cell_type": "code",
   "execution_count": 148,
   "id": "d7b7c1a0-c4b5-48e4-8b73-25f06c475197",
   "metadata": {},
   "outputs": [],
   "source": [
    "new_lst=[\"q\",\"r\",\"y\",\"u\",\"t\"]"
   ]
  },
  {
   "cell_type": "code",
   "execution_count": 149,
   "id": "874528f4-53d3-4a4e-abf8-1c86e7945689",
   "metadata": {},
   "outputs": [
    {
     "data": {
      "text/plain": [
       "['q', 'r', 'y', 'u', 't']"
      ]
     },
     "execution_count": 149,
     "metadata": {},
     "output_type": "execute_result"
    }
   ],
   "source": [
    "new_lst"
   ]
  },
  {
   "cell_type": "code",
   "execution_count": 150,
   "id": "d706fe8a-96fd-442c-8fda-d28284ef7b8f",
   "metadata": {},
   "outputs": [
    {
     "data": {
      "text/plain": [
       "['t', 'u', 'y', 'r', 'q']"
      ]
     },
     "execution_count": 150,
     "metadata": {},
     "output_type": "execute_result"
    }
   ],
   "source": [
    "new_lst[::-1]"
   ]
  },
  {
   "cell_type": "code",
   "execution_count": 153,
   "id": "d2499ff6-ce32-43e6-a1e0-bfc08e147821",
   "metadata": {},
   "outputs": [
    {
     "data": {
      "text/plain": [
       "['t', 'u', 'y', 'r', 'q']"
      ]
     },
     "execution_count": 153,
     "metadata": {},
     "output_type": "execute_result"
    }
   ],
   "source": [
    "new_lst"
   ]
  },
  {
   "cell_type": "code",
   "execution_count": 154,
   "id": "0a64ad3a-edd6-428e-8e34-481074c44f8b",
   "metadata": {},
   "outputs": [],
   "source": [
    "# inplace operation\n",
    "new_lst.reverse()"
   ]
  },
  {
   "cell_type": "code",
   "execution_count": 155,
   "id": "fda0417a-4c20-4c04-9460-60fbb8ade599",
   "metadata": {},
   "outputs": [
    {
     "data": {
      "text/plain": [
       "['q', 'r', 'y', 'u', 't']"
      ]
     },
     "execution_count": 155,
     "metadata": {},
     "output_type": "execute_result"
    }
   ],
   "source": [
    "new_lst"
   ]
  },
  {
   "cell_type": "code",
   "execution_count": 156,
   "id": "b45bacc5-9e27-4fbc-bb56-3ac422a3e69d",
   "metadata": {},
   "outputs": [
    {
     "data": {
      "text/plain": [
       "['t', 'u', 'y', 'r', 'q']"
      ]
     },
     "execution_count": 156,
     "metadata": {},
     "output_type": "execute_result"
    }
   ],
   "source": [
    "new_lst[::-1]"
   ]
  },
  {
   "cell_type": "code",
   "execution_count": 159,
   "id": "ec54b1d3-ecb3-4231-b405-ce826cf69695",
   "metadata": {},
   "outputs": [
    {
     "data": {
      "text/plain": [
       "['q', 'r', 't', 'u', 'y']"
      ]
     },
     "execution_count": 159,
     "metadata": {},
     "output_type": "execute_result"
    }
   ],
   "source": [
    "new_lst.sort()\n",
    "new_lst"
   ]
  },
  {
   "cell_type": "code",
   "execution_count": 199,
   "id": "4ff1cf0c-b9cf-47ca-8298-b26e1fc2be1d",
   "metadata": {},
   "outputs": [],
   "source": [
    "new_lst.sort(reverse=True)"
   ]
  },
  {
   "cell_type": "code",
   "execution_count": 200,
   "id": "870ca0b3-50ac-4113-ae83-856ba505bb87",
   "metadata": {},
   "outputs": [
    {
     "data": {
      "text/plain": [
       "['y', 'u', 't', 'r', 'q']"
      ]
     },
     "execution_count": 200,
     "metadata": {},
     "output_type": "execute_result"
    }
   ],
   "source": [
    "new_lst"
   ]
  },
  {
   "cell_type": "code",
   "execution_count": 191,
   "id": "f4ed3ce7-cbb4-452e-b5de-4581d6675484",
   "metadata": {},
   "outputs": [],
   "source": [
    "lst=[1,2,3,7,8]"
   ]
  },
  {
   "cell_type": "code",
   "execution_count": 189,
   "id": "e728286b-5a8d-445a-985c-7bc7ae50ea15",
   "metadata": {},
   "outputs": [],
   "source": [
    "lst.append([\"nitesh\",\"kumar\"])"
   ]
  },
  {
   "cell_type": "code",
   "execution_count": 190,
   "id": "6fa011ef-4e03-462f-8b27-2ca606a1e46b",
   "metadata": {},
   "outputs": [
    {
     "data": {
      "text/plain": [
       "[1, 2, 3, 7, 8, ['nitesh', 'kumar']]"
      ]
     },
     "execution_count": 190,
     "metadata": {},
     "output_type": "execute_result"
    }
   ],
   "source": [
    "lst"
   ]
  },
  {
   "cell_type": "code",
   "execution_count": 192,
   "id": "232432f2-8a58-48fc-9f68-51156ad3db8e",
   "metadata": {},
   "outputs": [],
   "source": [
    "lst.extend([\"nitesh\",\"kumar\"])"
   ]
  },
  {
   "cell_type": "code",
   "execution_count": 193,
   "id": "7ef5cba8-8239-47e5-8cc8-faf9ce91731b",
   "metadata": {},
   "outputs": [
    {
     "data": {
      "text/plain": [
       "[1, 2, 3, 7, 8, 'nitesh', 'kumar']"
      ]
     },
     "execution_count": 193,
     "metadata": {},
     "output_type": "execute_result"
    }
   ],
   "source": [
    "lst"
   ]
  },
  {
   "cell_type": "markdown",
   "id": "f71901ef-3426-4659-9a42-a0b66f4e204b",
   "metadata": {},
   "source": [
    "## Nested list"
   ]
  },
  {
   "cell_type": "code",
   "execution_count": 201,
   "id": "032b8e3f-6770-4703-934d-91c0f7a509b4",
   "metadata": {},
   "outputs": [],
   "source": [
    "lst1=[1,2,3]\n",
    "lst2=[4,5,6]\n",
    "lst3=[7,8,9]\n",
    "\n",
    "matrix=[lst1,lst2,lst3]"
   ]
  },
  {
   "cell_type": "code",
   "execution_count": 202,
   "id": "d06c6b03-9cf6-4a49-82ce-7bd11cffe12b",
   "metadata": {},
   "outputs": [
    {
     "data": {
      "text/plain": [
       "[[1, 2, 3], [4, 5, 6], [7, 8, 9]]"
      ]
     },
     "execution_count": 202,
     "metadata": {},
     "output_type": "execute_result"
    }
   ],
   "source": [
    "matrix"
   ]
  },
  {
   "cell_type": "code",
   "execution_count": 212,
   "id": "67b1b168-45e9-4b07-ad12-7af63365a543",
   "metadata": {},
   "outputs": [
    {
     "data": {
      "text/plain": [
       "[8, 9]"
      ]
     },
     "execution_count": 212,
     "metadata": {},
     "output_type": "execute_result"
    }
   ],
   "source": [
    "matrix[2][1:]"
   ]
  },
  {
   "cell_type": "code",
   "execution_count": 227,
   "id": "376f844d-75ec-4a25-98d8-3085445166e3",
   "metadata": {},
   "outputs": [
    {
     "data": {
      "text/plain": [
       "(1, 4, 7)"
      ]
     },
     "execution_count": 227,
     "metadata": {},
     "output_type": "execute_result"
    }
   ],
   "source": [
    "matrix[0][0],matrix[1][0],matrix[2][0]"
   ]
  },
  {
   "cell_type": "code",
   "execution_count": 234,
   "id": "96fe5b4a-ec24-4578-8c14-201cf7cd4948",
   "metadata": {},
   "outputs": [
    {
     "data": {
      "text/plain": [
       "[0, 1, 2, 3, 4, 5, 6, 7, 8, 9, 10, 11, 12, 13, 14, 15, 16, 17, 18, 19]"
      ]
     },
     "execution_count": 234,
     "metadata": {},
     "output_type": "execute_result"
    }
   ],
   "source": [
    "# list comprehension\n",
    "[i for i in range(20)]"
   ]
  },
  {
   "cell_type": "code",
   "execution_count": 284,
   "id": "4eeea6c5-0898-472b-9bb3-01fa8b71a85e",
   "metadata": {},
   "outputs": [
    {
     "data": {
      "text/plain": [
       "[0, '', 2, '', 4, '', 6, '', 8, '', 10, '', 12, '', 14, '', 16, '', 18, '']"
      ]
     },
     "execution_count": 284,
     "metadata": {},
     "output_type": "execute_result"
    }
   ],
   "source": [
    "#I want to get all even no.\n",
    "[i if i%2==0 else \"\"for i in range(20)]\n"
   ]
  },
  {
   "cell_type": "code",
   "execution_count": 285,
   "id": "d17204ea-5df6-4054-a4a7-033776beafa0",
   "metadata": {},
   "outputs": [
    {
     "data": {
      "text/plain": [
       "[0,\n",
       " 'ODD',\n",
       " 2,\n",
       " 'ODD',\n",
       " 4,\n",
       " 'ODD',\n",
       " 6,\n",
       " 'ODD',\n",
       " 8,\n",
       " 'ODD',\n",
       " 10,\n",
       " 'ODD',\n",
       " 12,\n",
       " 'ODD',\n",
       " 14,\n",
       " 'ODD',\n",
       " 16,\n",
       " 'ODD',\n",
       " 18,\n",
       " 'ODD']"
      ]
     },
     "execution_count": 285,
     "metadata": {},
     "output_type": "execute_result"
    }
   ],
   "source": [
    "[i if i%2==0 else \"ODD\"for i in range(20)]"
   ]
  },
  {
   "cell_type": "code",
   "execution_count": 341,
   "id": "a0f3e4d6-581f-4315-ae25-23b3a424e535",
   "metadata": {},
   "outputs": [],
   "source": [
    "#Assignment\n",
    "#sum of even no. and sum of aodd no.\n",
    "\n",
    "lst1=[1,2,3,4,5,6,7,8,9]       "
   ]
  },
  {
   "cell_type": "code",
   "execution_count": 342,
   "id": "23a33b03-4731-47d0-8a7e-c476c3d2c363",
   "metadata": {},
   "outputs": [
    {
     "data": {
      "text/plain": [
       "[2, 4, 6, 8]"
      ]
     },
     "execution_count": 342,
     "metadata": {},
     "output_type": "execute_result"
    }
   ],
   "source": [
    "[i for i in lst1 if i%2==0]"
   ]
  },
  {
   "cell_type": "code",
   "execution_count": 346,
   "id": "353d353e-2296-431c-8813-0be88f2ac304",
   "metadata": {},
   "outputs": [
    {
     "name": "stdout",
     "output_type": "stream",
     "text": [
      "Even sum is 20\n"
     ]
    }
   ],
   "source": [
    "lst2=sum([i for i in lst1 if i%2==0])\n",
    "print(\"Even sum is\", lst2)"
   ]
  },
  {
   "cell_type": "code",
   "execution_count": 348,
   "id": "8fe99bcb-8c7c-43e2-ac5c-bdb902381989",
   "metadata": {},
   "outputs": [
    {
     "name": "stdout",
     "output_type": "stream",
     "text": [
      "Odd sum is 25\n"
     ]
    }
   ],
   "source": [
    "lst2=sum([i for i in lst1 if i%2!=0])\n",
    "print(\"Odd sum is\", lst2)"
   ]
  },
  {
   "cell_type": "code",
   "execution_count": 349,
   "id": "014a0e0e-8952-4234-bd92-c5addb88e809",
   "metadata": {},
   "outputs": [
    {
     "data": {
      "text/plain": [
       "[1, 2, 3, 4, 5, 6, 7, 8, 9]"
      ]
     },
     "execution_count": 349,
     "metadata": {},
     "output_type": "execute_result"
    }
   ],
   "source": [
    "lst1"
   ]
  },
  {
   "cell_type": "code",
   "execution_count": 353,
   "id": "14b5ec46-9256-4511-9e58-3c6c6cd23745",
   "metadata": {},
   "outputs": [
    {
     "data": {
      "text/plain": [
       "[1, 4, 9, 16, 25, 36, 49, 64, 81]"
      ]
     },
     "execution_count": 353,
     "metadata": {},
     "output_type": "execute_result"
    }
   ],
   "source": [
    "#square of all elements in list\n",
    "[i**2 for i in lst1]"
   ]
  },
  {
   "cell_type": "code",
   "execution_count": 1,
   "id": "b542c70c-3313-405c-865e-e8de15017a2f",
   "metadata": {},
   "outputs": [],
   "source": [
    "lst1=[-1,3,-4,5,-6,-7,8]"
   ]
  },
  {
   "cell_type": "code",
   "execution_count": 2,
   "id": "81d2053f-3b6a-44a9-a3e2-0b3f7f173bed",
   "metadata": {},
   "outputs": [
    {
     "data": {
      "text/plain": [
       "[-1, 3, -4, 5, -6, -7, 8]"
      ]
     },
     "execution_count": 2,
     "metadata": {},
     "output_type": "execute_result"
    }
   ],
   "source": [
    "lst1"
   ]
  },
  {
   "cell_type": "code",
   "execution_count": 8,
   "id": "6f44a023-04ab-4473-96be-786da261c1ff",
   "metadata": {},
   "outputs": [
    {
     "data": {
      "text/plain": [
       "[3, 5, 8]"
      ]
     },
     "execution_count": 8,
     "metadata": {},
     "output_type": "execute_result"
    }
   ],
   "source": [
    "# create a list of only positive number\n",
    "[i for i in lst1 if i>0]"
   ]
  },
  {
   "cell_type": "code",
   "execution_count": 9,
   "id": "2e958735-5dca-45b9-9e8f-3a4fc9492bf3",
   "metadata": {},
   "outputs": [
    {
     "data": {
      "text/plain": [
       "[-1, -4, -6, -7]"
      ]
     },
     "execution_count": 9,
     "metadata": {},
     "output_type": "execute_result"
    }
   ],
   "source": [
    "# create a list of only negative number\n",
    "[i for i in lst1 if i<0]"
   ]
  },
  {
   "cell_type": "code",
   "execution_count": 10,
   "id": "e561bf65-f1e9-44cb-aef6-a2fff52161bc",
   "metadata": {},
   "outputs": [],
   "source": [
    "word=[\"mango\",\"orange\",\"apple\",\"banana\"]"
   ]
  },
  {
   "cell_type": "code",
   "execution_count": 11,
   "id": "f62f4ac6-f682-4173-8285-ebc94ab268f4",
   "metadata": {},
   "outputs": [
    {
     "data": {
      "text/plain": [
       "['mango', 'orange', 'apple', 'banana']"
      ]
     },
     "execution_count": 11,
     "metadata": {},
     "output_type": "execute_result"
    }
   ],
   "source": [
    "word"
   ]
  },
  {
   "cell_type": "code",
   "execution_count": 20,
   "id": "3d858a90-0e29-4f75-b6ab-c88e451cab56",
   "metadata": {},
   "outputs": [
    {
     "data": {
      "text/plain": [
       "['a', 'r', 'p', 'a']"
      ]
     },
     "execution_count": 20,
     "metadata": {},
     "output_type": "execute_result"
    }
   ],
   "source": [
    "# create a list of only second letter of the word\n",
    "[i[1] for i in word]"
   ]
  },
  {
   "cell_type": "code",
   "execution_count": null,
   "id": "f6a667f3-f7dd-4cad-95c9-eb2dcd1f3cb8",
   "metadata": {},
   "outputs": [],
   "source": [
    "# celsius into farenhite temperature conversion\n",
    "# farenhite= (9/5)*temp+32"
   ]
  },
  {
   "cell_type": "code",
   "execution_count": 21,
   "id": "5ad6a917-16b1-4c33-84ed-139bbd22ccc4",
   "metadata": {},
   "outputs": [],
   "source": [
    "celsius_temp=[10,20,30,40,50]"
   ]
  },
  {
   "cell_type": "code",
   "execution_count": 22,
   "id": "acbe2433-a0ce-4e03-bfd2-77353f17b04a",
   "metadata": {},
   "outputs": [
    {
     "data": {
      "text/plain": [
       "[10, 20, 30, 40, 50]"
      ]
     },
     "execution_count": 22,
     "metadata": {},
     "output_type": "execute_result"
    }
   ],
   "source": [
    "celsius_temp"
   ]
  },
  {
   "cell_type": "code",
   "execution_count": 23,
   "id": "b29599f0-49da-490b-a89f-9953d6e612c5",
   "metadata": {},
   "outputs": [
    {
     "data": {
      "text/plain": [
       "[50.0, 68.0, 86.0, 104.0, 122.0]"
      ]
     },
     "execution_count": 23,
     "metadata": {},
     "output_type": "execute_result"
    }
   ],
   "source": [
    "[(9/5)*i+32 for i in celsius_temp]"
   ]
  },
  {
   "cell_type": "code",
   "execution_count": 64,
   "id": "8c0805dc-fd83-4be0-904e-e924c996874c",
   "metadata": {},
   "outputs": [],
   "source": [
    "# flatten a list of list in single list\n",
    "lists = [[1,2,3],[4,5,6],[7,8,9]]"
   ]
  },
  {
   "cell_type": "code",
   "execution_count": 65,
   "id": "c7d5e9aa-332c-4856-9427-dcf98859b71c",
   "metadata": {},
   "outputs": [
    {
     "data": {
      "text/plain": [
       "[[1, 2, 3], [4, 5, 6], [7, 8, 9]]"
      ]
     },
     "execution_count": 65,
     "metadata": {},
     "output_type": "execute_result"
    }
   ],
   "source": [
    "lists"
   ]
  },
  {
   "cell_type": "code",
   "execution_count": 71,
   "id": "4a98b062-7624-4e1f-b98c-d4d6b6d69de8",
   "metadata": {},
   "outputs": [
    {
     "data": {
      "text/plain": [
       "[1, 2, 3, 4, 5, 6, 7, 8, 9]"
      ]
     },
     "execution_count": 71,
     "metadata": {},
     "output_type": "execute_result"
    }
   ],
   "source": [
    "[ j for final_list in lists for j in final_list]"
   ]
  },
  {
   "cell_type": "markdown",
   "id": "bb7a2b79-7b6e-4d6c-bf57-63fdd976e49a",
   "metadata": {},
   "source": [
    "# Assignment 1\n",
    "\n"
   ]
  },
  {
   "cell_type": "code",
   "execution_count": 72,
   "id": "dad92e3c-acee-4071-b2ba-a28edc6dd0aa",
   "metadata": {},
   "outputs": [],
   "source": [
    "# Using both code and list comprehension\n",
    "# Question1-create a list of only prime number from  the given list\n",
    "numbers= [1,2,3,4,5,6,7,8,9,10]"
   ]
  },
  {
   "cell_type": "code",
   "execution_count": null,
   "id": "099ef15b-b222-4f6d-a665-d08276f45bdb",
   "metadata": {},
   "outputs": [],
   "source": [
    "#Question2- create the list of  all the possible combination of two element from the list\n",
    "numbers=[1,2,3,4,5]"
   ]
  }
 ],
 "metadata": {
  "kernelspec": {
   "display_name": "Python 3 (ipykernel)",
   "language": "python",
   "name": "python3"
  },
  "language_info": {
   "codemirror_mode": {
    "name": "ipython",
    "version": 3
   },
   "file_extension": ".py",
   "mimetype": "text/x-python",
   "name": "python",
   "nbconvert_exporter": "python",
   "pygments_lexer": "ipython3",
   "version": "3.10.8"
  }
 },
 "nbformat": 4,
 "nbformat_minor": 5
}
