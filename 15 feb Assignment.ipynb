{
 "cells": [
  {
   "cell_type": "markdown",
   "id": "3834181b-e3bd-4691-aa76-07fc8b0c89ce",
   "metadata": {},
   "source": [
    "# Assignment 15 Feb 2023"
   ]
  },
  {
   "cell_type": "markdown",
   "id": "02f9bb5f-6d17-480f-8f53-82170697af33",
   "metadata": {},
   "source": [
    "### Date- 15.02.2023"
   ]
  },
  {
   "cell_type": "markdown",
   "id": "832037f0-f0bd-4c03-b72f-6a9704ae07e1",
   "metadata": {},
   "source": [
    "## Q1. What is multiprocessing in python? Why is it useful?\n"
   ]
  },
  {
   "cell_type": "markdown",
   "id": "b32b622a-db50-40bb-b958-3a3bdd35cabb",
   "metadata": {},
   "source": [
    "## Answer"
   ]
  },
  {
   "cell_type": "markdown",
   "id": "a530a799-fbe9-42b1-8f70-f442fd7d9f6a",
   "metadata": {},
   "source": [
    "#### Multiprocessing:-"
   ]
  },
  {
   "cell_type": "markdown",
   "id": "2af4a40f-3996-448f-81ba-278f46e73a6c",
   "metadata": {},
   "source": [
    "Multiprocessing in Python is a built-in package that allows the system to run multiple processes simultaneously. It will enable the breaking of applications into smaller threads that can run independently. \n",
    "The operating system can then allocate all these threads or processes to the processor to run them parallelly, thus improving the overall performance and efficiency."
   ]
  },
  {
   "cell_type": "markdown",
   "id": "c9a27c42-a5d0-4a5f-9299-f9cd83c2b5c4",
   "metadata": {},
   "source": [
    "### Reason for use Multiprocessing"
   ]
  },
  {
   "cell_type": "markdown",
   "id": "81c6341d-1ff6-41f2-9b4d-88136fb575de",
   "metadata": {},
   "source": [
    "Performing multiple operations for a single processor becomes challenging. As the number of processes keeps increasing, the processor will have to halt the current process and move to the next, to keep them going. Thus, it will have to interrupt each task, thereby hampering the performance.\n",
    "A multiprocessing system can be represented as:\n",
    "\n",
    "1. A system with more than a single central processor\n",
    "2. A multi-core processor, i.e., a single computing unit with multiple independent core processing units\n",
    "3. In multiprocessing, the system can divide and assign tasks to different processors.\n"
   ]
  },
  {
   "cell_type": "code",
   "execution_count": null,
   "id": "d8bdd503-2d14-4a41-aa79-57d3529f7be4",
   "metadata": {},
   "outputs": [],
   "source": []
  },
  {
   "cell_type": "markdown",
   "id": "27c80875-b4ef-492a-b64f-aef8e1236346",
   "metadata": {},
   "source": [
    "## Q2. What are the differences between multiprocessing and multithreading?\n",
    "\n",
    "\n"
   ]
  },
  {
   "cell_type": "markdown",
   "id": "4a149204-0292-46a1-95f0-bdcd42f8822b",
   "metadata": {},
   "source": [
    "### Answer"
   ]
  },
  {
   "cell_type": "markdown",
   "id": "03723ce0-edd0-4bab-a001-8bdc8ea4a0c5",
   "metadata": {},
   "source": [
    "1. Multiprocessing uses two or more CPUs to increase computing power, whereas multithreading uses a single process with multiple code segments to increase computing power.\n",
    "\n",
    "2. Multithreading focuses on generating computing threads from a single process, whereas multiprocessing increases computing power by adding CPUs.\n",
    "\n",
    "3. Multiprocessing is used to create a more reliable system, whereas multithreading is used to create threads that run parallel to each other.\n",
    "\n",
    "4. Multithreading is quick to create and requires few resources, whereas multiprocessing requires a significant amount of time and specific resources to create.\n",
    "\n",
    "5. Multiprocessing executes many processes simultaneously, whereas multithreading executes many threads simultaneously.\n",
    "\n",
    "6. Multithreading uses a common address space for all the threads, whereas multiprocessing creates a separate address space for each process."
   ]
  },
  {
   "cell_type": "markdown",
   "id": "3e63f3a3-37ba-4280-b326-dc0d2b4b02d9",
   "metadata": {},
   "source": [
    "#### Benefits of multithreading"
   ]
  },
  {
   "cell_type": "markdown",
   "id": "4a7267bb-f664-4736-8f26-ea88823b2e10",
   "metadata": {},
   "source": [
    "\n",
    "Here are some of the key benefits of multithreading:\n",
    "\n",
    "1. It requires less memory storage.\n",
    "\n",
    "2. Accessing memory is easier since threads share the same parent process.\n",
    "\n",
    "3. Switching between threads is fast and efficient.\n",
    "\n",
    "4. It's faster to generate new threads within an existing process than to create an entirely new process.\n",
    "\n",
    "5. All threads share one process memory pool and the same address space.\n",
    "\n",
    "6. Threads are more lightweight and have lower overhead.\n",
    "\n",
    "7. The cost of communication between threads is relatively low.\n",
    "\n",
    "8. Creating responsive user interfaces (UIs) is easy.\n",
    "\n"
   ]
  },
  {
   "cell_type": "markdown",
   "id": "c04c639c-279a-473d-97c6-af2274ea8557",
   "metadata": {},
   "source": [
    "#### Drawbacks of multithreading"
   ]
  },
  {
   "cell_type": "markdown",
   "id": "1edf346f-8103-4d6b-8e40-cb234a6fddbe",
   "metadata": {},
   "source": [
    "\n",
    "Here are some potential drawbacks associated with multithreading:\n",
    "\n",
    "1. A multithreading system cannot be interrupted.\n",
    "\n",
    "2. The code can be more challenging to understand.\n",
    "\n",
    "3. The overhead associated with managing different threads may be too costly for basic tasks.\n",
    "\n",
    "4. Debugging and troubleshooting issues may become more challenging because the code can be complex.\n",
    "\n"
   ]
  },
  {
   "cell_type": "markdown",
   "id": "f5cc2b2e-5ad1-47f2-a812-7f2d90760f14",
   "metadata": {},
   "source": [
    "#### Benefits of multiprocessing"
   ]
  },
  {
   "cell_type": "markdown",
   "id": "35dcc0f3-f4c2-44b4-98c2-df3bc8727023",
   "metadata": {},
   "source": [
    "\n",
    "Here are some of the benefits of multiprocessing:\n",
    "\n",
    "1. It uses simple coding that's easy to understand.\n",
    "\n",
    "2. It helps you overcome global interpreter lock (GIL) limitations in CPython.\n",
    "\n",
    "3. Child processes can be interrupted.\n",
    "\n",
    "4. It completes tasks faster and analyzes large amounts of data.\n",
    "\n",
    "5. It uses multiple CPUs to improve a system's overall power.\n",
    "\n",
    "6. It removes synchronization primitives.\n",
    "\n",
    "7. It's more cost-effective than single processor systems.\n",
    "\n"
   ]
  },
  {
   "cell_type": "markdown",
   "id": "9bc744f8-f90f-44ed-9d4b-da9135a520f9",
   "metadata": {},
   "source": [
    "#### Drawbacks of multiprocessing"
   ]
  },
  {
   "cell_type": "markdown",
   "id": "fcd3e3ec-6dfe-41c4-9058-21a1ad95e384",
   "metadata": {},
   "source": [
    "Here are some potential drawbacks associated with multiprocessing:\n",
    "\n",
    "1. It requires more memory storage and overhead than threads to move data between processes.\n",
    "\n",
    "2. Spawning processes take longer than spawning threads.\n",
    "\n",
    "3. An inter-process communication (IPC) model must be implemented to share objects between processes.\n",
    "\n",
    "4. The entire memory is copied into each subprocess, which can also create more overhead."
   ]
  },
  {
   "cell_type": "markdown",
   "id": "a9fd8f1b-c442-431d-a8e4-8cb20e18cd4f",
   "metadata": {},
   "source": [
    "## Q3. Write a python code to create a process using the multiprocessing module.\n",
    "\n"
   ]
  },
  {
   "cell_type": "markdown",
   "id": "a059609a-47b1-49c9-8ef3-03e654df0fb7",
   "metadata": {},
   "source": [
    "### Answer:-"
   ]
  },
  {
   "cell_type": "code",
   "execution_count": 13,
   "id": "67c59789-5e29-47cc-ae53-b413486774aa",
   "metadata": {},
   "outputs": [
    {
     "name": "stdout",
     "output_type": "stream",
     "text": [
      "cube of number is : 512\n",
      "square of the number is: 64\n",
      "process has been done now !\n"
     ]
    }
   ],
   "source": [
    "# importing the multiprocessing module\n",
    "import multiprocessing\n",
    "import time\n",
    "\n",
    "def print_cube(num):\n",
    "    print(f\"cube of number is : {num**3}\")\n",
    "    \n",
    "def print_square(num):\n",
    "    time.sleep(2) # after cube process complete time halt for 2 second and theafter squre func start\n",
    "    print(f\"square of the number is: {num**2}\")\n",
    "\n",
    "if __name__==\"__main__\":\n",
    "    \n",
    "    p1=multiprocessing.Process(target=print_cube,args=(8, ))\n",
    "    p2=multiprocessing.Process(target=print_square, args=(8,))\n",
    "    \n",
    "    # starting process 1\n",
    "    p1.start()\n",
    "    # starting process 2\n",
    "    p2.start()\n",
    "    \n",
    "    # wait untill process 1 is finished\n",
    "    p1.join()\n",
    "    \n",
    "    # wait untill process 2 is finished\n",
    "    p2.join()\n",
    "    print(\"process has been done now !\")"
   ]
  },
  {
   "cell_type": "code",
   "execution_count": null,
   "id": "15f34866-e9a7-4d93-a38a-52f1ccfb9f73",
   "metadata": {},
   "outputs": [],
   "source": []
  },
  {
   "cell_type": "markdown",
   "id": "a5f59fe2-6521-43ee-88a5-cf3980cba491",
   "metadata": {},
   "source": [
    "## Q4. What is a multiprocessing pool in python? Why is it used?\n",
    "\n"
   ]
  },
  {
   "cell_type": "markdown",
   "id": "9da7ec3d-c798-468d-8e31-178ab15cad44",
   "metadata": {},
   "source": [
    "## Answer:-"
   ]
  },
  {
   "cell_type": "markdown",
   "id": "14393dbb-939c-4b1d-b8a1-221695786a6e",
   "metadata": {},
   "source": [
    "A process pool is a programming pattern for automatically managing a pool of worker processes.\n",
    "\n",
    "The pool is responsible for a fixed number of processes.\n",
    "\n",
    "1. It controls when they are created, such as when they are needed.\n",
    "2. It also controls what they should do when they are not being used, such as making them wait without consuming computational resources.\n",
    "\n",
    "The pool can provide a generic interface for executing ad hoc tasks with a variable number of arguments, much like the target property on the Process object, but does not require that we choose a process to run the task, start the process, or wait for the task to complete.\n",
    "\n",
    "Python provides a process pool via the multiprocessing.Pool class."
   ]
  },
  {
   "cell_type": "markdown",
   "id": "0757a42c-d298-4a67-a92b-352979d6830e",
   "metadata": {},
   "source": [
    "The multiprocessing.pool.Pool class provides a process pool in Python.\n",
    "\n",
    "The multiprocessing.pool.Pool class can also be accessed by the alias multiprocessing.Pool. They can be used interchangeably.\n",
    "\n",
    "It allows tasks to be submitted as functions to the process pool to be executed concurrently.\n",
    "\n",
    "A process pool object which controls a pool of worker processes to which jobs can be submitted. It supports asynchronous results with timeouts and callbacks and has a parallel map implementation."
   ]
  },
  {
   "cell_type": "code",
   "execution_count": null,
   "id": "e37aef65-cb5b-43e5-a4a6-c09b9afcd09c",
   "metadata": {},
   "outputs": [],
   "source": []
  },
  {
   "cell_type": "markdown",
   "id": "3cd00572-1b98-44be-be5a-ba7e25797325",
   "metadata": {},
   "source": [
    "## Q5. How can we create a pool of worker processes in python using the multiprocessing module?\n",
    "\n"
   ]
  },
  {
   "cell_type": "markdown",
   "id": "83d79359-5777-4129-9efe-39c74b0a94d5",
   "metadata": {},
   "source": [
    "## Answer:-"
   ]
  },
  {
   "cell_type": "markdown",
   "id": "b51f4823-18f3-40d8-825a-ba5b60089455",
   "metadata": {},
   "source": [
    "We can configure the number of worker processes in the multiprocessing.pool.Pool by setting the “processes” argument in the constructor.\n",
    "We can set the “processes” argument to specify the number of child processes to create and use as workers in the process pool.\n",
    "\n",
    "For example:"
   ]
  },
  {
   "cell_type": "code",
   "execution_count": null,
   "id": "4dc09571-d2fb-423f-86f8-cb7d67a5b025",
   "metadata": {},
   "outputs": [],
   "source": [
    "# create a process pool with 4 workers\n",
    "pool = multiprocessing.pool.Pool(processes=4)"
   ]
  },
  {
   "cell_type": "markdown",
   "id": "6b793c14-c69a-4858-b2ab-feaf692c825d",
   "metadata": {},
   "source": [
    "The “processes” argument is the first argument in the constructor and does not need to be specified by name to be set, for example:"
   ]
  },
  {
   "cell_type": "code",
   "execution_count": 8,
   "id": "17cfc9be-d1ca-42d7-8155-618eccf21417",
   "metadata": {},
   "outputs": [],
   "source": [
    "# create a process pool with 4 workers\n",
    "pool = multiprocessing.pool.Pool(4)"
   ]
  },
  {
   "cell_type": "markdown",
   "id": "39fe70c0-be5f-4f00-963a-a6851ccdc75b",
   "metadata": {},
   "source": [
    "If we are using the context manager to create the process pool so that it is automatically shutdown, then we can configure the number of processes in the same manner.\n",
    "\n",
    "For example:"
   ]
  },
  {
   "cell_type": "code",
   "execution_count": null,
   "id": "8a0c3bfd-d2e6-4a29-8790-05c3e0ec9a1a",
   "metadata": {},
   "outputs": [],
   "source": [
    "# create a process pool with 4 workers\n",
    "with multiprocessing.pool.Pool(4):"
   ]
  },
  {
   "cell_type": "markdown",
   "id": "474fb7cb-c1b8-4435-aac7-dc3b2a09b343",
   "metadata": {},
   "source": [
    "1. The number of workers must be less than or equal to 61 if Windows is our operating system.\n",
    "\n",
    "2. It is common to have more processes than CPUs (physical or logical) in our system, if the target task function is performing blocking IO operations.\n",
    "The reason for this is because processes are used for IO-bound tasks, not CPU bound tasks. This means that processes are used for tasks that wait for relatively slow resources to respond, like hard drives, printers, and network connections, and much more.\n",
    "\n",
    "3. If we require hundreds or processes for IO-bound tasks, we might want to consider using threads instead and the ThreadPoolExecutor. If we require thousands of processes for IO-bound tasks, we might want to consider using the AsyncIO module."
   ]
  },
  {
   "cell_type": "markdown",
   "id": "31c8d979-a2de-4bc4-b865-67742f458c22",
   "metadata": {},
   "source": [
    "### Example 1"
   ]
  },
  {
   "cell_type": "code",
   "execution_count": 9,
   "id": "4c9499dd-9c8c-4b4d-afa5-df272db5e5d2",
   "metadata": {},
   "outputs": [
    {
     "name": "stdout",
     "output_type": "stream",
     "text": [
      "<multiprocessing.pool.Pool state=RUN pool_size=64>\n",
      "64\n",
      "128\n"
     ]
    }
   ],
   "source": [
    "# we have to check the Default Number of workers in the process pool\n",
    "# First, let’s check how many processes are created by default for process pools on our system.\n",
    "from multiprocessing.pool import Pool\n",
    "from multiprocessing import active_children\n",
    " \n",
    "# protect the entry point\n",
    "if __name__ == '__main__':\n",
    "    # create a process pool with the default number of workers\n",
    "    pool = Pool()\n",
    "    # report the status of the process pool\n",
    "    print(pool)\n",
    "    # report the number of processes in the pool\n",
    "    print(pool._processes)\n",
    "    # report the number of active child processes\n",
    "    children = active_children()\n",
    "    print(len(children))"
   ]
  },
  {
   "cell_type": "markdown",
   "id": "b9a5c121-41ea-41db-89dd-28386680e8fc",
   "metadata": {
    "tags": []
   },
   "source": [
    "### Example 2"
   ]
  },
  {
   "cell_type": "code",
   "execution_count": 15,
   "id": "871b9b81-9a7e-4ab8-b670-4e4ff6be0c5a",
   "metadata": {},
   "outputs": [
    {
     "name": "stdout",
     "output_type": "stream",
     "text": [
      "[1, 4, 9, 16, 25]\n",
      "Pool took total time: 0.3313255310058594\n"
     ]
    }
   ],
   "source": [
    "from multiprocessing import Pool\n",
    "import time\n",
    "\n",
    "def func1(number):\n",
    "    return number**2\n",
    "\n",
    "if __name__==\"__main__\":\n",
    "    \n",
    "    t1=time.time()\n",
    "    array=[1,2,3,4,5]\n",
    "    p=Pool()\n",
    "    result=p.map(func1,array)\n",
    "    print(result)\n",
    "    p.close()\n",
    "    p.join()\n",
    "\n",
    "    print(\"Pool took total time:\",time.time()-t1)\n"
   ]
  },
  {
   "cell_type": "code",
   "execution_count": null,
   "id": "14bd0d10-53a5-4b65-b0f2-fcb839f17c41",
   "metadata": {},
   "outputs": [],
   "source": []
  },
  {
   "cell_type": "markdown",
   "id": "f4ef829e-ba2f-45ac-bc72-1416671acd48",
   "metadata": {},
   "source": [
    "## Q6. Write a python program to create 4 processes, each process should print a different number using the multiprocessing module in python."
   ]
  },
  {
   "cell_type": "markdown",
   "id": "44cec003-59ab-4f11-9ffd-6c72f46fc567",
   "metadata": {},
   "source": [
    "## Answer:-"
   ]
  },
  {
   "cell_type": "code",
   "execution_count": 30,
   "id": "681e0ee6-50fe-4d13-986a-f1d5e189a0c6",
   "metadata": {},
   "outputs": [
    {
     "name": "stdout",
     "output_type": "stream",
     "text": [
      "process 1 start\n",
      "Squre of num is: 64\n",
      "process 2 start\n",
      "cube of num is: 512\n",
      "process 3 start\n",
      " multiply by 5 of num is: 40\n",
      "process 4 start\n",
      " divide by 2 of num is: 4.0\n",
      "Program finished in 2.0716145616024733 seconds\n"
     ]
    }
   ],
   "source": [
    "import multiprocessing\n",
    "import time\n",
    " \n",
    "def task(num):\n",
    "    if i==0:\n",
    "        print(\"process 1 start\")\n",
    "        print(f\"Squre of num is: {num**2}\")\n",
    "    time.sleep(0.5)\n",
    "    if i==1:\n",
    "        print(\"process 2 start\")\n",
    "        print(f\"cube of num is: {num**3}\")\n",
    "        \n",
    "    if i==2:\n",
    "        print(\"process 3 start\")\n",
    "        print(f\" multiply by 5 of num is: {num*5}\")    \n",
    "    if i==3:\n",
    "        print(\"process 4 start\")\n",
    "        print(f\" divide by 2 of num is: {num/2}\")  \n",
    "\n",
    "# We must fence our main program under if __name__ == \"__main__\" or otherwise the multiprocessing module will complain. \n",
    "# This safety construct guarantees Python finishes analyzing the program before the sub-process is created.\n",
    "# However, there is a problem with the code, as the program timer is printed before the processes we created are even executed.        \n",
    "\n",
    "if __name__ == \"__main__\": \n",
    "    start_time = time.perf_counter()\n",
    " \n",
    "    # Creates 4 processes then starts them\n",
    "    for i in range(4):\n",
    "        p = multiprocessing.Process(target = task,args=(8,))\n",
    "        p.start()\n",
    "        p.join()\n",
    " \n",
    "    finish_time = time.perf_counter()\n",
    " \n",
    "    print(f\"Program finished in {finish_time-start_time} seconds\")"
   ]
  },
  {
   "cell_type": "code",
   "execution_count": null,
   "id": "08d62a0a-d975-4d9b-91d6-e5da06aec435",
   "metadata": {},
   "outputs": [],
   "source": []
  }
 ],
 "metadata": {
  "kernelspec": {
   "display_name": "Python 3 (ipykernel)",
   "language": "python",
   "name": "python3"
  },
  "language_info": {
   "codemirror_mode": {
    "name": "ipython",
    "version": 3
   },
   "file_extension": ".py",
   "mimetype": "text/x-python",
   "name": "python",
   "nbconvert_exporter": "python",
   "pygments_lexer": "ipython3",
   "version": "3.10.8"
  }
 },
 "nbformat": 4,
 "nbformat_minor": 5
}
