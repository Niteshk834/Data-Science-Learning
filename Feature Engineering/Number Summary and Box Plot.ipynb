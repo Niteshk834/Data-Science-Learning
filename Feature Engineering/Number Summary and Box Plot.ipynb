{
 "cells": [
  {
   "cell_type": "markdown",
   "id": "ebc92ec4-e588-45e3-82f5-13eea08d748e",
   "metadata": {},
   "source": [
    "# Number summary and Box plot\n",
    "## (To find out outlier)"
   ]
  },
  {
   "cell_type": "markdown",
   "id": "2a2fdf8c-4084-4d44-8316-97e46fe4cacf",
   "metadata": {},
   "source": [
    "1. Minimum\n",
    "2. first quartile\n",
    "3. median\n",
    "4. third quartile\n",
    "5. maximum"
   ]
  },
  {
   "cell_type": "markdown",
   "id": "0f429207-2640-4b3b-aa9d-f6e204ab0285",
   "metadata": {},
   "source": [
    "The no. which is less than lower fence and greater than higher fence, that no. consider as outlier"
   ]
  },
  {
   "cell_type": "markdown",
   "id": "2937cdf7-d3a0-4e7a-adbc-05773cc01717",
   "metadata": {},
   "source": [
    "Lower fence=Q1-1.5(IQR)\n",
    "\n",
    "Higher fence=Q3+1.5(IQR)"
   ]
  },
  {
   "cell_type": "code",
   "execution_count": null,
   "id": "d6a810b3-59a5-4502-86c9-1f8faf359794",
   "metadata": {},
   "outputs": [],
   "source": []
  },
  {
   "cell_type": "markdown",
   "id": "5b4cac6d-9654-4239-9655-ba309f7b14dc",
   "metadata": {},
   "source": [
    "Q1=25*(n+1)/100 # nth index\n",
    "\n",
    "Q3= 75*(n+1)/100 # nth index"
   ]
  },
  {
   "cell_type": "code",
   "execution_count": null,
   "id": "84c5013c-f647-438d-9b88-74b0b4793359",
   "metadata": {},
   "outputs": [],
   "source": []
  },
  {
   "cell_type": "markdown",
   "id": "fb2418bf-2f5c-410f-ae03-dab0394801e2",
   "metadata": {},
   "source": [
    "IQR(Inter Quartile Range)=Q3-Q1"
   ]
  },
  {
   "cell_type": "code",
   "execution_count": null,
   "id": "5047bc42-8d1b-456e-b915-75e0ec305ffe",
   "metadata": {},
   "outputs": [],
   "source": []
  }
 ],
 "metadata": {
  "kernelspec": {
   "display_name": "Python 3 (ipykernel)",
   "language": "python",
   "name": "python3"
  },
  "language_info": {
   "codemirror_mode": {
    "name": "ipython",
    "version": 3
   },
   "file_extension": ".py",
   "mimetype": "text/x-python",
   "name": "python",
   "nbconvert_exporter": "python",
   "pygments_lexer": "ipython3",
   "version": "3.10.8"
  }
 },
 "nbformat": 4,
 "nbformat_minor": 5
}
