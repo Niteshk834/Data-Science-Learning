{
 "cells": [
  {
   "cell_type": "markdown",
   "id": "d8248f8b-0fa7-424e-975e-b5f1ee7817a5",
   "metadata": {},
   "source": [
    "# Percentage"
   ]
  },
  {
   "cell_type": "code",
   "execution_count": 1,
   "id": "d4efd4d2-a9e1-4bd9-8e4a-53d99b6ab85a",
   "metadata": {},
   "outputs": [],
   "source": [
    "num=1,2,3,4,5,6,7,8,9"
   ]
  },
  {
   "cell_type": "code",
   "execution_count": 2,
   "id": "33d723a8-977b-4c26-8348-ce4ffab6b1f4",
   "metadata": {},
   "outputs": [],
   "source": [
    "odd=1,3,5,7,9"
   ]
  },
  {
   "cell_type": "markdown",
   "id": "9bfdcf1b-3542-4804-923c-0de57b6fd0c0",
   "metadata": {},
   "source": [
    "percentage=no. of odd/total no. * 100"
   ]
  },
  {
   "cell_type": "code",
   "execution_count": 3,
   "id": "34951522-7075-4cb9-b2fe-a47f6d0a8543",
   "metadata": {},
   "outputs": [],
   "source": [
    "percentage=5/9*100"
   ]
  },
  {
   "cell_type": "code",
   "execution_count": 4,
   "id": "48591183-3285-4552-8b04-846f99d95a4e",
   "metadata": {},
   "outputs": [
    {
     "data": {
      "text/plain": [
       "55.55555555555556"
      ]
     },
     "execution_count": 4,
     "metadata": {},
     "output_type": "execute_result"
    }
   ],
   "source": [
    "percentage"
   ]
  },
  {
   "cell_type": "markdown",
   "id": "755c899a-cd59-488f-b292-f480904aabd2",
   "metadata": {},
   "source": [
    "# percentile"
   ]
  },
  {
   "cell_type": "markdown",
   "id": "8fe5a89e-7203-4e18-b262-6acc5752227e",
   "metadata": {},
   "source": [
    "Percentile is a value below which a certain percentage of observation or data points lie."
   ]
  },
  {
   "cell_type": "code",
   "execution_count": 5,
   "id": "e8e56dc4-fe91-4609-b175-ec8da18c520a",
   "metadata": {},
   "outputs": [],
   "source": [
    "x={2,3,3,4,6,6,6,6,7,8,8,9,9,10,11,12}"
   ]
  },
  {
   "cell_type": "markdown",
   "id": "14dc6c46-f9c1-4666-93b5-096b08239afb",
   "metadata": {},
   "source": [
    "75%=75 % of entire distribution fall below the 75 percentile value"
   ]
  },
  {
   "cell_type": "code",
   "execution_count": 6,
   "id": "d72d7b25-a989-4186-849b-e4465fc3b533",
   "metadata": {},
   "outputs": [],
   "source": [
    "n=15"
   ]
  },
  {
   "cell_type": "markdown",
   "id": "bfb74064-b08c-4d21-a03a-c91e5c496106",
   "metadata": {},
   "source": [
    "percentile rank of 10=no. of value below 10 /n *100"
   ]
  },
  {
   "cell_type": "code",
   "execution_count": 7,
   "id": "1385907b-ea0f-46ee-8afd-3f8f481128e0",
   "metadata": {},
   "outputs": [
    {
     "data": {
      "text/plain": [
       "80.0"
      ]
     },
     "execution_count": 7,
     "metadata": {},
     "output_type": "execute_result"
    }
   ],
   "source": [
    "12/n*100"
   ]
  },
  {
   "cell_type": "markdown",
   "id": "32444b24-f6c5-4c17-b654-b1f6eac1340d",
   "metadata": {},
   "source": [
    "## Q what value exist at percentile 25?"
   ]
  },
  {
   "cell_type": "markdown",
   "id": "9cdb4f87-f5b5-49ad-8b7c-42c1c61c4a60",
   "metadata": {},
   "source": [
    "value=percentile*(n+1)/100"
   ]
  },
  {
   "cell_type": "code",
   "execution_count": 8,
   "id": "cbee16e3-f065-4989-8793-ae9a44556069",
   "metadata": {},
   "outputs": [
    {
     "data": {
      "text/plain": [
       "4.0"
      ]
     },
     "execution_count": 8,
     "metadata": {},
     "output_type": "execute_result"
    }
   ],
   "source": [
    "25*(n+1)/100"
   ]
  },
  {
   "cell_type": "code",
   "execution_count": null,
   "id": "efe04e87-4d78-44d7-9283-2b8acc99f10d",
   "metadata": {},
   "outputs": [],
   "source": [
    "# 4 is index value start from 1,2,3,4,5,6,......."
   ]
  },
  {
   "cell_type": "markdown",
   "id": "d2212877-8d6c-4a1f-af4d-40795dae4fa0",
   "metadata": {},
   "source": [
    "# Quartile"
   ]
  },
  {
   "cell_type": "code",
   "execution_count": null,
   "id": "f155d8cf-c950-4438-a369-8cd0a8064a05",
   "metadata": {},
   "outputs": [],
   "source": [
    "Q1=25 percentile\n",
    "Q2= 50 percentile\n",
    "Q3=75 percentile"
   ]
  },
  {
   "cell_type": "markdown",
   "id": "d980e3cf-dc29-4038-965a-2da9dc3aed53",
   "metadata": {},
   "source": [
    "### Note:"
   ]
  },
  {
   "cell_type": "markdown",
   "id": "cddeac9a-05dc-43f0-8268-494b1dfb9d28",
   "metadata": {},
   "source": [
    "4.5 index means (4th+5th)/2 index"
   ]
  },
  {
   "cell_type": "code",
   "execution_count": null,
   "id": "359ec3db-559b-473f-9e15-8747c3d2fd4d",
   "metadata": {},
   "outputs": [],
   "source": []
  },
  {
   "cell_type": "code",
   "execution_count": null,
   "id": "8c769e11-7310-4759-a093-ee0291b2a712",
   "metadata": {},
   "outputs": [],
   "source": []
  }
 ],
 "metadata": {
  "kernelspec": {
   "display_name": "Python 3 (ipykernel)",
   "language": "python",
   "name": "python3"
  },
  "language_info": {
   "codemirror_mode": {
    "name": "ipython",
    "version": 3
   },
   "file_extension": ".py",
   "mimetype": "text/x-python",
   "name": "python",
   "nbconvert_exporter": "python",
   "pygments_lexer": "ipython3",
   "version": "3.10.8"
  }
 },
 "nbformat": 4,
 "nbformat_minor": 5
}
