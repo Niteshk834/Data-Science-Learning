{
 "cells": [
  {
   "cell_type": "markdown",
   "id": "7127e138-d774-450d-80c1-cefbe78e5269",
   "metadata": {},
   "source": [
    "# Assignment 1"
   ]
  },
  {
   "cell_type": "markdown",
   "id": "1816deaf-b469-48cd-b02d-727c8892c60b",
   "metadata": {},
   "source": [
    "## Question 1"
   ]
  },
  {
   "cell_type": "markdown",
   "id": "a761c7b9-4e63-4d19-85bc-30e7095905e7",
   "metadata": {},
   "source": [
    "### Using both code and list comprehension\n",
    "### create a list of only prime number from  the given list\n",
    "## numbers= [1,2,3,4,5,6,7,8,9,10]"
   ]
  },
  {
   "cell_type": "code",
   "execution_count": 5,
   "id": "156020d8-4b5d-43ef-80bb-11b9580cade4",
   "metadata": {},
   "outputs": [
    {
     "name": "stdout",
     "output_type": "stream",
     "text": [
      "[2, 3, 5, 7]\n"
     ]
    }
   ],
   "source": [
    "#Another way using code method\n",
    "numbers= [1,2,3,4,5,6,7,8,9,10]\n",
    "prime=[]                      \n",
    "for i in numbers:\n",
    "    if (i>1 and all(i%j!=0 for j in range(2,i))):\n",
    "            prime.append(i) \n",
    "  \n",
    "print (prime)"
   ]
  },
  {
   "cell_type": "code",
   "execution_count": 6,
   "id": "ff43c3d9-bce3-47b7-9a08-c7d595644476",
   "metadata": {},
   "outputs": [
    {
     "name": "stdout",
     "output_type": "stream",
     "text": [
      "[2, 3, 5, 7]\n"
     ]
    }
   ],
   "source": [
    "# using list comprehension method\n",
    "numbers= [1,2,3,4,5,6,7,8,9,10]\n",
    "prime=[i for i in numbers if i!=1 and all (i%j!=0 for j in range(2,i)) ]\n",
    "print(prime)"
   ]
  },
  {
   "cell_type": "markdown",
   "id": "21986d65-cd4c-4122-bf22-14bd61824866",
   "metadata": {},
   "source": [
    "## Question2"
   ]
  },
  {
   "cell_type": "markdown",
   "id": "8cef18ed-7bd3-4e7d-b365-c51faa9920b4",
   "metadata": {},
   "source": [
    "# Question2- create the list of  all the possible combination of two element from the list\n",
    "numbers=[1,2,3,4,5]"
   ]
  },
  {
   "cell_type": "code",
   "execution_count": 10,
   "id": "cd9d17f2-4839-49fe-a95a-19a2280c60ab",
   "metadata": {},
   "outputs": [
    {
     "name": "stdout",
     "output_type": "stream",
     "text": [
      "[[1, 2], [1, 3], [1, 4], [1, 5], [2, 3], [2, 4], [2, 5], [3, 4], [3, 5], [4, 5]]\n"
     ]
    }
   ],
   "source": [
    "#using code method\n",
    "numbers=[1,2,3,4,5]\n",
    "combination=[]\n",
    "for i in range(1,len(numbers)):\n",
    "    for j in range(i+1,len(numbers)+1):\n",
    "        combination.append([i,j])\n",
    "print(combination)"
   ]
  },
  {
   "cell_type": "code",
   "execution_count": 11,
   "id": "51cd5781-eef7-4ba5-9f9e-9e67361f7ca0",
   "metadata": {},
   "outputs": [
    {
     "name": "stdout",
     "output_type": "stream",
     "text": [
      "[[1, 2], [1, 3], [1, 4], [1, 5], [2, 3], [2, 4], [2, 5], [3, 4], [3, 5], [4, 5]]\n"
     ]
    }
   ],
   "source": [
    "# Using list comprehension method\n",
    "numbers=[1,2,3,4,5]\n",
    "combination=[[i,j] for i in range(1,len(numbers)) for j in range (i+1,len(numbers)+1)]\n",
    "print(combination)"
   ]
  },
  {
   "cell_type": "code",
   "execution_count": null,
   "id": "5192b970-a813-4c51-93e4-5a0cf8022fb3",
   "metadata": {},
   "outputs": [],
   "source": []
  }
 ],
 "metadata": {
  "kernelspec": {
   "display_name": "Python 3 (ipykernel)",
   "language": "python",
   "name": "python3"
  },
  "language_info": {
   "codemirror_mode": {
    "name": "ipython",
    "version": 3
   },
   "file_extension": ".py",
   "mimetype": "text/x-python",
   "name": "python",
   "nbconvert_exporter": "python",
   "pygments_lexer": "ipython3",
   "version": "3.10.8"
  }
 },
 "nbformat": 4,
 "nbformat_minor": 5
}
