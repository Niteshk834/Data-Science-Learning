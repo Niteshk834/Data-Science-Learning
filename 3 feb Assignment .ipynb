{
 "cells": [
  {
   "cell_type": "markdown",
   "id": "a6a598bb-3e43-4681-973a-8dbd6aed0268",
   "metadata": {},
   "source": [
    " ## Q1. Which keyword is used to create a function? Create a function to return a list of odd numbers in the range of 1 to 25."
   ]
  },
  {
   "cell_type": "markdown",
   "id": "9b178052-fa36-4af3-97a2-0a7376533f9d",
   "metadata": {},
   "source": [
    "#### Answer- "
   ]
  },
  {
   "cell_type": "markdown",
   "id": "10c50999-42eb-466a-a2fb-c305388fd106",
   "metadata": {},
   "source": [
    "## def keyword is used to create a function."
   ]
  },
  {
   "cell_type": "code",
   "execution_count": 40,
   "id": "a2beca60-d562-46bc-b859-069694e751a9",
   "metadata": {},
   "outputs": [],
   "source": [
    "def odd_num():\n",
    "    for i in range(1,25):\n",
    "        if i%2!=0:\n",
    "            print(i,\"-number is odd\")            "
   ]
  },
  {
   "cell_type": "code",
   "execution_count": 41,
   "id": "25e73965-364a-4c5b-80de-4d763dbe40ab",
   "metadata": {},
   "outputs": [
    {
     "name": "stdout",
     "output_type": "stream",
     "text": [
      "1 -number is odd\n",
      "3 -number is odd\n",
      "5 -number is odd\n",
      "7 -number is odd\n",
      "9 -number is odd\n",
      "11 -number is odd\n",
      "13 -number is odd\n",
      "15 -number is odd\n",
      "17 -number is odd\n",
      "19 -number is odd\n",
      "21 -number is odd\n",
      "23 -number is odd\n"
     ]
    }
   ],
   "source": [
    "odd_num()"
   ]
  },
  {
   "cell_type": "markdown",
   "id": "e0525571-b1bd-46d8-86dd-214a3fc7f83f",
   "metadata": {},
   "source": [
    "## Q2. Why *args and **kwargs is used in some functions? Create a function each for *args and **kwargs to demonstrate their use."
   ]
  },
  {
   "cell_type": "markdown",
   "id": "69af7ca1-a689-465b-84dc-40d21599faf1",
   "metadata": {},
   "source": [
    "### *args simply means it will take n number of inputs"
   ]
  },
  {
   "cell_type": "code",
   "execution_count": 63,
   "id": "38411309-1277-47a1-98c8-7db29a5d3929",
   "metadata": {},
   "outputs": [],
   "source": [
    "def test(*args):\n",
    "    return args"
   ]
  },
  {
   "cell_type": "code",
   "execution_count": 66,
   "id": "18a02662-7a30-4dfd-9bd5-2b4907824179",
   "metadata": {},
   "outputs": [
    {
     "data": {
      "text/plain": [
       "(1, 3, 6.7, 'nk', (1, 2, 3.7), [4, 5, 8.9], {1, 4, 6.2})"
      ]
     },
     "execution_count": 66,
     "metadata": {},
     "output_type": "execute_result"
    }
   ],
   "source": [
    "test(1,3,6.7,\"nk\",(1,2,3.7),[4,5,8.9],{1,4,6.2})"
   ]
  },
  {
   "cell_type": "markdown",
   "id": "87d210eb-a1eb-4b63-88cb-d2c6bb8637ed",
   "metadata": {},
   "source": [
    "### **kwargs simply means it will take n number of input with keywork and its respective value"
   ]
  },
  {
   "cell_type": "code",
   "execution_count": 68,
   "id": "01be7e63-0a59-4f92-9700-ef03a6dc3216",
   "metadata": {},
   "outputs": [],
   "source": [
    "def test(**kwargs):\n",
    "    return kwargs\n",
    "   "
   ]
  },
  {
   "cell_type": "code",
   "execution_count": 69,
   "id": "02a24a60-14c2-420c-b78a-4bcd36a8b97e",
   "metadata": {},
   "outputs": [
    {
     "data": {
      "text/plain": [
       "{'a': 1,\n",
       " 'b': 5.8,\n",
       " 'c': 'nitesh',\n",
       " 'd': [5, 6, 7, 8],\n",
       " 'e': (3, 5.6, 2, 9),\n",
       " 'f': {4, 9.6, 'nk'}}"
      ]
     },
     "execution_count": 69,
     "metadata": {},
     "output_type": "execute_result"
    }
   ],
   "source": [
    "test(a=1,b=5.8,c=\"nitesh\",d=[5,6,7,8],e=(3,5.6,2,9),f={4,\"nk\",9.6})"
   ]
  },
  {
   "cell_type": "markdown",
   "id": "9692dd06-e042-43b0-b391-ce249557519b",
   "metadata": {},
   "source": [
    "## Q3.  What is an iterator in python? Name the method used to initialise the iterator object and the method used for iteration. Use these methods to print the first five elements of the given list [2, 4, 6, 8, 10, 12, 14, 16, 18, 20]."
   ]
  },
  {
   "cell_type": "markdown",
   "id": "8b0ff404-2e55-45de-a27b-5b39ae80beff",
   "metadata": {},
   "source": [
    "## Answer- \n",
    "#### An iterator is an object that contains a countable number of values.\n",
    "#### __iter__() method are used for initialise the iterator and __next__() method are used for iteration."
   ]
  },
  {
   "cell_type": "code",
   "execution_count": 2,
   "id": "066c8a0e-42f9-4fd3-8f18-cb6e6b5d9d45",
   "metadata": {},
   "outputs": [
    {
     "name": "stdout",
     "output_type": "stream",
     "text": [
      "2\n",
      "4\n",
      "6\n",
      "8\n",
      "10\n"
     ]
    }
   ],
   "source": [
    "list=[2,4,6,8,10,12,14,16,18,20]\n",
    "iterator=iter(list)\n",
    "print(next(iterator))\n",
    "print(next(iterator))\n",
    "print(next(iterator))\n",
    "print(next(iterator))\n",
    "print(next(iterator))"
   ]
  },
  {
   "cell_type": "markdown",
   "id": "b1b949ed-ff75-4962-b065-7ca40eb9928d",
   "metadata": {},
   "source": [
    "## Q4.  What is a generator function in python? Why yield keyword is used? Give an example of a generator function."
   ]
  },
  {
   "cell_type": "markdown",
   "id": "38186802-e046-4f77-abbf-93d827d821d9",
   "metadata": {},
   "source": [
    "### Answer\n",
    "In Python, a generator is a function that returns an iterator that produces a sequence of values when iterated over.\n",
    "\n",
    "Generators are useful when we want to produce a large sequence of values, but we don't want to store all of them in memory at once.\n",
    "\n"
   ]
  },
  {
   "cell_type": "markdown",
   "id": "36a3038b-ab8a-49b5-9665-b25dcffbf357",
   "metadata": {},
   "source": [
    "we can define a generator function using the def keyword, but instead of the return statement we use the yield statement. the yield keyword is used to produce a value from the generator. The yield keyword is used to produce a value from the generator and pause the generator function's execution until the next value is requested."
   ]
  },
  {
   "cell_type": "code",
   "execution_count": 11,
   "id": "e2f0bee1-93a4-4d58-9359-0f05a2f564b1",
   "metadata": {},
   "outputs": [],
   "source": [
    "# Example\n",
    "def gen_function():\n",
    "    print(\"first value\")\n",
    "    yield 45\n",
    "    print(\"second value\")\n",
    "    yield 34\n",
    "    print(\"third value\")\n",
    "    yield 23"
   ]
  },
  {
   "cell_type": "code",
   "execution_count": 12,
   "id": "5b16c1e6-f59c-4863-a7ba-85ce95cf8763",
   "metadata": {},
   "outputs": [],
   "source": [
    "final_generator=gen_function()"
   ]
  },
  {
   "cell_type": "code",
   "execution_count": 13,
   "id": "85a6ed14-40f3-426c-87df-9c6c02e4e1f6",
   "metadata": {},
   "outputs": [
    {
     "name": "stdout",
     "output_type": "stream",
     "text": [
      "first value\n"
     ]
    },
    {
     "data": {
      "text/plain": [
       "45"
      ]
     },
     "execution_count": 13,
     "metadata": {},
     "output_type": "execute_result"
    }
   ],
   "source": [
    "next(final_generator)"
   ]
  },
  {
   "cell_type": "code",
   "execution_count": 14,
   "id": "b298883d-856a-4f2e-bebf-575c4b3eab31",
   "metadata": {},
   "outputs": [
    {
     "name": "stdout",
     "output_type": "stream",
     "text": [
      "second value\n"
     ]
    },
    {
     "data": {
      "text/plain": [
       "34"
      ]
     },
     "execution_count": 14,
     "metadata": {},
     "output_type": "execute_result"
    }
   ],
   "source": [
    "next(final_generator)"
   ]
  },
  {
   "cell_type": "code",
   "execution_count": 15,
   "id": "739c4bea-7043-4f4f-9039-b408bcc564fb",
   "metadata": {},
   "outputs": [
    {
     "name": "stdout",
     "output_type": "stream",
     "text": [
      "third value\n"
     ]
    },
    {
     "data": {
      "text/plain": [
       "23"
      ]
     },
     "execution_count": 15,
     "metadata": {},
     "output_type": "execute_result"
    }
   ],
   "source": [
    "next(final_generator)"
   ]
  },
  {
   "cell_type": "code",
   "execution_count": 16,
   "id": "79b70036-a614-4c87-af07-52a2dcbff50c",
   "metadata": {},
   "outputs": [
    {
     "ename": "StopIteration",
     "evalue": "",
     "output_type": "error",
     "traceback": [
      "\u001b[0;31m---------------------------------------------------------------------------\u001b[0m",
      "\u001b[0;31mStopIteration\u001b[0m                             Traceback (most recent call last)",
      "Cell \u001b[0;32mIn[16], line 1\u001b[0m\n\u001b[0;32m----> 1\u001b[0m \u001b[38;5;28;43mnext\u001b[39;49m\u001b[43m(\u001b[49m\u001b[43mfinal_generator\u001b[49m\u001b[43m)\u001b[49m\n",
      "\u001b[0;31mStopIteration\u001b[0m: "
     ]
    }
   ],
   "source": [
    "next(final_generator) # iteration stop"
   ]
  },
  {
   "cell_type": "markdown",
   "id": "7c125774-45a0-4ffe-913b-8b6d4545a04c",
   "metadata": {},
   "source": [
    "## Q5. Create a generator function for prime numbers less than 1000. Use the next() method to print the first 20 prime numbers"
   ]
  },
  {
   "cell_type": "code",
   "execution_count": 161,
   "id": "3e4a01a1-1420-43b7-b435-d7a56c97ca8d",
   "metadata": {},
   "outputs": [],
   "source": [
    "def prime_number(n):\n",
    "    for num in range(2,n):\n",
    "        for j in range(2,num):\n",
    "            if num%j==0:\n",
    "                break \n",
    "        else:\n",
    "            print(num,end=\" \")"
   ]
  },
  {
   "cell_type": "code",
   "execution_count": 162,
   "id": "7990dbdf-3392-42b2-8424-b44fa497faee",
   "metadata": {},
   "outputs": [
    {
     "name": "stdout",
     "output_type": "stream",
     "text": [
      "2 3 5 7 11 13 17 19 23 29 31 37 41 43 47 53 59 61 67 71 73 79 83 89 97 101 103 107 109 113 127 131 137 139 149 151 157 163 167 173 179 181 191 193 197 199 211 223 227 229 233 239 241 251 257 263 269 271 277 281 283 293 307 311 313 317 331 337 347 349 353 359 367 373 379 383 389 397 401 409 419 421 431 433 439 443 449 457 461 463 467 479 487 491 499 503 509 521 523 541 547 557 563 569 571 577 587 593 599 601 607 613 617 619 631 641 643 647 653 659 661 673 677 683 691 701 709 719 727 733 739 743 751 757 761 769 773 787 797 809 811 821 823 827 829 839 853 857 859 863 877 881 883 887 907 911 919 929 937 941 947 953 967 971 977 983 991 997 "
     ]
    }
   ],
   "source": [
    "prime_number(1000)"
   ]
  },
  {
   "cell_type": "code",
   "execution_count": null,
   "id": "1994f7c7-372f-43c2-96ad-35fe090ce18b",
   "metadata": {},
   "outputs": [],
   "source": []
  }
 ],
 "metadata": {
  "kernelspec": {
   "display_name": "Python 3 (ipykernel)",
   "language": "python",
   "name": "python3"
  },
  "language_info": {
   "codemirror_mode": {
    "name": "ipython",
    "version": 3
   },
   "file_extension": ".py",
   "mimetype": "text/x-python",
   "name": "python",
   "nbconvert_exporter": "python",
   "pygments_lexer": "ipython3",
   "version": "3.10.8"
  }
 },
 "nbformat": 4,
 "nbformat_minor": 5
}
