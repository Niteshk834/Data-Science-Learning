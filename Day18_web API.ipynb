{
 "cells": [
  {
   "cell_type": "markdown",
   "id": "16972e9e-3cca-4feb-8143-f900b0b0f2dc",
   "metadata": {},
   "source": [
    "# Date 18 feb 2023"
   ]
  },
  {
   "cell_type": "markdown",
   "id": "762d5bca-9eeb-42b4-8e3a-54350701105a",
   "metadata": {},
   "source": [
    "### What is web API ?"
   ]
  },
  {
   "cell_type": "code",
   "execution_count": null,
   "id": "62da080d-66b8-4d26-9be9-bf9e10b7fe15",
   "metadata": {},
   "outputs": [],
   "source": [
    "\"\"\"  API(Application Programming Interface)\n",
    "Different different system that may be written in different language and communication between them are possible by the use of API\"\"\"\n"
   ]
  },
  {
   "cell_type": "markdown",
   "id": "3d77900a-e66b-4144-8f24-95b383acdc10",
   "metadata": {},
   "source": [
    "### Difeerence between B/W API and Web API"
   ]
  },
  {
   "cell_type": "code",
   "execution_count": 2,
   "id": "1d8972ca-e1d7-4d18-942d-f4032cab28d6",
   "metadata": {},
   "outputs": [
    {
     "data": {
      "text/plain": [
       "' B/W API created by the use of TCP,SMTP,HTTP protocol\\nBut Web API created by the use of only HTTP protocol\\n\\nAPI basically use to communicate between two homogeneous and two heterogeneous system'"
      ]
     },
     "execution_count": 2,
     "metadata": {},
     "output_type": "execute_result"
    }
   ],
   "source": [
    "\"\"\" B/W API created by the use of TCP,SMTP,HTTP protocol\n",
    "But Web API created by the use of only HTTP protocol\n",
    "\n",
    "API basically use to communicate between two homogeneous and two heterogeneous system\"\"\""
   ]
  },
  {
   "cell_type": "markdown",
   "id": "2347db1a-2665-4a74-aeff-8b0314b6ef01",
   "metadata": {},
   "source": [
    "### Rest and Soap Architecture"
   ]
  },
  {
   "cell_type": "code",
   "execution_count": 3,
   "id": "89ddcb4f-2b58-4f73-8ff0-5a189ebce46e",
   "metadata": {},
   "outputs": [
    {
     "ename": "SyntaxError",
     "evalue": "incomplete input (4069065699.py, line 1)",
     "output_type": "error",
     "traceback": [
      "\u001b[0;36m  Cell \u001b[0;32mIn[3], line 1\u001b[0;36m\u001b[0m\n\u001b[0;31m    \"\"\" Rest- Representational state transfer\u001b[0m\n\u001b[0m    ^\u001b[0m\n\u001b[0;31mSyntaxError\u001b[0m\u001b[0;31m:\u001b[0m incomplete input\n"
     ]
    }
   ],
   "source": [
    "\"\"\" Rest- Representational state transfer\n",
    "    Soap- Simple object access protocol\n",
    "    \n",
    "   Rest by default used HTTP protocol. We will able to see PUT, GET, POST, DELETE.\n",
    "   \n",
    "   Soap used TCP/SMTP protocol. \n",
    "   \n",
    "   Rest is known for simplicity,flexibility, scalibility.\n",
    "   \n",
    "   Soap is scalable but not as simple as rest. In soap all the message should transfer through the XML(extended Markup Languages).\n",
    "   Inside the XML we found WSDL(Web Service Description Language)  means written all the rule in WSDL.\"\"\"\n",
    "   "
   ]
  },
  {
   "cell_type": "code",
   "execution_count": null,
   "id": "3e1325dc-06c4-4001-a5c7-3a51c3fd2ccb",
   "metadata": {},
   "outputs": [],
   "source": [
    "\"\"\"  Rest is less secure than the Soap.\"\"\""
   ]
  },
  {
   "cell_type": "markdown",
   "id": "41627720-3ba2-4d42-a505-61201853b68b",
   "metadata": {},
   "source": [
    "### Restful Services"
   ]
  },
  {
   "cell_type": "code",
   "execution_count": null,
   "id": "ebd2d014-9d53-4d1d-b552-16a083088aa6",
   "metadata": {},
   "outputs": [],
   "source": [
    "\"\"\" It is based  on the Rest Architecture\"\"\""
   ]
  }
 ],
 "metadata": {
  "kernelspec": {
   "display_name": "Python 3 (ipykernel)",
   "language": "python",
   "name": "python3"
  },
  "language_info": {
   "codemirror_mode": {
    "name": "ipython",
    "version": 3
   },
   "file_extension": ".py",
   "mimetype": "text/x-python",
   "name": "python",
   "nbconvert_exporter": "python",
   "pygments_lexer": "ipython3",
   "version": "3.10.8"
  }
 },
 "nbformat": 4,
 "nbformat_minor": 5
}
