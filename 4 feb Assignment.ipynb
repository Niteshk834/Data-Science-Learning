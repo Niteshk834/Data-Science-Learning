{
 "cells": [
  {
   "cell_type": "markdown",
   "id": "16744883-6bda-4cd0-99ac-9eafbdd8b1e6",
   "metadata": {},
   "source": [
    "# 4 Feb 2023 Assignment"
   ]
  },
  {
   "cell_type": "markdown",
   "id": "27cfa7e8-fb91-40f1-9812-8e6f8c46ee02",
   "metadata": {},
   "source": [
    "## Q1. Create a python program to sort the given list of tuples based on integer value using a lambda function.\n",
    "### [('Sachin Tendulkar', 34357), ('Ricky Ponting', 27483), ('Jack Kallis', 25534), ('Virat Kohli', 24936)]"
   ]
  },
  {
   "cell_type": "markdown",
   "id": "e74ecdba-c2a2-4331-9832-72a374560d39",
   "metadata": {},
   "source": [
    "## Answer:- "
   ]
  },
  {
   "cell_type": "code",
   "execution_count": 49,
   "id": "4b6e1fa1-e0af-47da-88f3-f61e2e77613c",
   "metadata": {},
   "outputs": [],
   "source": [
    "l= [('Sachin Tendulkar', 34357), ('Ricky Ponting', 27483), ('Jack Kallis', 25534), ('Virat Kohli', 24936)]"
   ]
  },
  {
   "cell_type": "code",
   "execution_count": 45,
   "id": "818c4ad9-52e0-4d56-b88a-14945bb2eda2",
   "metadata": {},
   "outputs": [
    {
     "data": {
      "text/plain": [
       "[('Sachin Tendulkar', 34357),\n",
       " ('Ricky Ponting', 27483),\n",
       " ('Jack Kallis', 25534),\n",
       " ('Virat Kohli', 24936)]"
      ]
     },
     "execution_count": 45,
     "metadata": {},
     "output_type": "execute_result"
    }
   ],
   "source": [
    "l"
   ]
  },
  {
   "cell_type": "markdown",
   "id": "0129e133-8599-4d8a-93c5-a393b75b7070",
   "metadata": {},
   "source": [
    "#### Sorting based on integer value"
   ]
  },
  {
   "cell_type": "code",
   "execution_count": 47,
   "id": "cd21c511-80d2-41bc-8231-698c2783dfce",
   "metadata": {},
   "outputs": [
    {
     "name": "stdout",
     "output_type": "stream",
     "text": [
      "original tuple list: [('Sachin Tendulkar', 34357), ('Ricky Ponting', 27483), ('Jack Kallis', 25534), ('Virat Kohli', 24936)]\n",
      "sorting of tuple based on integer value [('Virat Kohli', 24936), ('Jack Kallis', 25534), ('Ricky Ponting', 27483), ('Sachin Tendulkar', 34357)]\n"
     ]
    }
   ],
   "source": [
    "\n",
    "print(\"original tuple list:\",l)\n",
    "l.sort(key=lambda value:value[1])\n",
    "print(\"sorting of tuple based on integer value\",l)"
   ]
  },
  {
   "cell_type": "markdown",
   "id": "100e9bb8-f60e-4621-bc61-8149dd4cb9ef",
   "metadata": {},
   "source": [
    "#### sorting based on string value"
   ]
  },
  {
   "cell_type": "code",
   "execution_count": 50,
   "id": "c295f42d-12fe-4a6d-b86b-f53d5634c522",
   "metadata": {},
   "outputs": [
    {
     "name": "stdout",
     "output_type": "stream",
     "text": [
      "original tuple list: [('Sachin Tendulkar', 34357), ('Ricky Ponting', 27483), ('Jack Kallis', 25534), ('Virat Kohli', 24936)]\n",
      "sorting of tuple based on integer value [('Jack Kallis', 25534), ('Ricky Ponting', 27483), ('Sachin Tendulkar', 34357), ('Virat Kohli', 24936)]\n"
     ]
    }
   ],
   "source": [
    "print(\"original tuple list:\",l)\n",
    "l.sort(key=lambda value:value[0])\n",
    "print(\"sorting of tuple based on integer value\",l)"
   ]
  },
  {
   "cell_type": "markdown",
   "id": "1bfbf6c6-0100-4c54-90bd-c5541f096657",
   "metadata": {},
   "source": [
    "## Q2. Write a Python Program to find the squares of all the numbers in the given list of integers using lambda and map functions.\n",
    "\n",
    "### [1, 2, 3, 4, 5, 6, 7, 8, 9, 10]\n"
   ]
  },
  {
   "cell_type": "markdown",
   "id": "dc1514f4-c760-4a1a-b97c-04074bf5d3cf",
   "metadata": {},
   "source": [
    "### Answer\n",
    "\n",
    "#### Using map function"
   ]
  },
  {
   "cell_type": "code",
   "execution_count": 13,
   "id": "1f202a0e-21f4-41d0-a0f2-3e8845e625af",
   "metadata": {},
   "outputs": [],
   "source": [
    "l1=[1,2,3,4,5,6,7,8,9,10]"
   ]
  },
  {
   "cell_type": "code",
   "execution_count": 2,
   "id": "c706a904-e0a9-49ae-9a10-bc7e78af4b72",
   "metadata": {},
   "outputs": [],
   "source": [
    "def sqr(x):\n",
    "    return x**2"
   ]
  },
  {
   "cell_type": "code",
   "execution_count": 3,
   "id": "ef23df56-437d-4cb5-828f-c069f86fe8b3",
   "metadata": {},
   "outputs": [
    {
     "data": {
      "text/plain": [
       "[1, 4, 9, 16, 25, 36, 49, 64, 81, 100]"
      ]
     },
     "execution_count": 3,
     "metadata": {},
     "output_type": "execute_result"
    }
   ],
   "source": [
    "list(map(sqr,l1))"
   ]
  },
  {
   "cell_type": "markdown",
   "id": "f78d47cd-8ea7-4d65-b297-e0bdce8963c2",
   "metadata": {},
   "source": [
    "#### using map and lambda"
   ]
  },
  {
   "cell_type": "code",
   "execution_count": 14,
   "id": "1edfa766-0a0d-4015-bbaa-662a2bf1c196",
   "metadata": {},
   "outputs": [
    {
     "data": {
      "text/plain": [
       "[1, 4, 9, 16, 25, 36, 49, 64, 81, 100]"
      ]
     },
     "execution_count": 14,
     "metadata": {},
     "output_type": "execute_result"
    }
   ],
   "source": [
    "list(map(lambda x:x**2,l1))"
   ]
  },
  {
   "cell_type": "markdown",
   "id": "e33bd5e3-72b0-49bc-b13d-6c21d6b71e98",
   "metadata": {},
   "source": [
    "## Q3. Write a python program to convert the given list of integers into a tuple of strings. Use map and lambda functions\n",
    "### Given String: [1, 2, 3, 4, 5, 6, 7, 8, 9, 10]\n",
    "\n",
    "### Expected output: ('1', '2', '3', '4', '5', '6', '7', '8', '9', '10')"
   ]
  },
  {
   "cell_type": "markdown",
   "id": "d12cfe96-64eb-41b2-9f1e-af188ea50f73",
   "metadata": {},
   "source": [
    "### Answer:-"
   ]
  },
  {
   "cell_type": "code",
   "execution_count": 21,
   "id": "3aa25f62-338f-403e-a883-325f51cc9647",
   "metadata": {},
   "outputs": [],
   "source": [
    "\n",
    "l1=[1,2,3,4,5,6,7,8,9,10]"
   ]
  },
  {
   "cell_type": "code",
   "execution_count": 22,
   "id": "d852e19d-3fa7-45b0-8306-24ffd2e2c695",
   "metadata": {},
   "outputs": [
    {
     "data": {
      "text/plain": [
       "('1', '2', '3', '4', '5', '6', '7', '8', '9', '10')"
      ]
     },
     "execution_count": 22,
     "metadata": {},
     "output_type": "execute_result"
    }
   ],
   "source": [
    "tuple(map(lambda x:str(x),l1))"
   ]
  },
  {
   "cell_type": "markdown",
   "id": "3578e0d9-f2a5-4b57-8c5b-86d0e26e6414",
   "metadata": {},
   "source": [
    "## Q4. Write a python program using reduce function to compute the product of a list containing numbers from 1 to 25."
   ]
  },
  {
   "cell_type": "markdown",
   "id": "4443ce0e-b91a-47b1-b2a5-5f8fe60fc030",
   "metadata": {},
   "source": [
    "### Answer:-"
   ]
  },
  {
   "cell_type": "markdown",
   "id": "9718d67f-ac24-49c7-9307-075c9949288f",
   "metadata": {},
   "source": [
    "We know that reduce function by default not available in python core but it available in library package."
   ]
  },
  {
   "cell_type": "code",
   "execution_count": 45,
   "id": "fd4d3cb4-0f58-4e09-9c39-64bb33beb8e4",
   "metadata": {},
   "outputs": [],
   "source": [
    "from functools import reduce"
   ]
  },
  {
   "cell_type": "code",
   "execution_count": 46,
   "id": "4a1bb7db-1654-49e1-9037-12f569bf20dd",
   "metadata": {},
   "outputs": [],
   "source": [
    "l3=list(range(1,25+1))"
   ]
  },
  {
   "cell_type": "code",
   "execution_count": 47,
   "id": "69a5083f-cb4c-4da7-a333-b2b175edfb14",
   "metadata": {},
   "outputs": [
    {
     "name": "stdout",
     "output_type": "stream",
     "text": [
      "[1, 2, 3, 4, 5, 6, 7, 8, 9, 10, 11, 12, 13, 14, 15, 16, 17, 18, 19, 20, 21, 22, 23, 24, 25]\n"
     ]
    }
   ],
   "source": [
    "print(l3)"
   ]
  },
  {
   "cell_type": "code",
   "execution_count": 48,
   "id": "7d776e33-ddb8-4ea9-9b58-c75c425548b8",
   "metadata": {},
   "outputs": [
    {
     "data": {
      "text/plain": [
       "15511210043330985984000000"
      ]
     },
     "execution_count": 48,
     "metadata": {},
     "output_type": "execute_result"
    }
   ],
   "source": [
    "reduce(lambda x,y:x*y,l3)"
   ]
  },
  {
   "cell_type": "markdown",
   "id": "b7f7b7f5-c7d3-4d4e-9901-37a9c9e71073",
   "metadata": {},
   "source": [
    "## Q5. Write a python program to filter the numbers in a given list that are divisible by 2 and 3 using the filter function.\n",
    "### [2, 3, 6, 9, 27, 60, 90, 120, 55, 46]\n"
   ]
  },
  {
   "cell_type": "markdown",
   "id": "c77ea1ec-8ed1-4d67-99fc-bab79748500f",
   "metadata": {},
   "source": [
    "### Answer:-"
   ]
  },
  {
   "cell_type": "code",
   "execution_count": 50,
   "id": "8c3afc01-7e26-41cb-8006-b4dfebdae447",
   "metadata": {},
   "outputs": [],
   "source": [
    "l4=[2, 3, 6, 9, 27, 60, 90, 120, 55, 46]"
   ]
  },
  {
   "cell_type": "code",
   "execution_count": 53,
   "id": "2a4ffd3f-c815-4c46-a0da-66b209d61fed",
   "metadata": {},
   "outputs": [
    {
     "data": {
      "text/plain": [
       "[6, 60, 90, 120]"
      ]
     },
     "execution_count": 53,
     "metadata": {},
     "output_type": "execute_result"
    }
   ],
   "source": [
    "list(filter(lambda  x: x%2==0 and x%3==0,l4))"
   ]
  },
  {
   "cell_type": "markdown",
   "id": "6f8898a0-07f4-4b1b-9b95-04143d231ff9",
   "metadata": {},
   "source": [
    "## Q6. Write a python program to find palindromes in the given list of strings using lambda and filter function.\n",
    "\n",
    "### ['python', 'php', 'aba', 'radar', 'level']"
   ]
  },
  {
   "cell_type": "markdown",
   "id": "42cd420a-2170-4ba9-806b-ab28c78b1de2",
   "metadata": {},
   "source": [
    "### Answer:-"
   ]
  },
  {
   "cell_type": "markdown",
   "id": "51e4fdf5-2441-49df-9804-7f0c021d9ceb",
   "metadata": {},
   "source": [
    "##### palindrome is a number that remains the same when its digits are reversed or palindrome, which refers to a word whose spelling is unchanged when its letters are reversed."
   ]
  },
  {
   "cell_type": "code",
   "execution_count": 55,
   "id": "a488c9c2-9fd6-492f-a705-6af5b846a150",
   "metadata": {},
   "outputs": [],
   "source": [
    "l5=['python', 'php', 'aba', 'radar', 'level']"
   ]
  },
  {
   "cell_type": "code",
   "execution_count": 56,
   "id": "5b3a4b4f-56a3-4c39-8995-87934f614e1b",
   "metadata": {},
   "outputs": [
    {
     "data": {
      "text/plain": [
       "['php', 'aba', 'radar', 'level']"
      ]
     },
     "execution_count": 56,
     "metadata": {},
     "output_type": "execute_result"
    }
   ],
   "source": [
    "list(filter(lambda x: (x == \"\".join(reversed(x))),l5))"
   ]
  },
  {
   "cell_type": "code",
   "execution_count": null,
   "id": "2ee16e52-726a-427a-96e1-52c6421071a0",
   "metadata": {},
   "outputs": [],
   "source": []
  }
 ],
 "metadata": {
  "kernelspec": {
   "display_name": "Python 3 (ipykernel)",
   "language": "python",
   "name": "python3"
  },
  "language_info": {
   "codemirror_mode": {
    "name": "ipython",
    "version": 3
   },
   "file_extension": ".py",
   "mimetype": "text/x-python",
   "name": "python",
   "nbconvert_exporter": "python",
   "pygments_lexer": "ipython3",
   "version": "3.10.8"
  }
 },
 "nbformat": 4,
 "nbformat_minor": 5
}
