{
 "cells": [
  {
   "cell_type": "markdown",
   "id": "1bbd7ece-63fc-4619-b741-981de65b3983",
   "metadata": {},
   "source": [
    "# Date 14 Feb 2023"
   ]
  },
  {
   "cell_type": "markdown",
   "id": "8c4b475e-cca8-4777-a3ff-54cfa168358e",
   "metadata": {},
   "source": [
    "## Multithreading"
   ]
  },
  {
   "cell_type": "code",
   "execution_count": null,
   "id": "cd2732a1-c896-41e2-bfa2-4ea8703a41ca",
   "metadata": {},
   "outputs": [],
   "source": [
    "# Under a quard core processor, if want to run a code from 1 processor for n times then the threadingb concept come into the picture."
   ]
  },
  {
   "cell_type": "code",
   "execution_count": 8,
   "id": "002e5800-1230-4e24-81e0-cd9342a35e3d",
   "metadata": {},
   "outputs": [],
   "source": [
    "import threading"
   ]
  },
  {
   "cell_type": "code",
   "execution_count": 18,
   "id": "a3d897cc-a7cf-455f-a74f-d396ec676a14",
   "metadata": {},
   "outputs": [],
   "source": [
    "def test(id):\n",
    "    print(\"This is my test id %d\" % id)"
   ]
  },
  {
   "cell_type": "code",
   "execution_count": 19,
   "id": "f1342523-fb88-46f9-9f2a-2ebdadc8b1c8",
   "metadata": {},
   "outputs": [
    {
     "name": "stdout",
     "output_type": "stream",
     "text": [
      "This is my test id 10\n"
     ]
    }
   ],
   "source": [
    "test(10)"
   ]
  },
  {
   "cell_type": "code",
   "execution_count": 20,
   "id": "a0721574-b81c-4a76-af8f-10dd75f62e78",
   "metadata": {},
   "outputs": [
    {
     "name": "stdout",
     "output_type": "stream",
     "text": [
      "This is my test id 3\n"
     ]
    }
   ],
   "source": [
    "test(3)"
   ]
  },
  {
   "cell_type": "code",
   "execution_count": 21,
   "id": "98d4f916-e04f-4aee-a862-4527e3a03b9d",
   "metadata": {},
   "outputs": [
    {
     "name": "stdout",
     "output_type": "stream",
     "text": [
      "This is my test id 1\n"
     ]
    }
   ],
   "source": [
    "test(1)"
   ]
  },
  {
   "cell_type": "code",
   "execution_count": null,
   "id": "146b51da-ccc8-4380-a150-e622fe8111db",
   "metadata": {},
   "outputs": [],
   "source": [
    "# Now we have a task to all the input executed simultaneously in automatically order"
   ]
  },
  {
   "cell_type": "code",
   "execution_count": null,
   "id": "bf873550-1d41-4aaf-a329-baec4500ea58",
   "metadata": {},
   "outputs": [],
   "source": [
    "# This will be possible by use of thread"
   ]
  },
  {
   "cell_type": "code",
   "execution_count": 23,
   "id": "7830206e-fc9d-4681-94d1-3a3a4ca4429f",
   "metadata": {},
   "outputs": [],
   "source": [
    "thread= [threading.Thread(target=test, args=(i,)) for i in [10,3,1]]"
   ]
  },
  {
   "cell_type": "code",
   "execution_count": 24,
   "id": "0e3f64d1-f296-46e3-8cb7-f28e4ee9972a",
   "metadata": {},
   "outputs": [
    {
     "data": {
      "text/plain": [
       "[<Thread(Thread-5 (test), initial)>,\n",
       " <Thread(Thread-6 (test), initial)>,\n",
       " <Thread(Thread-7 (test), initial)>]"
      ]
     },
     "execution_count": 24,
     "metadata": {},
     "output_type": "execute_result"
    }
   ],
   "source": [
    "thread"
   ]
  },
  {
   "cell_type": "code",
   "execution_count": 25,
   "id": "33923166-6766-4d79-b567-cfc029bec029",
   "metadata": {},
   "outputs": [
    {
     "name": "stdout",
     "output_type": "stream",
     "text": [
      "This is my test id 10\n",
      "This is my test id 3\n",
      "This is my test id 1\n"
     ]
    }
   ],
   "source": [
    "for t in thread:\n",
    "    t.start()"
   ]
  },
  {
   "cell_type": "code",
   "execution_count": null,
   "id": "a0946ca5-0a61-4c7f-abbe-66e4b3c85152",
   "metadata": {},
   "outputs": [],
   "source": [
    "\"\"\" Now we have a 3 link with contain some data, if someone asked me to write a\n",
    "prograame to fetch all the data from link and stored in the local systems\"\"\" "
   ]
  },
  {
   "cell_type": "code",
   "execution_count": 26,
   "id": "cb74b867-e6c6-476d-8ed8-9d8927bb8e6f",
   "metadata": {},
   "outputs": [],
   "source": [
    "import urllib.request\n",
    "\n",
    "def file_download(url, filename):\n",
    "    urllib.request.urlretrieve(url,filename)\n",
    "    "
   ]
  },
  {
   "cell_type": "code",
   "execution_count": 30,
   "id": "9d8a5153-5041-4b61-a6d5-8c4594ccb71a",
   "metadata": {},
   "outputs": [],
   "source": [
    "file_download(\"https://github.com/Niteshk834/Data-Science-Learning/blob/main/1%20feb%20Assignment.ipynb\", \"test6.txt\")"
   ]
  },
  {
   "cell_type": "code",
   "execution_count": null,
   "id": "b8db8143-a041-4f98-b0f7-514fc9511623",
   "metadata": {},
   "outputs": [],
   "source": [
    "# Now I have to retrive all url link data in simultaneously."
   ]
  },
  {
   "cell_type": "code",
   "execution_count": 32,
   "id": "8e612742-0f9c-4595-af56-6a9f85fe3557",
   "metadata": {},
   "outputs": [],
   "source": [
    "url_list=[\"https://github.com/Niteshk834/Data-Science-Learning/blob/main/1%20feb%20Assignment.ipynb\", \"https://github.com/Niteshk834/Data-Science-Learning/blob/main/30%20jan%20assignment.ipynb\",\"https://github.com/Niteshk834/Data-Science-Learning/blob/main/Day11_Files.ipynb\" ]"
   ]
  },
  {
   "cell_type": "code",
   "execution_count": 33,
   "id": "cbf9d838-b0f2-4075-90b0-28420b73c55f",
   "metadata": {},
   "outputs": [
    {
     "data": {
      "text/plain": [
       "['https://github.com/Niteshk834/Data-Science-Learning/blob/main/1%20feb%20Assignment.ipynb',\n",
       " 'https://github.com/Niteshk834/Data-Science-Learning/blob/main/30%20jan%20assignment.ipynb',\n",
       " 'https://github.com/Niteshk834/Data-Science-Learning/blob/main/Day11_Files.ipynb']"
      ]
     },
     "execution_count": 33,
     "metadata": {},
     "output_type": "execute_result"
    }
   ],
   "source": [
    "url_list"
   ]
  },
  {
   "cell_type": "code",
   "execution_count": 34,
   "id": "7a6f68cc-df7b-4db0-8a64-c5b5b046c0a0",
   "metadata": {},
   "outputs": [],
   "source": [
    "data_file_list=[\"data1.txt\",\"data2.txt\",\"data3.txt\"] # Here file will be downloaded"
   ]
  },
  {
   "cell_type": "code",
   "execution_count": 35,
   "id": "0ddc95a7-a219-4a52-9aef-aefaa27937bd",
   "metadata": {},
   "outputs": [
    {
     "data": {
      "text/plain": [
       "['data1.txt', 'data2.txt', 'data3.txt']"
      ]
     },
     "execution_count": 35,
     "metadata": {},
     "output_type": "execute_result"
    }
   ],
   "source": [
    "data_file_list"
   ]
  },
  {
   "cell_type": "code",
   "execution_count": null,
   "id": "c28b87e9-4222-40bb-84ab-ad8233ff5602",
   "metadata": {},
   "outputs": [],
   "source": [
    "# Now our basic function ready, url ready and data where we have to store is ready."
   ]
  },
  {
   "cell_type": "code",
   "execution_count": 43,
   "id": "d50ee3aa-a949-4e63-9715-c96be6036b53",
   "metadata": {},
   "outputs": [],
   "source": [
    "thread1= [threading.Thread(target= file_download,args=(url_list[i],data_file_list[i])) for i in range (len(url_list))]"
   ]
  },
  {
   "cell_type": "code",
   "execution_count": 44,
   "id": "342c92d4-9bb2-4791-88b8-3ad8f0c2e07b",
   "metadata": {},
   "outputs": [],
   "source": [
    "for t in thread1:\n",
    "    t.start()"
   ]
  },
  {
   "cell_type": "code",
   "execution_count": 45,
   "id": "0cc5dc38-f839-4576-b3a2-59970e7147fb",
   "metadata": {},
   "outputs": [
    {
     "data": {
      "text/plain": [
       "[<Thread(Thread-8 (file_download), stopped 139823567324736)>,\n",
       " <Thread(Thread-9 (file_download), stopped 139823544251968)>,\n",
       " <Thread(Thread-10 (file_download), stopped 139823197189696)>]"
      ]
     },
     "execution_count": 45,
     "metadata": {},
     "output_type": "execute_result"
    }
   ],
   "source": [
    "thread1"
   ]
  },
  {
   "cell_type": "code",
   "execution_count": null,
   "id": "b09143aa-363f-4622-8f18-b3c77f82373c",
   "metadata": {},
   "outputs": [],
   "source": [
    "# Another Example"
   ]
  },
  {
   "cell_type": "code",
   "execution_count": 23,
   "id": "73a466f8-4045-4915-b9ab-be58cff42286",
   "metadata": {},
   "outputs": [],
   "source": [
    "import time"
   ]
  },
  {
   "cell_type": "code",
   "execution_count": 24,
   "id": "3e8245f0-5d92-4c2c-bff1-9065dc2a6249",
   "metadata": {},
   "outputs": [],
   "source": [
    "def test2(x):\n",
    "    for i in range(10):\n",
    "        print(\"test2: the value of x is %d and the value of i is %d\" %(x,i))\n",
    "        time.sleep(1)"
   ]
  },
  {
   "cell_type": "code",
   "execution_count": 10,
   "id": "1aac044f-5f02-4bc1-a19a-1dc061fa927d",
   "metadata": {},
   "outputs": [
    {
     "name": "stdout",
     "output_type": "stream",
     "text": [
      "test2: the value of x is 3 and the value of i is 0\n",
      "test2: the value of x is 3 and the value of i is 1\n",
      "test2: the value of x is 3 and the value of i is 2\n",
      "test2: the value of x is 3 and the value of i is 3\n",
      "test2: the value of x is 3 and the value of i is 4\n",
      "test2: the value of x is 3 and the value of i is 5\n",
      "test2: the value of x is 3 and the value of i is 6\n",
      "test2: the value of x is 3 and the value of i is 7\n",
      "test2: the value of x is 3 and the value of i is 8\n",
      "test2: the value of x is 3 and the value of i is 9\n"
     ]
    }
   ],
   "source": [
    "test2(3) # result will get in every 2 second becuase of sleep command"
   ]
  },
  {
   "cell_type": "code",
   "execution_count": 9,
   "id": "b3602c7f-8ee0-4a03-8f38-36833046f7ff",
   "metadata": {},
   "outputs": [],
   "source": [
    "# Now I have a task when we have a multiple input and need to execute simultaneously.\n",
    "# Here we will have to create thread"
   ]
  },
  {
   "cell_type": "code",
   "execution_count": 25,
   "id": "d3e2042b-b6ae-48d2-b0b3-372f92515421",
   "metadata": {},
   "outputs": [],
   "source": [
    "import threading"
   ]
  },
  {
   "cell_type": "code",
   "execution_count": 26,
   "id": "b1290be9-a48a-4489-8206-e3b7cacc3da8",
   "metadata": {},
   "outputs": [],
   "source": [
    "thread2= [threading.Thread(target= test2,args=(i,)) for i in [100,20,30,5]]"
   ]
  },
  {
   "cell_type": "code",
   "execution_count": 27,
   "id": "19a1240b-7758-484c-8cef-1d907ed20e3f",
   "metadata": {},
   "outputs": [
    {
     "name": "stdout",
     "output_type": "stream",
     "text": [
      "test2: the value of x is 100 and the value of i is 0\n",
      "test2: the value of x is 20 and the value of i is 0\n",
      "test2: the value of x is 30 and the value of i is 0\n",
      "test2: the value of x is 5 and the value of i is 0\n",
      "test2: the value of x is 100 and the value of i is 1\n",
      "test2: the value of x is 20 and the value of i is 1\n",
      "test2: the value of x is 30 and the value of i is 1\n",
      "test2: the value of x is 5 and the value of i is 1\n",
      "test2: the value of x is 100 and the value of i is 2\n",
      "test2: the value of x is 20 and the value of i is 2\n",
      "test2: the value of x is 30 and the value of i is 2\n",
      "test2: the value of x is 5 and the value of i is 2\n",
      "test2: the value of x is 100 and the value of i is 3\n",
      "test2: the value of x is 20 and the value of i is 3\n",
      "test2: the value of x is 30 and the value of i is 3\n",
      "test2: the value of x is 5 and the value of i is 3\n",
      "test2: the value of x is 100 and the value of i is 4\n",
      "test2: the value of x is 20 and the value of i is 4\n",
      "test2: the value of x is 30 and the value of i is 4\n",
      "test2: the value of x is 5 and the value of i is 4\n",
      "test2: the value of x is 20 and the value of i is 5\n",
      "test2: the value of x is 100 and the value of i is 5\n",
      "test2: the value of x is 30 and the value of i is 5\n",
      "test2: the value of x is 5 and the value of i is 5\n",
      "test2: the value of x is 20 and the value of i is 6test2: the value of x is 5 and the value of i is 6\n",
      "\n",
      "test2: the value of x is 100 and the value of i is 6\n",
      "test2: the value of x is 30 and the value of i is 6\n",
      "test2: the value of x is 20 and the value of i is 7test2: the value of x is 5 and the value of i is 7\n",
      "\n",
      "test2: the value of x is 100 and the value of i is 7\n",
      "test2: the value of x is 30 and the value of i is 7\n",
      "test2: the value of x is 20 and the value of i is 8test2: the value of x is 5 and the value of i is 8\n",
      "\n",
      "test2: the value of x is 100 and the value of i is 8\n",
      "test2: the value of x is 30 and the value of i is 8\n",
      "test2: the value of x is 5 and the value of i is 9\n",
      "test2: the value of x is 100 and the value of i is 9\n",
      "test2: the value of x is 30 and the value of i is 9\n",
      "test2: the value of x is 20 and the value of i is 9\n"
     ]
    }
   ],
   "source": [
    "for t in thread2:\n",
    "    t.start()"
   ]
  },
  {
   "cell_type": "code",
   "execution_count": null,
   "id": "d8c234d9-2d30-4d72-bacf-98f2c0fcdb30",
   "metadata": {},
   "outputs": [],
   "source": [
    "# Without time.sleep"
   ]
  },
  {
   "cell_type": "code",
   "execution_count": 17,
   "id": "03d64bd3-bee7-4f42-b961-17d0d9f21269",
   "metadata": {},
   "outputs": [],
   "source": [
    "import time"
   ]
  },
  {
   "cell_type": "code",
   "execution_count": 18,
   "id": "8e167852-9a3f-4d35-9d0a-c1918317bd31",
   "metadata": {},
   "outputs": [],
   "source": [
    "def test2(x):\n",
    "    for i in range(10):\n",
    "        print(\"test2: the value of x is %d and the value of i is %d\" %(x,i))\n",
    "        #time.sleep(2)"
   ]
  },
  {
   "cell_type": "code",
   "execution_count": 19,
   "id": "8f40d5a8-01c8-4dcd-a5a0-f93f0b239e31",
   "metadata": {},
   "outputs": [],
   "source": [
    "import threading"
   ]
  },
  {
   "cell_type": "code",
   "execution_count": 20,
   "id": "f40c6e45-df4f-4c65-b161-c5d498e7721c",
   "metadata": {},
   "outputs": [],
   "source": [
    "thread2= [threading.Thread(target= test2,args=(i,)) for i in [100,20,30,5]]"
   ]
  },
  {
   "cell_type": "code",
   "execution_count": 21,
   "id": "d3f1a437-6a66-4cf1-b8f5-1b83e3f552da",
   "metadata": {},
   "outputs": [
    {
     "name": "stdout",
     "output_type": "stream",
     "text": [
      "test2: the value of x is 100 and the value of i is 0\n",
      "test2: the value of x is 100 and the value of i is 1\n",
      "test2: the value of x is 100 and the value of i is 2\n",
      "test2: the value of x is 100 and the value of i is 3\n",
      "test2: the value of x is 100 and the value of i is 4\n",
      "test2: the value of x is 100 and the value of i is 5\n",
      "test2: the value of x is 100 and the value of i is 6\n",
      "test2: the value of x is 100 and the value of i is 7\n",
      "test2: the value of x is 100 and the value of i is 8\n",
      "test2: the value of x is 100 and the value of i is 9\n",
      "test2: the value of x is 20 and the value of i is 0\n",
      "test2: the value of x is 20 and the value of i is 1\n",
      "test2: the value of x is 20 and the value of i is 2\n",
      "test2: the value of x is 20 and the value of i is 3\n",
      "test2: the value of x is 20 and the value of i is 4\n",
      "test2: the value of x is 20 and the value of i is 5\n",
      "test2: the value of x is 20 and the value of i is 6\n",
      "test2: the value of x is 20 and the value of i is 7\n",
      "test2: the value of x is 20 and the value of i is 8\n",
      "test2: the value of x is 20 and the value of i is 9\n",
      "test2: the value of x is 30 and the value of i is 0\n",
      "test2: the value of x is 30 and the value of i is 1\n",
      "test2: the value of x is 30 and the value of i is 2\n",
      "test2: the value of x is 30 and the value of i is 3\n",
      "test2: the value of x is 30 and the value of i is 4\n",
      "test2: the value of x is 30 and the value of i is 5\n",
      "test2: the value of x is 30 and the value of i is 6\n",
      "test2: the value of x is 30 and the value of i is 7\n",
      "test2: the value of x is 30 and the value of i is 8\n",
      "test2: the value of x is 30 and the value of i is 9\n",
      "test2: the value of x is 5 and the value of i is 0\n",
      "test2: the value of x is 5 and the value of i is 1\n",
      "test2: the value of x is 5 and the value of i is 2\n",
      "test2: the value of x is 5 and the value of i is 3\n",
      "test2: the value of x is 5 and the value of i is 4\n",
      "test2: the value of x is 5 and the value of i is 5\n",
      "test2: the value of x is 5 and the value of i is 6\n",
      "test2: the value of x is 5 and the value of i is 7\n",
      "test2: the value of x is 5 and the value of i is 8\n",
      "test2: the value of x is 5 and the value of i is 9\n"
     ]
    }
   ],
   "source": [
    "for t in thread2:\n",
    "    t.start()"
   ]
  },
  {
   "cell_type": "code",
   "execution_count": 28,
   "id": "541cebe5-8f6d-4a43-83a5-c56c4335c2a6",
   "metadata": {},
   "outputs": [],
   "source": [
    "# Another example"
   ]
  },
  {
   "cell_type": "code",
   "execution_count": null,
   "id": "690afc62-560e-4992-8b9e-c5074c053db6",
   "metadata": {},
   "outputs": [],
   "source": [
    "# I want to run multiple programme or call multiple function and all function must be updated one by one"
   ]
  },
  {
   "cell_type": "code",
   "execution_count": 38,
   "id": "8978dd5e-edb4-4ab9-a429-f97f65294dd2",
   "metadata": {},
   "outputs": [],
   "source": [
    "shared_var=0 \n",
    "locked_var= threading.Lock() # lock function basically when one is using then noone else to be  able to used or modified.\n",
    "def test3(x):\n",
    "    global shared_var # global is the key in python to make a variable accesible to every one\n",
    "    with locked_var:\n",
    "        shared_var=shared_var+1\n",
    "        print(\"The value of x %d and the value of shared_var %d\" %(x,shared_var))\n",
    "        time.sleep(1)\n",
    "    "
   ]
  },
  {
   "cell_type": "code",
   "execution_count": 30,
   "id": "67b00ba3-42c6-43ca-adac-e9bb0d8d15cc",
   "metadata": {},
   "outputs": [
    {
     "name": "stdout",
     "output_type": "stream",
     "text": [
      "The value of x 2 and the value of shared_var 1\n"
     ]
    }
   ],
   "source": [
    "test3(2)"
   ]
  },
  {
   "cell_type": "code",
   "execution_count": 32,
   "id": "5d9fa6ee-472e-4126-883d-a0976c47ac21",
   "metadata": {},
   "outputs": [
    {
     "name": "stdout",
     "output_type": "stream",
     "text": [
      "The value of x 5 and the value of shared_var 2\n"
     ]
    }
   ],
   "source": [
    "test3(5)"
   ]
  },
  {
   "cell_type": "code",
   "execution_count": null,
   "id": "dd0d3df9-fdb0-4118-9b76-688bec631070",
   "metadata": {},
   "outputs": [],
   "source": [
    "# Now I would like to call the above programme simultaneously"
   ]
  },
  {
   "cell_type": "code",
   "execution_count": 39,
   "id": "6d344fab-d54e-43a0-9eda-e025b34d087c",
   "metadata": {},
   "outputs": [],
   "source": [
    "import threading"
   ]
  },
  {
   "cell_type": "code",
   "execution_count": 40,
   "id": "4e1cafab-6332-40e2-ab58-eb91af21bce1",
   "metadata": {},
   "outputs": [],
   "source": [
    "thread3= [threading.Thread(target=test3, args=(i,)) for i in [1,2,3,4,5]]"
   ]
  },
  {
   "cell_type": "code",
   "execution_count": 41,
   "id": "c6fe61f0-5c33-4dbb-8161-00a5f192bb17",
   "metadata": {},
   "outputs": [
    {
     "name": "stdout",
     "output_type": "stream",
     "text": [
      "The value of x 1 and the value of shared_var 1\n",
      "The value of x 2 and the value of shared_var 2\n",
      "The value of x 3 and the value of shared_var 3\n",
      "The value of x 4 and the value of shared_var 4\n",
      "The value of x 5 and the value of shared_var 5\n"
     ]
    }
   ],
   "source": [
    "for t in thread3:\n",
    "    t.start()"
   ]
  },
  {
   "cell_type": "code",
   "execution_count": null,
   "id": "0f0a2925-2e50-46dc-b917-761a25afe8e4",
   "metadata": {},
   "outputs": [],
   "source": []
  }
 ],
 "metadata": {
  "kernelspec": {
   "display_name": "Python 3 (ipykernel)",
   "language": "python",
   "name": "python3"
  },
  "language_info": {
   "codemirror_mode": {
    "name": "ipython",
    "version": 3
   },
   "file_extension": ".py",
   "mimetype": "text/x-python",
   "name": "python",
   "nbconvert_exporter": "python",
   "pygments_lexer": "ipython3",
   "version": "3.10.8"
  }
 },
 "nbformat": 4,
 "nbformat_minor": 5
}
