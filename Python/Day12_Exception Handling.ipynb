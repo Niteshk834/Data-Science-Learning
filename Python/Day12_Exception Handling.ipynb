{
 "cells": [
  {
   "cell_type": "markdown",
   "id": "ae08de9d-e96b-4b38-a522-5ef352cb03cf",
   "metadata": {},
   "source": [
    "# Date 12 Feb 2023"
   ]
  },
  {
   "cell_type": "markdown",
   "id": "8c34d913-b28f-4b07-ba9c-4364d109fe67",
   "metadata": {},
   "source": [
    "## Exceptions Handling"
   ]
  },
  {
   "cell_type": "code",
   "execution_count": 1,
   "id": "520fb698-5ed5-4397-8341-9abec715c25a",
   "metadata": {},
   "outputs": [],
   "source": [
    "a=10"
   ]
  },
  {
   "cell_type": "code",
   "execution_count": 3,
   "id": "3dacd4aa-4a0d-469f-815c-cf3021b92c73",
   "metadata": {},
   "outputs": [
    {
     "ename": "ZeroDivisionError",
     "evalue": "division by zero",
     "output_type": "error",
     "traceback": [
      "\u001b[0;31m---------------------------------------------------------------------------\u001b[0m",
      "\u001b[0;31mZeroDivisionError\u001b[0m                         Traceback (most recent call last)",
      "Cell \u001b[0;32mIn[3], line 1\u001b[0m\n\u001b[0;32m----> 1\u001b[0m \u001b[43ma\u001b[49m\u001b[38;5;241;43m/\u001b[39;49m\u001b[38;5;241;43m0\u001b[39;49m\n",
      "\u001b[0;31mZeroDivisionError\u001b[0m: division by zero"
     ]
    }
   ],
   "source": [
    "a/0"
   ]
  },
  {
   "cell_type": "code",
   "execution_count": 4,
   "id": "e5e81bd3-3813-402a-a564-7f8cec0e28b3",
   "metadata": {},
   "outputs": [],
   "source": [
    "# similarly"
   ]
  },
  {
   "cell_type": "code",
   "execution_count": 7,
   "id": "bdfb072d-ab76-4190-a556-0693942ff327",
   "metadata": {},
   "outputs": [
    {
     "ename": "FileNotFoundError",
     "evalue": "[Errno 2] No such file or directory: 'test5.txt'",
     "output_type": "error",
     "traceback": [
      "\u001b[0;31m---------------------------------------------------------------------------\u001b[0m",
      "\u001b[0;31mFileNotFoundError\u001b[0m                         Traceback (most recent call last)",
      "Cell \u001b[0;32mIn[7], line 1\u001b[0m\n\u001b[0;32m----> 1\u001b[0m f\u001b[38;5;241m=\u001b[39m\u001b[38;5;28;43mopen\u001b[39;49m\u001b[43m \u001b[49m\u001b[43m(\u001b[49m\u001b[38;5;124;43m\"\u001b[39;49m\u001b[38;5;124;43mtest5.txt\u001b[39;49m\u001b[38;5;124;43m\"\u001b[39;49m\u001b[43m,\u001b[49m\u001b[43m \u001b[49m\u001b[38;5;124;43m\"\u001b[39;49m\u001b[38;5;124;43mr\u001b[39;49m\u001b[38;5;124;43m\"\u001b[39;49m\u001b[43m)\u001b[49m\n",
      "File \u001b[0;32m/opt/conda/lib/python3.10/site-packages/IPython/core/interactiveshell.py:282\u001b[0m, in \u001b[0;36m_modified_open\u001b[0;34m(file, *args, **kwargs)\u001b[0m\n\u001b[1;32m    275\u001b[0m \u001b[38;5;28;01mif\u001b[39;00m file \u001b[38;5;129;01min\u001b[39;00m {\u001b[38;5;241m0\u001b[39m, \u001b[38;5;241m1\u001b[39m, \u001b[38;5;241m2\u001b[39m}:\n\u001b[1;32m    276\u001b[0m     \u001b[38;5;28;01mraise\u001b[39;00m \u001b[38;5;167;01mValueError\u001b[39;00m(\n\u001b[1;32m    277\u001b[0m         \u001b[38;5;124mf\u001b[39m\u001b[38;5;124m\"\u001b[39m\u001b[38;5;124mIPython won\u001b[39m\u001b[38;5;124m'\u001b[39m\u001b[38;5;124mt let you open fd=\u001b[39m\u001b[38;5;132;01m{\u001b[39;00mfile\u001b[38;5;132;01m}\u001b[39;00m\u001b[38;5;124m by default \u001b[39m\u001b[38;5;124m\"\u001b[39m\n\u001b[1;32m    278\u001b[0m         \u001b[38;5;124m\"\u001b[39m\u001b[38;5;124mas it is likely to crash IPython. If you know what you are doing, \u001b[39m\u001b[38;5;124m\"\u001b[39m\n\u001b[1;32m    279\u001b[0m         \u001b[38;5;124m\"\u001b[39m\u001b[38;5;124myou can use builtins\u001b[39m\u001b[38;5;124m'\u001b[39m\u001b[38;5;124m open.\u001b[39m\u001b[38;5;124m\"\u001b[39m\n\u001b[1;32m    280\u001b[0m     )\n\u001b[0;32m--> 282\u001b[0m \u001b[38;5;28;01mreturn\u001b[39;00m \u001b[43mio_open\u001b[49m\u001b[43m(\u001b[49m\u001b[43mfile\u001b[49m\u001b[43m,\u001b[49m\u001b[43m \u001b[49m\u001b[38;5;241;43m*\u001b[39;49m\u001b[43margs\u001b[49m\u001b[43m,\u001b[49m\u001b[43m \u001b[49m\u001b[38;5;241;43m*\u001b[39;49m\u001b[38;5;241;43m*\u001b[39;49m\u001b[43mkwargs\u001b[49m\u001b[43m)\u001b[49m\n",
      "\u001b[0;31mFileNotFoundError\u001b[0m: [Errno 2] No such file or directory: 'test5.txt'"
     ]
    }
   ],
   "source": [
    "f=open (\"test5.txt\", \"r\") # After execution of this code we get an error of File not found error even syntax have no error\n",
    "print(\"This is my print\") # This code will also f=give error becuase of privious code error"
   ]
  },
  {
   "cell_type": "code",
   "execution_count": 8,
   "id": "218e0ac6-dcac-4aad-97d9-a07d38768b6e",
   "metadata": {},
   "outputs": [],
   "source": [
    "# So now what we will do whenever we have miilion of code line?\n",
    "# Here exceptions handling come into the picture"
   ]
  },
  {
   "cell_type": "code",
   "execution_count": 11,
   "id": "3a5a6495-0d18-4bd7-8656-862a35bc53b1",
   "metadata": {},
   "outputs": [
    {
     "name": "stdout",
     "output_type": "stream",
     "text": [
      "There is something error in my code [Errno 2] No such file or directory: 'test5.txt'\n",
      "This is my print and the value is 10\n"
     ]
    }
   ],
   "source": [
    "try:\n",
    "    f=open (\"test5.txt\", \"r\")\n",
    "except Exception as e:\n",
    "    print(\"There is something error in my code\", e)\n",
    "# Exception handling is allow to execute my next code and that is the power of this.\n",
    "    \n",
    "a=10\n",
    "print (\"This is my print and the value is\",a )\n",
    "    \n",
    "    "
   ]
  },
  {
   "cell_type": "code",
   "execution_count": 12,
   "id": "a725f826-d10b-468f-809f-e97e280e5f26",
   "metadata": {},
   "outputs": [],
   "source": [
    "# Now we will try to understand about the else block."
   ]
  },
  {
   "cell_type": "code",
   "execution_count": 14,
   "id": "c8a56ca1-5325-4c6e-85da-c96d068d433b",
   "metadata": {},
   "outputs": [],
   "source": [
    "try:\n",
    "    f=open (\"test5.txt\", \"w\")\n",
    "    f.write(\"This is my written message\")\n",
    "    f.close()\n",
    "except Exception as e:\n",
    "    print(\"There is something error in my code\", e)"
   ]
  },
  {
   "cell_type": "code",
   "execution_count": null,
   "id": "61d965f3-f630-4591-8a13-bb2023988ea5",
   "metadata": {},
   "outputs": [],
   "source": [
    "# Now we will try to close the file under else block"
   ]
  },
  {
   "cell_type": "code",
   "execution_count": 15,
   "id": "9a58d64c-a4fb-475e-9310-a87e9822b5e1",
   "metadata": {},
   "outputs": [
    {
     "name": "stdout",
     "output_type": "stream",
     "text": [
      "This block will execute once a try block execute itself without an exception\n"
     ]
    }
   ],
   "source": [
    "try:\n",
    "    f=open (\"test5.txt\", \"w\")\n",
    "    f.write(\"This is my written message\")\n",
    "except Exception as e:\n",
    "    print(\"There is something error in my code\", e)\n",
    "    \n",
    "else:\n",
    "    f.close()\n",
    "    print(\"This block will execute once a try block execute itself without an exception\")"
   ]
  },
  {
   "cell_type": "code",
   "execution_count": 16,
   "id": "44f77af0-df5f-495b-8566-3d980665533a",
   "metadata": {},
   "outputs": [],
   "source": [
    "# Lets see an example too understand if try block not execute itself and give error"
   ]
  },
  {
   "cell_type": "code",
   "execution_count": 19,
   "id": "c2490bf3-f1a2-4cbf-8db5-734454362d6b",
   "metadata": {},
   "outputs": [
    {
     "name": "stdout",
     "output_type": "stream",
     "text": [
      "There is something error in my code [Errno 2] No such file or directory: 'test6.txt'\n"
     ]
    }
   ],
   "source": [
    "try:\n",
    "    f=open (\"test6.txt\", \"r\") # Here try block not execute itself and give error becuase test6.txt not exist\n",
    "                                # and jump to exception not jumped on else block.\n",
    "    f.write(\"This is my read mode\")\n",
    "except Exception as e:\n",
    "    print(\"There is something error in my code\", e)\n",
    "    \n",
    "else:\n",
    "    f.close()\n",
    "    print(\"This block will execute once a try block execute itself without an exception\")"
   ]
  },
  {
   "cell_type": "code",
   "execution_count": 20,
   "id": "a9a769e7-2970-4783-a04b-153d4b65531b",
   "metadata": {},
   "outputs": [],
   "source": [
    "# After the 3 exceptions block i.e. try, except and else, another block is finally block"
   ]
  },
  {
   "cell_type": "code",
   "execution_count": 21,
   "id": "4c49ac3c-3b05-4522-a416-9bb38ab4c0d5",
   "metadata": {},
   "outputs": [
    {
     "name": "stdout",
     "output_type": "stream",
     "text": [
      "This will always execute\n"
     ]
    },
    {
     "ename": "FileNotFoundError",
     "evalue": "[Errno 2] No such file or directory: 'test6.txt'",
     "output_type": "error",
     "traceback": [
      "\u001b[0;31m---------------------------------------------------------------------------\u001b[0m",
      "\u001b[0;31mFileNotFoundError\u001b[0m                         Traceback (most recent call last)",
      "Cell \u001b[0;32mIn[21], line 2\u001b[0m\n\u001b[1;32m      1\u001b[0m \u001b[38;5;28;01mtry\u001b[39;00m:\n\u001b[0;32m----> 2\u001b[0m     f\u001b[38;5;241m=\u001b[39m\u001b[38;5;28;43mopen\u001b[39;49m\u001b[43m \u001b[49m\u001b[43m(\u001b[49m\u001b[38;5;124;43m\"\u001b[39;49m\u001b[38;5;124;43mtest6.txt\u001b[39;49m\u001b[38;5;124;43m\"\u001b[39;49m\u001b[43m,\u001b[49m\u001b[43m \u001b[49m\u001b[38;5;124;43m\"\u001b[39;49m\u001b[38;5;124;43mr\u001b[39;49m\u001b[38;5;124;43m\"\u001b[39;49m\u001b[43m)\u001b[49m\n\u001b[1;32m      3\u001b[0m     f\u001b[38;5;241m.\u001b[39mwrite(\u001b[38;5;124m\"\u001b[39m\u001b[38;5;124mThis is my message\u001b[39m\u001b[38;5;124m\"\u001b[39m)\n\u001b[1;32m      5\u001b[0m \u001b[38;5;28;01mfinally\u001b[39;00m  :\n",
      "File \u001b[0;32m/opt/conda/lib/python3.10/site-packages/IPython/core/interactiveshell.py:282\u001b[0m, in \u001b[0;36m_modified_open\u001b[0;34m(file, *args, **kwargs)\u001b[0m\n\u001b[1;32m    275\u001b[0m \u001b[38;5;28;01mif\u001b[39;00m file \u001b[38;5;129;01min\u001b[39;00m {\u001b[38;5;241m0\u001b[39m, \u001b[38;5;241m1\u001b[39m, \u001b[38;5;241m2\u001b[39m}:\n\u001b[1;32m    276\u001b[0m     \u001b[38;5;28;01mraise\u001b[39;00m \u001b[38;5;167;01mValueError\u001b[39;00m(\n\u001b[1;32m    277\u001b[0m         \u001b[38;5;124mf\u001b[39m\u001b[38;5;124m\"\u001b[39m\u001b[38;5;124mIPython won\u001b[39m\u001b[38;5;124m'\u001b[39m\u001b[38;5;124mt let you open fd=\u001b[39m\u001b[38;5;132;01m{\u001b[39;00mfile\u001b[38;5;132;01m}\u001b[39;00m\u001b[38;5;124m by default \u001b[39m\u001b[38;5;124m\"\u001b[39m\n\u001b[1;32m    278\u001b[0m         \u001b[38;5;124m\"\u001b[39m\u001b[38;5;124mas it is likely to crash IPython. If you know what you are doing, \u001b[39m\u001b[38;5;124m\"\u001b[39m\n\u001b[1;32m    279\u001b[0m         \u001b[38;5;124m\"\u001b[39m\u001b[38;5;124myou can use builtins\u001b[39m\u001b[38;5;124m'\u001b[39m\u001b[38;5;124m open.\u001b[39m\u001b[38;5;124m\"\u001b[39m\n\u001b[1;32m    280\u001b[0m     )\n\u001b[0;32m--> 282\u001b[0m \u001b[38;5;28;01mreturn\u001b[39;00m \u001b[43mio_open\u001b[49m\u001b[43m(\u001b[49m\u001b[43mfile\u001b[49m\u001b[43m,\u001b[49m\u001b[43m \u001b[49m\u001b[38;5;241;43m*\u001b[39;49m\u001b[43margs\u001b[49m\u001b[43m,\u001b[49m\u001b[43m \u001b[49m\u001b[38;5;241;43m*\u001b[39;49m\u001b[38;5;241;43m*\u001b[39;49m\u001b[43mkwargs\u001b[49m\u001b[43m)\u001b[49m\n",
      "\u001b[0;31mFileNotFoundError\u001b[0m: [Errno 2] No such file or directory: 'test6.txt'"
     ]
    }
   ],
   "source": [
    "try:\n",
    "    f=open (\"test6.txt\", \"r\")\n",
    "    f.write(\"This is my message\")\n",
    "    \n",
    "finally  : # If we are not able to handle code in try block then it give error but still under finally block, code will be execute.\n",
    "    print(\"This will always execute\")\n",
    "    \n",
    "# If we have to execute any code at any cost , then put that code under finally block.    "
   ]
  },
  {
   "cell_type": "code",
   "execution_count": 23,
   "id": "01d31e7c-1465-4e98-89f3-445dfd171e3a",
   "metadata": {},
   "outputs": [
    {
     "name": "stdout",
     "output_type": "stream",
     "text": [
      "There is something error in my code [Errno 2] No such file or directory: 'test6.txt'\n",
      "We are the code under finally, so we will execute always\n"
     ]
    }
   ],
   "source": [
    "try:\n",
    "    f=open (\"test6.txt\", \"r\") # Here try block not execute itself and give error becuase test6.txt not exist\n",
    "                                # and jump to exception not jumped on else block.\n",
    "    f.write(\"This is my read mode\")\n",
    "except Exception as e:\n",
    "    print(\"There is something error in my code\", e)\n",
    "    \n",
    "else:\n",
    "    f.close()\n",
    "    print(\"This block will execute once a try block execute itself without an exception\")\n",
    "    \n",
    "finally:\n",
    "    print(\"We are the code under finally, so we will execute always\")"
   ]
  },
  {
   "cell_type": "code",
   "execution_count": 24,
   "id": "3e2f3569-c72e-4036-a68f-169c55b0d7e5",
   "metadata": {},
   "outputs": [
    {
     "name": "stdout",
     "output_type": "stream",
     "text": [
      "This block will execute once a try block execute itself without an exception\n",
      "We are the code under finally, so we will execute always\n"
     ]
    }
   ],
   "source": [
    "try:\n",
    "    f=open (\"test6.txt\", \"w\") \n",
    "    f.write(\"This is my read mode\")\n",
    "except Exception as e:\n",
    "    print(\"There is something error in my code\", e)\n",
    "    \n",
    "else:\n",
    "    f.close()\n",
    "    print(\"This block will execute once a try block execute itself without an exception\")\n",
    "    \n",
    "finally:\n",
    "    print(\"We are the code under finally, so we will execute always\")"
   ]
  },
  {
   "cell_type": "markdown",
   "id": "b06480db-1613-4d54-a507-7f767b02181e",
   "metadata": {},
   "source": [
    " # custom exception handling"
   ]
  },
  {
   "cell_type": "code",
   "execution_count": 25,
   "id": "2993f138-2e79-41b8-8b3b-383b2101d31b",
   "metadata": {},
   "outputs": [],
   "source": [
    "# The situation where exception is not for system it's for us. Then what will we do?"
   ]
  },
  {
   "cell_type": "code",
   "execution_count": 31,
   "id": "edb1098b-5357-4d62-86d4-d76b95a4aab4",
   "metadata": {},
   "outputs": [
    {
     "name": "stdin",
     "output_type": "stream",
     "text": [
      "Enter your age -23456\n"
     ]
    }
   ],
   "source": [
    "age=int(input(\"Enter your age\")) # If we entered the negative age number then taht is exception for us not for sysytem.\n"
   ]
  },
  {
   "cell_type": "code",
   "execution_count": 30,
   "id": "bc2462a6-afe2-490d-8592-24395af66b93",
   "metadata": {},
   "outputs": [],
   "source": [
    "# In this situation we can create our own custom exception"
   ]
  },
  {
   "cell_type": "code",
   "execution_count": 44,
   "id": "1adb863a-519e-4b3e-b666-b6ff3900fd80",
   "metadata": {},
   "outputs": [],
   "source": [
    "class validateage(Exception): # Inheritence Exception alraedy available in python\n",
    "    def __init__(self,msg):\n",
    "        self.msg=msg     "
   ]
  },
  {
   "cell_type": "code",
   "execution_count": 48,
   "id": "8da89883-ad4c-4661-a263-21c49716ad4b",
   "metadata": {},
   "outputs": [],
   "source": [
    "def validate_age(age):\n",
    "    if age < 0:\n",
    "        raise validateage (\"Age should not not be lesser than 0\")        # raise is a reserved keyword for call custom class in python.\n",
    "        \n",
    "    elif age>200:\n",
    "        raise validateage(\"Age is too high\")\n",
    "        \n",
    "    else :\n",
    "        print (\"Age is valid\")\n",
    "    \n",
    "       "
   ]
  },
  {
   "cell_type": "code",
   "execution_count": 52,
   "id": "57ffa446-cfe6-4cb7-8100-e333b6df3a03",
   "metadata": {},
   "outputs": [
    {
     "name": "stdin",
     "output_type": "stream",
     "text": [
      "Enter your age 34\n"
     ]
    },
    {
     "name": "stdout",
     "output_type": "stream",
     "text": [
      "Age is valid\n"
     ]
    }
   ],
   "source": [
    "try:\n",
    "    age=int(input(\"Enter your age\"))\n",
    "    validate_age(age)\n",
    "    \n",
    "except validateage as e:\n",
    "    print(e)  \n",
    "        "
   ]
  },
  {
   "cell_type": "code",
   "execution_count": null,
   "id": "966f92c2-521e-48b4-b6a3-1f9799064345",
   "metadata": {},
   "outputs": [],
   "source": [
    "0"
   ]
  }
 ],
 "metadata": {
  "kernelspec": {
   "display_name": "Python 3 (ipykernel)",
   "language": "python",
   "name": "python3"
  },
  "language_info": {
   "codemirror_mode": {
    "name": "ipython",
    "version": 3
   },
   "file_extension": ".py",
   "mimetype": "text/x-python",
   "name": "python",
   "nbconvert_exporter": "python",
   "pygments_lexer": "ipython3",
   "version": "3.10.8"
  }
 },
 "nbformat": 4,
 "nbformat_minor": 5
}
