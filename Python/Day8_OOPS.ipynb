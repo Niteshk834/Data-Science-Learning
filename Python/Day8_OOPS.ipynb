{
 "cells": [
  {
   "cell_type": "markdown",
   "id": "a0b45ac1-6207-4f0e-adeb-58c2617a1db6",
   "metadata": {},
   "source": [
    "# Date - 05 feb 2023"
   ]
  },
  {
   "cell_type": "markdown",
   "id": "93e26f73-949b-4067-a5b7-85773f7653e2",
   "metadata": {},
   "source": [
    "# Oops= Object oriented programming system"
   ]
  },
  {
   "cell_type": "code",
   "execution_count": 2,
   "id": "a778abe9-c2c4-4425-b2e5-53cb85d73b6b",
   "metadata": {},
   "outputs": [
    {
     "ename": "SyntaxError",
     "evalue": "incomplete input (2391559855.py, line 1)",
     "output_type": "error",
     "traceback": [
      "\u001b[0;36m  Cell \u001b[0;32mIn[2], line 1\u001b[0;36m\u001b[0m\n\u001b[0;31m    class test():\u001b[0m\n\u001b[0m                 ^\u001b[0m\n\u001b[0;31mSyntaxError\u001b[0m\u001b[0;31m:\u001b[0m incomplete input\n"
     ]
    }
   ],
   "source": [
    "class test(): "
   ]
  },
  {
   "cell_type": "code",
   "execution_count": 4,
   "id": "c172167f-0830-4a70-be87-4805731c35c4",
   "metadata": {},
   "outputs": [],
   "source": [
    "class test():\n",
    "    pass     # pass are basically used whenever we don't used any input and want to run the programme."
   ]
  },
  {
   "cell_type": "code",
   "execution_count": 5,
   "id": "303be3bd-3fe3-4f72-a653-7f3b072abd02",
   "metadata": {},
   "outputs": [],
   "source": [
    "a= test()"
   ]
  },
  {
   "cell_type": "code",
   "execution_count": 6,
   "id": "5bd167f6-8e4c-4fc9-95e4-d0aa341e2538",
   "metadata": {},
   "outputs": [
    {
     "data": {
      "text/plain": [
       "__main__.test"
      ]
     },
     "execution_count": 6,
     "metadata": {},
     "output_type": "execute_result"
    }
   ],
   "source": [
    "type(a)"
   ]
  },
  {
   "cell_type": "code",
   "execution_count": 7,
   "id": "1994ce62-ca7c-4829-8144-202f5a8db31d",
   "metadata": {},
   "outputs": [
    {
     "name": "stdout",
     "output_type": "stream",
     "text": [
      "<class '__main__.test'>\n"
     ]
    }
   ],
   "source": [
    "print(type(a))"
   ]
  },
  {
   "cell_type": "code",
   "execution_count": 11,
   "id": "6852a7af-caba-4c78-8955-ca759f9b6ec1",
   "metadata": {},
   "outputs": [],
   "source": [
    "class pwskills:\n",
    "    def welcome_msg(self):\n",
    "        print(\"welcome to the pwskills\")\n",
    "        "
   ]
  },
  {
   "cell_type": "code",
   "execution_count": 12,
   "id": "830e922f-80dd-4276-bf1e-b4fee2682f5a",
   "metadata": {},
   "outputs": [],
   "source": [
    "nitesh= pwskills()"
   ]
  },
  {
   "cell_type": "code",
   "execution_count": 13,
   "id": "0ee0d19f-2b1c-4265-a718-c51646dbf635",
   "metadata": {},
   "outputs": [
    {
     "name": "stdout",
     "output_type": "stream",
     "text": [
      "welcome to the pwskills\n"
     ]
    }
   ],
   "source": [
    "nitesh.welcome_msg()"
   ]
  },
  {
   "cell_type": "code",
   "execution_count": 14,
   "id": "5f4ab232-b55c-40f9-81ca-12b2b897edd1",
   "metadata": {},
   "outputs": [],
   "source": [
    "kumar=pwskills()"
   ]
  },
  {
   "cell_type": "code",
   "execution_count": 15,
   "id": "2a97b3e3-ba35-43f3-8fda-fb56103b30a4",
   "metadata": {},
   "outputs": [
    {
     "name": "stdout",
     "output_type": "stream",
     "text": [
      "welcome to the pwskills\n"
     ]
    }
   ],
   "source": [
    "kumar.welcome_msg()"
   ]
  },
  {
   "cell_type": "code",
   "execution_count": null,
   "id": "39a7aa2d-87d6-4a5b-9350-9813f721b6fc",
   "metadata": {},
   "outputs": [],
   "source": [
    " \"\"\" self is belong to pwskills class and\n",
    "                                                               \"double underscore init double underscore i.e. __init__\" is nothing but \n",
    "                                                               constructor and it is inbuilt function\"\"\""
   ]
  },
  {
   "cell_type": "code",
   "execution_count": 23,
   "id": "c7be6455-6aa8-4d8d-b7fb-5ed9965bad1c",
   "metadata": {},
   "outputs": [],
   "source": [
    "class pwskills1:\n",
    "    def __init__ (self, phone_number, email_id, student_id):  \n",
    "        self.phone_number= phone_number\n",
    "        self.email_id= email_id\n",
    "        self.student_id= student_id\n",
    "        \n",
    "    def returns_student_details(self):\n",
    "         return self.phone_number,self.email_id,self.student_id\n",
    "        \n",
    "           \n",
    "    \n",
    "    \n",
    "    \n",
    "   "
   ]
  },
  {
   "cell_type": "code",
   "execution_count": 28,
   "id": "1154bd63-b5c2-4410-9356-68bf9afd6ffd",
   "metadata": {},
   "outputs": [],
   "source": [
    "nitesh=pwskills1(123456789, \"nk@gmail.com\", 4247)"
   ]
  },
  {
   "cell_type": "code",
   "execution_count": 30,
   "id": "7f4548b6-3255-4e64-a348-90ffba7f778c",
   "metadata": {},
   "outputs": [
    {
     "data": {
      "text/plain": [
       "'nk@gmail.com'"
      ]
     },
     "execution_count": 30,
     "metadata": {},
     "output_type": "execute_result"
    }
   ],
   "source": [
    "nitesh.email_id"
   ]
  },
  {
   "cell_type": "code",
   "execution_count": 31,
   "id": "74252830-d648-4f00-b318-dd6bd06e4751",
   "metadata": {},
   "outputs": [
    {
     "data": {
      "text/plain": [
       "(123456789, 'nk@gmail.com', 4247)"
      ]
     },
     "execution_count": 31,
     "metadata": {},
     "output_type": "execute_result"
    }
   ],
   "source": [
    "nitesh.returns_student_details()"
   ]
  },
  {
   "cell_type": "code",
   "execution_count": null,
   "id": "45d0cb9c-1ea0-4ca4-98ac-1004a6db9937",
   "metadata": {},
   "outputs": [],
   "source": [
    "# let try to remove self and replaced it with the kumar or any other no. or name"
   ]
  },
  {
   "cell_type": "code",
   "execution_count": 33,
   "id": "d3881990-162f-4f5e-91a1-64d9108001c4",
   "metadata": {},
   "outputs": [],
   "source": [
    "class pwskills2:\n",
    "    def __init__ (kumar, phone_number, email_id, student_id):  \n",
    "        kumar.phone_number= phone_number\n",
    "        kumar.email_id= email_id\n",
    "        kumar.student_id= student_id\n",
    "        \n",
    "    def returns_student_details(kumar):\n",
    "         return kumar.phone_number,kumar.email_id,kumar.student_id"
   ]
  },
  {
   "cell_type": "code",
   "execution_count": 34,
   "id": "9e2d7456-b432-42a5-8e7b-8d72e10550b6",
   "metadata": {},
   "outputs": [],
   "source": [
    "rahul= pwskills2(123234567,\"rk@gmail.com\",4567)"
   ]
  },
  {
   "cell_type": "code",
   "execution_count": 36,
   "id": "f049a84f-cde7-43f5-9d2b-589250e5419c",
   "metadata": {},
   "outputs": [
    {
     "data": {
      "text/plain": [
       "123234567"
      ]
     },
     "execution_count": 36,
     "metadata": {},
     "output_type": "execute_result"
    }
   ],
   "source": [
    "rahul.phone_number"
   ]
  },
  {
   "cell_type": "code",
   "execution_count": 38,
   "id": "13b8b96b-267d-4533-b81c-85087c682b53",
   "metadata": {},
   "outputs": [
    {
     "data": {
      "text/plain": [
       "(123234567, 'rk@gmail.com', 4567)"
      ]
     },
     "execution_count": 38,
     "metadata": {},
     "output_type": "execute_result"
    }
   ],
   "source": [
    "rahul.returns_student_details()"
   ]
  },
  {
   "cell_type": "code",
   "execution_count": 49,
   "id": "08824b7f-fef1-4a62-8d5d-18a11b07bb6c",
   "metadata": {},
   "outputs": [],
   "source": [
    "class pwskills3:\n",
    "    def __init__ (kumar, phone_number, email_id, student_id):  \n",
    "        kumar.phone_number1= phone_number # lets try to change phone_number name\n",
    "        kumar.email_id= email_id\n",
    "        kumar.student_id= student_id\n",
    "        \n",
    "    def returns_student_details(kumar):\n",
    "         return kumar.phone_number1,kumar.email_id,kumar.student_id"
   ]
  },
  {
   "cell_type": "code",
   "execution_count": 50,
   "id": "cd63ada6-09ef-498d-976d-c7cca0e84164",
   "metadata": {},
   "outputs": [],
   "source": [
    "aman= pwskills3(1234567,\"am@gmail.com\",6789)"
   ]
  },
  {
   "cell_type": "code",
   "execution_count": 51,
   "id": "8431f164-6c85-4187-84c9-b46e087d8491",
   "metadata": {},
   "outputs": [
    {
     "ename": "AttributeError",
     "evalue": "'pwskills3' object has no attribute 'phone_number'",
     "output_type": "error",
     "traceback": [
      "\u001b[0;31m---------------------------------------------------------------------------\u001b[0m",
      "\u001b[0;31mAttributeError\u001b[0m                            Traceback (most recent call last)",
      "Cell \u001b[0;32mIn[51], line 1\u001b[0m\n\u001b[0;32m----> 1\u001b[0m \u001b[43maman\u001b[49m\u001b[38;5;241;43m.\u001b[39;49m\u001b[43mphone_number\u001b[49m\n",
      "\u001b[0;31mAttributeError\u001b[0m: 'pwskills3' object has no attribute 'phone_number'"
     ]
    }
   ],
   "source": [
    "aman.phone_number # output will give error becuase name of phone_number changed "
   ]
  },
  {
   "cell_type": "code",
   "execution_count": 52,
   "id": "f20209f9-5cfb-4cb0-a9e2-3f8d05db0be9",
   "metadata": {},
   "outputs": [
    {
     "data": {
      "text/plain": [
       "1234567"
      ]
     },
     "execution_count": 52,
     "metadata": {},
     "output_type": "execute_result"
    }
   ],
   "source": [
    "aman.phone_number1"
   ]
  },
  {
   "cell_type": "code",
   "execution_count": null,
   "id": "6e5b91c4-b0e3-4212-bacb-6978a6a041cd",
   "metadata": {},
   "outputs": [],
   "source": []
  }
 ],
 "metadata": {
  "kernelspec": {
   "display_name": "Python 3 (ipykernel)",
   "language": "python",
   "name": "python3"
  },
  "language_info": {
   "codemirror_mode": {
    "name": "ipython",
    "version": 3
   },
   "file_extension": ".py",
   "mimetype": "text/x-python",
   "name": "python",
   "nbconvert_exporter": "python",
   "pygments_lexer": "ipython3",
   "version": "3.10.8"
  }
 },
 "nbformat": 4,
 "nbformat_minor": 5
}
